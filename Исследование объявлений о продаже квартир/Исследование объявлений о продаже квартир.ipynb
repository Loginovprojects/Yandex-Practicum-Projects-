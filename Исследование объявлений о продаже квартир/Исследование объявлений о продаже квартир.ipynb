{
 "cells": [
  {
   "cell_type": "markdown",
   "metadata": {},
   "source": [
    "По каждой квартире на продажу доступны два вида данных. Первые вписаны пользователем, вторые — получены автоматически на основе картографических данных. Например, расстояние до центра, аэропорта, ближайшего парка и водоёма."
   ]
  },
  {
   "cell_type": "markdown",
   "metadata": {},
   "source": [
    "### Откройте файл с данными и изучите общую информацию. "
   ]
  },
  {
   "cell_type": "code",
   "execution_count": 2,
   "metadata": {
    "scrolled": false
   },
   "outputs": [
    {
     "data": {
      "text/html": [
       "<div>\n",
       "<style scoped>\n",
       "    .dataframe tbody tr th:only-of-type {\n",
       "        vertical-align: middle;\n",
       "    }\n",
       "\n",
       "    .dataframe tbody tr th {\n",
       "        vertical-align: top;\n",
       "    }\n",
       "\n",
       "    .dataframe thead th {\n",
       "        text-align: right;\n",
       "    }\n",
       "</style>\n",
       "<table border=\"1\" class=\"dataframe\">\n",
       "  <thead>\n",
       "    <tr style=\"text-align: right;\">\n",
       "      <th></th>\n",
       "      <th>total_images</th>\n",
       "      <th>last_price</th>\n",
       "      <th>total_area</th>\n",
       "      <th>first_day_exposition</th>\n",
       "      <th>rooms</th>\n",
       "      <th>ceiling_height</th>\n",
       "      <th>floors_total</th>\n",
       "      <th>living_area</th>\n",
       "      <th>floor</th>\n",
       "      <th>is_apartment</th>\n",
       "      <th>...</th>\n",
       "      <th>kitchen_area</th>\n",
       "      <th>balcony</th>\n",
       "      <th>locality_name</th>\n",
       "      <th>airports_nearest</th>\n",
       "      <th>cityCenters_nearest</th>\n",
       "      <th>parks_around3000</th>\n",
       "      <th>parks_nearest</th>\n",
       "      <th>ponds_around3000</th>\n",
       "      <th>ponds_nearest</th>\n",
       "      <th>days_exposition</th>\n",
       "    </tr>\n",
       "  </thead>\n",
       "  <tbody>\n",
       "    <tr>\n",
       "      <th>0</th>\n",
       "      <td>20</td>\n",
       "      <td>13000000.0</td>\n",
       "      <td>108.00</td>\n",
       "      <td>2019-03-07T00:00:00</td>\n",
       "      <td>3</td>\n",
       "      <td>2.70</td>\n",
       "      <td>16.0</td>\n",
       "      <td>51.0</td>\n",
       "      <td>8</td>\n",
       "      <td>NaN</td>\n",
       "      <td>...</td>\n",
       "      <td>25.00</td>\n",
       "      <td>NaN</td>\n",
       "      <td>Санкт-Петербург</td>\n",
       "      <td>18863.0</td>\n",
       "      <td>16028.0</td>\n",
       "      <td>1.0</td>\n",
       "      <td>482.0</td>\n",
       "      <td>2.0</td>\n",
       "      <td>755.0</td>\n",
       "      <td>NaN</td>\n",
       "    </tr>\n",
       "    <tr>\n",
       "      <th>1</th>\n",
       "      <td>7</td>\n",
       "      <td>3350000.0</td>\n",
       "      <td>40.40</td>\n",
       "      <td>2018-12-04T00:00:00</td>\n",
       "      <td>1</td>\n",
       "      <td>NaN</td>\n",
       "      <td>11.0</td>\n",
       "      <td>18.6</td>\n",
       "      <td>1</td>\n",
       "      <td>NaN</td>\n",
       "      <td>...</td>\n",
       "      <td>11.00</td>\n",
       "      <td>2.0</td>\n",
       "      <td>посёлок Шушары</td>\n",
       "      <td>12817.0</td>\n",
       "      <td>18603.0</td>\n",
       "      <td>0.0</td>\n",
       "      <td>NaN</td>\n",
       "      <td>0.0</td>\n",
       "      <td>NaN</td>\n",
       "      <td>81.0</td>\n",
       "    </tr>\n",
       "    <tr>\n",
       "      <th>2</th>\n",
       "      <td>10</td>\n",
       "      <td>5196000.0</td>\n",
       "      <td>56.00</td>\n",
       "      <td>2015-08-20T00:00:00</td>\n",
       "      <td>2</td>\n",
       "      <td>NaN</td>\n",
       "      <td>5.0</td>\n",
       "      <td>34.3</td>\n",
       "      <td>4</td>\n",
       "      <td>NaN</td>\n",
       "      <td>...</td>\n",
       "      <td>8.30</td>\n",
       "      <td>0.0</td>\n",
       "      <td>Санкт-Петербург</td>\n",
       "      <td>21741.0</td>\n",
       "      <td>13933.0</td>\n",
       "      <td>1.0</td>\n",
       "      <td>90.0</td>\n",
       "      <td>2.0</td>\n",
       "      <td>574.0</td>\n",
       "      <td>558.0</td>\n",
       "    </tr>\n",
       "    <tr>\n",
       "      <th>3</th>\n",
       "      <td>0</td>\n",
       "      <td>64900000.0</td>\n",
       "      <td>159.00</td>\n",
       "      <td>2015-07-24T00:00:00</td>\n",
       "      <td>3</td>\n",
       "      <td>NaN</td>\n",
       "      <td>14.0</td>\n",
       "      <td>NaN</td>\n",
       "      <td>9</td>\n",
       "      <td>NaN</td>\n",
       "      <td>...</td>\n",
       "      <td>NaN</td>\n",
       "      <td>0.0</td>\n",
       "      <td>Санкт-Петербург</td>\n",
       "      <td>28098.0</td>\n",
       "      <td>6800.0</td>\n",
       "      <td>2.0</td>\n",
       "      <td>84.0</td>\n",
       "      <td>3.0</td>\n",
       "      <td>234.0</td>\n",
       "      <td>424.0</td>\n",
       "    </tr>\n",
       "    <tr>\n",
       "      <th>4</th>\n",
       "      <td>2</td>\n",
       "      <td>10000000.0</td>\n",
       "      <td>100.00</td>\n",
       "      <td>2018-06-19T00:00:00</td>\n",
       "      <td>2</td>\n",
       "      <td>3.03</td>\n",
       "      <td>14.0</td>\n",
       "      <td>32.0</td>\n",
       "      <td>13</td>\n",
       "      <td>NaN</td>\n",
       "      <td>...</td>\n",
       "      <td>41.00</td>\n",
       "      <td>NaN</td>\n",
       "      <td>Санкт-Петербург</td>\n",
       "      <td>31856.0</td>\n",
       "      <td>8098.0</td>\n",
       "      <td>2.0</td>\n",
       "      <td>112.0</td>\n",
       "      <td>1.0</td>\n",
       "      <td>48.0</td>\n",
       "      <td>121.0</td>\n",
       "    </tr>\n",
       "    <tr>\n",
       "      <th>...</th>\n",
       "      <td>...</td>\n",
       "      <td>...</td>\n",
       "      <td>...</td>\n",
       "      <td>...</td>\n",
       "      <td>...</td>\n",
       "      <td>...</td>\n",
       "      <td>...</td>\n",
       "      <td>...</td>\n",
       "      <td>...</td>\n",
       "      <td>...</td>\n",
       "      <td>...</td>\n",
       "      <td>...</td>\n",
       "      <td>...</td>\n",
       "      <td>...</td>\n",
       "      <td>...</td>\n",
       "      <td>...</td>\n",
       "      <td>...</td>\n",
       "      <td>...</td>\n",
       "      <td>...</td>\n",
       "      <td>...</td>\n",
       "      <td>...</td>\n",
       "    </tr>\n",
       "    <tr>\n",
       "      <th>23694</th>\n",
       "      <td>9</td>\n",
       "      <td>9700000.0</td>\n",
       "      <td>133.81</td>\n",
       "      <td>2017-03-21T00:00:00</td>\n",
       "      <td>3</td>\n",
       "      <td>3.70</td>\n",
       "      <td>5.0</td>\n",
       "      <td>73.3</td>\n",
       "      <td>3</td>\n",
       "      <td>NaN</td>\n",
       "      <td>...</td>\n",
       "      <td>13.83</td>\n",
       "      <td>NaN</td>\n",
       "      <td>Санкт-Петербург</td>\n",
       "      <td>24665.0</td>\n",
       "      <td>4232.0</td>\n",
       "      <td>1.0</td>\n",
       "      <td>796.0</td>\n",
       "      <td>3.0</td>\n",
       "      <td>381.0</td>\n",
       "      <td>NaN</td>\n",
       "    </tr>\n",
       "    <tr>\n",
       "      <th>23695</th>\n",
       "      <td>14</td>\n",
       "      <td>3100000.0</td>\n",
       "      <td>59.00</td>\n",
       "      <td>2018-01-15T00:00:00</td>\n",
       "      <td>3</td>\n",
       "      <td>NaN</td>\n",
       "      <td>5.0</td>\n",
       "      <td>38.0</td>\n",
       "      <td>4</td>\n",
       "      <td>NaN</td>\n",
       "      <td>...</td>\n",
       "      <td>8.50</td>\n",
       "      <td>NaN</td>\n",
       "      <td>Тосно</td>\n",
       "      <td>NaN</td>\n",
       "      <td>NaN</td>\n",
       "      <td>NaN</td>\n",
       "      <td>NaN</td>\n",
       "      <td>NaN</td>\n",
       "      <td>NaN</td>\n",
       "      <td>45.0</td>\n",
       "    </tr>\n",
       "    <tr>\n",
       "      <th>23696</th>\n",
       "      <td>18</td>\n",
       "      <td>2500000.0</td>\n",
       "      <td>56.70</td>\n",
       "      <td>2018-02-11T00:00:00</td>\n",
       "      <td>2</td>\n",
       "      <td>NaN</td>\n",
       "      <td>3.0</td>\n",
       "      <td>29.7</td>\n",
       "      <td>1</td>\n",
       "      <td>NaN</td>\n",
       "      <td>...</td>\n",
       "      <td>NaN</td>\n",
       "      <td>NaN</td>\n",
       "      <td>село Рождествено</td>\n",
       "      <td>NaN</td>\n",
       "      <td>NaN</td>\n",
       "      <td>NaN</td>\n",
       "      <td>NaN</td>\n",
       "      <td>NaN</td>\n",
       "      <td>NaN</td>\n",
       "      <td>NaN</td>\n",
       "    </tr>\n",
       "    <tr>\n",
       "      <th>23697</th>\n",
       "      <td>13</td>\n",
       "      <td>11475000.0</td>\n",
       "      <td>76.75</td>\n",
       "      <td>2017-03-28T00:00:00</td>\n",
       "      <td>2</td>\n",
       "      <td>3.00</td>\n",
       "      <td>17.0</td>\n",
       "      <td>NaN</td>\n",
       "      <td>12</td>\n",
       "      <td>NaN</td>\n",
       "      <td>...</td>\n",
       "      <td>23.30</td>\n",
       "      <td>2.0</td>\n",
       "      <td>Санкт-Петербург</td>\n",
       "      <td>39140.0</td>\n",
       "      <td>10364.0</td>\n",
       "      <td>2.0</td>\n",
       "      <td>173.0</td>\n",
       "      <td>3.0</td>\n",
       "      <td>196.0</td>\n",
       "      <td>602.0</td>\n",
       "    </tr>\n",
       "    <tr>\n",
       "      <th>23698</th>\n",
       "      <td>4</td>\n",
       "      <td>1350000.0</td>\n",
       "      <td>32.30</td>\n",
       "      <td>2017-07-21T00:00:00</td>\n",
       "      <td>1</td>\n",
       "      <td>2.50</td>\n",
       "      <td>5.0</td>\n",
       "      <td>12.3</td>\n",
       "      <td>1</td>\n",
       "      <td>NaN</td>\n",
       "      <td>...</td>\n",
       "      <td>9.00</td>\n",
       "      <td>NaN</td>\n",
       "      <td>поселок Новый Учхоз</td>\n",
       "      <td>NaN</td>\n",
       "      <td>NaN</td>\n",
       "      <td>NaN</td>\n",
       "      <td>NaN</td>\n",
       "      <td>NaN</td>\n",
       "      <td>NaN</td>\n",
       "      <td>NaN</td>\n",
       "    </tr>\n",
       "  </tbody>\n",
       "</table>\n",
       "<p>23699 rows × 22 columns</p>\n",
       "</div>"
      ],
      "text/plain": [
       "       total_images  last_price  total_area first_day_exposition  rooms  \\\n",
       "0                20  13000000.0      108.00  2019-03-07T00:00:00      3   \n",
       "1                 7   3350000.0       40.40  2018-12-04T00:00:00      1   \n",
       "2                10   5196000.0       56.00  2015-08-20T00:00:00      2   \n",
       "3                 0  64900000.0      159.00  2015-07-24T00:00:00      3   \n",
       "4                 2  10000000.0      100.00  2018-06-19T00:00:00      2   \n",
       "...             ...         ...         ...                  ...    ...   \n",
       "23694             9   9700000.0      133.81  2017-03-21T00:00:00      3   \n",
       "23695            14   3100000.0       59.00  2018-01-15T00:00:00      3   \n",
       "23696            18   2500000.0       56.70  2018-02-11T00:00:00      2   \n",
       "23697            13  11475000.0       76.75  2017-03-28T00:00:00      2   \n",
       "23698             4   1350000.0       32.30  2017-07-21T00:00:00      1   \n",
       "\n",
       "       ceiling_height  floors_total  living_area  floor is_apartment  ...  \\\n",
       "0                2.70          16.0         51.0      8          NaN  ...   \n",
       "1                 NaN          11.0         18.6      1          NaN  ...   \n",
       "2                 NaN           5.0         34.3      4          NaN  ...   \n",
       "3                 NaN          14.0          NaN      9          NaN  ...   \n",
       "4                3.03          14.0         32.0     13          NaN  ...   \n",
       "...               ...           ...          ...    ...          ...  ...   \n",
       "23694            3.70           5.0         73.3      3          NaN  ...   \n",
       "23695             NaN           5.0         38.0      4          NaN  ...   \n",
       "23696             NaN           3.0         29.7      1          NaN  ...   \n",
       "23697            3.00          17.0          NaN     12          NaN  ...   \n",
       "23698            2.50           5.0         12.3      1          NaN  ...   \n",
       "\n",
       "       kitchen_area  balcony        locality_name  airports_nearest  \\\n",
       "0             25.00      NaN      Санкт-Петербург           18863.0   \n",
       "1             11.00      2.0       посёлок Шушары           12817.0   \n",
       "2              8.30      0.0      Санкт-Петербург           21741.0   \n",
       "3               NaN      0.0      Санкт-Петербург           28098.0   \n",
       "4             41.00      NaN      Санкт-Петербург           31856.0   \n",
       "...             ...      ...                  ...               ...   \n",
       "23694         13.83      NaN      Санкт-Петербург           24665.0   \n",
       "23695          8.50      NaN                Тосно               NaN   \n",
       "23696           NaN      NaN     село Рождествено               NaN   \n",
       "23697         23.30      2.0      Санкт-Петербург           39140.0   \n",
       "23698          9.00      NaN  поселок Новый Учхоз               NaN   \n",
       "\n",
       "      cityCenters_nearest  parks_around3000  parks_nearest  ponds_around3000  \\\n",
       "0                 16028.0               1.0          482.0               2.0   \n",
       "1                 18603.0               0.0            NaN               0.0   \n",
       "2                 13933.0               1.0           90.0               2.0   \n",
       "3                  6800.0               2.0           84.0               3.0   \n",
       "4                  8098.0               2.0          112.0               1.0   \n",
       "...                   ...               ...            ...               ...   \n",
       "23694              4232.0               1.0          796.0               3.0   \n",
       "23695                 NaN               NaN            NaN               NaN   \n",
       "23696                 NaN               NaN            NaN               NaN   \n",
       "23697             10364.0               2.0          173.0               3.0   \n",
       "23698                 NaN               NaN            NaN               NaN   \n",
       "\n",
       "       ponds_nearest  days_exposition  \n",
       "0              755.0              NaN  \n",
       "1                NaN             81.0  \n",
       "2              574.0            558.0  \n",
       "3              234.0            424.0  \n",
       "4               48.0            121.0  \n",
       "...              ...              ...  \n",
       "23694          381.0              NaN  \n",
       "23695            NaN             45.0  \n",
       "23696            NaN              NaN  \n",
       "23697          196.0            602.0  \n",
       "23698            NaN              NaN  \n",
       "\n",
       "[23699 rows x 22 columns]"
      ]
     },
     "metadata": {},
     "output_type": "display_data"
    },
    {
     "name": "stdout",
     "output_type": "stream",
     "text": [
      "<class 'pandas.core.frame.DataFrame'>\n",
      "RangeIndex: 23699 entries, 0 to 23698\n",
      "Data columns (total 22 columns):\n",
      " #   Column                Non-Null Count  Dtype  \n",
      "---  ------                --------------  -----  \n",
      " 0   total_images          23699 non-null  int64  \n",
      " 1   last_price            23699 non-null  float64\n",
      " 2   total_area            23699 non-null  float64\n",
      " 3   first_day_exposition  23699 non-null  object \n",
      " 4   rooms                 23699 non-null  int64  \n",
      " 5   ceiling_height        14504 non-null  float64\n",
      " 6   floors_total          23613 non-null  float64\n",
      " 7   living_area           21796 non-null  float64\n",
      " 8   floor                 23699 non-null  int64  \n",
      " 9   is_apartment          2775 non-null   object \n",
      " 10  studio                23699 non-null  bool   \n",
      " 11  open_plan             23699 non-null  bool   \n",
      " 12  kitchen_area          21421 non-null  float64\n",
      " 13  balcony               12180 non-null  float64\n",
      " 14  locality_name         23650 non-null  object \n",
      " 15  airports_nearest      18157 non-null  float64\n",
      " 16  cityCenters_nearest   18180 non-null  float64\n",
      " 17  parks_around3000      18181 non-null  float64\n",
      " 18  parks_nearest         8079 non-null   float64\n",
      " 19  ponds_around3000      18181 non-null  float64\n",
      " 20  ponds_nearest         9110 non-null   float64\n",
      " 21  days_exposition       20518 non-null  float64\n",
      "dtypes: bool(2), float64(14), int64(3), object(3)\n",
      "memory usage: 3.7+ MB\n"
     ]
    },
    {
     "data": {
      "text/plain": [
       "None"
      ]
     },
     "metadata": {},
     "output_type": "display_data"
    },
    {
     "data": {
      "text/plain": [
       "array([[<AxesSubplot:title={'center':'total_images'}>,\n",
       "        <AxesSubplot:title={'center':'last_price'}>,\n",
       "        <AxesSubplot:title={'center':'total_area'}>,\n",
       "        <AxesSubplot:title={'center':'rooms'}>],\n",
       "       [<AxesSubplot:title={'center':'ceiling_height'}>,\n",
       "        <AxesSubplot:title={'center':'floors_total'}>,\n",
       "        <AxesSubplot:title={'center':'living_area'}>,\n",
       "        <AxesSubplot:title={'center':'floor'}>],\n",
       "       [<AxesSubplot:title={'center':'kitchen_area'}>,\n",
       "        <AxesSubplot:title={'center':'balcony'}>,\n",
       "        <AxesSubplot:title={'center':'airports_nearest'}>,\n",
       "        <AxesSubplot:title={'center':'cityCenters_nearest'}>],\n",
       "       [<AxesSubplot:title={'center':'parks_around3000'}>,\n",
       "        <AxesSubplot:title={'center':'parks_nearest'}>,\n",
       "        <AxesSubplot:title={'center':'ponds_around3000'}>,\n",
       "        <AxesSubplot:title={'center':'ponds_nearest'}>],\n",
       "       [<AxesSubplot:title={'center':'days_exposition'}>, <AxesSubplot:>,\n",
       "        <AxesSubplot:>, <AxesSubplot:>]], dtype=object)"
      ]
     },
     "execution_count": 2,
     "metadata": {},
     "output_type": "execute_result"
    },
    {
     "data": {
      "image/png": "[encoded data removed]",
      "text/plain": [
       "<Figure size 1440x1440 with 20 Axes>"
      ]
     },
     "metadata": {
      "needs_background": "light"
     },
     "output_type": "display_data"
    }
   ],
   "source": [
    "import pandas as pd \n",
    "\n",
    "data = pd.read_csv('/datasets/real_estate_data.csv',sep = '\\t')\n",
    "#файл открывался со значениями в одной колонке, команда-разделитель sep помогла привести таблицу в нужный вид\n",
    "\n",
    "display(data)\n",
    "display(data.info())\n",
    "data.hist(figsize=(20,20))\n",
    "\n",
    "\n"
   ]
  },
  {
   "cell_type": "markdown",
   "metadata": {},
   "source": [
    "### Предобработка данных"
   ]
  },
  {
   "cell_type": "markdown",
   "metadata": {},
   "source": [
    "Первостепенно необходимо заполнить пропуски в данных "
   ]
  },
  {
   "cell_type": "code",
   "execution_count": 3,
   "metadata": {},
   "outputs": [
    {
     "data": {
      "text/plain": [
       "total_images                0\n",
       "last_price                  0\n",
       "total_area                  0\n",
       "first_day_exposition        0\n",
       "rooms                       0\n",
       "ceiling_height           9195\n",
       "floors_total               86\n",
       "living_area              1903\n",
       "floor                       0\n",
       "is_apartment            20924\n",
       "studio                      0\n",
       "open_plan                   0\n",
       "kitchen_area             2278\n",
       "balcony                 11519\n",
       "locality_name              49\n",
       "airports_nearest         5542\n",
       "cityCenters_nearest      5519\n",
       "parks_around3000         5518\n",
       "parks_nearest           15620\n",
       "ponds_around3000         5518\n",
       "ponds_nearest           14589\n",
       "days_exposition          3181\n",
       "dtype: int64"
      ]
     },
     "metadata": {},
     "output_type": "display_data"
    },
    {
     "data": {
      "text/html": [
       "<style  type=\"text/css\" >\n",
       "#T_24311_row0_col0,#T_24311_row1_col0,#T_24311_row2_col0,#T_24311_row3_col0,#T_24311_row4_col0,#T_24311_row6_col0,#T_24311_row8_col0,#T_24311_row10_col0,#T_24311_row11_col0,#T_24311_row14_col0{\n",
       "            background-color:  #3b4cc0;\n",
       "            color:  #f1f1f1;\n",
       "        }#T_24311_row5_col0{\n",
       "            background-color:  #cdd9ec;\n",
       "            color:  #000000;\n",
       "        }#T_24311_row7_col0{\n",
       "            background-color:  #5673e0;\n",
       "            color:  #000000;\n",
       "        }#T_24311_row9_col0{\n",
       "            background-color:  #b40426;\n",
       "            color:  #f1f1f1;\n",
       "        }#T_24311_row12_col0{\n",
       "            background-color:  #5e7de7;\n",
       "            color:  #000000;\n",
       "        }#T_24311_row13_col0{\n",
       "            background-color:  #ead4c8;\n",
       "            color:  #000000;\n",
       "        }#T_24311_row15_col0,#T_24311_row16_col0,#T_24311_row17_col0,#T_24311_row19_col0{\n",
       "            background-color:  #90b2fe;\n",
       "            color:  #000000;\n",
       "        }#T_24311_row18_col0{\n",
       "            background-color:  #f4987a;\n",
       "            color:  #000000;\n",
       "        }#T_24311_row20_col0{\n",
       "            background-color:  #f7aa8c;\n",
       "            color:  #000000;\n",
       "        }#T_24311_row21_col0{\n",
       "            background-color:  #688aef;\n",
       "            color:  #000000;\n",
       "        }</style><table id=\"T_24311_\" ><thead>    <tr>        <th class=\"blank level0\" ></th>        <th class=\"col_heading level0 col0\" >0</th>    </tr></thead><tbody>\n",
       "                <tr>\n",
       "                        <th id=\"T_24311_level0_row0\" class=\"row_heading level0 row0\" >total_images</th>\n",
       "                        <td id=\"T_24311_row0_col0\" class=\"data row0 col0\" >0.000000</td>\n",
       "            </tr>\n",
       "            <tr>\n",
       "                        <th id=\"T_24311_level0_row1\" class=\"row_heading level0 row1\" >last_price</th>\n",
       "                        <td id=\"T_24311_row1_col0\" class=\"data row1 col0\" >0.000000</td>\n",
       "            </tr>\n",
       "            <tr>\n",
       "                        <th id=\"T_24311_level0_row2\" class=\"row_heading level0 row2\" >total_area</th>\n",
       "                        <td id=\"T_24311_row2_col0\" class=\"data row2 col0\" >0.000000</td>\n",
       "            </tr>\n",
       "            <tr>\n",
       "                        <th id=\"T_24311_level0_row3\" class=\"row_heading level0 row3\" >first_day_exposition</th>\n",
       "                        <td id=\"T_24311_row3_col0\" class=\"data row3 col0\" >0.000000</td>\n",
       "            </tr>\n",
       "            <tr>\n",
       "                        <th id=\"T_24311_level0_row4\" class=\"row_heading level0 row4\" >rooms</th>\n",
       "                        <td id=\"T_24311_row4_col0\" class=\"data row4 col0\" >0.000000</td>\n",
       "            </tr>\n",
       "            <tr>\n",
       "                        <th id=\"T_24311_level0_row5\" class=\"row_heading level0 row5\" >ceiling_height</th>\n",
       "                        <td id=\"T_24311_row5_col0\" class=\"data row5 col0\" >39.000000</td>\n",
       "            </tr>\n",
       "            <tr>\n",
       "                        <th id=\"T_24311_level0_row6\" class=\"row_heading level0 row6\" >floors_total</th>\n",
       "                        <td id=\"T_24311_row6_col0\" class=\"data row6 col0\" >0.000000</td>\n",
       "            </tr>\n",
       "            <tr>\n",
       "                        <th id=\"T_24311_level0_row7\" class=\"row_heading level0 row7\" >living_area</th>\n",
       "                        <td id=\"T_24311_row7_col0\" class=\"data row7 col0\" >8.000000</td>\n",
       "            </tr>\n",
       "            <tr>\n",
       "                        <th id=\"T_24311_level0_row8\" class=\"row_heading level0 row8\" >floor</th>\n",
       "                        <td id=\"T_24311_row8_col0\" class=\"data row8 col0\" >0.000000</td>\n",
       "            </tr>\n",
       "            <tr>\n",
       "                        <th id=\"T_24311_level0_row9\" class=\"row_heading level0 row9\" >is_apartment</th>\n",
       "                        <td id=\"T_24311_row9_col0\" class=\"data row9 col0\" >88.000000</td>\n",
       "            </tr>\n",
       "            <tr>\n",
       "                        <th id=\"T_24311_level0_row10\" class=\"row_heading level0 row10\" >studio</th>\n",
       "                        <td id=\"T_24311_row10_col0\" class=\"data row10 col0\" >0.000000</td>\n",
       "            </tr>\n",
       "            <tr>\n",
       "                        <th id=\"T_24311_level0_row11\" class=\"row_heading level0 row11\" >open_plan</th>\n",
       "                        <td id=\"T_24311_row11_col0\" class=\"data row11 col0\" >0.000000</td>\n",
       "            </tr>\n",
       "            <tr>\n",
       "                        <th id=\"T_24311_level0_row12\" class=\"row_heading level0 row12\" >kitchen_area</th>\n",
       "                        <td id=\"T_24311_row12_col0\" class=\"data row12 col0\" >10.000000</td>\n",
       "            </tr>\n",
       "            <tr>\n",
       "                        <th id=\"T_24311_level0_row13\" class=\"row_heading level0 row13\" >balcony</th>\n",
       "                        <td id=\"T_24311_row13_col0\" class=\"data row13 col0\" >49.000000</td>\n",
       "            </tr>\n",
       "            <tr>\n",
       "                        <th id=\"T_24311_level0_row14\" class=\"row_heading level0 row14\" >locality_name</th>\n",
       "                        <td id=\"T_24311_row14_col0\" class=\"data row14 col0\" >0.000000</td>\n",
       "            </tr>\n",
       "            <tr>\n",
       "                        <th id=\"T_24311_level0_row15\" class=\"row_heading level0 row15\" >airports_nearest</th>\n",
       "                        <td id=\"T_24311_row15_col0\" class=\"data row15 col0\" >23.000000</td>\n",
       "            </tr>\n",
       "            <tr>\n",
       "                        <th id=\"T_24311_level0_row16\" class=\"row_heading level0 row16\" >cityCenters_nearest</th>\n",
       "                        <td id=\"T_24311_row16_col0\" class=\"data row16 col0\" >23.000000</td>\n",
       "            </tr>\n",
       "            <tr>\n",
       "                        <th id=\"T_24311_level0_row17\" class=\"row_heading level0 row17\" >parks_around3000</th>\n",
       "                        <td id=\"T_24311_row17_col0\" class=\"data row17 col0\" >23.000000</td>\n",
       "            </tr>\n",
       "            <tr>\n",
       "                        <th id=\"T_24311_level0_row18\" class=\"row_heading level0 row18\" >parks_nearest</th>\n",
       "                        <td id=\"T_24311_row18_col0\" class=\"data row18 col0\" >66.000000</td>\n",
       "            </tr>\n",
       "            <tr>\n",
       "                        <th id=\"T_24311_level0_row19\" class=\"row_heading level0 row19\" >ponds_around3000</th>\n",
       "                        <td id=\"T_24311_row19_col0\" class=\"data row19 col0\" >23.000000</td>\n",
       "            </tr>\n",
       "            <tr>\n",
       "                        <th id=\"T_24311_level0_row20\" class=\"row_heading level0 row20\" >ponds_nearest</th>\n",
       "                        <td id=\"T_24311_row20_col0\" class=\"data row20 col0\" >62.000000</td>\n",
       "            </tr>\n",
       "            <tr>\n",
       "                        <th id=\"T_24311_level0_row21\" class=\"row_heading level0 row21\" >days_exposition</th>\n",
       "                        <td id=\"T_24311_row21_col0\" class=\"data row21 col0\" >13.000000</td>\n",
       "            </tr>\n",
       "    </tbody></table>"
      ],
      "text/plain": [
       "<pandas.io.formats.style.Styler at 0x7f8c453dd970>"
      ]
     },
     "execution_count": 3,
     "metadata": {},
     "output_type": "execute_result"
    }
   ],
   "source": [
    "display(data.isna().sum()) #посчитаем общее количество пропущенных значений в столбцах \n",
    "pd.DataFrame(round(data.isna().mean()*100,)).style.background_gradient('coolwarm')"
   ]
  },
  {
   "cell_type": "markdown",
   "metadata": {},
   "source": [
    "Исходя из подсчета и полученных данных, первым для обработки пропущенных значений является столбец 'ceiling_height'\n",
    "В нем 9195 пропущенных значений "
   ]
  },
  {
   "cell_type": "code",
   "execution_count": 4,
   "metadata": {},
   "outputs": [
    {
     "data": {
      "text/plain": [
       "0    2.700000\n",
       "1    2.771499\n",
       "2    2.771499\n",
       "3    2.771499\n",
       "4    3.030000\n",
       "Name: ceiling_height, dtype: float64"
      ]
     },
     "metadata": {},
     "output_type": "display_data"
    },
    {
     "name": "stdout",
     "output_type": "stream",
     "text": [
      "___________\n"
     ]
    },
    {
     "data": {
      "text/plain": [
       "4.650000       1\n",
       "5.000000       1\n",
       "1.750000       1\n",
       "3.680000       1\n",
       "4.800000       1\n",
       "            ... \n",
       "3.000000    1112\n",
       "2.700000    1574\n",
       "2.600000    1646\n",
       "2.500000    3515\n",
       "2.771499    9195\n",
       "Name: ceiling_height, Length: 184, dtype: int64"
      ]
     },
     "metadata": {},
     "output_type": "display_data"
    },
    {
     "name": "stdout",
     "output_type": "stream",
     "text": [
      "___________\n"
     ]
    },
    {
     "data": {
      "text/plain": [
       "<AxesSubplot:>"
      ]
     },
     "execution_count": 4,
     "metadata": {},
     "output_type": "execute_result"
    },
    {
     "data": {
      "image/png": "[encoded data removed]",
      "text/plain": [
       "<Figure size 360x360 with 1 Axes>"
      ]
     },
     "metadata": {
      "needs_background": "light"
     },
     "output_type": "display_data"
    }
   ],
   "source": [
    "#заполним пропуски в столбце ceiling_height медианным значением стобца\n",
    "median = data['ceiling_height'].mean()\n",
    "data['ceiling_height'] = data['ceiling_height'].fillna(median)\n",
    "display(data['ceiling_height'].head()) #проверим, чтобы медианное значение разместилось в столбце верно\n",
    "print('___________')\n",
    "display(data['ceiling_height'].value_counts().sort_values()) #проверим, чтобы медианное значение разместилось в столбце верно\n",
    "print('___________')\n",
    "data['ceiling_height'].hist(figsize=(5,5)) # на графике теперь верное количество значений для проведения анализа\n"
   ]
  },
  {
   "cell_type": "markdown",
   "metadata": {},
   "source": [
    "Следующий столбец для обработки пропущенных значений - floors_total\n",
    "В нем 86 пропущенных значений \n",
    "86/23699 = 0.004% \n",
    "Можно смело убрать значения без потери качества анализа данных \n",
    "Заодно уберем небольшое количество пропущенных значений из столбца - locality_name  "
   ]
  },
  {
   "cell_type": "code",
   "execution_count": 5,
   "metadata": {
    "scrolled": true
   },
   "outputs": [
    {
     "name": "stdout",
     "output_type": "stream",
     "text": [
      "total_images                0\n",
      "last_price                  0\n",
      "total_area                  0\n",
      "first_day_exposition        0\n",
      "rooms                       0\n",
      "ceiling_height              0\n",
      "floors_total                0\n",
      "living_area              1865\n",
      "floor                       0\n",
      "is_apartment            20805\n",
      "studio                      0\n",
      "open_plan                   0\n",
      "kitchen_area             2222\n",
      "balcony                 11475\n",
      "locality_name               0\n",
      "airports_nearest         5524\n",
      "cityCenters_nearest      5501\n",
      "parks_around3000         5500\n",
      "parks_nearest           15535\n",
      "ponds_around3000         5500\n",
      "ponds_nearest           14529\n",
      "days_exposition          3171\n",
      "dtype: int64\n"
     ]
    }
   ],
   "source": [
    "data = data.dropna(subset=['floors_total'])\n",
    "data = data.dropna(subset=['locality_name'])\n",
    "print(data.isna().sum()) #проверка \n"
   ]
  },
  {
   "cell_type": "markdown",
   "metadata": {},
   "source": [
    "Следующий столбец для обработки пропущенных значений - living_area (1865 пропущенных значений) а также kitchen_area, как пространство одного типа данных\n"
   ]
  },
  {
   "cell_type": "code",
   "execution_count": 6,
   "metadata": {},
   "outputs": [],
   "source": [
    "#Сначала в данные добавляем столбец с отношошением площадей:\n",
    "#data['total_total'] = (data['kitchen_area']+data['living_area'])/data['total_area']\n",
    "#index = data['living_area'].isna()\n",
    "#display(data['total_total'].isna().sum())\n",
    "#data.loc[index, 'living_area'] = data['total_total']*data.loc[index, 'total_area']\n",
    "#display(data['living_area'].isna().sum())\n",
    "\n",
    "#У меня не получилось реализовать логику, но на ревью, может быть, вы сможете подсказать мне, где была ошибка, я хотел заменить пропуски на произведение средней доли на известную площадь\n",
    "\n"
   ]
  },
  {
   "cell_type": "code",
   "execution_count": 7,
   "metadata": {},
   "outputs": [
    {
     "data": {
      "text/html": [
       "<div>\n",
       "<style scoped>\n",
       "    .dataframe tbody tr th:only-of-type {\n",
       "        vertical-align: middle;\n",
       "    }\n",
       "\n",
       "    .dataframe tbody tr th {\n",
       "        vertical-align: top;\n",
       "    }\n",
       "\n",
       "    .dataframe thead th {\n",
       "        text-align: right;\n",
       "    }\n",
       "</style>\n",
       "<table border=\"1\" class=\"dataframe\">\n",
       "  <thead>\n",
       "    <tr style=\"text-align: right;\">\n",
       "      <th></th>\n",
       "      <th>kitchen_area</th>\n",
       "      <th>living_area</th>\n",
       "    </tr>\n",
       "    <tr>\n",
       "      <th>rooms</th>\n",
       "      <th></th>\n",
       "      <th></th>\n",
       "    </tr>\n",
       "  </thead>\n",
       "  <tbody>\n",
       "    <tr>\n",
       "      <th>0</th>\n",
       "      <td>NaN</td>\n",
       "      <td>18.000</td>\n",
       "    </tr>\n",
       "    <tr>\n",
       "      <th>1</th>\n",
       "      <td>9.00</td>\n",
       "      <td>17.600</td>\n",
       "    </tr>\n",
       "    <tr>\n",
       "      <th>2</th>\n",
       "      <td>8.70</td>\n",
       "      <td>30.500</td>\n",
       "    </tr>\n",
       "    <tr>\n",
       "      <th>3</th>\n",
       "      <td>9.50</td>\n",
       "      <td>45.000</td>\n",
       "    </tr>\n",
       "    <tr>\n",
       "      <th>4</th>\n",
       "      <td>11.00</td>\n",
       "      <td>63.650</td>\n",
       "    </tr>\n",
       "    <tr>\n",
       "      <th>5</th>\n",
       "      <td>15.10</td>\n",
       "      <td>91.785</td>\n",
       "    </tr>\n",
       "    <tr>\n",
       "      <th>6</th>\n",
       "      <td>19.75</td>\n",
       "      <td>124.400</td>\n",
       "    </tr>\n",
       "    <tr>\n",
       "      <th>7</th>\n",
       "      <td>20.00</td>\n",
       "      <td>145.000</td>\n",
       "    </tr>\n",
       "    <tr>\n",
       "      <th>8</th>\n",
       "      <td>25.00</td>\n",
       "      <td>161.000</td>\n",
       "    </tr>\n",
       "    <tr>\n",
       "      <th>9</th>\n",
       "      <td>14.30</td>\n",
       "      <td>179.200</td>\n",
       "    </tr>\n",
       "    <tr>\n",
       "      <th>10</th>\n",
       "      <td>19.80</td>\n",
       "      <td>161.400</td>\n",
       "    </tr>\n",
       "    <tr>\n",
       "      <th>11</th>\n",
       "      <td>12.60</td>\n",
       "      <td>133.900</td>\n",
       "    </tr>\n",
       "    <tr>\n",
       "      <th>12</th>\n",
       "      <td>112.00</td>\n",
       "      <td>409.700</td>\n",
       "    </tr>\n",
       "    <tr>\n",
       "      <th>14</th>\n",
       "      <td>21.25</td>\n",
       "      <td>195.150</td>\n",
       "    </tr>\n",
       "    <tr>\n",
       "      <th>15</th>\n",
       "      <td>100.00</td>\n",
       "      <td>409.000</td>\n",
       "    </tr>\n",
       "    <tr>\n",
       "      <th>16</th>\n",
       "      <td>13.00</td>\n",
       "      <td>180.000</td>\n",
       "    </tr>\n",
       "    <tr>\n",
       "      <th>19</th>\n",
       "      <td>27.60</td>\n",
       "      <td>264.500</td>\n",
       "    </tr>\n",
       "  </tbody>\n",
       "</table>\n",
       "</div>"
      ],
      "text/plain": [
       "       kitchen_area  living_area\n",
       "rooms                           \n",
       "0               NaN       18.000\n",
       "1              9.00       17.600\n",
       "2              8.70       30.500\n",
       "3              9.50       45.000\n",
       "4             11.00       63.650\n",
       "5             15.10       91.785\n",
       "6             19.75      124.400\n",
       "7             20.00      145.000\n",
       "8             25.00      161.000\n",
       "9             14.30      179.200\n",
       "10            19.80      161.400\n",
       "11            12.60      133.900\n",
       "12           112.00      409.700\n",
       "14            21.25      195.150\n",
       "15           100.00      409.000\n",
       "16            13.00      180.000\n",
       "19            27.60      264.500"
      ]
     },
     "metadata": {},
     "output_type": "display_data"
    },
    {
     "data": {
      "text/plain": [
       "total_images                0\n",
       "last_price                  0\n",
       "total_area                  0\n",
       "first_day_exposition        0\n",
       "rooms                       0\n",
       "ceiling_height              0\n",
       "floors_total                0\n",
       "living_area                 0\n",
       "floor                       0\n",
       "is_apartment            20805\n",
       "studio                      0\n",
       "open_plan                   0\n",
       "kitchen_area              194\n",
       "balcony                 11475\n",
       "locality_name               0\n",
       "airports_nearest         5524\n",
       "cityCenters_nearest      5501\n",
       "parks_around3000         5500\n",
       "parks_nearest           15535\n",
       "ponds_around3000         5500\n",
       "ponds_nearest           14529\n",
       "days_exposition          3171\n",
       "dtype: int64"
      ]
     },
     "metadata": {},
     "output_type": "display_data"
    }
   ],
   "source": [
    "#Объединим данные в сводную таблицу для дальнейшего анализа \n",
    "data_pivot_area = data.pivot_table(index='rooms', values=['living_area', 'kitchen_area'], aggfunc='median')\n",
    "display(data_pivot_area)\n",
    "data['living_area'] = data['living_area'].fillna(\n",
    "    data.groupby('rooms')['living_area'].transform(\"median\")\n",
    ")\n",
    "data['kitchen_area'] = data['kitchen_area'].fillna(\n",
    "    data.groupby('rooms')['kitchen_area'].transform(\"median\")\n",
    ")\n",
    "\n",
    "display(data.isna().sum())"
   ]
  },
  {
   "cell_type": "markdown",
   "metadata": {},
   "source": [
    "_______\n",
    "Следующий столбец для обработки пропущенных значений - is_apartment (20805 пропусков) \n",
    "______"
   ]
  },
  {
   "cell_type": "code",
   "execution_count": 8,
   "metadata": {},
   "outputs": [
    {
     "data": {
      "text/plain": [
       "False    2710\n",
       "True       50\n",
       "Name: is_apartment, dtype: int64"
      ]
     },
     "metadata": {},
     "output_type": "display_data"
    },
    {
     "name": "stdout",
     "output_type": "stream",
     "text": [
      "_____________\n"
     ]
    },
    {
     "data": {
      "text/plain": [
       "False    23419\n",
       "True       146\n",
       "Name: studio, dtype: int64"
      ]
     },
     "metadata": {},
     "output_type": "display_data"
    },
    {
     "name": "stdout",
     "output_type": "stream",
     "text": [
      "_____________\n"
     ]
    },
    {
     "data": {
      "text/plain": [
       "False    23498\n",
       "True        67\n",
       "Name: open_plan, dtype: int64"
      ]
     },
     "metadata": {},
     "output_type": "display_data"
    },
    {
     "name": "stdout",
     "output_type": "stream",
     "text": [
      "_____________\n"
     ]
    },
    {
     "data": {
      "text/plain": [
       "0"
      ]
     },
     "metadata": {},
     "output_type": "display_data"
    },
    {
     "data": {
      "text/plain": [
       "'проверка на количество пропусков в столбце is apartment'"
      ]
     },
     "metadata": {},
     "output_type": "display_data"
    },
    {
     "name": "stdout",
     "output_type": "stream",
     "text": [
      "_____________\n"
     ]
    },
    {
     "data": {
      "text/plain": [
       "True     23543\n",
       "False       22\n",
       "Name: is_apartment, dtype: int64"
      ]
     },
     "metadata": {},
     "output_type": "display_data"
    },
    {
     "name": "stdout",
     "output_type": "stream",
     "text": [
      "<class 'pandas.core.frame.DataFrame'>\n",
      "Int64Index: 23565 entries, 0 to 23698\n",
      "Data columns (total 22 columns):\n",
      " #   Column                Non-Null Count  Dtype  \n",
      "---  ------                --------------  -----  \n",
      " 0   total_images          23565 non-null  int64  \n",
      " 1   last_price            23565 non-null  float64\n",
      " 2   total_area            23565 non-null  float64\n",
      " 3   first_day_exposition  23565 non-null  object \n",
      " 4   rooms                 23565 non-null  int64  \n",
      " 5   ceiling_height        23565 non-null  float64\n",
      " 6   floors_total          23565 non-null  float64\n",
      " 7   living_area           23565 non-null  float64\n",
      " 8   floor                 23565 non-null  int64  \n",
      " 9   is_apartment          23565 non-null  bool   \n",
      " 10  studio                23565 non-null  bool   \n",
      " 11  open_plan             23565 non-null  bool   \n",
      " 12  kitchen_area          23371 non-null  float64\n",
      " 13  balcony               12090 non-null  float64\n",
      " 14  locality_name         23565 non-null  object \n",
      " 15  airports_nearest      18041 non-null  float64\n",
      " 16  cityCenters_nearest   18064 non-null  float64\n",
      " 17  parks_around3000      18065 non-null  float64\n",
      " 18  parks_nearest         8030 non-null   float64\n",
      " 19  ponds_around3000      18065 non-null  float64\n",
      " 20  ponds_nearest         9036 non-null   float64\n",
      " 21  days_exposition       20394 non-null  float64\n",
      "dtypes: bool(3), float64(14), int64(3), object(2)\n",
      "memory usage: 3.7+ MB\n"
     ]
    },
    {
     "data": {
      "text/plain": [
       "None"
      ]
     },
     "metadata": {},
     "output_type": "display_data"
    }
   ],
   "source": [
    "#вспомогательный вызов просмотра данных\n",
    "display(data['is_apartment'].value_counts())\n",
    "print('_____________')\n",
    "display(data['studio'].value_counts())\n",
    "print('_____________')\n",
    "display(data['open_plan'].value_counts())\n",
    "print('_____________')\n",
    "\n",
    "#заменю тип данных на булевый \n",
    "data['is_apartment'] = data['is_apartment'].astype('bool')\n",
    "\n",
    "\n",
    "#логика такая: чтобы закрыть пропуски в стобце is_apartment, они не должны совпадать cо столбцами studio и open_plan, в этом случае исчезают данные False  \n",
    "data.loc[(data['studio'] == False) & (data['open_plan'] == False), 'is_apartment'] = True\n",
    "display(data['is_apartment'].isna().sum(), 'проверка на количество пропусков в столбце is apartment')\n",
    "print('_____________')\n",
    "display(data['is_apartment'].value_counts())\n",
    "#не очень понимаю почему при вызове info тип Series 'is_apartment' - bool, а при value_counts - int, подскажите, пожалуйста, я замучался менять его тип, а потом понял, что просто отображается по разному \n",
    "display(data.info())"
   ]
  },
  {
   "cell_type": "markdown",
   "metadata": {},
   "source": [
    "________\n",
    "Следующий столбец для обработки пропущенных значений - balcony (11475 пропущенных). \n",
    "\n",
    "Исходя из совета Яндекс практикума, все пропущенные значения столбца я отмечу, как отсутствие балконов.\n",
    "_______"
   ]
  },
  {
   "cell_type": "code",
   "execution_count": 9,
   "metadata": {},
   "outputs": [
    {
     "data": {
      "text/plain": [
       "array([nan,  2.,  0.,  1.,  5.,  4.,  3.])"
      ]
     },
     "metadata": {},
     "output_type": "display_data"
    },
    {
     "data": {
      "text/plain": [
       "11475"
      ]
     },
     "metadata": {},
     "output_type": "display_data"
    }
   ],
   "source": [
    "display(data['balcony'].unique())\n",
    "display(data['balcony'].isna().sum())"
   ]
  },
  {
   "cell_type": "code",
   "execution_count": 10,
   "metadata": {},
   "outputs": [
    {
     "data": {
      "text/plain": [
       "0"
      ]
     },
     "metadata": {},
     "output_type": "display_data"
    }
   ],
   "source": [
    "data['balcony'] = data['balcony'].fillna(0)\n",
    "display(data['balcony'].isna().sum())"
   ]
  },
  {
   "cell_type": "markdown",
   "metadata": {},
   "source": [
    "_______________\n",
    "Пропущенные значения:\n",
    "\n",
    "airports_nearest         5542\n",
    "\n",
    "cityCenters_nearest      5519\n",
    "\n",
    "parks_around3000         5518\n",
    "\n",
    "parks_nearest           15620\n",
    "\n",
    "ponds_around3000         5518\n",
    "\n",
    "ponds_nearest           14589\n",
    "\n",
    "days_exposition          3181\n",
    "\n",
    "Предлагаю не заменять ни на какие другие, так как это повлечет за собой ухудшение качества данных, а значит и качество анализа данных\n",
    "____________________________\n"
   ]
  },
  {
   "cell_type": "markdown",
   "metadata": {},
   "source": [
    "_____\n",
    "Заменим тип данных там, где это необходимо, для себя напоминаю, что Series 'is_apartment' я уже заменил ранее с типа данных object на тип данных bool\n",
    "_____"
   ]
  },
  {
   "cell_type": "code",
   "execution_count": 11,
   "metadata": {},
   "outputs": [
    {
     "name": "stdout",
     "output_type": "stream",
     "text": [
      "<class 'pandas.core.frame.DataFrame'>\n",
      "Int64Index: 23565 entries, 0 to 23698\n",
      "Data columns (total 22 columns):\n",
      " #   Column                Non-Null Count  Dtype  \n",
      "---  ------                --------------  -----  \n",
      " 0   total_images          23565 non-null  int64  \n",
      " 1   last_price            23565 non-null  float64\n",
      " 2   total_area            23565 non-null  float64\n",
      " 3   first_day_exposition  23565 non-null  object \n",
      " 4   rooms                 23565 non-null  int64  \n",
      " 5   ceiling_height        23565 non-null  float64\n",
      " 6   floors_total          23565 non-null  float64\n",
      " 7   living_area           23565 non-null  float64\n",
      " 8   floor                 23565 non-null  int64  \n",
      " 9   is_apartment          23565 non-null  bool   \n",
      " 10  studio                23565 non-null  bool   \n",
      " 11  open_plan             23565 non-null  bool   \n",
      " 12  kitchen_area          23371 non-null  float64\n",
      " 13  balcony               23565 non-null  float64\n",
      " 14  locality_name         23565 non-null  object \n",
      " 15  airports_nearest      18041 non-null  float64\n",
      " 16  cityCenters_nearest   18064 non-null  float64\n",
      " 17  parks_around3000      18065 non-null  float64\n",
      " 18  parks_nearest         8030 non-null   float64\n",
      " 19  ponds_around3000      18065 non-null  float64\n",
      " 20  ponds_nearest         9036 non-null   float64\n",
      " 21  days_exposition       20394 non-null  float64\n",
      "dtypes: bool(3), float64(14), int64(3), object(2)\n",
      "memory usage: 3.7+ MB\n"
     ]
    },
    {
     "data": {
      "text/plain": [
       "None"
      ]
     },
     "metadata": {},
     "output_type": "display_data"
    }
   ],
   "source": [
    "display(data.info())"
   ]
  },
  {
   "cell_type": "markdown",
   "metadata": {},
   "source": [
    "______\n",
    "first_day_exposition - тип даты и времени, из типа object его необходимо перевести в datetime64 для дальнейшей работы с ним\n",
    "_____"
   ]
  },
  {
   "cell_type": "code",
   "execution_count": 12,
   "metadata": {},
   "outputs": [],
   "source": [
    "data['first_day_exposition'] = pd.to_datetime(data['first_day_exposition'], format='%Y-%m-%dT%H:%M:%S')\n",
    "data['floors_total'] = data['floors_total'].astype('int64')\n",
    "data['balcony'] = data['balcony'].astype('int64')\n",
    "\n"
   ]
  },
  {
   "cell_type": "markdown",
   "metadata": {},
   "source": [
    "______\n",
    "Проведем проверку и замену неявных и явных дубликатов\n",
    "______"
   ]
  },
  {
   "cell_type": "code",
   "execution_count": 13,
   "metadata": {},
   "outputs": [
    {
     "data": {
      "text/plain": [
       "array(['Санкт-Петербург', 'посёлок Шушары', 'городской посёлок Янино-1',\n",
       "       'посёлок Парголово', 'посёлок Мурино', 'Ломоносов', 'Сертолово',\n",
       "       'Петергоф', 'Пушкин', 'деревня Кудрово', 'Коммунар', 'Колпино',\n",
       "       'поселок городского типа Красный Бор', 'Гатчина', 'поселок Мурино',\n",
       "       'деревня Фёдоровское', 'Выборг', 'Кронштадт', 'Кировск',\n",
       "       'деревня Новое Девяткино', 'посёлок Металлострой',\n",
       "       'посёлок городского типа Лебяжье',\n",
       "       'посёлок городского типа Сиверский', 'поселок Молодцово',\n",
       "       'поселок городского типа Кузьмоловский',\n",
       "       'садовое товарищество Новая Ропша', 'Павловск',\n",
       "       'деревня Пикколово', 'Всеволожск', 'Волхов', 'Кингисепп',\n",
       "       'Приозерск', 'Сестрорецк', 'деревня Куттузи', 'посёлок Аннино',\n",
       "       'поселок городского типа Ефимовский', 'посёлок Плодовое',\n",
       "       'деревня Заклинье', 'поселок Торковичи', 'поселок Первомайское',\n",
       "       'Красное Село', 'посёлок Понтонный', 'Сясьстрой', 'деревня Старая',\n",
       "       'деревня Лесколово', 'посёлок Новый Свет', 'Сланцы',\n",
       "       'село Путилово', 'Ивангород', 'Мурино', 'Шлиссельбург',\n",
       "       'Никольское', 'Зеленогорск', 'Сосновый Бор', 'поселок Новый Свет',\n",
       "       'деревня Оржицы', 'деревня Кальтино', 'Кудрово',\n",
       "       'поселок Романовка', 'посёлок Бугры', 'поселок Бугры',\n",
       "       'поселок городского типа Рощино', 'Кириши', 'Луга', 'Волосово',\n",
       "       'Отрадное', 'село Павлово', 'поселок Оредеж', 'село Копорье',\n",
       "       'посёлок городского типа Красный Бор', 'посёлок Молодёжное',\n",
       "       'Тихвин', 'посёлок Победа', 'деревня Нурма',\n",
       "       'поселок городского типа Синявино', 'Тосно',\n",
       "       'посёлок городского типа Кузьмоловский', 'посёлок Стрельна',\n",
       "       'Бокситогорск', 'посёлок Александровская', 'деревня Лопухинка',\n",
       "       'Пикалёво', 'поселок Терволово',\n",
       "       'поселок городского типа Советский', 'Подпорожье',\n",
       "       'посёлок Петровское', 'посёлок городского типа Токсово',\n",
       "       'поселок Сельцо', 'посёлок городского типа Вырица',\n",
       "       'деревня Кипень', 'деревня Келози', 'деревня Вартемяги',\n",
       "       'посёлок Тельмана', 'поселок Севастьяново',\n",
       "       'городской поселок Большая Ижора', 'городской посёлок Павлово',\n",
       "       'деревня Агалатово', 'посёлок Новогорелово',\n",
       "       'городской посёлок Лесогорский', 'деревня Лаголово',\n",
       "       'поселок Цвелодубово', 'поселок городского типа Рахья',\n",
       "       'поселок городского типа Вырица', 'деревня Белогорка',\n",
       "       'поселок Заводской', 'городской посёлок Новоселье',\n",
       "       'деревня Большие Колпаны', 'деревня Горбунки', 'деревня Батово',\n",
       "       'деревня Заневка', 'деревня Иссад', 'Приморск',\n",
       "       'городской посёлок Фёдоровское', 'деревня Мистолово',\n",
       "       'Новая Ладога', 'поселок Зимитицы', 'поселок Барышево',\n",
       "       'деревня Разметелево', 'поселок городского типа имени Свердлова',\n",
       "       'деревня Пеники', 'поселок Рябово', 'деревня Пудомяги',\n",
       "       'поселок станции Корнево', 'деревня Низино', 'деревня Бегуницы',\n",
       "       'посёлок Поляны', 'городской посёлок Мга', 'поселок Елизаветино',\n",
       "       'посёлок городского типа Кузнечное', 'деревня Колтуши',\n",
       "       'поселок Запорожское', 'посёлок городского типа Рощино',\n",
       "       'деревня Гостилицы', 'деревня Малое Карлино',\n",
       "       'посёлок Мичуринское', 'посёлок городского типа имени Морозова',\n",
       "       'посёлок Песочный', 'посёлок Сосново', 'деревня Аро',\n",
       "       'поселок Ильичёво', 'посёлок городского типа Тайцы',\n",
       "       'деревня Малое Верево', 'деревня Извара', 'поселок станции Вещево',\n",
       "       'село Паша', 'деревня Калитино',\n",
       "       'посёлок городского типа Ульяновка', 'деревня Чудской Бор',\n",
       "       'поселок городского типа Дубровка', 'деревня Мины',\n",
       "       'поселок Войсковицы', 'посёлок городского типа имени Свердлова',\n",
       "       'деревня Коркино', 'посёлок Ропша',\n",
       "       'поселок городского типа Приладожский', 'посёлок Щеглово',\n",
       "       'посёлок Гаврилово', 'Лодейное Поле', 'деревня Рабитицы',\n",
       "       'поселок городского типа Никольский', 'деревня Кузьмолово',\n",
       "       'деревня Малые Колпаны', 'поселок Тельмана',\n",
       "       'посёлок Петро-Славянка', 'городской посёлок Назия',\n",
       "       'посёлок Репино', 'посёлок Ильичёво', 'поселок Углово',\n",
       "       'поселок Старая Малукса', 'садовое товарищество Рахья',\n",
       "       'поселок Аннино', 'поселок Победа', 'деревня Меньково',\n",
       "       'деревня Старые Бегуницы', 'посёлок Сапёрный', 'поселок Семрино',\n",
       "       'поселок Гаврилово', 'поселок Глажево', 'поселок Кобринское',\n",
       "       'деревня Гарболово', 'деревня Юкки',\n",
       "       'поселок станции Приветнинское', 'деревня Мануйлово',\n",
       "       'деревня Пчева', 'поселок Поляны', 'поселок Цвылёво',\n",
       "       'поселок Мельниково', 'посёлок Пудость', 'посёлок Усть-Луга',\n",
       "       'Светогорск', 'Любань', 'поселок Селезнёво',\n",
       "       'поселок городского типа Рябово', 'Каменногорск', 'деревня Кривко',\n",
       "       'поселок Глебычево', 'деревня Парицы', 'поселок Жилпосёлок',\n",
       "       'посёлок городского типа Мга', 'городской поселок Янино-1',\n",
       "       'посёлок Войскорово', 'село Никольское', 'посёлок Терволово',\n",
       "       'поселок Стеклянный', 'посёлок городского типа Важины',\n",
       "       'посёлок Мыза-Ивановка', 'село Русско-Высоцкое',\n",
       "       'поселок городского типа Лебяжье',\n",
       "       'поселок городского типа Форносово', 'село Старая Ладога',\n",
       "       'поселок Житково', 'городской посёлок Виллози', 'деревня Лампово',\n",
       "       'деревня Шпаньково', 'деревня Лаврики', 'посёлок Сумино',\n",
       "       'посёлок Возрождение', 'деревня Старосиверская',\n",
       "       'посёлок Кикерино', 'поселок Возрождение',\n",
       "       'деревня Старое Хинколово', 'посёлок Пригородный',\n",
       "       'посёлок Торфяное', 'городской посёлок Будогощь',\n",
       "       'поселок Суходолье', 'поселок Красная Долина', 'деревня Хапо-Ое',\n",
       "       'поселок городского типа Дружная Горка', 'поселок Лисий Нос',\n",
       "       'деревня Яльгелево', 'посёлок Стеклянный', 'село Рождествено',\n",
       "       'деревня Старополье', 'посёлок Левашово', 'деревня Сяськелево',\n",
       "       'деревня Камышовка',\n",
       "       'садоводческое некоммерческое товарищество Лесная Поляна',\n",
       "       'деревня Хязельки', 'поселок Жилгородок',\n",
       "       'посёлок городского типа Павлово', 'деревня Ялгино',\n",
       "       'поселок Новый Учхоз', 'городской посёлок Рощино',\n",
       "       'поселок Гончарово', 'поселок Почап', 'посёлок Сапёрное',\n",
       "       'посёлок Платформа 69-й километр', 'поселок Каложицы',\n",
       "       'деревня Фалилеево', 'деревня Пельгора',\n",
       "       'поселок городского типа Лесогорский', 'деревня Торошковичи',\n",
       "       'посёлок Белоостров', 'посёлок Алексеевка', 'поселок Серебрянский',\n",
       "       'поселок Лукаши', 'поселок Петровское', 'деревня Щеглово',\n",
       "       'поселок Мичуринское', 'деревня Тарасово', 'поселок Кингисеппский',\n",
       "       'посёлок при железнодорожной станции Вещево', 'поселок Ушаки',\n",
       "       'деревня Котлы', 'деревня Сижно', 'деревня Торосово',\n",
       "       'посёлок Форт Красная Горка', 'деревня Новолисино',\n",
       "       'посёлок станции Громово', 'деревня Глинка', 'посёлок Мельниково',\n",
       "       'поселок городского типа Назия', 'деревня Старая Пустошь',\n",
       "       'поселок Коммунары', 'поселок Починок',\n",
       "       'посёлок городского типа Вознесенье', 'деревня Разбегаево',\n",
       "       'посёлок городского типа Рябово', 'поселок Гладкое',\n",
       "       'посёлок при железнодорожной станции Приветнинское',\n",
       "       'поселок Тёсово-4', 'посёлок Жилгородок', 'деревня Бор',\n",
       "       'посёлок Коробицыно', 'деревня Большая Вруда', 'деревня Курковицы',\n",
       "       'посёлок Лисий Нос', 'городской посёлок Советский',\n",
       "       'посёлок Кобралово', 'деревня Суоранда', 'поселок Кобралово',\n",
       "       'поселок городского типа Кондратьево',\n",
       "       'коттеджный поселок Счастье', 'поселок Любань', 'деревня Реброво',\n",
       "       'деревня Зимитицы', 'деревня Тойворово', 'поселок Семиозерье',\n",
       "       'поселок Лесное', 'поселок Совхозный', 'поселок Усть-Луга',\n",
       "       'посёлок Ленинское', 'посёлок Суйда',\n",
       "       'посёлок городского типа Форносово', 'деревня Нижние Осельки',\n",
       "       'посёлок станции Свирь', 'поселок Перово', 'Высоцк',\n",
       "       'поселок Гарболово', 'село Шум', 'поселок Котельский',\n",
       "       'поселок станции Лужайка', 'деревня Большая Пустомержа',\n",
       "       'поселок Красносельское', 'деревня Вахнова Кара', 'деревня Пижма',\n",
       "       'коттеджный поселок Кивеннапа Север', 'поселок Коробицыно',\n",
       "       'поселок Ромашки', 'посёлок Перово', 'деревня Каськово',\n",
       "       'деревня Куровицы', 'посёлок Плоское', 'поселок Сумино',\n",
       "       'поселок городского типа Большая Ижора', 'поселок Кирпичное',\n",
       "       'деревня Ям-Тесово', 'деревня Раздолье', 'деревня Терпилицы',\n",
       "       'поселок городского типа Токсово', 'посёлок Шугозеро',\n",
       "       'деревня Ваганово', 'поселок Пушное', 'садовое товарищество Садко',\n",
       "       'посёлок Усть-Ижора', 'деревня Выскатка',\n",
       "       'городской посёлок Свирьстрой', 'поселок Громово',\n",
       "       'деревня Кисельня', 'посёлок Старая Малукса',\n",
       "       'деревня Трубников Бор', 'поселок Калитино',\n",
       "       'посёлок Высокоключевой', 'садовое товарищество Приладожский',\n",
       "       'посёлок Пансионат Зелёный Бор', 'деревня Ненимяки',\n",
       "       'поселок Пансионат Зелёный Бор', 'деревня Снегирёвка',\n",
       "       'деревня Рапполово', 'деревня Пустынка', 'поселок Рабитицы',\n",
       "       'деревня Большой Сабск', 'деревня Русско', 'деревня Лупполово',\n",
       "       'деревня Большое Рейзино', 'деревня Малая Романовка',\n",
       "       'поселок Дружноселье', 'поселок Пчевжа', 'поселок Володарское',\n",
       "       'деревня Нижняя', 'коттеджный посёлок Лесное', 'деревня Тихковицы',\n",
       "       'деревня Борисова Грива', 'посёлок Дзержинского'], dtype=object)"
      ]
     },
     "execution_count": 13,
     "metadata": {},
     "output_type": "execute_result"
    }
   ],
   "source": [
    "#просмотрим уникальные значения Series для определения неявных дубликатов\n",
    "data['locality_name'].unique()"
   ]
  },
  {
   "cell_type": "code",
   "execution_count": 14,
   "metadata": {},
   "outputs": [
    {
     "data": {
      "text/plain": [
       "array(['Санкт-Петербург', ' Шушары', '  Янино-1', ' Парголово', ' Мурино',\n",
       "       'Ломоносов', 'Сертолово', 'Петергоф', 'Пушкин', ' Кудрово',\n",
       "       'Коммунар', 'Колпино', '  Красный Бор', 'Гатчина', ' Фёдоровское',\n",
       "       'Выборг', 'Кронштадт', 'Кировск', ' Новое Девяткино',\n",
       "       ' Металлострой', '  Лебяжье', '  Сиверский', ' Молодцово',\n",
       "       '  Кузьмоловский', ' Новая Ропша', 'Павловск', ' Пикколово',\n",
       "       'Всеволожск', 'Волхов', 'Кингисепп', 'Приозерск', 'Сестрорецк',\n",
       "       ' Куттузи', ' Аннино', '  Ефимовский', ' Плодовое', ' Заклинье',\n",
       "       ' Торковичи', ' Первомайское', 'Красное Село', ' Понтонный',\n",
       "       'Сясьстрой', ' Старая', ' Лесколово', ' Новый Свет', 'Сланцы',\n",
       "       ' Путилово', 'Ивангород', 'Мурино', 'Шлиссельбург', 'Никольское',\n",
       "       'Зеленогорск', 'Сосновый Бор', ' Оржицы', ' Кальтино', 'Кудрово',\n",
       "       ' Романовка', ' Бугры', '  Рощино', 'Кириши', 'Луга', 'Волосово',\n",
       "       'Отрадное', ' Павлово', ' Оредеж', ' Копорье', ' Молодёжное',\n",
       "       'Тихвин', ' Победа', ' Нурма', '  Синявино', 'Тосно', ' Стрельна',\n",
       "       'Бокситогорск', ' Александровская', ' Лопухинка', 'Пикалёво',\n",
       "       ' Терволово', '  Советский', 'Подпорожье', ' Петровское',\n",
       "       '  Токсово', ' Сельцо', '  Вырица', ' Кипень', ' Келози',\n",
       "       ' Вартемяги', ' Тельмана', ' Севастьяново', '  Большая Ижора',\n",
       "       '  Павлово', ' Агалатово', ' Новогорелово', '  Лесогорский',\n",
       "       ' Лаголово', ' Цвелодубово', '  Рахья', ' Белогорка', ' Заводской',\n",
       "       '  Новоселье', ' Большие Колпаны', ' Горбунки', ' Батово',\n",
       "       ' Заневка', ' Иссад', 'Приморск', '  Фёдоровское', ' Мистолово',\n",
       "       'Новая Ладога', ' Зимитицы', ' Барышево', ' Разметелево',\n",
       "       '   Свердлова', ' Пеники', ' Рябово', ' Пудомяги', '  Корнево',\n",
       "       ' Низино', ' Бегуницы', ' Поляны', '  Мга', ' Елизаветино',\n",
       "       '  Кузнечное', ' Колтуши', ' Запорожское', ' Гостилицы',\n",
       "       ' Малое Карлино', ' Мичуринское', '   Морозова', ' Песочный',\n",
       "       ' Сосново', ' Аро', ' Ильичёво', '  Тайцы', ' Малое Верево',\n",
       "       ' Извара', '  Вещево', ' Паша', ' Калитино', '  Ульяновка',\n",
       "       ' Чудской Бор', '  Дубровка', ' Мины', ' Войсковицы', ' Коркино',\n",
       "       ' Ропша', '  Приладожский', ' Щеглово', ' Гаврилово',\n",
       "       'Лодейное Поле', ' Рабитицы', '  Никольский', ' Кузьмолово',\n",
       "       ' Малые Колпаны', ' Петро-Славянка', '  Назия', ' Репино',\n",
       "       ' Углово', ' Старая Малукса', ' Рахья', ' Меньково',\n",
       "       ' Старые Бегуницы', ' Сапёрный', ' Семрино', ' Глажево',\n",
       "       ' Кобринское', ' Гарболово', ' Юкки', '  Приветнинское',\n",
       "       ' Мануйлово', ' Пчева', ' Цвылёво', ' Мельниково', ' Пудость',\n",
       "       ' Усть-Луга', 'Светогорск', 'Любань', ' Селезнёво', '  Рябово',\n",
       "       'Каменногорск', ' Кривко', ' Глебычево', ' Парицы', ' Жил',\n",
       "       ' Войскорово', ' Никольское', ' Стеклянный', '  Важины',\n",
       "       ' Мыза-Ивановка', ' Русско-Высоцкое', '  Форносово',\n",
       "       ' Старая Ладога', ' Житково', '  Виллози', ' Лампово',\n",
       "       ' Шпаньково', ' Лаврики', ' Сумино', ' Возрождение',\n",
       "       ' Старосиверская', ' Кикерино', ' Старое Хинколово',\n",
       "       ' Пригородный', ' Торфяное', '  Будогощь', ' Суходолье',\n",
       "       ' Красная Долина', ' Хапо-Ое', '  Дружная Горка', ' Лисий Нос',\n",
       "       ' Яльгелево', ' Рождествено', ' Старополье', ' Левашово',\n",
       "       ' Сяськелево', ' Камышовка', ' Лесная Поляна', ' Хязельки',\n",
       "       ' Жилгородок', ' Ялгино', ' Новый Учхоз', ' Гончарово', ' Почап',\n",
       "       ' Сапёрное', ' Платформа 69-й километр', ' Каложицы', ' Фалилеево',\n",
       "       ' Пельгора', ' Торошковичи', ' Белоостров', ' Алексеевка',\n",
       "       ' Серебрянский', ' Лукаши', ' Тарасово', ' Кингисеппский',\n",
       "       ' Ушаки', ' Котлы', ' Сижно', ' Торосово', ' Форт Красная Горка',\n",
       "       ' Новолисино', '  Громово', ' Глинка', ' Старая Пустошь',\n",
       "       ' Коммунары', ' Починок', '  Вознесенье', ' Разбегаево',\n",
       "       ' Гладкое', ' Тёсово-4', ' Бор', ' Коробицыно', ' Большая Вруда',\n",
       "       ' Курковицы', ' Кобралово', ' Суоранда', '  Кондратьево',\n",
       "       '  Счастье', ' Любань', ' Реброво', ' Тойворово', ' Семиозерье',\n",
       "       ' Лесное', ' Совхозный', ' Ленинское', ' Суйда', ' Нижние Осельки',\n",
       "       '  Свирь', ' Перово', 'Высоцк', ' Шум', ' Котельский', '  Лужайка',\n",
       "       ' Большая Пустомержа', ' Красносельское', ' Вахнова Кара',\n",
       "       ' Пижма', '  Кивеннапа Север', ' Ромашки', ' Каськово',\n",
       "       ' Куровицы', ' Плоское', ' Кирпичное', ' Ям-Тесово', ' Раздолье',\n",
       "       ' Терпилицы', ' Шугозеро', ' Ваганово', ' Пушное', ' Садко',\n",
       "       ' Усть-Ижора', ' Выскатка', '  Свирьстрой', ' Громово',\n",
       "       ' Кисельня', ' Трубников Бор', ' Высокоключевой', ' Приладожский',\n",
       "       ' Пансионат Зелёный Бор', ' Ненимяки', ' Снегирёвка', ' Рапполово',\n",
       "       ' Пустынка', ' Большой Сабск', ' Русско', ' Лупполово',\n",
       "       ' Большое Рейзино', ' Малая Романовка', ' Дружноселье', ' Пчевжа',\n",
       "       ' Володарское', ' Нижняя', '  Лесное', ' Тихковицы',\n",
       "       ' Борисова Грива', ' Дзержинского'], dtype=object)"
      ]
     },
     "execution_count": 14,
     "metadata": {},
     "output_type": "execute_result"
    }
   ],
   "source": [
    "#уберем неявные дубликаты из Series и проверим вывод \n",
    "data['locality_name'] = data['locality_name'].replace(\n",
    "    'посёлок|деревня|село|пок| пок|городского типа|nan|садовое товарищество|котте|садоводческое некоммерческое товарищество|джный|при железнодорожной станции|городской|станции|имени', '', regex=True\n",
    ")\n",
    "data['locality_name'] = data['locality_name'].replace(\n",
    "    'пок', '', regex=True\n",
    ")\n",
    "data['locality_name'].unique()"
   ]
  },
  {
   "cell_type": "code",
   "execution_count": 15,
   "metadata": {},
   "outputs": [
    {
     "data": {
      "text/plain": [
       "0"
      ]
     },
     "execution_count": 15,
     "metadata": {},
     "output_type": "execute_result"
    }
   ],
   "source": [
    "data.duplicated().sum()\n",
    "#data.info()\n",
    "\n",
    "#data['locality_name'].drop_duplicates().reset_index(drop=True)"
   ]
  },
  {
   "cell_type": "markdown",
   "metadata": {},
   "source": [
    "_______\n",
    "Построим диаграмму размаха для оценки количества выбивающихся значений в столбцах\n",
    "\n",
    "ceiling_height\n",
    "\n",
    "rooms\n",
    "\n",
    "balcony\n",
    "\n",
    "total_area\n",
    "______"
   ]
  },
  {
   "cell_type": "code",
   "execution_count": 16,
   "metadata": {},
   "outputs": [
    {
     "name": "stdout",
     "output_type": "stream",
     "text": [
      "count    23565.000000\n",
      "mean         2.771366\n",
      "std          0.989266\n",
      "min          1.000000\n",
      "25%          2.600000\n",
      "50%          2.771499\n",
      "75%          2.771499\n",
      "max        100.000000\n",
      "Name: ceiling_height, dtype: float64\n",
      "_____________\n",
      "1.00       1\n",
      "1.20       1\n",
      "1.75       1\n",
      "2.00      11\n",
      "2.20       1\n",
      "          ..\n",
      "26.00      1\n",
      "27.00      8\n",
      "27.50      1\n",
      "32.00      2\n",
      "100.00     1\n",
      "Name: ceiling_height, Length: 184, dtype: int64\n"
     ]
    },
    {
     "data": {
      "image/png": "[encoded data removed]",
      "text/plain": [
       "<Figure size 432x288 with 1 Axes>"
      ]
     },
     "metadata": {
      "needs_background": "light"
     },
     "output_type": "display_data"
    }
   ],
   "source": [
    "data['ceiling_height'].plot(kind='box')\n",
    "print(data['ceiling_height'].describe())\n",
    "print('_____________')\n",
    "print(data['ceiling_height'].value_counts().sort_index())"
   ]
  },
  {
   "cell_type": "code",
   "execution_count": 17,
   "metadata": {},
   "outputs": [
    {
     "name": "stdout",
     "output_type": "stream",
     "text": [
      "________\n",
      "count    23565.000000\n",
      "mean         2.070656\n",
      "std          1.078591\n",
      "min          0.000000\n",
      "25%          1.000000\n",
      "50%          2.000000\n",
      "75%          3.000000\n",
      "max         19.000000\n",
      "Name: rooms, dtype: float64\n",
      "________\n",
      "1     8004\n",
      "2     7897\n",
      "3     5779\n",
      "4     1172\n",
      "5      325\n",
      "0      194\n",
      "6      104\n",
      "7       59\n",
      "8       12\n",
      "9        8\n",
      "10       3\n",
      "11       2\n",
      "14       2\n",
      "19       1\n",
      "16       1\n",
      "12       1\n",
      "15       1\n",
      "Name: rooms, dtype: int64\n"
     ]
    },
    {
     "data": {
      "image/png": "[encoded data removed]",
      "text/plain": [
       "<Figure size 432x288 with 1 Axes>"
      ]
     },
     "metadata": {
      "needs_background": "light"
     },
     "output_type": "display_data"
    }
   ],
   "source": [
    "data['rooms'].plot(kind='box')\n",
    "print('________')\n",
    "print(data['rooms'].describe()) \n",
    "print('________')\n",
    "print(data['rooms'].value_counts())"
   ]
  },
  {
   "cell_type": "code",
   "execution_count": 18,
   "metadata": {},
   "outputs": [
    {
     "data": {
      "text/plain": [
       "<AxesSubplot:>"
      ]
     },
     "execution_count": 18,
     "metadata": {},
     "output_type": "execute_result"
    },
    {
     "data": {
      "image/png": "[encoded data removed]",
      "text/plain": [
       "<Figure size 432x288 with 1 Axes>"
      ]
     },
     "metadata": {
      "needs_background": "light"
     },
     "output_type": "display_data"
    }
   ],
   "source": [
    "data['balcony'].plot(kind='box')"
   ]
  },
  {
   "cell_type": "code",
   "execution_count": 19,
   "metadata": {},
   "outputs": [
    {
     "name": "stdout",
     "output_type": "stream",
     "text": [
      "count    23565.000000\n",
      "mean        60.322824\n",
      "std         35.657060\n",
      "min         12.000000\n",
      "25%         40.000000\n",
      "50%         52.000000\n",
      "75%         69.700000\n",
      "max        900.000000\n",
      "Name: total_area, dtype: float64\n",
      "______________\n",
      "12.0     1\n",
      "13.0     3\n",
      "13.2     1\n",
      "14.0     1\n",
      "15.0     2\n",
      "        ..\n",
      "590.0    1\n",
      "618.0    1\n",
      "631.0    1\n",
      "631.2    1\n",
      "900.0    1\n",
      "Name: total_area, Length: 2159, dtype: int64\n",
      "______________\n",
      "55.06       1\n",
      "127.21      1\n",
      "169.50      1\n",
      "216.10      1\n",
      "167.50      1\n",
      "         ... \n",
      "44.00     343\n",
      "60.00     346\n",
      "31.00     346\n",
      "42.00     383\n",
      "45.00     419\n",
      "Name: total_area, Length: 2159, dtype: int64\n"
     ]
    },
    {
     "data": {
      "image/png": "[encoded data removed]",
      "text/plain": [
       "<Figure size 432x288 with 1 Axes>"
      ]
     },
     "metadata": {
      "needs_background": "light"
     },
     "output_type": "display_data"
    }
   ],
   "source": [
    "data['total_area'].plot(kind='box')\n",
    "print(data['total_area'].describe())\n",
    "print('______________')\n",
    "print(data['total_area'].value_counts().sort_index())\n",
    "print('______________')\n",
    "print(data['total_area'].value_counts().sort_values())"
   ]
  },
  {
   "cell_type": "markdown",
   "metadata": {},
   "source": [
    "_____\n",
    "\n",
    "Благодаря проведенному анализу удалось установить, что в 3 из 4 столбцов взятых для анализа есть выбивающиеся значения \n",
    "\n",
    "ceiling_height - основная часть значений до 3х метров, есть значение в 100 метров, а также достаточно большое количество значений свыше 20 метров, вероятнее всего была допущена ошибка при сборе данных, эти значения скорее всего не учитывают дробную часть числа, предлагаю заполнить значения от 20 метров поделив их на 10 \n",
    "\n",
    "rooms - большая часть значений - это количество комнат до 10ти, остальные значения выбиваются из общего числа данных, но их количество незначительное, столбец можно оставить без изменений \n",
    "\n",
    "total_area - значения выше 500 м2 - выбиваются из общего значения, предлагаю устранить их \n",
    "\n",
    "______"
   ]
  },
  {
   "cell_type": "markdown",
   "metadata": {},
   "source": [
    "\n",
    "______\n",
    "Проведем обработку столбца 'ceiling_height'\n",
    "______\n",
    "\n"
   ]
  },
  {
   "cell_type": "code",
   "execution_count": 20,
   "metadata": {},
   "outputs": [
    {
     "name": "stdout",
     "output_type": "stream",
     "text": [
      "1.75     1\n",
      "2.00    12\n",
      "2.20     1\n",
      "2.25     1\n",
      "2.26     1\n",
      "        ..\n",
      "5.60     1\n",
      "5.80     1\n",
      "6.00     1\n",
      "8.00     3\n",
      "8.30     1\n",
      "Name: ceiling_height, Length: 172, dtype: int64\n"
     ]
    }
   ],
   "source": [
    "#Приведем в надлежащий вид необходимое заполнение значений от 20 метров, поделив их на 10 \n",
    "data.loc[data['ceiling_height'] >= 20, 'ceiling_height'] = data.loc[data['ceiling_height'] >= 20, 'ceiling_height'] / 10\n",
    "#Создадим фильтр на выбивающиеся значений \n",
    "data = data[data['ceiling_height'] <10]\n",
    "data = data[data['ceiling_height'] >1.5]\n",
    "#Проверка\n",
    "print(data['ceiling_height'].value_counts().sort_index())"
   ]
  },
  {
   "cell_type": "markdown",
   "metadata": {},
   "source": [
    "\n",
    "______\n",
    "Проведем обработку столбца 'rooms'\n",
    "______\n"
   ]
  },
  {
   "cell_type": "code",
   "execution_count": 21,
   "metadata": {},
   "outputs": [
    {
     "name": "stdout",
     "output_type": "stream",
     "text": [
      "0     194\n",
      "1    8002\n",
      "2    7894\n",
      "3    5779\n",
      "4    1172\n",
      "5     325\n",
      "6     104\n",
      "7      59\n",
      "8      12\n",
      "9       8\n",
      "Name: rooms, dtype: int64\n"
     ]
    }
   ],
   "source": [
    "data = data[data['rooms'] <10]\n",
    "print(data['rooms'].value_counts().sort_index())"
   ]
  },
  {
   "cell_type": "markdown",
   "metadata": {},
   "source": [
    "______\n",
    "Проведем обработку столбца 'total_area'\n",
    "______"
   ]
  },
  {
   "cell_type": "code",
   "execution_count": 22,
   "metadata": {},
   "outputs": [
    {
     "name": "stdout",
     "output_type": "stream",
     "text": [
      "12.0     1\n",
      "13.0     3\n",
      "13.2     1\n",
      "14.0     1\n",
      "15.0     2\n",
      "        ..\n",
      "483.9    1\n",
      "488.0    1\n",
      "491.0    1\n",
      "494.1    1\n",
      "495.0    1\n",
      "Name: total_area, Length: 2144, dtype: int64\n"
     ]
    }
   ],
   "source": [
    "data = data[data['total_area'] <500]\n",
    "print(data['total_area'].value_counts().sort_index())"
   ]
  },
  {
   "cell_type": "markdown",
   "metadata": {},
   "source": [
    "______\n",
    "На этом предобработку данных можно считать завершенной\n",
    "______"
   ]
  },
  {
   "cell_type": "markdown",
   "metadata": {},
   "source": [
    "Понял понял, спасибо большое\n",
    "\n",
    "Все поправил\n",
    "\n",
    "Ответ - Зеро дубликатов "
   ]
  },
  {
   "cell_type": "markdown",
   "metadata": {},
   "source": [
    "В ходе предобработки данных были выполнены следующие поправки в данных:\n",
    "\n",
    "- Найдены и изучены пропущенные значения в столбцах\n",
    "- Рассмотрены типы данных в каждом столбце\n",
    "- Изучены уникальные значения в столбце с названиями и устранены неявные дубликаты.\n",
    "- Найдены и устранены редкие и выбивающиеся значения  \n",
    "\n",
    "На основании проведенной проверки в последующих сборах данных следует учитывать правильный сбор информации:\n",
    "\n",
    "- В данных было найдено большое количество пропусков и пробелов, стоит пересмотреть сбор данных по некоторым каналам \n",
    "- Несколько столбцов имели другой тип данных, отличный от необходимого\n",
    "- В столбце с названиями городов присутствовали дополнительные мешающие данные, от которых необходимо было избавиться, такие как поселок, город и т.п., предлагаю разделить сбор данных и при сборе указывать в отдельном окне Тип населенного пункта или каким то образом ограничить выбор пользователя\n",
    "- В некоторых столбцах достаточно много выбивающихся значений, это нормальные данные для фильтрации и анализа \n"
   ]
  },
  {
   "cell_type": "markdown",
   "metadata": {},
   "source": [
    "### Посчитайте и добавьте в таблицу новые столбцы"
   ]
  },
  {
   "cell_type": "markdown",
   "metadata": {},
   "source": [
    "______\n",
    "Проведем расчет цены 1 м2 \n",
    "______"
   ]
  },
  {
   "cell_type": "code",
   "execution_count": 23,
   "metadata": {},
   "outputs": [
    {
     "data": {
      "text/html": [
       "<div>\n",
       "<style scoped>\n",
       "    .dataframe tbody tr th:only-of-type {\n",
       "        vertical-align: middle;\n",
       "    }\n",
       "\n",
       "    .dataframe tbody tr th {\n",
       "        vertical-align: top;\n",
       "    }\n",
       "\n",
       "    .dataframe thead th {\n",
       "        text-align: right;\n",
       "    }\n",
       "</style>\n",
       "<table border=\"1\" class=\"dataframe\">\n",
       "  <thead>\n",
       "    <tr style=\"text-align: right;\">\n",
       "      <th></th>\n",
       "      <th>total_images</th>\n",
       "      <th>last_price</th>\n",
       "      <th>total_area</th>\n",
       "      <th>first_day_exposition</th>\n",
       "      <th>rooms</th>\n",
       "      <th>ceiling_height</th>\n",
       "      <th>floors_total</th>\n",
       "      <th>living_area</th>\n",
       "      <th>floor</th>\n",
       "      <th>is_apartment</th>\n",
       "      <th>...</th>\n",
       "      <th>balcony</th>\n",
       "      <th>locality_name</th>\n",
       "      <th>airports_nearest</th>\n",
       "      <th>cityCenters_nearest</th>\n",
       "      <th>parks_around3000</th>\n",
       "      <th>parks_nearest</th>\n",
       "      <th>ponds_around3000</th>\n",
       "      <th>ponds_nearest</th>\n",
       "      <th>days_exposition</th>\n",
       "      <th>meter_price</th>\n",
       "    </tr>\n",
       "  </thead>\n",
       "  <tbody>\n",
       "    <tr>\n",
       "      <th>0</th>\n",
       "      <td>20</td>\n",
       "      <td>13000000.0</td>\n",
       "      <td>108.0</td>\n",
       "      <td>2019-03-07</td>\n",
       "      <td>3</td>\n",
       "      <td>2.700000</td>\n",
       "      <td>16</td>\n",
       "      <td>51.0</td>\n",
       "      <td>8</td>\n",
       "      <td>True</td>\n",
       "      <td>...</td>\n",
       "      <td>0</td>\n",
       "      <td>Санкт-Петербург</td>\n",
       "      <td>18863.0</td>\n",
       "      <td>16028.0</td>\n",
       "      <td>1.0</td>\n",
       "      <td>482.0</td>\n",
       "      <td>2.0</td>\n",
       "      <td>755.0</td>\n",
       "      <td>NaN</td>\n",
       "      <td>120370.370370</td>\n",
       "    </tr>\n",
       "    <tr>\n",
       "      <th>1</th>\n",
       "      <td>7</td>\n",
       "      <td>3350000.0</td>\n",
       "      <td>40.4</td>\n",
       "      <td>2018-12-04</td>\n",
       "      <td>1</td>\n",
       "      <td>2.771499</td>\n",
       "      <td>11</td>\n",
       "      <td>18.6</td>\n",
       "      <td>1</td>\n",
       "      <td>True</td>\n",
       "      <td>...</td>\n",
       "      <td>2</td>\n",
       "      <td>Шушары</td>\n",
       "      <td>12817.0</td>\n",
       "      <td>18603.0</td>\n",
       "      <td>0.0</td>\n",
       "      <td>NaN</td>\n",
       "      <td>0.0</td>\n",
       "      <td>NaN</td>\n",
       "      <td>81.0</td>\n",
       "      <td>82920.792079</td>\n",
       "    </tr>\n",
       "    <tr>\n",
       "      <th>2</th>\n",
       "      <td>10</td>\n",
       "      <td>5196000.0</td>\n",
       "      <td>56.0</td>\n",
       "      <td>2015-08-20</td>\n",
       "      <td>2</td>\n",
       "      <td>2.771499</td>\n",
       "      <td>5</td>\n",
       "      <td>34.3</td>\n",
       "      <td>4</td>\n",
       "      <td>True</td>\n",
       "      <td>...</td>\n",
       "      <td>0</td>\n",
       "      <td>Санкт-Петербург</td>\n",
       "      <td>21741.0</td>\n",
       "      <td>13933.0</td>\n",
       "      <td>1.0</td>\n",
       "      <td>90.0</td>\n",
       "      <td>2.0</td>\n",
       "      <td>574.0</td>\n",
       "      <td>558.0</td>\n",
       "      <td>92785.714286</td>\n",
       "    </tr>\n",
       "    <tr>\n",
       "      <th>3</th>\n",
       "      <td>0</td>\n",
       "      <td>64900000.0</td>\n",
       "      <td>159.0</td>\n",
       "      <td>2015-07-24</td>\n",
       "      <td>3</td>\n",
       "      <td>2.771499</td>\n",
       "      <td>14</td>\n",
       "      <td>45.0</td>\n",
       "      <td>9</td>\n",
       "      <td>True</td>\n",
       "      <td>...</td>\n",
       "      <td>0</td>\n",
       "      <td>Санкт-Петербург</td>\n",
       "      <td>28098.0</td>\n",
       "      <td>6800.0</td>\n",
       "      <td>2.0</td>\n",
       "      <td>84.0</td>\n",
       "      <td>3.0</td>\n",
       "      <td>234.0</td>\n",
       "      <td>424.0</td>\n",
       "      <td>408176.100629</td>\n",
       "    </tr>\n",
       "    <tr>\n",
       "      <th>4</th>\n",
       "      <td>2</td>\n",
       "      <td>10000000.0</td>\n",
       "      <td>100.0</td>\n",
       "      <td>2018-06-19</td>\n",
       "      <td>2</td>\n",
       "      <td>3.030000</td>\n",
       "      <td>14</td>\n",
       "      <td>32.0</td>\n",
       "      <td>13</td>\n",
       "      <td>True</td>\n",
       "      <td>...</td>\n",
       "      <td>0</td>\n",
       "      <td>Санкт-Петербург</td>\n",
       "      <td>31856.0</td>\n",
       "      <td>8098.0</td>\n",
       "      <td>2.0</td>\n",
       "      <td>112.0</td>\n",
       "      <td>1.0</td>\n",
       "      <td>48.0</td>\n",
       "      <td>121.0</td>\n",
       "      <td>100000.000000</td>\n",
       "    </tr>\n",
       "  </tbody>\n",
       "</table>\n",
       "<p>5 rows × 23 columns</p>\n",
       "</div>"
      ],
      "text/plain": [
       "   total_images  last_price  total_area first_day_exposition  rooms  \\\n",
       "0            20  13000000.0       108.0           2019-03-07      3   \n",
       "1             7   3350000.0        40.4           2018-12-04      1   \n",
       "2            10   5196000.0        56.0           2015-08-20      2   \n",
       "3             0  64900000.0       159.0           2015-07-24      3   \n",
       "4             2  10000000.0       100.0           2018-06-19      2   \n",
       "\n",
       "   ceiling_height  floors_total  living_area  floor  is_apartment  ...  \\\n",
       "0        2.700000            16         51.0      8          True  ...   \n",
       "1        2.771499            11         18.6      1          True  ...   \n",
       "2        2.771499             5         34.3      4          True  ...   \n",
       "3        2.771499            14         45.0      9          True  ...   \n",
       "4        3.030000            14         32.0     13          True  ...   \n",
       "\n",
       "   balcony    locality_name  airports_nearest  cityCenters_nearest  \\\n",
       "0        0  Санкт-Петербург           18863.0              16028.0   \n",
       "1        2           Шушары           12817.0              18603.0   \n",
       "2        0  Санкт-Петербург           21741.0              13933.0   \n",
       "3        0  Санкт-Петербург           28098.0               6800.0   \n",
       "4        0  Санкт-Петербург           31856.0               8098.0   \n",
       "\n",
       "  parks_around3000  parks_nearest  ponds_around3000  ponds_nearest  \\\n",
       "0              1.0          482.0               2.0          755.0   \n",
       "1              0.0            NaN               0.0            NaN   \n",
       "2              1.0           90.0               2.0          574.0   \n",
       "3              2.0           84.0               3.0          234.0   \n",
       "4              2.0          112.0               1.0           48.0   \n",
       "\n",
       "   days_exposition    meter_price  \n",
       "0              NaN  120370.370370  \n",
       "1             81.0   82920.792079  \n",
       "2            558.0   92785.714286  \n",
       "3            424.0  408176.100629  \n",
       "4            121.0  100000.000000  \n",
       "\n",
       "[5 rows x 23 columns]"
      ]
     },
     "metadata": {},
     "output_type": "display_data"
    }
   ],
   "source": [
    "data['meter_price'] = data['last_price'] / data['total_area']\n",
    "display(data.head())"
   ]
  },
  {
   "cell_type": "markdown",
   "metadata": {},
   "source": [
    "______\n",
    "\n",
    "Добавим в таблицу день публикации объявления\n",
    "\n",
    "______"
   ]
  },
  {
   "cell_type": "code",
   "execution_count": 24,
   "metadata": {},
   "outputs": [
    {
     "data": {
      "text/html": [
       "<div>\n",
       "<style scoped>\n",
       "    .dataframe tbody tr th:only-of-type {\n",
       "        vertical-align: middle;\n",
       "    }\n",
       "\n",
       "    .dataframe tbody tr th {\n",
       "        vertical-align: top;\n",
       "    }\n",
       "\n",
       "    .dataframe thead th {\n",
       "        text-align: right;\n",
       "    }\n",
       "</style>\n",
       "<table border=\"1\" class=\"dataframe\">\n",
       "  <thead>\n",
       "    <tr style=\"text-align: right;\">\n",
       "      <th></th>\n",
       "      <th>total_images</th>\n",
       "      <th>last_price</th>\n",
       "      <th>total_area</th>\n",
       "      <th>first_day_exposition</th>\n",
       "      <th>rooms</th>\n",
       "      <th>ceiling_height</th>\n",
       "      <th>floors_total</th>\n",
       "      <th>living_area</th>\n",
       "      <th>floor</th>\n",
       "      <th>is_apartment</th>\n",
       "      <th>...</th>\n",
       "      <th>locality_name</th>\n",
       "      <th>airports_nearest</th>\n",
       "      <th>cityCenters_nearest</th>\n",
       "      <th>parks_around3000</th>\n",
       "      <th>parks_nearest</th>\n",
       "      <th>ponds_around3000</th>\n",
       "      <th>ponds_nearest</th>\n",
       "      <th>days_exposition</th>\n",
       "      <th>meter_price</th>\n",
       "      <th>day_post</th>\n",
       "    </tr>\n",
       "  </thead>\n",
       "  <tbody>\n",
       "    <tr>\n",
       "      <th>0</th>\n",
       "      <td>20</td>\n",
       "      <td>13000000.0</td>\n",
       "      <td>108.0</td>\n",
       "      <td>2019-03-07</td>\n",
       "      <td>3</td>\n",
       "      <td>2.700000</td>\n",
       "      <td>16</td>\n",
       "      <td>51.0</td>\n",
       "      <td>8</td>\n",
       "      <td>True</td>\n",
       "      <td>...</td>\n",
       "      <td>Санкт-Петербург</td>\n",
       "      <td>18863.0</td>\n",
       "      <td>16028.0</td>\n",
       "      <td>1.0</td>\n",
       "      <td>482.0</td>\n",
       "      <td>2.0</td>\n",
       "      <td>755.0</td>\n",
       "      <td>NaN</td>\n",
       "      <td>120370.370370</td>\n",
       "      <td>3</td>\n",
       "    </tr>\n",
       "    <tr>\n",
       "      <th>1</th>\n",
       "      <td>7</td>\n",
       "      <td>3350000.0</td>\n",
       "      <td>40.4</td>\n",
       "      <td>2018-12-04</td>\n",
       "      <td>1</td>\n",
       "      <td>2.771499</td>\n",
       "      <td>11</td>\n",
       "      <td>18.6</td>\n",
       "      <td>1</td>\n",
       "      <td>True</td>\n",
       "      <td>...</td>\n",
       "      <td>Шушары</td>\n",
       "      <td>12817.0</td>\n",
       "      <td>18603.0</td>\n",
       "      <td>0.0</td>\n",
       "      <td>NaN</td>\n",
       "      <td>0.0</td>\n",
       "      <td>NaN</td>\n",
       "      <td>81.0</td>\n",
       "      <td>82920.792079</td>\n",
       "      <td>1</td>\n",
       "    </tr>\n",
       "    <tr>\n",
       "      <th>2</th>\n",
       "      <td>10</td>\n",
       "      <td>5196000.0</td>\n",
       "      <td>56.0</td>\n",
       "      <td>2015-08-20</td>\n",
       "      <td>2</td>\n",
       "      <td>2.771499</td>\n",
       "      <td>5</td>\n",
       "      <td>34.3</td>\n",
       "      <td>4</td>\n",
       "      <td>True</td>\n",
       "      <td>...</td>\n",
       "      <td>Санкт-Петербург</td>\n",
       "      <td>21741.0</td>\n",
       "      <td>13933.0</td>\n",
       "      <td>1.0</td>\n",
       "      <td>90.0</td>\n",
       "      <td>2.0</td>\n",
       "      <td>574.0</td>\n",
       "      <td>558.0</td>\n",
       "      <td>92785.714286</td>\n",
       "      <td>3</td>\n",
       "    </tr>\n",
       "    <tr>\n",
       "      <th>3</th>\n",
       "      <td>0</td>\n",
       "      <td>64900000.0</td>\n",
       "      <td>159.0</td>\n",
       "      <td>2015-07-24</td>\n",
       "      <td>3</td>\n",
       "      <td>2.771499</td>\n",
       "      <td>14</td>\n",
       "      <td>45.0</td>\n",
       "      <td>9</td>\n",
       "      <td>True</td>\n",
       "      <td>...</td>\n",
       "      <td>Санкт-Петербург</td>\n",
       "      <td>28098.0</td>\n",
       "      <td>6800.0</td>\n",
       "      <td>2.0</td>\n",
       "      <td>84.0</td>\n",
       "      <td>3.0</td>\n",
       "      <td>234.0</td>\n",
       "      <td>424.0</td>\n",
       "      <td>408176.100629</td>\n",
       "      <td>4</td>\n",
       "    </tr>\n",
       "    <tr>\n",
       "      <th>4</th>\n",
       "      <td>2</td>\n",
       "      <td>10000000.0</td>\n",
       "      <td>100.0</td>\n",
       "      <td>2018-06-19</td>\n",
       "      <td>2</td>\n",
       "      <td>3.030000</td>\n",
       "      <td>14</td>\n",
       "      <td>32.0</td>\n",
       "      <td>13</td>\n",
       "      <td>True</td>\n",
       "      <td>...</td>\n",
       "      <td>Санкт-Петербург</td>\n",
       "      <td>31856.0</td>\n",
       "      <td>8098.0</td>\n",
       "      <td>2.0</td>\n",
       "      <td>112.0</td>\n",
       "      <td>1.0</td>\n",
       "      <td>48.0</td>\n",
       "      <td>121.0</td>\n",
       "      <td>100000.000000</td>\n",
       "      <td>1</td>\n",
       "    </tr>\n",
       "  </tbody>\n",
       "</table>\n",
       "<p>5 rows × 24 columns</p>\n",
       "</div>"
      ],
      "text/plain": [
       "   total_images  last_price  total_area first_day_exposition  rooms  \\\n",
       "0            20  13000000.0       108.0           2019-03-07      3   \n",
       "1             7   3350000.0        40.4           2018-12-04      1   \n",
       "2            10   5196000.0        56.0           2015-08-20      2   \n",
       "3             0  64900000.0       159.0           2015-07-24      3   \n",
       "4             2  10000000.0       100.0           2018-06-19      2   \n",
       "\n",
       "   ceiling_height  floors_total  living_area  floor  is_apartment  ...  \\\n",
       "0        2.700000            16         51.0      8          True  ...   \n",
       "1        2.771499            11         18.6      1          True  ...   \n",
       "2        2.771499             5         34.3      4          True  ...   \n",
       "3        2.771499            14         45.0      9          True  ...   \n",
       "4        3.030000            14         32.0     13          True  ...   \n",
       "\n",
       "     locality_name  airports_nearest  cityCenters_nearest  parks_around3000  \\\n",
       "0  Санкт-Петербург           18863.0              16028.0               1.0   \n",
       "1           Шушары           12817.0              18603.0               0.0   \n",
       "2  Санкт-Петербург           21741.0              13933.0               1.0   \n",
       "3  Санкт-Петербург           28098.0               6800.0               2.0   \n",
       "4  Санкт-Петербург           31856.0               8098.0               2.0   \n",
       "\n",
       "  parks_nearest  ponds_around3000  ponds_nearest  days_exposition  \\\n",
       "0         482.0               2.0          755.0              NaN   \n",
       "1           NaN               0.0            NaN             81.0   \n",
       "2          90.0               2.0          574.0            558.0   \n",
       "3          84.0               3.0          234.0            424.0   \n",
       "4         112.0               1.0           48.0            121.0   \n",
       "\n",
       "     meter_price  day_post  \n",
       "0  120370.370370         3  \n",
       "1   82920.792079         1  \n",
       "2   92785.714286         3  \n",
       "3  408176.100629         4  \n",
       "4  100000.000000         1  \n",
       "\n",
       "[5 rows x 24 columns]"
      ]
     },
     "metadata": {},
     "output_type": "display_data"
    }
   ],
   "source": [
    "data['day_post'] = data['first_day_exposition'].dt.weekday\n",
    "display(data.head())"
   ]
  },
  {
   "cell_type": "markdown",
   "metadata": {},
   "source": [
    "______\n",
    "\n",
    "Добавим в таблицу месяц публикации объявления\n",
    "\n",
    "______"
   ]
  },
  {
   "cell_type": "code",
   "execution_count": 25,
   "metadata": {},
   "outputs": [
    {
     "data": {
      "text/html": [
       "<div>\n",
       "<style scoped>\n",
       "    .dataframe tbody tr th:only-of-type {\n",
       "        vertical-align: middle;\n",
       "    }\n",
       "\n",
       "    .dataframe tbody tr th {\n",
       "        vertical-align: top;\n",
       "    }\n",
       "\n",
       "    .dataframe thead th {\n",
       "        text-align: right;\n",
       "    }\n",
       "</style>\n",
       "<table border=\"1\" class=\"dataframe\">\n",
       "  <thead>\n",
       "    <tr style=\"text-align: right;\">\n",
       "      <th></th>\n",
       "      <th>total_images</th>\n",
       "      <th>last_price</th>\n",
       "      <th>total_area</th>\n",
       "      <th>first_day_exposition</th>\n",
       "      <th>rooms</th>\n",
       "      <th>ceiling_height</th>\n",
       "      <th>floors_total</th>\n",
       "      <th>living_area</th>\n",
       "      <th>floor</th>\n",
       "      <th>is_apartment</th>\n",
       "      <th>...</th>\n",
       "      <th>airports_nearest</th>\n",
       "      <th>cityCenters_nearest</th>\n",
       "      <th>parks_around3000</th>\n",
       "      <th>parks_nearest</th>\n",
       "      <th>ponds_around3000</th>\n",
       "      <th>ponds_nearest</th>\n",
       "      <th>days_exposition</th>\n",
       "      <th>meter_price</th>\n",
       "      <th>day_post</th>\n",
       "      <th>month_post</th>\n",
       "    </tr>\n",
       "  </thead>\n",
       "  <tbody>\n",
       "    <tr>\n",
       "      <th>0</th>\n",
       "      <td>20</td>\n",
       "      <td>13000000.0</td>\n",
       "      <td>108.0</td>\n",
       "      <td>2019-03-07</td>\n",
       "      <td>3</td>\n",
       "      <td>2.700000</td>\n",
       "      <td>16</td>\n",
       "      <td>51.0</td>\n",
       "      <td>8</td>\n",
       "      <td>True</td>\n",
       "      <td>...</td>\n",
       "      <td>18863.0</td>\n",
       "      <td>16028.0</td>\n",
       "      <td>1.0</td>\n",
       "      <td>482.0</td>\n",
       "      <td>2.0</td>\n",
       "      <td>755.0</td>\n",
       "      <td>NaN</td>\n",
       "      <td>120370.370370</td>\n",
       "      <td>3</td>\n",
       "      <td>3</td>\n",
       "    </tr>\n",
       "    <tr>\n",
       "      <th>1</th>\n",
       "      <td>7</td>\n",
       "      <td>3350000.0</td>\n",
       "      <td>40.4</td>\n",
       "      <td>2018-12-04</td>\n",
       "      <td>1</td>\n",
       "      <td>2.771499</td>\n",
       "      <td>11</td>\n",
       "      <td>18.6</td>\n",
       "      <td>1</td>\n",
       "      <td>True</td>\n",
       "      <td>...</td>\n",
       "      <td>12817.0</td>\n",
       "      <td>18603.0</td>\n",
       "      <td>0.0</td>\n",
       "      <td>NaN</td>\n",
       "      <td>0.0</td>\n",
       "      <td>NaN</td>\n",
       "      <td>81.0</td>\n",
       "      <td>82920.792079</td>\n",
       "      <td>1</td>\n",
       "      <td>12</td>\n",
       "    </tr>\n",
       "    <tr>\n",
       "      <th>2</th>\n",
       "      <td>10</td>\n",
       "      <td>5196000.0</td>\n",
       "      <td>56.0</td>\n",
       "      <td>2015-08-20</td>\n",
       "      <td>2</td>\n",
       "      <td>2.771499</td>\n",
       "      <td>5</td>\n",
       "      <td>34.3</td>\n",
       "      <td>4</td>\n",
       "      <td>True</td>\n",
       "      <td>...</td>\n",
       "      <td>21741.0</td>\n",
       "      <td>13933.0</td>\n",
       "      <td>1.0</td>\n",
       "      <td>90.0</td>\n",
       "      <td>2.0</td>\n",
       "      <td>574.0</td>\n",
       "      <td>558.0</td>\n",
       "      <td>92785.714286</td>\n",
       "      <td>3</td>\n",
       "      <td>8</td>\n",
       "    </tr>\n",
       "    <tr>\n",
       "      <th>3</th>\n",
       "      <td>0</td>\n",
       "      <td>64900000.0</td>\n",
       "      <td>159.0</td>\n",
       "      <td>2015-07-24</td>\n",
       "      <td>3</td>\n",
       "      <td>2.771499</td>\n",
       "      <td>14</td>\n",
       "      <td>45.0</td>\n",
       "      <td>9</td>\n",
       "      <td>True</td>\n",
       "      <td>...</td>\n",
       "      <td>28098.0</td>\n",
       "      <td>6800.0</td>\n",
       "      <td>2.0</td>\n",
       "      <td>84.0</td>\n",
       "      <td>3.0</td>\n",
       "      <td>234.0</td>\n",
       "      <td>424.0</td>\n",
       "      <td>408176.100629</td>\n",
       "      <td>4</td>\n",
       "      <td>7</td>\n",
       "    </tr>\n",
       "    <tr>\n",
       "      <th>4</th>\n",
       "      <td>2</td>\n",
       "      <td>10000000.0</td>\n",
       "      <td>100.0</td>\n",
       "      <td>2018-06-19</td>\n",
       "      <td>2</td>\n",
       "      <td>3.030000</td>\n",
       "      <td>14</td>\n",
       "      <td>32.0</td>\n",
       "      <td>13</td>\n",
       "      <td>True</td>\n",
       "      <td>...</td>\n",
       "      <td>31856.0</td>\n",
       "      <td>8098.0</td>\n",
       "      <td>2.0</td>\n",
       "      <td>112.0</td>\n",
       "      <td>1.0</td>\n",
       "      <td>48.0</td>\n",
       "      <td>121.0</td>\n",
       "      <td>100000.000000</td>\n",
       "      <td>1</td>\n",
       "      <td>6</td>\n",
       "    </tr>\n",
       "  </tbody>\n",
       "</table>\n",
       "<p>5 rows × 25 columns</p>\n",
       "</div>"
      ],
      "text/plain": [
       "   total_images  last_price  total_area first_day_exposition  rooms  \\\n",
       "0            20  13000000.0       108.0           2019-03-07      3   \n",
       "1             7   3350000.0        40.4           2018-12-04      1   \n",
       "2            10   5196000.0        56.0           2015-08-20      2   \n",
       "3             0  64900000.0       159.0           2015-07-24      3   \n",
       "4             2  10000000.0       100.0           2018-06-19      2   \n",
       "\n",
       "   ceiling_height  floors_total  living_area  floor  is_apartment  ...  \\\n",
       "0        2.700000            16         51.0      8          True  ...   \n",
       "1        2.771499            11         18.6      1          True  ...   \n",
       "2        2.771499             5         34.3      4          True  ...   \n",
       "3        2.771499            14         45.0      9          True  ...   \n",
       "4        3.030000            14         32.0     13          True  ...   \n",
       "\n",
       "   airports_nearest  cityCenters_nearest  parks_around3000  parks_nearest  \\\n",
       "0           18863.0              16028.0               1.0          482.0   \n",
       "1           12817.0              18603.0               0.0            NaN   \n",
       "2           21741.0              13933.0               1.0           90.0   \n",
       "3           28098.0               6800.0               2.0           84.0   \n",
       "4           31856.0               8098.0               2.0          112.0   \n",
       "\n",
       "  ponds_around3000  ponds_nearest  days_exposition    meter_price  day_post  \\\n",
       "0              2.0          755.0              NaN  120370.370370         3   \n",
       "1              0.0            NaN             81.0   82920.792079         1   \n",
       "2              2.0          574.0            558.0   92785.714286         3   \n",
       "3              3.0          234.0            424.0  408176.100629         4   \n",
       "4              1.0           48.0            121.0  100000.000000         1   \n",
       "\n",
       "   month_post  \n",
       "0           3  \n",
       "1          12  \n",
       "2           8  \n",
       "3           7  \n",
       "4           6  \n",
       "\n",
       "[5 rows x 25 columns]"
      ]
     },
     "metadata": {},
     "output_type": "display_data"
    }
   ],
   "source": [
    "data['month_post'] = data['first_day_exposition'].dt.month\n",
    "display(data.head())"
   ]
  },
  {
   "cell_type": "markdown",
   "metadata": {},
   "source": [
    "______\n",
    "\n",
    "Добавим в таблицу год публикации объявления\n",
    "\n",
    "______"
   ]
  },
  {
   "cell_type": "code",
   "execution_count": 26,
   "metadata": {},
   "outputs": [
    {
     "data": {
      "text/html": [
       "<div>\n",
       "<style scoped>\n",
       "    .dataframe tbody tr th:only-of-type {\n",
       "        vertical-align: middle;\n",
       "    }\n",
       "\n",
       "    .dataframe tbody tr th {\n",
       "        vertical-align: top;\n",
       "    }\n",
       "\n",
       "    .dataframe thead th {\n",
       "        text-align: right;\n",
       "    }\n",
       "</style>\n",
       "<table border=\"1\" class=\"dataframe\">\n",
       "  <thead>\n",
       "    <tr style=\"text-align: right;\">\n",
       "      <th></th>\n",
       "      <th>total_images</th>\n",
       "      <th>last_price</th>\n",
       "      <th>total_area</th>\n",
       "      <th>first_day_exposition</th>\n",
       "      <th>rooms</th>\n",
       "      <th>ceiling_height</th>\n",
       "      <th>floors_total</th>\n",
       "      <th>living_area</th>\n",
       "      <th>floor</th>\n",
       "      <th>is_apartment</th>\n",
       "      <th>...</th>\n",
       "      <th>cityCenters_nearest</th>\n",
       "      <th>parks_around3000</th>\n",
       "      <th>parks_nearest</th>\n",
       "      <th>ponds_around3000</th>\n",
       "      <th>ponds_nearest</th>\n",
       "      <th>days_exposition</th>\n",
       "      <th>meter_price</th>\n",
       "      <th>day_post</th>\n",
       "      <th>month_post</th>\n",
       "      <th>year_post</th>\n",
       "    </tr>\n",
       "  </thead>\n",
       "  <tbody>\n",
       "    <tr>\n",
       "      <th>0</th>\n",
       "      <td>20</td>\n",
       "      <td>13000000.0</td>\n",
       "      <td>108.0</td>\n",
       "      <td>2019-03-07</td>\n",
       "      <td>3</td>\n",
       "      <td>2.700000</td>\n",
       "      <td>16</td>\n",
       "      <td>51.0</td>\n",
       "      <td>8</td>\n",
       "      <td>True</td>\n",
       "      <td>...</td>\n",
       "      <td>16028.0</td>\n",
       "      <td>1.0</td>\n",
       "      <td>482.0</td>\n",
       "      <td>2.0</td>\n",
       "      <td>755.0</td>\n",
       "      <td>NaN</td>\n",
       "      <td>120370.370370</td>\n",
       "      <td>3</td>\n",
       "      <td>3</td>\n",
       "      <td>2019</td>\n",
       "    </tr>\n",
       "    <tr>\n",
       "      <th>1</th>\n",
       "      <td>7</td>\n",
       "      <td>3350000.0</td>\n",
       "      <td>40.4</td>\n",
       "      <td>2018-12-04</td>\n",
       "      <td>1</td>\n",
       "      <td>2.771499</td>\n",
       "      <td>11</td>\n",
       "      <td>18.6</td>\n",
       "      <td>1</td>\n",
       "      <td>True</td>\n",
       "      <td>...</td>\n",
       "      <td>18603.0</td>\n",
       "      <td>0.0</td>\n",
       "      <td>NaN</td>\n",
       "      <td>0.0</td>\n",
       "      <td>NaN</td>\n",
       "      <td>81.0</td>\n",
       "      <td>82920.792079</td>\n",
       "      <td>1</td>\n",
       "      <td>12</td>\n",
       "      <td>2018</td>\n",
       "    </tr>\n",
       "    <tr>\n",
       "      <th>2</th>\n",
       "      <td>10</td>\n",
       "      <td>5196000.0</td>\n",
       "      <td>56.0</td>\n",
       "      <td>2015-08-20</td>\n",
       "      <td>2</td>\n",
       "      <td>2.771499</td>\n",
       "      <td>5</td>\n",
       "      <td>34.3</td>\n",
       "      <td>4</td>\n",
       "      <td>True</td>\n",
       "      <td>...</td>\n",
       "      <td>13933.0</td>\n",
       "      <td>1.0</td>\n",
       "      <td>90.0</td>\n",
       "      <td>2.0</td>\n",
       "      <td>574.0</td>\n",
       "      <td>558.0</td>\n",
       "      <td>92785.714286</td>\n",
       "      <td>3</td>\n",
       "      <td>8</td>\n",
       "      <td>2015</td>\n",
       "    </tr>\n",
       "    <tr>\n",
       "      <th>3</th>\n",
       "      <td>0</td>\n",
       "      <td>64900000.0</td>\n",
       "      <td>159.0</td>\n",
       "      <td>2015-07-24</td>\n",
       "      <td>3</td>\n",
       "      <td>2.771499</td>\n",
       "      <td>14</td>\n",
       "      <td>45.0</td>\n",
       "      <td>9</td>\n",
       "      <td>True</td>\n",
       "      <td>...</td>\n",
       "      <td>6800.0</td>\n",
       "      <td>2.0</td>\n",
       "      <td>84.0</td>\n",
       "      <td>3.0</td>\n",
       "      <td>234.0</td>\n",
       "      <td>424.0</td>\n",
       "      <td>408176.100629</td>\n",
       "      <td>4</td>\n",
       "      <td>7</td>\n",
       "      <td>2015</td>\n",
       "    </tr>\n",
       "    <tr>\n",
       "      <th>4</th>\n",
       "      <td>2</td>\n",
       "      <td>10000000.0</td>\n",
       "      <td>100.0</td>\n",
       "      <td>2018-06-19</td>\n",
       "      <td>2</td>\n",
       "      <td>3.030000</td>\n",
       "      <td>14</td>\n",
       "      <td>32.0</td>\n",
       "      <td>13</td>\n",
       "      <td>True</td>\n",
       "      <td>...</td>\n",
       "      <td>8098.0</td>\n",
       "      <td>2.0</td>\n",
       "      <td>112.0</td>\n",
       "      <td>1.0</td>\n",
       "      <td>48.0</td>\n",
       "      <td>121.0</td>\n",
       "      <td>100000.000000</td>\n",
       "      <td>1</td>\n",
       "      <td>6</td>\n",
       "      <td>2018</td>\n",
       "    </tr>\n",
       "  </tbody>\n",
       "</table>\n",
       "<p>5 rows × 26 columns</p>\n",
       "</div>"
      ],
      "text/plain": [
       "   total_images  last_price  total_area first_day_exposition  rooms  \\\n",
       "0            20  13000000.0       108.0           2019-03-07      3   \n",
       "1             7   3350000.0        40.4           2018-12-04      1   \n",
       "2            10   5196000.0        56.0           2015-08-20      2   \n",
       "3             0  64900000.0       159.0           2015-07-24      3   \n",
       "4             2  10000000.0       100.0           2018-06-19      2   \n",
       "\n",
       "   ceiling_height  floors_total  living_area  floor  is_apartment  ...  \\\n",
       "0        2.700000            16         51.0      8          True  ...   \n",
       "1        2.771499            11         18.6      1          True  ...   \n",
       "2        2.771499             5         34.3      4          True  ...   \n",
       "3        2.771499            14         45.0      9          True  ...   \n",
       "4        3.030000            14         32.0     13          True  ...   \n",
       "\n",
       "   cityCenters_nearest  parks_around3000  parks_nearest  ponds_around3000  \\\n",
       "0              16028.0               1.0          482.0               2.0   \n",
       "1              18603.0               0.0            NaN               0.0   \n",
       "2              13933.0               1.0           90.0               2.0   \n",
       "3               6800.0               2.0           84.0               3.0   \n",
       "4               8098.0               2.0          112.0               1.0   \n",
       "\n",
       "  ponds_nearest  days_exposition    meter_price  day_post  month_post  \\\n",
       "0         755.0              NaN  120370.370370         3           3   \n",
       "1           NaN             81.0   82920.792079         1          12   \n",
       "2         574.0            558.0   92785.714286         3           8   \n",
       "3         234.0            424.0  408176.100629         4           7   \n",
       "4          48.0            121.0  100000.000000         1           6   \n",
       "\n",
       "   year_post  \n",
       "0       2019  \n",
       "1       2018  \n",
       "2       2015  \n",
       "3       2015  \n",
       "4       2018  \n",
       "\n",
       "[5 rows x 26 columns]"
      ]
     },
     "metadata": {},
     "output_type": "display_data"
    }
   ],
   "source": [
    "data['year_post'] = data['first_day_exposition'].dt.year \n",
    "display(data.head())"
   ]
  },
  {
   "cell_type": "markdown",
   "metadata": {},
   "source": [
    "______\n",
    "\n",
    "Добавим в таблицу тип этажа квартиры (значения — «первый», «последний», «другой»)\n",
    "______"
   ]
  },
  {
   "cell_type": "code",
   "execution_count": 27,
   "metadata": {},
   "outputs": [
    {
     "data": {
      "text/html": [
       "<div>\n",
       "<style scoped>\n",
       "    .dataframe tbody tr th:only-of-type {\n",
       "        vertical-align: middle;\n",
       "    }\n",
       "\n",
       "    .dataframe tbody tr th {\n",
       "        vertical-align: top;\n",
       "    }\n",
       "\n",
       "    .dataframe thead th {\n",
       "        text-align: right;\n",
       "    }\n",
       "</style>\n",
       "<table border=\"1\" class=\"dataframe\">\n",
       "  <thead>\n",
       "    <tr style=\"text-align: right;\">\n",
       "      <th></th>\n",
       "      <th>total_images</th>\n",
       "      <th>last_price</th>\n",
       "      <th>total_area</th>\n",
       "      <th>first_day_exposition</th>\n",
       "      <th>rooms</th>\n",
       "      <th>ceiling_height</th>\n",
       "      <th>floors_total</th>\n",
       "      <th>living_area</th>\n",
       "      <th>floor</th>\n",
       "      <th>is_apartment</th>\n",
       "      <th>...</th>\n",
       "      <th>parks_around3000</th>\n",
       "      <th>parks_nearest</th>\n",
       "      <th>ponds_around3000</th>\n",
       "      <th>ponds_nearest</th>\n",
       "      <th>days_exposition</th>\n",
       "      <th>meter_price</th>\n",
       "      <th>day_post</th>\n",
       "      <th>month_post</th>\n",
       "      <th>year_post</th>\n",
       "      <th>floor_type</th>\n",
       "    </tr>\n",
       "  </thead>\n",
       "  <tbody>\n",
       "    <tr>\n",
       "      <th>0</th>\n",
       "      <td>20</td>\n",
       "      <td>13000000.0</td>\n",
       "      <td>108.0</td>\n",
       "      <td>2019-03-07</td>\n",
       "      <td>3</td>\n",
       "      <td>2.700000</td>\n",
       "      <td>16</td>\n",
       "      <td>51.0</td>\n",
       "      <td>8</td>\n",
       "      <td>True</td>\n",
       "      <td>...</td>\n",
       "      <td>1.0</td>\n",
       "      <td>482.0</td>\n",
       "      <td>2.0</td>\n",
       "      <td>755.0</td>\n",
       "      <td>NaN</td>\n",
       "      <td>120370.370370</td>\n",
       "      <td>3</td>\n",
       "      <td>3</td>\n",
       "      <td>2019</td>\n",
       "      <td>Другой</td>\n",
       "    </tr>\n",
       "    <tr>\n",
       "      <th>1</th>\n",
       "      <td>7</td>\n",
       "      <td>3350000.0</td>\n",
       "      <td>40.4</td>\n",
       "      <td>2018-12-04</td>\n",
       "      <td>1</td>\n",
       "      <td>2.771499</td>\n",
       "      <td>11</td>\n",
       "      <td>18.6</td>\n",
       "      <td>1</td>\n",
       "      <td>True</td>\n",
       "      <td>...</td>\n",
       "      <td>0.0</td>\n",
       "      <td>NaN</td>\n",
       "      <td>0.0</td>\n",
       "      <td>NaN</td>\n",
       "      <td>81.0</td>\n",
       "      <td>82920.792079</td>\n",
       "      <td>1</td>\n",
       "      <td>12</td>\n",
       "      <td>2018</td>\n",
       "      <td>Первый</td>\n",
       "    </tr>\n",
       "    <tr>\n",
       "      <th>2</th>\n",
       "      <td>10</td>\n",
       "      <td>5196000.0</td>\n",
       "      <td>56.0</td>\n",
       "      <td>2015-08-20</td>\n",
       "      <td>2</td>\n",
       "      <td>2.771499</td>\n",
       "      <td>5</td>\n",
       "      <td>34.3</td>\n",
       "      <td>4</td>\n",
       "      <td>True</td>\n",
       "      <td>...</td>\n",
       "      <td>1.0</td>\n",
       "      <td>90.0</td>\n",
       "      <td>2.0</td>\n",
       "      <td>574.0</td>\n",
       "      <td>558.0</td>\n",
       "      <td>92785.714286</td>\n",
       "      <td>3</td>\n",
       "      <td>8</td>\n",
       "      <td>2015</td>\n",
       "      <td>Другой</td>\n",
       "    </tr>\n",
       "    <tr>\n",
       "      <th>3</th>\n",
       "      <td>0</td>\n",
       "      <td>64900000.0</td>\n",
       "      <td>159.0</td>\n",
       "      <td>2015-07-24</td>\n",
       "      <td>3</td>\n",
       "      <td>2.771499</td>\n",
       "      <td>14</td>\n",
       "      <td>45.0</td>\n",
       "      <td>9</td>\n",
       "      <td>True</td>\n",
       "      <td>...</td>\n",
       "      <td>2.0</td>\n",
       "      <td>84.0</td>\n",
       "      <td>3.0</td>\n",
       "      <td>234.0</td>\n",
       "      <td>424.0</td>\n",
       "      <td>408176.100629</td>\n",
       "      <td>4</td>\n",
       "      <td>7</td>\n",
       "      <td>2015</td>\n",
       "      <td>Другой</td>\n",
       "    </tr>\n",
       "    <tr>\n",
       "      <th>4</th>\n",
       "      <td>2</td>\n",
       "      <td>10000000.0</td>\n",
       "      <td>100.0</td>\n",
       "      <td>2018-06-19</td>\n",
       "      <td>2</td>\n",
       "      <td>3.030000</td>\n",
       "      <td>14</td>\n",
       "      <td>32.0</td>\n",
       "      <td>13</td>\n",
       "      <td>True</td>\n",
       "      <td>...</td>\n",
       "      <td>2.0</td>\n",
       "      <td>112.0</td>\n",
       "      <td>1.0</td>\n",
       "      <td>48.0</td>\n",
       "      <td>121.0</td>\n",
       "      <td>100000.000000</td>\n",
       "      <td>1</td>\n",
       "      <td>6</td>\n",
       "      <td>2018</td>\n",
       "      <td>Другой</td>\n",
       "    </tr>\n",
       "  </tbody>\n",
       "</table>\n",
       "<p>5 rows × 27 columns</p>\n",
       "</div>"
      ],
      "text/plain": [
       "   total_images  last_price  total_area first_day_exposition  rooms  \\\n",
       "0            20  13000000.0       108.0           2019-03-07      3   \n",
       "1             7   3350000.0        40.4           2018-12-04      1   \n",
       "2            10   5196000.0        56.0           2015-08-20      2   \n",
       "3             0  64900000.0       159.0           2015-07-24      3   \n",
       "4             2  10000000.0       100.0           2018-06-19      2   \n",
       "\n",
       "   ceiling_height  floors_total  living_area  floor  is_apartment  ...  \\\n",
       "0        2.700000            16         51.0      8          True  ...   \n",
       "1        2.771499            11         18.6      1          True  ...   \n",
       "2        2.771499             5         34.3      4          True  ...   \n",
       "3        2.771499            14         45.0      9          True  ...   \n",
       "4        3.030000            14         32.0     13          True  ...   \n",
       "\n",
       "   parks_around3000  parks_nearest  ponds_around3000  ponds_nearest  \\\n",
       "0               1.0          482.0               2.0          755.0   \n",
       "1               0.0            NaN               0.0            NaN   \n",
       "2               1.0           90.0               2.0          574.0   \n",
       "3               2.0           84.0               3.0          234.0   \n",
       "4               2.0          112.0               1.0           48.0   \n",
       "\n",
       "  days_exposition    meter_price  day_post  month_post  year_post  floor_type  \n",
       "0             NaN  120370.370370         3           3       2019      Другой  \n",
       "1            81.0   82920.792079         1          12       2018      Первый  \n",
       "2           558.0   92785.714286         3           8       2015      Другой  \n",
       "3           424.0  408176.100629         4           7       2015      Другой  \n",
       "4           121.0  100000.000000         1           6       2018      Другой  \n",
       "\n",
       "[5 rows x 27 columns]"
      ]
     },
     "metadata": {},
     "output_type": "display_data"
    }
   ],
   "source": [
    "def flat_type(row):\n",
    "        if row['floor'] == 1:\n",
    "            return 'Первый'\n",
    "        elif row['floor'] == row['floors_total']:\n",
    "            return 'Последний'\n",
    "        elif 1 < row['floor'] < row['floors_total']:\n",
    "            return 'Другой'\n",
    "data['floor_type'] = data.apply(flat_type, axis = 1)\n",
    "display(data.head())"
   ]
  },
  {
   "cell_type": "markdown",
   "metadata": {},
   "source": [
    "______\n",
    "\n",
    "Добавим в таблицу расстояние в км до центра города\n",
    "______"
   ]
  },
  {
   "cell_type": "code",
   "execution_count": 28,
   "metadata": {},
   "outputs": [
    {
     "data": {
      "text/html": [
       "<div>\n",
       "<style scoped>\n",
       "    .dataframe tbody tr th:only-of-type {\n",
       "        vertical-align: middle;\n",
       "    }\n",
       "\n",
       "    .dataframe tbody tr th {\n",
       "        vertical-align: top;\n",
       "    }\n",
       "\n",
       "    .dataframe thead th {\n",
       "        text-align: right;\n",
       "    }\n",
       "</style>\n",
       "<table border=\"1\" class=\"dataframe\">\n",
       "  <thead>\n",
       "    <tr style=\"text-align: right;\">\n",
       "      <th></th>\n",
       "      <th>total_images</th>\n",
       "      <th>last_price</th>\n",
       "      <th>total_area</th>\n",
       "      <th>first_day_exposition</th>\n",
       "      <th>rooms</th>\n",
       "      <th>ceiling_height</th>\n",
       "      <th>floors_total</th>\n",
       "      <th>living_area</th>\n",
       "      <th>floor</th>\n",
       "      <th>is_apartment</th>\n",
       "      <th>...</th>\n",
       "      <th>parks_nearest</th>\n",
       "      <th>ponds_around3000</th>\n",
       "      <th>ponds_nearest</th>\n",
       "      <th>days_exposition</th>\n",
       "      <th>meter_price</th>\n",
       "      <th>day_post</th>\n",
       "      <th>month_post</th>\n",
       "      <th>year_post</th>\n",
       "      <th>floor_type</th>\n",
       "      <th>length_city_centre</th>\n",
       "    </tr>\n",
       "  </thead>\n",
       "  <tbody>\n",
       "    <tr>\n",
       "      <th>0</th>\n",
       "      <td>20</td>\n",
       "      <td>13000000.0</td>\n",
       "      <td>108.0</td>\n",
       "      <td>2019-03-07</td>\n",
       "      <td>3</td>\n",
       "      <td>2.700000</td>\n",
       "      <td>16</td>\n",
       "      <td>51.0</td>\n",
       "      <td>8</td>\n",
       "      <td>True</td>\n",
       "      <td>...</td>\n",
       "      <td>482.0</td>\n",
       "      <td>2.0</td>\n",
       "      <td>755.0</td>\n",
       "      <td>NaN</td>\n",
       "      <td>120370.370370</td>\n",
       "      <td>3</td>\n",
       "      <td>3</td>\n",
       "      <td>2019</td>\n",
       "      <td>Другой</td>\n",
       "      <td>16</td>\n",
       "    </tr>\n",
       "    <tr>\n",
       "      <th>1</th>\n",
       "      <td>7</td>\n",
       "      <td>3350000.0</td>\n",
       "      <td>40.4</td>\n",
       "      <td>2018-12-04</td>\n",
       "      <td>1</td>\n",
       "      <td>2.771499</td>\n",
       "      <td>11</td>\n",
       "      <td>18.6</td>\n",
       "      <td>1</td>\n",
       "      <td>True</td>\n",
       "      <td>...</td>\n",
       "      <td>NaN</td>\n",
       "      <td>0.0</td>\n",
       "      <td>NaN</td>\n",
       "      <td>81.0</td>\n",
       "      <td>82920.792079</td>\n",
       "      <td>1</td>\n",
       "      <td>12</td>\n",
       "      <td>2018</td>\n",
       "      <td>Первый</td>\n",
       "      <td>19</td>\n",
       "    </tr>\n",
       "    <tr>\n",
       "      <th>2</th>\n",
       "      <td>10</td>\n",
       "      <td>5196000.0</td>\n",
       "      <td>56.0</td>\n",
       "      <td>2015-08-20</td>\n",
       "      <td>2</td>\n",
       "      <td>2.771499</td>\n",
       "      <td>5</td>\n",
       "      <td>34.3</td>\n",
       "      <td>4</td>\n",
       "      <td>True</td>\n",
       "      <td>...</td>\n",
       "      <td>90.0</td>\n",
       "      <td>2.0</td>\n",
       "      <td>574.0</td>\n",
       "      <td>558.0</td>\n",
       "      <td>92785.714286</td>\n",
       "      <td>3</td>\n",
       "      <td>8</td>\n",
       "      <td>2015</td>\n",
       "      <td>Другой</td>\n",
       "      <td>14</td>\n",
       "    </tr>\n",
       "    <tr>\n",
       "      <th>3</th>\n",
       "      <td>0</td>\n",
       "      <td>64900000.0</td>\n",
       "      <td>159.0</td>\n",
       "      <td>2015-07-24</td>\n",
       "      <td>3</td>\n",
       "      <td>2.771499</td>\n",
       "      <td>14</td>\n",
       "      <td>45.0</td>\n",
       "      <td>9</td>\n",
       "      <td>True</td>\n",
       "      <td>...</td>\n",
       "      <td>84.0</td>\n",
       "      <td>3.0</td>\n",
       "      <td>234.0</td>\n",
       "      <td>424.0</td>\n",
       "      <td>408176.100629</td>\n",
       "      <td>4</td>\n",
       "      <td>7</td>\n",
       "      <td>2015</td>\n",
       "      <td>Другой</td>\n",
       "      <td>7</td>\n",
       "    </tr>\n",
       "    <tr>\n",
       "      <th>4</th>\n",
       "      <td>2</td>\n",
       "      <td>10000000.0</td>\n",
       "      <td>100.0</td>\n",
       "      <td>2018-06-19</td>\n",
       "      <td>2</td>\n",
       "      <td>3.030000</td>\n",
       "      <td>14</td>\n",
       "      <td>32.0</td>\n",
       "      <td>13</td>\n",
       "      <td>True</td>\n",
       "      <td>...</td>\n",
       "      <td>112.0</td>\n",
       "      <td>1.0</td>\n",
       "      <td>48.0</td>\n",
       "      <td>121.0</td>\n",
       "      <td>100000.000000</td>\n",
       "      <td>1</td>\n",
       "      <td>6</td>\n",
       "      <td>2018</td>\n",
       "      <td>Другой</td>\n",
       "      <td>8</td>\n",
       "    </tr>\n",
       "  </tbody>\n",
       "</table>\n",
       "<p>5 rows × 28 columns</p>\n",
       "</div>"
      ],
      "text/plain": [
       "   total_images  last_price  total_area first_day_exposition  rooms  \\\n",
       "0            20  13000000.0       108.0           2019-03-07      3   \n",
       "1             7   3350000.0        40.4           2018-12-04      1   \n",
       "2            10   5196000.0        56.0           2015-08-20      2   \n",
       "3             0  64900000.0       159.0           2015-07-24      3   \n",
       "4             2  10000000.0       100.0           2018-06-19      2   \n",
       "\n",
       "   ceiling_height  floors_total  living_area  floor  is_apartment  ...  \\\n",
       "0        2.700000            16         51.0      8          True  ...   \n",
       "1        2.771499            11         18.6      1          True  ...   \n",
       "2        2.771499             5         34.3      4          True  ...   \n",
       "3        2.771499            14         45.0      9          True  ...   \n",
       "4        3.030000            14         32.0     13          True  ...   \n",
       "\n",
       "   parks_nearest  ponds_around3000  ponds_nearest  days_exposition  \\\n",
       "0          482.0               2.0          755.0              NaN   \n",
       "1            NaN               0.0            NaN             81.0   \n",
       "2           90.0               2.0          574.0            558.0   \n",
       "3           84.0               3.0          234.0            424.0   \n",
       "4          112.0               1.0           48.0            121.0   \n",
       "\n",
       "     meter_price  day_post  month_post  year_post  floor_type  \\\n",
       "0  120370.370370         3           3       2019      Другой   \n",
       "1   82920.792079         1          12       2018      Первый   \n",
       "2   92785.714286         3           8       2015      Другой   \n",
       "3  408176.100629         4           7       2015      Другой   \n",
       "4  100000.000000         1           6       2018      Другой   \n",
       "\n",
       "   length_city_centre  \n",
       "0                  16  \n",
       "1                  19  \n",
       "2                  14  \n",
       "3                   7  \n",
       "4                   8  \n",
       "\n",
       "[5 rows x 28 columns]"
      ]
     },
     "metadata": {},
     "output_type": "display_data"
    }
   ],
   "source": [
    "data['length_city_centre'] = (data['cityCenters_nearest'] / 1000).round().astype(\"Int64\")\n",
    "display(data.head())"
   ]
  },
  {
   "cell_type": "markdown",
   "metadata": {},
   "source": [
    "### Проведите исследовательский анализ данных"
   ]
  },
  {
   "cell_type": "markdown",
   "metadata": {},
   "source": [
    "______\n",
    "ЗАДАНИЕ 1\n",
    "\n",
    "Изучите параметры объектов:\n",
    "_______"
   ]
  },
  {
   "cell_type": "code",
   "execution_count": 29,
   "metadata": {},
   "outputs": [
    {
     "data": {
      "text/html": [
       "<div>\n",
       "<style scoped>\n",
       "    .dataframe tbody tr th:only-of-type {\n",
       "        vertical-align: middle;\n",
       "    }\n",
       "\n",
       "    .dataframe tbody tr th {\n",
       "        vertical-align: top;\n",
       "    }\n",
       "\n",
       "    .dataframe thead th {\n",
       "        text-align: right;\n",
       "    }\n",
       "</style>\n",
       "<table border=\"1\" class=\"dataframe\">\n",
       "  <thead>\n",
       "    <tr style=\"text-align: right;\">\n",
       "      <th></th>\n",
       "      <th>total_images</th>\n",
       "      <th>last_price</th>\n",
       "      <th>total_area</th>\n",
       "      <th>first_day_exposition</th>\n",
       "      <th>rooms</th>\n",
       "      <th>ceiling_height</th>\n",
       "      <th>floors_total</th>\n",
       "      <th>living_area</th>\n",
       "      <th>floor</th>\n",
       "      <th>is_apartment</th>\n",
       "      <th>...</th>\n",
       "      <th>parks_nearest</th>\n",
       "      <th>ponds_around3000</th>\n",
       "      <th>ponds_nearest</th>\n",
       "      <th>days_exposition</th>\n",
       "      <th>meter_price</th>\n",
       "      <th>day_post</th>\n",
       "      <th>month_post</th>\n",
       "      <th>year_post</th>\n",
       "      <th>floor_type</th>\n",
       "      <th>length_city_centre</th>\n",
       "    </tr>\n",
       "  </thead>\n",
       "  <tbody>\n",
       "    <tr>\n",
       "      <th>0</th>\n",
       "      <td>20</td>\n",
       "      <td>13000000.0</td>\n",
       "      <td>108.0</td>\n",
       "      <td>2019-03-07</td>\n",
       "      <td>3</td>\n",
       "      <td>2.700000</td>\n",
       "      <td>16</td>\n",
       "      <td>51.0</td>\n",
       "      <td>8</td>\n",
       "      <td>True</td>\n",
       "      <td>...</td>\n",
       "      <td>482.0</td>\n",
       "      <td>2.0</td>\n",
       "      <td>755.0</td>\n",
       "      <td>NaN</td>\n",
       "      <td>120370.370370</td>\n",
       "      <td>3</td>\n",
       "      <td>3</td>\n",
       "      <td>2019</td>\n",
       "      <td>Другой</td>\n",
       "      <td>16</td>\n",
       "    </tr>\n",
       "    <tr>\n",
       "      <th>1</th>\n",
       "      <td>7</td>\n",
       "      <td>3350000.0</td>\n",
       "      <td>40.4</td>\n",
       "      <td>2018-12-04</td>\n",
       "      <td>1</td>\n",
       "      <td>2.771499</td>\n",
       "      <td>11</td>\n",
       "      <td>18.6</td>\n",
       "      <td>1</td>\n",
       "      <td>True</td>\n",
       "      <td>...</td>\n",
       "      <td>NaN</td>\n",
       "      <td>0.0</td>\n",
       "      <td>NaN</td>\n",
       "      <td>81.0</td>\n",
       "      <td>82920.792079</td>\n",
       "      <td>1</td>\n",
       "      <td>12</td>\n",
       "      <td>2018</td>\n",
       "      <td>Первый</td>\n",
       "      <td>19</td>\n",
       "    </tr>\n",
       "    <tr>\n",
       "      <th>2</th>\n",
       "      <td>10</td>\n",
       "      <td>5196000.0</td>\n",
       "      <td>56.0</td>\n",
       "      <td>2015-08-20</td>\n",
       "      <td>2</td>\n",
       "      <td>2.771499</td>\n",
       "      <td>5</td>\n",
       "      <td>34.3</td>\n",
       "      <td>4</td>\n",
       "      <td>True</td>\n",
       "      <td>...</td>\n",
       "      <td>90.0</td>\n",
       "      <td>2.0</td>\n",
       "      <td>574.0</td>\n",
       "      <td>558.0</td>\n",
       "      <td>92785.714286</td>\n",
       "      <td>3</td>\n",
       "      <td>8</td>\n",
       "      <td>2015</td>\n",
       "      <td>Другой</td>\n",
       "      <td>14</td>\n",
       "    </tr>\n",
       "    <tr>\n",
       "      <th>3</th>\n",
       "      <td>0</td>\n",
       "      <td>64900000.0</td>\n",
       "      <td>159.0</td>\n",
       "      <td>2015-07-24</td>\n",
       "      <td>3</td>\n",
       "      <td>2.771499</td>\n",
       "      <td>14</td>\n",
       "      <td>45.0</td>\n",
       "      <td>9</td>\n",
       "      <td>True</td>\n",
       "      <td>...</td>\n",
       "      <td>84.0</td>\n",
       "      <td>3.0</td>\n",
       "      <td>234.0</td>\n",
       "      <td>424.0</td>\n",
       "      <td>408176.100629</td>\n",
       "      <td>4</td>\n",
       "      <td>7</td>\n",
       "      <td>2015</td>\n",
       "      <td>Другой</td>\n",
       "      <td>7</td>\n",
       "    </tr>\n",
       "    <tr>\n",
       "      <th>4</th>\n",
       "      <td>2</td>\n",
       "      <td>10000000.0</td>\n",
       "      <td>100.0</td>\n",
       "      <td>2018-06-19</td>\n",
       "      <td>2</td>\n",
       "      <td>3.030000</td>\n",
       "      <td>14</td>\n",
       "      <td>32.0</td>\n",
       "      <td>13</td>\n",
       "      <td>True</td>\n",
       "      <td>...</td>\n",
       "      <td>112.0</td>\n",
       "      <td>1.0</td>\n",
       "      <td>48.0</td>\n",
       "      <td>121.0</td>\n",
       "      <td>100000.000000</td>\n",
       "      <td>1</td>\n",
       "      <td>6</td>\n",
       "      <td>2018</td>\n",
       "      <td>Другой</td>\n",
       "      <td>8</td>\n",
       "    </tr>\n",
       "  </tbody>\n",
       "</table>\n",
       "<p>5 rows × 28 columns</p>\n",
       "</div>"
      ],
      "text/plain": [
       "   total_images  last_price  total_area first_day_exposition  rooms  \\\n",
       "0            20  13000000.0       108.0           2019-03-07      3   \n",
       "1             7   3350000.0        40.4           2018-12-04      1   \n",
       "2            10   5196000.0        56.0           2015-08-20      2   \n",
       "3             0  64900000.0       159.0           2015-07-24      3   \n",
       "4             2  10000000.0       100.0           2018-06-19      2   \n",
       "\n",
       "   ceiling_height  floors_total  living_area  floor  is_apartment  ...  \\\n",
       "0        2.700000            16         51.0      8          True  ...   \n",
       "1        2.771499            11         18.6      1          True  ...   \n",
       "2        2.771499             5         34.3      4          True  ...   \n",
       "3        2.771499            14         45.0      9          True  ...   \n",
       "4        3.030000            14         32.0     13          True  ...   \n",
       "\n",
       "   parks_nearest  ponds_around3000  ponds_nearest  days_exposition  \\\n",
       "0          482.0               2.0          755.0              NaN   \n",
       "1            NaN               0.0            NaN             81.0   \n",
       "2           90.0               2.0          574.0            558.0   \n",
       "3           84.0               3.0          234.0            424.0   \n",
       "4          112.0               1.0           48.0            121.0   \n",
       "\n",
       "     meter_price  day_post  month_post  year_post  floor_type  \\\n",
       "0  120370.370370         3           3       2019      Другой   \n",
       "1   82920.792079         1          12       2018      Первый   \n",
       "2   92785.714286         3           8       2015      Другой   \n",
       "3  408176.100629         4           7       2015      Другой   \n",
       "4  100000.000000         1           6       2018      Другой   \n",
       "\n",
       "   length_city_centre  \n",
       "0                  16  \n",
       "1                  19  \n",
       "2                  14  \n",
       "3                   7  \n",
       "4                   8  \n",
       "\n",
       "[5 rows x 28 columns]"
      ]
     },
     "metadata": {},
     "output_type": "display_data"
    }
   ],
   "source": [
    "display(data.head())"
   ]
  },
  {
   "cell_type": "markdown",
   "metadata": {},
   "source": [
    "____\n",
    "\n",
    "общая площадь;\n",
    "\n",
    "_____\n"
   ]
  },
  {
   "cell_type": "code",
   "execution_count": 30,
   "metadata": {},
   "outputs": [
    {
     "data": {
      "text/plain": [
       "<AxesSubplot:ylabel='Frequency'>"
      ]
     },
     "execution_count": 30,
     "metadata": {},
     "output_type": "execute_result"
    },
    {
     "data": {
      "image/png": "[encoded data removed]",
      "text/plain": [
       "<Figure size 432x288 with 1 Axes>"
      ]
     },
     "metadata": {
      "needs_background": "light"
     },
     "output_type": "display_data"
    }
   ],
   "source": [
    "data['total_area'].plot(kind='hist', grid=True)"
   ]
  },
  {
   "cell_type": "markdown",
   "metadata": {},
   "source": [
    "______\n",
    "Насколько мы можем видеть исходя из графика, значения едва доходят до 300 м2 в общей выборке значений, предлагаю определить границы графика для более подробного рассмотрения данных\n",
    "______"
   ]
  },
  {
   "cell_type": "code",
   "execution_count": 31,
   "metadata": {},
   "outputs": [
    {
     "data": {
      "text/plain": [
       "<AxesSubplot:ylabel='Frequency'>"
      ]
     },
     "execution_count": 31,
     "metadata": {},
     "output_type": "execute_result"
    },
    {
     "data": {
      "image/png": "[encoded data removed]",
      "text/plain": [
       "<Figure size 432x288 with 1 Axes>"
      ]
     },
     "metadata": {
      "needs_background": "light"
     },
     "output_type": "display_data"
    }
   ],
   "source": [
    "data['total_area'].plot(kind='hist', grid=True, xlim=(0,250))\n"
   ]
  },
  {
   "cell_type": "markdown",
   "metadata": {},
   "source": [
    "Значения площади квартиры в выборке Общей площади, в большинстве своем, находятся в диапазоне от 15м2 до 60м2 - свыше 14.000 значений, следующая ступень данных, чуть выше 7000 значений - квартиры площадью от 60м2 до 110м2, и далее, 3й блок данных -  около 1000 значений в диапазоне площади от 110 м2 до 160 м2.\n",
    "_____"
   ]
  },
  {
   "cell_type": "markdown",
   "metadata": {},
   "source": [
    "____\n",
    "\n",
    "жилая площадь;\n",
    "_____\n"
   ]
  },
  {
   "cell_type": "code",
   "execution_count": 32,
   "metadata": {},
   "outputs": [
    {
     "data": {
      "text/plain": [
       "<AxesSubplot:ylabel='Frequency'>"
      ]
     },
     "execution_count": 32,
     "metadata": {},
     "output_type": "execute_result"
    },
    {
     "data": {
      "image/png": "[encoded data removed]",
      "text/plain": [
       "<Figure size 432x288 with 1 Axes>"
      ]
     },
     "metadata": {
      "needs_background": "light"
     },
     "output_type": "display_data"
    }
   ],
   "source": [
    "data['living_area'].plot(kind='hist', grid=True)"
   ]
  },
  {
   "cell_type": "code",
   "execution_count": 33,
   "metadata": {},
   "outputs": [
    {
     "data": {
      "text/plain": [
       "<AxesSubplot:ylabel='Frequency'>"
      ]
     },
     "execution_count": 33,
     "metadata": {},
     "output_type": "execute_result"
    },
    {
     "data": {
      "image/png": "[encoded data removed]",
      "text/plain": [
       "<Figure size 432x288 with 1 Axes>"
      ]
     },
     "metadata": {
      "needs_background": "light"
     },
     "output_type": "display_data"
    }
   ],
   "source": [
    "data['total_area'].plot(kind='hist', grid=True, xlim=(0,250))"
   ]
  },
  {
   "cell_type": "markdown",
   "metadata": {},
   "source": [
    "График почти полностью повторяет значения Общей площади, проведу дополнительную проверку разницы в числовых значениях, чтобы убедиться, что на самом деле общая площадь больше, чем жилая"
   ]
  },
  {
   "cell_type": "code",
   "execution_count": 34,
   "metadata": {},
   "outputs": [
    {
     "data": {
      "text/plain": [
       "'жилая площадь'"
      ]
     },
     "metadata": {},
     "output_type": "display_data"
    },
    {
     "data": {
      "text/plain": [
       "count    23542.000000\n",
       "mean        34.184844\n",
       "std         20.939576\n",
       "min          2.000000\n",
       "25%         18.400000\n",
       "50%         30.300000\n",
       "75%         42.600000\n",
       "max        347.500000\n",
       "Name: living_area, dtype: float64"
      ]
     },
     "metadata": {},
     "output_type": "display_data"
    },
    {
     "data": {
      "text/plain": [
       "'общая площадь'"
      ]
     },
     "metadata": {},
     "output_type": "display_data"
    },
    {
     "data": {
      "text/plain": [
       "count    23542.000000\n",
       "mean        60.040755\n",
       "std         33.734140\n",
       "min         12.000000\n",
       "25%         40.000000\n",
       "50%         52.000000\n",
       "75%         69.600000\n",
       "max        495.000000\n",
       "Name: total_area, dtype: float64"
      ]
     },
     "metadata": {},
     "output_type": "display_data"
    }
   ],
   "source": [
    "display('жилая площадь', data['living_area'].describe())\n",
    "display('общая площадь', data['total_area'].describe())"
   ]
  },
  {
   "cell_type": "markdown",
   "metadata": {},
   "source": [
    "Насколько мы можем судить исходя из данных, как и утверждалось, общая площадь больше по числовым значениям, чем жилая площадь "
   ]
  },
  {
   "cell_type": "markdown",
   "metadata": {},
   "source": [
    "____\n",
    "\n",
    "площадь кухни;\n",
    "_____\n"
   ]
  },
  {
   "cell_type": "code",
   "execution_count": 35,
   "metadata": {},
   "outputs": [
    {
     "data": {
      "text/plain": [
       "<AxesSubplot:ylabel='Frequency'>"
      ]
     },
     "execution_count": 35,
     "metadata": {},
     "output_type": "execute_result"
    },
    {
     "data": {
      "image/png": "[encoded data removed]",
      "text/plain": [
       "<Figure size 432x288 with 1 Axes>"
      ]
     },
     "metadata": {
      "needs_background": "light"
     },
     "output_type": "display_data"
    }
   ],
   "source": [
    "data['kitchen_area'].plot(kind='hist', grid=True)"
   ]
  },
  {
   "cell_type": "code",
   "execution_count": 36,
   "metadata": {},
   "outputs": [
    {
     "data": {
      "text/plain": [
       "<AxesSubplot:ylabel='Frequency'>"
      ]
     },
     "execution_count": 36,
     "metadata": {},
     "output_type": "execute_result"
    },
    {
     "data": {
      "image/png": "[encoded data removed]",
      "text/plain": [
       "<Figure size 432x288 with 1 Axes>"
      ]
     },
     "metadata": {
      "needs_background": "light"
     },
     "output_type": "display_data"
    }
   ],
   "source": [
    "data['kitchen_area'].plot(kind='hist', grid=True, xlim=(0,60))"
   ]
  },
  {
   "cell_type": "markdown",
   "metadata": {},
   "source": [
    "Здесь наблюдается подобная взаимосвязь площади и количества значений, как и на предыдущих графиках Общей площади и Жилой площади "
   ]
  },
  {
   "cell_type": "markdown",
   "metadata": {},
   "source": [
    "____\n",
    "\n",
    "цена объекта;\n",
    "_____\n"
   ]
  },
  {
   "cell_type": "code",
   "execution_count": 37,
   "metadata": {},
   "outputs": [
    {
     "data": {
      "text/plain": [
       "<AxesSubplot:ylabel='Frequency'>"
      ]
     },
     "execution_count": 37,
     "metadata": {},
     "output_type": "execute_result"
    },
    {
     "data": {
      "image/png": "[encoded data removed]",
      "text/plain": [
       "<Figure size 432x288 with 1 Axes>"
      ]
     },
     "metadata": {
      "needs_background": "light"
     },
     "output_type": "display_data"
    }
   ],
   "source": [
    "data['last_price'].plot(kind='hist', grid=True)"
   ]
  },
  {
   "cell_type": "markdown",
   "metadata": {},
   "source": [
    "Отфильтруем значения "
   ]
  },
  {
   "cell_type": "code",
   "execution_count": 38,
   "metadata": {},
   "outputs": [
    {
     "data": {
      "text/plain": [
       "count    2.354200e+04\n",
       "mean     6.467618e+06\n",
       "std      1.015211e+07\n",
       "min      1.219000e+04\n",
       "25%      3.400000e+06\n",
       "50%      4.630000e+06\n",
       "75%      6.760000e+06\n",
       "max      7.630000e+08\n",
       "Name: last_price, dtype: float64"
      ]
     },
     "execution_count": 38,
     "metadata": {},
     "output_type": "execute_result"
    }
   ],
   "source": [
    "data['last_price'].describe()"
   ]
  },
  {
   "cell_type": "code",
   "execution_count": 39,
   "metadata": {},
   "outputs": [
    {
     "data": {
      "text/plain": [
       "<AxesSubplot:ylabel='Frequency'>"
      ]
     },
     "execution_count": 39,
     "metadata": {},
     "output_type": "execute_result"
    },
    {
     "data": {
      "image/png": "[encoded data removed]",
      "text/plain": [
       "<Figure size 432x288 with 1 Axes>"
      ]
     },
     "metadata": {
      "needs_background": "light"
     },
     "output_type": "display_data"
    }
   ],
   "source": [
    "data['last_price'].plot(kind='hist', grid=True, xlim=(0,200000000))"
   ]
  },
  {
   "cell_type": "code",
   "execution_count": 40,
   "metadata": {},
   "outputs": [
    {
     "data": {
      "text/plain": [
       "<AxesSubplot:>"
      ]
     },
     "execution_count": 40,
     "metadata": {},
     "output_type": "execute_result"
    },
    {
     "data": {
      "image/png": "[encoded data removed]",
      "text/plain": [
       "<Figure size 432x288 with 1 Axes>"
      ]
     },
     "metadata": {
      "needs_background": "light"
     },
     "output_type": "display_data"
    }
   ],
   "source": [
    "data['last_price'].hist(range = (0, 15000000))"
   ]
  },
  {
   "cell_type": "markdown",
   "metadata": {},
   "source": [
    "Исходя из этого графика можно заключить, что основная цена продаваемых квартир находится в диапазоне до 7.5 миллионов, а максимальная цена квартиры составляет 76 миллионов "
   ]
  },
  {
   "cell_type": "markdown",
   "metadata": {},
   "source": [
    "____\n",
    "\n",
    "количество комнат;\n",
    "_____\n"
   ]
  },
  {
   "cell_type": "code",
   "execution_count": 41,
   "metadata": {},
   "outputs": [
    {
     "data": {
      "text/plain": [
       "<AxesSubplot:ylabel='Frequency'>"
      ]
     },
     "execution_count": 41,
     "metadata": {},
     "output_type": "execute_result"
    },
    {
     "data": {
      "image/png": "[encoded data removed]",
      "text/plain": [
       "<Figure size 432x288 with 1 Axes>"
      ]
     },
     "metadata": {
      "needs_background": "light"
     },
     "output_type": "display_data"
    }
   ],
   "source": [
    "data['rooms'].plot(kind='hist', grid=True)"
   ]
  },
  {
   "cell_type": "markdown",
   "metadata": {},
   "source": [
    "_____\n",
    "Большая часть квартиры имеют 1-3 комнаты, в данных попадались выбивающиеся значения по 19 комнат, но мы отфильтровали данные ранее, впрочем квартиры с 5ю и более комнатами тоже редкое явление. \n",
    "_____"
   ]
  },
  {
   "cell_type": "markdown",
   "metadata": {},
   "source": [
    "____\n",
    "\n",
    "высота потолков;\n",
    "_____\n"
   ]
  },
  {
   "cell_type": "code",
   "execution_count": 42,
   "metadata": {},
   "outputs": [
    {
     "data": {
      "text/plain": [
       "8.3"
      ]
     },
     "execution_count": 42,
     "metadata": {},
     "output_type": "execute_result"
    },
    {
     "data": {
      "image/png": "[encoded data removed]",
      "text/plain": [
       "<Figure size 432x288 with 1 Axes>"
      ]
     },
     "metadata": {
      "needs_background": "light"
     },
     "output_type": "display_data"
    }
   ],
   "source": [
    "data['ceiling_height'].plot(kind='hist', grid=True)\n",
    "data['ceiling_height'].max()"
   ]
  },
  {
   "cell_type": "markdown",
   "metadata": {},
   "source": [
    "______\n",
    "Высоту потолков до 3х метров имеют большая часть квартир, еще один блок данных это квартиры от 3 до 3.5 метров, его вероятно можно отнести к квартирам в \"сталинках\", далее идут редкие значения, а максимальная высота потолков - 8.3 метра, интересно, что это за квартира.\n",
    "______"
   ]
  },
  {
   "cell_type": "markdown",
   "metadata": {},
   "source": [
    "____\n",
    "\n",
    "этаж квартиры;\n",
    "_____\n"
   ]
  },
  {
   "cell_type": "code",
   "execution_count": 43,
   "metadata": {},
   "outputs": [
    {
     "data": {
      "text/plain": [
       "<AxesSubplot:ylabel='Frequency'>"
      ]
     },
     "execution_count": 43,
     "metadata": {},
     "output_type": "execute_result"
    },
    {
     "data": {
      "image/png": "[encoded data removed]",
      "text/plain": [
       "<Figure size 432x288 with 1 Axes>"
      ]
     },
     "metadata": {
      "needs_background": "light"
     },
     "output_type": "display_data"
    }
   ],
   "source": [
    "data['floor'].plot(kind='hist', grid=True)"
   ]
  },
  {
   "cell_type": "markdown",
   "metadata": {},
   "source": [
    "____\n",
    "тип этажа квартиры («первый», «последний», «другой»);\n",
    "_____\n"
   ]
  },
  {
   "cell_type": "code",
   "execution_count": 44,
   "metadata": {},
   "outputs": [
    {
     "data": {
      "text/plain": [
       "<AxesSubplot:>"
      ]
     },
     "execution_count": 44,
     "metadata": {},
     "output_type": "execute_result"
    },
    {
     "data": {
      "image/png": "[encoded data removed]",
      "text/plain": [
       "<Figure size 432x288 with 1 Axes>"
      ]
     },
     "metadata": {
      "needs_background": "light"
     },
     "output_type": "display_data"
    }
   ],
   "source": [
    "data['floor_type'].value_counts().plot(y='floor_type', kind='bar')"
   ]
  },
  {
   "cell_type": "markdown",
   "metadata": {},
   "source": [
    "_____\n",
    "Больше всего в данных квартир с типом \"Другой\", то есть квартира, находящаяся ни на первом ни на последнем этаже, и приблизительно равное количество квартир на первом и на последнем этажах. \n",
    "______"
   ]
  },
  {
   "cell_type": "markdown",
   "metadata": {},
   "source": [
    "____\n",
    "\n",
    "общее количество этажей в доме;\n",
    "_____\n"
   ]
  },
  {
   "cell_type": "code",
   "execution_count": 45,
   "metadata": {},
   "outputs": [
    {
     "data": {
      "text/plain": [
       "<AxesSubplot:ylabel='Frequency'>"
      ]
     },
     "execution_count": 45,
     "metadata": {},
     "output_type": "execute_result"
    },
    {
     "data": {
      "image/png": "[encoded data removed]",
      "text/plain": [
       "<Figure size 432x288 with 1 Axes>"
      ]
     },
     "metadata": {
      "needs_background": "light"
     },
     "output_type": "display_data"
    }
   ],
   "source": [
    "data['floors_total'].plot(kind='hist', grid=True)"
   ]
  },
  {
   "cell_type": "markdown",
   "metadata": {},
   "source": [
    "______\n",
    "Судя про графику больше всего квартир продается в малоэтажных постройках (5-7 этажей), следующий блок - 9ти этажки, далее по многочисленности - 12 и более этажей, меньше всего квартир продается в высокоэтажных постройках\n",
    "______"
   ]
  },
  {
   "cell_type": "markdown",
   "metadata": {},
   "source": [
    "____\n",
    "\n",
    "расстояние до центра города в метрах;\n",
    "_____\n"
   ]
  },
  {
   "cell_type": "code",
   "execution_count": 46,
   "metadata": {},
   "outputs": [
    {
     "data": {
      "text/plain": [
       "<AxesSubplot:ylabel='Frequency'>"
      ]
     },
     "execution_count": 46,
     "metadata": {},
     "output_type": "execute_result"
    },
    {
     "data": {
      "image/png": "[encoded data removed]",
      "text/plain": [
       "<Figure size 432x288 with 1 Axes>"
      ]
     },
     "metadata": {
      "needs_background": "light"
     },
     "output_type": "display_data"
    }
   ],
   "source": [
    "data['cityCenters_nearest'].plot(kind='hist', grid=True)"
   ]
  },
  {
   "cell_type": "markdown",
   "metadata": {},
   "source": [
    "______\n",
    "В данных о продаже квартир значительная, но не большая часть значений расположенны внутри транспортного кольца, большая количество квартир располагается в области Санкт Петербурга, есть совсем небольшое количество квартир располагающихся совсем далеко от центра \n",
    "______\n"
   ]
  },
  {
   "cell_type": "markdown",
   "metadata": {},
   "source": [
    "____\n",
    "\n",
    "расстояние до ближайшего аэропорта;\n",
    "_____\n"
   ]
  },
  {
   "cell_type": "code",
   "execution_count": 47,
   "metadata": {},
   "outputs": [
    {
     "data": {
      "text/plain": [
       "<AxesSubplot:ylabel='Frequency'>"
      ]
     },
     "execution_count": 47,
     "metadata": {},
     "output_type": "execute_result"
    },
    {
     "data": {
      "image/png": "[encoded data removed]",
      "text/plain": [
       "<Figure size 432x288 with 1 Axes>"
      ]
     },
     "metadata": {
      "needs_background": "light"
     },
     "output_type": "display_data"
    }
   ],
   "source": [
    "data['airports_nearest'].plot(kind='hist', grid=True) "
   ]
  },
  {
   "cell_type": "markdown",
   "metadata": {},
   "source": [
    "_____\n",
    "Судя по данным нет однозначной привязки к расстоянию до аэропорта, отчетливо видно, что квартир вблизи аэропорта практически не продается, а самое частое расстрояние до него - 20 километров, если рассматривать аэропорт Пулково, как точку центра, можно выдвинуть гипотезу, что основная часть квартир продается в верхней части Санкт Петербурга, т.к. Пулково находится внизу и расстояние еще ниже аэропорта - это около 50 км до центра (от Пулково до центра города - 15 км), таких квартир судя по графику немного. Расстояние же в 40 км до аэропорта и выше точно показывает направление квартир в верхней части Санкт Петербурга по той же причине расстояния до центра города. \n",
    "____"
   ]
  },
  {
   "cell_type": "markdown",
   "metadata": {},
   "source": [
    "____\n",
    "расстояние до ближайшего парка;\n",
    "\n",
    "_____\n"
   ]
  },
  {
   "cell_type": "code",
   "execution_count": 48,
   "metadata": {},
   "outputs": [
    {
     "data": {
      "text/plain": [
       "<AxesSubplot:ylabel='Frequency'>"
      ]
     },
     "execution_count": 48,
     "metadata": {},
     "output_type": "execute_result"
    },
    {
     "data": {
      "image/png": "[encoded data removed]",
      "text/plain": [
       "<Figure size 432x288 with 1 Axes>"
      ]
     },
     "metadata": {
      "needs_background": "light"
     },
     "output_type": "display_data"
    }
   ],
   "source": [
    "data['parks_nearest'].plot(kind='hist', grid=True) "
   ]
  },
  {
   "cell_type": "markdown",
   "metadata": {},
   "source": [
    "В основном рядом с продаваемыми квартирами есть парки - это хорошо. А какие они, малые или большие - это уже другой вопрос."
   ]
  },
  {
   "cell_type": "markdown",
   "metadata": {},
   "source": [
    "____\n",
    "\n",
    "день и месяц публикации объявления.\n",
    "_____\n"
   ]
  },
  {
   "cell_type": "code",
   "execution_count": 49,
   "metadata": {},
   "outputs": [
    {
     "data": {
      "text/plain": [
       "<AxesSubplot:>"
      ]
     },
     "execution_count": 49,
     "metadata": {},
     "output_type": "execute_result"
    },
    {
     "data": {
      "image/png": "[encoded data removed]",
      "text/plain": [
       "<Figure size 432x288 with 1 Axes>"
      ]
     },
     "metadata": {
      "needs_background": "light"
     },
     "output_type": "display_data"
    }
   ],
   "source": [
    "data['month_post'].value_counts().sort_index().plot(kind='bar')"
   ]
  },
  {
   "cell_type": "markdown",
   "metadata": {},
   "source": [
    "____\n",
    "\n",
    "Самый высоконагруженный месяц - Февраль, и далее по экспоненте количество продаваемых квартир снижается, самый низконагруженный месяц - Май, возможно это вызвано всплеском предложений в 3 месяца до него, а также декабрь и январь - что логично, ведь декабрь загружен праздниками, а Январь - это сплошной месяц праздник, люди после него раскачиваются только к Февралю. \n",
    "____"
   ]
  },
  {
   "cell_type": "code",
   "execution_count": 50,
   "metadata": {},
   "outputs": [
    {
     "data": {
      "text/plain": [
       "<AxesSubplot:>"
      ]
     },
     "execution_count": 50,
     "metadata": {},
     "output_type": "execute_result"
    },
    {
     "data": {
      "image/png": "[encoded data removed]",
      "text/plain": [
       "<Figure size 432x288 with 1 Axes>"
      ]
     },
     "metadata": {
      "needs_background": "light"
     },
     "output_type": "display_data"
    }
   ],
   "source": [
    "data['year_post'].value_counts().sort_index().plot(kind='bar')"
   ]
  },
  {
   "cell_type": "markdown",
   "metadata": {},
   "source": [
    "В 2014м году наблюдается самое малое количество объявлений о продаже квартир, это может быть вызвано различными факторами, что позволяет сформировать несколько гипотез, например: отсутствие сбора правильной информации (большое количество пропусков), высокая конкуренция в сервисах продажи недвижимости (Яндекс Недвижимость запустилась в 2010 году, что возможно считалось относительно новым сервисом), кризисом 2014 года, снижением инвестиций в российскую экономику, а также другие факторы, которые я рассмотреть пока не могу. Далее, судя по графику происходит рост по экспоненте, вероятно это тоже может быть связано с формированием лояльности у аудитории Яндекс Недвижимости и притока новых пользователей на платформу (ведь мы рассматриваем только показатели Яндекса, а не всего рынка недвижимости). 2017й и 2018й год стали пиковыми в количестве объявлений о продаже квартиры, что может быть связано с притоком пользователей, а также ростом экономики в России, стало больше тех, кто продает квартиры и покупает. Падение публикаций в 2019 году может быть обусловлено снижением темпов роста экономики, а также естественным снижением желающих продавать квартиры или ошибками в сборе данных, большим количеством пропусков в данных \n",
    "_____\n"
   ]
  },
  {
   "cell_type": "markdown",
   "metadata": {},
   "source": [
    "____\n",
    "ЗАДАНИЕ 2\n",
    "\n",
    "Изучите, как быстро продавались квартиры (столбец days_exposition). Этот параметр показывает, сколько дней было размещено каждое объявление.\n",
    "\n"
   ]
  },
  {
   "cell_type": "code",
   "execution_count": 51,
   "metadata": {},
   "outputs": [
    {
     "data": {
      "text/plain": [
       "count    20376.000000\n",
       "mean       180.641637\n",
       "std        219.509841\n",
       "min          1.000000\n",
       "25%         45.000000\n",
       "50%         95.000000\n",
       "75%        231.000000\n",
       "max       1580.000000\n",
       "Name: days_exposition, dtype: float64"
      ]
     },
     "execution_count": 51,
     "metadata": {},
     "output_type": "execute_result"
    },
    {
     "data": {
      "image/png": "[encoded data removed]",
      "text/plain": [
       "<Figure size 432x288 with 1 Axes>"
      ]
     },
     "metadata": {
      "needs_background": "light"
     },
     "output_type": "display_data"
    }
   ],
   "source": [
    "\n",
    "data['days_exposition'].plot(kind='hist', grid=True)\n",
    "\n",
    "data['days_exposition'].describe()"
   ]
  },
  {
   "cell_type": "code",
   "execution_count": 52,
   "metadata": {},
   "outputs": [
    {
     "data": {
      "text/plain": [
       "<AxesSubplot:>"
      ]
     },
     "execution_count": 52,
     "metadata": {},
     "output_type": "execute_result"
    },
    {
     "data": {
      "image/png": "[encoded data removed]",
      "text/plain": [
       "<Figure size 720x720 with 1 Axes>"
      ]
     },
     "metadata": {
      "needs_background": "light"
     },
     "output_type": "display_data"
    }
   ],
   "source": [
    "data['days_exposition'].plot(kind='box', grid=True, figsize=(10,10))"
   ]
  },
  {
   "cell_type": "markdown",
   "metadata": {},
   "source": [
    "Исходя из данных полученных методом describe, и наблюдая данные на гистограмме, можно сделать выводы, что самая быстрая продажа квартиры составила - 1 день, а самая долгая 1580 дней, т.е. 4 года и 4 месяца, и все же эти значения выбивающиеся, основная часть квартир, согласно медиане, продавалась 180 дней, т.е. полгода. Также такое ровное число дней (ровно 6 месяцев) может быть обусловлено временем на публикацию объявления и снятие объявление с публикации ровно через 6 месяцев, если пользователь не продлит или не снимет объявление самостоятельно. \n",
    "\n",
    "_____"
   ]
  },
  {
   "cell_type": "markdown",
   "metadata": {},
   "source": [
    "<div class=\"alert alert-block alert-success\">✔️\n",
    "\n",
    "Судя по данным и по графику выбывающихся значений могу предположить, что продажи больше 450 дней будут считаться долгими, в то время как продажи 25% распределение данных (1.5 месяца) будут считаться быстрыми продажами. "
   ]
  },
  {
   "cell_type": "markdown",
   "metadata": {},
   "source": [
    "_____\n",
    "ЗАДАНИЕ 3\n",
    "\n",
    "Какие факторы больше всего влияют на общую (полную) стоимость объекта?\n",
    "Изучите, зависит ли цена от:\n",
    "\n",
    "\n",
    "общей площади;\n",
    "\n",
    "жилой площади;\n",
    "\n",
    "площади кухни;\n",
    "\n",
    "количества комнат;\n",
    "этажа, на котором расположена квартира (первый, последний, другой);\n",
    "\n",
    "даты размещения (день недели, месяц, год).\n",
    "\n",
    "Постройте графики, которые покажут зависимость цены от указанных выше параметров. Для подготовки данных перед визуализацией вы можете использовать сводные таблицы.\n"
   ]
  },
  {
   "cell_type": "markdown",
   "metadata": {},
   "source": [
    "______\n",
    "ОБЩАЯ ПЛОЩАДЬ\n",
    "_____"
   ]
  },
  {
   "cell_type": "code",
   "execution_count": 53,
   "metadata": {},
   "outputs": [
    {
     "name": "stdout",
     "output_type": "stream",
     "text": [
      "0.6254047089875999\n"
     ]
    },
    {
     "data": {
      "text/plain": [
       "<AxesSubplot:xlabel='total_area', ylabel='last_price'>"
      ]
     },
     "execution_count": 53,
     "metadata": {},
     "output_type": "execute_result"
    },
    {
     "data": {
      "image/png": "[encoded data removed]",
      "text/plain": [
       "<Figure size 576x576 with 1 Axes>"
      ]
     },
     "metadata": {
      "needs_background": "light"
     },
     "output_type": "display_data"
    }
   ],
   "source": [
    "print(data['total_area'].corr(data['last_price']))\n",
    "data.pivot_table(index='total_area', values='last_price', aggfunc='median').reset_index().plot(kind='scatter', y='last_price', x='total_area', figsize=(8,8))"
   ]
  },
  {
   "cell_type": "markdown",
   "metadata": {},
   "source": [
    "Проведенный анализ показал, что на  площади квартир до 100м2 цена не изменяется резко и находится примерно в одном диапазоне, плавно поднимаясь,  изменение цены начинает происходить на отрезке графика после 100м2, где это более заметно в связи с меньшим количеством значений. \n",
    "\n",
    "Значение корреляции Пирсона - 0.63, что означает взаимосвязь между двумя величинами, то есть при изменении площади квартиры будет изменяться её цена."
   ]
  },
  {
   "cell_type": "markdown",
   "metadata": {},
   "source": [
    "_____\n",
    "ЖИЛАЯ ПЛОЩАДЬ\n",
    "_____"
   ]
  },
  {
   "cell_type": "code",
   "execution_count": 54,
   "metadata": {},
   "outputs": [
    {
     "data": {
      "text/plain": [
       "<AxesSubplot:xlabel='living_area', ylabel='last_price'>"
      ]
     },
     "execution_count": 54,
     "metadata": {},
     "output_type": "execute_result"
    },
    {
     "data": {
      "image/png": "[encoded data removed]",
      "text/plain": [
       "<Figure size 576x576 with 1 Axes>"
      ]
     },
     "metadata": {
      "needs_background": "light"
     },
     "output_type": "display_data"
    }
   ],
   "source": [
    "data.pivot_table(index='living_area', values='last_price', aggfunc='median').reset_index().plot(kind='scatter', y='last_price', x='living_area',figsize=(8,8))"
   ]
  },
  {
   "cell_type": "markdown",
   "metadata": {},
   "source": [
    "Проведенный анализ показал, что на площади квартир до 100м2 цена не изменяется резко и находится примерно в одном диапазоне, плавно поднимаясь, изменение цены начинает происходить на отрезке графика после 100м2, где это более заметно в связи с меньшим количеством значений."
   ]
  },
  {
   "cell_type": "markdown",
   "metadata": {},
   "source": [
    "______\n",
    "ПЛОЩАДЬ КУХНИ \n",
    "______"
   ]
  },
  {
   "cell_type": "code",
   "execution_count": 55,
   "metadata": {},
   "outputs": [
    {
     "data": {
      "text/plain": [
       "<AxesSubplot:xlabel='kitchen_area', ylabel='last_price'>"
      ]
     },
     "execution_count": 55,
     "metadata": {},
     "output_type": "execute_result"
    },
    {
     "data": {
      "image/png": "[encoded data removed]",
      "text/plain": [
       "<Figure size 576x576 with 1 Axes>"
      ]
     },
     "metadata": {
      "needs_background": "light"
     },
     "output_type": "display_data"
    }
   ],
   "source": [
    "data.pivot_table(index='kitchen_area', values='last_price', aggfunc='median').reset_index().plot(kind='scatter', alpha=0.7, y='last_price', x='kitchen_area', figsize=(8,8))\n",
    "\n"
   ]
  },
  {
   "cell_type": "markdown",
   "metadata": {},
   "source": [
    "А вот площадь кухоньки то у нас влияет, видимо русский человек сильно ценит кухню. В почете она, кухня, у русского человека. Цена на малышках кухоньках до 20м2 (как у меня, примерно 8м2) практически не изменяется и резкий рост цены квартиры начинает происходить после 20 м2. Чем больше кухня - тем больше ответственность, кажется так говорил Питер Паркер. Предложение: сделать из квартиры площадью 40м2 просто одну огромную кухню и продать за большие деньги. Чем не бизнес? Данные на нашей стороне. Будем молиться на большие кухни и следить за ценами, что нам еще остается. "
   ]
  },
  {
   "cell_type": "markdown",
   "metadata": {},
   "source": [
    "____\n",
    "КОЛИЧЕСТВО КОМНАТ, ЭТАЖ\n",
    "_____\n"
   ]
  },
  {
   "cell_type": "code",
   "execution_count": 56,
   "metadata": {},
   "outputs": [
    {
     "data": {
      "text/plain": [
       "<AxesSubplot:xlabel='rooms'>"
      ]
     },
     "execution_count": 56,
     "metadata": {},
     "output_type": "execute_result"
    },
    {
     "data": {
      "image/png": "[encoded data removed]",
      "text/plain": [
       "<Figure size 432x288 with 1 Axes>"
      ]
     },
     "metadata": {
      "needs_background": "light"
     },
     "output_type": "display_data"
    }
   ],
   "source": [
    "data.pivot_table(index='rooms', values='last_price').reset_index().plot(kind='bar', y='last_price', x='rooms')\n"
   ]
  },
  {
   "cell_type": "code",
   "execution_count": 57,
   "metadata": {},
   "outputs": [
    {
     "name": "stdout",
     "output_type": "stream",
     "text": [
      "СРЕДНЯЯ\n",
      "\n"
     ]
    },
    {
     "data": {
      "text/plain": [
       "<AxesSubplot:xlabel='floor_type'>"
      ]
     },
     "execution_count": 57,
     "metadata": {},
     "output_type": "execute_result"
    },
    {
     "data": {
      "image/png": "[encoded data removed]",
      "text/plain": [
       "<Figure size 432x288 with 1 Axes>"
      ]
     },
     "metadata": {
      "needs_background": "light"
     },
     "output_type": "display_data"
    }
   ],
   "source": [
    "print('СРЕДНЯЯ')\n",
    "print('')\n",
    "data.pivot_table(index='floor_type', values='last_price').reset_index().plot(kind='bar', y='last_price', x='floor_type')\n",
    "\n"
   ]
  },
  {
   "cell_type": "code",
   "execution_count": 58,
   "metadata": {},
   "outputs": [
    {
     "name": "stdout",
     "output_type": "stream",
     "text": [
      "МЕДИАНА\n",
      "\n"
     ]
    },
    {
     "data": {
      "text/plain": [
       "<AxesSubplot:xlabel='floor_type'>"
      ]
     },
     "execution_count": 58,
     "metadata": {},
     "output_type": "execute_result"
    },
    {
     "data": {
      "image/png": "[encoded data removed]",
      "text/plain": [
       "<Figure size 432x288 with 1 Axes>"
      ]
     },
     "metadata": {
      "needs_background": "light"
     },
     "output_type": "display_data"
    }
   ],
   "source": [
    "print('МЕДИАНА')\n",
    "print('')\n",
    "data.pivot_table(index='floor_type', values='last_price', aggfunc='median').reset_index().plot(kind='bar', y='last_price', x='floor_type')\n",
    "\n"
   ]
  },
  {
   "cell_type": "markdown",
   "metadata": {},
   "source": [
    "Проведенный анализ показал, что цена на квартиру прямо пропорциональна количеству комнат - чем их больше, тем больше цена.\n",
    "\n",
    "Этаж, на котором расположена квартира, практически не влияет на цену, за исключением квартир на первых этажах, цена на таких этажах заметно ниже.\n"
   ]
  },
  {
   "cell_type": "markdown",
   "metadata": {},
   "source": [
    "ДАТА РАЗМЕЩЕНИЯ"
   ]
  },
  {
   "cell_type": "code",
   "execution_count": 59,
   "metadata": {},
   "outputs": [
    {
     "data": {
      "text/plain": [
       "<AxesSubplot:xlabel='day_post', ylabel='last_price'>"
      ]
     },
     "execution_count": 59,
     "metadata": {},
     "output_type": "execute_result"
    },
    {
     "data": {
      "image/png": "[encoded data removed]",
      "text/plain": [
       "<Figure size 576x576 with 1 Axes>"
      ]
     },
     "metadata": {
      "needs_background": "light"
     },
     "output_type": "display_data"
    }
   ],
   "source": [
    "data.pivot_table(index='day_post', values='last_price', aggfunc='median').reset_index().plot(kind='scatter', alpha=0.8, s=50, y='last_price', x='day_post', figsize=(8,8))\n",
    "\n"
   ]
  },
  {
   "cell_type": "code",
   "execution_count": 60,
   "metadata": {},
   "outputs": [
    {
     "data": {
      "text/plain": [
       "<AxesSubplot:xlabel='month_post', ylabel='last_price'>"
      ]
     },
     "execution_count": 60,
     "metadata": {},
     "output_type": "execute_result"
    },
    {
     "data": {
      "image/png": "[encoded data removed]",
      "text/plain": [
       "<Figure size 720x720 with 1 Axes>"
      ]
     },
     "metadata": {
      "needs_background": "light"
     },
     "output_type": "display_data"
    }
   ],
   "source": [
    "data.pivot_table(index='month_post', values='last_price', aggfunc='median').reset_index().plot(kind='scatter', alpha=0.8, s=50, y='last_price', x='month_post', figsize=(10,10))\n",
    "\n"
   ]
  },
  {
   "cell_type": "code",
   "execution_count": 61,
   "metadata": {},
   "outputs": [
    {
     "data": {
      "text/plain": [
       "<AxesSubplot:xlabel='year_post', ylabel='last_price'>"
      ]
     },
     "execution_count": 61,
     "metadata": {},
     "output_type": "execute_result"
    },
    {
     "data": {
      "image/png": "[encoded data removed]",
      "text/plain": [
       "<Figure size 576x576 with 1 Axes>"
      ]
     },
     "metadata": {
      "needs_background": "light"
     },
     "output_type": "display_data"
    }
   ],
   "source": [
    "data.pivot_table(index='year_post', values='last_price', aggfunc='median').reset_index().plot(kind='scatter', alpha=1, s=50, y='last_price', x='year_post', figsize=(8,8))\n"
   ]
  },
  {
   "cell_type": "markdown",
   "metadata": {},
   "source": [
    "Насколько мы можем судить по полученным данным\n",
    "\n",
    "- День: \n",
    "\n",
    "Дороже всего квартиры, которые были опубликованы во Вторник, а дешевле всего квартиры, опубликованные в Воскресенье \n",
    "\n",
    "- Месяц:\n",
    "\n",
    "Дороже всего квартиры, которые были опубликованы во Апреле, а дешевле всего квартиры, опубликованные в Июне\n",
    "\n",
    "- Год: \n",
    "\n",
    "Дороже всего квартиры, которые были опубликованы во 2014 году, а дешевле всего квартиры, опубликованные в с 2016 по 2018 годы.\n",
    "\n",
    "\n",
    "Честно говоря, я попробовал проанализировать причины таких показателей и пришел к выводу, что публикация в днях вообще не понятная. Месяцы - Апрель - дорогие квартиры, потому что просто, а Июнь - может быть сезон дач и покупатели квартир в основном аудитория взрослая (может у них уже дачи есть) и спрос на недвижимость летом слабый. Год тоже заставил меня задуматься, но судя по графикам количества публикаций квартир, который я строил ранее в годы с 2017 по 2019 их было очень много. \n",
    "\n",
    "Много публикаций = Много предложения, \n",
    "\n",
    "Предложение > Спроса = Цена снижается, \n",
    "\n",
    "единственно объяснение, которое я могу предложить. "
   ]
  },
  {
   "cell_type": "markdown",
   "metadata": {},
   "source": [
    "______\n",
    "ЗАДАНИЕ 4\n",
    "\n",
    "Посчитайте среднюю цену одного квадратного метра в 10 населённых пунктах с наибольшим числом объявлений.\n",
    "_____"
   ]
  },
  {
   "cell_type": "code",
   "execution_count": 62,
   "metadata": {},
   "outputs": [
    {
     "data": {
      "text/html": [
       "<div>\n",
       "<style scoped>\n",
       "    .dataframe tbody tr th:only-of-type {\n",
       "        vertical-align: middle;\n",
       "    }\n",
       "\n",
       "    .dataframe tbody tr th {\n",
       "        vertical-align: top;\n",
       "    }\n",
       "\n",
       "    .dataframe thead tr th {\n",
       "        text-align: left;\n",
       "    }\n",
       "\n",
       "    .dataframe thead tr:last-of-type th {\n",
       "        text-align: right;\n",
       "    }\n",
       "</style>\n",
       "<table border=\"1\" class=\"dataframe\">\n",
       "  <thead>\n",
       "    <tr>\n",
       "      <th></th>\n",
       "      <th>Количество значений</th>\n",
       "      <th>Медиана</th>\n",
       "    </tr>\n",
       "    <tr>\n",
       "      <th></th>\n",
       "      <th>Цена за 1м2</th>\n",
       "      <th>Цена за 1м2</th>\n",
       "    </tr>\n",
       "    <tr>\n",
       "      <th>locality_name</th>\n",
       "      <th></th>\n",
       "      <th></th>\n",
       "    </tr>\n",
       "  </thead>\n",
       "  <tbody>\n",
       "    <tr>\n",
       "      <th>Кудрово</th>\n",
       "      <td>299</td>\n",
       "      <td>91860.465116</td>\n",
       "    </tr>\n",
       "    <tr>\n",
       "      <th>Мурино</th>\n",
       "      <td>552</td>\n",
       "      <td>86059.293995</td>\n",
       "    </tr>\n",
       "    <tr>\n",
       "      <th>Парголово</th>\n",
       "      <td>327</td>\n",
       "      <td>91642.857143</td>\n",
       "    </tr>\n",
       "    <tr>\n",
       "      <th>Шушары</th>\n",
       "      <td>439</td>\n",
       "      <td>76829.268293</td>\n",
       "    </tr>\n",
       "    <tr>\n",
       "      <th>Всеволожск</th>\n",
       "      <td>398</td>\n",
       "      <td>65789.473684</td>\n",
       "    </tr>\n",
       "    <tr>\n",
       "      <th>Выборг</th>\n",
       "      <td>237</td>\n",
       "      <td>58158.319871</td>\n",
       "    </tr>\n",
       "    <tr>\n",
       "      <th>Гатчина</th>\n",
       "      <td>307</td>\n",
       "      <td>67796.610169</td>\n",
       "    </tr>\n",
       "    <tr>\n",
       "      <th>Колпино</th>\n",
       "      <td>338</td>\n",
       "      <td>74723.748474</td>\n",
       "    </tr>\n",
       "    <tr>\n",
       "      <th>Пушкин</th>\n",
       "      <td>369</td>\n",
       "      <td>100000.000000</td>\n",
       "    </tr>\n",
       "    <tr>\n",
       "      <th>Санкт-Петербург</th>\n",
       "      <td>15629</td>\n",
       "      <td>104761.904762</td>\n",
       "    </tr>\n",
       "  </tbody>\n",
       "</table>\n",
       "</div>"
      ],
      "text/plain": [
       "                Количество значений        Медиана\n",
       "                        Цена за 1м2    Цена за 1м2\n",
       "locality_name                                     \n",
       " Кудрово                        299   91860.465116\n",
       " Мурино                         552   86059.293995\n",
       " Парголово                      327   91642.857143\n",
       " Шушары                         439   76829.268293\n",
       "Всеволожск                      398   65789.473684\n",
       "Выборг                          237   58158.319871\n",
       "Гатчина                         307   67796.610169\n",
       "Колпино                         338   74723.748474\n",
       "Пушкин                          369  100000.000000\n",
       "Санкт-Петербург               15629  104761.904762"
      ]
     },
     "metadata": {},
     "output_type": "display_data"
    },
    {
     "data": {
      "text/plain": [
       "<AxesSubplot:xlabel='locality_name'>"
      ]
     },
     "execution_count": 62,
     "metadata": {},
     "output_type": "execute_result"
    },
    {
     "data": {
      "image/png": "[encoded data removed]",
      "text/plain": [
       "<Figure size 432x288 with 1 Axes>"
      ]
     },
     "metadata": {
      "needs_background": "light"
     },
     "output_type": "display_data"
    }
   ],
   "source": [
    "#выделим топ 10 пунктов \n",
    "data_top_index = data['locality_name'].value_counts().head(10)\n",
    "#построим сводную таблицу по топу пунктов и цене за м2 и переименуем стоблцы \n",
    "data_top_price = data.query('locality_name in @data_top_index.index').pivot_table(index ='locality_name', values = 'meter_price', aggfunc=['count','median'])\n",
    "data_top_price = data_top_price.rename(columns={'count':'Количество значений', 'median':'Медиана','meter_price':'Цена за 1м2' })\n",
    "display(data_top_price)\n",
    "#отобразим данные на графике\n",
    "data_top_price.plot(kind='bar')"
   ]
  },
  {
   "cell_type": "markdown",
   "metadata": {},
   "source": [
    "Бывали в Выборге? Смотрели на произведение Алвара Аалто? Я тоже. Но с квартирами и жилым фондом там, честно сказать, все печально, люди унылые снуют туда и обратно, дома обшарпанные, 2 улицы, да и те - без слез не взглянешь. Оттого по результатам анализа у Выборга сильно отличается цена в меньшую сторону. Выше всего цены в г.Санкт Петербург и г.Пушкин. График наш - отрада автору Онегина и Петру Великому."
   ]
  },
  {
   "cell_type": "code",
   "execution_count": 63,
   "metadata": {},
   "outputs": [
    {
     "data": {
      "text/html": [
       "<div>\n",
       "<style scoped>\n",
       "    .dataframe tbody tr th:only-of-type {\n",
       "        vertical-align: middle;\n",
       "    }\n",
       "\n",
       "    .dataframe tbody tr th {\n",
       "        vertical-align: top;\n",
       "    }\n",
       "\n",
       "    .dataframe thead th {\n",
       "        text-align: right;\n",
       "    }\n",
       "</style>\n",
       "<table border=\"1\" class=\"dataframe\">\n",
       "  <thead>\n",
       "    <tr style=\"text-align: right;\">\n",
       "      <th></th>\n",
       "      <th>balcony</th>\n",
       "      <th>last_price</th>\n",
       "    </tr>\n",
       "    <tr>\n",
       "      <th>locality_name</th>\n",
       "      <th></th>\n",
       "      <th></th>\n",
       "    </tr>\n",
       "  </thead>\n",
       "  <tbody>\n",
       "    <tr>\n",
       "      <th>Санкт-Петербург</th>\n",
       "      <td>15629</td>\n",
       "      <td>5500000.0</td>\n",
       "    </tr>\n",
       "    <tr>\n",
       "      <th>Мурино</th>\n",
       "      <td>552</td>\n",
       "      <td>3400000.0</td>\n",
       "    </tr>\n",
       "    <tr>\n",
       "      <th>Шушары</th>\n",
       "      <td>439</td>\n",
       "      <td>3950000.0</td>\n",
       "    </tr>\n",
       "    <tr>\n",
       "      <th>Всеволожск</th>\n",
       "      <td>398</td>\n",
       "      <td>3450000.0</td>\n",
       "    </tr>\n",
       "    <tr>\n",
       "      <th>Пушкин</th>\n",
       "      <td>369</td>\n",
       "      <td>5180000.0</td>\n",
       "    </tr>\n",
       "    <tr>\n",
       "      <th>Колпино</th>\n",
       "      <td>338</td>\n",
       "      <td>3600000.0</td>\n",
       "    </tr>\n",
       "    <tr>\n",
       "      <th>Парголово</th>\n",
       "      <td>327</td>\n",
       "      <td>4100000.0</td>\n",
       "    </tr>\n",
       "    <tr>\n",
       "      <th>Гатчина</th>\n",
       "      <td>307</td>\n",
       "      <td>3100000.0</td>\n",
       "    </tr>\n",
       "    <tr>\n",
       "      <th>Кудрово</th>\n",
       "      <td>299</td>\n",
       "      <td>3790000.0</td>\n",
       "    </tr>\n",
       "    <tr>\n",
       "      <th>Выборг</th>\n",
       "      <td>237</td>\n",
       "      <td>2897000.0</td>\n",
       "    </tr>\n",
       "  </tbody>\n",
       "</table>\n",
       "</div>"
      ],
      "text/plain": [
       "                 balcony  last_price\n",
       "locality_name                       \n",
       "Санкт-Петербург    15629   5500000.0\n",
       " Мурино              552   3400000.0\n",
       " Шушары              439   3950000.0\n",
       "Всеволожск           398   3450000.0\n",
       "Пушкин               369   5180000.0\n",
       "Колпино              338   3600000.0\n",
       " Парголово           327   4100000.0\n",
       "Гатчина              307   3100000.0\n",
       " Кудрово             299   3790000.0\n",
       "Выборг               237   2897000.0"
      ]
     },
     "execution_count": 63,
     "metadata": {},
     "output_type": "execute_result"
    }
   ],
   "source": [
    "data.groupby('locality_name').agg({'balcony':'count', 'last_price':'median'}) \\\n",
    "    .sort_values(by = 'balcony', ascending = False) \\\n",
    "    .head(10)"
   ]
  },
  {
   "cell_type": "markdown",
   "metadata": {},
   "source": [
    "___________\n",
    "ЗАДАНИЕ 5 \n",
    "\n",
    "Ранее вы посчитали расстояние до центра в километрах. Теперь выделите квартиры в Санкт-Петербурге с помощью столбца locality_name и вычислите среднюю цену каждого километра. Опишите, как стоимость объектов зависит от расстояния до центра города.\n",
    "__________"
   ]
  },
  {
   "cell_type": "code",
   "execution_count": 64,
   "metadata": {},
   "outputs": [
    {
     "data": {
      "text/html": [
       "<div>\n",
       "<style scoped>\n",
       "    .dataframe tbody tr th:only-of-type {\n",
       "        vertical-align: middle;\n",
       "    }\n",
       "\n",
       "    .dataframe tbody tr th {\n",
       "        vertical-align: top;\n",
       "    }\n",
       "\n",
       "    .dataframe thead th {\n",
       "        text-align: right;\n",
       "    }\n",
       "</style>\n",
       "<table border=\"1\" class=\"dataframe\">\n",
       "  <thead>\n",
       "    <tr style=\"text-align: right;\">\n",
       "      <th></th>\n",
       "      <th>last_price</th>\n",
       "    </tr>\n",
       "    <tr>\n",
       "      <th>length_city_centre</th>\n",
       "      <th></th>\n",
       "    </tr>\n",
       "  </thead>\n",
       "  <tbody>\n",
       "    <tr>\n",
       "      <th>0</th>\n",
       "      <td>3.144912e+07</td>\n",
       "    </tr>\n",
       "    <tr>\n",
       "      <th>1</th>\n",
       "      <td>2.114498e+07</td>\n",
       "    </tr>\n",
       "    <tr>\n",
       "      <th>2</th>\n",
       "      <td>1.764844e+07</td>\n",
       "    </tr>\n",
       "    <tr>\n",
       "      <th>3</th>\n",
       "      <td>1.111906e+07</td>\n",
       "    </tr>\n",
       "    <tr>\n",
       "      <th>4</th>\n",
       "      <td>1.325451e+07</td>\n",
       "    </tr>\n",
       "    <tr>\n",
       "      <th>5</th>\n",
       "      <td>1.354266e+07</td>\n",
       "    </tr>\n",
       "    <tr>\n",
       "      <th>6</th>\n",
       "      <td>1.500835e+07</td>\n",
       "    </tr>\n",
       "    <tr>\n",
       "      <th>7</th>\n",
       "      <td>1.477515e+07</td>\n",
       "    </tr>\n",
       "    <tr>\n",
       "      <th>8</th>\n",
       "      <td>9.221273e+06</td>\n",
       "    </tr>\n",
       "    <tr>\n",
       "      <th>9</th>\n",
       "      <td>6.956583e+06</td>\n",
       "    </tr>\n",
       "  </tbody>\n",
       "</table>\n",
       "</div>"
      ],
      "text/plain": [
       "                      last_price\n",
       "length_city_centre              \n",
       "0                   3.144912e+07\n",
       "1                   2.114498e+07\n",
       "2                   1.764844e+07\n",
       "3                   1.111906e+07\n",
       "4                   1.325451e+07\n",
       "5                   1.354266e+07\n",
       "6                   1.500835e+07\n",
       "7                   1.477515e+07\n",
       "8                   9.221273e+06\n",
       "9                   6.956583e+06"
      ]
     },
     "metadata": {},
     "output_type": "display_data"
    },
    {
     "data": {
      "text/plain": [
       "<AxesSubplot:xlabel='length_city_centre'>"
      ]
     },
     "execution_count": 64,
     "metadata": {},
     "output_type": "execute_result"
    },
    {
     "data": {
      "image/png": "[encoded data removed]",
      "text/plain": [
       "<Figure size 720x720 with 1 Axes>"
      ]
     },
     "metadata": {
      "needs_background": "light"
     },
     "output_type": "display_data"
    }
   ],
   "source": [
    "\n",
    "data_length_km = data.query('locality_name == \"Санкт-Петербург\"').pivot_table(index = 'length_city_centre', values='last_price', aggfunc='mean').sort_values(by='length_city_centre', ascending=True)\n",
    "display(data_length_km.head(10))\n",
    "\n",
    "data_length_km.plot(figsize=(10,10), grid=True)\n",
    "\n",
    "#data_length.plot(kind='legend')"
   ]
  },
  {
   "cell_type": "code",
   "execution_count": 65,
   "metadata": {},
   "outputs": [
    {
     "data": {
      "text/html": [
       "<div>\n",
       "<style scoped>\n",
       "    .dataframe tbody tr th:only-of-type {\n",
       "        vertical-align: middle;\n",
       "    }\n",
       "\n",
       "    .dataframe tbody tr th {\n",
       "        vertical-align: top;\n",
       "    }\n",
       "\n",
       "    .dataframe thead th {\n",
       "        text-align: right;\n",
       "    }\n",
       "</style>\n",
       "<table border=\"1\" class=\"dataframe\">\n",
       "  <thead>\n",
       "    <tr style=\"text-align: right;\">\n",
       "      <th></th>\n",
       "      <th>meter_price</th>\n",
       "    </tr>\n",
       "    <tr>\n",
       "      <th>length_city_centre</th>\n",
       "      <th></th>\n",
       "    </tr>\n",
       "  </thead>\n",
       "  <tbody>\n",
       "    <tr>\n",
       "      <th>0</th>\n",
       "      <td>245833.530289</td>\n",
       "    </tr>\n",
       "    <tr>\n",
       "      <th>1</th>\n",
       "      <td>177042.004282</td>\n",
       "    </tr>\n",
       "    <tr>\n",
       "      <th>2</th>\n",
       "      <td>158180.829974</td>\n",
       "    </tr>\n",
       "    <tr>\n",
       "      <th>3</th>\n",
       "      <td>121583.462175</td>\n",
       "    </tr>\n",
       "    <tr>\n",
       "      <th>4</th>\n",
       "      <td>133392.085203</td>\n",
       "    </tr>\n",
       "    <tr>\n",
       "      <th>5</th>\n",
       "      <td>139654.666771</td>\n",
       "    </tr>\n",
       "    <tr>\n",
       "      <th>6</th>\n",
       "      <td>150746.518157</td>\n",
       "    </tr>\n",
       "    <tr>\n",
       "      <th>7</th>\n",
       "      <td>156176.879664</td>\n",
       "    </tr>\n",
       "    <tr>\n",
       "      <th>8</th>\n",
       "      <td>124366.166199</td>\n",
       "    </tr>\n",
       "    <tr>\n",
       "      <th>9</th>\n",
       "      <td>113159.373316</td>\n",
       "    </tr>\n",
       "  </tbody>\n",
       "</table>\n",
       "</div>"
      ],
      "text/plain": [
       "                      meter_price\n",
       "length_city_centre               \n",
       "0                   245833.530289\n",
       "1                   177042.004282\n",
       "2                   158180.829974\n",
       "3                   121583.462175\n",
       "4                   133392.085203\n",
       "5                   139654.666771\n",
       "6                   150746.518157\n",
       "7                   156176.879664\n",
       "8                   124366.166199\n",
       "9                   113159.373316"
      ]
     },
     "metadata": {},
     "output_type": "display_data"
    },
    {
     "data": {
      "image/png": "[encoded data removed]",
      "text/plain": [
       "<Figure size 720x720 with 1 Axes>"
      ]
     },
     "metadata": {
      "needs_background": "light"
     },
     "output_type": "display_data"
    }
   ],
   "source": [
    "\n",
    "data_length_m = data.query('locality_name == \"Санкт-Петербург\"').pivot_table(index = 'length_city_centre', values='meter_price', aggfunc='mean').sort_values(by='length_city_centre', ascending=True)\n",
    "display(data_length_m.head(10))\n",
    "\n",
    "data_length_m.plot(figsize=(10,10), grid=True, title = 'Заголовок');\n",
    "\n",
    "\n",
    "#data_length.plot(kind='legend')"
   ]
  },
  {
   "cell_type": "markdown",
   "metadata": {},
   "source": [
    "Я выяснил среднюю цену каждого километра и определил, что прямо пропорционально удаления квартир от центра, цена на них снижается, также существует пик на графике приблизительно на 5м и 27м километре, где именно, на таком расстоянии происходит всплеск роста цены? Я хочу выяснить причины и проведу дополнительное исследование причины этого всплеска. Гипотезы:\n",
    "\n",
    "- Количество квартир на данном километре влияет на выборку\n",
    "- Количество комнат влияет на выборку\n",
    "- Площадь квартиры влияет на выборку\n",
    "- Этаж, на котором расположена квартира влияет на выборку"
   ]
  },
  {
   "cell_type": "code",
   "execution_count": 66,
   "metadata": {},
   "outputs": [
    {
     "data": {
      "text/plain": [
       "5     908\n",
       "6     616\n",
       "7     420\n",
       "8     591\n",
       "25     73\n",
       "26    112\n",
       "27    104\n",
       "28    106\n",
       "29    132\n",
       "30    214\n",
       "Name: length_city_centre, dtype: Int64"
      ]
     },
     "metadata": {},
     "output_type": "display_data"
    },
    {
     "data": {
      "text/html": [
       "<div>\n",
       "<style scoped>\n",
       "    .dataframe tbody tr th:only-of-type {\n",
       "        vertical-align: middle;\n",
       "    }\n",
       "\n",
       "    .dataframe tbody tr th {\n",
       "        vertical-align: top;\n",
       "    }\n",
       "\n",
       "    .dataframe thead th {\n",
       "        text-align: right;\n",
       "    }\n",
       "</style>\n",
       "<table border=\"1\" class=\"dataframe\">\n",
       "  <thead>\n",
       "    <tr style=\"text-align: right;\">\n",
       "      <th></th>\n",
       "      <th>floor</th>\n",
       "      <th>meter_price</th>\n",
       "      <th>rooms</th>\n",
       "      <th>total_area</th>\n",
       "    </tr>\n",
       "    <tr>\n",
       "      <th>length_city_centre</th>\n",
       "      <th></th>\n",
       "      <th></th>\n",
       "      <th></th>\n",
       "      <th></th>\n",
       "    </tr>\n",
       "  </thead>\n",
       "  <tbody>\n",
       "    <tr>\n",
       "      <th>5</th>\n",
       "      <td>4.606828</td>\n",
       "      <td>139654.666771</td>\n",
       "      <td>2.790749</td>\n",
       "      <td>92.499879</td>\n",
       "    </tr>\n",
       "    <tr>\n",
       "      <th>6</th>\n",
       "      <td>4.527597</td>\n",
       "      <td>150746.518157</td>\n",
       "      <td>2.566558</td>\n",
       "      <td>89.445633</td>\n",
       "    </tr>\n",
       "    <tr>\n",
       "      <th>7</th>\n",
       "      <td>5.354762</td>\n",
       "      <td>156176.879664</td>\n",
       "      <td>2.430952</td>\n",
       "      <td>82.058762</td>\n",
       "    </tr>\n",
       "    <tr>\n",
       "      <th>8</th>\n",
       "      <td>6.015228</td>\n",
       "      <td>124366.166199</td>\n",
       "      <td>2.270728</td>\n",
       "      <td>71.654704</td>\n",
       "    </tr>\n",
       "    <tr>\n",
       "      <th>25</th>\n",
       "      <td>4.424658</td>\n",
       "      <td>93890.784798</td>\n",
       "      <td>1.780822</td>\n",
       "      <td>51.541644</td>\n",
       "    </tr>\n",
       "    <tr>\n",
       "      <th>26</th>\n",
       "      <td>3.116071</td>\n",
       "      <td>97848.353143</td>\n",
       "      <td>1.767857</td>\n",
       "      <td>50.097500</td>\n",
       "    </tr>\n",
       "    <tr>\n",
       "      <th>27</th>\n",
       "      <td>3.923077</td>\n",
       "      <td>101764.039696</td>\n",
       "      <td>1.951923</td>\n",
       "      <td>55.241154</td>\n",
       "    </tr>\n",
       "    <tr>\n",
       "      <th>28</th>\n",
       "      <td>3.839623</td>\n",
       "      <td>80330.157518</td>\n",
       "      <td>2.000000</td>\n",
       "      <td>57.800377</td>\n",
       "    </tr>\n",
       "    <tr>\n",
       "      <th>29</th>\n",
       "      <td>3.931818</td>\n",
       "      <td>76762.803194</td>\n",
       "      <td>2.181818</td>\n",
       "      <td>61.478182</td>\n",
       "    </tr>\n",
       "    <tr>\n",
       "      <th>30</th>\n",
       "      <td>3.602804</td>\n",
       "      <td>83817.456529</td>\n",
       "      <td>1.897196</td>\n",
       "      <td>53.296589</td>\n",
       "    </tr>\n",
       "  </tbody>\n",
       "</table>\n",
       "</div>"
      ],
      "text/plain": [
       "                       floor    meter_price     rooms  total_area\n",
       "length_city_centre                                               \n",
       "5                   4.606828  139654.666771  2.790749   92.499879\n",
       "6                   4.527597  150746.518157  2.566558   89.445633\n",
       "7                   5.354762  156176.879664  2.430952   82.058762\n",
       "8                   6.015228  124366.166199  2.270728   71.654704\n",
       "25                  4.424658   93890.784798  1.780822   51.541644\n",
       "26                  3.116071   97848.353143  1.767857   50.097500\n",
       "27                  3.923077  101764.039696  1.951923   55.241154\n",
       "28                  3.839623   80330.157518  2.000000   57.800377\n",
       "29                  3.931818   76762.803194  2.181818   61.478182\n",
       "30                  3.602804   83817.456529  1.897196   53.296589"
      ]
     },
     "execution_count": 66,
     "metadata": {},
     "output_type": "execute_result"
    }
   ],
   "source": [
    "#проверим несколько выбивающихся значений отделив их от общей массы данных \n",
    "data_check = data.query('length_city_centre == (5,6,7,8, 25,26,27,28,29,30)')\n",
    "#проверим количество квартир на разных участках выборки \n",
    "display(data_check['length_city_centre'].value_counts().sort_index())\n",
    "#построим сводную таблицу \n",
    "data_check.pivot_table(index='length_city_centre', values=['meter_price', 'total_area', 'rooms', 'floor'])\n"
   ]
  },
  {
   "cell_type": "markdown",
   "metadata": {},
   "source": [
    "Исходя из проведенного дополнительного анализа, честно говоря, нельзя достоверно определить причину такого всплеска, но отчетливо видно, что на цены квартир расположенных на 5м километре влияют:\n",
    "\n",
    "- Косвенно: Количество квартир на данном отрезке. Этаж - чуть выше среднего показателя по выборке. \n",
    "- Более точно: Площадь квартиры, мы видим, что она больше, чем на остальных отрезках. Количество комнат на данном отрезке в среднем больше, чем на остальных.\n",
    "\n",
    "2 Гипотезы подтверждены частично и 2 Более точно \n",
    "\n",
    "На цены квартир расположенных на 27м километре влияют:\n",
    "\n",
    "- Не влияют:  Этаж - средний показатель по выборке. Количество комнат.\n",
    "- Частично влияют: Площадь квартиры, мы видим, что она больше, чем на остальных отрезках в срезе от 25го километра и до 30го. Количество квартир на данном отрезке, так как данных значительно меньше, в срез данных могут попадать выбивающиеся значения. \n",
    "\n",
    "2 Гипотезы не подтвердились и 2 Гипотезы подтвердились частично. "
   ]
  },
  {
   "cell_type": "markdown",
   "metadata": {},
   "source": [
    "### Общий вывод"
   ]
  },
  {
   "cell_type": "markdown",
   "metadata": {},
   "source": [
    "Был проведен анализ в ходе которого была выполнена предобработка данных и их изучение, c целью найти интересные особенности и зависимости, которые существуют на рынке недвижимости. Для работы были взяты данные данные сервиса Яндекс Недвижимость — архив объявлений за несколько лет о продаже квартир в Санкт-Петербурге и соседних населённых пунктах. Результаты исследования могут быть использованы сервисом Яндекс Недвижимость для оценки работы сервиса, правильности заполнения и выгрузки данных, как быстро продавались квартиры.\n",
    "________\n",
    "Для проведения анализа были поставлены несколько задач:\n",
    "\n",
    "- Предобработка данных\n",
    "- Добавление в таблицу новых столбцов для проведения более подробного анализа данных \n",
    "- Проведение исследовательского анализа данных\n",
    "_________\n",
    "В ходе предобработки данных были выполнены следующие поправки в данных:\n",
    "- Найдены и изучены пропущенные значения в столбцах\n",
    "- Рассмотрены типы данных в каждом столбце\n",
    "- Изучены уникальные значения в столбце с названиями и устраните неявные дубликаты.\n",
    "- Найдены и устранены редкие и выбивающиеся значения\n",
    "_____\n",
    "Добавление данных в отдельные столбцы проходили по следующим параметрам:\n",
    "\n",
    "цена одного квадратного метра;\n",
    "день недели публикации объявления (0 — понедельник, 1 — вторник и так далее);\n",
    "месяц публикации объявления;\n",
    "год публикации объявления;\n",
    "тип этажа квартиры (значения — «‎первый», «последний», «другой»);\n",
    "расстояние до центра города в километрах (переведите из м в км и округлите до целых значений).\n",
    "\n",
    "_________\n",
    "Проведение исследовательского анализа данных происходило в несколько этапов: \n",
    "\n",
    "1. Были изучены следующие параметры объектов:\n",
    "\n",
    "общая площадь;\n",
    "жилая площадь;\n",
    "площадь кухни;\n",
    "цена объекта;\n",
    "количество комнат;\n",
    "высота потолков;\n",
    "этаж квартиры;\n",
    "тип этажа квартиры («первый», «последний», «другой»);\n",
    "общее количество этажей в доме;\n",
    "расстояние до центра города в метрах;\n",
    "расстояние до ближайшего аэропорта;\n",
    "расстояние до ближайшего парка;\n",
    "день и месяц публикации объявления.\n",
    "\n",
    "Были построены отдельные гистограммы для каждого из этих параметров.\n",
    "\n",
    "- Общая площадь \n",
    "\n",
    "В результате проведенного анализа удалось установить, что значения площади квартиры в выборке Общей площади, в большинстве своем, находятся в диапазоне от 15м2 до 60м2 - свыше 14.000 значений, следующая ступень данных, чуть выше 7000 значений - квартиры площадью от 60м2 до 110м2, и далее, 3й блок данных - около 1000 значений в диапазоне площади от 110 м2 до 160 м2.\n",
    "\n",
    "- Жилая площадь; \n",
    "\n",
    "Данные почти полностью повторяет значения Общей площади, была проведена дополнительная проверка разницы в числовых значениях, чтобы убедиться, что на самом деле общая площадь больше, чем жилая\n",
    "\n",
    "- площадь кухни;\n",
    "\n",
    "Наблюдается подобная взаимосвязь площади и количества значений, как и на предыдущих графиках Общей площади и Жилой площади\n",
    "\n",
    "- цена объекта;\n",
    "\n",
    "Исходя из проведенного анализа и графика можно заключить, что основная цена продаваемых квартир находится в диапазоне до 7.5 миллионов, а максимальная цена квартиры составляет 76 миллионов\n",
    "\n",
    "- количество комнат;\n",
    "\n",
    "Большая часть квартиры имеют 1-3 комнаты, в данных попадались выбивающиеся значения по 19 комнат, но мы отфильтровали данные ранее, впрочем квартиры с 5ю и более комнатами тоже редкое явление.\n",
    "\n",
    "- высота потолков;\n",
    "\n",
    "Высоту потолков до 3х метров имеют большая часть квартир, еще один блок данных это квартиры от 3 до 3.5 метров, его вероятно можно отнести к квартирам в \"сталинках\", далее идут редкие значения, а максимальная высота потолков - 8.3 метра, интересно, что это за квартира.\n",
    "\n",
    "- этаж квартиры;\n",
    "\n",
    "Больше всего в данных квартир с типом \"Другой\" этаж, то есть квартира, находящаяся ни на первом ни на последнем этаже, и приблизительно равное количество квартир на первом и на последнем этажах.\n",
    "\n",
    "- тип этажа квартиры («первый», «последний», «другой»); - общее количество этажей в доме;\n",
    "\n",
    "Проведенный анализ и график показал больше всего квартир продается в малоэтажных постройках (5-7 этажей), следующий блок данных - 9ти этажки, далее по многочисленности - 12 и более этажей, меньше всего квартир продается в высокоэтажных постройках\n",
    "\n",
    "\n",
    "- расстояние до центра города в метрах;\n",
    "\n",
    "В данных о продаже квартир значительная, но не большая часть значений расположенны внутри транспортного кольца, большая количество квартир располагается в области Санкт Петербурга, есть совсем небольшое количество квартир располагающихся совсем далеко от центра\n",
    "\n",
    "\n",
    "\n",
    "- расстояние до ближайшего аэропорта;\n",
    "\n",
    "Судя по данным нет однозначной привязки к расстоянию до аэропорта, отчетливо видно, что квартир вблизи аэропорта практически не продается, а самое частое расстрояние до него - 20 километров, если рассматривать аэропорт Пулково, как точку центра, можно выдвинуть гипотезу, что основная часть квартир продается в верхней части Санкт Петербурга, т.к. Пулково находится внизу и расстояние еще ниже аэропорта - это около 50 км до центра (от Пулково до центра города - 15 км), таких квартир судя по графику немного. Расстояние же в 40 км до аэропорта и выше точно показывает направление квартир в верхней части Санкт Петербурга по той же причине расстояния до центра города.\n",
    "\n",
    "- расстояние до ближайшего парка;\n",
    "\n",
    "В основном рядом с продаваемыми квартирами есть парки - это хорошо. А какие они, малые или большие - это уже другой вопрос. И судя по проведенному анализу достоверно выяснить это не получится.\n",
    "\n",
    "- день и месяц публикации объявления.\n",
    "\n",
    "Месяц:\n",
    "\n",
    "\n",
    "Самый высоконагруженный месяц - Февраль, и далее по экспоненте количество продаваемых квартир снижается, самый низконагруженный месяц - Май, возможно это вызвано всплеском предложений в 3 месяца до него, а также декабрь и январь - что логично, ведь декабрь загружен праздниками, а Январь - это сплошной месяц праздник, люди после него раскачиваются только к Февралю.\n",
    "\n",
    "День:\n",
    "\n",
    "В 2014м году наблюдается самое малое количество объявлений о продаже квартир, это может быть вызвано различными факторами, что позволяет сформировать несколько гипотез, например: отсутствие сбора правильной информации (большое количество пропусков), высокая конкуренция в сервисах продажи недвижимости (Яндекс Недвижимость запустилась в 2010 году, что возможно считалось относительно новым сервисом), кризисом 2014 года, снижением инвестиций в российскую экономику, а также другие факторы, которые я рассмотреть пока не могу. Далее, судя по графику происходит рост по экспоненте, вероятно это тоже может быть связано с формированием лояльности у аудитории Яндекс Недвижимости и притока новых пользователей на платформу (ведь мы рассматриваем только показатели Яндекса, а не всего рынка недвижимости). 2017й и 2018й год стали пиковыми в количестве объявлений о продаже квартиры, что может быть связано с притоком пользователей, а также ростом экономики в России, стало больше тех, кто продает квартиры и покупает. Падение публикаций в 2019 году может быть обусловлено снижением темпов роста экономики, а также естественным снижением желающих продавать квартиры или ошибками в сборе данных, большим количеством пропусков в данных\n",
    "\n",
    "\n",
    " ___________\n",
    "\n",
    "2. Было изучено, как быстро продавались квартиры (столбец days_exposition).\n",
    "\n",
    "Исходя из данных полученных методом describe, и наблюдая данные на гистограмме, можно сделать выводы, что самая быстрая продажа квартиры составила - 1 день, а самая долгая 1580 дней, т.е. 4 года и 4 месяца, и все же эти значения выбивающиеся, основная часть квартир, согласно медиане, продавалась 180 дней, т.е. полгода. Также такое ровное число дней (ровно 6 месяцев) может быть обусловлено временем на публикацию объявления и снятие объявление с публикации ровно через 6 месяцев, если пользователь не продлит или не снимет объявление самостоятельно.\n",
    "\n",
    "________\n",
    "\n",
    "3. Какие факторы больше всего влияют на общую (полную) стоимость объекта?\n",
    "Было изучено зависит ли цена от:\n",
    "общей площади;\n",
    "жилой площади;\n",
    "площади кухни;\n",
    "количества комнат;\n",
    "этажа, на котором расположена квартира (первый, последний, другой);\n",
    "даты размещения (день недели, месяц, год).\n",
    "\n",
    "- ОБЩАЯ ПЛОЩАДЬ\n",
    "\n",
    "Проведенный анализ показал, что на площади квартир до 100м2 цена не изменяется резко и находится примерно в одном диапазоне, плавно поднимаясь, изменение цены начинает происходить на отрезке графика после 100м2, где это более заметно в связи с меньшим количеством значений.\n",
    "\n",
    "- ЖИЛАЯ ПЛОЩАДЬ \n",
    "\n",
    "Проведенный анализ показал, что на площади квартир до 100м2 цена не изменяется резко и находится примерно в одном диапазоне, плавно поднимаясь, изменение цены начинает происходить на отрезке графика после 100м2, где это более заметно в связи с меньшим количеством значений.\n",
    "\n",
    "- ПЛОЩАДЬ КУХНИ\n",
    "\n",
    "Проведенный анализ показал, что площадь кухоньки то у нас влияет, видимо русский человек сильно ценит кухню. В почете она, кухня, у русского человека. Цена на малышках кухоньках до 20м2 (как у меня, примерно 8м2) практически не изменяется и резкий рост цены квартиры начинает происходить после 20 м2. Чем больше кухня - тем больше ответственность, кажется так говорил Питер Паркер. Предложение: сделать из квартиры площадью 40м2 просто одну огромную кухню и продать за большие деньги. Чем не бизнес? Данные на нашей стороне. Будем молиться на большие кухни и следить за ценами, что нам еще остается.\n",
    "\n",
    "- КОЛИЧЕСТВО КОМНАТ, ЭТАЖ\n",
    "\n",
    "Проведенный анализ показал, что цена на квартиру прямо пропорциональна количеству комнат - чем их больше, тем больше цена.\n",
    "\n",
    "Этаж, на котором расположена квартира, практически не влияет на цену, за исключением квартир на первых этажах, цена на таких этажах заметно ниже.\n",
    "\n",
    "- ДАТА РАЗМЕЩЕНИЯ\n",
    "\n",
    "Исходя из полученных данных можно сделать вывод, что дата размещения не влияет на цену продажи.\n",
    "\n",
    "___________\n",
    "\n",
    "4. Была посчитана среднюяя цена одного квадратного метра в 10 населённых пунктах с наибольшим числом объявлений.\n",
    "\n",
    "Вывод:\n",
    "\n",
    "Бывали в Выборге? Смотрели на произведение Алвара Аалто? Я тоже. Но с квартирами и жилым фондом там, честно сказать, все печально, люди унылые снуют туда и обратно, дома обшарпанные, 2 улицы, да и те - без слез не взглянешь. Оттого по результатам анализа у Выборга сильно отличается цена в меньшую сторону. Выше всего цены в г.Санкт Петербург и г.Пушкин. График наш - отрада автору Онегина и Петру Великому.\n",
    "\n",
    "__________\n",
    "\n",
    "5. Были выделены квартиры в Санкт-Петербурге и посчитана среднюя цена каждого километра. Также была произведена дополнительная проверка, которая показала причины пиковых значений. \n",
    "\n",
    "Была определена средняя цена каждого километра и определено, что прямо пропорционально удаления квартир от центра, цена на них снижается, также существует пик на графике приблизительно на 5м и 27м километре, где именно, на таком расстоянии происходит всплеск роста цены? \n",
    "\n",
    "Гипотезы для дополнительной проверки:\n",
    "\n",
    "- Количество квартир на данном километре влияет на выборку\n",
    "- Количество комнат влияет на выборку\n",
    "- Площадь квартиры влияет на выборку\n",
    "- Этаж, на котором расположена квартира влияет на выборку\n",
    "\n",
    "\n",
    "Исходя из проведенного дополнительного анализа, честно говоря, нельзя достоверно определить причину такого всплеска, но отчетливо видно, что \n",
    "- на цены квартир расположенных на 5м километре влияют:\n",
    "\n",
    "Косвенно: Количество квартир на данном отрезке. Этаж - чуть выше среднего показателя по выборке.\n",
    "\n",
    "Более точно: Площадь квартиры, мы видим, что она больше, чем на остальных отрезках. Количество комнат на данном отрезке в среднем больше, чем на остальных.\n",
    "\n",
    "2 Гипотезы подтверждены частично и 2 Более точно\n",
    "\n",
    "- На цены квартир расположенных на 27м километре влияют:\n",
    "\n",
    "Не влияют: Этаж - средний показатель по выборке. Количество комнат.\n",
    "\n",
    "Частично влияют: Площадь квартиры, мы видим, что она больше, чем на остальных отрезках в срезе от 25го километра и до 30го. \n",
    "\n",
    "Количество квартир на данном отрезке, так как данных значительно меньше, в срез данных могут попадать выбивающиеся значения.\n",
    "2 Гипотезы не подтвердились и 2 Гипотезы подтвердились частично.\n",
    "\n",
    "----"
   ]
  },
  {
   "cell_type": "markdown",
   "metadata": {},
   "source": [
    "**Чек-лист готовности проекта**\n",
    "\n",
    "Поставьте 'x' в выполненных пунктах. Далее нажмите Shift+Enter."
   ]
  },
  {
   "cell_type": "markdown",
   "metadata": {},
   "source": [
    "- [x]  открыт файл\n",
    "- [x]  файлы изучены (выведены первые строки, метод `info()`, гистограммы и т.д.)\n",
    "- [x]  определены пропущенные значения\n",
    "- [x]  заполнены пропущенные значения там, где это возможно\n",
    "- [x]  есть пояснение, какие пропущенные значения обнаружены\n",
    "- [x]  изменены типы данных\n",
    "- [x]  есть пояснение, в каких столбцах изменены типы и почему\n",
    "- [x]  устранены неявные дубликаты в названиях населённых пунктов\n",
    "- [x]  устранены редкие и выбивающиеся значения (аномалии) во всех столбцах\n",
    "- [x]  посчитано и добавлено в таблицу: цена одного квадратного метра\n",
    "- [x]  посчитано и добавлено в таблицу: день публикации объявления (0 - понедельник, 1 - вторник и т.д.)\n",
    "- [x]  посчитано и добавлено в таблицу: месяц публикации объявления\n",
    "- [x]  посчитано и добавлено в таблицу: год публикации объявления\n",
    "- [x]  посчитано и добавлено в таблицу: тип этажа квартиры (значения — «первый», «последний», «другой»)\n",
    "- [x]  посчитано и добавлено в таблицу: расстояние в км до центра города\n",
    "- [x]  изучены и описаны следующие параметры:\n",
    "        - общая площадь;\n",
    "        - жилая площадь;\n",
    "        - площадь кухни;\n",
    "        - цена объекта;\n",
    "        - количество комнат;\n",
    "        - высота потолков;\n",
    "        - этаж квартиры;\n",
    "        - тип этажа квартиры («первый», «последний», «другой»);\n",
    "        - общее количество этажей в доме;\n",
    "        - расстояние до центра города в метрах;\n",
    "        - расстояние до ближайшего аэропорта;\n",
    "        - расстояние до ближайшего парка;\n",
    "        - день и месяц публикации объявления\n",
    "- [x]  построены гистограммы для каждого параметра\n",
    "- [x]  выполнено задание: \"Изучите, как быстро продавались квартиры (столбец days_exposition). Этот параметр показывает, сколько дней «висело» каждое объявление.\n",
    "    - Постройте гистограмму.\n",
    "    - Посчитайте среднее и медиану.\n",
    "    - В ячейке типа markdown опишите, сколько обычно занимает продажа. Какие продажи можно считать быстрыми, а какие — необычно долгими?\"\n",
    "- [x]  выполнено задание: \"Какие факторы больше всего влияют на общую (полную) стоимость объекта? Постройте графики, которые покажут зависимость цены от указанных ниже параметров. Для подготовки данных перед визуализацией вы можете использовать сводные таблицы.\"\n",
    "        - общей площади;\n",
    "        - жилой площади;\n",
    "        - площади кухни;\n",
    "        - количество комнат;\n",
    "        - типа этажа, на котором расположена квартира (первый, последний, другой);\n",
    "        - даты размещения (день недели, месяц, год);\n",
    "- [x]  выполнено задание: \"Посчитайте среднюю цену одного квадратного метра в 10 населённых пунктах с наибольшим числом объявлений. Выделите населённые пункты с самой высокой и низкой стоимостью квадратного метра. Эти данные можно найти по имени в столбце `locality_name`.\"\n",
    "- [x]  выполнено задание: \"Ранее вы посчитали расстояние до центра в километрах. Теперь выделите квартиры в Санкт-Петербурге с помощью столбца `locality_name` и вычислите среднюю цену каждого километра. Опишите, как стоимость объектов зависит от расстояния до центра города.\"\n",
    "- [x]  в каждом этапе есть промежуточные выводы\n",
    "- [x]  есть общий вывод"
   ]
  }
 ],
 "metadata": {
  "ExecuteTimeLog": [
   {
    "duration": 603,
    "start_time": "2022-12-04T07:20:40.738Z"
   },
   {
    "duration": 118,
    "start_time": "2022-12-04T07:21:05.476Z"
   },
   {
    "duration": 101,
    "start_time": "2022-12-04T07:21:23.267Z"
   },
   {
    "duration": 98,
    "start_time": "2022-12-04T07:28:07.960Z"
   },
   {
    "duration": 130,
    "start_time": "2022-12-04T07:28:09.573Z"
   },
   {
    "duration": 99,
    "start_time": "2022-12-04T07:29:03.388Z"
   },
   {
    "duration": 160,
    "start_time": "2022-12-04T07:35:14.162Z"
   },
   {
    "duration": 96,
    "start_time": "2022-12-04T07:35:30.179Z"
   },
   {
    "duration": 76,
    "start_time": "2022-12-04T07:35:39.956Z"
   },
   {
    "duration": 733,
    "start_time": "2022-12-06T15:47:16.867Z"
   },
   {
    "duration": 90,
    "start_time": "2022-12-06T15:47:47.111Z"
   },
   {
    "duration": 91,
    "start_time": "2022-12-06T15:48:10.462Z"
   },
   {
    "duration": 93,
    "start_time": "2022-12-06T15:58:22.159Z"
   },
   {
    "duration": 101,
    "start_time": "2022-12-06T15:58:29.127Z"
   },
   {
    "duration": 156,
    "start_time": "2022-12-06T15:58:43.145Z"
   },
   {
    "duration": 110,
    "start_time": "2022-12-06T15:58:51.247Z"
   },
   {
    "duration": 101,
    "start_time": "2022-12-06T15:58:56.135Z"
   },
   {
    "duration": 101,
    "start_time": "2022-12-06T15:59:07.430Z"
   },
   {
    "duration": 138,
    "start_time": "2022-12-06T16:01:45.968Z"
   },
   {
    "duration": 1773,
    "start_time": "2022-12-06T16:02:47.859Z"
   },
   {
    "duration": 82,
    "start_time": "2022-12-06T16:04:00.512Z"
   },
   {
    "duration": 3182,
    "start_time": "2022-12-06T16:04:13.223Z"
   },
   {
    "duration": 1519,
    "start_time": "2022-12-06T16:04:53.288Z"
   },
   {
    "duration": 2032,
    "start_time": "2022-12-06T16:05:07.032Z"
   },
   {
    "duration": 2720,
    "start_time": "2022-12-06T16:09:56.008Z"
   },
   {
    "duration": 2060,
    "start_time": "2022-12-06T16:10:40.129Z"
   },
   {
    "duration": 47,
    "start_time": "2022-12-06T20:37:12.346Z"
   },
   {
    "duration": 7,
    "start_time": "2022-12-06T20:37:15.296Z"
   },
   {
    "duration": 3001,
    "start_time": "2022-12-06T20:37:20.445Z"
   },
   {
    "duration": 48,
    "start_time": "2022-12-06T20:37:23.448Z"
   },
   {
    "duration": 2078,
    "start_time": "2022-12-06T20:38:08.029Z"
   },
   {
    "duration": 6,
    "start_time": "2022-12-06T20:38:24.997Z"
   },
   {
    "duration": 42,
    "start_time": "2022-12-06T20:38:46.925Z"
   },
   {
    "duration": 48,
    "start_time": "2022-12-07T08:27:06.792Z"
   },
   {
    "duration": 6,
    "start_time": "2022-12-07T08:27:08.381Z"
   },
   {
    "duration": 5,
    "start_time": "2022-12-07T08:27:12.261Z"
   },
   {
    "duration": 3132,
    "start_time": "2022-12-07T08:27:20.809Z"
   },
   {
    "duration": 50,
    "start_time": "2022-12-07T08:27:23.943Z"
   },
   {
    "duration": 51,
    "start_time": "2022-12-07T15:15:28.532Z"
   },
   {
    "duration": 2573,
    "start_time": "2022-12-07T15:15:53.565Z"
   },
   {
    "duration": 74,
    "start_time": "2022-12-07T15:15:56.141Z"
   },
   {
    "duration": 2716,
    "start_time": "2022-12-07T15:16:08.108Z"
   },
   {
    "duration": 80,
    "start_time": "2022-12-08T14:55:01.096Z"
   },
   {
    "duration": 9,
    "start_time": "2022-12-08T14:55:10.409Z"
   },
   {
    "duration": 4971,
    "start_time": "2022-12-08T14:55:13.638Z"
   },
   {
    "duration": 1436,
    "start_time": "2022-12-08T14:55:18.612Z"
   },
   {
    "duration": 4048,
    "start_time": "2022-12-08T15:02:47.043Z"
   },
   {
    "duration": 17,
    "start_time": "2022-12-08T15:02:51.093Z"
   },
   {
    "duration": 34,
    "start_time": "2022-12-08T15:25:44.178Z"
   },
   {
    "duration": 1427,
    "start_time": "2022-12-08T15:25:56.956Z"
   },
   {
    "duration": 18,
    "start_time": "2022-12-08T15:26:02.613Z"
   },
   {
    "duration": 5,
    "start_time": "2022-12-08T15:26:15.837Z"
   },
   {
    "duration": 7,
    "start_time": "2022-12-08T15:26:40.438Z"
   },
   {
    "duration": 9,
    "start_time": "2022-12-08T15:26:44.765Z"
   },
   {
    "duration": 12,
    "start_time": "2022-12-08T15:27:19.601Z"
   },
   {
    "duration": 7,
    "start_time": "2022-12-08T15:27:28.937Z"
   },
   {
    "duration": 42,
    "start_time": "2022-12-08T15:28:43.138Z"
   },
   {
    "duration": 11,
    "start_time": "2022-12-08T15:28:50.783Z"
   },
   {
    "duration": 38,
    "start_time": "2022-12-08T15:29:27.536Z"
   },
   {
    "duration": 16,
    "start_time": "2022-12-08T15:29:39.501Z"
   },
   {
    "duration": 32,
    "start_time": "2022-12-08T15:29:48.403Z"
   },
   {
    "duration": 10,
    "start_time": "2022-12-08T15:29:51.303Z"
   },
   {
    "duration": 20,
    "start_time": "2022-12-08T15:35:07.068Z"
   },
   {
    "duration": 9,
    "start_time": "2022-12-08T15:35:13.242Z"
   },
   {
    "duration": 14,
    "start_time": "2022-12-08T15:35:15.857Z"
   },
   {
    "duration": 7,
    "start_time": "2022-12-08T15:35:39.558Z"
   },
   {
    "duration": 7,
    "start_time": "2022-12-08T15:35:44.193Z"
   },
   {
    "duration": 5,
    "start_time": "2022-12-08T16:26:12.403Z"
   },
   {
    "duration": 93,
    "start_time": "2022-12-08T16:26:21.921Z"
   },
   {
    "duration": 6,
    "start_time": "2022-12-08T16:26:24.561Z"
   },
   {
    "duration": 5,
    "start_time": "2022-12-08T16:26:49.222Z"
   },
   {
    "duration": 2697,
    "start_time": "2022-12-08T16:28:15.268Z"
   },
   {
    "duration": 5,
    "start_time": "2022-12-08T16:28:33.188Z"
   },
   {
    "duration": 10,
    "start_time": "2022-12-08T16:29:31.525Z"
   },
   {
    "duration": 11,
    "start_time": "2022-12-08T16:29:36.342Z"
   },
   {
    "duration": 19,
    "start_time": "2022-12-08T16:29:40.168Z"
   },
   {
    "duration": 15,
    "start_time": "2022-12-08T16:29:41.864Z"
   },
   {
    "duration": 15,
    "start_time": "2022-12-08T17:01:50.377Z"
   },
   {
    "duration": 6,
    "start_time": "2022-12-08T17:15:07.550Z"
   },
   {
    "duration": 6,
    "start_time": "2022-12-08T17:15:14.875Z"
   },
   {
    "duration": 9,
    "start_time": "2022-12-08T17:15:30.123Z"
   },
   {
    "duration": 10,
    "start_time": "2022-12-08T17:15:47.689Z"
   },
   {
    "duration": 8,
    "start_time": "2022-12-08T17:16:01.629Z"
   },
   {
    "duration": 832,
    "start_time": "2022-12-08T17:16:16.104Z"
   },
   {
    "duration": 875,
    "start_time": "2022-12-08T17:16:24.480Z"
   },
   {
    "duration": 3713,
    "start_time": "2022-12-10T15:43:28.660Z"
   },
   {
    "duration": 20,
    "start_time": "2022-12-10T15:43:32.375Z"
   },
   {
    "duration": 113,
    "start_time": "2022-12-10T15:43:32.397Z"
   },
   {
    "duration": 8,
    "start_time": "2022-12-10T15:43:39.554Z"
   },
   {
    "duration": 10,
    "start_time": "2022-12-10T15:44:03.660Z"
   },
   {
    "duration": 6,
    "start_time": "2022-12-10T15:44:22.798Z"
   },
   {
    "duration": 5,
    "start_time": "2022-12-10T15:44:32.170Z"
   },
   {
    "duration": 4,
    "start_time": "2022-12-10T15:44:43.073Z"
   },
   {
    "duration": 4,
    "start_time": "2022-12-10T15:44:59.401Z"
   },
   {
    "duration": 5,
    "start_time": "2022-12-10T15:46:12.770Z"
   },
   {
    "duration": 2408,
    "start_time": "2022-12-10T15:46:18.887Z"
   },
   {
    "duration": 16,
    "start_time": "2022-12-10T15:46:21.298Z"
   },
   {
    "duration": 25,
    "start_time": "2022-12-10T15:46:21.315Z"
   },
   {
    "duration": 3,
    "start_time": "2022-12-10T15:47:07.162Z"
   },
   {
    "duration": 4,
    "start_time": "2022-12-10T15:47:09.904Z"
   },
   {
    "duration": 3,
    "start_time": "2022-12-10T15:47:14.486Z"
   },
   {
    "duration": 2384,
    "start_time": "2022-12-10T15:47:17.781Z"
   },
   {
    "duration": 14,
    "start_time": "2022-12-10T15:47:20.167Z"
   },
   {
    "duration": 4,
    "start_time": "2022-12-10T15:47:20.182Z"
   },
   {
    "duration": 2471,
    "start_time": "2022-12-10T15:47:51.870Z"
   },
   {
    "duration": 16,
    "start_time": "2022-12-10T15:47:54.343Z"
   },
   {
    "duration": 13,
    "start_time": "2022-12-10T15:47:54.361Z"
   },
   {
    "duration": 4,
    "start_time": "2022-12-10T15:48:46.470Z"
   },
   {
    "duration": 3,
    "start_time": "2022-12-10T15:48:51.850Z"
   },
   {
    "duration": 2295,
    "start_time": "2022-12-10T15:48:54.065Z"
   },
   {
    "duration": 16,
    "start_time": "2022-12-10T15:48:56.362Z"
   },
   {
    "duration": 31,
    "start_time": "2022-12-10T15:48:56.380Z"
   },
   {
    "duration": 4,
    "start_time": "2022-12-10T15:49:09.954Z"
   },
   {
    "duration": 8,
    "start_time": "2022-12-10T15:49:11.945Z"
   },
   {
    "duration": 8,
    "start_time": "2022-12-10T15:49:25.916Z"
   },
   {
    "duration": 2321,
    "start_time": "2022-12-10T15:49:28.622Z"
   },
   {
    "duration": 13,
    "start_time": "2022-12-10T15:49:30.945Z"
   },
   {
    "duration": 12,
    "start_time": "2022-12-10T15:49:30.959Z"
   },
   {
    "duration": 2536,
    "start_time": "2022-12-10T15:49:40.303Z"
   },
   {
    "duration": 16,
    "start_time": "2022-12-10T15:49:42.841Z"
   },
   {
    "duration": 23,
    "start_time": "2022-12-10T15:49:42.859Z"
   },
   {
    "duration": 2286,
    "start_time": "2022-12-10T15:50:06.150Z"
   },
   {
    "duration": 16,
    "start_time": "2022-12-10T15:50:08.439Z"
   },
   {
    "duration": 7,
    "start_time": "2022-12-10T15:50:08.457Z"
   },
   {
    "duration": 2503,
    "start_time": "2022-12-10T15:57:08.446Z"
   },
   {
    "duration": 13,
    "start_time": "2022-12-10T15:57:10.951Z"
   },
   {
    "duration": 4,
    "start_time": "2022-12-10T15:57:10.965Z"
   },
   {
    "duration": 2294,
    "start_time": "2022-12-10T15:57:21.363Z"
   },
   {
    "duration": 15,
    "start_time": "2022-12-10T15:57:23.659Z"
   },
   {
    "duration": 9,
    "start_time": "2022-12-10T15:57:23.676Z"
   },
   {
    "duration": 2356,
    "start_time": "2022-12-10T15:59:14.709Z"
   },
   {
    "duration": 14,
    "start_time": "2022-12-10T15:59:17.067Z"
   },
   {
    "duration": 49,
    "start_time": "2022-12-10T15:59:17.083Z"
   },
   {
    "duration": 2709,
    "start_time": "2022-12-10T15:59:31.827Z"
   },
   {
    "duration": 14,
    "start_time": "2022-12-10T15:59:34.539Z"
   },
   {
    "duration": 26,
    "start_time": "2022-12-10T15:59:34.555Z"
   },
   {
    "duration": 7,
    "start_time": "2022-12-10T15:59:52.654Z"
   },
   {
    "duration": 55,
    "start_time": "2022-12-10T16:00:25.771Z"
   },
   {
    "duration": 5,
    "start_time": "2022-12-10T16:00:27.573Z"
   },
   {
    "duration": 2355,
    "start_time": "2022-12-10T16:00:30.545Z"
   },
   {
    "duration": 14,
    "start_time": "2022-12-10T16:00:32.902Z"
   },
   {
    "duration": 19,
    "start_time": "2022-12-10T16:00:32.918Z"
   },
   {
    "duration": 54,
    "start_time": "2022-12-10T16:01:26.140Z"
   },
   {
    "duration": 2507,
    "start_time": "2022-12-10T16:01:32.462Z"
   },
   {
    "duration": 13,
    "start_time": "2022-12-10T16:01:34.971Z"
   },
   {
    "duration": 22,
    "start_time": "2022-12-10T16:01:34.985Z"
   },
   {
    "duration": 7,
    "start_time": "2022-12-10T16:02:34.347Z"
   },
   {
    "duration": 4,
    "start_time": "2022-12-10T16:09:07.482Z"
   },
   {
    "duration": 8,
    "start_time": "2022-12-10T16:38:33.906Z"
   },
   {
    "duration": 4,
    "start_time": "2022-12-10T16:40:49.541Z"
   },
   {
    "duration": 534,
    "start_time": "2022-12-10T16:41:13.941Z"
   },
   {
    "duration": 2305,
    "start_time": "2022-12-10T16:41:21.849Z"
   },
   {
    "duration": 10,
    "start_time": "2022-12-10T16:41:24.156Z"
   },
   {
    "duration": 11,
    "start_time": "2022-12-10T16:41:24.167Z"
   },
   {
    "duration": 486,
    "start_time": "2022-12-10T16:41:24.181Z"
   },
   {
    "duration": 0,
    "start_time": "2022-12-10T16:41:24.669Z"
   },
   {
    "duration": 0,
    "start_time": "2022-12-10T16:41:24.671Z"
   },
   {
    "duration": 2393,
    "start_time": "2022-12-10T16:41:50.902Z"
   },
   {
    "duration": 10,
    "start_time": "2022-12-10T16:41:53.297Z"
   },
   {
    "duration": 68,
    "start_time": "2022-12-10T16:41:53.309Z"
   },
   {
    "duration": 13,
    "start_time": "2022-12-10T16:41:53.379Z"
   },
   {
    "duration": 10,
    "start_time": "2022-12-10T16:41:53.395Z"
   },
   {
    "duration": 30,
    "start_time": "2022-12-10T16:41:53.407Z"
   },
   {
    "duration": 2327,
    "start_time": "2022-12-10T16:42:22.004Z"
   },
   {
    "duration": 11,
    "start_time": "2022-12-10T16:42:24.334Z"
   },
   {
    "duration": 27,
    "start_time": "2022-12-10T16:42:24.347Z"
   },
   {
    "duration": 10,
    "start_time": "2022-12-10T16:42:24.376Z"
   },
   {
    "duration": 16,
    "start_time": "2022-12-10T16:42:24.389Z"
   },
   {
    "duration": 32,
    "start_time": "2022-12-10T16:42:24.406Z"
   },
   {
    "duration": 12,
    "start_time": "2022-12-10T16:42:47.471Z"
   },
   {
    "duration": 2967,
    "start_time": "2022-12-10T17:03:51.905Z"
   },
   {
    "duration": 11,
    "start_time": "2022-12-10T17:03:54.876Z"
   },
   {
    "duration": 16,
    "start_time": "2022-12-10T17:03:54.889Z"
   },
   {
    "duration": 0,
    "start_time": "2022-12-10T17:03:54.907Z"
   },
   {
    "duration": 0,
    "start_time": "2022-12-10T17:03:54.908Z"
   },
   {
    "duration": 0,
    "start_time": "2022-12-10T17:03:54.909Z"
   },
   {
    "duration": 2453,
    "start_time": "2022-12-10T17:10:56.894Z"
   },
   {
    "duration": 10,
    "start_time": "2022-12-10T17:10:59.350Z"
   },
   {
    "duration": 10,
    "start_time": "2022-12-10T17:10:59.361Z"
   },
   {
    "duration": 0,
    "start_time": "2022-12-10T17:10:59.373Z"
   },
   {
    "duration": 0,
    "start_time": "2022-12-10T17:10:59.374Z"
   },
   {
    "duration": 0,
    "start_time": "2022-12-10T17:10:59.376Z"
   },
   {
    "duration": 2428,
    "start_time": "2022-12-10T17:11:24.177Z"
   },
   {
    "duration": 9,
    "start_time": "2022-12-10T17:11:26.607Z"
   },
   {
    "duration": 29,
    "start_time": "2022-12-10T17:11:26.618Z"
   },
   {
    "duration": 0,
    "start_time": "2022-12-10T17:11:26.649Z"
   },
   {
    "duration": 0,
    "start_time": "2022-12-10T17:11:26.652Z"
   },
   {
    "duration": 0,
    "start_time": "2022-12-10T17:11:26.654Z"
   },
   {
    "duration": 2802,
    "start_time": "2022-12-10T17:11:56.166Z"
   },
   {
    "duration": 17,
    "start_time": "2022-12-10T17:11:58.971Z"
   },
   {
    "duration": 44,
    "start_time": "2022-12-10T17:11:58.989Z"
   },
   {
    "duration": 0,
    "start_time": "2022-12-10T17:11:59.039Z"
   },
   {
    "duration": 0,
    "start_time": "2022-12-10T17:11:59.040Z"
   },
   {
    "duration": 0,
    "start_time": "2022-12-10T17:11:59.042Z"
   },
   {
    "duration": 5,
    "start_time": "2022-12-10T17:13:21.176Z"
   },
   {
    "duration": 5,
    "start_time": "2022-12-10T17:13:33.684Z"
   },
   {
    "duration": 6,
    "start_time": "2022-12-10T17:14:23.669Z"
   },
   {
    "duration": 3272,
    "start_time": "2022-12-10T17:14:30.657Z"
   },
   {
    "duration": 18,
    "start_time": "2022-12-10T17:14:33.936Z"
   },
   {
    "duration": 11,
    "start_time": "2022-12-10T17:14:33.956Z"
   },
   {
    "duration": 10,
    "start_time": "2022-12-10T17:14:33.969Z"
   },
   {
    "duration": 7,
    "start_time": "2022-12-10T17:14:33.980Z"
   },
   {
    "duration": 29,
    "start_time": "2022-12-10T17:14:33.989Z"
   },
   {
    "duration": 7,
    "start_time": "2022-12-10T17:14:46.759Z"
   },
   {
    "duration": 297,
    "start_time": "2022-12-10T17:16:45.982Z"
   },
   {
    "duration": 171,
    "start_time": "2022-12-10T17:17:52.546Z"
   },
   {
    "duration": 148,
    "start_time": "2022-12-10T17:17:58.242Z"
   },
   {
    "duration": 145,
    "start_time": "2022-12-10T17:18:01.949Z"
   },
   {
    "duration": 9,
    "start_time": "2022-12-10T17:18:39.485Z"
   },
   {
    "duration": 9,
    "start_time": "2022-12-10T17:18:49.709Z"
   },
   {
    "duration": 157,
    "start_time": "2022-12-10T17:24:00.852Z"
   },
   {
    "duration": 153,
    "start_time": "2022-12-10T17:28:01.018Z"
   },
   {
    "duration": 24,
    "start_time": "2022-12-10T17:28:04.025Z"
   },
   {
    "duration": 55,
    "start_time": "2022-12-10T17:28:32.184Z"
   },
   {
    "duration": 144,
    "start_time": "2022-12-10T17:28:45.697Z"
   },
   {
    "duration": 19,
    "start_time": "2022-12-10T17:28:59.018Z"
   },
   {
    "duration": 147,
    "start_time": "2022-12-10T17:30:09.713Z"
   },
   {
    "duration": 152,
    "start_time": "2022-12-10T17:30:21.503Z"
   },
   {
    "duration": 17,
    "start_time": "2022-12-10T17:30:25.743Z"
   },
   {
    "duration": 151,
    "start_time": "2022-12-10T17:30:50.816Z"
   },
   {
    "duration": 155,
    "start_time": "2022-12-10T17:32:22.663Z"
   },
   {
    "duration": 225,
    "start_time": "2022-12-10T17:32:49.065Z"
   },
   {
    "duration": 162,
    "start_time": "2022-12-10T17:33:04.235Z"
   },
   {
    "duration": 162,
    "start_time": "2022-12-10T17:33:21.529Z"
   },
   {
    "duration": 151,
    "start_time": "2022-12-10T17:33:36.152Z"
   },
   {
    "duration": 170,
    "start_time": "2022-12-10T17:35:21.110Z"
   },
   {
    "duration": 140,
    "start_time": "2022-12-10T17:40:53.563Z"
   },
   {
    "duration": 171,
    "start_time": "2022-12-10T17:40:57.531Z"
   },
   {
    "duration": 64,
    "start_time": "2022-12-10T17:41:38.665Z"
   },
   {
    "duration": 3298,
    "start_time": "2022-12-10T17:41:41.151Z"
   },
   {
    "duration": 10,
    "start_time": "2022-12-10T17:41:44.452Z"
   },
   {
    "duration": 158,
    "start_time": "2022-12-10T17:41:44.465Z"
   },
   {
    "duration": 12,
    "start_time": "2022-12-10T17:41:44.625Z"
   },
   {
    "duration": 56,
    "start_time": "2022-12-10T17:41:44.639Z"
   },
   {
    "duration": 142,
    "start_time": "2022-12-10T17:42:03.276Z"
   },
   {
    "duration": 8,
    "start_time": "2022-12-10T17:47:31.770Z"
   },
   {
    "duration": 7,
    "start_time": "2022-12-10T17:48:57.258Z"
   },
   {
    "duration": 57,
    "start_time": "2022-12-10T17:50:37.371Z"
   },
   {
    "duration": 41,
    "start_time": "2022-12-10T17:50:51.071Z"
   },
   {
    "duration": 13,
    "start_time": "2022-12-10T17:50:54.424Z"
   },
   {
    "duration": 15,
    "start_time": "2022-12-10T17:51:58.522Z"
   },
   {
    "duration": 17,
    "start_time": "2022-12-10T17:52:09.401Z"
   },
   {
    "duration": 16,
    "start_time": "2022-12-10T17:52:13.903Z"
   },
   {
    "duration": 12,
    "start_time": "2022-12-10T17:52:21.418Z"
   },
   {
    "duration": 23,
    "start_time": "2022-12-10T17:52:38.608Z"
   },
   {
    "duration": 9,
    "start_time": "2022-12-10T17:52:50.615Z"
   },
   {
    "duration": 12,
    "start_time": "2022-12-10T17:53:06.156Z"
   },
   {
    "duration": 12,
    "start_time": "2022-12-10T17:53:29.404Z"
   },
   {
    "duration": 15,
    "start_time": "2022-12-10T17:56:11.462Z"
   },
   {
    "duration": 15,
    "start_time": "2022-12-10T17:56:16.858Z"
   },
   {
    "duration": 8,
    "start_time": "2022-12-10T17:56:27.199Z"
   },
   {
    "duration": 31,
    "start_time": "2022-12-10T17:56:35.962Z"
   },
   {
    "duration": 822,
    "start_time": "2022-12-10T17:58:10.693Z"
   },
   {
    "duration": 32,
    "start_time": "2022-12-10T17:58:15.545Z"
   },
   {
    "duration": 68,
    "start_time": "2022-12-10T17:58:35.372Z"
   },
   {
    "duration": 20,
    "start_time": "2022-12-10T17:58:44.602Z"
   },
   {
    "duration": 26,
    "start_time": "2022-12-10T17:59:04.926Z"
   },
   {
    "duration": 8,
    "start_time": "2022-12-10T17:59:11.155Z"
   },
   {
    "duration": 10,
    "start_time": "2022-12-10T17:59:16.009Z"
   },
   {
    "duration": 11,
    "start_time": "2022-12-10T17:59:30.396Z"
   },
   {
    "duration": 2691,
    "start_time": "2022-12-10T17:59:49.851Z"
   },
   {
    "duration": 21,
    "start_time": "2022-12-10T17:59:52.544Z"
   },
   {
    "duration": 231,
    "start_time": "2022-12-10T17:59:52.567Z"
   },
   {
    "duration": 24,
    "start_time": "2022-12-10T17:59:52.800Z"
   },
   {
    "duration": 23,
    "start_time": "2022-12-10T17:59:52.836Z"
   },
   {
    "duration": 52,
    "start_time": "2022-12-10T17:59:52.860Z"
   },
   {
    "duration": 55,
    "start_time": "2022-12-10T18:00:34.006Z"
   },
   {
    "duration": 66,
    "start_time": "2022-12-10T18:00:47.592Z"
   },
   {
    "duration": 2742,
    "start_time": "2022-12-10T18:00:50.065Z"
   },
   {
    "duration": 12,
    "start_time": "2022-12-10T18:00:52.810Z"
   },
   {
    "duration": 175,
    "start_time": "2022-12-10T18:00:52.824Z"
   },
   {
    "duration": 50,
    "start_time": "2022-12-10T18:00:53.000Z"
   },
   {
    "duration": 8,
    "start_time": "2022-12-10T18:00:53.053Z"
   },
   {
    "duration": 57,
    "start_time": "2022-12-10T18:00:53.064Z"
   },
   {
    "duration": 18,
    "start_time": "2022-12-10T18:01:06.982Z"
   },
   {
    "duration": 2654,
    "start_time": "2022-12-10T18:01:09.535Z"
   },
   {
    "duration": 12,
    "start_time": "2022-12-10T18:01:12.192Z"
   },
   {
    "duration": 209,
    "start_time": "2022-12-10T18:01:12.206Z"
   },
   {
    "duration": 11,
    "start_time": "2022-12-10T18:01:12.418Z"
   },
   {
    "duration": 9,
    "start_time": "2022-12-10T18:01:12.436Z"
   },
   {
    "duration": 66,
    "start_time": "2022-12-10T18:01:12.447Z"
   },
   {
    "duration": 15,
    "start_time": "2022-12-10T18:01:20.353Z"
   },
   {
    "duration": 2736,
    "start_time": "2022-12-10T18:01:24.155Z"
   },
   {
    "duration": 10,
    "start_time": "2022-12-10T18:01:26.894Z"
   },
   {
    "duration": 192,
    "start_time": "2022-12-10T18:01:26.905Z"
   },
   {
    "duration": 15,
    "start_time": "2022-12-10T18:01:27.099Z"
   },
   {
    "duration": 20,
    "start_time": "2022-12-10T18:01:27.117Z"
   },
   {
    "duration": 56,
    "start_time": "2022-12-10T18:01:27.140Z"
   },
   {
    "duration": 20,
    "start_time": "2022-12-10T18:03:06.013Z"
   },
   {
    "duration": 18,
    "start_time": "2022-12-10T18:03:06.036Z"
   },
   {
    "duration": 58,
    "start_time": "2022-12-10T18:03:06.057Z"
   },
   {
    "duration": 14,
    "start_time": "2022-12-10T18:03:53.506Z"
   },
   {
    "duration": 2337,
    "start_time": "2022-12-10T19:32:13.412Z"
   },
   {
    "duration": 11,
    "start_time": "2022-12-10T19:32:15.752Z"
   },
   {
    "duration": 176,
    "start_time": "2022-12-10T19:32:15.765Z"
   },
   {
    "duration": 19,
    "start_time": "2022-12-10T19:32:15.943Z"
   },
   {
    "duration": 8,
    "start_time": "2022-12-10T19:32:15.964Z"
   },
   {
    "duration": 43,
    "start_time": "2022-12-10T19:32:15.973Z"
   },
   {
    "duration": 46,
    "start_time": "2022-12-10T19:34:48.903Z"
   },
   {
    "duration": 2563,
    "start_time": "2022-12-10T19:34:52.262Z"
   },
   {
    "duration": 19,
    "start_time": "2022-12-10T19:34:54.828Z"
   },
   {
    "duration": 198,
    "start_time": "2022-12-10T19:34:54.849Z"
   },
   {
    "duration": 17,
    "start_time": "2022-12-10T19:34:55.049Z"
   },
   {
    "duration": 8,
    "start_time": "2022-12-10T19:34:55.069Z"
   },
   {
    "duration": 46,
    "start_time": "2022-12-10T19:34:55.078Z"
   },
   {
    "duration": 55,
    "start_time": "2022-12-10T19:35:29.785Z"
   },
   {
    "duration": 9,
    "start_time": "2022-12-10T19:35:32.436Z"
   },
   {
    "duration": 4,
    "start_time": "2022-12-10T19:42:31.372Z"
   },
   {
    "duration": 45,
    "start_time": "2022-12-10T19:42:45.986Z"
   },
   {
    "duration": 38,
    "start_time": "2022-12-10T19:42:55.661Z"
   },
   {
    "duration": 5,
    "start_time": "2022-12-10T19:42:59.569Z"
   },
   {
    "duration": 9,
    "start_time": "2022-12-10T19:44:19.247Z"
   },
   {
    "duration": 28,
    "start_time": "2022-12-10T19:44:59.337Z"
   },
   {
    "duration": 4,
    "start_time": "2022-12-10T19:45:33.144Z"
   },
   {
    "duration": 4,
    "start_time": "2022-12-10T19:45:43.483Z"
   },
   {
    "duration": 4,
    "start_time": "2022-12-10T19:45:46.083Z"
   },
   {
    "duration": 18,
    "start_time": "2022-12-10T19:45:56.610Z"
   },
   {
    "duration": 6,
    "start_time": "2022-12-10T19:46:08.473Z"
   },
   {
    "duration": 5,
    "start_time": "2022-12-10T19:46:58.711Z"
   },
   {
    "duration": 6,
    "start_time": "2022-12-10T19:47:24.977Z"
   },
   {
    "duration": 6,
    "start_time": "2022-12-10T19:47:28.843Z"
   },
   {
    "duration": 6,
    "start_time": "2022-12-10T19:47:34.432Z"
   },
   {
    "duration": 6,
    "start_time": "2022-12-10T19:47:58.153Z"
   },
   {
    "duration": 6,
    "start_time": "2022-12-10T19:48:01.588Z"
   },
   {
    "duration": 7,
    "start_time": "2022-12-10T19:48:22.210Z"
   },
   {
    "duration": 17,
    "start_time": "2022-12-10T19:48:31.810Z"
   },
   {
    "duration": 29,
    "start_time": "2022-12-10T19:48:35.221Z"
   },
   {
    "duration": 2518,
    "start_time": "2022-12-10T19:53:20.573Z"
   },
   {
    "duration": 12,
    "start_time": "2022-12-10T19:53:23.094Z"
   },
   {
    "duration": 171,
    "start_time": "2022-12-10T19:53:23.108Z"
   },
   {
    "duration": 18,
    "start_time": "2022-12-10T19:53:23.281Z"
   },
   {
    "duration": 11,
    "start_time": "2022-12-10T19:53:23.301Z"
   },
   {
    "duration": 28,
    "start_time": "2022-12-10T19:53:23.314Z"
   },
   {
    "duration": 45,
    "start_time": "2022-12-10T19:53:23.343Z"
   },
   {
    "duration": 29,
    "start_time": "2022-12-10T19:53:39.128Z"
   },
   {
    "duration": 508,
    "start_time": "2022-12-10T19:58:25.752Z"
   },
   {
    "duration": 7,
    "start_time": "2022-12-10T19:58:33.109Z"
   },
   {
    "duration": 6,
    "start_time": "2022-12-10T19:58:40.322Z"
   },
   {
    "duration": 7,
    "start_time": "2022-12-10T19:58:41.912Z"
   },
   {
    "duration": 17,
    "start_time": "2022-12-10T19:58:52.085Z"
   },
   {
    "duration": 29,
    "start_time": "2022-12-10T19:58:56.396Z"
   },
   {
    "duration": 10,
    "start_time": "2022-12-10T19:59:27.583Z"
   },
   {
    "duration": 8,
    "start_time": "2022-12-10T19:59:35.328Z"
   },
   {
    "duration": 10,
    "start_time": "2022-12-10T19:59:59.676Z"
   },
   {
    "duration": 8,
    "start_time": "2022-12-10T20:00:25.334Z"
   },
   {
    "duration": 2334,
    "start_time": "2022-12-10T20:00:41.729Z"
   },
   {
    "duration": 10,
    "start_time": "2022-12-10T20:00:44.065Z"
   },
   {
    "duration": 179,
    "start_time": "2022-12-10T20:00:44.076Z"
   },
   {
    "duration": 19,
    "start_time": "2022-12-10T20:00:44.258Z"
   },
   {
    "duration": 9,
    "start_time": "2022-12-10T20:00:44.279Z"
   },
   {
    "duration": 14,
    "start_time": "2022-12-10T20:00:44.290Z"
   },
   {
    "duration": 50,
    "start_time": "2022-12-10T20:00:44.306Z"
   },
   {
    "duration": 3096,
    "start_time": "2022-12-10T20:00:49.689Z"
   },
   {
    "duration": 14,
    "start_time": "2022-12-10T20:00:52.788Z"
   },
   {
    "duration": 181,
    "start_time": "2022-12-10T20:00:52.804Z"
   },
   {
    "duration": 24,
    "start_time": "2022-12-10T20:00:52.987Z"
   },
   {
    "duration": 29,
    "start_time": "2022-12-10T20:00:53.014Z"
   },
   {
    "duration": 18,
    "start_time": "2022-12-10T20:00:53.044Z"
   },
   {
    "duration": 63,
    "start_time": "2022-12-10T20:00:53.064Z"
   },
   {
    "duration": 11,
    "start_time": "2022-12-10T20:01:49.110Z"
   },
   {
    "duration": 54,
    "start_time": "2022-12-10T20:01:57.606Z"
   },
   {
    "duration": 47,
    "start_time": "2022-12-10T20:03:04.172Z"
   },
   {
    "duration": 8,
    "start_time": "2022-12-10T20:03:18.097Z"
   },
   {
    "duration": 11,
    "start_time": "2022-12-10T20:03:57.500Z"
   },
   {
    "duration": 12,
    "start_time": "2022-12-10T20:06:21.980Z"
   },
   {
    "duration": 11,
    "start_time": "2022-12-10T20:06:27.956Z"
   },
   {
    "duration": 41,
    "start_time": "2022-12-10T20:06:52.073Z"
   },
   {
    "duration": 11,
    "start_time": "2022-12-10T20:06:54.096Z"
   },
   {
    "duration": 11,
    "start_time": "2022-12-10T20:11:13.281Z"
   },
   {
    "duration": 57,
    "start_time": "2022-12-10T20:12:03.927Z"
   },
   {
    "duration": 3307,
    "start_time": "2022-12-10T20:12:13.773Z"
   },
   {
    "duration": 10,
    "start_time": "2022-12-10T20:12:17.082Z"
   },
   {
    "duration": 168,
    "start_time": "2022-12-10T20:12:17.093Z"
   },
   {
    "duration": 24,
    "start_time": "2022-12-10T20:12:17.263Z"
   },
   {
    "duration": 550,
    "start_time": "2022-12-10T20:12:17.288Z"
   },
   {
    "duration": 0,
    "start_time": "2022-12-10T20:12:17.839Z"
   },
   {
    "duration": 0,
    "start_time": "2022-12-10T20:12:17.840Z"
   },
   {
    "duration": 525,
    "start_time": "2022-12-10T20:12:33.535Z"
   },
   {
    "duration": 583,
    "start_time": "2022-12-10T20:14:25.290Z"
   },
   {
    "duration": 12,
    "start_time": "2022-12-10T20:14:30.105Z"
   },
   {
    "duration": 10,
    "start_time": "2022-12-10T20:14:48.607Z"
   },
   {
    "duration": 11,
    "start_time": "2022-12-10T20:15:07.382Z"
   },
   {
    "duration": 11,
    "start_time": "2022-12-10T20:15:33.332Z"
   },
   {
    "duration": 506,
    "start_time": "2022-12-10T20:18:06.716Z"
   },
   {
    "duration": 44,
    "start_time": "2022-12-10T20:18:53.882Z"
   },
   {
    "duration": 2827,
    "start_time": "2022-12-10T20:21:03.100Z"
   },
   {
    "duration": 10,
    "start_time": "2022-12-10T20:21:05.935Z"
   },
   {
    "duration": 166,
    "start_time": "2022-12-10T20:21:05.946Z"
   },
   {
    "duration": 35,
    "start_time": "2022-12-10T20:21:06.115Z"
   },
   {
    "duration": 3,
    "start_time": "2022-12-10T20:21:06.152Z"
   },
   {
    "duration": 14,
    "start_time": "2022-12-10T20:21:06.157Z"
   },
   {
    "duration": 62,
    "start_time": "2022-12-10T20:21:06.173Z"
   },
   {
    "duration": 734,
    "start_time": "2022-12-10T20:22:42.560Z"
   },
   {
    "duration": 84,
    "start_time": "2022-12-10T20:24:44.412Z"
   },
   {
    "duration": 44,
    "start_time": "2022-12-10T20:25:48.384Z"
   },
   {
    "duration": 46,
    "start_time": "2022-12-10T20:26:21.591Z"
   },
   {
    "duration": 49,
    "start_time": "2022-12-10T20:27:00.378Z"
   },
   {
    "duration": 47,
    "start_time": "2022-12-10T20:27:15.268Z"
   },
   {
    "duration": 11,
    "start_time": "2022-12-10T20:27:40.364Z"
   },
   {
    "duration": 13,
    "start_time": "2022-12-10T20:29:03.739Z"
   },
   {
    "duration": 52,
    "start_time": "2022-12-10T20:29:14.854Z"
   },
   {
    "duration": 15,
    "start_time": "2022-12-10T20:29:35.453Z"
   },
   {
    "duration": 18,
    "start_time": "2022-12-10T20:29:59.734Z"
   },
   {
    "duration": 20,
    "start_time": "2022-12-10T20:30:12.244Z"
   },
   {
    "duration": 69,
    "start_time": "2022-12-10T20:31:03.151Z"
   },
   {
    "duration": 52,
    "start_time": "2022-12-10T20:31:18.288Z"
   },
   {
    "duration": 27,
    "start_time": "2022-12-10T20:31:28.951Z"
   },
   {
    "duration": 2441,
    "start_time": "2022-12-10T20:31:34.491Z"
   },
   {
    "duration": 10,
    "start_time": "2022-12-10T20:31:36.936Z"
   },
   {
    "duration": 169,
    "start_time": "2022-12-10T20:31:36.948Z"
   },
   {
    "duration": 31,
    "start_time": "2022-12-10T20:31:37.118Z"
   },
   {
    "duration": 3,
    "start_time": "2022-12-10T20:31:37.151Z"
   },
   {
    "duration": 39,
    "start_time": "2022-12-10T20:31:37.156Z"
   },
   {
    "duration": 7,
    "start_time": "2022-12-10T20:31:37.198Z"
   },
   {
    "duration": 47,
    "start_time": "2022-12-10T20:31:37.207Z"
   },
   {
    "duration": 23,
    "start_time": "2022-12-10T20:32:08.455Z"
   },
   {
    "duration": 12,
    "start_time": "2022-12-10T20:32:10.674Z"
   },
   {
    "duration": 45,
    "start_time": "2022-12-10T20:32:38.088Z"
   },
   {
    "duration": 11,
    "start_time": "2022-12-10T20:32:42.030Z"
   },
   {
    "duration": 65,
    "start_time": "2022-12-10T20:32:47.480Z"
   },
   {
    "duration": 2317,
    "start_time": "2022-12-10T20:33:09.437Z"
   },
   {
    "duration": 10,
    "start_time": "2022-12-10T20:33:11.756Z"
   },
   {
    "duration": 160,
    "start_time": "2022-12-10T20:33:11.768Z"
   },
   {
    "duration": 17,
    "start_time": "2022-12-10T20:33:11.934Z"
   },
   {
    "duration": 3,
    "start_time": "2022-12-10T20:33:11.953Z"
   },
   {
    "duration": 90,
    "start_time": "2022-12-10T20:33:11.958Z"
   },
   {
    "duration": 7,
    "start_time": "2022-12-10T20:33:12.050Z"
   },
   {
    "duration": 48,
    "start_time": "2022-12-10T20:33:12.058Z"
   },
   {
    "duration": 3040,
    "start_time": "2022-12-10T20:33:50.940Z"
   },
   {
    "duration": 11,
    "start_time": "2022-12-10T20:33:53.982Z"
   },
   {
    "duration": 161,
    "start_time": "2022-12-10T20:33:53.994Z"
   },
   {
    "duration": 22,
    "start_time": "2022-12-10T20:33:54.157Z"
   },
   {
    "duration": 9,
    "start_time": "2022-12-10T20:33:54.181Z"
   },
   {
    "duration": 89,
    "start_time": "2022-12-10T20:33:54.191Z"
   },
   {
    "duration": 7,
    "start_time": "2022-12-10T20:33:54.282Z"
   },
   {
    "duration": 40,
    "start_time": "2022-12-10T20:33:54.290Z"
   },
   {
    "duration": 59,
    "start_time": "2022-12-10T20:34:09.082Z"
   },
   {
    "duration": 2351,
    "start_time": "2022-12-10T20:34:13.951Z"
   },
   {
    "duration": 10,
    "start_time": "2022-12-10T20:34:16.304Z"
   },
   {
    "duration": 174,
    "start_time": "2022-12-10T20:34:16.315Z"
   },
   {
    "duration": 18,
    "start_time": "2022-12-10T20:34:16.491Z"
   },
   {
    "duration": 24,
    "start_time": "2022-12-10T20:34:16.511Z"
   },
   {
    "duration": 77,
    "start_time": "2022-12-10T20:34:16.537Z"
   },
   {
    "duration": 6,
    "start_time": "2022-12-10T20:34:16.616Z"
   },
   {
    "duration": 50,
    "start_time": "2022-12-10T20:34:16.624Z"
   },
   {
    "duration": 23,
    "start_time": "2022-12-10T20:34:42.988Z"
   },
   {
    "duration": 56,
    "start_time": "2022-12-10T20:34:53.918Z"
   },
   {
    "duration": 58,
    "start_time": "2022-12-10T20:35:17.629Z"
   },
   {
    "duration": 53,
    "start_time": "2022-12-10T20:37:16.199Z"
   },
   {
    "duration": 2372,
    "start_time": "2022-12-10T20:37:19.474Z"
   },
   {
    "duration": 12,
    "start_time": "2022-12-10T20:37:21.848Z"
   },
   {
    "duration": 180,
    "start_time": "2022-12-10T20:37:21.861Z"
   },
   {
    "duration": 17,
    "start_time": "2022-12-10T20:37:22.043Z"
   },
   {
    "duration": 4,
    "start_time": "2022-12-10T20:37:22.063Z"
   },
   {
    "duration": 91,
    "start_time": "2022-12-10T20:37:22.068Z"
   },
   {
    "duration": 7,
    "start_time": "2022-12-10T20:37:22.161Z"
   },
   {
    "duration": 41,
    "start_time": "2022-12-10T20:37:22.170Z"
   },
   {
    "duration": 31,
    "start_time": "2022-12-10T20:38:18.423Z"
   },
   {
    "duration": 80,
    "start_time": "2022-12-10T20:38:31.394Z"
   },
   {
    "duration": 35,
    "start_time": "2022-12-10T20:38:36.921Z"
   },
   {
    "duration": 11,
    "start_time": "2022-12-10T20:39:03.705Z"
   },
   {
    "duration": 12,
    "start_time": "2022-12-10T20:39:08.844Z"
   },
   {
    "duration": 35,
    "start_time": "2022-12-10T20:39:15.920Z"
   },
   {
    "duration": 29,
    "start_time": "2022-12-10T20:42:16.123Z"
   },
   {
    "duration": 26,
    "start_time": "2022-12-10T20:42:25.586Z"
   },
   {
    "duration": 709,
    "start_time": "2022-12-10T20:43:01.354Z"
   },
   {
    "duration": 18,
    "start_time": "2022-12-10T20:43:26.861Z"
   },
   {
    "duration": 36,
    "start_time": "2022-12-10T20:43:30.807Z"
   },
   {
    "duration": 2412,
    "start_time": "2022-12-10T20:43:34.440Z"
   },
   {
    "duration": 11,
    "start_time": "2022-12-10T20:43:36.855Z"
   },
   {
    "duration": 176,
    "start_time": "2022-12-10T20:43:36.867Z"
   },
   {
    "duration": 20,
    "start_time": "2022-12-10T20:43:37.045Z"
   },
   {
    "duration": 4,
    "start_time": "2022-12-10T20:43:37.066Z"
   },
   {
    "duration": 30,
    "start_time": "2022-12-10T20:43:37.072Z"
   },
   {
    "duration": 33,
    "start_time": "2022-12-10T20:43:37.104Z"
   },
   {
    "duration": 68,
    "start_time": "2022-12-10T20:43:37.139Z"
   },
   {
    "duration": 2453,
    "start_time": "2022-12-10T20:43:53.136Z"
   },
   {
    "duration": 11,
    "start_time": "2022-12-10T20:43:55.590Z"
   },
   {
    "duration": 180,
    "start_time": "2022-12-10T20:43:55.602Z"
   },
   {
    "duration": 18,
    "start_time": "2022-12-10T20:43:55.784Z"
   },
   {
    "duration": 5,
    "start_time": "2022-12-10T20:43:55.804Z"
   },
   {
    "duration": 50,
    "start_time": "2022-12-10T20:43:55.810Z"
   },
   {
    "duration": 13,
    "start_time": "2022-12-10T20:43:55.862Z"
   },
   {
    "duration": 57,
    "start_time": "2022-12-10T20:43:55.877Z"
   },
   {
    "duration": 64,
    "start_time": "2022-12-10T20:44:31.638Z"
   },
   {
    "duration": 42,
    "start_time": "2022-12-10T20:44:47.719Z"
   },
   {
    "duration": 44,
    "start_time": "2022-12-10T20:44:49.386Z"
   },
   {
    "duration": 25,
    "start_time": "2022-12-10T20:44:51.600Z"
   },
   {
    "duration": 57,
    "start_time": "2022-12-11T14:37:00.629Z"
   },
   {
    "duration": 3499,
    "start_time": "2022-12-11T14:37:03.133Z"
   },
   {
    "duration": 11,
    "start_time": "2022-12-11T14:37:06.635Z"
   },
   {
    "duration": 169,
    "start_time": "2022-12-11T14:37:06.648Z"
   },
   {
    "duration": 32,
    "start_time": "2022-12-11T14:37:06.819Z"
   },
   {
    "duration": 3,
    "start_time": "2022-12-11T14:37:06.853Z"
   },
   {
    "duration": 33,
    "start_time": "2022-12-11T14:37:06.857Z"
   },
   {
    "duration": 8,
    "start_time": "2022-12-11T14:37:06.892Z"
   },
   {
    "duration": 72,
    "start_time": "2022-12-11T14:37:06.901Z"
   },
   {
    "duration": 60,
    "start_time": "2022-12-11T15:05:11.727Z"
   },
   {
    "duration": 30,
    "start_time": "2022-12-11T15:05:15.017Z"
   },
   {
    "duration": 6,
    "start_time": "2022-12-11T15:33:56.611Z"
   },
   {
    "duration": 13,
    "start_time": "2022-12-11T15:34:10.795Z"
   },
   {
    "duration": 2611,
    "start_time": "2022-12-11T15:34:16.804Z"
   },
   {
    "duration": 12,
    "start_time": "2022-12-11T15:34:19.417Z"
   },
   {
    "duration": 239,
    "start_time": "2022-12-11T15:34:19.431Z"
   },
   {
    "duration": 26,
    "start_time": "2022-12-11T15:34:19.673Z"
   },
   {
    "duration": 19,
    "start_time": "2022-12-11T15:34:19.703Z"
   },
   {
    "duration": 48,
    "start_time": "2022-12-11T15:34:19.725Z"
   },
   {
    "duration": 17,
    "start_time": "2022-12-11T15:34:19.775Z"
   },
   {
    "duration": 33,
    "start_time": "2022-12-11T15:34:19.794Z"
   },
   {
    "duration": 85,
    "start_time": "2022-12-11T15:34:19.829Z"
   },
   {
    "duration": 5,
    "start_time": "2022-12-11T15:34:44.329Z"
   },
   {
    "duration": 10,
    "start_time": "2022-12-11T15:34:54.111Z"
   },
   {
    "duration": 3491,
    "start_time": "2022-12-11T15:35:02.822Z"
   },
   {
    "duration": 11,
    "start_time": "2022-12-11T15:35:06.315Z"
   },
   {
    "duration": 152,
    "start_time": "2022-12-11T15:35:06.328Z"
   },
   {
    "duration": 22,
    "start_time": "2022-12-11T15:35:06.482Z"
   },
   {
    "duration": 3,
    "start_time": "2022-12-11T15:35:06.506Z"
   },
   {
    "duration": 56,
    "start_time": "2022-12-11T15:35:06.510Z"
   },
   {
    "duration": 50,
    "start_time": "2022-12-11T15:35:06.568Z"
   },
   {
    "duration": 7,
    "start_time": "2022-12-11T15:35:06.620Z"
   },
   {
    "duration": 362,
    "start_time": "2022-12-11T15:35:06.629Z"
   },
   {
    "duration": 2944,
    "start_time": "2022-12-11T15:38:51.384Z"
   },
   {
    "duration": 2861,
    "start_time": "2022-12-11T15:39:36.709Z"
   },
   {
    "duration": 12,
    "start_time": "2022-12-11T15:39:39.573Z"
   },
   {
    "duration": 220,
    "start_time": "2022-12-11T15:39:39.587Z"
   },
   {
    "duration": 25,
    "start_time": "2022-12-11T15:39:39.809Z"
   },
   {
    "duration": 3,
    "start_time": "2022-12-11T15:39:39.850Z"
   },
   {
    "duration": 40,
    "start_time": "2022-12-11T15:39:39.856Z"
   },
   {
    "duration": 54,
    "start_time": "2022-12-11T15:39:39.898Z"
   },
   {
    "duration": 6,
    "start_time": "2022-12-11T15:39:39.954Z"
   },
   {
    "duration": 90,
    "start_time": "2022-12-11T15:39:39.962Z"
   },
   {
    "duration": 3009,
    "start_time": "2022-12-11T15:39:57.117Z"
   },
   {
    "duration": 632,
    "start_time": "2022-12-11T15:40:13.048Z"
   },
   {
    "duration": 40,
    "start_time": "2022-12-11T15:42:58.344Z"
   },
   {
    "duration": 2746,
    "start_time": "2022-12-11T15:43:07.596Z"
   },
   {
    "duration": 10,
    "start_time": "2022-12-11T15:43:10.351Z"
   },
   {
    "duration": 163,
    "start_time": "2022-12-11T15:43:10.363Z"
   },
   {
    "duration": 31,
    "start_time": "2022-12-11T15:43:10.528Z"
   },
   {
    "duration": 3,
    "start_time": "2022-12-11T15:43:10.562Z"
   },
   {
    "duration": 37,
    "start_time": "2022-12-11T15:43:10.567Z"
   },
   {
    "duration": 63,
    "start_time": "2022-12-11T15:43:10.605Z"
   },
   {
    "duration": 13,
    "start_time": "2022-12-11T15:43:10.670Z"
   },
   {
    "duration": 71,
    "start_time": "2022-12-11T15:43:10.685Z"
   },
   {
    "duration": 32,
    "start_time": "2022-12-11T15:43:26.039Z"
   },
   {
    "duration": 8,
    "start_time": "2022-12-11T15:48:48.754Z"
   },
   {
    "duration": 2668,
    "start_time": "2022-12-11T15:48:57.668Z"
   },
   {
    "duration": 19,
    "start_time": "2022-12-11T15:49:00.339Z"
   },
   {
    "duration": 175,
    "start_time": "2022-12-11T15:49:00.360Z"
   },
   {
    "duration": 28,
    "start_time": "2022-12-11T15:49:00.537Z"
   },
   {
    "duration": 8,
    "start_time": "2022-12-11T15:49:00.567Z"
   },
   {
    "duration": 64,
    "start_time": "2022-12-11T15:49:00.577Z"
   },
   {
    "duration": 9,
    "start_time": "2022-12-11T15:49:00.643Z"
   },
   {
    "duration": 31,
    "start_time": "2022-12-11T15:49:00.655Z"
   },
   {
    "duration": 72,
    "start_time": "2022-12-11T15:49:00.688Z"
   },
   {
    "duration": 9,
    "start_time": "2022-12-11T15:49:49.463Z"
   },
   {
    "duration": 6,
    "start_time": "2022-12-11T15:49:52.726Z"
   },
   {
    "duration": 8,
    "start_time": "2022-12-11T15:50:20.535Z"
   },
   {
    "duration": 7,
    "start_time": "2022-12-11T15:50:25.054Z"
   },
   {
    "duration": 7,
    "start_time": "2022-12-11T15:50:48.328Z"
   },
   {
    "duration": 69,
    "start_time": "2022-12-11T15:51:06.558Z"
   },
   {
    "duration": 6,
    "start_time": "2022-12-11T15:51:09.335Z"
   },
   {
    "duration": 11,
    "start_time": "2022-12-11T15:51:22.981Z"
   },
   {
    "duration": 2422,
    "start_time": "2022-12-11T15:51:30.243Z"
   },
   {
    "duration": 11,
    "start_time": "2022-12-11T15:51:32.667Z"
   },
   {
    "duration": 171,
    "start_time": "2022-12-11T15:51:32.680Z"
   },
   {
    "duration": 21,
    "start_time": "2022-12-11T15:51:32.853Z"
   },
   {
    "duration": 3,
    "start_time": "2022-12-11T15:51:32.876Z"
   },
   {
    "duration": 34,
    "start_time": "2022-12-11T15:51:32.881Z"
   },
   {
    "duration": 40,
    "start_time": "2022-12-11T15:51:32.917Z"
   },
   {
    "duration": 8,
    "start_time": "2022-12-11T15:51:32.959Z"
   },
   {
    "duration": 71,
    "start_time": "2022-12-11T15:51:32.969Z"
   },
   {
    "duration": 19,
    "start_time": "2022-12-11T15:51:55.008Z"
   },
   {
    "duration": 2730,
    "start_time": "2022-12-11T15:51:59.198Z"
   },
   {
    "duration": 23,
    "start_time": "2022-12-11T15:52:01.930Z"
   },
   {
    "duration": 181,
    "start_time": "2022-12-11T15:52:01.956Z"
   },
   {
    "duration": 33,
    "start_time": "2022-12-11T15:52:02.139Z"
   },
   {
    "duration": 4,
    "start_time": "2022-12-11T15:52:02.174Z"
   },
   {
    "duration": 45,
    "start_time": "2022-12-11T15:52:02.180Z"
   },
   {
    "duration": 32,
    "start_time": "2022-12-11T15:52:02.227Z"
   },
   {
    "duration": 10,
    "start_time": "2022-12-11T15:52:02.261Z"
   },
   {
    "duration": 67,
    "start_time": "2022-12-11T15:52:02.273Z"
   },
   {
    "duration": 19,
    "start_time": "2022-12-11T15:52:13.618Z"
   },
   {
    "duration": 21,
    "start_time": "2022-12-11T15:52:21.137Z"
   },
   {
    "duration": 26,
    "start_time": "2022-12-11T15:53:33.638Z"
   },
   {
    "duration": 107,
    "start_time": "2022-12-11T15:54:09.982Z"
   },
   {
    "duration": 23,
    "start_time": "2022-12-11T15:54:23.110Z"
   },
   {
    "duration": 39,
    "start_time": "2022-12-11T15:54:30.463Z"
   },
   {
    "duration": 24,
    "start_time": "2022-12-11T15:55:56.288Z"
   },
   {
    "duration": 38,
    "start_time": "2022-12-11T15:56:09.667Z"
   },
   {
    "duration": 29,
    "start_time": "2022-12-11T15:56:20.364Z"
   },
   {
    "duration": 35,
    "start_time": "2022-12-11T15:56:34.084Z"
   },
   {
    "duration": 34,
    "start_time": "2022-12-11T15:56:47.067Z"
   },
   {
    "duration": 45,
    "start_time": "2022-12-11T15:57:19.649Z"
   },
   {
    "duration": 77,
    "start_time": "2022-12-11T15:57:33.394Z"
   },
   {
    "duration": 46,
    "start_time": "2022-12-11T15:57:56.417Z"
   },
   {
    "duration": 3390,
    "start_time": "2022-12-11T15:58:09.938Z"
   },
   {
    "duration": 11,
    "start_time": "2022-12-11T15:58:13.331Z"
   },
   {
    "duration": 180,
    "start_time": "2022-12-11T15:58:13.344Z"
   },
   {
    "duration": 37,
    "start_time": "2022-12-11T15:58:13.527Z"
   },
   {
    "duration": 2,
    "start_time": "2022-12-11T15:58:13.566Z"
   },
   {
    "duration": 45,
    "start_time": "2022-12-11T15:58:13.571Z"
   },
   {
    "duration": 55,
    "start_time": "2022-12-11T15:58:13.618Z"
   },
   {
    "duration": 9,
    "start_time": "2022-12-11T15:58:13.675Z"
   },
   {
    "duration": 73,
    "start_time": "2022-12-11T15:58:13.686Z"
   },
   {
    "duration": 105,
    "start_time": "2022-12-11T15:58:56.650Z"
   },
   {
    "duration": 56,
    "start_time": "2022-12-11T15:59:39.579Z"
   },
   {
    "duration": 0,
    "start_time": "2022-12-11T16:01:44.140Z"
   },
   {
    "duration": 0,
    "start_time": "2022-12-11T16:01:44.151Z"
   },
   {
    "duration": 0,
    "start_time": "2022-12-11T16:01:44.153Z"
   },
   {
    "duration": 0,
    "start_time": "2022-12-11T16:01:44.155Z"
   },
   {
    "duration": 0,
    "start_time": "2022-12-11T16:01:44.157Z"
   },
   {
    "duration": 0,
    "start_time": "2022-12-11T16:01:44.158Z"
   },
   {
    "duration": 0,
    "start_time": "2022-12-11T16:01:44.160Z"
   },
   {
    "duration": 0,
    "start_time": "2022-12-11T16:01:44.161Z"
   },
   {
    "duration": 0,
    "start_time": "2022-12-11T16:01:44.162Z"
   },
   {
    "duration": 3356,
    "start_time": "2022-12-11T16:01:56.569Z"
   },
   {
    "duration": 15,
    "start_time": "2022-12-11T16:01:59.927Z"
   },
   {
    "duration": 227,
    "start_time": "2022-12-11T16:01:59.944Z"
   },
   {
    "duration": 28,
    "start_time": "2022-12-11T16:02:00.173Z"
   },
   {
    "duration": 3,
    "start_time": "2022-12-11T16:02:00.204Z"
   },
   {
    "duration": 57,
    "start_time": "2022-12-11T16:02:00.209Z"
   },
   {
    "duration": 30768,
    "start_time": "2022-12-11T16:02:00.268Z"
   },
   {
    "duration": 21,
    "start_time": "2022-12-11T16:02:31.037Z"
   },
   {
    "duration": 78,
    "start_time": "2022-12-11T16:02:31.060Z"
   },
   {
    "duration": 3215,
    "start_time": "2022-12-11T16:16:25.453Z"
   },
   {
    "duration": 11,
    "start_time": "2022-12-11T16:16:28.670Z"
   },
   {
    "duration": 151,
    "start_time": "2022-12-11T16:16:28.683Z"
   },
   {
    "duration": 32,
    "start_time": "2022-12-11T16:16:28.835Z"
   },
   {
    "duration": 3,
    "start_time": "2022-12-11T16:16:28.869Z"
   },
   {
    "duration": 37,
    "start_time": "2022-12-11T16:16:28.874Z"
   },
   {
    "duration": 3386,
    "start_time": "2022-12-11T16:19:15.490Z"
   },
   {
    "duration": 11,
    "start_time": "2022-12-11T16:19:18.879Z"
   },
   {
    "duration": 175,
    "start_time": "2022-12-11T16:19:18.891Z"
   },
   {
    "duration": 28,
    "start_time": "2022-12-11T16:19:19.068Z"
   },
   {
    "duration": 3,
    "start_time": "2022-12-11T16:19:19.098Z"
   },
   {
    "duration": 69,
    "start_time": "2022-12-11T16:19:19.103Z"
   },
   {
    "duration": 133,
    "start_time": "2022-12-11T16:19:19.176Z"
   },
   {
    "duration": 1,
    "start_time": "2022-12-11T16:19:19.311Z"
   },
   {
    "duration": 0,
    "start_time": "2022-12-11T16:19:19.314Z"
   },
   {
    "duration": 30,
    "start_time": "2022-12-11T16:19:58.782Z"
   },
   {
    "duration": 42,
    "start_time": "2022-12-11T16:21:07.150Z"
   },
   {
    "duration": 3721,
    "start_time": "2022-12-11T16:21:17.000Z"
   },
   {
    "duration": 10,
    "start_time": "2022-12-11T16:21:20.724Z"
   },
   {
    "duration": 183,
    "start_time": "2022-12-11T16:21:20.736Z"
   },
   {
    "duration": 36,
    "start_time": "2022-12-11T16:21:20.921Z"
   },
   {
    "duration": 8,
    "start_time": "2022-12-11T16:21:20.959Z"
   },
   {
    "duration": 55,
    "start_time": "2022-12-11T16:21:20.972Z"
   },
   {
    "duration": 55,
    "start_time": "2022-12-11T16:21:21.029Z"
   },
   {
    "duration": 9,
    "start_time": "2022-12-11T16:21:21.087Z"
   },
   {
    "duration": 82,
    "start_time": "2022-12-11T16:21:21.099Z"
   },
   {
    "duration": 2616,
    "start_time": "2022-12-11T16:21:52.025Z"
   },
   {
    "duration": 12,
    "start_time": "2022-12-11T16:21:54.663Z"
   },
   {
    "duration": 166,
    "start_time": "2022-12-11T16:21:54.676Z"
   },
   {
    "duration": 26,
    "start_time": "2022-12-11T16:21:54.853Z"
   },
   {
    "duration": 3,
    "start_time": "2022-12-11T16:21:54.881Z"
   },
   {
    "duration": 38,
    "start_time": "2022-12-11T16:21:54.886Z"
   },
   {
    "duration": 61,
    "start_time": "2022-12-11T16:21:54.926Z"
   },
   {
    "duration": 9,
    "start_time": "2022-12-11T16:21:54.988Z"
   },
   {
    "duration": 98,
    "start_time": "2022-12-11T16:21:54.999Z"
   },
   {
    "duration": 143,
    "start_time": "2022-12-11T16:26:17.676Z"
   },
   {
    "duration": 52,
    "start_time": "2022-12-11T16:26:19.619Z"
   },
   {
    "duration": 84,
    "start_time": "2022-12-11T16:26:43.279Z"
   },
   {
    "duration": 32,
    "start_time": "2022-12-11T16:26:47.152Z"
   },
   {
    "duration": 56,
    "start_time": "2022-12-11T16:28:54.254Z"
   },
   {
    "duration": 3357,
    "start_time": "2022-12-11T16:29:00.975Z"
   },
   {
    "duration": 10,
    "start_time": "2022-12-11T16:29:04.335Z"
   },
   {
    "duration": 167,
    "start_time": "2022-12-11T16:29:04.347Z"
   },
   {
    "duration": 24,
    "start_time": "2022-12-11T16:29:04.516Z"
   },
   {
    "duration": 5,
    "start_time": "2022-12-11T16:29:04.555Z"
   },
   {
    "duration": 44,
    "start_time": "2022-12-11T16:29:04.564Z"
   },
   {
    "duration": 84,
    "start_time": "2022-12-11T16:29:04.610Z"
   },
   {
    "duration": 0,
    "start_time": "2022-12-11T16:29:04.696Z"
   },
   {
    "duration": 0,
    "start_time": "2022-12-11T16:29:04.697Z"
   },
   {
    "duration": 24,
    "start_time": "2022-12-11T16:29:15.011Z"
   },
   {
    "duration": 36,
    "start_time": "2022-12-11T16:29:24.845Z"
   },
   {
    "duration": 33,
    "start_time": "2022-12-11T16:31:29.648Z"
   },
   {
    "duration": 2791,
    "start_time": "2022-12-11T16:32:03.284Z"
   },
   {
    "duration": 14,
    "start_time": "2022-12-11T16:32:06.080Z"
   },
   {
    "duration": 178,
    "start_time": "2022-12-11T16:32:06.096Z"
   },
   {
    "duration": 20,
    "start_time": "2022-12-11T16:32:06.277Z"
   },
   {
    "duration": 3,
    "start_time": "2022-12-11T16:32:06.299Z"
   },
   {
    "duration": 70,
    "start_time": "2022-12-11T16:32:06.304Z"
   },
   {
    "duration": 32,
    "start_time": "2022-12-11T16:32:06.376Z"
   },
   {
    "duration": 54,
    "start_time": "2022-12-11T16:32:06.409Z"
   },
   {
    "duration": 76,
    "start_time": "2022-12-11T16:32:06.468Z"
   },
   {
    "duration": 203,
    "start_time": "2022-12-11T16:33:04.850Z"
   },
   {
    "duration": 175,
    "start_time": "2022-12-11T16:33:43.164Z"
   },
   {
    "duration": 2852,
    "start_time": "2022-12-11T16:34:17.884Z"
   },
   {
    "duration": 3049,
    "start_time": "2022-12-11T16:34:28.174Z"
   },
   {
    "duration": 3574,
    "start_time": "2022-12-11T16:34:41.210Z"
   },
   {
    "duration": 11,
    "start_time": "2022-12-11T16:34:44.787Z"
   },
   {
    "duration": 189,
    "start_time": "2022-12-11T16:34:44.800Z"
   },
   {
    "duration": 27,
    "start_time": "2022-12-11T16:34:44.992Z"
   },
   {
    "duration": 14,
    "start_time": "2022-12-11T16:34:45.021Z"
   },
   {
    "duration": 48,
    "start_time": "2022-12-11T16:34:45.038Z"
   },
   {
    "duration": 40,
    "start_time": "2022-12-11T16:34:45.089Z"
   },
   {
    "duration": 16,
    "start_time": "2022-12-11T16:34:45.154Z"
   },
   {
    "duration": 68,
    "start_time": "2022-12-11T16:34:45.173Z"
   },
   {
    "duration": 6,
    "start_time": "2022-12-11T16:35:16.086Z"
   },
   {
    "duration": 24,
    "start_time": "2022-12-11T16:36:43.313Z"
   },
   {
    "duration": 73,
    "start_time": "2022-12-11T16:37:24.321Z"
   },
   {
    "duration": 75,
    "start_time": "2022-12-11T16:37:44.247Z"
   },
   {
    "duration": 73,
    "start_time": "2022-12-11T16:38:08.012Z"
   },
   {
    "duration": 3426,
    "start_time": "2022-12-11T16:38:27.347Z"
   },
   {
    "duration": 10,
    "start_time": "2022-12-11T16:38:30.775Z"
   },
   {
    "duration": 159,
    "start_time": "2022-12-11T16:38:30.787Z"
   },
   {
    "duration": 29,
    "start_time": "2022-12-11T16:38:30.947Z"
   },
   {
    "duration": 5,
    "start_time": "2022-12-11T16:38:30.979Z"
   },
   {
    "duration": 39,
    "start_time": "2022-12-11T16:38:30.986Z"
   },
   {
    "duration": 53,
    "start_time": "2022-12-11T16:38:31.027Z"
   },
   {
    "duration": 102,
    "start_time": "2022-12-11T16:38:31.082Z"
   },
   {
    "duration": 0,
    "start_time": "2022-12-11T16:38:31.186Z"
   },
   {
    "duration": 2658,
    "start_time": "2022-12-11T16:41:10.548Z"
   },
   {
    "duration": 13,
    "start_time": "2022-12-11T16:41:13.209Z"
   },
   {
    "duration": 184,
    "start_time": "2022-12-11T16:41:13.225Z"
   },
   {
    "duration": 24,
    "start_time": "2022-12-11T16:41:13.412Z"
   },
   {
    "duration": 12,
    "start_time": "2022-12-11T16:41:13.450Z"
   },
   {
    "duration": 41,
    "start_time": "2022-12-11T16:41:13.468Z"
   },
   {
    "duration": 56,
    "start_time": "2022-12-11T16:41:13.510Z"
   },
   {
    "duration": 78,
    "start_time": "2022-12-11T16:41:13.568Z"
   },
   {
    "duration": 2678,
    "start_time": "2022-12-11T16:41:26.846Z"
   },
   {
    "duration": 33,
    "start_time": "2022-12-11T16:41:29.527Z"
   },
   {
    "duration": 184,
    "start_time": "2022-12-11T16:41:29.565Z"
   },
   {
    "duration": 38,
    "start_time": "2022-12-11T16:41:29.751Z"
   },
   {
    "duration": 4,
    "start_time": "2022-12-11T16:41:29.792Z"
   },
   {
    "duration": 65,
    "start_time": "2022-12-11T16:41:29.797Z"
   },
   {
    "duration": 27,
    "start_time": "2022-12-11T16:41:29.864Z"
   },
   {
    "duration": 82,
    "start_time": "2022-12-11T16:41:29.893Z"
   },
   {
    "duration": 2649,
    "start_time": "2022-12-11T16:41:43.119Z"
   },
   {
    "duration": 10,
    "start_time": "2022-12-11T16:41:45.771Z"
   },
   {
    "duration": 182,
    "start_time": "2022-12-11T16:41:45.783Z"
   },
   {
    "duration": 23,
    "start_time": "2022-12-11T16:41:45.971Z"
   },
   {
    "duration": 3,
    "start_time": "2022-12-11T16:41:45.996Z"
   },
   {
    "duration": 52,
    "start_time": "2022-12-11T16:41:46.001Z"
   },
   {
    "duration": 29,
    "start_time": "2022-12-11T16:41:46.056Z"
   },
   {
    "duration": 18,
    "start_time": "2022-12-11T16:41:46.087Z"
   },
   {
    "duration": 31,
    "start_time": "2022-12-11T16:42:22.143Z"
   },
   {
    "duration": 18,
    "start_time": "2022-12-11T16:43:14.771Z"
   },
   {
    "duration": 21,
    "start_time": "2022-12-11T16:43:31.214Z"
   },
   {
    "duration": 17,
    "start_time": "2022-12-11T16:43:35.679Z"
   },
   {
    "duration": 29,
    "start_time": "2022-12-11T16:43:55.774Z"
   },
   {
    "duration": 34,
    "start_time": "2022-12-11T16:44:02.369Z"
   },
   {
    "duration": 48,
    "start_time": "2022-12-11T16:44:46.847Z"
   },
   {
    "duration": 52,
    "start_time": "2022-12-11T16:44:53.144Z"
   },
   {
    "duration": 138,
    "start_time": "2022-12-11T16:47:04.574Z"
   },
   {
    "duration": 399,
    "start_time": "2022-12-11T16:47:36.577Z"
   },
   {
    "duration": 164,
    "start_time": "2022-12-11T16:47:42.851Z"
   },
   {
    "duration": 5,
    "start_time": "2022-12-11T16:51:08.888Z"
   },
   {
    "duration": 40,
    "start_time": "2022-12-11T16:51:45.010Z"
   },
   {
    "duration": 41,
    "start_time": "2022-12-11T17:01:45.977Z"
   },
   {
    "duration": 3568,
    "start_time": "2022-12-11T17:01:57.229Z"
   },
   {
    "duration": 13,
    "start_time": "2022-12-11T17:02:00.799Z"
   },
   {
    "duration": 183,
    "start_time": "2022-12-11T17:02:00.814Z"
   },
   {
    "duration": 26,
    "start_time": "2022-12-11T17:02:00.999Z"
   },
   {
    "duration": 3,
    "start_time": "2022-12-11T17:02:01.029Z"
   },
   {
    "duration": 72,
    "start_time": "2022-12-11T17:02:01.035Z"
   },
   {
    "duration": 61,
    "start_time": "2022-12-11T17:02:01.109Z"
   },
   {
    "duration": 5,
    "start_time": "2022-12-11T17:02:01.172Z"
   },
   {
    "duration": 154,
    "start_time": "2022-12-11T17:02:01.178Z"
   },
   {
    "duration": 4,
    "start_time": "2022-12-11T17:03:34.321Z"
   },
   {
    "duration": 9,
    "start_time": "2022-12-11T17:03:49.461Z"
   },
   {
    "duration": 21,
    "start_time": "2022-12-11T17:11:13.884Z"
   },
   {
    "duration": 815,
    "start_time": "2022-12-11T17:19:59.610Z"
   },
   {
    "duration": 13,
    "start_time": "2022-12-11T17:20:19.634Z"
   },
   {
    "duration": 72,
    "start_time": "2022-12-11T17:39:58.025Z"
   },
   {
    "duration": 8,
    "start_time": "2022-12-11T17:53:42.170Z"
   },
   {
    "duration": 59,
    "start_time": "2022-12-11T20:21:32.026Z"
   },
   {
    "duration": 3007,
    "start_time": "2022-12-11T20:21:35.410Z"
   },
   {
    "duration": 9,
    "start_time": "2022-12-11T20:21:38.419Z"
   },
   {
    "duration": 135,
    "start_time": "2022-12-11T20:21:38.430Z"
   },
   {
    "duration": 21,
    "start_time": "2022-12-11T20:21:38.567Z"
   },
   {
    "duration": 3,
    "start_time": "2022-12-11T20:21:38.590Z"
   },
   {
    "duration": 46,
    "start_time": "2022-12-11T20:21:38.594Z"
   },
   {
    "duration": 32,
    "start_time": "2022-12-11T20:21:38.641Z"
   },
   {
    "duration": 6,
    "start_time": "2022-12-11T20:21:38.674Z"
   },
   {
    "duration": 5,
    "start_time": "2022-12-11T20:21:38.713Z"
   },
   {
    "duration": 14,
    "start_time": "2022-12-11T20:21:38.720Z"
   },
   {
    "duration": 9,
    "start_time": "2022-12-11T20:21:38.735Z"
   },
   {
    "duration": 6,
    "start_time": "2022-12-11T20:21:38.746Z"
   },
   {
    "duration": 125,
    "start_time": "2022-12-11T20:21:38.753Z"
   },
   {
    "duration": 6,
    "start_time": "2022-12-11T20:28:03.641Z"
   },
   {
    "duration": 8,
    "start_time": "2022-12-11T20:28:10.773Z"
   },
   {
    "duration": 9,
    "start_time": "2022-12-11T20:28:18.274Z"
   },
   {
    "duration": 2170,
    "start_time": "2022-12-11T20:37:37.189Z"
   },
   {
    "duration": 9,
    "start_time": "2022-12-11T20:37:39.361Z"
   },
   {
    "duration": 145,
    "start_time": "2022-12-11T20:37:39.371Z"
   },
   {
    "duration": 17,
    "start_time": "2022-12-11T20:37:39.518Z"
   },
   {
    "duration": 3,
    "start_time": "2022-12-11T20:37:39.537Z"
   },
   {
    "duration": 33,
    "start_time": "2022-12-11T20:37:39.541Z"
   },
   {
    "duration": 67,
    "start_time": "2022-12-11T20:37:39.576Z"
   },
   {
    "duration": 6,
    "start_time": "2022-12-11T20:37:39.645Z"
   },
   {
    "duration": 5,
    "start_time": "2022-12-11T20:37:39.652Z"
   },
   {
    "duration": 56,
    "start_time": "2022-12-11T20:37:39.659Z"
   },
   {
    "duration": 9,
    "start_time": "2022-12-11T20:37:39.716Z"
   },
   {
    "duration": 10,
    "start_time": "2022-12-11T20:37:39.727Z"
   },
   {
    "duration": 31,
    "start_time": "2022-12-11T20:37:39.739Z"
   },
   {
    "duration": 142,
    "start_time": "2022-12-11T20:37:39.771Z"
   },
   {
    "duration": 36,
    "start_time": "2022-12-11T20:38:07.497Z"
   },
   {
    "duration": 31,
    "start_time": "2022-12-11T20:41:23.809Z"
   },
   {
    "duration": 36,
    "start_time": "2022-12-11T20:41:53.406Z"
   },
   {
    "duration": 69,
    "start_time": "2022-12-11T20:42:47.985Z"
   },
   {
    "duration": 6,
    "start_time": "2022-12-11T20:44:55.092Z"
   },
   {
    "duration": 32,
    "start_time": "2022-12-11T20:44:58.642Z"
   },
   {
    "duration": 151,
    "start_time": "2022-12-11T20:49:06.298Z"
   },
   {
    "duration": 2955,
    "start_time": "2022-12-11T20:49:15.175Z"
   },
   {
    "duration": 13,
    "start_time": "2022-12-11T20:49:18.132Z"
   },
   {
    "duration": 152,
    "start_time": "2022-12-11T20:49:18.147Z"
   },
   {
    "duration": 30,
    "start_time": "2022-12-11T20:49:18.301Z"
   },
   {
    "duration": 3,
    "start_time": "2022-12-11T20:49:18.333Z"
   },
   {
    "duration": 32,
    "start_time": "2022-12-11T20:49:18.338Z"
   },
   {
    "duration": 66,
    "start_time": "2022-12-11T20:49:18.372Z"
   },
   {
    "duration": 8,
    "start_time": "2022-12-11T20:49:18.441Z"
   },
   {
    "duration": 10,
    "start_time": "2022-12-11T20:49:18.450Z"
   },
   {
    "duration": 15,
    "start_time": "2022-12-11T20:49:18.462Z"
   },
   {
    "duration": 11,
    "start_time": "2022-12-11T20:49:18.512Z"
   },
   {
    "duration": 9,
    "start_time": "2022-12-11T20:49:18.525Z"
   },
   {
    "duration": 38,
    "start_time": "2022-12-11T20:49:18.536Z"
   },
   {
    "duration": 229,
    "start_time": "2022-12-11T20:49:18.576Z"
   },
   {
    "duration": 0,
    "start_time": "2022-12-11T20:49:18.807Z"
   },
   {
    "duration": 125,
    "start_time": "2022-12-11T20:50:05.035Z"
   },
   {
    "duration": 135,
    "start_time": "2022-12-11T20:50:29.850Z"
   },
   {
    "duration": 125,
    "start_time": "2022-12-11T20:50:44.016Z"
   },
   {
    "duration": 97,
    "start_time": "2022-12-11T20:50:47.952Z"
   },
   {
    "duration": 182,
    "start_time": "2022-12-11T20:51:58.934Z"
   },
   {
    "duration": 102,
    "start_time": "2022-12-11T20:52:16.248Z"
   },
   {
    "duration": 104,
    "start_time": "2022-12-11T20:52:44.158Z"
   },
   {
    "duration": 109,
    "start_time": "2022-12-11T20:53:17.493Z"
   },
   {
    "duration": 97,
    "start_time": "2022-12-11T20:53:19.436Z"
   },
   {
    "duration": 108,
    "start_time": "2022-12-11T20:55:46.281Z"
   },
   {
    "duration": 112,
    "start_time": "2022-12-11T20:55:53.372Z"
   },
   {
    "duration": 128,
    "start_time": "2022-12-11T20:57:17.293Z"
   },
   {
    "duration": 122,
    "start_time": "2022-12-11T20:57:29.807Z"
   },
   {
    "duration": 118,
    "start_time": "2022-12-11T20:57:38.772Z"
   },
   {
    "duration": 122,
    "start_time": "2022-12-11T20:59:46.852Z"
   },
   {
    "duration": 109,
    "start_time": "2022-12-11T21:02:24.123Z"
   },
   {
    "duration": 108,
    "start_time": "2022-12-11T21:02:58.733Z"
   },
   {
    "duration": 107,
    "start_time": "2022-12-11T21:03:08.170Z"
   },
   {
    "duration": 90,
    "start_time": "2022-12-11T21:04:13.782Z"
   },
   {
    "duration": 3,
    "start_time": "2022-12-11T21:04:25.635Z"
   },
   {
    "duration": 102,
    "start_time": "2022-12-11T21:04:28.518Z"
   },
   {
    "duration": 193,
    "start_time": "2022-12-11T21:05:12.154Z"
   },
   {
    "duration": 99,
    "start_time": "2022-12-11T21:05:37.018Z"
   },
   {
    "duration": 94,
    "start_time": "2022-12-11T21:05:39.544Z"
   },
   {
    "duration": 95,
    "start_time": "2022-12-11T21:05:50.539Z"
   },
   {
    "duration": 99,
    "start_time": "2022-12-11T21:06:27.447Z"
   },
   {
    "duration": 39,
    "start_time": "2022-12-11T21:08:49.636Z"
   },
   {
    "duration": 45,
    "start_time": "2022-12-11T21:08:54.636Z"
   },
   {
    "duration": 109,
    "start_time": "2022-12-11T21:09:32.040Z"
   },
   {
    "duration": 97,
    "start_time": "2022-12-11T21:11:43.338Z"
   },
   {
    "duration": 101,
    "start_time": "2022-12-11T21:11:56.305Z"
   },
   {
    "duration": 114,
    "start_time": "2022-12-11T21:14:45.818Z"
   },
   {
    "duration": 110,
    "start_time": "2022-12-11T21:14:51.918Z"
   },
   {
    "duration": 101,
    "start_time": "2022-12-11T21:15:02.403Z"
   },
   {
    "duration": 5,
    "start_time": "2022-12-11T21:28:10.994Z"
   },
   {
    "duration": 5,
    "start_time": "2022-12-11T21:28:17.800Z"
   },
   {
    "duration": 8,
    "start_time": "2022-12-11T21:29:20.357Z"
   },
   {
    "duration": 7,
    "start_time": "2022-12-11T21:29:31.509Z"
   },
   {
    "duration": 8,
    "start_time": "2022-12-11T21:29:43.212Z"
   },
   {
    "duration": 10,
    "start_time": "2022-12-11T21:29:54.481Z"
   },
   {
    "duration": 54,
    "start_time": "2022-12-11T21:32:00.298Z"
   },
   {
    "duration": 33,
    "start_time": "2022-12-11T21:32:45.414Z"
   },
   {
    "duration": 31,
    "start_time": "2022-12-11T21:32:50.421Z"
   },
   {
    "duration": 34,
    "start_time": "2022-12-11T21:40:19.682Z"
   },
   {
    "duration": 52,
    "start_time": "2022-12-11T21:40:52.924Z"
   },
   {
    "duration": 48,
    "start_time": "2022-12-11T21:41:06.966Z"
   },
   {
    "duration": 13,
    "start_time": "2022-12-11T21:43:01.254Z"
   },
   {
    "duration": 65,
    "start_time": "2022-12-11T21:45:41.502Z"
   },
   {
    "duration": 15,
    "start_time": "2022-12-11T21:45:51.324Z"
   },
   {
    "duration": 74,
    "start_time": "2022-12-11T21:52:31.061Z"
   },
   {
    "duration": 5,
    "start_time": "2022-12-11T21:53:06.916Z"
   },
   {
    "duration": 15,
    "start_time": "2022-12-11T21:53:22.348Z"
   },
   {
    "duration": 14,
    "start_time": "2022-12-11T21:55:55.273Z"
   },
   {
    "duration": 14,
    "start_time": "2022-12-11T22:00:47.547Z"
   },
   {
    "duration": 23,
    "start_time": "2022-12-11T22:04:55.421Z"
   },
   {
    "duration": 18,
    "start_time": "2022-12-11T22:05:00.454Z"
   },
   {
    "duration": 17,
    "start_time": "2022-12-11T22:05:17.102Z"
   },
   {
    "duration": 9,
    "start_time": "2022-12-11T22:05:23.056Z"
   },
   {
    "duration": 48,
    "start_time": "2022-12-11T22:05:38.477Z"
   },
   {
    "duration": 2817,
    "start_time": "2022-12-11T22:05:40.924Z"
   },
   {
    "duration": 10,
    "start_time": "2022-12-11T22:05:43.744Z"
   },
   {
    "duration": 124,
    "start_time": "2022-12-11T22:05:43.756Z"
   },
   {
    "duration": 21,
    "start_time": "2022-12-11T22:05:43.881Z"
   },
   {
    "duration": 2,
    "start_time": "2022-12-11T22:05:43.912Z"
   },
   {
    "duration": 33,
    "start_time": "2022-12-11T22:05:43.916Z"
   },
   {
    "duration": 63,
    "start_time": "2022-12-11T22:05:43.951Z"
   },
   {
    "duration": 6,
    "start_time": "2022-12-11T22:05:44.016Z"
   },
   {
    "duration": 5,
    "start_time": "2022-12-11T22:05:44.024Z"
   },
   {
    "duration": 14,
    "start_time": "2022-12-11T22:05:44.031Z"
   },
   {
    "duration": 9,
    "start_time": "2022-12-11T22:05:44.047Z"
   },
   {
    "duration": 10,
    "start_time": "2022-12-11T22:05:44.057Z"
   },
   {
    "duration": 69,
    "start_time": "2022-12-11T22:05:44.069Z"
   },
   {
    "duration": 118,
    "start_time": "2022-12-11T22:05:44.140Z"
   },
   {
    "duration": 113,
    "start_time": "2022-12-11T22:05:44.259Z"
   },
   {
    "duration": 99,
    "start_time": "2022-12-11T22:05:44.374Z"
   },
   {
    "duration": 124,
    "start_time": "2022-12-11T22:05:44.475Z"
   },
   {
    "duration": 139,
    "start_time": "2022-12-11T22:05:44.601Z"
   },
   {
    "duration": 13,
    "start_time": "2022-12-11T22:05:44.741Z"
   },
   {
    "duration": 139,
    "start_time": "2022-12-11T22:07:12.108Z"
   },
   {
    "duration": 4,
    "start_time": "2022-12-11T22:07:16.811Z"
   },
   {
    "duration": 13,
    "start_time": "2022-12-11T22:07:19.503Z"
   },
   {
    "duration": 667,
    "start_time": "2022-12-11T22:11:20.945Z"
   },
   {
    "duration": 18,
    "start_time": "2022-12-11T22:11:33.827Z"
   },
   {
    "duration": 16,
    "start_time": "2022-12-11T22:11:41.427Z"
   },
   {
    "duration": 18,
    "start_time": "2022-12-11T22:12:04.648Z"
   },
   {
    "duration": 26,
    "start_time": "2022-12-11T22:12:16.937Z"
   },
   {
    "duration": 13,
    "start_time": "2022-12-11T22:12:25.754Z"
   },
   {
    "duration": 6,
    "start_time": "2022-12-11T22:23:14.859Z"
   },
   {
    "duration": 6,
    "start_time": "2022-12-11T22:23:16.664Z"
   },
   {
    "duration": 10,
    "start_time": "2022-12-11T22:23:21.765Z"
   },
   {
    "duration": 8,
    "start_time": "2022-12-11T22:23:26.687Z"
   },
   {
    "duration": 103,
    "start_time": "2022-12-11T22:26:57.704Z"
   },
   {
    "duration": 9,
    "start_time": "2022-12-11T22:33:00.034Z"
   },
   {
    "duration": 12,
    "start_time": "2022-12-11T22:33:41.188Z"
   },
   {
    "duration": 26,
    "start_time": "2022-12-11T22:51:14.739Z"
   },
   {
    "duration": 13,
    "start_time": "2022-12-11T23:06:42.219Z"
   },
   {
    "duration": 10,
    "start_time": "2022-12-11T23:07:24.121Z"
   },
   {
    "duration": 8,
    "start_time": "2022-12-11T23:08:28.392Z"
   },
   {
    "duration": 9,
    "start_time": "2022-12-11T23:08:40.820Z"
   },
   {
    "duration": 9,
    "start_time": "2022-12-11T23:09:49.765Z"
   },
   {
    "duration": 2681,
    "start_time": "2022-12-11T23:10:02.676Z"
   },
   {
    "duration": 9,
    "start_time": "2022-12-11T23:10:05.359Z"
   },
   {
    "duration": 125,
    "start_time": "2022-12-11T23:10:05.369Z"
   },
   {
    "duration": 32,
    "start_time": "2022-12-11T23:10:05.496Z"
   },
   {
    "duration": 2,
    "start_time": "2022-12-11T23:10:05.530Z"
   },
   {
    "duration": 31,
    "start_time": "2022-12-11T23:10:05.533Z"
   },
   {
    "duration": 60,
    "start_time": "2022-12-11T23:10:05.565Z"
   },
   {
    "duration": 5,
    "start_time": "2022-12-11T23:10:05.627Z"
   },
   {
    "duration": 6,
    "start_time": "2022-12-11T23:10:05.633Z"
   },
   {
    "duration": 14,
    "start_time": "2022-12-11T23:10:05.640Z"
   },
   {
    "duration": 9,
    "start_time": "2022-12-11T23:10:05.655Z"
   },
   {
    "duration": 10,
    "start_time": "2022-12-11T23:10:05.665Z"
   },
   {
    "duration": 64,
    "start_time": "2022-12-11T23:10:05.677Z"
   },
   {
    "duration": 118,
    "start_time": "2022-12-11T23:10:05.744Z"
   },
   {
    "duration": 114,
    "start_time": "2022-12-11T23:10:05.864Z"
   },
   {
    "duration": 97,
    "start_time": "2022-12-11T23:10:05.979Z"
   },
   {
    "duration": 113,
    "start_time": "2022-12-11T23:10:06.077Z"
   },
   {
    "duration": 26,
    "start_time": "2022-12-11T23:10:06.191Z"
   },
   {
    "duration": 8,
    "start_time": "2022-12-11T23:10:06.218Z"
   },
   {
    "duration": 10,
    "start_time": "2022-12-11T23:10:06.227Z"
   },
   {
    "duration": 43,
    "start_time": "2022-12-11T23:10:06.239Z"
   },
   {
    "duration": 74,
    "start_time": "2022-12-11T23:10:06.283Z"
   },
   {
    "duration": 0,
    "start_time": "2022-12-11T23:10:06.359Z"
   },
   {
    "duration": 0,
    "start_time": "2022-12-11T23:10:06.360Z"
   },
   {
    "duration": 0,
    "start_time": "2022-12-11T23:10:06.361Z"
   },
   {
    "duration": 0,
    "start_time": "2022-12-11T23:10:06.362Z"
   },
   {
    "duration": 8,
    "start_time": "2022-12-11T23:10:33.200Z"
   },
   {
    "duration": 73,
    "start_time": "2022-12-11T23:10:37.126Z"
   },
   {
    "duration": 8,
    "start_time": "2022-12-11T23:10:38.826Z"
   },
   {
    "duration": 14,
    "start_time": "2022-12-11T23:10:48.389Z"
   },
   {
    "duration": 9,
    "start_time": "2022-12-11T23:11:18.112Z"
   },
   {
    "duration": 16,
    "start_time": "2022-12-11T23:11:29.553Z"
   },
   {
    "duration": 9,
    "start_time": "2022-12-11T23:11:48.038Z"
   },
   {
    "duration": 42,
    "start_time": "2022-12-11T23:12:24.274Z"
   },
   {
    "duration": 2685,
    "start_time": "2022-12-11T23:12:40.156Z"
   },
   {
    "duration": 9,
    "start_time": "2022-12-11T23:12:42.843Z"
   },
   {
    "duration": 122,
    "start_time": "2022-12-11T23:12:42.853Z"
   },
   {
    "duration": 20,
    "start_time": "2022-12-11T23:12:42.977Z"
   },
   {
    "duration": 15,
    "start_time": "2022-12-11T23:12:42.999Z"
   },
   {
    "duration": 31,
    "start_time": "2022-12-11T23:12:43.015Z"
   },
   {
    "duration": 33,
    "start_time": "2022-12-11T23:12:43.048Z"
   },
   {
    "duration": 7,
    "start_time": "2022-12-11T23:12:43.113Z"
   },
   {
    "duration": 5,
    "start_time": "2022-12-11T23:12:43.121Z"
   },
   {
    "duration": 14,
    "start_time": "2022-12-11T23:12:43.127Z"
   },
   {
    "duration": 7,
    "start_time": "2022-12-11T23:12:43.143Z"
   },
   {
    "duration": 12,
    "start_time": "2022-12-11T23:12:43.151Z"
   },
   {
    "duration": 63,
    "start_time": "2022-12-11T23:12:43.165Z"
   },
   {
    "duration": 114,
    "start_time": "2022-12-11T23:12:43.231Z"
   },
   {
    "duration": 106,
    "start_time": "2022-12-11T23:12:43.347Z"
   },
   {
    "duration": 102,
    "start_time": "2022-12-11T23:12:43.454Z"
   },
   {
    "duration": 106,
    "start_time": "2022-12-11T23:12:43.557Z"
   },
   {
    "duration": 16,
    "start_time": "2022-12-11T23:12:43.664Z"
   },
   {
    "duration": 7,
    "start_time": "2022-12-11T23:12:43.681Z"
   },
   {
    "duration": 25,
    "start_time": "2022-12-11T23:12:43.690Z"
   },
   {
    "duration": 26,
    "start_time": "2022-12-11T23:12:43.717Z"
   },
   {
    "duration": 14,
    "start_time": "2022-12-11T23:12:43.745Z"
   },
   {
    "duration": 1138,
    "start_time": "2022-12-11T23:12:43.760Z"
   },
   {
    "duration": 0,
    "start_time": "2022-12-11T23:12:44.900Z"
   },
   {
    "duration": 0,
    "start_time": "2022-12-11T23:12:44.900Z"
   },
   {
    "duration": 0,
    "start_time": "2022-12-11T23:12:44.902Z"
   },
   {
    "duration": 6,
    "start_time": "2022-12-11T23:14:37.638Z"
   },
   {
    "duration": 7,
    "start_time": "2022-12-11T23:14:49.020Z"
   },
   {
    "duration": 6,
    "start_time": "2022-12-11T23:14:50.517Z"
   },
   {
    "duration": 26,
    "start_time": "2022-12-11T23:14:52.850Z"
   },
   {
    "duration": 26,
    "start_time": "2022-12-11T23:15:46.291Z"
   },
   {
    "duration": 24,
    "start_time": "2022-12-11T23:16:02.435Z"
   },
   {
    "duration": 8,
    "start_time": "2022-12-11T23:19:53.263Z"
   },
   {
    "duration": 461,
    "start_time": "2022-12-11T23:20:01.921Z"
   },
   {
    "duration": 390,
    "start_time": "2022-12-11T23:20:11.340Z"
   },
   {
    "duration": 392,
    "start_time": "2022-12-11T23:20:52.704Z"
   },
   {
    "duration": 420,
    "start_time": "2022-12-11T23:21:13.856Z"
   },
   {
    "duration": 25,
    "start_time": "2022-12-11T23:27:17.038Z"
   },
   {
    "duration": 23,
    "start_time": "2022-12-11T23:27:29.252Z"
   },
   {
    "duration": 74,
    "start_time": "2022-12-11T23:28:14.115Z"
   },
   {
    "duration": 17,
    "start_time": "2022-12-11T23:28:16.236Z"
   },
   {
    "duration": 76,
    "start_time": "2022-12-11T23:28:28.947Z"
   },
   {
    "duration": 25,
    "start_time": "2022-12-11T23:28:31.870Z"
   },
   {
    "duration": 23,
    "start_time": "2022-12-11T23:28:42.812Z"
   },
   {
    "duration": 2059,
    "start_time": "2022-12-11T23:45:16.873Z"
   },
   {
    "duration": 9,
    "start_time": "2022-12-11T23:45:18.934Z"
   },
   {
    "duration": 145,
    "start_time": "2022-12-11T23:45:18.944Z"
   },
   {
    "duration": 24,
    "start_time": "2022-12-11T23:45:19.091Z"
   },
   {
    "duration": 2,
    "start_time": "2022-12-11T23:45:19.117Z"
   },
   {
    "duration": 28,
    "start_time": "2022-12-11T23:45:19.121Z"
   },
   {
    "duration": 64,
    "start_time": "2022-12-11T23:45:19.151Z"
   },
   {
    "duration": 6,
    "start_time": "2022-12-11T23:45:19.216Z"
   },
   {
    "duration": 6,
    "start_time": "2022-12-11T23:45:19.223Z"
   },
   {
    "duration": 15,
    "start_time": "2022-12-11T23:45:19.231Z"
   },
   {
    "duration": 7,
    "start_time": "2022-12-11T23:45:19.247Z"
   },
   {
    "duration": 10,
    "start_time": "2022-12-11T23:45:19.255Z"
   },
   {
    "duration": 63,
    "start_time": "2022-12-11T23:45:19.266Z"
   },
   {
    "duration": 111,
    "start_time": "2022-12-11T23:45:19.331Z"
   },
   {
    "duration": 204,
    "start_time": "2022-12-11T23:45:19.443Z"
   },
   {
    "duration": 94,
    "start_time": "2022-12-11T23:45:19.649Z"
   },
   {
    "duration": 110,
    "start_time": "2022-12-11T23:45:19.745Z"
   },
   {
    "duration": 14,
    "start_time": "2022-12-11T23:45:19.856Z"
   },
   {
    "duration": 7,
    "start_time": "2022-12-11T23:45:19.872Z"
   },
   {
    "duration": 9,
    "start_time": "2022-12-11T23:45:19.880Z"
   },
   {
    "duration": 47,
    "start_time": "2022-12-11T23:45:19.890Z"
   },
   {
    "duration": 24,
    "start_time": "2022-12-11T23:45:19.939Z"
   },
   {
    "duration": 49,
    "start_time": "2022-12-11T23:45:19.965Z"
   },
   {
    "duration": 24,
    "start_time": "2022-12-11T23:45:20.015Z"
   },
   {
    "duration": 420,
    "start_time": "2022-12-11T23:45:20.041Z"
   },
   {
    "duration": 22,
    "start_time": "2022-12-11T23:45:20.463Z"
   },
   {
    "duration": 22,
    "start_time": "2022-12-11T23:48:50.947Z"
   },
   {
    "duration": 23,
    "start_time": "2022-12-11T23:49:13.493Z"
   },
   {
    "duration": 22,
    "start_time": "2022-12-11T23:49:23.972Z"
   },
   {
    "duration": 130,
    "start_time": "2022-12-11T23:49:51.978Z"
   },
   {
    "duration": 126,
    "start_time": "2022-12-11T23:53:35.140Z"
   },
   {
    "duration": 111,
    "start_time": "2022-12-11T23:54:07.684Z"
   },
   {
    "duration": 129,
    "start_time": "2022-12-11T23:54:22.990Z"
   },
   {
    "duration": 134,
    "start_time": "2022-12-11T23:54:33.890Z"
   },
   {
    "duration": 135,
    "start_time": "2022-12-11T23:54:59.327Z"
   },
   {
    "duration": 130,
    "start_time": "2022-12-11T23:55:03.268Z"
   },
   {
    "duration": 128,
    "start_time": "2022-12-11T23:55:12.653Z"
   },
   {
    "duration": 126,
    "start_time": "2022-12-11T23:55:18.057Z"
   },
   {
    "duration": 127,
    "start_time": "2022-12-11T23:55:19.874Z"
   },
   {
    "duration": 237,
    "start_time": "2022-12-11T23:55:25.458Z"
   },
   {
    "duration": 140,
    "start_time": "2022-12-11T23:58:03.957Z"
   },
   {
    "duration": 134,
    "start_time": "2022-12-11T23:58:06.295Z"
   },
   {
    "duration": 150,
    "start_time": "2022-12-11T23:58:14.482Z"
   },
   {
    "duration": 124,
    "start_time": "2022-12-11T23:58:21.435Z"
   },
   {
    "duration": 127,
    "start_time": "2022-12-11T23:58:26.361Z"
   },
   {
    "duration": 139,
    "start_time": "2022-12-11T23:58:41.769Z"
   },
   {
    "duration": 135,
    "start_time": "2022-12-11T23:58:55.862Z"
   },
   {
    "duration": 130,
    "start_time": "2022-12-11T23:59:09.960Z"
   },
   {
    "duration": 132,
    "start_time": "2022-12-12T00:01:22.238Z"
   },
   {
    "duration": 124,
    "start_time": "2022-12-12T00:01:29.557Z"
   },
   {
    "duration": 134,
    "start_time": "2022-12-12T00:03:32.137Z"
   },
   {
    "duration": 137,
    "start_time": "2022-12-12T00:04:11.466Z"
   },
   {
    "duration": 136,
    "start_time": "2022-12-12T00:04:38.480Z"
   },
   {
    "duration": 136,
    "start_time": "2022-12-12T00:04:40.348Z"
   },
   {
    "duration": 157,
    "start_time": "2022-12-12T00:04:49.739Z"
   },
   {
    "duration": 152,
    "start_time": "2022-12-12T00:05:07.160Z"
   },
   {
    "duration": 123,
    "start_time": "2022-12-12T00:05:19.662Z"
   },
   {
    "duration": 286,
    "start_time": "2022-12-12T00:05:34.235Z"
   },
   {
    "duration": 130,
    "start_time": "2022-12-12T00:05:45.888Z"
   },
   {
    "duration": 1130,
    "start_time": "2022-12-12T00:10:16.169Z"
   },
   {
    "duration": 2698,
    "start_time": "2022-12-12T00:11:19.311Z"
   },
   {
    "duration": 9,
    "start_time": "2022-12-12T00:11:22.011Z"
   },
   {
    "duration": 130,
    "start_time": "2022-12-12T00:11:22.021Z"
   },
   {
    "duration": 20,
    "start_time": "2022-12-12T00:11:22.152Z"
   },
   {
    "duration": 2,
    "start_time": "2022-12-12T00:11:22.174Z"
   },
   {
    "duration": 45,
    "start_time": "2022-12-12T00:11:22.179Z"
   },
   {
    "duration": 38,
    "start_time": "2022-12-12T00:11:22.226Z"
   },
   {
    "duration": 6,
    "start_time": "2022-12-12T00:11:22.265Z"
   },
   {
    "duration": 43,
    "start_time": "2022-12-12T00:11:22.272Z"
   },
   {
    "duration": 33,
    "start_time": "2022-12-12T00:11:22.317Z"
   },
   {
    "duration": 8,
    "start_time": "2022-12-12T00:11:22.351Z"
   },
   {
    "duration": 12,
    "start_time": "2022-12-12T00:11:22.360Z"
   },
   {
    "duration": 38,
    "start_time": "2022-12-12T00:11:22.373Z"
   },
   {
    "duration": 107,
    "start_time": "2022-12-12T00:11:22.414Z"
   },
   {
    "duration": 117,
    "start_time": "2022-12-12T00:11:22.523Z"
   },
   {
    "duration": 98,
    "start_time": "2022-12-12T00:11:22.642Z"
   },
   {
    "duration": 111,
    "start_time": "2022-12-12T00:11:22.742Z"
   },
   {
    "duration": 18,
    "start_time": "2022-12-12T00:11:22.855Z"
   },
   {
    "duration": 7,
    "start_time": "2022-12-12T00:11:22.874Z"
   },
   {
    "duration": 31,
    "start_time": "2022-12-12T00:11:22.882Z"
   },
   {
    "duration": 28,
    "start_time": "2022-12-12T00:11:22.915Z"
   },
   {
    "duration": 26,
    "start_time": "2022-12-12T00:11:22.945Z"
   },
   {
    "duration": 50,
    "start_time": "2022-12-12T00:11:22.973Z"
   },
   {
    "duration": 24,
    "start_time": "2022-12-12T00:11:23.025Z"
   },
   {
    "duration": 480,
    "start_time": "2022-12-12T00:11:23.051Z"
   },
   {
    "duration": 23,
    "start_time": "2022-12-12T00:11:23.533Z"
   },
   {
    "duration": 21,
    "start_time": "2022-12-12T00:11:23.558Z"
   },
   {
    "duration": 149,
    "start_time": "2022-12-12T00:11:23.580Z"
   },
   {
    "duration": 127,
    "start_time": "2022-12-12T00:11:23.731Z"
   },
   {
    "duration": 1211,
    "start_time": "2022-12-12T00:11:23.859Z"
   },
   {
    "duration": 132,
    "start_time": "2022-12-12T00:11:42.106Z"
   },
   {
    "duration": 123,
    "start_time": "2022-12-12T00:12:03.385Z"
   },
   {
    "duration": 2801,
    "start_time": "2022-12-12T00:12:51.600Z"
   },
   {
    "duration": 9,
    "start_time": "2022-12-12T00:12:54.403Z"
   },
   {
    "duration": 134,
    "start_time": "2022-12-12T00:12:54.414Z"
   },
   {
    "duration": 21,
    "start_time": "2022-12-12T00:12:54.550Z"
   },
   {
    "duration": 2,
    "start_time": "2022-12-12T00:12:54.573Z"
   },
   {
    "duration": 52,
    "start_time": "2022-12-12T00:12:54.577Z"
   },
   {
    "duration": 34,
    "start_time": "2022-12-12T00:12:54.630Z"
   },
   {
    "duration": 6,
    "start_time": "2022-12-12T00:12:54.665Z"
   },
   {
    "duration": 43,
    "start_time": "2022-12-12T00:12:54.673Z"
   },
   {
    "duration": 16,
    "start_time": "2022-12-12T00:12:54.719Z"
   },
   {
    "duration": 7,
    "start_time": "2022-12-12T00:12:54.737Z"
   },
   {
    "duration": 12,
    "start_time": "2022-12-12T00:12:54.746Z"
   },
   {
    "duration": 56,
    "start_time": "2022-12-12T00:12:54.759Z"
   },
   {
    "duration": 113,
    "start_time": "2022-12-12T00:12:54.817Z"
   },
   {
    "duration": 110,
    "start_time": "2022-12-12T00:12:54.932Z"
   },
   {
    "duration": 95,
    "start_time": "2022-12-12T00:12:55.044Z"
   },
   {
    "duration": 108,
    "start_time": "2022-12-12T00:12:55.141Z"
   },
   {
    "duration": 17,
    "start_time": "2022-12-12T00:12:55.250Z"
   },
   {
    "duration": 7,
    "start_time": "2022-12-12T00:12:55.268Z"
   },
   {
    "duration": 9,
    "start_time": "2022-12-12T00:12:55.276Z"
   },
   {
    "duration": 45,
    "start_time": "2022-12-12T00:12:55.286Z"
   },
   {
    "duration": 27,
    "start_time": "2022-12-12T00:12:55.333Z"
   },
   {
    "duration": 27,
    "start_time": "2022-12-12T00:12:55.361Z"
   },
   {
    "duration": 46,
    "start_time": "2022-12-12T00:12:55.389Z"
   },
   {
    "duration": 477,
    "start_time": "2022-12-12T00:12:55.437Z"
   },
   {
    "duration": 23,
    "start_time": "2022-12-12T00:12:55.915Z"
   },
   {
    "duration": 32,
    "start_time": "2022-12-12T00:12:55.940Z"
   },
   {
    "duration": 141,
    "start_time": "2022-12-12T00:12:55.974Z"
   },
   {
    "duration": 137,
    "start_time": "2022-12-12T00:12:56.117Z"
   },
   {
    "duration": 141,
    "start_time": "2022-12-12T00:12:56.256Z"
   },
   {
    "duration": 125,
    "start_time": "2022-12-12T00:12:56.399Z"
   },
   {
    "duration": 149,
    "start_time": "2022-12-12T00:15:02.863Z"
   },
   {
    "duration": 128,
    "start_time": "2022-12-12T00:16:23.106Z"
   },
   {
    "duration": 26,
    "start_time": "2022-12-12T00:18:23.492Z"
   },
   {
    "duration": 30,
    "start_time": "2022-12-12T00:19:03.168Z"
   },
   {
    "duration": 31,
    "start_time": "2022-12-12T00:19:14.067Z"
   },
   {
    "duration": 27,
    "start_time": "2022-12-12T00:19:20.883Z"
   },
   {
    "duration": 14,
    "start_time": "2022-12-12T00:20:28.540Z"
   },
   {
    "duration": 129,
    "start_time": "2022-12-12T00:22:02.707Z"
   },
   {
    "duration": 71,
    "start_time": "2022-12-12T00:23:00.976Z"
   },
   {
    "duration": 70,
    "start_time": "2022-12-12T00:23:03.590Z"
   },
   {
    "duration": 16,
    "start_time": "2022-12-12T00:23:09.374Z"
   },
   {
    "duration": 136,
    "start_time": "2022-12-12T00:24:02.431Z"
   },
   {
    "duration": 134,
    "start_time": "2022-12-12T00:28:30.836Z"
   },
   {
    "duration": 117,
    "start_time": "2022-12-12T00:29:40.481Z"
   },
   {
    "duration": 120,
    "start_time": "2022-12-12T00:29:47.288Z"
   },
   {
    "duration": 213,
    "start_time": "2022-12-12T00:29:56.333Z"
   },
   {
    "duration": 121,
    "start_time": "2022-12-12T00:29:59.580Z"
   },
   {
    "duration": 128,
    "start_time": "2022-12-12T00:30:01.739Z"
   },
   {
    "duration": 131,
    "start_time": "2022-12-12T00:30:10.751Z"
   },
   {
    "duration": 131,
    "start_time": "2022-12-12T00:30:20.385Z"
   },
   {
    "duration": 129,
    "start_time": "2022-12-12T00:30:22.707Z"
   },
   {
    "duration": 124,
    "start_time": "2022-12-12T00:30:26.202Z"
   },
   {
    "duration": 133,
    "start_time": "2022-12-12T00:30:45.614Z"
   },
   {
    "duration": 134,
    "start_time": "2022-12-12T00:31:23.938Z"
   },
   {
    "duration": 130,
    "start_time": "2022-12-12T00:32:15.505Z"
   },
   {
    "duration": 9,
    "start_time": "2022-12-12T00:37:06.320Z"
   },
   {
    "duration": 50,
    "start_time": "2022-12-12T15:41:43.922Z"
   },
   {
    "duration": 3500,
    "start_time": "2022-12-12T15:41:48.995Z"
   },
   {
    "duration": 10,
    "start_time": "2022-12-12T15:41:52.498Z"
   },
   {
    "duration": 153,
    "start_time": "2022-12-12T15:41:52.510Z"
   },
   {
    "duration": 21,
    "start_time": "2022-12-12T15:41:52.665Z"
   },
   {
    "duration": 3,
    "start_time": "2022-12-12T15:41:52.688Z"
   },
   {
    "duration": 58,
    "start_time": "2022-12-12T15:41:52.693Z"
   },
   {
    "duration": 63,
    "start_time": "2022-12-12T15:41:52.753Z"
   },
   {
    "duration": 8,
    "start_time": "2022-12-12T15:41:52.818Z"
   },
   {
    "duration": 28,
    "start_time": "2022-12-12T15:41:52.828Z"
   },
   {
    "duration": 22,
    "start_time": "2022-12-12T15:41:52.859Z"
   },
   {
    "duration": 9,
    "start_time": "2022-12-12T15:41:52.883Z"
   },
   {
    "duration": 21,
    "start_time": "2022-12-12T15:41:52.894Z"
   },
   {
    "duration": 42,
    "start_time": "2022-12-12T15:41:52.917Z"
   },
   {
    "duration": 129,
    "start_time": "2022-12-12T15:41:52.961Z"
   },
   {
    "duration": 131,
    "start_time": "2022-12-12T15:41:53.091Z"
   },
   {
    "duration": 115,
    "start_time": "2022-12-12T15:41:53.223Z"
   },
   {
    "duration": 125,
    "start_time": "2022-12-12T15:41:53.341Z"
   },
   {
    "duration": 17,
    "start_time": "2022-12-12T15:41:53.468Z"
   },
   {
    "duration": 27,
    "start_time": "2022-12-12T15:41:53.487Z"
   },
   {
    "duration": 10,
    "start_time": "2022-12-12T15:41:53.516Z"
   },
   {
    "duration": 29,
    "start_time": "2022-12-12T15:41:53.527Z"
   },
   {
    "duration": 130,
    "start_time": "2022-12-12T15:41:53.557Z"
   },
   {
    "duration": 39,
    "start_time": "2022-12-12T15:41:53.689Z"
   },
   {
    "duration": 27,
    "start_time": "2022-12-12T15:41:53.730Z"
   },
   {
    "duration": 470,
    "start_time": "2022-12-12T15:41:53.759Z"
   },
   {
    "duration": 26,
    "start_time": "2022-12-12T15:41:54.231Z"
   },
   {
    "duration": 26,
    "start_time": "2022-12-12T15:41:54.259Z"
   },
   {
    "duration": 182,
    "start_time": "2022-12-12T15:41:54.289Z"
   },
   {
    "duration": 153,
    "start_time": "2022-12-12T15:41:54.473Z"
   },
   {
    "duration": 180,
    "start_time": "2022-12-12T15:41:54.627Z"
   },
   {
    "duration": 169,
    "start_time": "2022-12-12T15:41:54.812Z"
   },
   {
    "duration": 31,
    "start_time": "2022-12-12T15:41:54.982Z"
   },
   {
    "duration": 152,
    "start_time": "2022-12-12T15:41:55.015Z"
   },
   {
    "duration": 164,
    "start_time": "2022-12-12T15:41:55.169Z"
   },
   {
    "duration": 318715,
    "start_time": "2022-12-12T15:41:55.335Z"
   },
   {
    "duration": 10,
    "start_time": "2022-12-12T15:47:14.053Z"
   },
   {
    "duration": 170,
    "start_time": "2022-12-12T15:47:14.065Z"
   },
   {
    "duration": 169,
    "start_time": "2022-12-12T15:47:14.237Z"
   },
   {
    "duration": 160,
    "start_time": "2022-12-12T15:47:14.412Z"
   },
   {
    "duration": 3615,
    "start_time": "2022-12-13T15:11:37.390Z"
   },
   {
    "duration": 11,
    "start_time": "2022-12-13T15:11:41.007Z"
   },
   {
    "duration": 144,
    "start_time": "2022-12-13T15:11:41.020Z"
   },
   {
    "duration": 30,
    "start_time": "2022-12-13T15:11:41.166Z"
   },
   {
    "duration": 2,
    "start_time": "2022-12-13T15:11:41.198Z"
   },
   {
    "duration": 36,
    "start_time": "2022-12-13T15:11:41.202Z"
   },
   {
    "duration": 64,
    "start_time": "2022-12-13T15:11:41.239Z"
   },
   {
    "duration": 7,
    "start_time": "2022-12-13T15:11:41.304Z"
   },
   {
    "duration": 9,
    "start_time": "2022-12-13T15:11:41.313Z"
   },
   {
    "duration": 53,
    "start_time": "2022-12-13T15:11:41.325Z"
   },
   {
    "duration": 14,
    "start_time": "2022-12-13T15:11:41.380Z"
   },
   {
    "duration": 13,
    "start_time": "2022-12-13T15:11:41.397Z"
   },
   {
    "duration": 44,
    "start_time": "2022-12-13T15:11:41.412Z"
   },
   {
    "duration": 146,
    "start_time": "2022-12-13T15:11:41.457Z"
   },
   {
    "duration": 140,
    "start_time": "2022-12-13T15:11:41.606Z"
   },
   {
    "duration": 120,
    "start_time": "2022-12-13T15:11:41.748Z"
   },
   {
    "duration": 137,
    "start_time": "2022-12-13T15:11:41.870Z"
   },
   {
    "duration": 19,
    "start_time": "2022-12-13T15:11:42.009Z"
   },
   {
    "duration": 7,
    "start_time": "2022-12-13T15:11:42.030Z"
   },
   {
    "duration": 9,
    "start_time": "2022-12-13T15:11:42.039Z"
   },
   {
    "duration": 55,
    "start_time": "2022-12-13T15:11:42.050Z"
   },
   {
    "duration": 135,
    "start_time": "2022-12-13T15:11:42.107Z"
   },
   {
    "duration": 35,
    "start_time": "2022-12-13T15:11:42.244Z"
   },
   {
    "duration": 28,
    "start_time": "2022-12-13T15:11:42.280Z"
   },
   {
    "duration": 467,
    "start_time": "2022-12-13T15:11:42.310Z"
   },
   {
    "duration": 34,
    "start_time": "2022-12-13T15:11:42.779Z"
   },
   {
    "duration": 30,
    "start_time": "2022-12-13T15:11:42.814Z"
   },
   {
    "duration": 173,
    "start_time": "2022-12-13T15:11:42.848Z"
   },
   {
    "duration": 156,
    "start_time": "2022-12-13T15:11:43.023Z"
   },
   {
    "duration": 174,
    "start_time": "2022-12-13T15:11:43.181Z"
   },
   {
    "duration": 169,
    "start_time": "2022-12-13T15:11:43.356Z"
   },
   {
    "duration": 18,
    "start_time": "2022-12-13T15:11:43.527Z"
   },
   {
    "duration": 173,
    "start_time": "2022-12-13T15:11:43.547Z"
   },
   {
    "duration": 165,
    "start_time": "2022-12-13T15:11:43.721Z"
   },
   {
    "duration": 168,
    "start_time": "2022-12-13T15:11:43.888Z"
   },
   {
    "duration": 20,
    "start_time": "2022-12-13T15:11:44.058Z"
   },
   {
    "duration": 169,
    "start_time": "2022-12-13T15:11:44.080Z"
   },
   {
    "duration": 254,
    "start_time": "2022-12-13T15:11:44.250Z"
   },
   {
    "duration": 167,
    "start_time": "2022-12-13T15:11:44.505Z"
   },
   {
    "duration": 150,
    "start_time": "2022-12-13T15:11:44.677Z"
   },
   {
    "duration": 10,
    "start_time": "2022-12-13T15:13:41.451Z"
   },
   {
    "duration": 9,
    "start_time": "2022-12-13T15:14:21.411Z"
   },
   {
    "duration": 9,
    "start_time": "2022-12-13T15:14:26.523Z"
   },
   {
    "duration": 9,
    "start_time": "2022-12-13T15:14:55.003Z"
   },
   {
    "duration": 137,
    "start_time": "2022-12-13T15:17:07.753Z"
   },
   {
    "duration": 136,
    "start_time": "2022-12-13T15:30:25.715Z"
   },
   {
    "duration": 161,
    "start_time": "2022-12-13T15:36:58.100Z"
   },
   {
    "duration": 81,
    "start_time": "2022-12-13T15:37:39.910Z"
   },
   {
    "duration": 14,
    "start_time": "2022-12-13T15:37:57.459Z"
   },
   {
    "duration": 487,
    "start_time": "2022-12-13T15:45:11.074Z"
   },
   {
    "duration": 20,
    "start_time": "2022-12-13T15:45:24.671Z"
   },
   {
    "duration": 10,
    "start_time": "2022-12-13T15:53:58.588Z"
   },
   {
    "duration": 11,
    "start_time": "2022-12-13T15:54:00.993Z"
   },
   {
    "duration": 18,
    "start_time": "2022-12-13T15:54:17.328Z"
   },
   {
    "duration": 9,
    "start_time": "2022-12-13T15:54:20.690Z"
   },
   {
    "duration": 14,
    "start_time": "2022-12-13T15:54:25.533Z"
   },
   {
    "duration": 22,
    "start_time": "2022-12-13T15:54:41.567Z"
   },
   {
    "duration": 14,
    "start_time": "2022-12-13T15:54:51.390Z"
   },
   {
    "duration": 20,
    "start_time": "2022-12-13T15:55:06.223Z"
   },
   {
    "duration": 18,
    "start_time": "2022-12-13T15:55:13.233Z"
   },
   {
    "duration": 17,
    "start_time": "2022-12-13T15:55:16.213Z"
   },
   {
    "duration": 16,
    "start_time": "2022-12-13T15:55:18.410Z"
   },
   {
    "duration": 18,
    "start_time": "2022-12-13T15:55:22.736Z"
   },
   {
    "duration": 17,
    "start_time": "2022-12-13T15:55:26.420Z"
   },
   {
    "duration": 58,
    "start_time": "2022-12-13T16:01:05.361Z"
   },
   {
    "duration": 7,
    "start_time": "2022-12-13T16:01:09.303Z"
   },
   {
    "duration": 3499,
    "start_time": "2022-12-13T16:01:12.934Z"
   },
   {
    "duration": 11,
    "start_time": "2022-12-13T16:01:16.435Z"
   },
   {
    "duration": 161,
    "start_time": "2022-12-13T16:01:16.448Z"
   },
   {
    "duration": 25,
    "start_time": "2022-12-13T16:01:16.611Z"
   },
   {
    "duration": 3,
    "start_time": "2022-12-13T16:01:16.639Z"
   },
   {
    "duration": 62,
    "start_time": "2022-12-13T16:01:16.643Z"
   },
   {
    "duration": 36,
    "start_time": "2022-12-13T16:01:16.707Z"
   },
   {
    "duration": 6,
    "start_time": "2022-12-13T16:01:16.745Z"
   },
   {
    "duration": 16,
    "start_time": "2022-12-13T16:01:16.778Z"
   },
   {
    "duration": 20,
    "start_time": "2022-12-13T16:01:16.797Z"
   },
   {
    "duration": 9,
    "start_time": "2022-12-13T16:01:16.819Z"
   },
   {
    "duration": 21,
    "start_time": "2022-12-13T16:01:16.830Z"
   },
   {
    "duration": 59,
    "start_time": "2022-12-13T16:01:16.853Z"
   },
   {
    "duration": 137,
    "start_time": "2022-12-13T16:01:16.916Z"
   },
   {
    "duration": 144,
    "start_time": "2022-12-13T16:01:17.055Z"
   },
   {
    "duration": 116,
    "start_time": "2022-12-13T16:01:17.200Z"
   },
   {
    "duration": 125,
    "start_time": "2022-12-13T16:01:17.317Z"
   },
   {
    "duration": 19,
    "start_time": "2022-12-13T16:01:17.444Z"
   },
   {
    "duration": 31,
    "start_time": "2022-12-13T16:01:17.464Z"
   },
   {
    "duration": 16,
    "start_time": "2022-12-13T16:01:17.497Z"
   },
   {
    "duration": 32,
    "start_time": "2022-12-13T16:01:17.515Z"
   },
   {
    "duration": 43,
    "start_time": "2022-12-13T16:01:17.549Z"
   },
   {
    "duration": 30,
    "start_time": "2022-12-13T16:01:17.594Z"
   },
   {
    "duration": 28,
    "start_time": "2022-12-13T16:01:17.625Z"
   },
   {
    "duration": 615,
    "start_time": "2022-12-13T16:01:17.655Z"
   },
   {
    "duration": 38,
    "start_time": "2022-12-13T16:01:18.273Z"
   },
   {
    "duration": 32,
    "start_time": "2022-12-13T16:01:18.314Z"
   },
   {
    "duration": 218,
    "start_time": "2022-12-13T16:01:18.349Z"
   },
   {
    "duration": 182,
    "start_time": "2022-12-13T16:01:18.570Z"
   },
   {
    "duration": 188,
    "start_time": "2022-12-13T16:01:18.755Z"
   },
   {
    "duration": 190,
    "start_time": "2022-12-13T16:01:18.945Z"
   },
   {
    "duration": 20,
    "start_time": "2022-12-13T16:01:19.137Z"
   },
   {
    "duration": 160,
    "start_time": "2022-12-13T16:01:19.177Z"
   },
   {
    "duration": 169,
    "start_time": "2022-12-13T16:01:19.339Z"
   },
   {
    "duration": 163,
    "start_time": "2022-12-13T16:01:19.510Z"
   },
   {
    "duration": 18,
    "start_time": "2022-12-13T16:01:19.680Z"
   },
   {
    "duration": 173,
    "start_time": "2022-12-13T16:01:19.700Z"
   },
   {
    "duration": 166,
    "start_time": "2022-12-13T16:01:19.875Z"
   },
   {
    "duration": 158,
    "start_time": "2022-12-13T16:01:20.044Z"
   },
   {
    "duration": 267,
    "start_time": "2022-12-13T16:01:20.204Z"
   },
   {
    "duration": 141,
    "start_time": "2022-12-13T16:01:20.477Z"
   },
   {
    "duration": 173,
    "start_time": "2022-12-13T16:01:20.619Z"
   },
   {
    "duration": 158,
    "start_time": "2022-12-13T16:01:20.796Z"
   },
   {
    "duration": 154,
    "start_time": "2022-12-13T16:03:39.866Z"
   },
   {
    "duration": 146,
    "start_time": "2022-12-13T16:12:13.696Z"
   },
   {
    "duration": 54,
    "start_time": "2022-12-13T19:31:31.845Z"
   },
   {
    "duration": 3356,
    "start_time": "2022-12-13T19:31:34.596Z"
   },
   {
    "duration": 11,
    "start_time": "2022-12-13T19:31:37.954Z"
   },
   {
    "duration": 130,
    "start_time": "2022-12-13T19:31:37.967Z"
   },
   {
    "duration": 23,
    "start_time": "2022-12-13T19:31:38.098Z"
   },
   {
    "duration": 3,
    "start_time": "2022-12-13T19:31:38.123Z"
   },
   {
    "duration": 52,
    "start_time": "2022-12-13T19:31:38.127Z"
   },
   {
    "duration": 46,
    "start_time": "2022-12-13T19:31:38.181Z"
   },
   {
    "duration": 9,
    "start_time": "2022-12-13T19:31:38.229Z"
   },
   {
    "duration": 38,
    "start_time": "2022-12-13T19:31:38.240Z"
   },
   {
    "duration": 20,
    "start_time": "2022-12-13T19:31:38.280Z"
   },
   {
    "duration": 9,
    "start_time": "2022-12-13T19:31:38.302Z"
   },
   {
    "duration": 15,
    "start_time": "2022-12-13T19:31:38.313Z"
   },
   {
    "duration": 85,
    "start_time": "2022-12-13T19:31:38.330Z"
   },
   {
    "duration": 134,
    "start_time": "2022-12-13T19:31:38.420Z"
   },
   {
    "duration": 128,
    "start_time": "2022-12-13T19:31:38.556Z"
   },
   {
    "duration": 108,
    "start_time": "2022-12-13T19:31:38.685Z"
   },
   {
    "duration": 116,
    "start_time": "2022-12-13T19:31:38.794Z"
   },
   {
    "duration": 18,
    "start_time": "2022-12-13T19:31:38.911Z"
   },
   {
    "duration": 7,
    "start_time": "2022-12-13T19:31:38.931Z"
   },
   {
    "duration": 9,
    "start_time": "2022-12-13T19:31:38.940Z"
   },
   {
    "duration": 54,
    "start_time": "2022-12-13T19:31:38.950Z"
   },
   {
    "duration": 140,
    "start_time": "2022-12-13T19:31:39.006Z"
   },
   {
    "duration": 40,
    "start_time": "2022-12-13T19:31:39.148Z"
   },
   {
    "duration": 30,
    "start_time": "2022-12-13T19:31:39.190Z"
   },
   {
    "duration": 460,
    "start_time": "2022-12-13T19:31:39.222Z"
   },
   {
    "duration": 26,
    "start_time": "2022-12-13T19:31:39.684Z"
   },
   {
    "duration": 24,
    "start_time": "2022-12-13T19:31:39.712Z"
   },
   {
    "duration": 192,
    "start_time": "2022-12-13T19:31:39.738Z"
   },
   {
    "duration": 162,
    "start_time": "2022-12-13T19:31:39.932Z"
   },
   {
    "duration": 194,
    "start_time": "2022-12-13T19:31:40.096Z"
   },
   {
    "duration": 161,
    "start_time": "2022-12-13T19:31:40.292Z"
   },
   {
    "duration": 27,
    "start_time": "2022-12-13T19:31:40.455Z"
   },
   {
    "duration": 159,
    "start_time": "2022-12-13T19:31:40.484Z"
   },
   {
    "duration": 164,
    "start_time": "2022-12-13T19:31:40.646Z"
   },
   {
    "duration": 171,
    "start_time": "2022-12-13T19:31:40.812Z"
   },
   {
    "duration": 11,
    "start_time": "2022-12-13T19:31:40.985Z"
   },
   {
    "duration": 195,
    "start_time": "2022-12-13T19:31:40.999Z"
   },
   {
    "duration": 272,
    "start_time": "2022-12-13T19:31:41.196Z"
   },
   {
    "duration": 162,
    "start_time": "2022-12-13T19:31:41.470Z"
   },
   {
    "duration": 166,
    "start_time": "2022-12-13T19:31:41.634Z"
   },
   {
    "duration": 157,
    "start_time": "2022-12-13T19:31:41.805Z"
   },
   {
    "duration": 160,
    "start_time": "2022-12-13T19:31:41.964Z"
   },
   {
    "duration": 188,
    "start_time": "2022-12-13T19:31:42.125Z"
   },
   {
    "duration": 148,
    "start_time": "2022-12-13T19:31:42.316Z"
   },
   {
    "duration": 167,
    "start_time": "2022-12-13T19:31:42.466Z"
   },
   {
    "duration": 152,
    "start_time": "2022-12-13T19:31:42.635Z"
   },
   {
    "duration": 10,
    "start_time": "2022-12-13T21:14:12.512Z"
   },
   {
    "duration": 162,
    "start_time": "2022-12-13T21:15:04.237Z"
   },
   {
    "duration": 164,
    "start_time": "2022-12-13T21:15:14.791Z"
   },
   {
    "duration": 156,
    "start_time": "2022-12-13T21:29:54.433Z"
   },
   {
    "duration": 18,
    "start_time": "2022-12-13T21:34:09.617Z"
   },
   {
    "duration": 153,
    "start_time": "2022-12-13T21:34:33.249Z"
   },
   {
    "duration": 45,
    "start_time": "2022-12-13T21:35:58.414Z"
   },
   {
    "duration": 161,
    "start_time": "2022-12-13T21:36:05.718Z"
   },
   {
    "duration": 908,
    "start_time": "2022-12-13T21:47:16.736Z"
   },
   {
    "duration": 994,
    "start_time": "2022-12-13T21:47:33.269Z"
   },
   {
    "duration": 3328,
    "start_time": "2022-12-13T21:47:46.817Z"
   },
   {
    "duration": 13,
    "start_time": "2022-12-13T21:47:50.147Z"
   },
   {
    "duration": 186,
    "start_time": "2022-12-13T21:47:50.162Z"
   },
   {
    "duration": 32,
    "start_time": "2022-12-13T21:47:50.351Z"
   },
   {
    "duration": 3,
    "start_time": "2022-12-13T21:47:50.385Z"
   },
   {
    "duration": 39,
    "start_time": "2022-12-13T21:47:50.389Z"
   },
   {
    "duration": 68,
    "start_time": "2022-12-13T21:47:50.430Z"
   },
   {
    "duration": 7,
    "start_time": "2022-12-13T21:47:50.500Z"
   },
   {
    "duration": 11,
    "start_time": "2022-12-13T21:47:50.509Z"
   },
   {
    "duration": 30,
    "start_time": "2022-12-13T21:47:50.523Z"
   },
   {
    "duration": 27,
    "start_time": "2022-12-13T21:47:50.555Z"
   },
   {
    "duration": 28,
    "start_time": "2022-12-13T21:47:50.585Z"
   },
   {
    "duration": 43,
    "start_time": "2022-12-13T21:47:50.615Z"
   },
   {
    "duration": 149,
    "start_time": "2022-12-13T21:47:50.660Z"
   },
   {
    "duration": 149,
    "start_time": "2022-12-13T21:47:50.812Z"
   },
   {
    "duration": 176,
    "start_time": "2022-12-13T21:47:50.965Z"
   },
   {
    "duration": 146,
    "start_time": "2022-12-13T21:47:51.142Z"
   },
   {
    "duration": 21,
    "start_time": "2022-12-13T21:47:51.290Z"
   },
   {
    "duration": 10,
    "start_time": "2022-12-13T21:47:51.314Z"
   },
   {
    "duration": 20,
    "start_time": "2022-12-13T21:47:51.327Z"
   },
   {
    "duration": 82,
    "start_time": "2022-12-13T21:47:51.349Z"
   },
   {
    "duration": 45,
    "start_time": "2022-12-13T21:47:51.434Z"
   },
   {
    "duration": 40,
    "start_time": "2022-12-13T21:47:51.482Z"
   },
   {
    "duration": 28,
    "start_time": "2022-12-13T21:47:51.523Z"
   },
   {
    "duration": 653,
    "start_time": "2022-12-13T21:47:51.553Z"
   },
   {
    "duration": 28,
    "start_time": "2022-12-13T21:47:52.208Z"
   },
   {
    "duration": 45,
    "start_time": "2022-12-13T21:47:52.238Z"
   },
   {
    "duration": 169,
    "start_time": "2022-12-13T21:47:52.287Z"
   },
   {
    "duration": 174,
    "start_time": "2022-12-13T21:47:52.458Z"
   },
   {
    "duration": 185,
    "start_time": "2022-12-13T21:47:52.634Z"
   },
   {
    "duration": 171,
    "start_time": "2022-12-13T21:47:52.821Z"
   },
   {
    "duration": 18,
    "start_time": "2022-12-13T21:47:52.994Z"
   },
   {
    "duration": 197,
    "start_time": "2022-12-13T21:47:53.014Z"
   },
   {
    "duration": 165,
    "start_time": "2022-12-13T21:47:53.213Z"
   },
   {
    "duration": 168,
    "start_time": "2022-12-13T21:47:53.380Z"
   },
   {
    "duration": 34,
    "start_time": "2022-12-13T21:47:53.550Z"
   },
   {
    "duration": 227,
    "start_time": "2022-12-13T21:47:53.585Z"
   },
   {
    "duration": 224,
    "start_time": "2022-12-13T21:47:53.814Z"
   },
   {
    "duration": 161,
    "start_time": "2022-12-13T21:47:54.040Z"
   },
   {
    "duration": 280,
    "start_time": "2022-12-13T21:47:54.203Z"
   },
   {
    "duration": 144,
    "start_time": "2022-12-13T21:47:54.485Z"
   },
   {
    "duration": 159,
    "start_time": "2022-12-13T21:47:54.631Z"
   },
   {
    "duration": 177,
    "start_time": "2022-12-13T21:47:54.792Z"
   },
   {
    "duration": 150,
    "start_time": "2022-12-13T21:47:54.971Z"
   },
   {
    "duration": 178,
    "start_time": "2022-12-13T21:47:55.123Z"
   },
   {
    "duration": 163,
    "start_time": "2022-12-13T21:47:55.303Z"
   },
   {
    "duration": 189,
    "start_time": "2022-12-13T21:47:55.468Z"
   },
   {
    "duration": 188,
    "start_time": "2022-12-13T21:47:55.659Z"
   },
   {
    "duration": 951,
    "start_time": "2022-12-13T21:47:55.849Z"
   },
   {
    "duration": 933,
    "start_time": "2022-12-13T21:48:01.873Z"
   },
   {
    "duration": 164,
    "start_time": "2022-12-13T21:48:36.884Z"
   },
   {
    "duration": 788,
    "start_time": "2022-12-13T21:52:31.031Z"
   },
   {
    "duration": 149,
    "start_time": "2022-12-13T21:52:37.907Z"
   },
   {
    "duration": 138,
    "start_time": "2022-12-13T21:56:28.401Z"
   },
   {
    "duration": 144,
    "start_time": "2022-12-13T21:56:49.688Z"
   },
   {
    "duration": 146,
    "start_time": "2022-12-13T21:57:06.640Z"
   },
   {
    "duration": 55,
    "start_time": "2022-12-13T21:57:20.208Z"
   },
   {
    "duration": 274,
    "start_time": "2022-12-13T21:57:29.501Z"
   },
   {
    "duration": 138,
    "start_time": "2022-12-13T21:57:45.993Z"
   },
   {
    "duration": 142,
    "start_time": "2022-12-13T21:57:55.295Z"
   },
   {
    "duration": 9,
    "start_time": "2022-12-13T21:58:00.128Z"
   },
   {
    "duration": 146,
    "start_time": "2022-12-13T21:58:11.169Z"
   },
   {
    "duration": 154,
    "start_time": "2022-12-13T21:58:17.181Z"
   },
   {
    "duration": 163,
    "start_time": "2022-12-13T21:58:50.849Z"
   },
   {
    "duration": 12403,
    "start_time": "2022-12-13T21:59:08.559Z"
   },
   {
    "duration": 17,
    "start_time": "2022-12-13T21:59:33.058Z"
   },
   {
    "duration": 154,
    "start_time": "2022-12-13T21:59:43.838Z"
   },
   {
    "duration": 387,
    "start_time": "2022-12-13T22:00:15.539Z"
   },
   {
    "duration": 148,
    "start_time": "2022-12-13T22:00:22.023Z"
   },
   {
    "duration": 220,
    "start_time": "2022-12-13T22:00:28.227Z"
   },
   {
    "duration": 176,
    "start_time": "2022-12-13T22:01:07.519Z"
   },
   {
    "duration": 174,
    "start_time": "2022-12-13T22:01:29.642Z"
   },
   {
    "duration": 155,
    "start_time": "2022-12-13T22:05:27.539Z"
   },
   {
    "duration": 679,
    "start_time": "2022-12-13T22:08:36.369Z"
   },
   {
    "duration": 194,
    "start_time": "2022-12-13T22:09:02.394Z"
   },
   {
    "duration": 184,
    "start_time": "2022-12-13T22:09:32.520Z"
   },
   {
    "duration": 265,
    "start_time": "2022-12-13T22:11:18.158Z"
   },
   {
    "duration": 187,
    "start_time": "2022-12-13T22:11:22.111Z"
   },
   {
    "duration": 199,
    "start_time": "2022-12-13T22:12:06.771Z"
   },
   {
    "duration": 193,
    "start_time": "2022-12-13T22:12:15.874Z"
   },
   {
    "duration": 182,
    "start_time": "2022-12-13T22:12:19.549Z"
   },
   {
    "duration": 185,
    "start_time": "2022-12-13T22:12:24.958Z"
   },
   {
    "duration": 3124,
    "start_time": "2022-12-14T07:59:58.930Z"
   },
   {
    "duration": 10,
    "start_time": "2022-12-14T08:00:02.056Z"
   },
   {
    "duration": 164,
    "start_time": "2022-12-14T08:00:02.067Z"
   },
   {
    "duration": 21,
    "start_time": "2022-12-14T08:00:02.233Z"
   },
   {
    "duration": 2,
    "start_time": "2022-12-14T08:00:02.257Z"
   },
   {
    "duration": 47,
    "start_time": "2022-12-14T08:00:02.261Z"
   },
   {
    "duration": 32,
    "start_time": "2022-12-14T08:00:02.309Z"
   },
   {
    "duration": 6,
    "start_time": "2022-12-14T08:00:02.342Z"
   },
   {
    "duration": 18,
    "start_time": "2022-12-14T08:00:02.349Z"
   },
   {
    "duration": 40,
    "start_time": "2022-12-14T08:00:02.369Z"
   },
   {
    "duration": 8,
    "start_time": "2022-12-14T08:00:02.411Z"
   },
   {
    "duration": 32,
    "start_time": "2022-12-14T08:00:02.421Z"
   },
   {
    "duration": 40,
    "start_time": "2022-12-14T08:00:02.454Z"
   },
   {
    "duration": 103,
    "start_time": "2022-12-14T08:00:02.496Z"
   },
   {
    "duration": 112,
    "start_time": "2022-12-14T08:00:02.601Z"
   },
   {
    "duration": 100,
    "start_time": "2022-12-14T08:00:02.715Z"
   },
   {
    "duration": 113,
    "start_time": "2022-12-14T08:00:02.819Z"
   },
   {
    "duration": 17,
    "start_time": "2022-12-14T08:00:02.933Z"
   },
   {
    "duration": 6,
    "start_time": "2022-12-14T08:00:02.952Z"
   },
   {
    "duration": 12,
    "start_time": "2022-12-14T08:00:02.959Z"
   },
   {
    "duration": 47,
    "start_time": "2022-12-14T08:00:02.973Z"
   },
   {
    "duration": 109,
    "start_time": "2022-12-14T08:00:03.022Z"
   },
   {
    "duration": 26,
    "start_time": "2022-12-14T08:00:03.133Z"
   },
   {
    "duration": 42,
    "start_time": "2022-12-14T08:00:03.161Z"
   },
   {
    "duration": 439,
    "start_time": "2022-12-14T08:00:03.205Z"
   },
   {
    "duration": 23,
    "start_time": "2022-12-14T08:00:03.646Z"
   },
   {
    "duration": 39,
    "start_time": "2022-12-14T08:00:03.671Z"
   },
   {
    "duration": 148,
    "start_time": "2022-12-14T08:00:03.711Z"
   },
   {
    "duration": 150,
    "start_time": "2022-12-14T08:00:03.861Z"
   },
   {
    "duration": 162,
    "start_time": "2022-12-14T08:00:04.012Z"
   },
   {
    "duration": 142,
    "start_time": "2022-12-14T08:00:04.176Z"
   },
   {
    "duration": 15,
    "start_time": "2022-12-14T08:00:04.320Z"
   },
   {
    "duration": 144,
    "start_time": "2022-12-14T08:00:04.337Z"
   },
   {
    "duration": 163,
    "start_time": "2022-12-14T08:00:04.482Z"
   },
   {
    "duration": 170,
    "start_time": "2022-12-14T08:00:04.647Z"
   },
   {
    "duration": 9,
    "start_time": "2022-12-14T08:00:04.818Z"
   },
   {
    "duration": 143,
    "start_time": "2022-12-14T08:00:04.828Z"
   },
   {
    "duration": 226,
    "start_time": "2022-12-14T08:00:04.973Z"
   },
   {
    "duration": 136,
    "start_time": "2022-12-14T08:00:05.200Z"
   },
   {
    "duration": 131,
    "start_time": "2022-12-14T08:00:05.338Z"
   },
   {
    "duration": 109,
    "start_time": "2022-12-14T08:00:05.472Z"
   },
   {
    "duration": 144,
    "start_time": "2022-12-14T08:00:05.582Z"
   },
   {
    "duration": 138,
    "start_time": "2022-12-14T08:00:05.728Z"
   },
   {
    "duration": 131,
    "start_time": "2022-12-14T08:00:05.868Z"
   },
   {
    "duration": 153,
    "start_time": "2022-12-14T08:00:06.001Z"
   },
   {
    "duration": 134,
    "start_time": "2022-12-14T08:00:06.156Z"
   },
   {
    "duration": 128,
    "start_time": "2022-12-14T08:00:06.296Z"
   },
   {
    "duration": 152,
    "start_time": "2022-12-14T08:00:06.426Z"
   },
   {
    "duration": 167,
    "start_time": "2022-12-14T08:00:06.580Z"
   },
   {
    "duration": 163,
    "start_time": "2022-12-14T08:00:06.748Z"
   },
   {
    "duration": 158,
    "start_time": "2022-12-14T08:00:06.912Z"
   },
   {
    "duration": 150,
    "start_time": "2022-12-14T08:00:07.072Z"
   },
   {
    "duration": 217,
    "start_time": "2022-12-14T08:00:07.224Z"
   },
   {
    "duration": 134,
    "start_time": "2022-12-14T08:00:07.442Z"
   },
   {
    "duration": 178,
    "start_time": "2022-12-14T08:00:07.577Z"
   },
   {
    "duration": 15,
    "start_time": "2022-12-14T08:00:07.756Z"
   },
   {
    "duration": 72,
    "start_time": "2022-12-14T08:00:20.827Z"
   },
   {
    "duration": 18,
    "start_time": "2022-12-14T08:00:34.559Z"
   },
   {
    "duration": 16,
    "start_time": "2022-12-14T08:00:51.752Z"
   },
   {
    "duration": 15,
    "start_time": "2022-12-14T08:03:15.131Z"
   },
   {
    "duration": 18,
    "start_time": "2022-12-14T08:03:19.022Z"
   },
   {
    "duration": 18,
    "start_time": "2022-12-14T08:05:35.401Z"
   },
   {
    "duration": 5380,
    "start_time": "2022-12-14T08:06:07.321Z"
   },
   {
    "duration": 19,
    "start_time": "2022-12-14T08:06:22.294Z"
   },
   {
    "duration": 1266,
    "start_time": "2022-12-14T08:07:03.872Z"
   },
   {
    "duration": 5631,
    "start_time": "2022-12-14T08:07:23.205Z"
   },
   {
    "duration": 59,
    "start_time": "2022-12-14T16:06:11.699Z"
   },
   {
    "duration": 2997,
    "start_time": "2022-12-14T16:06:14.680Z"
   },
   {
    "duration": 9,
    "start_time": "2022-12-14T16:06:17.679Z"
   },
   {
    "duration": 128,
    "start_time": "2022-12-14T16:06:17.690Z"
   },
   {
    "duration": 20,
    "start_time": "2022-12-14T16:06:17.821Z"
   },
   {
    "duration": 3,
    "start_time": "2022-12-14T16:06:17.843Z"
   },
   {
    "duration": 32,
    "start_time": "2022-12-14T16:06:17.847Z"
   },
   {
    "duration": 60,
    "start_time": "2022-12-14T16:06:17.882Z"
   },
   {
    "duration": 6,
    "start_time": "2022-12-14T16:06:17.944Z"
   },
   {
    "duration": 8,
    "start_time": "2022-12-14T16:06:17.951Z"
   },
   {
    "duration": 15,
    "start_time": "2022-12-14T16:06:17.962Z"
   },
   {
    "duration": 11,
    "start_time": "2022-12-14T16:06:18.013Z"
   },
   {
    "duration": 16,
    "start_time": "2022-12-14T16:06:18.025Z"
   },
   {
    "duration": 47,
    "start_time": "2022-12-14T16:06:18.043Z"
   },
   {
    "duration": 130,
    "start_time": "2022-12-14T16:06:18.092Z"
   },
   {
    "duration": 114,
    "start_time": "2022-12-14T16:06:18.223Z"
   },
   {
    "duration": 98,
    "start_time": "2022-12-14T16:06:18.339Z"
   },
   {
    "duration": 111,
    "start_time": "2022-12-14T16:06:18.439Z"
   },
   {
    "duration": 18,
    "start_time": "2022-12-14T16:06:18.551Z"
   },
   {
    "duration": 7,
    "start_time": "2022-12-14T16:06:18.571Z"
   },
   {
    "duration": 35,
    "start_time": "2022-12-14T16:06:18.579Z"
   },
   {
    "duration": 28,
    "start_time": "2022-12-14T16:06:18.615Z"
   },
   {
    "duration": 111,
    "start_time": "2022-12-14T16:06:18.644Z"
   },
   {
    "duration": 26,
    "start_time": "2022-12-14T16:06:18.756Z"
   },
   {
    "duration": 40,
    "start_time": "2022-12-14T16:06:18.783Z"
   },
   {
    "duration": 440,
    "start_time": "2022-12-14T16:06:18.824Z"
   },
   {
    "duration": 27,
    "start_time": "2022-12-14T16:06:19.265Z"
   },
   {
    "duration": 35,
    "start_time": "2022-12-14T16:06:19.294Z"
   },
   {
    "duration": 146,
    "start_time": "2022-12-14T16:06:19.332Z"
   },
   {
    "duration": 143,
    "start_time": "2022-12-14T16:06:19.480Z"
   },
   {
    "duration": 165,
    "start_time": "2022-12-14T16:06:19.625Z"
   },
   {
    "duration": 140,
    "start_time": "2022-12-14T16:06:19.791Z"
   },
   {
    "duration": 16,
    "start_time": "2022-12-14T16:06:19.932Z"
   },
   {
    "duration": 153,
    "start_time": "2022-12-14T16:06:19.950Z"
   },
   {
    "duration": 168,
    "start_time": "2022-12-14T16:06:20.105Z"
   },
   {
    "duration": 184,
    "start_time": "2022-12-14T16:06:20.275Z"
   },
   {
    "duration": 11,
    "start_time": "2022-12-14T16:06:20.461Z"
   },
   {
    "duration": 149,
    "start_time": "2022-12-14T16:06:20.474Z"
   },
   {
    "duration": 229,
    "start_time": "2022-12-14T16:06:20.624Z"
   },
   {
    "duration": 137,
    "start_time": "2022-12-14T16:06:20.854Z"
   },
   {
    "duration": 142,
    "start_time": "2022-12-14T16:06:20.993Z"
   },
   {
    "duration": 120,
    "start_time": "2022-12-14T16:06:21.137Z"
   },
   {
    "duration": 131,
    "start_time": "2022-12-14T16:06:21.258Z"
   },
   {
    "duration": 146,
    "start_time": "2022-12-14T16:06:21.391Z"
   },
   {
    "duration": 127,
    "start_time": "2022-12-14T16:06:21.538Z"
   },
   {
    "duration": 163,
    "start_time": "2022-12-14T16:06:21.666Z"
   },
   {
    "duration": 137,
    "start_time": "2022-12-14T16:06:21.830Z"
   },
   {
    "duration": 127,
    "start_time": "2022-12-14T16:06:21.969Z"
   },
   {
    "duration": 166,
    "start_time": "2022-12-14T16:06:22.098Z"
   },
   {
    "duration": 163,
    "start_time": "2022-12-14T16:06:22.265Z"
   },
   {
    "duration": 176,
    "start_time": "2022-12-14T16:06:22.430Z"
   },
   {
    "duration": 158,
    "start_time": "2022-12-14T16:06:22.608Z"
   },
   {
    "duration": 166,
    "start_time": "2022-12-14T16:06:22.768Z"
   },
   {
    "duration": 245,
    "start_time": "2022-12-14T16:06:22.936Z"
   },
   {
    "duration": 150,
    "start_time": "2022-12-14T16:06:23.183Z"
   },
   {
    "duration": 190,
    "start_time": "2022-12-14T16:06:23.335Z"
   },
   {
    "duration": 5628,
    "start_time": "2022-12-14T16:06:23.527Z"
   },
   {
    "duration": 167,
    "start_time": "2022-12-14T16:07:34.322Z"
   },
   {
    "duration": 198,
    "start_time": "2022-12-14T16:07:49.160Z"
   },
   {
    "duration": 169,
    "start_time": "2022-12-14T16:07:59.743Z"
   },
   {
    "duration": 163,
    "start_time": "2022-12-14T16:08:09.315Z"
   },
   {
    "duration": 1462,
    "start_time": "2022-12-14T16:13:50.056Z"
   },
   {
    "duration": 1524,
    "start_time": "2022-12-14T16:14:39.673Z"
   },
   {
    "duration": 1485,
    "start_time": "2022-12-14T16:14:44.394Z"
   },
   {
    "duration": 80,
    "start_time": "2022-12-14T16:15:03.114Z"
   },
   {
    "duration": 69,
    "start_time": "2022-12-14T16:15:09.144Z"
   },
   {
    "duration": 1533,
    "start_time": "2022-12-14T16:15:10.943Z"
   },
   {
    "duration": 1654,
    "start_time": "2022-12-14T16:15:19.133Z"
   },
   {
    "duration": 1338,
    "start_time": "2022-12-14T16:15:33.596Z"
   },
   {
    "duration": 1748,
    "start_time": "2022-12-14T16:15:42.074Z"
   },
   {
    "duration": 1651,
    "start_time": "2022-12-14T16:15:50.775Z"
   },
   {
    "duration": 1257,
    "start_time": "2022-12-14T16:15:56.757Z"
   },
   {
    "duration": 1820,
    "start_time": "2022-12-14T16:16:00.409Z"
   },
   {
    "duration": 1634,
    "start_time": "2022-12-14T16:16:05.125Z"
   },
   {
    "duration": 1295,
    "start_time": "2022-12-14T16:16:11.814Z"
   },
   {
    "duration": 621,
    "start_time": "2022-12-14T16:17:02.106Z"
   },
   {
    "duration": 1266,
    "start_time": "2022-12-14T16:17:17.971Z"
   },
   {
    "duration": 1672,
    "start_time": "2022-12-14T16:17:27.926Z"
   },
   {
    "duration": 274,
    "start_time": "2022-12-14T16:17:37.056Z"
   },
   {
    "duration": 250,
    "start_time": "2022-12-14T16:17:40.775Z"
   },
   {
    "duration": 260,
    "start_time": "2022-12-14T16:17:48.649Z"
   },
   {
    "duration": 255,
    "start_time": "2022-12-14T16:17:52.976Z"
   },
   {
    "duration": 12,
    "start_time": "2022-12-14T16:18:50.490Z"
   },
   {
    "duration": 8,
    "start_time": "2022-12-14T16:19:05.173Z"
   },
   {
    "duration": 11,
    "start_time": "2022-12-14T16:19:09.728Z"
   },
   {
    "duration": 2858,
    "start_time": "2022-12-14T16:23:56.279Z"
   },
   {
    "duration": 9,
    "start_time": "2022-12-14T16:23:59.139Z"
   },
   {
    "duration": 137,
    "start_time": "2022-12-14T16:23:59.150Z"
   },
   {
    "duration": 31,
    "start_time": "2022-12-14T16:23:59.289Z"
   },
   {
    "duration": 3,
    "start_time": "2022-12-14T16:23:59.322Z"
   },
   {
    "duration": 31,
    "start_time": "2022-12-14T16:23:59.326Z"
   },
   {
    "duration": 69,
    "start_time": "2022-12-14T16:23:59.359Z"
   },
   {
    "duration": 7,
    "start_time": "2022-12-14T16:23:59.430Z"
   },
   {
    "duration": 12,
    "start_time": "2022-12-14T16:23:59.439Z"
   },
   {
    "duration": 28,
    "start_time": "2022-12-14T16:23:59.453Z"
   },
   {
    "duration": 31,
    "start_time": "2022-12-14T16:23:59.482Z"
   },
   {
    "duration": 8,
    "start_time": "2022-12-14T16:23:59.515Z"
   },
   {
    "duration": 57,
    "start_time": "2022-12-14T16:23:59.525Z"
   },
   {
    "duration": 119,
    "start_time": "2022-12-14T16:23:59.583Z"
   },
   {
    "duration": 117,
    "start_time": "2022-12-14T16:23:59.712Z"
   },
   {
    "duration": 107,
    "start_time": "2022-12-14T16:23:59.830Z"
   },
   {
    "duration": 120,
    "start_time": "2022-12-14T16:23:59.939Z"
   },
   {
    "duration": 19,
    "start_time": "2022-12-14T16:24:00.061Z"
   },
   {
    "duration": 8,
    "start_time": "2022-12-14T16:24:00.082Z"
   },
   {
    "duration": 30,
    "start_time": "2022-12-14T16:24:00.091Z"
   },
   {
    "duration": 55,
    "start_time": "2022-12-14T16:24:00.122Z"
   },
   {
    "duration": 50,
    "start_time": "2022-12-14T16:24:00.179Z"
   },
   {
    "duration": 57,
    "start_time": "2022-12-14T16:24:00.231Z"
   },
   {
    "duration": 65,
    "start_time": "2022-12-14T16:24:00.289Z"
   },
   {
    "duration": 606,
    "start_time": "2022-12-14T16:24:00.356Z"
   },
   {
    "duration": 31,
    "start_time": "2022-12-14T16:24:00.965Z"
   },
   {
    "duration": 48,
    "start_time": "2022-12-14T16:24:00.997Z"
   },
   {
    "duration": 207,
    "start_time": "2022-12-14T16:24:01.049Z"
   },
   {
    "duration": 148,
    "start_time": "2022-12-14T16:24:01.258Z"
   },
   {
    "duration": 162,
    "start_time": "2022-12-14T16:24:01.407Z"
   },
   {
    "duration": 144,
    "start_time": "2022-12-14T16:24:01.571Z"
   },
   {
    "duration": 16,
    "start_time": "2022-12-14T16:24:01.716Z"
   },
   {
    "duration": 165,
    "start_time": "2022-12-14T16:24:01.733Z"
   },
   {
    "duration": 147,
    "start_time": "2022-12-14T16:24:01.899Z"
   },
   {
    "duration": 150,
    "start_time": "2022-12-14T16:24:02.047Z"
   },
   {
    "duration": 18,
    "start_time": "2022-12-14T16:24:02.199Z"
   },
   {
    "duration": 154,
    "start_time": "2022-12-14T16:24:02.218Z"
   },
   {
    "duration": 153,
    "start_time": "2022-12-14T16:24:02.374Z"
   },
   {
    "duration": 154,
    "start_time": "2022-12-14T16:24:02.528Z"
   },
   {
    "duration": 254,
    "start_time": "2022-12-14T16:24:02.684Z"
   },
   {
    "duration": 125,
    "start_time": "2022-12-14T16:24:02.941Z"
   },
   {
    "duration": 146,
    "start_time": "2022-12-14T16:24:03.068Z"
   },
   {
    "duration": 146,
    "start_time": "2022-12-14T16:24:03.216Z"
   },
   {
    "duration": 134,
    "start_time": "2022-12-14T16:24:03.364Z"
   },
   {
    "duration": 166,
    "start_time": "2022-12-14T16:24:03.500Z"
   },
   {
    "duration": 140,
    "start_time": "2022-12-14T16:24:03.667Z"
   },
   {
    "duration": 142,
    "start_time": "2022-12-14T16:24:03.812Z"
   },
   {
    "duration": 164,
    "start_time": "2022-12-14T16:24:03.955Z"
   },
   {
    "duration": 179,
    "start_time": "2022-12-14T16:24:04.121Z"
   },
   {
    "duration": 197,
    "start_time": "2022-12-14T16:24:04.302Z"
   },
   {
    "duration": 190,
    "start_time": "2022-12-14T16:24:04.501Z"
   },
   {
    "duration": 177,
    "start_time": "2022-12-14T16:24:04.693Z"
   },
   {
    "duration": 154,
    "start_time": "2022-12-14T16:24:04.872Z"
   },
   {
    "duration": 146,
    "start_time": "2022-12-14T16:24:05.028Z"
   },
   {
    "duration": 196,
    "start_time": "2022-12-14T16:24:05.176Z"
   },
   {
    "duration": 1160,
    "start_time": "2022-12-14T16:24:05.374Z"
   },
   {
    "duration": 0,
    "start_time": "2022-12-14T16:24:06.536Z"
   },
   {
    "duration": 7,
    "start_time": "2022-12-14T16:24:34.322Z"
   },
   {
    "duration": 45,
    "start_time": "2022-12-14T16:26:40.411Z"
   },
   {
    "duration": 48,
    "start_time": "2022-12-15T08:35:53.601Z"
   },
   {
    "duration": 3415,
    "start_time": "2022-12-15T08:35:57.996Z"
   },
   {
    "duration": 10,
    "start_time": "2022-12-15T08:36:01.413Z"
   },
   {
    "duration": 141,
    "start_time": "2022-12-15T08:36:01.425Z"
   },
   {
    "duration": 22,
    "start_time": "2022-12-15T08:36:01.568Z"
   },
   {
    "duration": 3,
    "start_time": "2022-12-15T08:36:01.591Z"
   },
   {
    "duration": 67,
    "start_time": "2022-12-15T08:36:01.596Z"
   },
   {
    "duration": 51,
    "start_time": "2022-12-15T08:36:01.664Z"
   },
   {
    "duration": 7,
    "start_time": "2022-12-15T08:36:01.716Z"
   },
   {
    "duration": 20,
    "start_time": "2022-12-15T08:36:01.724Z"
   },
   {
    "duration": 22,
    "start_time": "2022-12-15T08:36:01.747Z"
   },
   {
    "duration": 8,
    "start_time": "2022-12-15T08:36:01.770Z"
   },
   {
    "duration": 16,
    "start_time": "2022-12-15T08:36:01.779Z"
   },
   {
    "duration": 43,
    "start_time": "2022-12-15T08:36:01.797Z"
   },
   {
    "duration": 119,
    "start_time": "2022-12-15T08:36:01.842Z"
   },
   {
    "duration": 128,
    "start_time": "2022-12-15T08:36:01.963Z"
   },
   {
    "duration": 110,
    "start_time": "2022-12-15T08:36:02.093Z"
   },
   {
    "duration": 118,
    "start_time": "2022-12-15T08:36:02.205Z"
   },
   {
    "duration": 18,
    "start_time": "2022-12-15T08:36:02.324Z"
   },
   {
    "duration": 15,
    "start_time": "2022-12-15T08:36:02.343Z"
   },
   {
    "duration": 22,
    "start_time": "2022-12-15T08:36:02.360Z"
   },
   {
    "duration": 36,
    "start_time": "2022-12-15T08:36:02.384Z"
   },
   {
    "duration": 147,
    "start_time": "2022-12-15T08:36:02.424Z"
   },
   {
    "duration": 29,
    "start_time": "2022-12-15T08:36:02.573Z"
   },
   {
    "duration": 28,
    "start_time": "2022-12-15T08:36:02.615Z"
   },
   {
    "duration": 452,
    "start_time": "2022-12-15T08:36:02.645Z"
   },
   {
    "duration": 32,
    "start_time": "2022-12-15T08:36:03.099Z"
   },
   {
    "duration": 22,
    "start_time": "2022-12-15T08:36:03.132Z"
   },
   {
    "duration": 152,
    "start_time": "2022-12-15T08:36:03.157Z"
   },
   {
    "duration": 142,
    "start_time": "2022-12-15T08:36:03.315Z"
   },
   {
    "duration": 161,
    "start_time": "2022-12-15T08:36:03.459Z"
   },
   {
    "duration": 139,
    "start_time": "2022-12-15T08:36:03.622Z"
   },
   {
    "duration": 16,
    "start_time": "2022-12-15T08:36:03.763Z"
   },
   {
    "duration": 166,
    "start_time": "2022-12-15T08:36:03.780Z"
   },
   {
    "duration": 169,
    "start_time": "2022-12-15T08:36:03.948Z"
   },
   {
    "duration": 144,
    "start_time": "2022-12-15T08:36:04.119Z"
   },
   {
    "duration": 8,
    "start_time": "2022-12-15T08:36:04.265Z"
   },
   {
    "duration": 154,
    "start_time": "2022-12-15T08:36:04.275Z"
   },
   {
    "duration": 221,
    "start_time": "2022-12-15T08:36:04.431Z"
   },
   {
    "duration": 143,
    "start_time": "2022-12-15T08:36:04.654Z"
   },
   {
    "duration": 150,
    "start_time": "2022-12-15T08:36:04.799Z"
   },
   {
    "duration": 135,
    "start_time": "2022-12-15T08:36:04.951Z"
   },
   {
    "duration": 135,
    "start_time": "2022-12-15T08:36:05.088Z"
   },
   {
    "duration": 156,
    "start_time": "2022-12-15T08:36:05.225Z"
   },
   {
    "duration": 134,
    "start_time": "2022-12-15T08:36:05.383Z"
   },
   {
    "duration": 151,
    "start_time": "2022-12-15T08:36:05.518Z"
   },
   {
    "duration": 148,
    "start_time": "2022-12-15T08:36:05.671Z"
   },
   {
    "duration": 137,
    "start_time": "2022-12-15T08:36:05.820Z"
   },
   {
    "duration": 168,
    "start_time": "2022-12-15T08:36:05.959Z"
   },
   {
    "duration": 203,
    "start_time": "2022-12-15T08:36:06.129Z"
   },
   {
    "duration": 209,
    "start_time": "2022-12-15T08:36:06.334Z"
   },
   {
    "duration": 172,
    "start_time": "2022-12-15T08:36:06.545Z"
   },
   {
    "duration": 178,
    "start_time": "2022-12-15T08:36:06.719Z"
   },
   {
    "duration": 242,
    "start_time": "2022-12-15T08:36:06.899Z"
   },
   {
    "duration": 138,
    "start_time": "2022-12-15T08:36:07.142Z"
   },
   {
    "duration": 187,
    "start_time": "2022-12-15T08:36:07.282Z"
   },
   {
    "duration": 7,
    "start_time": "2022-12-15T08:36:07.470Z"
   },
   {
    "duration": 10,
    "start_time": "2022-12-15T08:36:07.479Z"
   },
   {
    "duration": 169,
    "start_time": "2022-12-15T08:36:37.745Z"
   },
   {
    "duration": 178,
    "start_time": "2022-12-15T08:36:46.212Z"
   },
   {
    "duration": 2393,
    "start_time": "2022-12-15T08:40:04.596Z"
   },
   {
    "duration": 25,
    "start_time": "2022-12-15T08:40:06.991Z"
   },
   {
    "duration": 148,
    "start_time": "2022-12-15T08:40:07.019Z"
   },
   {
    "duration": 17,
    "start_time": "2022-12-15T08:40:07.169Z"
   },
   {
    "duration": 3,
    "start_time": "2022-12-15T08:40:07.188Z"
   },
   {
    "duration": 64,
    "start_time": "2022-12-15T08:40:07.194Z"
   },
   {
    "duration": 81,
    "start_time": "2022-12-15T08:40:07.260Z"
   },
   {
    "duration": 6,
    "start_time": "2022-12-15T08:40:07.344Z"
   },
   {
    "duration": 7,
    "start_time": "2022-12-15T08:40:07.351Z"
   },
   {
    "duration": 15,
    "start_time": "2022-12-15T08:40:07.360Z"
   },
   {
    "duration": 45,
    "start_time": "2022-12-15T08:40:07.377Z"
   },
   {
    "duration": 10,
    "start_time": "2022-12-15T08:40:07.424Z"
   },
   {
    "duration": 42,
    "start_time": "2022-12-15T08:40:07.435Z"
   },
   {
    "duration": 145,
    "start_time": "2022-12-15T08:40:07.479Z"
   },
   {
    "duration": 123,
    "start_time": "2022-12-15T08:40:07.626Z"
   },
   {
    "duration": 111,
    "start_time": "2022-12-15T08:40:07.751Z"
   },
   {
    "duration": 113,
    "start_time": "2022-12-15T08:40:07.863Z"
   },
   {
    "duration": 13,
    "start_time": "2022-12-15T08:40:07.978Z"
   },
   {
    "duration": 28,
    "start_time": "2022-12-15T08:40:07.992Z"
   },
   {
    "duration": 10,
    "start_time": "2022-12-15T08:40:08.022Z"
   },
   {
    "duration": 31,
    "start_time": "2022-12-15T08:40:08.033Z"
   },
   {
    "duration": 63,
    "start_time": "2022-12-15T08:40:08.066Z"
   },
   {
    "duration": 25,
    "start_time": "2022-12-15T08:40:08.130Z"
   },
   {
    "duration": 27,
    "start_time": "2022-12-15T08:40:08.156Z"
   },
   {
    "duration": 443,
    "start_time": "2022-12-15T08:40:08.185Z"
   },
   {
    "duration": 25,
    "start_time": "2022-12-15T08:40:08.630Z"
   },
   {
    "duration": 23,
    "start_time": "2022-12-15T08:40:08.656Z"
   },
   {
    "duration": 170,
    "start_time": "2022-12-15T08:40:08.683Z"
   },
   {
    "duration": 146,
    "start_time": "2022-12-15T08:40:08.855Z"
   },
   {
    "duration": 166,
    "start_time": "2022-12-15T08:40:09.003Z"
   },
   {
    "duration": 146,
    "start_time": "2022-12-15T08:40:09.171Z"
   },
   {
    "duration": 17,
    "start_time": "2022-12-15T08:40:09.319Z"
   },
   {
    "duration": 163,
    "start_time": "2022-12-15T08:40:09.337Z"
   },
   {
    "duration": 150,
    "start_time": "2022-12-15T08:40:09.502Z"
   },
   {
    "duration": 283,
    "start_time": "2022-12-15T08:40:09.654Z"
   },
   {
    "duration": 9,
    "start_time": "2022-12-15T08:40:09.939Z"
   },
   {
    "duration": 171,
    "start_time": "2022-12-15T08:40:09.950Z"
   },
   {
    "duration": 144,
    "start_time": "2022-12-15T08:40:10.123Z"
   },
   {
    "duration": 136,
    "start_time": "2022-12-15T08:40:10.269Z"
   },
   {
    "duration": 143,
    "start_time": "2022-12-15T08:40:10.415Z"
   },
   {
    "duration": 124,
    "start_time": "2022-12-15T08:40:10.560Z"
   },
   {
    "duration": 150,
    "start_time": "2022-12-15T08:40:10.686Z"
   },
   {
    "duration": 153,
    "start_time": "2022-12-15T08:40:10.838Z"
   },
   {
    "duration": 142,
    "start_time": "2022-12-15T08:40:10.994Z"
   },
   {
    "duration": 165,
    "start_time": "2022-12-15T08:40:11.138Z"
   },
   {
    "duration": 171,
    "start_time": "2022-12-15T08:40:11.305Z"
   },
   {
    "duration": 150,
    "start_time": "2022-12-15T08:40:11.477Z"
   },
   {
    "duration": 169,
    "start_time": "2022-12-15T08:40:11.629Z"
   },
   {
    "duration": 175,
    "start_time": "2022-12-15T08:40:11.799Z"
   },
   {
    "duration": 216,
    "start_time": "2022-12-15T08:40:11.976Z"
   },
   {
    "duration": 167,
    "start_time": "2022-12-15T08:40:12.194Z"
   },
   {
    "duration": 188,
    "start_time": "2022-12-15T08:40:12.363Z"
   },
   {
    "duration": 150,
    "start_time": "2022-12-15T08:40:12.553Z"
   },
   {
    "duration": 137,
    "start_time": "2022-12-15T08:40:12.715Z"
   },
   {
    "duration": 220,
    "start_time": "2022-12-15T08:40:12.854Z"
   },
   {
    "duration": 9,
    "start_time": "2022-12-15T08:40:13.076Z"
   },
   {
    "duration": 3,
    "start_time": "2022-12-15T08:40:13.087Z"
   },
   {
    "duration": 36,
    "start_time": "2022-12-15T08:40:47.469Z"
   },
   {
    "duration": 38,
    "start_time": "2022-12-15T08:40:52.305Z"
   },
   {
    "duration": 56,
    "start_time": "2022-12-15T09:01:24.270Z"
   },
   {
    "duration": 2224,
    "start_time": "2022-12-15T09:01:41.766Z"
   },
   {
    "duration": 11,
    "start_time": "2022-12-15T09:01:43.992Z"
   },
   {
    "duration": 376,
    "start_time": "2022-12-15T09:01:44.016Z"
   },
   {
    "duration": 27,
    "start_time": "2022-12-15T09:01:44.395Z"
   },
   {
    "duration": 2,
    "start_time": "2022-12-15T09:01:44.424Z"
   },
   {
    "duration": 31,
    "start_time": "2022-12-15T09:01:44.428Z"
   },
   {
    "duration": 70,
    "start_time": "2022-12-15T09:01:44.461Z"
   },
   {
    "duration": 5,
    "start_time": "2022-12-15T09:01:44.533Z"
   },
   {
    "duration": 8,
    "start_time": "2022-12-15T09:01:44.539Z"
   },
   {
    "duration": 16,
    "start_time": "2022-12-15T09:01:44.549Z"
   },
   {
    "duration": 8,
    "start_time": "2022-12-15T09:01:44.568Z"
   },
   {
    "duration": 49,
    "start_time": "2022-12-15T09:01:44.577Z"
   },
   {
    "duration": 62,
    "start_time": "2022-12-15T09:01:44.628Z"
   },
   {
    "duration": 128,
    "start_time": "2022-12-15T09:01:44.692Z"
   },
   {
    "duration": 116,
    "start_time": "2022-12-15T09:01:44.822Z"
   },
   {
    "duration": 103,
    "start_time": "2022-12-15T09:01:44.940Z"
   },
   {
    "duration": 111,
    "start_time": "2022-12-15T09:01:45.044Z"
   },
   {
    "duration": 13,
    "start_time": "2022-12-15T09:01:45.157Z"
   },
   {
    "duration": 10,
    "start_time": "2022-12-15T09:01:45.172Z"
   },
   {
    "duration": 15,
    "start_time": "2022-12-15T09:01:45.183Z"
   },
   {
    "duration": 57,
    "start_time": "2022-12-15T09:01:45.199Z"
   },
   {
    "duration": 27,
    "start_time": "2022-12-15T09:01:45.258Z"
   },
   {
    "duration": 36,
    "start_time": "2022-12-15T09:01:45.287Z"
   },
   {
    "duration": 27,
    "start_time": "2022-12-15T09:01:45.324Z"
   },
   {
    "duration": 449,
    "start_time": "2022-12-15T09:01:45.352Z"
   },
   {
    "duration": 31,
    "start_time": "2022-12-15T09:01:45.803Z"
   },
   {
    "duration": 21,
    "start_time": "2022-12-15T09:01:45.836Z"
   },
   {
    "duration": 162,
    "start_time": "2022-12-15T09:01:45.861Z"
   },
   {
    "duration": 150,
    "start_time": "2022-12-15T09:01:46.024Z"
   },
   {
    "duration": 197,
    "start_time": "2022-12-15T09:01:46.176Z"
   },
   {
    "duration": 180,
    "start_time": "2022-12-15T09:01:46.376Z"
   },
   {
    "duration": 17,
    "start_time": "2022-12-15T09:01:46.558Z"
   },
   {
    "duration": 180,
    "start_time": "2022-12-15T09:01:46.577Z"
   },
   {
    "duration": 142,
    "start_time": "2022-12-15T09:01:46.758Z"
   },
   {
    "duration": 145,
    "start_time": "2022-12-15T09:01:46.902Z"
   },
   {
    "duration": 10,
    "start_time": "2022-12-15T09:01:47.049Z"
   },
   {
    "duration": 157,
    "start_time": "2022-12-15T09:01:47.060Z"
   },
   {
    "duration": 148,
    "start_time": "2022-12-15T09:01:47.219Z"
   },
   {
    "duration": 161,
    "start_time": "2022-12-15T09:01:47.369Z"
   },
   {
    "duration": 149,
    "start_time": "2022-12-15T09:01:47.532Z"
   },
   {
    "duration": 134,
    "start_time": "2022-12-15T09:01:47.683Z"
   },
   {
    "duration": 138,
    "start_time": "2022-12-15T09:01:47.819Z"
   },
   {
    "duration": 189,
    "start_time": "2022-12-15T09:01:47.959Z"
   },
   {
    "duration": 136,
    "start_time": "2022-12-15T09:01:48.150Z"
   },
   {
    "duration": 161,
    "start_time": "2022-12-15T09:01:48.287Z"
   },
   {
    "duration": 158,
    "start_time": "2022-12-15T09:01:48.450Z"
   },
   {
    "duration": 137,
    "start_time": "2022-12-15T09:01:48.610Z"
   },
   {
    "duration": 157,
    "start_time": "2022-12-15T09:01:48.749Z"
   },
   {
    "duration": 184,
    "start_time": "2022-12-15T09:01:48.908Z"
   },
   {
    "duration": 191,
    "start_time": "2022-12-15T09:01:49.094Z"
   },
   {
    "duration": 171,
    "start_time": "2022-12-15T09:01:49.287Z"
   },
   {
    "duration": 163,
    "start_time": "2022-12-15T09:01:49.460Z"
   },
   {
    "duration": 145,
    "start_time": "2022-12-15T09:01:49.624Z"
   },
   {
    "duration": 144,
    "start_time": "2022-12-15T09:01:49.771Z"
   },
   {
    "duration": 190,
    "start_time": "2022-12-15T09:01:49.917Z"
   },
   {
    "duration": 10,
    "start_time": "2022-12-15T09:01:50.108Z"
   },
   {
    "duration": 12,
    "start_time": "2022-12-15T09:01:50.120Z"
   },
   {
    "duration": 69,
    "start_time": "2022-12-15T09:52:16.403Z"
   },
   {
    "duration": 3509,
    "start_time": "2022-12-15T09:52:19.379Z"
   },
   {
    "duration": 11,
    "start_time": "2022-12-15T09:52:22.891Z"
   },
   {
    "duration": 154,
    "start_time": "2022-12-15T09:52:22.903Z"
   },
   {
    "duration": 25,
    "start_time": "2022-12-15T09:52:23.059Z"
   },
   {
    "duration": 3,
    "start_time": "2022-12-15T09:52:23.085Z"
   },
   {
    "duration": 51,
    "start_time": "2022-12-15T09:52:23.090Z"
   },
   {
    "duration": 36,
    "start_time": "2022-12-15T09:52:23.143Z"
   },
   {
    "duration": 40,
    "start_time": "2022-12-15T09:52:23.180Z"
   },
   {
    "duration": 6,
    "start_time": "2022-12-15T09:52:23.221Z"
   },
   {
    "duration": 26,
    "start_time": "2022-12-15T09:52:23.229Z"
   },
   {
    "duration": 8,
    "start_time": "2022-12-15T09:52:23.257Z"
   },
   {
    "duration": 22,
    "start_time": "2022-12-15T09:52:23.267Z"
   },
   {
    "duration": 64,
    "start_time": "2022-12-15T09:52:23.315Z"
   },
   {
    "duration": 117,
    "start_time": "2022-12-15T09:52:23.380Z"
   },
   {
    "duration": 120,
    "start_time": "2022-12-15T09:52:23.499Z"
   },
   {
    "duration": 117,
    "start_time": "2022-12-15T09:52:23.621Z"
   },
   {
    "duration": 111,
    "start_time": "2022-12-15T09:52:23.739Z"
   },
   {
    "duration": 16,
    "start_time": "2022-12-15T09:52:23.853Z"
   },
   {
    "duration": 14,
    "start_time": "2022-12-15T09:52:23.870Z"
   },
   {
    "duration": 10,
    "start_time": "2022-12-15T09:52:23.885Z"
   },
   {
    "duration": 41,
    "start_time": "2022-12-15T09:52:23.897Z"
   },
   {
    "duration": 114,
    "start_time": "2022-12-15T09:52:23.940Z"
   },
   {
    "duration": 26,
    "start_time": "2022-12-15T09:52:24.056Z"
   },
   {
    "duration": 37,
    "start_time": "2022-12-15T09:52:24.083Z"
   },
   {
    "duration": 466,
    "start_time": "2022-12-15T09:52:24.122Z"
   },
   {
    "duration": 28,
    "start_time": "2022-12-15T09:52:24.590Z"
   },
   {
    "duration": 21,
    "start_time": "2022-12-15T09:52:24.620Z"
   },
   {
    "duration": 157,
    "start_time": "2022-12-15T09:52:24.644Z"
   },
   {
    "duration": 140,
    "start_time": "2022-12-15T09:52:24.803Z"
   },
   {
    "duration": 164,
    "start_time": "2022-12-15T09:52:24.944Z"
   },
   {
    "duration": 149,
    "start_time": "2022-12-15T09:52:25.109Z"
   },
   {
    "duration": 20,
    "start_time": "2022-12-15T09:52:25.259Z"
   },
   {
    "duration": 174,
    "start_time": "2022-12-15T09:52:25.281Z"
   },
   {
    "duration": 174,
    "start_time": "2022-12-15T09:52:25.456Z"
   },
   {
    "duration": 156,
    "start_time": "2022-12-15T09:52:25.632Z"
   },
   {
    "duration": 8,
    "start_time": "2022-12-15T09:52:25.790Z"
   },
   {
    "duration": 155,
    "start_time": "2022-12-15T09:52:25.800Z"
   },
   {
    "duration": 231,
    "start_time": "2022-12-15T09:52:25.957Z"
   },
   {
    "duration": 193,
    "start_time": "2022-12-15T09:52:26.190Z"
   },
   {
    "duration": 203,
    "start_time": "2022-12-15T09:52:26.385Z"
   },
   {
    "duration": 127,
    "start_time": "2022-12-15T09:52:26.589Z"
   },
   {
    "duration": 138,
    "start_time": "2022-12-15T09:52:26.718Z"
   },
   {
    "duration": 151,
    "start_time": "2022-12-15T09:52:26.858Z"
   },
   {
    "duration": 129,
    "start_time": "2022-12-15T09:52:27.010Z"
   },
   {
    "duration": 158,
    "start_time": "2022-12-15T09:52:27.140Z"
   },
   {
    "duration": 163,
    "start_time": "2022-12-15T09:52:27.301Z"
   },
   {
    "duration": 149,
    "start_time": "2022-12-15T09:52:27.466Z"
   },
   {
    "duration": 164,
    "start_time": "2022-12-15T09:52:27.617Z"
   },
   {
    "duration": 187,
    "start_time": "2022-12-15T09:52:27.783Z"
   },
   {
    "duration": 183,
    "start_time": "2022-12-15T09:52:27.972Z"
   },
   {
    "duration": 170,
    "start_time": "2022-12-15T09:52:28.156Z"
   },
   {
    "duration": 178,
    "start_time": "2022-12-15T09:52:28.328Z"
   },
   {
    "duration": 261,
    "start_time": "2022-12-15T09:52:28.508Z"
   },
   {
    "duration": 146,
    "start_time": "2022-12-15T09:52:28.771Z"
   },
   {
    "duration": 196,
    "start_time": "2022-12-15T09:52:28.919Z"
   },
   {
    "duration": 8,
    "start_time": "2022-12-15T09:52:29.117Z"
   },
   {
    "duration": 6,
    "start_time": "2022-12-15T09:52:29.126Z"
   },
   {
    "duration": 6,
    "start_time": "2022-12-15T09:54:19.704Z"
   },
   {
    "duration": 44,
    "start_time": "2022-12-15T09:54:59.210Z"
   },
   {
    "duration": 2888,
    "start_time": "2022-12-15T10:14:08.248Z"
   },
   {
    "duration": 16,
    "start_time": "2022-12-15T10:14:11.139Z"
   },
   {
    "duration": 145,
    "start_time": "2022-12-15T10:14:11.159Z"
   },
   {
    "duration": 32,
    "start_time": "2022-12-15T10:14:11.315Z"
   },
   {
    "duration": 3,
    "start_time": "2022-12-15T10:14:11.349Z"
   },
   {
    "duration": 43,
    "start_time": "2022-12-15T10:14:11.354Z"
   },
   {
    "duration": 48,
    "start_time": "2022-12-15T10:14:11.399Z"
   },
   {
    "duration": 6,
    "start_time": "2022-12-15T10:14:11.448Z"
   },
   {
    "duration": 8,
    "start_time": "2022-12-15T10:14:11.455Z"
   },
   {
    "duration": 51,
    "start_time": "2022-12-15T10:14:11.466Z"
   },
   {
    "duration": 9,
    "start_time": "2022-12-15T10:14:11.519Z"
   },
   {
    "duration": 13,
    "start_time": "2022-12-15T10:14:11.529Z"
   },
   {
    "duration": 76,
    "start_time": "2022-12-15T10:14:11.544Z"
   },
   {
    "duration": 114,
    "start_time": "2022-12-15T10:14:11.622Z"
   },
   {
    "duration": 120,
    "start_time": "2022-12-15T10:14:11.738Z"
   },
   {
    "duration": 104,
    "start_time": "2022-12-15T10:14:11.860Z"
   },
   {
    "duration": 125,
    "start_time": "2022-12-15T10:14:11.966Z"
   },
   {
    "duration": 38,
    "start_time": "2022-12-15T10:14:12.093Z"
   },
   {
    "duration": 10,
    "start_time": "2022-12-15T10:14:12.133Z"
   },
   {
    "duration": 18,
    "start_time": "2022-12-15T10:14:12.145Z"
   },
   {
    "duration": 56,
    "start_time": "2022-12-15T10:14:12.165Z"
   },
   {
    "duration": 36,
    "start_time": "2022-12-15T10:14:12.223Z"
   },
   {
    "duration": 26,
    "start_time": "2022-12-15T10:14:12.261Z"
   },
   {
    "duration": 47,
    "start_time": "2022-12-15T10:14:12.289Z"
   },
   {
    "duration": 519,
    "start_time": "2022-12-15T10:14:12.338Z"
   },
   {
    "duration": 22,
    "start_time": "2022-12-15T10:14:12.859Z"
   },
   {
    "duration": 41,
    "start_time": "2022-12-15T10:14:12.882Z"
   },
   {
    "duration": 149,
    "start_time": "2022-12-15T10:14:12.927Z"
   },
   {
    "duration": 149,
    "start_time": "2022-12-15T10:14:13.077Z"
   },
   {
    "duration": 164,
    "start_time": "2022-12-15T10:14:13.228Z"
   },
   {
    "duration": 143,
    "start_time": "2022-12-15T10:14:13.393Z"
   },
   {
    "duration": 16,
    "start_time": "2022-12-15T10:14:13.538Z"
   },
   {
    "duration": 150,
    "start_time": "2022-12-15T10:14:13.556Z"
   },
   {
    "duration": 167,
    "start_time": "2022-12-15T10:14:13.707Z"
   },
   {
    "duration": 175,
    "start_time": "2022-12-15T10:14:13.876Z"
   },
   {
    "duration": 12,
    "start_time": "2022-12-15T10:14:14.054Z"
   },
   {
    "duration": 187,
    "start_time": "2022-12-15T10:14:14.068Z"
   },
   {
    "duration": 154,
    "start_time": "2022-12-15T10:14:14.258Z"
   },
   {
    "duration": 160,
    "start_time": "2022-12-15T10:14:14.415Z"
   },
   {
    "duration": 228,
    "start_time": "2022-12-15T10:14:14.577Z"
   },
   {
    "duration": 123,
    "start_time": "2022-12-15T10:14:14.807Z"
   },
   {
    "duration": 136,
    "start_time": "2022-12-15T10:14:14.932Z"
   },
   {
    "duration": 161,
    "start_time": "2022-12-15T10:14:15.070Z"
   },
   {
    "duration": 150,
    "start_time": "2022-12-15T10:14:15.232Z"
   },
   {
    "duration": 167,
    "start_time": "2022-12-15T10:14:15.384Z"
   },
   {
    "duration": 151,
    "start_time": "2022-12-15T10:14:15.552Z"
   },
   {
    "duration": 139,
    "start_time": "2022-12-15T10:14:15.704Z"
   },
   {
    "duration": 164,
    "start_time": "2022-12-15T10:14:15.845Z"
   },
   {
    "duration": 179,
    "start_time": "2022-12-15T10:14:16.015Z"
   },
   {
    "duration": 212,
    "start_time": "2022-12-15T10:14:16.196Z"
   },
   {
    "duration": 186,
    "start_time": "2022-12-15T10:14:16.415Z"
   },
   {
    "duration": 172,
    "start_time": "2022-12-15T10:14:16.604Z"
   },
   {
    "duration": 157,
    "start_time": "2022-12-15T10:14:16.778Z"
   },
   {
    "duration": 150,
    "start_time": "2022-12-15T10:14:16.937Z"
   },
   {
    "duration": 213,
    "start_time": "2022-12-15T10:14:17.089Z"
   },
   {
    "duration": 43,
    "start_time": "2022-12-15T10:14:17.305Z"
   },
   {
    "duration": 0,
    "start_time": "2022-12-15T10:14:17.350Z"
   },
   {
    "duration": 49,
    "start_time": "2022-12-15T10:14:41.456Z"
   },
   {
    "duration": 51,
    "start_time": "2022-12-15T10:14:51.810Z"
   },
   {
    "duration": 134,
    "start_time": "2022-12-15T10:15:06.353Z"
   },
   {
    "duration": 51,
    "start_time": "2022-12-15T10:15:20.877Z"
   },
   {
    "duration": 95,
    "start_time": "2022-12-15T10:15:59.289Z"
   },
   {
    "duration": 44,
    "start_time": "2022-12-15T10:16:16.533Z"
   },
   {
    "duration": 35,
    "start_time": "2022-12-15T10:16:32.403Z"
   },
   {
    "duration": 29,
    "start_time": "2022-12-15T10:16:39.284Z"
   },
   {
    "duration": 55,
    "start_time": "2022-12-15T10:36:27.601Z"
   },
   {
    "duration": 47,
    "start_time": "2022-12-15T10:36:38.384Z"
   },
   {
    "duration": 29,
    "start_time": "2022-12-15T10:36:55.372Z"
   },
   {
    "duration": 40,
    "start_time": "2022-12-15T10:37:28.061Z"
   },
   {
    "duration": 70,
    "start_time": "2022-12-15T10:40:29.895Z"
   },
   {
    "duration": 62,
    "start_time": "2022-12-15T10:40:43.055Z"
   },
   {
    "duration": 69,
    "start_time": "2022-12-15T10:40:56.277Z"
   },
   {
    "duration": 54,
    "start_time": "2022-12-15T10:41:04.875Z"
   },
   {
    "duration": 20,
    "start_time": "2022-12-15T10:41:13.277Z"
   },
   {
    "duration": 30,
    "start_time": "2022-12-15T10:41:19.803Z"
   },
   {
    "duration": 189,
    "start_time": "2022-12-15T10:42:05.232Z"
   },
   {
    "duration": 219,
    "start_time": "2022-12-15T10:42:44.232Z"
   },
   {
    "duration": 663,
    "start_time": "2022-12-15T10:56:47.346Z"
   },
   {
    "duration": 217,
    "start_time": "2022-12-15T10:56:57.559Z"
   },
   {
    "duration": 219,
    "start_time": "2022-12-15T10:57:49.836Z"
   },
   {
    "duration": 38,
    "start_time": "2022-12-15T10:58:30.783Z"
   },
   {
    "duration": 52,
    "start_time": "2022-12-15T10:59:57.882Z"
   },
   {
    "duration": 97,
    "start_time": "2022-12-15T11:00:01.951Z"
   },
   {
    "duration": 56,
    "start_time": "2022-12-15T11:00:09.555Z"
   },
   {
    "duration": 34,
    "start_time": "2022-12-15T11:00:17.471Z"
   },
   {
    "duration": 231,
    "start_time": "2022-12-15T11:00:27.198Z"
   },
   {
    "duration": 46,
    "start_time": "2022-12-15T16:03:37.057Z"
   },
   {
    "duration": 235,
    "start_time": "2022-12-15T16:04:41.452Z"
   },
   {
    "duration": 231,
    "start_time": "2022-12-15T16:04:49.078Z"
   },
   {
    "duration": 289,
    "start_time": "2022-12-15T16:05:24.889Z"
   },
   {
    "duration": 263,
    "start_time": "2022-12-15T16:06:01.376Z"
   },
   {
    "duration": 25,
    "start_time": "2022-12-15T16:26:46.047Z"
   },
   {
    "duration": 21,
    "start_time": "2022-12-15T16:27:49.133Z"
   },
   {
    "duration": 15,
    "start_time": "2022-12-15T16:28:26.677Z"
   },
   {
    "duration": 22,
    "start_time": "2022-12-15T16:28:43.234Z"
   },
   {
    "duration": 13,
    "start_time": "2022-12-15T16:54:21.421Z"
   },
   {
    "duration": 15,
    "start_time": "2022-12-15T17:00:36.154Z"
   },
   {
    "duration": 20,
    "start_time": "2022-12-15T17:01:36.023Z"
   },
   {
    "duration": 19,
    "start_time": "2022-12-15T17:06:45.241Z"
   },
   {
    "duration": 15,
    "start_time": "2022-12-15T17:06:50.498Z"
   },
   {
    "duration": 10,
    "start_time": "2022-12-15T17:14:18.539Z"
   },
   {
    "duration": 17,
    "start_time": "2022-12-15T17:15:52.383Z"
   },
   {
    "duration": 72,
    "start_time": "2022-12-15T19:16:45.747Z"
   },
   {
    "duration": 72,
    "start_time": "2022-12-15T19:16:58.486Z"
   },
   {
    "duration": 41,
    "start_time": "2022-12-15T19:17:05.480Z"
   },
   {
    "duration": 3099,
    "start_time": "2022-12-15T19:17:08.974Z"
   },
   {
    "duration": 11,
    "start_time": "2022-12-15T19:17:12.075Z"
   },
   {
    "duration": 166,
    "start_time": "2022-12-15T19:17:12.089Z"
   },
   {
    "duration": 20,
    "start_time": "2022-12-15T19:17:12.257Z"
   },
   {
    "duration": 3,
    "start_time": "2022-12-15T19:17:12.278Z"
   },
   {
    "duration": 42,
    "start_time": "2022-12-15T19:17:12.282Z"
   },
   {
    "duration": 30,
    "start_time": "2022-12-15T19:17:12.325Z"
   },
   {
    "duration": 5,
    "start_time": "2022-12-15T19:17:12.357Z"
   },
   {
    "duration": 6,
    "start_time": "2022-12-15T19:17:12.363Z"
   },
   {
    "duration": 56,
    "start_time": "2022-12-15T19:17:12.371Z"
   },
   {
    "duration": 7,
    "start_time": "2022-12-15T19:17:12.429Z"
   },
   {
    "duration": 19,
    "start_time": "2022-12-15T19:17:12.438Z"
   },
   {
    "duration": 69,
    "start_time": "2022-12-15T19:17:12.459Z"
   },
   {
    "duration": 116,
    "start_time": "2022-12-15T19:17:12.530Z"
   },
   {
    "duration": 118,
    "start_time": "2022-12-15T19:17:12.648Z"
   },
   {
    "duration": 104,
    "start_time": "2022-12-15T19:17:12.767Z"
   },
   {
    "duration": 112,
    "start_time": "2022-12-15T19:17:12.873Z"
   },
   {
    "duration": 26,
    "start_time": "2022-12-15T19:17:12.987Z"
   },
   {
    "duration": 7,
    "start_time": "2022-12-15T19:17:13.015Z"
   },
   {
    "duration": 13,
    "start_time": "2022-12-15T19:17:13.024Z"
   },
   {
    "duration": 28,
    "start_time": "2022-12-15T19:17:13.039Z"
   },
   {
    "duration": 128,
    "start_time": "2022-12-15T19:17:13.069Z"
   },
   {
    "duration": 32,
    "start_time": "2022-12-15T19:17:13.199Z"
   },
   {
    "duration": 25,
    "start_time": "2022-12-15T19:17:13.233Z"
   },
   {
    "duration": 440,
    "start_time": "2022-12-15T19:17:13.260Z"
   },
   {
    "duration": 27,
    "start_time": "2022-12-15T19:17:13.702Z"
   },
   {
    "duration": 22,
    "start_time": "2022-12-15T19:17:13.730Z"
   },
   {
    "duration": 142,
    "start_time": "2022-12-15T19:17:13.755Z"
   },
   {
    "duration": 147,
    "start_time": "2022-12-15T19:17:13.899Z"
   },
   {
    "duration": 152,
    "start_time": "2022-12-15T19:17:14.048Z"
   },
   {
    "duration": 149,
    "start_time": "2022-12-15T19:17:14.202Z"
   },
   {
    "duration": 17,
    "start_time": "2022-12-15T19:17:14.352Z"
   },
   {
    "duration": 148,
    "start_time": "2022-12-15T19:17:14.370Z"
   },
   {
    "duration": 155,
    "start_time": "2022-12-15T19:17:14.520Z"
   },
   {
    "duration": 151,
    "start_time": "2022-12-15T19:17:14.677Z"
   },
   {
    "duration": 9,
    "start_time": "2022-12-15T19:17:14.829Z"
   },
   {
    "duration": 160,
    "start_time": "2022-12-15T19:17:14.840Z"
   },
   {
    "duration": 225,
    "start_time": "2022-12-15T19:17:15.002Z"
   },
   {
    "duration": 134,
    "start_time": "2022-12-15T19:17:15.228Z"
   },
   {
    "duration": 139,
    "start_time": "2022-12-15T19:17:15.364Z"
   },
   {
    "duration": 123,
    "start_time": "2022-12-15T19:17:15.504Z"
   },
   {
    "duration": 136,
    "start_time": "2022-12-15T19:17:15.629Z"
   },
   {
    "duration": 135,
    "start_time": "2022-12-15T19:17:15.767Z"
   },
   {
    "duration": 118,
    "start_time": "2022-12-15T19:17:15.913Z"
   },
   {
    "duration": 146,
    "start_time": "2022-12-15T19:17:16.033Z"
   },
   {
    "duration": 141,
    "start_time": "2022-12-15T19:17:16.181Z"
   },
   {
    "duration": 141,
    "start_time": "2022-12-15T19:17:16.324Z"
   },
   {
    "duration": 161,
    "start_time": "2022-12-15T19:17:16.467Z"
   },
   {
    "duration": 167,
    "start_time": "2022-12-15T19:17:16.630Z"
   },
   {
    "duration": 186,
    "start_time": "2022-12-15T19:17:16.799Z"
   },
   {
    "duration": 166,
    "start_time": "2022-12-15T19:17:16.987Z"
   },
   {
    "duration": 159,
    "start_time": "2022-12-15T19:17:17.155Z"
   },
   {
    "duration": 252,
    "start_time": "2022-12-15T19:17:17.316Z"
   },
   {
    "duration": 133,
    "start_time": "2022-12-15T19:17:17.569Z"
   },
   {
    "duration": 175,
    "start_time": "2022-12-15T19:17:17.713Z"
   },
   {
    "duration": 243,
    "start_time": "2022-12-15T19:17:17.889Z"
   },
   {
    "duration": 14,
    "start_time": "2022-12-15T19:17:18.134Z"
   },
   {
    "duration": 16,
    "start_time": "2022-12-15T19:17:59.288Z"
   },
   {
    "duration": 15,
    "start_time": "2022-12-15T19:19:02.599Z"
   },
   {
    "duration": 42,
    "start_time": "2022-12-15T19:21:25.619Z"
   },
   {
    "duration": 16,
    "start_time": "2022-12-15T19:22:09.923Z"
   },
   {
    "duration": 10,
    "start_time": "2022-12-15T19:22:16.117Z"
   },
   {
    "duration": 15,
    "start_time": "2022-12-15T19:24:11.922Z"
   },
   {
    "duration": 22,
    "start_time": "2022-12-15T19:24:19.071Z"
   },
   {
    "duration": 69,
    "start_time": "2022-12-15T19:25:39.770Z"
   },
   {
    "duration": 69,
    "start_time": "2022-12-15T19:25:47.408Z"
   },
   {
    "duration": 93,
    "start_time": "2022-12-15T19:29:39.521Z"
   },
   {
    "duration": 20,
    "start_time": "2022-12-15T19:30:10.574Z"
   },
   {
    "duration": 153,
    "start_time": "2022-12-15T19:30:55.082Z"
   },
   {
    "duration": 14,
    "start_time": "2022-12-15T19:31:26.301Z"
   },
   {
    "duration": 13,
    "start_time": "2022-12-15T19:32:03.777Z"
   },
   {
    "duration": 20,
    "start_time": "2022-12-15T19:32:15.273Z"
   },
   {
    "duration": 4,
    "start_time": "2022-12-15T19:33:16.053Z"
   },
   {
    "duration": 21,
    "start_time": "2022-12-15T19:35:36.882Z"
   },
   {
    "duration": 19,
    "start_time": "2022-12-15T19:35:46.559Z"
   },
   {
    "duration": 145,
    "start_time": "2022-12-15T19:36:04.437Z"
   },
   {
    "duration": 164,
    "start_time": "2022-12-15T19:36:17.317Z"
   },
   {
    "duration": 163,
    "start_time": "2022-12-15T19:36:28.740Z"
   },
   {
    "duration": 213,
    "start_time": "2022-12-15T19:36:54.516Z"
   },
   {
    "duration": 177,
    "start_time": "2022-12-15T19:37:05.330Z"
   },
   {
    "duration": 200,
    "start_time": "2022-12-15T19:45:59.127Z"
   },
   {
    "duration": 184,
    "start_time": "2022-12-15T19:46:12.107Z"
   },
   {
    "duration": 172,
    "start_time": "2022-12-15T19:52:11.630Z"
   },
   {
    "duration": 174,
    "start_time": "2022-12-15T19:52:21.148Z"
   },
   {
    "duration": 197,
    "start_time": "2022-12-15T19:52:32.064Z"
   },
   {
    "duration": 23,
    "start_time": "2022-12-15T20:00:18.189Z"
   },
   {
    "duration": 173,
    "start_time": "2022-12-15T20:00:36.560Z"
   },
   {
    "duration": 7,
    "start_time": "2022-12-15T20:03:27.007Z"
   },
   {
    "duration": 7,
    "start_time": "2022-12-15T20:04:09.511Z"
   },
   {
    "duration": 2210,
    "start_time": "2022-12-15T20:04:16.767Z"
   },
   {
    "duration": 10,
    "start_time": "2022-12-15T20:04:18.979Z"
   },
   {
    "duration": 172,
    "start_time": "2022-12-15T20:04:18.990Z"
   },
   {
    "duration": 19,
    "start_time": "2022-12-15T20:04:19.165Z"
   },
   {
    "duration": 3,
    "start_time": "2022-12-15T20:04:19.186Z"
   },
   {
    "duration": 51,
    "start_time": "2022-12-15T20:04:19.191Z"
   },
   {
    "duration": 38,
    "start_time": "2022-12-15T20:04:19.244Z"
   },
   {
    "duration": 33,
    "start_time": "2022-12-15T20:04:19.284Z"
   },
   {
    "duration": 5,
    "start_time": "2022-12-15T20:04:19.319Z"
   },
   {
    "duration": 14,
    "start_time": "2022-12-15T20:04:19.327Z"
   },
   {
    "duration": 8,
    "start_time": "2022-12-15T20:04:19.342Z"
   },
   {
    "duration": 12,
    "start_time": "2022-12-15T20:04:19.351Z"
   },
   {
    "duration": 84,
    "start_time": "2022-12-15T20:04:19.365Z"
   },
   {
    "duration": 122,
    "start_time": "2022-12-15T20:04:19.451Z"
   },
   {
    "duration": 112,
    "start_time": "2022-12-15T20:04:19.574Z"
   },
   {
    "duration": 107,
    "start_time": "2022-12-15T20:04:19.688Z"
   },
   {
    "duration": 117,
    "start_time": "2022-12-15T20:04:19.797Z"
   },
   {
    "duration": 14,
    "start_time": "2022-12-15T20:04:19.916Z"
   },
   {
    "duration": 7,
    "start_time": "2022-12-15T20:04:19.932Z"
   },
   {
    "duration": 11,
    "start_time": "2022-12-15T20:04:19.941Z"
   },
   {
    "duration": 26,
    "start_time": "2022-12-15T20:04:19.954Z"
   },
   {
    "duration": 57,
    "start_time": "2022-12-15T20:04:19.981Z"
   },
   {
    "duration": 27,
    "start_time": "2022-12-15T20:04:20.039Z"
   },
   {
    "duration": 46,
    "start_time": "2022-12-15T20:04:20.068Z"
   },
   {
    "duration": 591,
    "start_time": "2022-12-15T20:04:20.116Z"
   },
   {
    "duration": 25,
    "start_time": "2022-12-15T20:04:20.709Z"
   },
   {
    "duration": 23,
    "start_time": "2022-12-15T20:04:20.735Z"
   },
   {
    "duration": 164,
    "start_time": "2022-12-15T20:04:20.763Z"
   },
   {
    "duration": 146,
    "start_time": "2022-12-15T20:04:20.929Z"
   },
   {
    "duration": 153,
    "start_time": "2022-12-15T20:04:21.077Z"
   },
   {
    "duration": 140,
    "start_time": "2022-12-15T20:04:21.232Z"
   },
   {
    "duration": 17,
    "start_time": "2022-12-15T20:04:21.374Z"
   },
   {
    "duration": 159,
    "start_time": "2022-12-15T20:04:21.392Z"
   },
   {
    "duration": 146,
    "start_time": "2022-12-15T20:04:21.553Z"
   },
   {
    "duration": 166,
    "start_time": "2022-12-15T20:04:21.701Z"
   },
   {
    "duration": 9,
    "start_time": "2022-12-15T20:04:21.869Z"
   },
   {
    "duration": 171,
    "start_time": "2022-12-15T20:04:21.880Z"
   },
   {
    "duration": 145,
    "start_time": "2022-12-15T20:04:22.053Z"
   },
   {
    "duration": 136,
    "start_time": "2022-12-15T20:04:22.200Z"
   },
   {
    "duration": 146,
    "start_time": "2022-12-15T20:04:22.338Z"
   },
   {
    "duration": 117,
    "start_time": "2022-12-15T20:04:22.485Z"
   },
   {
    "duration": 130,
    "start_time": "2022-12-15T20:04:22.604Z"
   },
   {
    "duration": 148,
    "start_time": "2022-12-15T20:04:22.736Z"
   },
   {
    "duration": 129,
    "start_time": "2022-12-15T20:04:22.886Z"
   },
   {
    "duration": 150,
    "start_time": "2022-12-15T20:04:23.016Z"
   },
   {
    "duration": 144,
    "start_time": "2022-12-15T20:04:23.168Z"
   },
   {
    "duration": 130,
    "start_time": "2022-12-15T20:04:23.314Z"
   },
   {
    "duration": 156,
    "start_time": "2022-12-15T20:04:23.446Z"
   },
   {
    "duration": 178,
    "start_time": "2022-12-15T20:04:23.604Z"
   },
   {
    "duration": 178,
    "start_time": "2022-12-15T20:04:23.784Z"
   },
   {
    "duration": 163,
    "start_time": "2022-12-15T20:04:23.964Z"
   },
   {
    "duration": 161,
    "start_time": "2022-12-15T20:04:24.129Z"
   },
   {
    "duration": 320,
    "start_time": "2022-12-15T20:04:24.292Z"
   },
   {
    "duration": 155,
    "start_time": "2022-12-15T20:04:24.614Z"
   },
   {
    "duration": 179,
    "start_time": "2022-12-15T20:04:24.771Z"
   },
   {
    "duration": 237,
    "start_time": "2022-12-15T20:04:24.961Z"
   },
   {
    "duration": 192,
    "start_time": "2022-12-15T20:04:25.201Z"
   },
   {
    "duration": 206,
    "start_time": "2022-12-15T20:04:25.394Z"
   },
   {
    "duration": 13,
    "start_time": "2022-12-15T20:04:25.602Z"
   },
   {
    "duration": 2110,
    "start_time": "2022-12-15T20:04:43.448Z"
   },
   {
    "duration": 9,
    "start_time": "2022-12-15T20:04:45.561Z"
   },
   {
    "duration": 145,
    "start_time": "2022-12-15T20:04:45.572Z"
   },
   {
    "duration": 18,
    "start_time": "2022-12-15T20:04:45.719Z"
   },
   {
    "duration": 3,
    "start_time": "2022-12-15T20:04:45.739Z"
   },
   {
    "duration": 30,
    "start_time": "2022-12-15T20:04:45.743Z"
   },
   {
    "duration": 60,
    "start_time": "2022-12-15T20:04:45.775Z"
   },
   {
    "duration": 6,
    "start_time": "2022-12-15T20:04:45.836Z"
   },
   {
    "duration": 4,
    "start_time": "2022-12-15T20:04:45.844Z"
   },
   {
    "duration": 21,
    "start_time": "2022-12-15T20:04:45.851Z"
   },
   {
    "duration": 40,
    "start_time": "2022-12-15T20:04:45.873Z"
   },
   {
    "duration": 11,
    "start_time": "2022-12-15T20:04:45.914Z"
   },
   {
    "duration": 56,
    "start_time": "2022-12-15T20:04:45.926Z"
   },
   {
    "duration": 131,
    "start_time": "2022-12-15T20:04:45.983Z"
   },
   {
    "duration": 110,
    "start_time": "2022-12-15T20:04:46.116Z"
   },
   {
    "duration": 103,
    "start_time": "2022-12-15T20:04:46.228Z"
   },
   {
    "duration": 115,
    "start_time": "2022-12-15T20:04:46.333Z"
   },
   {
    "duration": 13,
    "start_time": "2022-12-15T20:04:46.449Z"
   },
   {
    "duration": 6,
    "start_time": "2022-12-15T20:04:46.464Z"
   },
   {
    "duration": 8,
    "start_time": "2022-12-15T20:04:46.472Z"
   },
   {
    "duration": 46,
    "start_time": "2022-12-15T20:04:46.481Z"
   },
   {
    "duration": 28,
    "start_time": "2022-12-15T20:04:46.529Z"
   },
   {
    "duration": 26,
    "start_time": "2022-12-15T20:04:46.559Z"
   },
   {
    "duration": 45,
    "start_time": "2022-12-15T20:04:46.587Z"
   },
   {
    "duration": 632,
    "start_time": "2022-12-15T20:04:46.634Z"
   },
   {
    "duration": 23,
    "start_time": "2022-12-15T20:04:47.268Z"
   },
   {
    "duration": 35,
    "start_time": "2022-12-15T20:04:47.292Z"
   },
   {
    "duration": 151,
    "start_time": "2022-12-15T20:04:47.331Z"
   },
   {
    "duration": 145,
    "start_time": "2022-12-15T20:04:47.483Z"
   },
   {
    "duration": 148,
    "start_time": "2022-12-15T20:04:47.629Z"
   },
   {
    "duration": 136,
    "start_time": "2022-12-15T20:04:47.779Z"
   },
   {
    "duration": 17,
    "start_time": "2022-12-15T20:04:47.917Z"
   },
   {
    "duration": 154,
    "start_time": "2022-12-15T20:04:47.935Z"
   },
   {
    "duration": 149,
    "start_time": "2022-12-15T20:04:48.091Z"
   },
   {
    "duration": 145,
    "start_time": "2022-12-15T20:04:48.242Z"
   },
   {
    "duration": 8,
    "start_time": "2022-12-15T20:04:48.389Z"
   },
   {
    "duration": 146,
    "start_time": "2022-12-15T20:04:48.399Z"
   },
   {
    "duration": 150,
    "start_time": "2022-12-15T20:04:48.546Z"
   },
   {
    "duration": 132,
    "start_time": "2022-12-15T20:04:48.697Z"
   },
   {
    "duration": 140,
    "start_time": "2022-12-15T20:04:48.831Z"
   },
   {
    "duration": 117,
    "start_time": "2022-12-15T20:04:48.973Z"
   },
   {
    "duration": 152,
    "start_time": "2022-12-15T20:04:49.092Z"
   },
   {
    "duration": 151,
    "start_time": "2022-12-15T20:04:49.246Z"
   },
   {
    "duration": 129,
    "start_time": "2022-12-15T20:04:49.398Z"
   },
   {
    "duration": 154,
    "start_time": "2022-12-15T20:04:49.529Z"
   },
   {
    "duration": 140,
    "start_time": "2022-12-15T20:04:49.685Z"
   },
   {
    "duration": 130,
    "start_time": "2022-12-15T20:04:49.827Z"
   },
   {
    "duration": 156,
    "start_time": "2022-12-15T20:04:49.959Z"
   },
   {
    "duration": 199,
    "start_time": "2022-12-15T20:04:50.117Z"
   },
   {
    "duration": 198,
    "start_time": "2022-12-15T20:04:50.318Z"
   },
   {
    "duration": 165,
    "start_time": "2022-12-15T20:04:50.518Z"
   },
   {
    "duration": 163,
    "start_time": "2022-12-15T20:04:50.685Z"
   },
   {
    "duration": 143,
    "start_time": "2022-12-15T20:04:50.850Z"
   },
   {
    "duration": 131,
    "start_time": "2022-12-15T20:04:50.995Z"
   },
   {
    "duration": 186,
    "start_time": "2022-12-15T20:04:51.127Z"
   },
   {
    "duration": 234,
    "start_time": "2022-12-15T20:04:51.315Z"
   },
   {
    "duration": 192,
    "start_time": "2022-12-15T20:04:51.551Z"
   },
   {
    "duration": 189,
    "start_time": "2022-12-15T20:04:51.744Z"
   },
   {
    "duration": 9,
    "start_time": "2022-12-15T20:04:51.934Z"
   },
   {
    "duration": 9,
    "start_time": "2022-12-15T20:07:06.779Z"
   },
   {
    "duration": 9,
    "start_time": "2022-12-15T20:07:18.361Z"
   },
   {
    "duration": 29,
    "start_time": "2022-12-15T20:07:49.570Z"
   },
   {
    "duration": 11,
    "start_time": "2022-12-15T20:08:01.854Z"
   },
   {
    "duration": 36,
    "start_time": "2022-12-15T20:09:42.124Z"
   },
   {
    "duration": 36,
    "start_time": "2022-12-15T20:09:59.445Z"
   },
   {
    "duration": 35,
    "start_time": "2022-12-15T20:26:54.514Z"
   },
   {
    "duration": 32,
    "start_time": "2022-12-15T20:27:04.575Z"
   },
   {
    "duration": 7,
    "start_time": "2022-12-15T20:27:07.039Z"
   },
   {
    "duration": 8,
    "start_time": "2022-12-15T20:27:20.542Z"
   },
   {
    "duration": 12,
    "start_time": "2022-12-15T20:27:28.915Z"
   },
   {
    "duration": 10,
    "start_time": "2022-12-15T20:27:54.101Z"
   },
   {
    "duration": 9,
    "start_time": "2022-12-15T20:28:21.356Z"
   },
   {
    "duration": 39,
    "start_time": "2022-12-15T20:28:44.431Z"
   },
   {
    "duration": 18,
    "start_time": "2022-12-15T20:29:20.204Z"
   },
   {
    "duration": 17,
    "start_time": "2022-12-15T20:30:59.296Z"
   },
   {
    "duration": 16,
    "start_time": "2022-12-15T20:31:56.628Z"
   },
   {
    "duration": 63,
    "start_time": "2022-12-15T20:32:16.159Z"
   },
   {
    "duration": 69,
    "start_time": "2022-12-15T20:32:19.408Z"
   },
   {
    "duration": 20,
    "start_time": "2022-12-15T20:32:21.984Z"
   },
   {
    "duration": 18,
    "start_time": "2022-12-15T20:32:32.970Z"
   },
   {
    "duration": 19,
    "start_time": "2022-12-15T20:32:36.711Z"
   },
   {
    "duration": 21,
    "start_time": "2022-12-15T20:32:50.724Z"
   },
   {
    "duration": 14,
    "start_time": "2022-12-15T20:33:13.483Z"
   },
   {
    "duration": 71,
    "start_time": "2022-12-15T20:33:20.707Z"
   },
   {
    "duration": 68,
    "start_time": "2022-12-15T20:33:23.896Z"
   },
   {
    "duration": 67,
    "start_time": "2022-12-15T20:33:27.601Z"
   },
   {
    "duration": 74,
    "start_time": "2022-12-15T20:33:39.481Z"
   },
   {
    "duration": 76,
    "start_time": "2022-12-15T20:33:41.706Z"
   },
   {
    "duration": 72,
    "start_time": "2022-12-15T20:33:53.066Z"
   },
   {
    "duration": 74,
    "start_time": "2022-12-15T20:34:01.288Z"
   },
   {
    "duration": 74,
    "start_time": "2022-12-15T20:34:14.297Z"
   },
   {
    "duration": 72,
    "start_time": "2022-12-15T20:34:17.843Z"
   },
   {
    "duration": 70,
    "start_time": "2022-12-15T20:34:26.769Z"
   },
   {
    "duration": 73,
    "start_time": "2022-12-15T20:34:36.558Z"
   },
   {
    "duration": 18,
    "start_time": "2022-12-15T20:34:46.070Z"
   },
   {
    "duration": 18,
    "start_time": "2022-12-15T20:34:56.502Z"
   },
   {
    "duration": 23,
    "start_time": "2022-12-15T20:35:14.693Z"
   },
   {
    "duration": 22,
    "start_time": "2022-12-15T20:35:43.833Z"
   },
   {
    "duration": 27,
    "start_time": "2022-12-15T20:51:01.930Z"
   },
   {
    "duration": 26,
    "start_time": "2022-12-15T20:52:30.015Z"
   },
   {
    "duration": 28,
    "start_time": "2022-12-15T20:55:55.038Z"
   },
   {
    "duration": 25,
    "start_time": "2022-12-15T20:56:21.765Z"
   },
   {
    "duration": 26,
    "start_time": "2022-12-15T20:59:12.148Z"
   },
   {
    "duration": 3205,
    "start_time": "2022-12-16T08:30:38.714Z"
   },
   {
    "duration": 10,
    "start_time": "2022-12-16T08:30:41.922Z"
   },
   {
    "duration": 156,
    "start_time": "2022-12-16T08:30:41.933Z"
   },
   {
    "duration": 31,
    "start_time": "2022-12-16T08:30:42.092Z"
   },
   {
    "duration": 3,
    "start_time": "2022-12-16T08:30:42.125Z"
   },
   {
    "duration": 41,
    "start_time": "2022-12-16T08:30:42.130Z"
   },
   {
    "duration": 58,
    "start_time": "2022-12-16T08:30:42.173Z"
   },
   {
    "duration": 6,
    "start_time": "2022-12-16T08:30:42.232Z"
   },
   {
    "duration": 5,
    "start_time": "2022-12-16T08:30:42.239Z"
   },
   {
    "duration": 15,
    "start_time": "2022-12-16T08:30:42.247Z"
   },
   {
    "duration": 8,
    "start_time": "2022-12-16T08:30:42.264Z"
   },
   {
    "duration": 43,
    "start_time": "2022-12-16T08:30:42.274Z"
   },
   {
    "duration": 60,
    "start_time": "2022-12-16T08:30:42.318Z"
   },
   {
    "duration": 138,
    "start_time": "2022-12-16T08:30:42.379Z"
   },
   {
    "duration": 116,
    "start_time": "2022-12-16T08:30:42.519Z"
   },
   {
    "duration": 111,
    "start_time": "2022-12-16T08:30:42.637Z"
   },
   {
    "duration": 109,
    "start_time": "2022-12-16T08:30:42.750Z"
   },
   {
    "duration": 17,
    "start_time": "2022-12-16T08:30:42.861Z"
   },
   {
    "duration": 7,
    "start_time": "2022-12-16T08:30:42.879Z"
   },
   {
    "duration": 30,
    "start_time": "2022-12-16T08:30:42.888Z"
   },
   {
    "duration": 26,
    "start_time": "2022-12-16T08:30:42.920Z"
   },
   {
    "duration": 118,
    "start_time": "2022-12-16T08:30:42.948Z"
   },
   {
    "duration": 25,
    "start_time": "2022-12-16T08:30:43.068Z"
   },
   {
    "duration": 40,
    "start_time": "2022-12-16T08:30:43.095Z"
   },
   {
    "duration": 414,
    "start_time": "2022-12-16T08:30:43.136Z"
   },
   {
    "duration": 23,
    "start_time": "2022-12-16T08:30:43.552Z"
   },
   {
    "duration": 21,
    "start_time": "2022-12-16T08:30:43.577Z"
   },
   {
    "duration": 144,
    "start_time": "2022-12-16T08:30:43.616Z"
   },
   {
    "duration": 137,
    "start_time": "2022-12-16T08:30:43.762Z"
   },
   {
    "duration": 164,
    "start_time": "2022-12-16T08:30:43.901Z"
   },
   {
    "duration": 143,
    "start_time": "2022-12-16T08:30:44.067Z"
   },
   {
    "duration": 15,
    "start_time": "2022-12-16T08:30:44.215Z"
   },
   {
    "duration": 159,
    "start_time": "2022-12-16T08:30:44.231Z"
   },
   {
    "duration": 143,
    "start_time": "2022-12-16T08:30:44.392Z"
   },
   {
    "duration": 147,
    "start_time": "2022-12-16T08:30:44.537Z"
   },
   {
    "duration": 8,
    "start_time": "2022-12-16T08:30:44.686Z"
   },
   {
    "duration": 146,
    "start_time": "2022-12-16T08:30:44.696Z"
   },
   {
    "duration": 217,
    "start_time": "2022-12-16T08:30:44.843Z"
   },
   {
    "duration": 128,
    "start_time": "2022-12-16T08:30:45.061Z"
   },
   {
    "duration": 150,
    "start_time": "2022-12-16T08:30:45.190Z"
   },
   {
    "duration": 126,
    "start_time": "2022-12-16T08:30:45.342Z"
   },
   {
    "duration": 138,
    "start_time": "2022-12-16T08:30:45.470Z"
   },
   {
    "duration": 148,
    "start_time": "2022-12-16T08:30:45.609Z"
   },
   {
    "duration": 118,
    "start_time": "2022-12-16T08:30:45.759Z"
   },
   {
    "duration": 154,
    "start_time": "2022-12-16T08:30:45.878Z"
   },
   {
    "duration": 147,
    "start_time": "2022-12-16T08:30:46.034Z"
   },
   {
    "duration": 159,
    "start_time": "2022-12-16T08:30:46.183Z"
   },
   {
    "duration": 186,
    "start_time": "2022-12-16T08:30:46.344Z"
   },
   {
    "duration": 165,
    "start_time": "2022-12-16T08:30:46.532Z"
   },
   {
    "duration": 169,
    "start_time": "2022-12-16T08:30:46.699Z"
   },
   {
    "duration": 155,
    "start_time": "2022-12-16T08:30:46.869Z"
   },
   {
    "duration": 157,
    "start_time": "2022-12-16T08:30:47.025Z"
   },
   {
    "duration": 243,
    "start_time": "2022-12-16T08:30:47.185Z"
   },
   {
    "duration": 127,
    "start_time": "2022-12-16T08:30:47.430Z"
   },
   {
    "duration": 190,
    "start_time": "2022-12-16T08:30:47.559Z"
   },
   {
    "duration": 229,
    "start_time": "2022-12-16T08:30:47.751Z"
   },
   {
    "duration": 204,
    "start_time": "2022-12-16T08:30:47.982Z"
   },
   {
    "duration": 197,
    "start_time": "2022-12-16T08:30:48.188Z"
   },
   {
    "duration": 35,
    "start_time": "2022-12-16T08:30:48.387Z"
   },
   {
    "duration": 2960,
    "start_time": "2022-12-16T17:30:20.737Z"
   },
   {
    "duration": 10,
    "start_time": "2022-12-16T17:30:23.699Z"
   },
   {
    "duration": 118,
    "start_time": "2022-12-16T17:30:23.710Z"
   },
   {
    "duration": 21,
    "start_time": "2022-12-16T17:30:23.829Z"
   },
   {
    "duration": 2,
    "start_time": "2022-12-16T17:30:23.853Z"
   },
   {
    "duration": 42,
    "start_time": "2022-12-16T17:30:23.857Z"
   },
   {
    "duration": 30,
    "start_time": "2022-12-16T17:30:23.901Z"
   },
   {
    "duration": 6,
    "start_time": "2022-12-16T17:30:23.933Z"
   },
   {
    "duration": 38,
    "start_time": "2022-12-16T17:30:23.941Z"
   },
   {
    "duration": 17,
    "start_time": "2022-12-16T17:30:23.981Z"
   },
   {
    "duration": 8,
    "start_time": "2022-12-16T17:30:24.000Z"
   },
   {
    "duration": 18,
    "start_time": "2022-12-16T17:30:24.010Z"
   },
   {
    "duration": 100,
    "start_time": "2022-12-16T17:30:24.029Z"
   },
   {
    "duration": 120,
    "start_time": "2022-12-16T17:30:24.133Z"
   },
   {
    "duration": 122,
    "start_time": "2022-12-16T17:30:24.255Z"
   },
   {
    "duration": 112,
    "start_time": "2022-12-16T17:30:24.379Z"
   },
   {
    "duration": 116,
    "start_time": "2022-12-16T17:30:24.493Z"
   },
   {
    "duration": 17,
    "start_time": "2022-12-16T17:30:24.611Z"
   },
   {
    "duration": 9,
    "start_time": "2022-12-16T17:30:24.630Z"
   },
   {
    "duration": 19,
    "start_time": "2022-12-16T17:30:24.641Z"
   },
   {
    "duration": 43,
    "start_time": "2022-12-16T17:30:24.661Z"
   },
   {
    "duration": 107,
    "start_time": "2022-12-16T17:30:24.705Z"
   },
   {
    "duration": 23,
    "start_time": "2022-12-16T17:30:24.814Z"
   },
   {
    "duration": 40,
    "start_time": "2022-12-16T17:30:24.838Z"
   },
   {
    "duration": 399,
    "start_time": "2022-12-16T17:30:24.879Z"
   },
   {
    "duration": 24,
    "start_time": "2022-12-16T17:30:25.280Z"
   },
   {
    "duration": 21,
    "start_time": "2022-12-16T17:30:25.305Z"
   },
   {
    "duration": 162,
    "start_time": "2022-12-16T17:30:25.327Z"
   },
   {
    "duration": 174,
    "start_time": "2022-12-16T17:30:25.491Z"
   },
   {
    "duration": 153,
    "start_time": "2022-12-16T17:30:25.666Z"
   },
   {
    "duration": 141,
    "start_time": "2022-12-16T17:30:25.820Z"
   },
   {
    "duration": 24,
    "start_time": "2022-12-16T17:30:25.963Z"
   },
   {
    "duration": 146,
    "start_time": "2022-12-16T17:30:25.989Z"
   },
   {
    "duration": 143,
    "start_time": "2022-12-16T17:30:26.136Z"
   },
   {
    "duration": 136,
    "start_time": "2022-12-16T17:30:26.281Z"
   },
   {
    "duration": 8,
    "start_time": "2022-12-16T17:30:26.418Z"
   },
   {
    "duration": 146,
    "start_time": "2022-12-16T17:30:26.427Z"
   },
   {
    "duration": 212,
    "start_time": "2022-12-16T17:30:26.578Z"
   },
   {
    "duration": 134,
    "start_time": "2022-12-16T17:30:26.792Z"
   },
   {
    "duration": 151,
    "start_time": "2022-12-16T17:30:26.928Z"
   },
   {
    "duration": 120,
    "start_time": "2022-12-16T17:30:27.083Z"
   },
   {
    "duration": 130,
    "start_time": "2022-12-16T17:30:27.204Z"
   },
   {
    "duration": 135,
    "start_time": "2022-12-16T17:30:27.335Z"
   },
   {
    "duration": 135,
    "start_time": "2022-12-16T17:30:27.477Z"
   },
   {
    "duration": 147,
    "start_time": "2022-12-16T17:30:27.613Z"
   },
   {
    "duration": 139,
    "start_time": "2022-12-16T17:30:27.762Z"
   },
   {
    "duration": 125,
    "start_time": "2022-12-16T17:30:27.902Z"
   },
   {
    "duration": 153,
    "start_time": "2022-12-16T17:30:28.029Z"
   },
   {
    "duration": 154,
    "start_time": "2022-12-16T17:30:28.184Z"
   },
   {
    "duration": 169,
    "start_time": "2022-12-16T17:30:28.341Z"
   },
   {
    "duration": 168,
    "start_time": "2022-12-16T17:30:28.512Z"
   },
   {
    "duration": 150,
    "start_time": "2022-12-16T17:30:28.681Z"
   },
   {
    "duration": 232,
    "start_time": "2022-12-16T17:30:28.832Z"
   },
   {
    "duration": 129,
    "start_time": "2022-12-16T17:30:29.066Z"
   },
   {
    "duration": 171,
    "start_time": "2022-12-16T17:30:29.197Z"
   },
   {
    "duration": 237,
    "start_time": "2022-12-16T17:30:29.370Z"
   },
   {
    "duration": 205,
    "start_time": "2022-12-16T17:30:29.608Z"
   },
   {
    "duration": 195,
    "start_time": "2022-12-16T17:30:29.815Z"
   },
   {
    "duration": 28,
    "start_time": "2022-12-16T17:30:30.012Z"
   },
   {
    "duration": 15,
    "start_time": "2022-12-16T17:33:18.222Z"
   },
   {
    "duration": 127,
    "start_time": "2022-12-16T17:35:27.274Z"
   },
   {
    "duration": 121,
    "start_time": "2022-12-16T17:35:38.548Z"
   },
   {
    "duration": 142,
    "start_time": "2022-12-16T17:35:41.671Z"
   },
   {
    "duration": 13,
    "start_time": "2022-12-16T17:39:38.697Z"
   },
   {
    "duration": 13,
    "start_time": "2022-12-16T17:39:52.608Z"
   },
   {
    "duration": 4,
    "start_time": "2022-12-16T17:40:03.055Z"
   },
   {
    "duration": 18,
    "start_time": "2022-12-16T17:40:27.299Z"
   },
   {
    "duration": 185,
    "start_time": "2022-12-16T17:40:55.363Z"
   },
   {
    "duration": 51,
    "start_time": "2022-12-17T11:55:13.434Z"
   },
   {
    "duration": 3626,
    "start_time": "2022-12-17T11:55:16.158Z"
   },
   {
    "duration": 47,
    "start_time": "2022-12-17T11:55:19.786Z"
   },
   {
    "duration": 0,
    "start_time": "2022-12-17T11:55:19.836Z"
   },
   {
    "duration": 0,
    "start_time": "2022-12-17T11:55:19.837Z"
   },
   {
    "duration": 0,
    "start_time": "2022-12-17T11:55:19.838Z"
   },
   {
    "duration": 0,
    "start_time": "2022-12-17T11:55:19.840Z"
   },
   {
    "duration": 0,
    "start_time": "2022-12-17T11:55:19.841Z"
   },
   {
    "duration": 0,
    "start_time": "2022-12-17T11:55:19.842Z"
   },
   {
    "duration": 0,
    "start_time": "2022-12-17T11:55:19.844Z"
   },
   {
    "duration": 0,
    "start_time": "2022-12-17T11:55:19.845Z"
   },
   {
    "duration": 0,
    "start_time": "2022-12-17T11:55:19.846Z"
   },
   {
    "duration": 0,
    "start_time": "2022-12-17T11:55:19.848Z"
   },
   {
    "duration": 1,
    "start_time": "2022-12-17T11:55:19.849Z"
   },
   {
    "duration": 0,
    "start_time": "2022-12-17T11:55:19.877Z"
   },
   {
    "duration": 0,
    "start_time": "2022-12-17T11:55:19.879Z"
   },
   {
    "duration": 0,
    "start_time": "2022-12-17T11:55:19.881Z"
   },
   {
    "duration": 0,
    "start_time": "2022-12-17T11:55:19.883Z"
   },
   {
    "duration": 0,
    "start_time": "2022-12-17T11:55:19.884Z"
   },
   {
    "duration": 0,
    "start_time": "2022-12-17T11:55:19.886Z"
   },
   {
    "duration": 0,
    "start_time": "2022-12-17T11:55:19.888Z"
   },
   {
    "duration": 0,
    "start_time": "2022-12-17T11:55:19.889Z"
   },
   {
    "duration": 0,
    "start_time": "2022-12-17T11:55:19.891Z"
   },
   {
    "duration": 0,
    "start_time": "2022-12-17T11:55:19.892Z"
   },
   {
    "duration": 0,
    "start_time": "2022-12-17T11:55:19.894Z"
   },
   {
    "duration": 0,
    "start_time": "2022-12-17T11:55:19.896Z"
   },
   {
    "duration": 0,
    "start_time": "2022-12-17T11:55:19.896Z"
   },
   {
    "duration": 0,
    "start_time": "2022-12-17T11:55:19.898Z"
   },
   {
    "duration": 0,
    "start_time": "2022-12-17T11:55:19.899Z"
   },
   {
    "duration": 0,
    "start_time": "2022-12-17T11:55:19.900Z"
   },
   {
    "duration": 0,
    "start_time": "2022-12-17T11:55:19.901Z"
   },
   {
    "duration": 0,
    "start_time": "2022-12-17T11:55:19.902Z"
   },
   {
    "duration": 0,
    "start_time": "2022-12-17T11:55:19.903Z"
   },
   {
    "duration": 0,
    "start_time": "2022-12-17T11:55:19.904Z"
   },
   {
    "duration": 0,
    "start_time": "2022-12-17T11:55:19.905Z"
   },
   {
    "duration": 0,
    "start_time": "2022-12-17T11:55:19.906Z"
   },
   {
    "duration": 0,
    "start_time": "2022-12-17T11:55:19.907Z"
   },
   {
    "duration": 0,
    "start_time": "2022-12-17T11:55:19.908Z"
   },
   {
    "duration": 0,
    "start_time": "2022-12-17T11:55:19.909Z"
   },
   {
    "duration": 0,
    "start_time": "2022-12-17T11:55:19.910Z"
   },
   {
    "duration": 0,
    "start_time": "2022-12-17T11:55:19.911Z"
   },
   {
    "duration": 0,
    "start_time": "2022-12-17T11:55:19.912Z"
   },
   {
    "duration": 0,
    "start_time": "2022-12-17T11:55:19.913Z"
   },
   {
    "duration": 0,
    "start_time": "2022-12-17T11:55:19.914Z"
   },
   {
    "duration": 0,
    "start_time": "2022-12-17T11:55:19.915Z"
   },
   {
    "duration": 0,
    "start_time": "2022-12-17T11:55:19.978Z"
   },
   {
    "duration": 0,
    "start_time": "2022-12-17T11:55:19.979Z"
   },
   {
    "duration": 0,
    "start_time": "2022-12-17T11:55:19.981Z"
   },
   {
    "duration": 0,
    "start_time": "2022-12-17T11:55:19.982Z"
   },
   {
    "duration": 0,
    "start_time": "2022-12-17T11:55:19.983Z"
   },
   {
    "duration": 0,
    "start_time": "2022-12-17T11:55:19.984Z"
   },
   {
    "duration": 0,
    "start_time": "2022-12-17T11:55:19.985Z"
   },
   {
    "duration": 0,
    "start_time": "2022-12-17T11:55:19.986Z"
   },
   {
    "duration": 0,
    "start_time": "2022-12-17T11:55:19.987Z"
   },
   {
    "duration": 0,
    "start_time": "2022-12-17T11:55:19.988Z"
   },
   {
    "duration": 0,
    "start_time": "2022-12-17T11:55:19.989Z"
   },
   {
    "duration": 0,
    "start_time": "2022-12-17T11:55:19.990Z"
   },
   {
    "duration": 0,
    "start_time": "2022-12-17T11:55:19.992Z"
   },
   {
    "duration": 0,
    "start_time": "2022-12-17T11:55:19.993Z"
   },
   {
    "duration": 0,
    "start_time": "2022-12-17T11:55:19.994Z"
   },
   {
    "duration": 0,
    "start_time": "2022-12-17T11:55:19.995Z"
   },
   {
    "duration": 0,
    "start_time": "2022-12-17T11:55:19.997Z"
   },
   {
    "duration": 64,
    "start_time": "2022-12-17T11:55:32.107Z"
   },
   {
    "duration": 24,
    "start_time": "2022-12-17T11:56:30.029Z"
   },
   {
    "duration": 26,
    "start_time": "2022-12-17T11:56:35.598Z"
   },
   {
    "duration": 36,
    "start_time": "2022-12-17T11:57:59.316Z"
   },
   {
    "duration": 24,
    "start_time": "2022-12-17T11:58:15.814Z"
   },
   {
    "duration": 2478,
    "start_time": "2022-12-17T11:58:18.767Z"
   },
   {
    "duration": 33,
    "start_time": "2022-12-17T11:58:21.248Z"
   },
   {
    "duration": 153,
    "start_time": "2022-12-17T11:58:21.283Z"
   },
   {
    "duration": 18,
    "start_time": "2022-12-17T11:58:21.438Z"
   },
   {
    "duration": 3,
    "start_time": "2022-12-17T11:58:21.457Z"
   },
   {
    "duration": 43,
    "start_time": "2022-12-17T11:58:21.461Z"
   },
   {
    "duration": 34,
    "start_time": "2022-12-17T11:58:21.506Z"
   },
   {
    "duration": 40,
    "start_time": "2022-12-17T11:58:21.542Z"
   },
   {
    "duration": 6,
    "start_time": "2022-12-17T11:58:21.584Z"
   },
   {
    "duration": 19,
    "start_time": "2022-12-17T11:58:21.593Z"
   },
   {
    "duration": 9,
    "start_time": "2022-12-17T11:58:21.614Z"
   },
   {
    "duration": 10,
    "start_time": "2022-12-17T11:58:21.625Z"
   },
   {
    "duration": 97,
    "start_time": "2022-12-17T11:58:21.637Z"
   },
   {
    "duration": 121,
    "start_time": "2022-12-17T11:58:21.736Z"
   },
   {
    "duration": 143,
    "start_time": "2022-12-17T11:58:21.859Z"
   },
   {
    "duration": 237,
    "start_time": "2022-12-17T11:58:22.004Z"
   },
   {
    "duration": 136,
    "start_time": "2022-12-17T11:58:22.243Z"
   },
   {
    "duration": 16,
    "start_time": "2022-12-17T11:58:22.381Z"
   },
   {
    "duration": 18,
    "start_time": "2022-12-17T11:58:22.399Z"
   },
   {
    "duration": 13,
    "start_time": "2022-12-17T11:58:22.419Z"
   },
   {
    "duration": 51,
    "start_time": "2022-12-17T11:58:22.434Z"
   },
   {
    "duration": 30,
    "start_time": "2022-12-17T11:58:22.487Z"
   },
   {
    "duration": 28,
    "start_time": "2022-12-17T11:58:22.520Z"
   },
   {
    "duration": 46,
    "start_time": "2022-12-17T11:58:22.550Z"
   },
   {
    "duration": 462,
    "start_time": "2022-12-17T11:58:22.598Z"
   },
   {
    "duration": 35,
    "start_time": "2022-12-17T11:58:23.062Z"
   },
   {
    "duration": 27,
    "start_time": "2022-12-17T11:58:23.099Z"
   },
   {
    "duration": 176,
    "start_time": "2022-12-17T11:58:23.130Z"
   },
   {
    "duration": 162,
    "start_time": "2022-12-17T11:58:23.308Z"
   },
   {
    "duration": 180,
    "start_time": "2022-12-17T11:58:23.472Z"
   },
   {
    "duration": 156,
    "start_time": "2022-12-17T11:58:23.654Z"
   },
   {
    "duration": 17,
    "start_time": "2022-12-17T11:58:23.812Z"
   },
   {
    "duration": 176,
    "start_time": "2022-12-17T11:58:23.831Z"
   },
   {
    "duration": 169,
    "start_time": "2022-12-17T11:58:24.009Z"
   },
   {
    "duration": 157,
    "start_time": "2022-12-17T11:58:24.180Z"
   },
   {
    "duration": 10,
    "start_time": "2022-12-17T11:58:24.339Z"
   },
   {
    "duration": 167,
    "start_time": "2022-12-17T11:58:24.350Z"
   },
   {
    "duration": 169,
    "start_time": "2022-12-17T11:58:24.519Z"
   },
   {
    "duration": 163,
    "start_time": "2022-12-17T11:58:24.689Z"
   },
   {
    "duration": 289,
    "start_time": "2022-12-17T11:58:24.853Z"
   },
   {
    "duration": 161,
    "start_time": "2022-12-17T11:58:25.144Z"
   },
   {
    "duration": 136,
    "start_time": "2022-12-17T11:58:25.307Z"
   },
   {
    "duration": 152,
    "start_time": "2022-12-17T11:58:25.445Z"
   },
   {
    "duration": 162,
    "start_time": "2022-12-17T11:58:25.599Z"
   },
   {
    "duration": 160,
    "start_time": "2022-12-17T11:58:25.763Z"
   },
   {
    "duration": 171,
    "start_time": "2022-12-17T11:58:25.925Z"
   },
   {
    "duration": 175,
    "start_time": "2022-12-17T11:58:26.097Z"
   },
   {
    "duration": 150,
    "start_time": "2022-12-17T11:58:26.273Z"
   },
   {
    "duration": 170,
    "start_time": "2022-12-17T11:58:26.424Z"
   },
   {
    "duration": 191,
    "start_time": "2022-12-17T11:58:26.595Z"
   },
   {
    "duration": 203,
    "start_time": "2022-12-17T11:58:26.787Z"
   },
   {
    "duration": 195,
    "start_time": "2022-12-17T11:58:26.992Z"
   },
   {
    "duration": 186,
    "start_time": "2022-12-17T11:58:27.189Z"
   },
   {
    "duration": 158,
    "start_time": "2022-12-17T11:58:27.377Z"
   },
   {
    "duration": 150,
    "start_time": "2022-12-17T11:58:27.537Z"
   },
   {
    "duration": 202,
    "start_time": "2022-12-17T11:58:27.689Z"
   },
   {
    "duration": 264,
    "start_time": "2022-12-17T11:58:27.892Z"
   },
   {
    "duration": 22,
    "start_time": "2022-12-17T11:58:28.157Z"
   },
   {
    "duration": 256,
    "start_time": "2022-12-17T11:58:28.181Z"
   },
   {
    "duration": 233,
    "start_time": "2022-12-17T11:58:28.439Z"
   },
   {
    "duration": 32,
    "start_time": "2022-12-17T11:58:28.676Z"
   },
   {
    "duration": 170,
    "start_time": "2022-12-17T11:59:37.499Z"
   },
   {
    "duration": 27,
    "start_time": "2022-12-17T12:02:06.665Z"
   },
   {
    "duration": 2365,
    "start_time": "2022-12-17T12:02:20.733Z"
   },
   {
    "duration": 26,
    "start_time": "2022-12-17T12:02:23.100Z"
   },
   {
    "duration": 358,
    "start_time": "2022-12-17T12:02:23.128Z"
   },
   {
    "duration": 19,
    "start_time": "2022-12-17T12:02:23.489Z"
   },
   {
    "duration": 3,
    "start_time": "2022-12-17T12:02:23.510Z"
   },
   {
    "duration": 35,
    "start_time": "2022-12-17T12:02:23.515Z"
   },
   {
    "duration": 45,
    "start_time": "2022-12-17T12:02:23.577Z"
   },
   {
    "duration": 8,
    "start_time": "2022-12-17T12:02:23.624Z"
   },
   {
    "duration": 7,
    "start_time": "2022-12-17T12:02:23.677Z"
   },
   {
    "duration": 17,
    "start_time": "2022-12-17T12:02:23.688Z"
   },
   {
    "duration": 25,
    "start_time": "2022-12-17T12:02:23.708Z"
   },
   {
    "duration": 0,
    "start_time": "2022-12-17T12:02:23.737Z"
   },
   {
    "duration": 0,
    "start_time": "2022-12-17T12:02:23.738Z"
   },
   {
    "duration": 0,
    "start_time": "2022-12-17T12:02:23.740Z"
   },
   {
    "duration": 0,
    "start_time": "2022-12-17T12:02:23.741Z"
   },
   {
    "duration": 0,
    "start_time": "2022-12-17T12:02:23.742Z"
   },
   {
    "duration": 0,
    "start_time": "2022-12-17T12:02:23.743Z"
   },
   {
    "duration": 0,
    "start_time": "2022-12-17T12:02:23.744Z"
   },
   {
    "duration": 0,
    "start_time": "2022-12-17T12:02:23.778Z"
   },
   {
    "duration": 0,
    "start_time": "2022-12-17T12:02:23.780Z"
   },
   {
    "duration": 0,
    "start_time": "2022-12-17T12:02:23.781Z"
   },
   {
    "duration": 0,
    "start_time": "2022-12-17T12:02:23.783Z"
   },
   {
    "duration": 1,
    "start_time": "2022-12-17T12:02:23.784Z"
   },
   {
    "duration": 0,
    "start_time": "2022-12-17T12:02:23.786Z"
   },
   {
    "duration": 0,
    "start_time": "2022-12-17T12:02:23.787Z"
   },
   {
    "duration": 0,
    "start_time": "2022-12-17T12:02:23.789Z"
   },
   {
    "duration": 0,
    "start_time": "2022-12-17T12:02:23.790Z"
   },
   {
    "duration": 0,
    "start_time": "2022-12-17T12:02:23.791Z"
   },
   {
    "duration": 0,
    "start_time": "2022-12-17T12:02:23.793Z"
   },
   {
    "duration": 0,
    "start_time": "2022-12-17T12:02:23.794Z"
   },
   {
    "duration": 0,
    "start_time": "2022-12-17T12:02:23.796Z"
   },
   {
    "duration": 0,
    "start_time": "2022-12-17T12:02:23.797Z"
   },
   {
    "duration": 0,
    "start_time": "2022-12-17T12:02:23.799Z"
   },
   {
    "duration": 0,
    "start_time": "2022-12-17T12:02:23.800Z"
   },
   {
    "duration": 0,
    "start_time": "2022-12-17T12:02:23.800Z"
   },
   {
    "duration": 0,
    "start_time": "2022-12-17T12:02:23.801Z"
   },
   {
    "duration": 0,
    "start_time": "2022-12-17T12:02:23.802Z"
   },
   {
    "duration": 0,
    "start_time": "2022-12-17T12:02:23.803Z"
   },
   {
    "duration": 0,
    "start_time": "2022-12-17T12:02:23.804Z"
   },
   {
    "duration": 0,
    "start_time": "2022-12-17T12:02:23.805Z"
   },
   {
    "duration": 0,
    "start_time": "2022-12-17T12:02:23.806Z"
   },
   {
    "duration": 0,
    "start_time": "2022-12-17T12:02:23.807Z"
   },
   {
    "duration": 0,
    "start_time": "2022-12-17T12:02:23.808Z"
   },
   {
    "duration": 0,
    "start_time": "2022-12-17T12:02:23.809Z"
   },
   {
    "duration": 1,
    "start_time": "2022-12-17T12:02:23.809Z"
   },
   {
    "duration": 0,
    "start_time": "2022-12-17T12:02:23.810Z"
   },
   {
    "duration": 0,
    "start_time": "2022-12-17T12:02:23.812Z"
   },
   {
    "duration": 0,
    "start_time": "2022-12-17T12:02:23.813Z"
   },
   {
    "duration": 0,
    "start_time": "2022-12-17T12:02:23.814Z"
   },
   {
    "duration": 0,
    "start_time": "2022-12-17T12:02:23.814Z"
   },
   {
    "duration": 0,
    "start_time": "2022-12-17T12:02:23.816Z"
   },
   {
    "duration": 0,
    "start_time": "2022-12-17T12:02:23.817Z"
   },
   {
    "duration": 0,
    "start_time": "2022-12-17T12:02:23.878Z"
   },
   {
    "duration": 0,
    "start_time": "2022-12-17T12:02:23.880Z"
   },
   {
    "duration": 0,
    "start_time": "2022-12-17T12:02:23.881Z"
   },
   {
    "duration": 0,
    "start_time": "2022-12-17T12:02:23.882Z"
   },
   {
    "duration": 0,
    "start_time": "2022-12-17T12:02:23.884Z"
   },
   {
    "duration": 0,
    "start_time": "2022-12-17T12:02:23.885Z"
   },
   {
    "duration": 0,
    "start_time": "2022-12-17T12:02:23.886Z"
   },
   {
    "duration": 1,
    "start_time": "2022-12-17T12:02:23.887Z"
   },
   {
    "duration": 0,
    "start_time": "2022-12-17T12:02:23.888Z"
   },
   {
    "duration": 13,
    "start_time": "2022-12-17T12:03:22.307Z"
   },
   {
    "duration": 7,
    "start_time": "2022-12-17T12:09:39.288Z"
   },
   {
    "duration": 7,
    "start_time": "2022-12-17T12:09:45.017Z"
   },
   {
    "duration": 6,
    "start_time": "2022-12-17T12:09:47.402Z"
   },
   {
    "duration": 11,
    "start_time": "2022-12-17T12:10:48.471Z"
   },
   {
    "duration": 2426,
    "start_time": "2022-12-17T12:11:16.498Z"
   },
   {
    "duration": 25,
    "start_time": "2022-12-17T12:11:18.926Z"
   },
   {
    "duration": 182,
    "start_time": "2022-12-17T12:11:18.952Z"
   },
   {
    "duration": 20,
    "start_time": "2022-12-17T12:11:19.137Z"
   },
   {
    "duration": 3,
    "start_time": "2022-12-17T12:11:19.159Z"
   },
   {
    "duration": 34,
    "start_time": "2022-12-17T12:11:19.179Z"
   },
   {
    "duration": 73,
    "start_time": "2022-12-17T12:11:19.215Z"
   },
   {
    "duration": 6,
    "start_time": "2022-12-17T12:11:19.290Z"
   },
   {
    "duration": 8,
    "start_time": "2022-12-17T12:11:19.298Z"
   },
   {
    "duration": 16,
    "start_time": "2022-12-17T12:11:19.309Z"
   },
   {
    "duration": 12,
    "start_time": "2022-12-17T12:11:19.327Z"
   },
   {
    "duration": 40,
    "start_time": "2022-12-17T12:11:19.340Z"
   },
   {
    "duration": 67,
    "start_time": "2022-12-17T12:11:19.382Z"
   },
   {
    "duration": 8,
    "start_time": "2022-12-17T12:11:19.450Z"
   },
   {
    "duration": 154,
    "start_time": "2022-12-17T12:11:19.460Z"
   },
   {
    "duration": 123,
    "start_time": "2022-12-17T12:11:19.616Z"
   },
   {
    "duration": 116,
    "start_time": "2022-12-17T12:11:19.741Z"
   },
   {
    "duration": 126,
    "start_time": "2022-12-17T12:11:19.859Z"
   },
   {
    "duration": 16,
    "start_time": "2022-12-17T12:11:19.988Z"
   },
   {
    "duration": 9,
    "start_time": "2022-12-17T12:11:20.005Z"
   },
   {
    "duration": 10,
    "start_time": "2022-12-17T12:11:20.016Z"
   },
   {
    "duration": 59,
    "start_time": "2022-12-17T12:11:20.028Z"
   },
   {
    "duration": 29,
    "start_time": "2022-12-17T12:11:20.089Z"
   },
   {
    "duration": 28,
    "start_time": "2022-12-17T12:11:20.120Z"
   },
   {
    "duration": 51,
    "start_time": "2022-12-17T12:11:20.150Z"
   },
   {
    "duration": 666,
    "start_time": "2022-12-17T12:11:20.202Z"
   },
   {
    "duration": 30,
    "start_time": "2022-12-17T12:11:20.870Z"
   },
   {
    "duration": 26,
    "start_time": "2022-12-17T12:11:20.904Z"
   },
   {
    "duration": 188,
    "start_time": "2022-12-17T12:11:20.933Z"
   },
   {
    "duration": 158,
    "start_time": "2022-12-17T12:11:21.123Z"
   },
   {
    "duration": 180,
    "start_time": "2022-12-17T12:11:21.283Z"
   },
   {
    "duration": 159,
    "start_time": "2022-12-17T12:11:21.465Z"
   },
   {
    "duration": 16,
    "start_time": "2022-12-17T12:11:21.626Z"
   },
   {
    "duration": 167,
    "start_time": "2022-12-17T12:11:21.644Z"
   },
   {
    "duration": 298,
    "start_time": "2022-12-17T12:11:21.813Z"
   },
   {
    "duration": 306,
    "start_time": "2022-12-17T12:11:22.113Z"
   },
   {
    "duration": 64,
    "start_time": "2022-12-17T12:11:22.421Z"
   },
   {
    "duration": 310,
    "start_time": "2022-12-17T12:11:22.487Z"
   },
   {
    "duration": 381,
    "start_time": "2022-12-17T12:11:22.799Z"
   },
   {
    "duration": 309,
    "start_time": "2022-12-17T12:11:23.182Z"
   },
   {
    "duration": 304,
    "start_time": "2022-12-17T12:11:23.493Z"
   },
   {
    "duration": 173,
    "start_time": "2022-12-17T12:11:23.799Z"
   },
   {
    "duration": 146,
    "start_time": "2022-12-17T12:11:23.977Z"
   },
   {
    "duration": 162,
    "start_time": "2022-12-17T12:11:24.125Z"
   },
   {
    "duration": 165,
    "start_time": "2022-12-17T12:11:24.289Z"
   },
   {
    "duration": 148,
    "start_time": "2022-12-17T12:11:24.456Z"
   },
   {
    "duration": 186,
    "start_time": "2022-12-17T12:11:24.606Z"
   },
   {
    "duration": 172,
    "start_time": "2022-12-17T12:11:24.794Z"
   },
   {
    "duration": 159,
    "start_time": "2022-12-17T12:11:24.968Z"
   },
   {
    "duration": 186,
    "start_time": "2022-12-17T12:11:25.129Z"
   },
   {
    "duration": 201,
    "start_time": "2022-12-17T12:11:25.317Z"
   },
   {
    "duration": 193,
    "start_time": "2022-12-17T12:11:25.519Z"
   },
   {
    "duration": 204,
    "start_time": "2022-12-17T12:11:25.714Z"
   },
   {
    "duration": 185,
    "start_time": "2022-12-17T12:11:25.920Z"
   },
   {
    "duration": 161,
    "start_time": "2022-12-17T12:11:26.107Z"
   },
   {
    "duration": 161,
    "start_time": "2022-12-17T12:11:26.277Z"
   },
   {
    "duration": 212,
    "start_time": "2022-12-17T12:11:26.440Z"
   },
   {
    "duration": 265,
    "start_time": "2022-12-17T12:11:26.654Z"
   },
   {
    "duration": 16,
    "start_time": "2022-12-17T12:11:26.921Z"
   },
   {
    "duration": 233,
    "start_time": "2022-12-17T12:11:26.939Z"
   },
   {
    "duration": 240,
    "start_time": "2022-12-17T12:11:27.175Z"
   },
   {
    "duration": 35,
    "start_time": "2022-12-17T12:11:27.418Z"
   },
   {
    "duration": 415,
    "start_time": "2022-12-17T12:22:41.643Z"
   },
   {
    "duration": 169,
    "start_time": "2022-12-17T12:22:47.865Z"
   },
   {
    "duration": 184,
    "start_time": "2022-12-17T12:45:58.270Z"
   },
   {
    "duration": 150,
    "start_time": "2022-12-17T12:46:01.420Z"
   },
   {
    "duration": 162,
    "start_time": "2022-12-17T12:46:08.845Z"
   },
   {
    "duration": 9,
    "start_time": "2022-12-17T12:46:15.531Z"
   },
   {
    "duration": 119,
    "start_time": "2022-12-17T12:46:29.007Z"
   },
   {
    "duration": 148,
    "start_time": "2022-12-17T12:57:07.813Z"
   },
   {
    "duration": 16,
    "start_time": "2022-12-17T13:03:16.956Z"
   },
   {
    "duration": 12,
    "start_time": "2022-12-17T13:03:32.303Z"
   },
   {
    "duration": 9,
    "start_time": "2022-12-17T13:04:47.168Z"
   },
   {
    "duration": 197,
    "start_time": "2022-12-17T13:04:52.229Z"
   },
   {
    "duration": 809,
    "start_time": "2022-12-17T13:17:33.193Z"
   },
   {
    "duration": 176,
    "start_time": "2022-12-17T13:17:52.280Z"
   },
   {
    "duration": 182,
    "start_time": "2022-12-17T13:17:58.430Z"
   },
   {
    "duration": 52,
    "start_time": "2022-12-17T13:18:47.817Z"
   },
   {
    "duration": 164,
    "start_time": "2022-12-17T13:18:57.126Z"
   },
   {
    "duration": 179,
    "start_time": "2022-12-17T13:19:04.772Z"
   },
   {
    "duration": 164,
    "start_time": "2022-12-17T13:22:33.792Z"
   },
   {
    "duration": 170,
    "start_time": "2022-12-17T13:22:40.720Z"
   },
   {
    "duration": 190,
    "start_time": "2022-12-17T13:30:24.477Z"
   },
   {
    "duration": 2649,
    "start_time": "2022-12-17T18:17:59.829Z"
   },
   {
    "duration": 55,
    "start_time": "2022-12-17T18:18:02.481Z"
   },
   {
    "duration": 142,
    "start_time": "2022-12-17T18:18:02.538Z"
   },
   {
    "duration": 19,
    "start_time": "2022-12-17T18:18:02.682Z"
   },
   {
    "duration": 34,
    "start_time": "2022-12-17T18:18:02.703Z"
   },
   {
    "duration": 72,
    "start_time": "2022-12-17T18:18:02.739Z"
   },
   {
    "duration": 61,
    "start_time": "2022-12-17T18:18:02.812Z"
   },
   {
    "duration": 36,
    "start_time": "2022-12-17T18:18:02.874Z"
   },
   {
    "duration": 36,
    "start_time": "2022-12-17T18:18:02.912Z"
   },
   {
    "duration": 61,
    "start_time": "2022-12-17T18:18:02.951Z"
   },
   {
    "duration": 36,
    "start_time": "2022-12-17T18:18:03.013Z"
   },
   {
    "duration": 29,
    "start_time": "2022-12-17T18:18:03.051Z"
   },
   {
    "duration": 79,
    "start_time": "2022-12-17T18:18:03.082Z"
   },
   {
    "duration": 7,
    "start_time": "2022-12-17T18:18:03.162Z"
   },
   {
    "duration": 137,
    "start_time": "2022-12-17T18:18:03.170Z"
   },
   {
    "duration": 119,
    "start_time": "2022-12-17T18:18:03.309Z"
   },
   {
    "duration": 98,
    "start_time": "2022-12-17T18:18:03.430Z"
   },
   {
    "duration": 104,
    "start_time": "2022-12-17T18:18:03.529Z"
   },
   {
    "duration": 15,
    "start_time": "2022-12-17T18:18:03.634Z"
   },
   {
    "duration": 45,
    "start_time": "2022-12-17T18:18:03.651Z"
   },
   {
    "duration": 38,
    "start_time": "2022-12-17T18:18:03.697Z"
   },
   {
    "duration": 59,
    "start_time": "2022-12-17T18:18:03.737Z"
   },
   {
    "duration": 107,
    "start_time": "2022-12-17T18:18:03.798Z"
   },
   {
    "duration": 30,
    "start_time": "2022-12-17T18:18:03.907Z"
   },
   {
    "duration": 45,
    "start_time": "2022-12-17T18:18:03.939Z"
   },
   {
    "duration": 484,
    "start_time": "2022-12-17T18:18:03.986Z"
   },
   {
    "duration": 30,
    "start_time": "2022-12-17T18:18:04.471Z"
   },
   {
    "duration": 25,
    "start_time": "2022-12-17T18:18:04.505Z"
   },
   {
    "duration": 174,
    "start_time": "2022-12-17T18:18:04.533Z"
   },
   {
    "duration": 151,
    "start_time": "2022-12-17T18:18:04.708Z"
   },
   {
    "duration": 174,
    "start_time": "2022-12-17T18:18:04.861Z"
   },
   {
    "duration": 156,
    "start_time": "2022-12-17T18:18:05.037Z"
   },
   {
    "duration": 17,
    "start_time": "2022-12-17T18:18:05.195Z"
   },
   {
    "duration": 174,
    "start_time": "2022-12-17T18:18:05.214Z"
   },
   {
    "duration": 159,
    "start_time": "2022-12-17T18:18:05.390Z"
   },
   {
    "duration": 161,
    "start_time": "2022-12-17T18:18:05.550Z"
   },
   {
    "duration": 10,
    "start_time": "2022-12-17T18:18:05.713Z"
   },
   {
    "duration": 174,
    "start_time": "2022-12-17T18:18:05.726Z"
   },
   {
    "duration": 240,
    "start_time": "2022-12-17T18:18:05.902Z"
   },
   {
    "duration": 157,
    "start_time": "2022-12-17T18:18:06.143Z"
   },
   {
    "duration": 147,
    "start_time": "2022-12-17T18:18:06.301Z"
   },
   {
    "duration": 159,
    "start_time": "2022-12-17T18:18:06.450Z"
   },
   {
    "duration": 141,
    "start_time": "2022-12-17T18:18:06.612Z"
   },
   {
    "duration": 157,
    "start_time": "2022-12-17T18:18:06.755Z"
   },
   {
    "duration": 170,
    "start_time": "2022-12-17T18:18:06.914Z"
   },
   {
    "duration": 122,
    "start_time": "2022-12-17T18:18:07.085Z"
   },
   {
    "duration": 150,
    "start_time": "2022-12-17T18:18:07.209Z"
   },
   {
    "duration": 142,
    "start_time": "2022-12-17T18:18:07.361Z"
   },
   {
    "duration": 140,
    "start_time": "2022-12-17T18:18:07.505Z"
   },
   {
    "duration": 148,
    "start_time": "2022-12-17T18:18:07.646Z"
   },
   {
    "duration": 139,
    "start_time": "2022-12-17T18:18:07.796Z"
   },
   {
    "duration": 167,
    "start_time": "2022-12-17T18:18:07.937Z"
   },
   {
    "duration": 154,
    "start_time": "2022-12-17T18:18:08.106Z"
   },
   {
    "duration": 237,
    "start_time": "2022-12-17T18:18:08.262Z"
   },
   {
    "duration": 162,
    "start_time": "2022-12-17T18:18:08.501Z"
   },
   {
    "duration": 139,
    "start_time": "2022-12-17T18:18:08.665Z"
   },
   {
    "duration": 137,
    "start_time": "2022-12-17T18:18:08.806Z"
   },
   {
    "duration": 160,
    "start_time": "2022-12-17T18:18:08.945Z"
   },
   {
    "duration": 176,
    "start_time": "2022-12-17T18:18:09.106Z"
   },
   {
    "duration": 152,
    "start_time": "2022-12-17T18:18:09.284Z"
   },
   {
    "duration": 238,
    "start_time": "2022-12-17T18:18:09.438Z"
   },
   {
    "duration": 13,
    "start_time": "2022-12-17T18:18:09.678Z"
   },
   {
    "duration": 187,
    "start_time": "2022-12-17T18:18:09.693Z"
   },
   {
    "duration": 202,
    "start_time": "2022-12-17T18:18:09.881Z"
   },
   {
    "duration": 28,
    "start_time": "2022-12-17T18:18:10.084Z"
   },
   {
    "duration": 13,
    "start_time": "2022-12-17T18:20:09.139Z"
   },
   {
    "duration": 53,
    "start_time": "2022-12-17T21:05:06.480Z"
   },
   {
    "duration": 3340,
    "start_time": "2022-12-17T21:05:09.664Z"
   },
   {
    "duration": 64,
    "start_time": "2022-12-17T21:05:13.006Z"
   },
   {
    "duration": 140,
    "start_time": "2022-12-17T21:05:13.071Z"
   },
   {
    "duration": 27,
    "start_time": "2022-12-17T21:05:13.216Z"
   },
   {
    "duration": 3,
    "start_time": "2022-12-17T21:05:13.246Z"
   },
   {
    "duration": 29,
    "start_time": "2022-12-17T21:05:13.251Z"
   },
   {
    "duration": 65,
    "start_time": "2022-12-17T21:05:13.281Z"
   },
   {
    "duration": 6,
    "start_time": "2022-12-17T21:05:13.347Z"
   },
   {
    "duration": 5,
    "start_time": "2022-12-17T21:05:13.354Z"
   },
   {
    "duration": 13,
    "start_time": "2022-12-17T21:05:13.361Z"
   },
   {
    "duration": 44,
    "start_time": "2022-12-17T21:05:13.376Z"
   },
   {
    "duration": 9,
    "start_time": "2022-12-17T21:05:13.423Z"
   },
   {
    "duration": 58,
    "start_time": "2022-12-17T21:05:13.434Z"
   },
   {
    "duration": 46,
    "start_time": "2022-12-17T21:05:13.495Z"
   },
   {
    "duration": 116,
    "start_time": "2022-12-17T21:05:13.543Z"
   },
   {
    "duration": 119,
    "start_time": "2022-12-17T21:05:13.661Z"
   },
   {
    "duration": 107,
    "start_time": "2022-12-17T21:05:13.782Z"
   },
   {
    "duration": 185,
    "start_time": "2022-12-17T21:05:13.890Z"
   },
   {
    "duration": 15,
    "start_time": "2022-12-17T21:05:14.077Z"
   },
   {
    "duration": 32,
    "start_time": "2022-12-17T21:05:14.093Z"
   },
   {
    "duration": 9,
    "start_time": "2022-12-17T21:05:14.127Z"
   },
   {
    "duration": 27,
    "start_time": "2022-12-17T21:05:14.137Z"
   },
   {
    "duration": 34,
    "start_time": "2022-12-17T21:05:14.166Z"
   },
   {
    "duration": 34,
    "start_time": "2022-12-17T21:05:14.202Z"
   },
   {
    "duration": 23,
    "start_time": "2022-12-17T21:05:14.238Z"
   },
   {
    "duration": 434,
    "start_time": "2022-12-17T21:05:14.263Z"
   },
   {
    "duration": 33,
    "start_time": "2022-12-17T21:05:14.698Z"
   },
   {
    "duration": 22,
    "start_time": "2022-12-17T21:05:14.732Z"
   },
   {
    "duration": 153,
    "start_time": "2022-12-17T21:05:14.755Z"
   },
   {
    "duration": 160,
    "start_time": "2022-12-17T21:05:14.909Z"
   },
   {
    "duration": 171,
    "start_time": "2022-12-17T21:05:15.071Z"
   },
   {
    "duration": 149,
    "start_time": "2022-12-17T21:05:15.243Z"
   },
   {
    "duration": 26,
    "start_time": "2022-12-17T21:05:15.393Z"
   },
   {
    "duration": 162,
    "start_time": "2022-12-17T21:05:15.421Z"
   },
   {
    "duration": 157,
    "start_time": "2022-12-17T21:05:15.584Z"
   },
   {
    "duration": 148,
    "start_time": "2022-12-17T21:05:15.744Z"
   },
   {
    "duration": 10,
    "start_time": "2022-12-17T21:05:15.894Z"
   },
   {
    "duration": 241,
    "start_time": "2022-12-17T21:05:15.916Z"
   },
   {
    "duration": 159,
    "start_time": "2022-12-17T21:05:16.159Z"
   },
   {
    "duration": 186,
    "start_time": "2022-12-17T21:05:16.320Z"
   },
   {
    "duration": 151,
    "start_time": "2022-12-17T21:05:16.516Z"
   },
   {
    "duration": 156,
    "start_time": "2022-12-17T21:05:16.668Z"
   },
   {
    "duration": 130,
    "start_time": "2022-12-17T21:05:16.826Z"
   },
   {
    "duration": 135,
    "start_time": "2022-12-17T21:05:16.957Z"
   },
   {
    "duration": 157,
    "start_time": "2022-12-17T21:05:17.094Z"
   },
   {
    "duration": 128,
    "start_time": "2022-12-17T21:05:17.253Z"
   },
   {
    "duration": 156,
    "start_time": "2022-12-17T21:05:17.383Z"
   },
   {
    "duration": 156,
    "start_time": "2022-12-17T21:05:17.541Z"
   },
   {
    "duration": 148,
    "start_time": "2022-12-17T21:05:17.699Z"
   },
   {
    "duration": 173,
    "start_time": "2022-12-17T21:05:17.849Z"
   },
   {
    "duration": 162,
    "start_time": "2022-12-17T21:05:18.025Z"
   },
   {
    "duration": 177,
    "start_time": "2022-12-17T21:05:18.189Z"
   },
   {
    "duration": 285,
    "start_time": "2022-12-17T21:05:18.368Z"
   },
   {
    "duration": 169,
    "start_time": "2022-12-17T21:05:18.655Z"
   },
   {
    "duration": 157,
    "start_time": "2022-12-17T21:05:18.827Z"
   },
   {
    "duration": 159,
    "start_time": "2022-12-17T21:05:18.986Z"
   },
   {
    "duration": 147,
    "start_time": "2022-12-17T21:05:19.147Z"
   },
   {
    "duration": 170,
    "start_time": "2022-12-17T21:05:19.295Z"
   },
   {
    "duration": 176,
    "start_time": "2022-12-17T21:05:19.467Z"
   },
   {
    "duration": 156,
    "start_time": "2022-12-17T21:05:19.645Z"
   },
   {
    "duration": 245,
    "start_time": "2022-12-17T21:05:19.802Z"
   },
   {
    "duration": 15,
    "start_time": "2022-12-17T21:05:20.049Z"
   },
   {
    "duration": 213,
    "start_time": "2022-12-17T21:05:20.066Z"
   },
   {
    "duration": 209,
    "start_time": "2022-12-17T21:05:20.281Z"
   },
   {
    "duration": 40,
    "start_time": "2022-12-17T21:05:20.492Z"
   },
   {
    "duration": 29,
    "start_time": "2022-12-17T21:10:45.487Z"
   },
   {
    "duration": 5,
    "start_time": "2022-12-17T21:11:01.009Z"
   },
   {
    "duration": 64,
    "start_time": "2022-12-17T21:11:05.573Z"
   },
   {
    "duration": 35,
    "start_time": "2022-12-17T21:11:16.314Z"
   },
   {
    "duration": 25,
    "start_time": "2022-12-17T21:11:20.632Z"
   },
   {
    "duration": 28,
    "start_time": "2022-12-17T21:12:11.419Z"
   },
   {
    "duration": 8,
    "start_time": "2022-12-17T21:12:27.820Z"
   },
   {
    "duration": 15,
    "start_time": "2022-12-17T21:13:22.496Z"
   },
   {
    "duration": 36,
    "start_time": "2022-12-17T21:13:34.702Z"
   },
   {
    "duration": 22,
    "start_time": "2022-12-17T21:13:41.660Z"
   },
   {
    "duration": 15,
    "start_time": "2022-12-17T21:13:47.171Z"
   },
   {
    "duration": 5,
    "start_time": "2022-12-17T21:13:49.704Z"
   },
   {
    "duration": 13,
    "start_time": "2022-12-17T21:13:53.492Z"
   },
   {
    "duration": 9,
    "start_time": "2022-12-17T21:22:42.517Z"
   },
   {
    "duration": 18,
    "start_time": "2022-12-17T21:22:55.652Z"
   },
   {
    "duration": 11,
    "start_time": "2022-12-17T21:23:37.968Z"
   },
   {
    "duration": 46,
    "start_time": "2022-12-18T07:23:25.427Z"
   },
   {
    "duration": 3908,
    "start_time": "2022-12-18T07:23:28.445Z"
   },
   {
    "duration": 157,
    "start_time": "2022-12-18T07:23:32.356Z"
   },
   {
    "duration": 244,
    "start_time": "2022-12-18T07:23:32.515Z"
   },
   {
    "duration": 21,
    "start_time": "2022-12-18T07:23:32.812Z"
   },
   {
    "duration": 3,
    "start_time": "2022-12-18T07:23:32.834Z"
   },
   {
    "duration": 87,
    "start_time": "2022-12-18T07:23:32.838Z"
   },
   {
    "duration": 96,
    "start_time": "2022-12-18T07:23:32.928Z"
   },
   {
    "duration": 8,
    "start_time": "2022-12-18T07:23:33.026Z"
   },
   {
    "duration": 14,
    "start_time": "2022-12-18T07:23:33.036Z"
   },
   {
    "duration": 65,
    "start_time": "2022-12-18T07:23:33.055Z"
   },
   {
    "duration": 14,
    "start_time": "2022-12-18T07:23:33.122Z"
   },
   {
    "duration": 8,
    "start_time": "2022-12-18T07:23:33.139Z"
   },
   {
    "duration": 182,
    "start_time": "2022-12-18T07:23:33.150Z"
   },
   {
    "duration": 23,
    "start_time": "2022-12-18T07:23:33.334Z"
   },
   {
    "duration": 209,
    "start_time": "2022-12-18T07:23:33.413Z"
   },
   {
    "duration": 314,
    "start_time": "2022-12-18T07:23:33.624Z"
   },
   {
    "duration": 201,
    "start_time": "2022-12-18T07:23:33.940Z"
   },
   {
    "duration": 391,
    "start_time": "2022-12-18T07:23:34.142Z"
   },
   {
    "duration": 77,
    "start_time": "2022-12-18T07:23:34.536Z"
   },
   {
    "duration": 8,
    "start_time": "2022-12-18T07:23:34.616Z"
   },
   {
    "duration": 24,
    "start_time": "2022-12-18T07:23:34.626Z"
   },
   {
    "duration": 85,
    "start_time": "2022-12-18T07:23:34.652Z"
   },
   {
    "duration": 94,
    "start_time": "2022-12-18T07:23:34.740Z"
   },
   {
    "duration": 94,
    "start_time": "2022-12-18T07:23:34.837Z"
   },
   {
    "duration": 89,
    "start_time": "2022-12-18T07:23:34.934Z"
   },
   {
    "duration": 652,
    "start_time": "2022-12-18T07:23:35.025Z"
   },
   {
    "duration": 39,
    "start_time": "2022-12-18T07:23:35.679Z"
   },
   {
    "duration": 25,
    "start_time": "2022-12-18T07:23:35.724Z"
   },
   {
    "duration": 179,
    "start_time": "2022-12-18T07:23:35.751Z"
   },
   {
    "duration": 164,
    "start_time": "2022-12-18T07:23:35.932Z"
   },
   {
    "duration": 178,
    "start_time": "2022-12-18T07:23:36.097Z"
   },
   {
    "duration": 150,
    "start_time": "2022-12-18T07:23:36.277Z"
   },
   {
    "duration": 19,
    "start_time": "2022-12-18T07:23:36.430Z"
   },
   {
    "duration": 171,
    "start_time": "2022-12-18T07:23:36.451Z"
   },
   {
    "duration": 198,
    "start_time": "2022-12-18T07:23:36.624Z"
   },
   {
    "duration": 174,
    "start_time": "2022-12-18T07:23:36.824Z"
   },
   {
    "duration": 19,
    "start_time": "2022-12-18T07:23:37.000Z"
   },
   {
    "duration": 242,
    "start_time": "2022-12-18T07:23:37.020Z"
   },
   {
    "duration": 181,
    "start_time": "2022-12-18T07:23:37.264Z"
   },
   {
    "duration": 173,
    "start_time": "2022-12-18T07:23:37.447Z"
   },
   {
    "duration": 150,
    "start_time": "2022-12-18T07:23:37.623Z"
   },
   {
    "duration": 151,
    "start_time": "2022-12-18T07:23:37.774Z"
   },
   {
    "duration": 140,
    "start_time": "2022-12-18T07:23:37.926Z"
   },
   {
    "duration": 156,
    "start_time": "2022-12-18T07:23:38.068Z"
   },
   {
    "duration": 171,
    "start_time": "2022-12-18T07:23:38.226Z"
   },
   {
    "duration": 149,
    "start_time": "2022-12-18T07:23:38.399Z"
   },
   {
    "duration": 176,
    "start_time": "2022-12-18T07:23:38.550Z"
   },
   {
    "duration": 171,
    "start_time": "2022-12-18T07:23:38.727Z"
   },
   {
    "duration": 167,
    "start_time": "2022-12-18T07:23:38.899Z"
   },
   {
    "duration": 172,
    "start_time": "2022-12-18T07:23:39.068Z"
   },
   {
    "duration": 167,
    "start_time": "2022-12-18T07:23:39.242Z"
   },
   {
    "duration": 191,
    "start_time": "2022-12-18T07:23:39.411Z"
   },
   {
    "duration": 286,
    "start_time": "2022-12-18T07:23:39.604Z"
   },
   {
    "duration": 178,
    "start_time": "2022-12-18T07:23:39.891Z"
   },
   {
    "duration": 183,
    "start_time": "2022-12-18T07:23:40.071Z"
   },
   {
    "duration": 197,
    "start_time": "2022-12-18T07:23:40.256Z"
   },
   {
    "duration": 178,
    "start_time": "2022-12-18T07:23:40.455Z"
   },
   {
    "duration": 187,
    "start_time": "2022-12-18T07:23:40.636Z"
   },
   {
    "duration": 203,
    "start_time": "2022-12-18T07:23:40.826Z"
   },
   {
    "duration": 181,
    "start_time": "2022-12-18T07:23:41.032Z"
   },
   {
    "duration": 271,
    "start_time": "2022-12-18T07:23:41.215Z"
   },
   {
    "duration": 14,
    "start_time": "2022-12-18T07:23:41.488Z"
   },
   {
    "duration": 216,
    "start_time": "2022-12-18T07:23:41.503Z"
   },
   {
    "duration": 219,
    "start_time": "2022-12-18T07:23:41.721Z"
   },
   {
    "duration": 28,
    "start_time": "2022-12-18T07:23:41.942Z"
   },
   {
    "duration": 65,
    "start_time": "2022-12-21T20:29:33.208Z"
   },
   {
    "duration": 4478,
    "start_time": "2022-12-21T20:29:35.697Z"
   },
   {
    "duration": 193,
    "start_time": "2022-12-21T20:29:40.177Z"
   },
   {
    "duration": 319,
    "start_time": "2022-12-21T20:29:40.372Z"
   },
   {
    "duration": 87,
    "start_time": "2022-12-21T20:29:40.695Z"
   },
   {
    "duration": 29,
    "start_time": "2022-12-21T20:29:40.784Z"
   },
   {
    "duration": 144,
    "start_time": "2022-12-21T20:29:40.815Z"
   },
   {
    "duration": 112,
    "start_time": "2022-12-21T20:29:40.962Z"
   },
   {
    "duration": 27,
    "start_time": "2022-12-21T20:29:41.076Z"
   },
   {
    "duration": 58,
    "start_time": "2022-12-21T20:29:41.105Z"
   },
   {
    "duration": 91,
    "start_time": "2022-12-21T20:29:41.174Z"
   },
   {
    "duration": 13,
    "start_time": "2022-12-21T20:29:41.267Z"
   },
   {
    "duration": 35,
    "start_time": "2022-12-21T20:29:41.282Z"
   },
   {
    "duration": 109,
    "start_time": "2022-12-21T20:29:41.320Z"
   },
   {
    "duration": 41,
    "start_time": "2022-12-21T20:29:41.431Z"
   },
   {
    "duration": 138,
    "start_time": "2022-12-21T20:29:41.475Z"
   },
   {
    "duration": 166,
    "start_time": "2022-12-21T20:29:41.615Z"
   },
   {
    "duration": 128,
    "start_time": "2022-12-21T20:29:41.783Z"
   },
   {
    "duration": 121,
    "start_time": "2022-12-21T20:29:41.913Z"
   },
   {
    "duration": 36,
    "start_time": "2022-12-21T20:29:42.037Z"
   },
   {
    "duration": 21,
    "start_time": "2022-12-21T20:29:42.075Z"
   },
   {
    "duration": 11,
    "start_time": "2022-12-21T20:29:42.098Z"
   },
   {
    "duration": 41,
    "start_time": "2022-12-21T20:29:42.111Z"
   },
   {
    "duration": 34,
    "start_time": "2022-12-21T20:29:42.154Z"
   },
   {
    "duration": 31,
    "start_time": "2022-12-21T20:29:42.191Z"
   },
   {
    "duration": 143,
    "start_time": "2022-12-21T20:29:42.224Z"
   },
   {
    "duration": 511,
    "start_time": "2022-12-21T20:29:42.370Z"
   },
   {
    "duration": 25,
    "start_time": "2022-12-21T20:29:42.883Z"
   },
   {
    "duration": 49,
    "start_time": "2022-12-21T20:29:42.912Z"
   },
   {
    "duration": 157,
    "start_time": "2022-12-21T20:29:42.970Z"
   },
   {
    "duration": 167,
    "start_time": "2022-12-21T20:29:43.129Z"
   },
   {
    "duration": 201,
    "start_time": "2022-12-21T20:29:43.298Z"
   },
   {
    "duration": 211,
    "start_time": "2022-12-21T20:29:43.501Z"
   },
   {
    "duration": 21,
    "start_time": "2022-12-21T20:29:43.714Z"
   },
   {
    "duration": 168,
    "start_time": "2022-12-21T20:29:43.753Z"
   },
   {
    "duration": 178,
    "start_time": "2022-12-21T20:29:43.923Z"
   },
   {
    "duration": 183,
    "start_time": "2022-12-21T20:29:44.103Z"
   },
   {
    "duration": 13,
    "start_time": "2022-12-21T20:29:44.288Z"
   },
   {
    "duration": 192,
    "start_time": "2022-12-21T20:29:44.303Z"
   },
   {
    "duration": 309,
    "start_time": "2022-12-21T20:29:44.498Z"
   },
   {
    "duration": 176,
    "start_time": "2022-12-21T20:29:44.809Z"
   },
   {
    "duration": 156,
    "start_time": "2022-12-21T20:29:44.987Z"
   },
   {
    "duration": 164,
    "start_time": "2022-12-21T20:29:45.157Z"
   },
   {
    "duration": 153,
    "start_time": "2022-12-21T20:29:45.324Z"
   },
   {
    "duration": 176,
    "start_time": "2022-12-21T20:29:45.479Z"
   },
   {
    "duration": 210,
    "start_time": "2022-12-21T20:29:45.657Z"
   },
   {
    "duration": 156,
    "start_time": "2022-12-21T20:29:45.871Z"
   },
   {
    "duration": 207,
    "start_time": "2022-12-21T20:29:46.029Z"
   },
   {
    "duration": 175,
    "start_time": "2022-12-21T20:29:46.237Z"
   },
   {
    "duration": 166,
    "start_time": "2022-12-21T20:29:46.414Z"
   },
   {
    "duration": 200,
    "start_time": "2022-12-21T20:29:46.582Z"
   },
   {
    "duration": 182,
    "start_time": "2022-12-21T20:29:46.785Z"
   },
   {
    "duration": 213,
    "start_time": "2022-12-21T20:29:46.971Z"
   },
   {
    "duration": 212,
    "start_time": "2022-12-21T20:29:47.186Z"
   },
   {
    "duration": 309,
    "start_time": "2022-12-21T20:29:47.400Z"
   },
   {
    "duration": 203,
    "start_time": "2022-12-21T20:29:47.711Z"
   },
   {
    "duration": 177,
    "start_time": "2022-12-21T20:29:47.916Z"
   },
   {
    "duration": 179,
    "start_time": "2022-12-21T20:29:48.096Z"
   },
   {
    "duration": 191,
    "start_time": "2022-12-21T20:29:48.279Z"
   },
   {
    "duration": 231,
    "start_time": "2022-12-21T20:29:48.472Z"
   },
   {
    "duration": 198,
    "start_time": "2022-12-21T20:29:48.705Z"
   },
   {
    "duration": 341,
    "start_time": "2022-12-21T20:29:48.905Z"
   },
   {
    "duration": 27,
    "start_time": "2022-12-21T20:29:49.247Z"
   },
   {
    "duration": 240,
    "start_time": "2022-12-21T20:29:49.278Z"
   },
   {
    "duration": 342,
    "start_time": "2022-12-21T20:29:49.520Z"
   },
   {
    "duration": 44,
    "start_time": "2022-12-21T20:29:49.865Z"
   }
  ],
  "kernelspec": {
   "display_name": "Python 3 (ipykernel)",
   "language": "python",
   "name": "python3"
  },
  "language_info": {
   "codemirror_mode": {
    "name": "ipython",
    "version": 3
   },
   "file_extension": ".py",
   "mimetype": "text/x-python",
   "name": "python",
   "nbconvert_exporter": "python",
   "pygments_lexer": "ipython3",
   "version": "3.9.13"
  },
  "toc": {
   "base_numbering": 1,
   "nav_menu": {},
   "number_sections": true,
   "sideBar": true,
   "skip_h1_title": true,
   "title_cell": "Table of Contents",
   "title_sidebar": "Contents",
   "toc_cell": false,
   "toc_position": {
    "height": "calc(100% - 180px)",
    "left": "10px",
    "top": "150px",
    "width": "165px"
   },
   "toc_section_display": true,
   "toc_window_display": true
  }
 },
 "nbformat": 4,
 "nbformat_minor": 2
}
