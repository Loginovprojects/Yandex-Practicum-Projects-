{
 "cells": [
  {
   "cell_type": "markdown",
   "id": "89fbf327",
   "metadata": {
    "deletable": false,
    "editable": false,
    "id": "c81daeeb"
   },
   "source": [
    "# Исследование надежности заемщиков\n"
   ]
  },
  {
   "cell_type": "markdown",
   "id": "f7422052",
   "metadata": {
    "deletable": false,
    "editable": false,
    "id": "744d7639"
   },
   "source": [
    "## Откройте таблицу и изучите общую информацию о данных"
   ]
  },
  {
   "cell_type": "markdown",
   "id": "0913e065",
   "metadata": {
    "deletable": false,
    "editable": false,
    "id": "e7a14c31"
   },
   "source": [
    "**Задание 1. Импортируйте библиотеку pandas. Считайте данные из csv-файла в датафрейм и сохраните в переменную `data`. Путь к файлу:**\n",
    "\n",
    "`/datasets/data.csv`"
   ]
  },
  {
   "cell_type": "code",
   "execution_count": 11,
   "id": "27ab7dea",
   "metadata": {
    "deletable": false,
    "id": "7bcf75c9"
   },
   "outputs": [],
   "source": [
    "import pandas as pd\n",
    "\n",
    "try:\n",
    "    data = pd.read_csv('/datasets/data.csv')\n",
    "except:\n",
    "    data = pd.read_csv('https://code.s3.yandex.net/datasets/data.csv')"
   ]
  },
  {
   "cell_type": "markdown",
   "id": "45759977",
   "metadata": {
    "deletable": false,
    "editable": false,
    "id": "b8038fe3"
   },
   "source": [
    "**Задание 2. Выведите первые 20 строчек датафрейма `data` на экран.**"
   ]
  },
  {
   "cell_type": "code",
   "execution_count": 12,
   "id": "d99d9e36",
   "metadata": {
    "deletable": false,
    "id": "2a7cab99",
    "outputId": "1a8f3ef2-d323-4ec2-ddf7-89670b5944c4"
   },
   "outputs": [
    {
     "data": {
      "text/html": [
       "<div>\n",
       "<style scoped>\n",
       "    .dataframe tbody tr th:only-of-type {\n",
       "        vertical-align: middle;\n",
       "    }\n",
       "\n",
       "    .dataframe tbody tr th {\n",
       "        vertical-align: top;\n",
       "    }\n",
       "\n",
       "    .dataframe thead th {\n",
       "        text-align: right;\n",
       "    }\n",
       "</style>\n",
       "<table border=\"1\" class=\"dataframe\">\n",
       "  <thead>\n",
       "    <tr style=\"text-align: right;\">\n",
       "      <th></th>\n",
       "      <th>children</th>\n",
       "      <th>days_employed</th>\n",
       "      <th>dob_years</th>\n",
       "      <th>education</th>\n",
       "      <th>education_id</th>\n",
       "      <th>family_status</th>\n",
       "      <th>family_status_id</th>\n",
       "      <th>gender</th>\n",
       "      <th>income_type</th>\n",
       "      <th>debt</th>\n",
       "      <th>total_income</th>\n",
       "      <th>purpose</th>\n",
       "    </tr>\n",
       "  </thead>\n",
       "  <tbody>\n",
       "    <tr>\n",
       "      <th>0</th>\n",
       "      <td>1</td>\n",
       "      <td>-8437.673028</td>\n",
       "      <td>42</td>\n",
       "      <td>высшее</td>\n",
       "      <td>0</td>\n",
       "      <td>женат / замужем</td>\n",
       "      <td>0</td>\n",
       "      <td>F</td>\n",
       "      <td>сотрудник</td>\n",
       "      <td>0</td>\n",
       "      <td>253875.639453</td>\n",
       "      <td>покупка жилья</td>\n",
       "    </tr>\n",
       "    <tr>\n",
       "      <th>1</th>\n",
       "      <td>1</td>\n",
       "      <td>-4024.803754</td>\n",
       "      <td>36</td>\n",
       "      <td>среднее</td>\n",
       "      <td>1</td>\n",
       "      <td>женат / замужем</td>\n",
       "      <td>0</td>\n",
       "      <td>F</td>\n",
       "      <td>сотрудник</td>\n",
       "      <td>0</td>\n",
       "      <td>112080.014102</td>\n",
       "      <td>приобретение автомобиля</td>\n",
       "    </tr>\n",
       "    <tr>\n",
       "      <th>2</th>\n",
       "      <td>0</td>\n",
       "      <td>-5623.422610</td>\n",
       "      <td>33</td>\n",
       "      <td>Среднее</td>\n",
       "      <td>1</td>\n",
       "      <td>женат / замужем</td>\n",
       "      <td>0</td>\n",
       "      <td>M</td>\n",
       "      <td>сотрудник</td>\n",
       "      <td>0</td>\n",
       "      <td>145885.952297</td>\n",
       "      <td>покупка жилья</td>\n",
       "    </tr>\n",
       "    <tr>\n",
       "      <th>3</th>\n",
       "      <td>3</td>\n",
       "      <td>-4124.747207</td>\n",
       "      <td>32</td>\n",
       "      <td>среднее</td>\n",
       "      <td>1</td>\n",
       "      <td>женат / замужем</td>\n",
       "      <td>0</td>\n",
       "      <td>M</td>\n",
       "      <td>сотрудник</td>\n",
       "      <td>0</td>\n",
       "      <td>267628.550329</td>\n",
       "      <td>дополнительное образование</td>\n",
       "    </tr>\n",
       "    <tr>\n",
       "      <th>4</th>\n",
       "      <td>0</td>\n",
       "      <td>340266.072047</td>\n",
       "      <td>53</td>\n",
       "      <td>среднее</td>\n",
       "      <td>1</td>\n",
       "      <td>гражданский брак</td>\n",
       "      <td>1</td>\n",
       "      <td>F</td>\n",
       "      <td>пенсионер</td>\n",
       "      <td>0</td>\n",
       "      <td>158616.077870</td>\n",
       "      <td>сыграть свадьбу</td>\n",
       "    </tr>\n",
       "    <tr>\n",
       "      <th>5</th>\n",
       "      <td>0</td>\n",
       "      <td>-926.185831</td>\n",
       "      <td>27</td>\n",
       "      <td>высшее</td>\n",
       "      <td>0</td>\n",
       "      <td>гражданский брак</td>\n",
       "      <td>1</td>\n",
       "      <td>M</td>\n",
       "      <td>компаньон</td>\n",
       "      <td>0</td>\n",
       "      <td>255763.565419</td>\n",
       "      <td>покупка жилья</td>\n",
       "    </tr>\n",
       "    <tr>\n",
       "      <th>6</th>\n",
       "      <td>0</td>\n",
       "      <td>-2879.202052</td>\n",
       "      <td>43</td>\n",
       "      <td>высшее</td>\n",
       "      <td>0</td>\n",
       "      <td>женат / замужем</td>\n",
       "      <td>0</td>\n",
       "      <td>F</td>\n",
       "      <td>компаньон</td>\n",
       "      <td>0</td>\n",
       "      <td>240525.971920</td>\n",
       "      <td>операции с жильем</td>\n",
       "    </tr>\n",
       "    <tr>\n",
       "      <th>7</th>\n",
       "      <td>0</td>\n",
       "      <td>-152.779569</td>\n",
       "      <td>50</td>\n",
       "      <td>СРЕДНЕЕ</td>\n",
       "      <td>1</td>\n",
       "      <td>женат / замужем</td>\n",
       "      <td>0</td>\n",
       "      <td>M</td>\n",
       "      <td>сотрудник</td>\n",
       "      <td>0</td>\n",
       "      <td>135823.934197</td>\n",
       "      <td>образование</td>\n",
       "    </tr>\n",
       "    <tr>\n",
       "      <th>8</th>\n",
       "      <td>2</td>\n",
       "      <td>-6929.865299</td>\n",
       "      <td>35</td>\n",
       "      <td>ВЫСШЕЕ</td>\n",
       "      <td>0</td>\n",
       "      <td>гражданский брак</td>\n",
       "      <td>1</td>\n",
       "      <td>F</td>\n",
       "      <td>сотрудник</td>\n",
       "      <td>0</td>\n",
       "      <td>95856.832424</td>\n",
       "      <td>на проведение свадьбы</td>\n",
       "    </tr>\n",
       "    <tr>\n",
       "      <th>9</th>\n",
       "      <td>0</td>\n",
       "      <td>-2188.756445</td>\n",
       "      <td>41</td>\n",
       "      <td>среднее</td>\n",
       "      <td>1</td>\n",
       "      <td>женат / замужем</td>\n",
       "      <td>0</td>\n",
       "      <td>M</td>\n",
       "      <td>сотрудник</td>\n",
       "      <td>0</td>\n",
       "      <td>144425.938277</td>\n",
       "      <td>покупка жилья для семьи</td>\n",
       "    </tr>\n",
       "    <tr>\n",
       "      <th>10</th>\n",
       "      <td>2</td>\n",
       "      <td>-4171.483647</td>\n",
       "      <td>36</td>\n",
       "      <td>высшее</td>\n",
       "      <td>0</td>\n",
       "      <td>женат / замужем</td>\n",
       "      <td>0</td>\n",
       "      <td>M</td>\n",
       "      <td>компаньон</td>\n",
       "      <td>0</td>\n",
       "      <td>113943.491460</td>\n",
       "      <td>покупка недвижимости</td>\n",
       "    </tr>\n",
       "    <tr>\n",
       "      <th>11</th>\n",
       "      <td>0</td>\n",
       "      <td>-792.701887</td>\n",
       "      <td>40</td>\n",
       "      <td>среднее</td>\n",
       "      <td>1</td>\n",
       "      <td>женат / замужем</td>\n",
       "      <td>0</td>\n",
       "      <td>F</td>\n",
       "      <td>сотрудник</td>\n",
       "      <td>0</td>\n",
       "      <td>77069.234271</td>\n",
       "      <td>покупка коммерческой недвижимости</td>\n",
       "    </tr>\n",
       "    <tr>\n",
       "      <th>12</th>\n",
       "      <td>0</td>\n",
       "      <td>NaN</td>\n",
       "      <td>65</td>\n",
       "      <td>среднее</td>\n",
       "      <td>1</td>\n",
       "      <td>гражданский брак</td>\n",
       "      <td>1</td>\n",
       "      <td>M</td>\n",
       "      <td>пенсионер</td>\n",
       "      <td>0</td>\n",
       "      <td>NaN</td>\n",
       "      <td>сыграть свадьбу</td>\n",
       "    </tr>\n",
       "    <tr>\n",
       "      <th>13</th>\n",
       "      <td>0</td>\n",
       "      <td>-1846.641941</td>\n",
       "      <td>54</td>\n",
       "      <td>неоконченное высшее</td>\n",
       "      <td>2</td>\n",
       "      <td>женат / замужем</td>\n",
       "      <td>0</td>\n",
       "      <td>F</td>\n",
       "      <td>сотрудник</td>\n",
       "      <td>0</td>\n",
       "      <td>130458.228857</td>\n",
       "      <td>приобретение автомобиля</td>\n",
       "    </tr>\n",
       "    <tr>\n",
       "      <th>14</th>\n",
       "      <td>0</td>\n",
       "      <td>-1844.956182</td>\n",
       "      <td>56</td>\n",
       "      <td>высшее</td>\n",
       "      <td>0</td>\n",
       "      <td>гражданский брак</td>\n",
       "      <td>1</td>\n",
       "      <td>F</td>\n",
       "      <td>компаньон</td>\n",
       "      <td>1</td>\n",
       "      <td>165127.911772</td>\n",
       "      <td>покупка жилой недвижимости</td>\n",
       "    </tr>\n",
       "    <tr>\n",
       "      <th>15</th>\n",
       "      <td>1</td>\n",
       "      <td>-972.364419</td>\n",
       "      <td>26</td>\n",
       "      <td>среднее</td>\n",
       "      <td>1</td>\n",
       "      <td>женат / замужем</td>\n",
       "      <td>0</td>\n",
       "      <td>F</td>\n",
       "      <td>сотрудник</td>\n",
       "      <td>0</td>\n",
       "      <td>116820.904450</td>\n",
       "      <td>строительство собственной недвижимости</td>\n",
       "    </tr>\n",
       "    <tr>\n",
       "      <th>16</th>\n",
       "      <td>0</td>\n",
       "      <td>-1719.934226</td>\n",
       "      <td>35</td>\n",
       "      <td>среднее</td>\n",
       "      <td>1</td>\n",
       "      <td>женат / замужем</td>\n",
       "      <td>0</td>\n",
       "      <td>F</td>\n",
       "      <td>сотрудник</td>\n",
       "      <td>0</td>\n",
       "      <td>289202.704229</td>\n",
       "      <td>недвижимость</td>\n",
       "    </tr>\n",
       "    <tr>\n",
       "      <th>17</th>\n",
       "      <td>0</td>\n",
       "      <td>-2369.999720</td>\n",
       "      <td>33</td>\n",
       "      <td>высшее</td>\n",
       "      <td>0</td>\n",
       "      <td>гражданский брак</td>\n",
       "      <td>1</td>\n",
       "      <td>M</td>\n",
       "      <td>сотрудник</td>\n",
       "      <td>0</td>\n",
       "      <td>90410.586745</td>\n",
       "      <td>строительство недвижимости</td>\n",
       "    </tr>\n",
       "    <tr>\n",
       "      <th>18</th>\n",
       "      <td>0</td>\n",
       "      <td>400281.136913</td>\n",
       "      <td>53</td>\n",
       "      <td>среднее</td>\n",
       "      <td>1</td>\n",
       "      <td>вдовец / вдова</td>\n",
       "      <td>2</td>\n",
       "      <td>F</td>\n",
       "      <td>пенсионер</td>\n",
       "      <td>0</td>\n",
       "      <td>56823.777243</td>\n",
       "      <td>на покупку подержанного автомобиля</td>\n",
       "    </tr>\n",
       "    <tr>\n",
       "      <th>19</th>\n",
       "      <td>0</td>\n",
       "      <td>-10038.818549</td>\n",
       "      <td>48</td>\n",
       "      <td>СРЕДНЕЕ</td>\n",
       "      <td>1</td>\n",
       "      <td>в разводе</td>\n",
       "      <td>3</td>\n",
       "      <td>F</td>\n",
       "      <td>сотрудник</td>\n",
       "      <td>0</td>\n",
       "      <td>242831.107982</td>\n",
       "      <td>на покупку своего автомобиля</td>\n",
       "    </tr>\n",
       "    <tr>\n",
       "      <th>20</th>\n",
       "      <td>1</td>\n",
       "      <td>-1311.604166</td>\n",
       "      <td>36</td>\n",
       "      <td>среднее</td>\n",
       "      <td>1</td>\n",
       "      <td>женат / замужем</td>\n",
       "      <td>0</td>\n",
       "      <td>M</td>\n",
       "      <td>сотрудник</td>\n",
       "      <td>0</td>\n",
       "      <td>209552.644578</td>\n",
       "      <td>недвижимость</td>\n",
       "    </tr>\n",
       "    <tr>\n",
       "      <th>21</th>\n",
       "      <td>1</td>\n",
       "      <td>-253.685166</td>\n",
       "      <td>33</td>\n",
       "      <td>среднее</td>\n",
       "      <td>1</td>\n",
       "      <td>гражданский брак</td>\n",
       "      <td>1</td>\n",
       "      <td>F</td>\n",
       "      <td>сотрудник</td>\n",
       "      <td>0</td>\n",
       "      <td>131812.203909</td>\n",
       "      <td>приобретение автомобиля</td>\n",
       "    </tr>\n",
       "    <tr>\n",
       "      <th>22</th>\n",
       "      <td>1</td>\n",
       "      <td>-1766.644138</td>\n",
       "      <td>24</td>\n",
       "      <td>среднее</td>\n",
       "      <td>1</td>\n",
       "      <td>гражданский брак</td>\n",
       "      <td>1</td>\n",
       "      <td>F</td>\n",
       "      <td>сотрудник</td>\n",
       "      <td>0</td>\n",
       "      <td>149681.140731</td>\n",
       "      <td>на покупку подержанного автомобиля</td>\n",
       "    </tr>\n",
       "    <tr>\n",
       "      <th>23</th>\n",
       "      <td>0</td>\n",
       "      <td>-272.981385</td>\n",
       "      <td>21</td>\n",
       "      <td>высшее</td>\n",
       "      <td>0</td>\n",
       "      <td>гражданский брак</td>\n",
       "      <td>1</td>\n",
       "      <td>M</td>\n",
       "      <td>сотрудник</td>\n",
       "      <td>0</td>\n",
       "      <td>128265.720871</td>\n",
       "      <td>сыграть свадьбу</td>\n",
       "    </tr>\n",
       "    <tr>\n",
       "      <th>24</th>\n",
       "      <td>1</td>\n",
       "      <td>338551.952911</td>\n",
       "      <td>57</td>\n",
       "      <td>среднее</td>\n",
       "      <td>1</td>\n",
       "      <td>Не женат / не замужем</td>\n",
       "      <td>4</td>\n",
       "      <td>F</td>\n",
       "      <td>пенсионер</td>\n",
       "      <td>0</td>\n",
       "      <td>290547.235997</td>\n",
       "      <td>операции с коммерческой недвижимостью</td>\n",
       "    </tr>\n",
       "    <tr>\n",
       "      <th>25</th>\n",
       "      <td>0</td>\n",
       "      <td>363548.489348</td>\n",
       "      <td>67</td>\n",
       "      <td>среднее</td>\n",
       "      <td>1</td>\n",
       "      <td>женат / замужем</td>\n",
       "      <td>0</td>\n",
       "      <td>M</td>\n",
       "      <td>пенсионер</td>\n",
       "      <td>0</td>\n",
       "      <td>55112.757732</td>\n",
       "      <td>покупка недвижимости</td>\n",
       "    </tr>\n",
       "    <tr>\n",
       "      <th>26</th>\n",
       "      <td>0</td>\n",
       "      <td>NaN</td>\n",
       "      <td>41</td>\n",
       "      <td>среднее</td>\n",
       "      <td>1</td>\n",
       "      <td>женат / замужем</td>\n",
       "      <td>0</td>\n",
       "      <td>M</td>\n",
       "      <td>госслужащий</td>\n",
       "      <td>0</td>\n",
       "      <td>NaN</td>\n",
       "      <td>образование</td>\n",
       "    </tr>\n",
       "    <tr>\n",
       "      <th>27</th>\n",
       "      <td>0</td>\n",
       "      <td>-529.191635</td>\n",
       "      <td>28</td>\n",
       "      <td>высшее</td>\n",
       "      <td>0</td>\n",
       "      <td>женат / замужем</td>\n",
       "      <td>0</td>\n",
       "      <td>M</td>\n",
       "      <td>сотрудник</td>\n",
       "      <td>0</td>\n",
       "      <td>308848.983691</td>\n",
       "      <td>строительство собственной недвижимости</td>\n",
       "    </tr>\n",
       "    <tr>\n",
       "      <th>28</th>\n",
       "      <td>1</td>\n",
       "      <td>-717.274324</td>\n",
       "      <td>26</td>\n",
       "      <td>высшее</td>\n",
       "      <td>0</td>\n",
       "      <td>женат / замужем</td>\n",
       "      <td>0</td>\n",
       "      <td>F</td>\n",
       "      <td>сотрудник</td>\n",
       "      <td>0</td>\n",
       "      <td>187863.237306</td>\n",
       "      <td>строительство собственной недвижимости</td>\n",
       "    </tr>\n",
       "    <tr>\n",
       "      <th>29</th>\n",
       "      <td>0</td>\n",
       "      <td>NaN</td>\n",
       "      <td>63</td>\n",
       "      <td>среднее</td>\n",
       "      <td>1</td>\n",
       "      <td>Не женат / не замужем</td>\n",
       "      <td>4</td>\n",
       "      <td>F</td>\n",
       "      <td>пенсионер</td>\n",
       "      <td>0</td>\n",
       "      <td>NaN</td>\n",
       "      <td>строительство жилой недвижимости</td>\n",
       "    </tr>\n",
       "  </tbody>\n",
       "</table>\n",
       "</div>"
      ],
      "text/plain": [
       "    children  days_employed  dob_years            education  education_id  \\\n",
       "0          1   -8437.673028         42               высшее             0   \n",
       "1          1   -4024.803754         36              среднее             1   \n",
       "2          0   -5623.422610         33              Среднее             1   \n",
       "3          3   -4124.747207         32              среднее             1   \n",
       "4          0  340266.072047         53              среднее             1   \n",
       "5          0    -926.185831         27               высшее             0   \n",
       "6          0   -2879.202052         43               высшее             0   \n",
       "7          0    -152.779569         50              СРЕДНЕЕ             1   \n",
       "8          2   -6929.865299         35               ВЫСШЕЕ             0   \n",
       "9          0   -2188.756445         41              среднее             1   \n",
       "10         2   -4171.483647         36               высшее             0   \n",
       "11         0    -792.701887         40              среднее             1   \n",
       "12         0            NaN         65              среднее             1   \n",
       "13         0   -1846.641941         54  неоконченное высшее             2   \n",
       "14         0   -1844.956182         56               высшее             0   \n",
       "15         1    -972.364419         26              среднее             1   \n",
       "16         0   -1719.934226         35              среднее             1   \n",
       "17         0   -2369.999720         33               высшее             0   \n",
       "18         0  400281.136913         53              среднее             1   \n",
       "19         0  -10038.818549         48              СРЕДНЕЕ             1   \n",
       "20         1   -1311.604166         36              среднее             1   \n",
       "21         1    -253.685166         33              среднее             1   \n",
       "22         1   -1766.644138         24              среднее             1   \n",
       "23         0    -272.981385         21               высшее             0   \n",
       "24         1  338551.952911         57              среднее             1   \n",
       "25         0  363548.489348         67              среднее             1   \n",
       "26         0            NaN         41              среднее             1   \n",
       "27         0    -529.191635         28               высшее             0   \n",
       "28         1    -717.274324         26               высшее             0   \n",
       "29         0            NaN         63              среднее             1   \n",
       "\n",
       "            family_status  family_status_id gender  income_type  debt  \\\n",
       "0         женат / замужем                 0      F    сотрудник     0   \n",
       "1         женат / замужем                 0      F    сотрудник     0   \n",
       "2         женат / замужем                 0      M    сотрудник     0   \n",
       "3         женат / замужем                 0      M    сотрудник     0   \n",
       "4        гражданский брак                 1      F    пенсионер     0   \n",
       "5        гражданский брак                 1      M    компаньон     0   \n",
       "6         женат / замужем                 0      F    компаньон     0   \n",
       "7         женат / замужем                 0      M    сотрудник     0   \n",
       "8        гражданский брак                 1      F    сотрудник     0   \n",
       "9         женат / замужем                 0      M    сотрудник     0   \n",
       "10        женат / замужем                 0      M    компаньон     0   \n",
       "11        женат / замужем                 0      F    сотрудник     0   \n",
       "12       гражданский брак                 1      M    пенсионер     0   \n",
       "13        женат / замужем                 0      F    сотрудник     0   \n",
       "14       гражданский брак                 1      F    компаньон     1   \n",
       "15        женат / замужем                 0      F    сотрудник     0   \n",
       "16        женат / замужем                 0      F    сотрудник     0   \n",
       "17       гражданский брак                 1      M    сотрудник     0   \n",
       "18         вдовец / вдова                 2      F    пенсионер     0   \n",
       "19              в разводе                 3      F    сотрудник     0   \n",
       "20        женат / замужем                 0      M    сотрудник     0   \n",
       "21       гражданский брак                 1      F    сотрудник     0   \n",
       "22       гражданский брак                 1      F    сотрудник     0   \n",
       "23       гражданский брак                 1      M    сотрудник     0   \n",
       "24  Не женат / не замужем                 4      F    пенсионер     0   \n",
       "25        женат / замужем                 0      M    пенсионер     0   \n",
       "26        женат / замужем                 0      M  госслужащий     0   \n",
       "27        женат / замужем                 0      M    сотрудник     0   \n",
       "28        женат / замужем                 0      F    сотрудник     0   \n",
       "29  Не женат / не замужем                 4      F    пенсионер     0   \n",
       "\n",
       "     total_income                                 purpose  \n",
       "0   253875.639453                           покупка жилья  \n",
       "1   112080.014102                 приобретение автомобиля  \n",
       "2   145885.952297                           покупка жилья  \n",
       "3   267628.550329              дополнительное образование  \n",
       "4   158616.077870                         сыграть свадьбу  \n",
       "5   255763.565419                           покупка жилья  \n",
       "6   240525.971920                       операции с жильем  \n",
       "7   135823.934197                             образование  \n",
       "8    95856.832424                   на проведение свадьбы  \n",
       "9   144425.938277                 покупка жилья для семьи  \n",
       "10  113943.491460                    покупка недвижимости  \n",
       "11   77069.234271       покупка коммерческой недвижимости  \n",
       "12            NaN                         сыграть свадьбу  \n",
       "13  130458.228857                 приобретение автомобиля  \n",
       "14  165127.911772              покупка жилой недвижимости  \n",
       "15  116820.904450  строительство собственной недвижимости  \n",
       "16  289202.704229                            недвижимость  \n",
       "17   90410.586745              строительство недвижимости  \n",
       "18   56823.777243      на покупку подержанного автомобиля  \n",
       "19  242831.107982            на покупку своего автомобиля  \n",
       "20  209552.644578                            недвижимость  \n",
       "21  131812.203909                 приобретение автомобиля  \n",
       "22  149681.140731      на покупку подержанного автомобиля  \n",
       "23  128265.720871                         сыграть свадьбу  \n",
       "24  290547.235997   операции с коммерческой недвижимостью  \n",
       "25   55112.757732                    покупка недвижимости  \n",
       "26            NaN                             образование  \n",
       "27  308848.983691  строительство собственной недвижимости  \n",
       "28  187863.237306  строительство собственной недвижимости  \n",
       "29            NaN        строительство жилой недвижимости  "
      ]
     },
     "execution_count": 12,
     "metadata": {},
     "output_type": "execute_result"
    }
   ],
   "source": [
    "data.head(30)"
   ]
  },
  {
   "cell_type": "markdown",
   "id": "fb22a75c",
   "metadata": {
    "deletable": false,
    "editable": false,
    "id": "1c12e233"
   },
   "source": [
    "**Задание 3. Выведите основную информацию о датафрейме с помощью метода `info()`.**"
   ]
  },
  {
   "cell_type": "code",
   "execution_count": 13,
   "id": "73cf34d7",
   "metadata": {
    "deletable": false,
    "id": "2b757bca",
    "outputId": "15376089-8dad-46c9-b520-c05248d43158"
   },
   "outputs": [
    {
     "name": "stdout",
     "output_type": "stream",
     "text": [
      "<class 'pandas.core.frame.DataFrame'>\n",
      "RangeIndex: 21525 entries, 0 to 21524\n",
      "Data columns (total 12 columns):\n",
      " #   Column            Non-Null Count  Dtype  \n",
      "---  ------            --------------  -----  \n",
      " 0   children          21525 non-null  int64  \n",
      " 1   days_employed     19351 non-null  float64\n",
      " 2   dob_years         21525 non-null  int64  \n",
      " 3   education         21525 non-null  object \n",
      " 4   education_id      21525 non-null  int64  \n",
      " 5   family_status     21525 non-null  object \n",
      " 6   family_status_id  21525 non-null  int64  \n",
      " 7   gender            21525 non-null  object \n",
      " 8   income_type       21525 non-null  object \n",
      " 9   debt              21525 non-null  int64  \n",
      " 10  total_income      19351 non-null  float64\n",
      " 11  purpose           21525 non-null  object \n",
      "dtypes: float64(2), int64(5), object(5)\n",
      "memory usage: 2.0+ MB\n"
     ]
    }
   ],
   "source": [
    "data.info()"
   ]
  },
  {
   "cell_type": "markdown",
   "id": "e970f6d2",
   "metadata": {
    "deletable": false,
    "editable": false,
    "id": "333ec665"
   },
   "source": [
    "## Предобработка данных"
   ]
  },
  {
   "cell_type": "markdown",
   "id": "77e6682c",
   "metadata": {
    "deletable": false,
    "editable": false,
    "id": "02d92d53"
   },
   "source": [
    "### Удаление пропусков"
   ]
  },
  {
   "cell_type": "markdown",
   "id": "063a5756",
   "metadata": {
    "deletable": false,
    "editable": false,
    "id": "cd84967c"
   },
   "source": [
    "**Задание 4. Выведите количество пропущенных значений для каждого столбца. Используйте комбинацию двух методов.**"
   ]
  },
  {
   "cell_type": "code",
   "execution_count": 14,
   "id": "553213cf",
   "metadata": {
    "deletable": false,
    "id": "7f9b2309",
    "outputId": "81f4d817-781c-465c-ed15-91ce4446810d"
   },
   "outputs": [
    {
     "data": {
      "text/plain": [
       "children               0\n",
       "days_employed       2174\n",
       "dob_years              0\n",
       "education              0\n",
       "education_id           0\n",
       "family_status          0\n",
       "family_status_id       0\n",
       "gender                 0\n",
       "income_type            0\n",
       "debt                   0\n",
       "total_income        2174\n",
       "purpose                0\n",
       "dtype: int64"
      ]
     },
     "execution_count": 14,
     "metadata": {},
     "output_type": "execute_result"
    }
   ],
   "source": [
    "data.isna().sum()"
   ]
  },
  {
   "cell_type": "markdown",
   "id": "18c0ce07",
   "metadata": {
    "deletable": false,
    "editable": false,
    "id": "db86e27b"
   },
   "source": [
    "**Задание 5. В двух столбцах есть пропущенные значения. Один из них — `days_employed`. Пропуски в этом столбце вы обработаете на следующем этапе. Другой столбец с пропущенными значениями — `total_income` — хранит данные о доходах. На сумму дохода сильнее всего влияет тип занятости, поэтому заполнить пропуски в этом столбце нужно медианным значением по каждому типу из столбца `income_type`. Например, у человека с типом занятости `сотрудник` пропуск в столбце `total_income` должен быть заполнен медианным доходом среди всех записей с тем же типом.**"
   ]
  },
  {
   "cell_type": "code",
   "execution_count": 15,
   "id": "a14592c9",
   "metadata": {
    "deletable": false,
    "id": "42006a93"
   },
   "outputs": [],
   "source": [
    "for t in data['income_type'].unique():\n",
    "    data.loc[(data['income_type'] == t) & (data['total_income'].isna()), 'total_income'] = \\\n",
    "    data.loc[(data['income_type'] == t), 'total_income'].median()"
   ]
  },
  {
   "cell_type": "markdown",
   "id": "fa2eaebf",
   "metadata": {
    "deletable": false,
    "editable": false,
    "id": "89da5ece"
   },
   "source": [
    "### Обработка аномальных значений"
   ]
  },
  {
   "cell_type": "markdown",
   "id": "0aad63d4",
   "metadata": {
    "deletable": false,
    "editable": false,
    "id": "57964554"
   },
   "source": [
    "**Задание 6. В данных могут встречаться артефакты (аномалии) — значения, которые не отражают действительность и появились по какой-то ошибке. таким артефактом будет отрицательное количество дней трудового стажа в столбце `days_employed`. Для реальных данных это нормально. Обработайте значения в этом столбце: замените все отрицательные значения положительными с помощью метода `abs()`.**"
   ]
  },
  {
   "cell_type": "code",
   "execution_count": 16,
   "id": "71cf46f2",
   "metadata": {
    "deletable": false,
    "id": "f6f055bf"
   },
   "outputs": [],
   "source": [
    "data['days_employed'] = data['days_employed'].abs()"
   ]
  },
  {
   "cell_type": "markdown",
   "id": "53a07099",
   "metadata": {
    "deletable": false,
    "editable": false,
    "id": "6107dd2f"
   },
   "source": [
    "**Задание 7. Для каждого типа занятости выведите медианное значение трудового стажа `days_employed` в днях.**"
   ]
  },
  {
   "cell_type": "code",
   "execution_count": 17,
   "id": "b7091c2b",
   "metadata": {
    "deletable": false,
    "id": "85a5faf6",
    "outputId": "801ef80e-522b-4668-f34e-565af7432bcf"
   },
   "outputs": [
    {
     "data": {
      "text/plain": [
       "income_type\n",
       "безработный        366413.652744\n",
       "в декрете            3296.759962\n",
       "госслужащий          2689.368353\n",
       "компаньон            1547.382223\n",
       "пенсионер          365213.306266\n",
       "предприниматель       520.848083\n",
       "сотрудник            1574.202821\n",
       "студент               578.751554\n",
       "Name: days_employed, dtype: float64"
      ]
     },
     "execution_count": 17,
     "metadata": {},
     "output_type": "execute_result"
    }
   ],
   "source": [
    "data.groupby('income_type')['days_employed'].agg('median')"
   ]
  },
  {
   "cell_type": "markdown",
   "id": "a1c77095",
   "metadata": {
    "deletable": false,
    "editable": false,
    "id": "38d1a030"
   },
   "source": [
    "У двух типов (безработные и пенсионеры) получатся аномально большие значения. Исправить такие значения сложно, поэтому оставьте их как есть. Тем более этот столбец не понадобится вам для исследования."
   ]
  },
  {
   "cell_type": "markdown",
   "id": "1785d06e",
   "metadata": {
    "deletable": false,
    "editable": false,
    "id": "d8a9f147"
   },
   "source": [
    "**Задание 8. Выведите перечень уникальных значений столбца `children`.**"
   ]
  },
  {
   "cell_type": "code",
   "execution_count": 18,
   "id": "781fb823",
   "metadata": {
    "deletable": false,
    "id": "ef5056eb",
    "outputId": "6975b15c-7f95-4697-d16d-a0c79b657b03"
   },
   "outputs": [
    {
     "data": {
      "text/plain": [
       "array([ 1,  0,  3,  2, -1,  4, 20,  5])"
      ]
     },
     "execution_count": 18,
     "metadata": {},
     "output_type": "execute_result"
    }
   ],
   "source": [
    "data['children'].unique()"
   ]
  },
  {
   "cell_type": "markdown",
   "id": "895841e1",
   "metadata": {
    "deletable": false,
    "editable": false,
    "id": "40b9ebf2"
   },
   "source": [
    "**Задание 9. В столбце `children` есть два аномальных значения. Удалите строки, в которых встречаются такие аномальные значения из датафрейма `data`.**"
   ]
  },
  {
   "cell_type": "code",
   "execution_count": 19,
   "id": "09e3e26d",
   "metadata": {
    "deletable": false,
    "id": "3ff9801d"
   },
   "outputs": [],
   "source": [
    "data = data[(data['children'] != -1) & (data['children'] != 20)]"
   ]
  },
  {
   "cell_type": "markdown",
   "id": "2cc1d8e3",
   "metadata": {
    "deletable": false,
    "editable": false,
    "id": "bbc4d0ce"
   },
   "source": [
    "**Задание 10. Ещё раз выведите перечень уникальных значений столбца `children`, чтобы убедиться, что артефакты удалены.**"
   ]
  },
  {
   "cell_type": "code",
   "execution_count": 20,
   "id": "b12f6e12",
   "metadata": {
    "deletable": false,
    "id": "ad4fa8b7",
    "outputId": "b2097101-d49d-44d9-901b-32a65c9463d1"
   },
   "outputs": [
    {
     "data": {
      "text/plain": [
       "array([1, 0, 3, 2, 4, 5])"
      ]
     },
     "execution_count": 20,
     "metadata": {},
     "output_type": "execute_result"
    }
   ],
   "source": [
    "data['children'].unique()"
   ]
  },
  {
   "cell_type": "markdown",
   "id": "c5edf837",
   "metadata": {
    "deletable": false,
    "editable": false,
    "id": "75440b63"
   },
   "source": [
    "### Удаление пропусков (продолжение)"
   ]
  },
  {
   "cell_type": "markdown",
   "id": "04b36948",
   "metadata": {
    "deletable": false,
    "editable": false,
    "id": "f4ea573f"
   },
   "source": [
    "**Задание 11. Заполните пропуски в столбце `days_employed` медианными значениями по каждого типа занятости `income_type`.**"
   ]
  },
  {
   "cell_type": "code",
   "execution_count": 21,
   "id": "5ad438fa",
   "metadata": {
    "deletable": false,
    "id": "af6b1a7e"
   },
   "outputs": [],
   "source": [
    "for t in data['income_type'].unique():\n",
    "    data.loc[(data['income_type'] == t) & (data['days_employed'].isna()), 'days_employed'] = \\\n",
    "    data.loc[(data['income_type'] == t), 'days_employed'].median()"
   ]
  },
  {
   "cell_type": "markdown",
   "id": "0182475f",
   "metadata": {
    "deletable": false,
    "editable": false,
    "id": "2753f40d"
   },
   "source": [
    "**Задание 12. Убедитесь, что все пропуски заполнены. Проверьте себя и ещё раз выведите количество пропущенных значений для каждого столбца с помощью двух методов.**"
   ]
  },
  {
   "cell_type": "code",
   "execution_count": 22,
   "id": "fbf03310",
   "metadata": {
    "deletable": false,
    "id": "55f78bc2",
    "outputId": "8da1e4e1-358e-4e87-98c9-f261bce0a7b2"
   },
   "outputs": [
    {
     "data": {
      "text/plain": [
       "children            0\n",
       "days_employed       0\n",
       "dob_years           0\n",
       "education           0\n",
       "education_id        0\n",
       "family_status       0\n",
       "family_status_id    0\n",
       "gender              0\n",
       "income_type         0\n",
       "debt                0\n",
       "total_income        0\n",
       "purpose             0\n",
       "dtype: int64"
      ]
     },
     "execution_count": 22,
     "metadata": {},
     "output_type": "execute_result"
    }
   ],
   "source": [
    "data.isna().sum()"
   ]
  },
  {
   "cell_type": "markdown",
   "id": "21b44923",
   "metadata": {
    "deletable": false,
    "editable": false,
    "id": "ddc81e43"
   },
   "source": [
    "### Изменение типов данных"
   ]
  },
  {
   "cell_type": "markdown",
   "id": "777f77ee",
   "metadata": {
    "deletable": false,
    "editable": false,
    "id": "42d19d24"
   },
   "source": [
    "**Задание 13. Замените вещественный тип данных в столбце `total_income` на целочисленный с помощью метода `astype()`.**"
   ]
  },
  {
   "cell_type": "code",
   "execution_count": 23,
   "id": "230759e3",
   "metadata": {
    "deletable": false,
    "id": "920b65ad"
   },
   "outputs": [],
   "source": [
    "data['total_income'] = data['total_income'].astype(int)"
   ]
  },
  {
   "cell_type": "markdown",
   "id": "e3a1bc1b",
   "metadata": {
    "deletable": false,
    "editable": false,
    "id": "80c420ba"
   },
   "source": [
    "### Обработка дубликатов"
   ]
  },
  {
   "cell_type": "markdown",
   "id": "3df212f3",
   "metadata": {
    "deletable": false,
    "editable": false
   },
   "source": [
    "**Задание 14. Обработайте неявные дубликаты в столбце `education`. В этом столбце есть одни и те же значения, но записанные по-разному: с использованием заглавных и строчных букв. Приведите их к нижнему регистру. Проверьте остальные столбцы.**"
   ]
  },
  {
   "cell_type": "code",
   "execution_count": 24,
   "id": "003160f7",
   "metadata": {
    "deletable": false
   },
   "outputs": [],
   "source": [
    "data['education'] = data['education'].str.lower()"
   ]
  },
  {
   "cell_type": "markdown",
   "id": "84fa4a89",
   "metadata": {
    "deletable": false,
    "editable": false,
    "id": "dc587695"
   },
   "source": [
    "**Задание 15. Выведите на экран количество строк-дубликатов в данных. Если такие строки присутствуют, удалите их.**"
   ]
  },
  {
   "cell_type": "code",
   "execution_count": 25,
   "id": "c719618d",
   "metadata": {
    "deletable": false,
    "id": "3ee445e4",
    "outputId": "9684deba-1934-42d1-99e1-cda61740f822"
   },
   "outputs": [
    {
     "data": {
      "text/plain": [
       "71"
      ]
     },
     "execution_count": 25,
     "metadata": {},
     "output_type": "execute_result"
    }
   ],
   "source": [
    "data.duplicated().sum()"
   ]
  },
  {
   "cell_type": "code",
   "execution_count": 26,
   "id": "fb9f9783",
   "metadata": {
    "deletable": false,
    "id": "8575fe05"
   },
   "outputs": [],
   "source": [
    "data = data.drop_duplicates()"
   ]
  },
  {
   "cell_type": "markdown",
   "id": "e4ed1ad1",
   "metadata": {
    "deletable": false,
    "editable": false,
    "id": "9904cf55"
   },
   "source": [
    "### Категоризация данных"
   ]
  },
  {
   "cell_type": "markdown",
   "id": "ccc95d20",
   "metadata": {
    "deletable": false,
    "editable": false,
    "id": "72fcc8a2"
   },
   "source": [
    "**Задание 16. На основании диапазонов, указанных ниже, создайте в датафрейме `data` столбец `total_income_category` с категориями:**\n",
    "\n",
    "- 0–30000 — `'E'`;\n",
    "- 30001–50000 — `'D'`;\n",
    "- 50001–200000 — `'C'`;\n",
    "- 200001–1000000 — `'B'`;\n",
    "- 1000001 и выше — `'A'`.\n",
    "\n",
    "\n",
    "**Например, кредитополучателю с доходом 25000 нужно назначить категорию `'E'`, а клиенту, получающему 235000, — `'B'`. Используйте собственную функцию с именем `categorize_income()` и метод `apply()`.**"
   ]
  },
  {
   "cell_type": "code",
   "execution_count": 27,
   "id": "bf09c9e1",
   "metadata": {
    "deletable": false,
    "id": "e1771346"
   },
   "outputs": [],
   "source": [
    "def categorize_income(income):\n",
    "    try:\n",
    "        if 0 <= income <= 30000:\n",
    "            return 'E'\n",
    "        elif 30001 <= income <= 50000:\n",
    "            return 'D'\n",
    "        elif 50001 <= income <= 200000:\n",
    "            return 'C'\n",
    "        elif 200001 <= income <= 1000000:\n",
    "            return 'B'\n",
    "        elif income >= 1000001:\n",
    "            return 'A'\n",
    "    except:\n",
    "        pass"
   ]
  },
  {
   "cell_type": "code",
   "execution_count": 28,
   "id": "f064d3ab",
   "metadata": {
    "deletable": false,
    "id": "d5f3586d"
   },
   "outputs": [],
   "source": [
    "data['total_income_category'] = data['total_income'].apply(categorize_income)"
   ]
  },
  {
   "cell_type": "markdown",
   "id": "535c4ca5",
   "metadata": {
    "deletable": false,
    "editable": false,
    "id": "dde49b5c"
   },
   "source": [
    "**Задание 17. Выведите на экран перечень уникальных целей взятия кредита из столбца `purpose`.**"
   ]
  },
  {
   "cell_type": "code",
   "execution_count": 29,
   "id": "141b240a",
   "metadata": {
    "deletable": false,
    "id": "f67ce9b3",
    "outputId": "673c12d9-7d7e-4ae0-9812-c622c89dd244"
   },
   "outputs": [
    {
     "data": {
      "text/plain": [
       "array(['покупка жилья', 'приобретение автомобиля',\n",
       "       'дополнительное образование', 'сыграть свадьбу',\n",
       "       'операции с жильем', 'образование', 'на проведение свадьбы',\n",
       "       'покупка жилья для семьи', 'покупка недвижимости',\n",
       "       'покупка коммерческой недвижимости', 'покупка жилой недвижимости',\n",
       "       'строительство собственной недвижимости', 'недвижимость',\n",
       "       'строительство недвижимости', 'на покупку подержанного автомобиля',\n",
       "       'на покупку своего автомобиля',\n",
       "       'операции с коммерческой недвижимостью',\n",
       "       'строительство жилой недвижимости', 'жилье',\n",
       "       'операции со своей недвижимостью', 'автомобили',\n",
       "       'заняться образованием', 'сделка с подержанным автомобилем',\n",
       "       'получение образования', 'автомобиль', 'свадьба',\n",
       "       'получение дополнительного образования', 'покупка своего жилья',\n",
       "       'операции с недвижимостью', 'получение высшего образования',\n",
       "       'свой автомобиль', 'сделка с автомобилем',\n",
       "       'профильное образование', 'высшее образование',\n",
       "       'покупка жилья для сдачи', 'на покупку автомобиля', 'ремонт жилью',\n",
       "       'заняться высшим образованием'], dtype=object)"
      ]
     },
     "execution_count": 29,
     "metadata": {},
     "output_type": "execute_result"
    }
   ],
   "source": [
    "data['purpose'].unique()"
   ]
  },
  {
   "cell_type": "markdown",
   "id": "9d8a763b",
   "metadata": {
    "deletable": false,
    "editable": false,
    "id": "85d0aef0"
   },
   "source": [
    "**Задание 18. Создайте функцию, которая на основании данных из столбца `purpose` сформирует новый столбец `purpose_category`, в который войдут следующие категории:**\n",
    "\n",
    "- `'операции с автомобилем'`,\n",
    "- `'операции с недвижимостью'`,\n",
    "- `'проведение свадьбы'`,\n",
    "- `'получение образования'`.\n",
    "\n",
    "**Например, если в столбце `purpose` находится подстрока `'на покупку автомобиля'`, то в столбце `purpose_category` должна появиться строка `'операции с автомобилем'`.**\n",
    "\n",
    "**Используйте собственную функцию с именем `categorize_purpose()` и метод `apply()`. Изучите данные в столбце `purpose` и определите, какие подстроки помогут вам правильно определить категорию.**"
   ]
  },
  {
   "cell_type": "code",
   "execution_count": 30,
   "id": "133d6003",
   "metadata": {
    "deletable": false,
    "id": "e149fab4"
   },
   "outputs": [],
   "source": [
    "def categorize_purpose(row):\n",
    "    try:\n",
    "        if 'автом' in row:\n",
    "            return 'операции с автомобилем'\n",
    "        elif 'жил' in row or 'недвиж' in row:\n",
    "            return 'операции с недвижимостью'\n",
    "        elif 'свад' in row:\n",
    "            return 'проведение свадьбы'\n",
    "        elif 'образов' in row:\n",
    "            return 'получение образования'\n",
    "    except:\n",
    "        return 'нет категории'"
   ]
  },
  {
   "cell_type": "code",
   "execution_count": 31,
   "id": "f34eab53",
   "metadata": {
    "deletable": false,
    "id": "bf36e69b"
   },
   "outputs": [],
   "source": [
    "data['purpose_category'] = data['purpose'].apply(categorize_purpose)"
   ]
  },
  {
   "cell_type": "markdown",
   "id": "0cc5c351",
   "metadata": {
    "deletable": false,
    "editable": false,
    "id": "09b242bf"
   },
   "source": [
    "### Шаг 3. Исследуйте данные и ответьте на вопросы"
   ]
  },
  {
   "cell_type": "markdown",
   "id": "3c545dd2",
   "metadata": {
    "deletable": false,
    "editable": false,
    "id": "c5d66278"
   },
   "source": [
    "#### 3.1 Есть ли зависимость между количеством детей и возвратом кредита в срок?"
   ]
  },
  {
   "cell_type": "code",
   "execution_count": 32,
   "id": "25c503d8",
   "metadata": {
    "deletable": false,
    "id": "2cacfc4a"
   },
   "outputs": [
    {
     "name": "stdout",
     "output_type": "stream",
     "text": [
      "__________________________\n"
     ]
    },
    {
     "data": {
      "text/html": [
       "<div>\n",
       "<style scoped>\n",
       "    .dataframe tbody tr th:only-of-type {\n",
       "        vertical-align: middle;\n",
       "    }\n",
       "\n",
       "    .dataframe tbody tr th {\n",
       "        vertical-align: top;\n",
       "    }\n",
       "\n",
       "    .dataframe thead tr th {\n",
       "        text-align: left;\n",
       "    }\n",
       "\n",
       "    .dataframe thead tr:last-of-type th {\n",
       "        text-align: right;\n",
       "    }\n",
       "</style>\n",
       "<table border=\"1\" class=\"dataframe\">\n",
       "  <thead>\n",
       "    <tr>\n",
       "      <th></th>\n",
       "      <th colspan=\"3\" halign=\"left\">debt</th>\n",
       "    </tr>\n",
       "    <tr>\n",
       "      <th></th>\n",
       "      <th>доля долнижков</th>\n",
       "      <th>размер группы</th>\n",
       "      <th>число должников</th>\n",
       "    </tr>\n",
       "    <tr>\n",
       "      <th>children</th>\n",
       "      <th></th>\n",
       "      <th></th>\n",
       "      <th></th>\n",
       "    </tr>\n",
       "  </thead>\n",
       "  <tbody>\n",
       "    <tr>\n",
       "      <th>0</th>\n",
       "      <td>0.075438</td>\n",
       "      <td>14091</td>\n",
       "      <td>1063</td>\n",
       "    </tr>\n",
       "    <tr>\n",
       "      <th>1</th>\n",
       "      <td>0.092346</td>\n",
       "      <td>4808</td>\n",
       "      <td>444</td>\n",
       "    </tr>\n",
       "    <tr>\n",
       "      <th>2</th>\n",
       "      <td>0.094542</td>\n",
       "      <td>2052</td>\n",
       "      <td>194</td>\n",
       "    </tr>\n",
       "    <tr>\n",
       "      <th>3</th>\n",
       "      <td>0.081818</td>\n",
       "      <td>330</td>\n",
       "      <td>27</td>\n",
       "    </tr>\n",
       "    <tr>\n",
       "      <th>4</th>\n",
       "      <td>0.097561</td>\n",
       "      <td>41</td>\n",
       "      <td>4</td>\n",
       "    </tr>\n",
       "    <tr>\n",
       "      <th>5</th>\n",
       "      <td>0.000000</td>\n",
       "      <td>9</td>\n",
       "      <td>0</td>\n",
       "    </tr>\n",
       "  </tbody>\n",
       "</table>\n",
       "</div>"
      ],
      "text/plain": [
       "                   debt                              \n",
       "         доля долнижков размер группы число должников\n",
       "children                                             \n",
       "0              0.075438         14091            1063\n",
       "1              0.092346          4808             444\n",
       "2              0.094542          2052             194\n",
       "3              0.081818           330              27\n",
       "4              0.097561            41               4\n",
       "5              0.000000             9               0"
      ]
     },
     "metadata": {},
     "output_type": "display_data"
    },
    {
     "data": {
      "text/plain": [
       "<AxesSubplot:xlabel='children'>"
      ]
     },
     "metadata": {},
     "output_type": "display_data"
    },
    {
     "data": {
      "text/plain": [
       "<AxesSubplot:xlabel='children'>"
      ]
     },
     "metadata": {},
     "output_type": "display_data"
    },
    {
     "data": {
      "image/png": "[encoded data removed]",
      "text/plain": [
       "<Figure size 432x288 with 1 Axes>"
      ]
     },
     "metadata": {
      "needs_background": "light"
     },
     "output_type": "display_data"
    },
    {
     "data": {
      "image/png": "[encoded data removed]",
      "text/plain": [
       "<Figure size 432x288 with 1 Axes>"
      ]
     },
     "metadata": {
      "needs_background": "light"
     },
     "output_type": "display_data"
    }
   ],
   "source": [
    "#выведем на экран значения показывающие отношение количества детей к количеству должников\n",
    "\n",
    "#display(data.groupby('children').agg({'debt':['mean','count','sum']})) \n",
    "\n",
    "\n",
    "#исходя из полученных данных можно заключить, что количество должников с четырьмя и пятью детьми значительно меньше, что может повлиять на дальнейшие выводы\n",
    "#уберем из расчета эти данные \n",
    "\n",
    "#data = data.loc[data['children'] != 4]\n",
    "#data = data.loc[data['children'] != 5]\n",
    "\n",
    "#разделительная полоса\n",
    "\n",
    "print('__________________________')\n",
    "\n",
    "#сгруппируем данные снова, а также создадим дополнительные переменные для дальнейшей визуализации\n",
    "\n",
    "data_pivot = (data.groupby('children').agg({'debt':['mean','count','sum']}))\n",
    "data_sum_count = (data.groupby('children').agg({'debt':['sum', 'count']}))\n",
    "data_mean = (data.groupby('children').agg({'debt':['mean']}))\n",
    "\n",
    "#переименуем столбцы для удобства \n",
    "\n",
    "data_pivot = data_pivot.rename(columns={'mean': 'доля долнижков', 'count': 'размер группы', 'sum': 'число должников'})\n",
    "display(data_pivot)\n",
    "\n",
    "#построим графики и визуализируем данные\n",
    "\n",
    "display(data_mean.plot.bar())\n",
    "display(data_sum_count.plot())\n",
    "\n",
    "#import matplotlib.pyplot as plt\n",
    "#plt.plot(x, y1, 'o-r')\n",
    "#plt.plot(x, y2, 'o-.g')\n",
    "#plt.legend(['L1', 'L2'])\n"
   ]
  },
  {
   "cell_type": "markdown",
   "id": "be4e008f",
   "metadata": {},
   "source": [
    "Я пытался, но не смог. "
   ]
  },
  {
   "cell_type": "markdown",
   "id": "b7b425ac",
   "metadata": {
    "deletable": false,
    "id": "3a6b99ec"
   },
   "source": [
    "### **Вывод:** \n",
    "\n",
    "Исходя из проведенного анализа можно заключить, что зависимость между количеством детей и возвратом кредита в срок существует. \n",
    "Доля должников с детьми превышает долю должников без детей. \n",
    "Должники без детей - 7.5\n",
    "Должники с одним ребенком - 9.2 (на 1.7 больше чем без детей)\n",
    "Должники с двумя детьми - 9.5 (на 2 больше, чем без детей)\n",
    "\n",
    "Исходя из полученных данных можно сделать вывод, что должники с детьми хуже справляются со своими финансовыми обязательствами. \n",
    "В таблице, а также в Графике 1 представлены данные выводы.\n",
    "Оценка платежеспособности заемщиков с детьми при выдаче кредита может быть снижена.\n",
    "\n",
    "Дополнительный анализ показал, что снижение количества заемщиков прямо пропорционально наличию детей (График 2), что может говорить о проблеме восприятия кредитов потенциальными заемщиками, как безопасного инструмента, а также о недоверии банковской системе Российской Федерации. \n",
    "Возможные решения по этому вопросу: \n",
    "1. Ориентирование на предложение кредитов потенциальным заемщикам без детей\n",
    "2. Проведение кампаний по улучшению восприятия безопасности и стабильности кредитов заемщикам с детьми"
   ]
  },
  {
   "cell_type": "markdown",
   "id": "30c81a43",
   "metadata": {
    "deletable": false,
    "editable": false,
    "id": "97be82ca"
   },
   "source": [
    "#### 3.2 Есть ли зависимость между семейным положением и возвратом кредита в срок?"
   ]
  },
  {
   "cell_type": "code",
   "execution_count": 33,
   "id": "669221d1",
   "metadata": {
    "deletable": false,
    "id": "dc3f7ee8"
   },
   "outputs": [
    {
     "data": {
      "text/html": [
       "<div>\n",
       "<style scoped>\n",
       "    .dataframe tbody tr th:only-of-type {\n",
       "        vertical-align: middle;\n",
       "    }\n",
       "\n",
       "    .dataframe tbody tr th {\n",
       "        vertical-align: top;\n",
       "    }\n",
       "\n",
       "    .dataframe thead tr th {\n",
       "        text-align: left;\n",
       "    }\n",
       "\n",
       "    .dataframe thead tr:last-of-type th {\n",
       "        text-align: right;\n",
       "    }\n",
       "</style>\n",
       "<table border=\"1\" class=\"dataframe\">\n",
       "  <thead>\n",
       "    <tr>\n",
       "      <th></th>\n",
       "      <th colspan=\"3\" halign=\"left\">debt</th>\n",
       "    </tr>\n",
       "    <tr>\n",
       "      <th></th>\n",
       "      <th>доля долнижков</th>\n",
       "      <th>размер группы</th>\n",
       "      <th>число должников</th>\n",
       "    </tr>\n",
       "    <tr>\n",
       "      <th>family_status</th>\n",
       "      <th></th>\n",
       "      <th></th>\n",
       "      <th></th>\n",
       "    </tr>\n",
       "  </thead>\n",
       "  <tbody>\n",
       "    <tr>\n",
       "      <th>Не женат / не замужем</th>\n",
       "      <td>0.097639</td>\n",
       "      <td>2796</td>\n",
       "      <td>273</td>\n",
       "    </tr>\n",
       "    <tr>\n",
       "      <th>в разводе</th>\n",
       "      <td>0.070648</td>\n",
       "      <td>1189</td>\n",
       "      <td>84</td>\n",
       "    </tr>\n",
       "    <tr>\n",
       "      <th>вдовец / вдова</th>\n",
       "      <td>0.066246</td>\n",
       "      <td>951</td>\n",
       "      <td>63</td>\n",
       "    </tr>\n",
       "    <tr>\n",
       "      <th>гражданский брак</th>\n",
       "      <td>0.093130</td>\n",
       "      <td>4134</td>\n",
       "      <td>385</td>\n",
       "    </tr>\n",
       "    <tr>\n",
       "      <th>женат / замужем</th>\n",
       "      <td>0.075606</td>\n",
       "      <td>12261</td>\n",
       "      <td>927</td>\n",
       "    </tr>\n",
       "  </tbody>\n",
       "</table>\n",
       "</div>"
      ],
      "text/plain": [
       "                                debt                              \n",
       "                      доля долнижков размер группы число должников\n",
       "family_status                                                     \n",
       "Не женат / не замужем       0.097639          2796             273\n",
       "в разводе                   0.070648          1189              84\n",
       "вдовец / вдова              0.066246           951              63\n",
       "гражданский брак            0.093130          4134             385\n",
       "женат / замужем             0.075606         12261             927"
      ]
     },
     "metadata": {},
     "output_type": "display_data"
    },
    {
     "data": {
      "text/plain": [
       "<AxesSubplot:xlabel='family_status'>"
      ]
     },
     "metadata": {},
     "output_type": "display_data"
    },
    {
     "data": {
      "image/png": "[encoded data removed]",
      "text/plain": [
       "<Figure size 432x288 with 1 Axes>"
      ]
     },
     "metadata": {
      "needs_background": "light"
     },
     "output_type": "display_data"
    }
   ],
   "source": [
    "\n",
    "data_family = pd.DataFrame((data.groupby('family_status').agg({'debt':['mean','count','sum']})))\n",
    "data_sum_count = (data.groupby('family_status').agg({'debt':['sum', 'count']}))\n",
    "data_mean = (data.groupby('family_status').agg({'debt':['mean']}))\n",
    "\n",
    "\n",
    "data_family = data_family.rename(columns={'mean': 'доля долнижков', 'count': 'размер группы', 'sum': 'число должников'})\n",
    "#data_family = data_family.sort_values(by='доля долнижков')\n",
    "\n",
    "display(data_family)\n",
    "\n",
    "display(data_mean.plot.bar())\n"
   ]
  },
  {
   "cell_type": "markdown",
   "id": "5caa2267",
   "metadata": {
    "deletable": false,
    "id": "1cef7837"
   },
   "source": [
    "**Вывод:** Исходя из проведенного анализа можно заключить, что зависимость между семейным положением и возвратом кредита в срок существует. Лучше всего со своими финансовыми обязательствами справляются \"Вдовцы или Вдовы\" - 6.6%, это самая малочисленная категория и количественный разрыв в данных может влиять на достоверность результата анализа. \n",
    "Вторая категория по платежеспособности - заемщики в разводе - 7.1%. Третья категория, которая является самой многочисленной - заемщики в браке - 7.5%.\n",
    "Отдельно хочу отметить категории \"Гражданский брак\" и \"Не женат/Не замужем\", 9.7% и 9.3% соответственно, что говорит о том, что эти категории хуже всего справляются с финансовыми обязательствами. Вероятно в эти группы входят заемщики с небольшим доходом, либо эту категорию наполняют молодые люди, которые еще не обрели финансовой стабильности. \n",
    "\n"
   ]
  },
  {
   "cell_type": "markdown",
   "id": "4013cbea",
   "metadata": {
    "deletable": false,
    "editable": false,
    "id": "1e8b2fca"
   },
   "source": [
    "#### 3.3 Есть ли зависимость между уровнем дохода и возвратом кредита в срок?"
   ]
  },
  {
   "cell_type": "code",
   "execution_count": 34,
   "id": "b8568526",
   "metadata": {
    "deletable": false,
    "id": "cd7e3720",
    "scrolled": false
   },
   "outputs": [
    {
     "data": {
      "text/html": [
       "<div>\n",
       "<style scoped>\n",
       "    .dataframe tbody tr th:only-of-type {\n",
       "        vertical-align: middle;\n",
       "    }\n",
       "\n",
       "    .dataframe tbody tr th {\n",
       "        vertical-align: top;\n",
       "    }\n",
       "\n",
       "    .dataframe thead tr th {\n",
       "        text-align: left;\n",
       "    }\n",
       "\n",
       "    .dataframe thead tr:last-of-type th {\n",
       "        text-align: right;\n",
       "    }\n",
       "</style>\n",
       "<table border=\"1\" class=\"dataframe\">\n",
       "  <thead>\n",
       "    <tr>\n",
       "      <th></th>\n",
       "      <th colspan=\"3\" halign=\"left\">debt</th>\n",
       "    </tr>\n",
       "    <tr>\n",
       "      <th></th>\n",
       "      <th>доля долнижков</th>\n",
       "      <th>размер группы</th>\n",
       "      <th>число должников</th>\n",
       "    </tr>\n",
       "    <tr>\n",
       "      <th>total_wage_category</th>\n",
       "      <th></th>\n",
       "      <th></th>\n",
       "      <th></th>\n",
       "    </tr>\n",
       "  </thead>\n",
       "  <tbody>\n",
       "    <tr>\n",
       "      <th>высокий доход</th>\n",
       "      <td>0.081601</td>\n",
       "      <td>16887</td>\n",
       "      <td>1378</td>\n",
       "    </tr>\n",
       "    <tr>\n",
       "      <th>низкий доход</th>\n",
       "      <td>0.080645</td>\n",
       "      <td>124</td>\n",
       "      <td>10</td>\n",
       "    </tr>\n",
       "    <tr>\n",
       "      <th>средний доход</th>\n",
       "      <td>0.079630</td>\n",
       "      <td>4320</td>\n",
       "      <td>344</td>\n",
       "    </tr>\n",
       "  </tbody>\n",
       "</table>\n",
       "</div>"
      ],
      "text/plain": [
       "                              debt                              \n",
       "                    доля долнижков размер группы число должников\n",
       "total_wage_category                                             \n",
       "высокий доход             0.081601         16887            1378\n",
       "низкий доход              0.080645           124              10\n",
       "средний доход             0.079630          4320             344"
      ]
     },
     "metadata": {},
     "output_type": "display_data"
    },
    {
     "data": {
      "text/plain": [
       "<AxesSubplot:xlabel='total_wage_category'>"
      ]
     },
     "metadata": {},
     "output_type": "display_data"
    },
    {
     "data": {
      "image/png": "[encoded data removed]",
      "text/plain": [
       "<Figure size 432x288 with 1 Axes>"
      ]
     },
     "metadata": {
      "needs_background": "light"
     },
     "output_type": "display_data"
    }
   ],
   "source": [
    "#категоризуем данные в Series 'total_income' и разобьем количество заемщиков на 3 подкатегории доходов\n",
    "\n",
    "def total_wage(row):\n",
    "    if row <= 40000:\n",
    "        return 'низкий доход'\n",
    "    if 40000 <= row <= 100000:\n",
    "        return 'средний доход'\n",
    "    if row > 100000:\n",
    "        return 'высокий доход'\n",
    "    \n",
    "data['total_wage_category'] = data['total_income'].apply(total_wage) \n",
    "    \n",
    "\n",
    "\n",
    "data_wage = pd.DataFrame((data.groupby('total_wage_category').agg({'debt':['mean','count','sum']})))\n",
    "data_sum_count = (data.groupby('total_wage_category').agg({'debt':['sum', 'count']}))\n",
    "data_mean = (data.groupby('total_wage_category').agg({'debt':['mean']}))\n",
    "\n",
    "\n",
    "data_wage = data_wage.rename(columns={'mean': 'доля долнижков', 'count': 'размер группы', 'sum': 'число должников'})\n",
    "#data_family = data_family.sort_values(by='доля долнижков')\n",
    "\n",
    "display(data_wage)\n",
    "\n",
    "display(data_mean.plot.bar())\n"
   ]
  },
  {
   "cell_type": "markdown",
   "id": "4823ecf0",
   "metadata": {
    "deletable": false,
    "id": "e8593def"
   },
   "source": [
    "**Вывод:** Исходя из проведенного анализа можно заключить, что уровень дохода категорий \"средний доход\" и \"высокий доход\" не влияет на возврат кредита в срок. Категория \"низкий доход\" не обладает достаточным количеством данных для проведения анализа и заключения надлежащего вывода."
   ]
  },
  {
   "cell_type": "markdown",
   "id": "96b53c98",
   "metadata": {
    "deletable": false,
    "editable": false,
    "id": "99ecbd1f"
   },
   "source": [
    "#### 3.4 Как разные цели кредита влияют на его возврат в срок?"
   ]
  },
  {
   "cell_type": "code",
   "execution_count": 35,
   "id": "10b64450",
   "metadata": {
    "deletable": false,
    "id": "2b687290"
   },
   "outputs": [
    {
     "data": {
      "text/html": [
       "<div>\n",
       "<style scoped>\n",
       "    .dataframe tbody tr th:only-of-type {\n",
       "        vertical-align: middle;\n",
       "    }\n",
       "\n",
       "    .dataframe tbody tr th {\n",
       "        vertical-align: top;\n",
       "    }\n",
       "\n",
       "    .dataframe thead tr th {\n",
       "        text-align: left;\n",
       "    }\n",
       "\n",
       "    .dataframe thead tr:last-of-type th {\n",
       "        text-align: right;\n",
       "    }\n",
       "</style>\n",
       "<table border=\"1\" class=\"dataframe\">\n",
       "  <thead>\n",
       "    <tr>\n",
       "      <th></th>\n",
       "      <th colspan=\"3\" halign=\"left\">debt</th>\n",
       "    </tr>\n",
       "    <tr>\n",
       "      <th></th>\n",
       "      <th>доля долнижков</th>\n",
       "      <th>размер группы</th>\n",
       "      <th>число должников</th>\n",
       "    </tr>\n",
       "    <tr>\n",
       "      <th>purpose_category</th>\n",
       "      <th></th>\n",
       "      <th></th>\n",
       "      <th></th>\n",
       "    </tr>\n",
       "  </thead>\n",
       "  <tbody>\n",
       "    <tr>\n",
       "      <th>операции с автомобилем</th>\n",
       "      <td>0.093480</td>\n",
       "      <td>4279</td>\n",
       "      <td>400</td>\n",
       "    </tr>\n",
       "    <tr>\n",
       "      <th>операции с недвижимостью</th>\n",
       "      <td>0.072551</td>\n",
       "      <td>10751</td>\n",
       "      <td>780</td>\n",
       "    </tr>\n",
       "    <tr>\n",
       "      <th>получение образования</th>\n",
       "      <td>0.092528</td>\n",
       "      <td>3988</td>\n",
       "      <td>369</td>\n",
       "    </tr>\n",
       "    <tr>\n",
       "      <th>проведение свадьбы</th>\n",
       "      <td>0.079118</td>\n",
       "      <td>2313</td>\n",
       "      <td>183</td>\n",
       "    </tr>\n",
       "  </tbody>\n",
       "</table>\n",
       "</div>"
      ],
      "text/plain": [
       "                                   debt                              \n",
       "                         доля долнижков размер группы число должников\n",
       "purpose_category                                                     \n",
       "операции с автомобилем         0.093480          4279             400\n",
       "операции с недвижимостью       0.072551         10751             780\n",
       "получение образования          0.092528          3988             369\n",
       "проведение свадьбы             0.079118          2313             183"
      ]
     },
     "metadata": {},
     "output_type": "display_data"
    },
    {
     "data": {
      "text/plain": [
       "<AxesSubplot:xlabel='purpose_category'>"
      ]
     },
     "metadata": {},
     "output_type": "display_data"
    },
    {
     "data": {
      "image/png": "[encoded data removed]",
      "text/plain": [
       "<Figure size 432x288 with 1 Axes>"
      ]
     },
     "metadata": {
      "needs_background": "light"
     },
     "output_type": "display_data"
    }
   ],
   "source": [
    "#используем в анализе данных Series \"purpose_category\", который мы добавляли в DataFrame 'data' ранее:\n",
    "\n",
    "data_points = pd.DataFrame((data.groupby('purpose_category').agg({'debt':['mean','count','sum']})))\n",
    "data_sum_count = (data.groupby('purpose_category').agg({'debt':['sum', 'count']}))\n",
    "data_mean = (data.groupby('purpose_category').agg({'debt':['mean']}))\n",
    "\n",
    "\n",
    "data_points = data_points.rename(columns={'mean': 'доля долнижков', 'count': 'размер группы', 'sum': 'число должников'})\n",
    "#data_family = data_family.sort_values(by='доля долнижков')\n",
    "\n",
    "display(data_points)\n",
    "\n",
    "display(data_mean.plot.bar())"
   ]
  },
  {
   "cell_type": "markdown",
   "id": "23335485",
   "metadata": {
    "deletable": false,
    "id": "b4bb2ce6"
   },
   "source": [
    "**Вывод:** В результате проведенно анализа из 4х категорий можно выделить 2 группы заемщиков по 2 подкатегории. Лучше всего возвращают кредит в срок подкатегории заемщиков, которые берут кредит для операций с недвижимостью(7.2%), а также подкатегория, использующая кредит для проведения свадьбы(7.9%). Из чего в первом случае можно заключить, что сумма кредита иметь значение и влияет на её возвратность, вероятнее также это связано с более серьезной банковской проверкой и гарантиями возврата кредита. Во втором случае можно сделать вывод, что кредит скорее всего погашается за счет средств родственников, которые на этих кредитных свадьбах отдыхали, так сказать, взяли кредит, провели свадьбу, денег надарили, кредит погасили. \n",
    "Вторая группа заемщиков это \"Операции с автомобилем\"(9.3%) и \"Получение образования\" (9.3%). \"На автомобилях ездить это вам не кредит платить\", \"Берегись автомобиля\"- вероятно именно с этими словами заходит в кабинет кредитный специалист Андрей. Его день начинается с чашечки кофе, а заканчивается разбором полетов с начальником \"Почему Андрей, ты выдал так много невозвратных кредитов этим твоим автомобилистам?\". Так то, Андрюша, если бы ты изучал Аналитику данных от курса Яндекс.Практикум, такого бы не случилось.  \"Все данные выше получены в результате анализа и защищены.\" All rights reserved.(R) Вторая подкатегория \"Получение образования\" также не образец для подражания о сроках возврата кредитов. Берегись кредиторов, Яндекс.Практикум, судя по аналитике, они не очень надежные ребята, хорошие конечно, но не очень надежные.  \n"
   ]
  },
  {
   "cell_type": "markdown",
   "id": "5fb11c94",
   "metadata": {
    "deletable": false,
    "editable": false,
    "id": "09c3ac4c"
   },
   "source": [
    "#### 3.5 Приведите возможные причины появления пропусков в исходных данных."
   ]
  },
  {
   "cell_type": "code",
   "execution_count": 36,
   "id": "e736ef82",
   "metadata": {},
   "outputs": [
    {
     "name": "stdout",
     "output_type": "stream",
     "text": [
      "children                 0\n",
      "days_employed            0\n",
      "dob_years                0\n",
      "education                0\n",
      "education_id             0\n",
      "family_status            0\n",
      "family_status_id         0\n",
      "gender                   0\n",
      "income_type              0\n",
      "debt                     0\n",
      "total_income             0\n",
      "purpose                  0\n",
      "total_income_category    0\n",
      "purpose_category         0\n",
      "total_wage_category      0\n",
      "dtype: int64\n"
     ]
    }
   ],
   "source": [
    "print(data.isna().sum())"
   ]
  },
  {
   "cell_type": "markdown",
   "id": "4e957f80",
   "metadata": {
    "deletable": false,
    "id": "9da2ceda"
   },
   "source": [
    "Чтобы понять причину пропусков я вернулся к заданию 4 этого проекта. Пропуски есть в столбцах 'days_employed' и 'total_income', в каждом столбце пропусков одинаковое количество -  2174. Исходя из этого можно предположить, что вероятнее всего это не ошибка Человеческого фактора (опечатаетки в тексте, указание другого порядка величин, ошибка при вводе числа), а скорее Технологическая (возникают при копировании, считывании, смене формата). Логично предположить, что вероятность допущения пропуска в двух столбцах сразу, каждым из 2174 человек, крайне мала. \n",
    "\n",
    "\n",
    "Также вероятно, что пропуск в двух столбцах одновременно обусловлен зависимостью одного столбца от другого, при пропуске данных в одном столбце вызывает пропуск в другом.\n",
    "\n",
    "Одна из гипотез, которую можно выдвинуть - это отсутствие у банка информации о работе и начислениях заемщиков. Так как в Российской Федерации очень много дееспособного и работающего населения, которое не трудоустроено официально, но все же имеющего доход, банк не может обнаружить данные о доходах и количестве трудовых дней заемщиков, а только парсит данные из официальных источников."
   ]
  },
  {
   "cell_type": "markdown",
   "id": "4dcf6a93",
   "metadata": {
    "deletable": false,
    "editable": false,
    "id": "7b0487d6"
   },
   "source": [
    "#### 3.6 Объясните, почему заполнить пропуски медианным значением — лучшее решение для количественных переменных."
   ]
  },
  {
   "cell_type": "markdown",
   "id": "af79ecc1",
   "metadata": {
    "deletable": false,
    "id": "7ecf2b8e"
   },
   "source": [
    "*Ответ:* Если в выборке есть слишком высокие показатели, которые выбиваются из общего количества данных, их результаты сильно смещают значение среднего вверх. Вот почему оценивать предпочтения широкого круга потребителей лучше медианой. Она покажет именно среднее значение, без завышения среднего значения из за высоких показателей. "
   ]
  },
  {
   "cell_type": "markdown",
   "id": "24533be1",
   "metadata": {
    "deletable": false,
    "editable": false,
    "id": "6db5255a"
   },
   "source": [
    "### Шаг 4: общий вывод."
   ]
  },
  {
   "cell_type": "markdown",
   "id": "aea860f4",
   "metadata": {
    "deletable": false,
    "id": "bad65432"
   },
   "source": [
    "Был проведен анализ для выявления факторов влияющих на факт погашения кредита в срок. Для работы были взяты данные банка - статистика о платежеспособности клиентов.\n",
    "Результаты исследования могут быть использованы банком для оценки способности потенциального заемщика вернуть кредит банку. \n",
    "\n",
    "Для проведения анализа были поставлены несколько гипотез: \n",
    "\n",
    "1. Количество детей играет роль и влияет на погашение кредита в срок\n",
    "2. Семейное положение влияет на погашение кредита в срок\n",
    "3. Уровень дохода влияет на погашение кредита в срок\n",
    "4. Цель кредита влияет на погашение кредита в срок \n",
    "\n",
    "Полученные результаты:\n",
    "\n",
    "Гипотеза 1. Частично подтверждена. Результаты достоверны только при выборке заемщиков без детей, с 1м ребенком и с 2мя детьми. \n",
    "\n",
    "Заемщики без детей - 7.5%. Заемщики с одним ребенком - 9.2% (на 1.7% больше чем без детей). Заемщики с двумя детьми - 9.5% (на 2% больше, чем без детей).\n",
    "Исходя из полученных данных можно сделать вывод, что заемщики с детьми хуже справляются со своими финансовыми обязательствами, чем заемщики без детей.\n",
    "Для проверки платежеспособности заемщиков с 3мя и более детьми необходимо больше данных.\n",
    "\n",
    "\n",
    "Гипотеза 2. Подтверждена. \n",
    "\n",
    "- У неженатых клиентов (9.3%) и заемщики вне официального брака (9.7%) имеют больше шансов стать неблагонадежным заемщиком\n",
    "- Категории \"В разводе\"(7.1%) или \"Вдовец/Вдова\"(6.6%), а также \"Женат/Замужем\"(7.5%.), менее вероятно становятся должниками\n",
    "\n",
    "\n",
    "Гипотеза 3. Частично подтверждена. \n",
    "\n",
    "Исходя из проверки данной гипотезы можно заключить, что уровень дохода категорий \"средний доход\" и \"высокий доход\" не влияет на возврат кредита в срок. Категория \"низкий доход\" не обладает достаточным количеством данных для проведения анализа и заключения надлежащего вывода.\n",
    "\n",
    "\n",
    "Гипотеза 4. Подтверждена. \n",
    "\n",
    "\n",
    "Лучше всего возвращают кредит в срок подкатегории заемщиков, которые берут кредит для операций с недвижимостью(7.2%), а также подкатегория, использующая кредит для проведения свадьбы(7.9%). Из чего в первом случае можно заключить, что сумма кредита иметь значение и влияет на её возвратность, вероятнее также это связано с более серьезной банковской проверкой и гарантиями возврата кредита. \n",
    "\n",
    "Во втором случае можно сделать вывод, что кредит скорее всего погашается за счет средств родственников, которые на этих кредитных свадьбах отдыхали, так сказать, взяли кредит, провели свадьбу, денег надарили, кредит погасили. Вторая группа заемщиков это \"Операции с автомобилем\"(9.3%) и \"Получение образования\" (9.3%). \n",
    "\n",
    "\"На автомобилях ездить это вам не кредит платить\", \"Берегись автомобиля\"- вероятно именно с этими словами заходит в кабинет кредитный специалист Андрей. Его день начинается с чашечки кофе, а заканчивается разбором полетов с начальником \"Почему Андрей, ты выдал так много невозвратных кредитов этим твоим автомобилистам?\". Так то, Андрюша, если бы ты изучал Аналитику данных от курса Яндекс.Практикум, такого бы не случилось. \n",
    "\"Все данные выше получены в результате анализа и защищены.\" All rights reserved.(R) \n",
    "\n",
    "Вторая подкатегория \"Получение образования\" также не образец для подражания о сроках возврата кредитов. Берегись кредиторов, Яндекс.Практикум, судя по аналитике, они не очень надежные ребята, хорошие конечно, но не очень надежные."
   ]
  }
 ],
 "metadata": {
  "ExecuteTimeLog": [
   {
    "duration": 4,
    "start_time": "2022-10-26T21:10:53.853Z"
   },
   {
    "duration": 58,
    "start_time": "2022-10-26T21:10:56.768Z"
   },
   {
    "duration": 392,
    "start_time": "2022-10-26T21:11:01.262Z"
   },
   {
    "duration": 23,
    "start_time": "2022-10-26T21:11:01.655Z"
   },
   {
    "duration": 28,
    "start_time": "2022-10-26T21:11:01.679Z"
   },
   {
    "duration": 9,
    "start_time": "2022-10-26T21:11:01.709Z"
   },
   {
    "duration": 38,
    "start_time": "2022-10-26T21:11:01.719Z"
   },
   {
    "duration": 3,
    "start_time": "2022-10-26T21:11:01.759Z"
   },
   {
    "duration": 45,
    "start_time": "2022-10-26T21:11:01.763Z"
   },
   {
    "duration": 19,
    "start_time": "2022-10-26T21:11:01.810Z"
   },
   {
    "duration": 15,
    "start_time": "2022-10-26T21:11:01.831Z"
   },
   {
    "duration": 13,
    "start_time": "2022-10-26T21:11:01.849Z"
   },
   {
    "duration": 45,
    "start_time": "2022-10-26T21:11:01.863Z"
   },
   {
    "duration": 8,
    "start_time": "2022-10-26T21:11:01.910Z"
   },
   {
    "duration": 8,
    "start_time": "2022-10-26T21:11:01.919Z"
   },
   {
    "duration": 18,
    "start_time": "2022-10-26T21:11:01.928Z"
   },
   {
    "duration": 35,
    "start_time": "2022-10-26T21:11:01.948Z"
   },
   {
    "duration": 18,
    "start_time": "2022-10-26T21:11:01.985Z"
   },
   {
    "duration": 6,
    "start_time": "2022-10-26T21:11:02.005Z"
   },
   {
    "duration": 30,
    "start_time": "2022-10-26T21:11:02.013Z"
   },
   {
    "duration": 29,
    "start_time": "2022-10-26T21:11:02.044Z"
   },
   {
    "duration": 3,
    "start_time": "2022-10-26T21:11:02.074Z"
   },
   {
    "duration": 10,
    "start_time": "2022-10-26T21:11:02.079Z"
   },
   {
    "duration": 7,
    "start_time": "2022-10-26T21:11:02.090Z"
   },
   {
    "duration": 6,
    "start_time": "2022-10-26T21:11:02.098Z"
   },
   {
    "duration": 9,
    "start_time": "2022-10-26T21:11:02.106Z"
   },
   {
    "duration": 4,
    "start_time": "2022-10-26T21:11:02.116Z"
   },
   {
    "duration": 670,
    "start_time": "2022-10-28T03:56:43.259Z"
   },
   {
    "duration": 20,
    "start_time": "2022-10-28T03:56:43.931Z"
   },
   {
    "duration": 14,
    "start_time": "2022-10-28T03:56:43.952Z"
   },
   {
    "duration": 9,
    "start_time": "2022-10-28T03:56:43.968Z"
   },
   {
    "duration": 31,
    "start_time": "2022-10-28T03:56:43.978Z"
   },
   {
    "duration": 3,
    "start_time": "2022-10-28T03:56:44.011Z"
   },
   {
    "duration": 8,
    "start_time": "2022-10-28T03:56:44.039Z"
   },
   {
    "duration": 4,
    "start_time": "2022-10-28T03:56:44.048Z"
   },
   {
    "duration": 6,
    "start_time": "2022-10-28T03:56:44.054Z"
   },
   {
    "duration": 3,
    "start_time": "2022-10-28T03:56:44.065Z"
   },
   {
    "duration": 31,
    "start_time": "2022-10-28T03:56:44.070Z"
   },
   {
    "duration": 43,
    "start_time": "2022-10-28T03:56:44.102Z"
   },
   {
    "duration": 4,
    "start_time": "2022-10-28T03:56:44.147Z"
   },
   {
    "duration": 14,
    "start_time": "2022-10-28T03:56:44.153Z"
   },
   {
    "duration": 20,
    "start_time": "2022-10-28T03:56:44.168Z"
   },
   {
    "duration": 15,
    "start_time": "2022-10-28T03:56:44.189Z"
   },
   {
    "duration": 4,
    "start_time": "2022-10-28T03:56:44.206Z"
   },
   {
    "duration": 9,
    "start_time": "2022-10-28T03:56:44.239Z"
   },
   {
    "duration": 9,
    "start_time": "2022-10-28T03:56:44.250Z"
   },
   {
    "duration": 4,
    "start_time": "2022-10-28T03:56:44.260Z"
   },
   {
    "duration": 11,
    "start_time": "2022-10-28T03:56:44.266Z"
   },
   {
    "duration": 2,
    "start_time": "2022-10-28T03:56:44.279Z"
   },
   {
    "duration": 9,
    "start_time": "2022-10-28T03:56:44.282Z"
   },
   {
    "duration": 6,
    "start_time": "2022-10-28T03:56:44.293Z"
   },
   {
    "duration": 17,
    "start_time": "2022-10-28T03:56:44.300Z"
   },
   {
    "duration": 61,
    "start_time": "2022-10-28T03:59:11.357Z"
   },
   {
    "duration": 75,
    "start_time": "2022-10-28T03:59:14.781Z"
   },
   {
    "duration": 14,
    "start_time": "2022-10-28T03:59:14.859Z"
   },
   {
    "duration": 17,
    "start_time": "2022-10-28T03:59:14.875Z"
   },
   {
    "duration": 9,
    "start_time": "2022-10-28T03:59:14.894Z"
   },
   {
    "duration": 58,
    "start_time": "2022-10-28T03:59:14.905Z"
   },
   {
    "duration": 3,
    "start_time": "2022-10-28T03:59:14.965Z"
   },
   {
    "duration": 10,
    "start_time": "2022-10-28T03:59:14.969Z"
   },
   {
    "duration": 4,
    "start_time": "2022-10-28T03:59:14.981Z"
   },
   {
    "duration": 6,
    "start_time": "2022-10-28T03:59:14.986Z"
   },
   {
    "duration": 5,
    "start_time": "2022-10-28T03:59:14.994Z"
   },
   {
    "duration": 54,
    "start_time": "2022-10-28T03:59:15.000Z"
   },
   {
    "duration": 11,
    "start_time": "2022-10-28T03:59:15.055Z"
   },
   {
    "duration": 5,
    "start_time": "2022-10-28T03:59:15.067Z"
   },
   {
    "duration": 11,
    "start_time": "2022-10-28T03:59:15.074Z"
   },
   {
    "duration": 18,
    "start_time": "2022-10-28T03:59:15.087Z"
   },
   {
    "duration": 41,
    "start_time": "2022-10-28T03:59:15.106Z"
   },
   {
    "duration": 4,
    "start_time": "2022-10-28T03:59:15.148Z"
   },
   {
    "duration": 15,
    "start_time": "2022-10-28T03:59:15.154Z"
   },
   {
    "duration": 10,
    "start_time": "2022-10-28T03:59:15.170Z"
   },
   {
    "duration": 3,
    "start_time": "2022-10-28T03:59:15.181Z"
   },
   {
    "duration": 13,
    "start_time": "2022-10-28T03:59:15.186Z"
   },
   {
    "duration": 7,
    "start_time": "2022-10-28T03:59:15.200Z"
   },
   {
    "duration": 0,
    "start_time": "2022-10-28T03:59:15.208Z"
   },
   {
    "duration": 0,
    "start_time": "2022-10-28T03:59:15.209Z"
   },
   {
    "duration": 0,
    "start_time": "2022-10-28T03:59:15.210Z"
   },
   {
    "duration": 70,
    "start_time": "2022-10-28T03:59:58.867Z"
   },
   {
    "duration": 15,
    "start_time": "2022-10-28T03:59:58.939Z"
   },
   {
    "duration": 16,
    "start_time": "2022-10-28T03:59:58.955Z"
   },
   {
    "duration": 9,
    "start_time": "2022-10-28T03:59:58.973Z"
   },
   {
    "duration": 55,
    "start_time": "2022-10-28T03:59:58.984Z"
   },
   {
    "duration": 3,
    "start_time": "2022-10-28T03:59:59.040Z"
   },
   {
    "duration": 10,
    "start_time": "2022-10-28T03:59:59.045Z"
   },
   {
    "duration": 4,
    "start_time": "2022-10-28T03:59:59.056Z"
   },
   {
    "duration": 8,
    "start_time": "2022-10-28T03:59:59.061Z"
   },
   {
    "duration": 4,
    "start_time": "2022-10-28T03:59:59.071Z"
   },
   {
    "duration": 68,
    "start_time": "2022-10-28T03:59:59.076Z"
   },
   {
    "duration": 10,
    "start_time": "2022-10-28T03:59:59.146Z"
   },
   {
    "duration": 5,
    "start_time": "2022-10-28T03:59:59.157Z"
   },
   {
    "duration": 10,
    "start_time": "2022-10-28T03:59:59.163Z"
   },
   {
    "duration": 16,
    "start_time": "2022-10-28T03:59:59.175Z"
   },
   {
    "duration": 16,
    "start_time": "2022-10-28T03:59:59.193Z"
   },
   {
    "duration": 3,
    "start_time": "2022-10-28T03:59:59.210Z"
   },
   {
    "duration": 35,
    "start_time": "2022-10-28T03:59:59.214Z"
   },
   {
    "duration": 7,
    "start_time": "2022-10-28T03:59:59.251Z"
   },
   {
    "duration": 4,
    "start_time": "2022-10-28T03:59:59.259Z"
   },
   {
    "duration": 12,
    "start_time": "2022-10-28T03:59:59.264Z"
   },
   {
    "duration": 17,
    "start_time": "2022-10-28T03:59:59.277Z"
   },
   {
    "duration": 3,
    "start_time": "2022-10-28T03:59:59.296Z"
   },
   {
    "duration": 7,
    "start_time": "2022-10-28T03:59:59.300Z"
   },
   {
    "duration": 30,
    "start_time": "2022-10-28T03:59:59.309Z"
   },
   {
    "duration": 73,
    "start_time": "2022-10-28T04:00:55.010Z"
   },
   {
    "duration": 15,
    "start_time": "2022-10-28T04:00:55.085Z"
   },
   {
    "duration": 16,
    "start_time": "2022-10-28T04:00:55.101Z"
   },
   {
    "duration": 26,
    "start_time": "2022-10-28T04:00:55.120Z"
   },
   {
    "duration": 37,
    "start_time": "2022-10-28T04:00:55.147Z"
   },
   {
    "duration": 3,
    "start_time": "2022-10-28T04:00:55.186Z"
   },
   {
    "duration": 10,
    "start_time": "2022-10-28T04:00:55.190Z"
   },
   {
    "duration": 4,
    "start_time": "2022-10-28T04:00:55.202Z"
   },
   {
    "duration": 30,
    "start_time": "2022-10-28T04:00:55.208Z"
   },
   {
    "duration": 6,
    "start_time": "2022-10-28T04:00:55.242Z"
   },
   {
    "duration": 37,
    "start_time": "2022-10-28T04:00:55.250Z"
   },
   {
    "duration": 15,
    "start_time": "2022-10-28T04:00:55.289Z"
   },
   {
    "duration": 4,
    "start_time": "2022-10-28T04:00:55.306Z"
   },
   {
    "duration": 10,
    "start_time": "2022-10-28T04:00:55.338Z"
   },
   {
    "duration": 20,
    "start_time": "2022-10-28T04:00:55.350Z"
   },
   {
    "duration": 17,
    "start_time": "2022-10-28T04:00:55.371Z"
   },
   {
    "duration": 4,
    "start_time": "2022-10-28T04:00:55.389Z"
   },
   {
    "duration": 13,
    "start_time": "2022-10-28T04:00:55.394Z"
   },
   {
    "duration": 5,
    "start_time": "2022-10-28T04:00:55.408Z"
   },
   {
    "duration": 24,
    "start_time": "2022-10-28T04:00:55.415Z"
   },
   {
    "duration": 9,
    "start_time": "2022-10-28T04:00:55.441Z"
   },
   {
    "duration": 20,
    "start_time": "2022-10-28T04:00:55.451Z"
   },
   {
    "duration": 2,
    "start_time": "2022-10-28T04:00:55.473Z"
   },
   {
    "duration": 7,
    "start_time": "2022-10-28T04:00:55.476Z"
   },
   {
    "duration": 6,
    "start_time": "2022-10-28T04:00:55.484Z"
   },
   {
    "duration": 68,
    "start_time": "2022-10-28T04:05:23.021Z"
   },
   {
    "duration": 14,
    "start_time": "2022-10-28T04:05:23.090Z"
   },
   {
    "duration": 16,
    "start_time": "2022-10-28T04:05:23.105Z"
   },
   {
    "duration": 23,
    "start_time": "2022-10-28T04:05:23.123Z"
   },
   {
    "duration": 32,
    "start_time": "2022-10-28T04:05:23.147Z"
   },
   {
    "duration": 3,
    "start_time": "2022-10-28T04:05:23.180Z"
   },
   {
    "duration": 10,
    "start_time": "2022-10-28T04:05:23.184Z"
   },
   {
    "duration": 4,
    "start_time": "2022-10-28T04:05:23.195Z"
   },
   {
    "duration": 6,
    "start_time": "2022-10-28T04:05:23.200Z"
   },
   {
    "duration": 31,
    "start_time": "2022-10-28T04:05:23.208Z"
   },
   {
    "duration": 32,
    "start_time": "2022-10-28T04:05:23.240Z"
   },
   {
    "duration": 9,
    "start_time": "2022-10-28T04:05:23.274Z"
   },
   {
    "duration": 4,
    "start_time": "2022-10-28T04:05:23.284Z"
   },
   {
    "duration": 12,
    "start_time": "2022-10-28T04:05:23.289Z"
   },
   {
    "duration": 37,
    "start_time": "2022-10-28T04:05:23.303Z"
   },
   {
    "duration": 18,
    "start_time": "2022-10-28T04:05:23.343Z"
   },
   {
    "duration": 4,
    "start_time": "2022-10-28T04:05:23.362Z"
   },
   {
    "duration": 11,
    "start_time": "2022-10-28T04:05:23.368Z"
   },
   {
    "duration": 9,
    "start_time": "2022-10-28T04:05:23.380Z"
   },
   {
    "duration": 4,
    "start_time": "2022-10-28T04:05:23.391Z"
   },
   {
    "duration": 12,
    "start_time": "2022-10-28T04:05:23.397Z"
   },
   {
    "duration": 2,
    "start_time": "2022-10-28T04:05:23.410Z"
   },
   {
    "duration": 2,
    "start_time": "2022-10-28T04:05:23.439Z"
   },
   {
    "duration": 7,
    "start_time": "2022-10-28T04:05:23.442Z"
   },
   {
    "duration": 68,
    "start_time": "2022-10-28T04:11:09.838Z"
   },
   {
    "duration": 15,
    "start_time": "2022-10-28T04:11:09.908Z"
   },
   {
    "duration": 17,
    "start_time": "2022-10-28T04:11:09.924Z"
   },
   {
    "duration": 8,
    "start_time": "2022-10-28T04:11:09.943Z"
   },
   {
    "duration": 42,
    "start_time": "2022-10-28T04:11:09.953Z"
   },
   {
    "duration": 3,
    "start_time": "2022-10-28T04:11:09.997Z"
   },
   {
    "duration": 12,
    "start_time": "2022-10-28T04:11:10.002Z"
   },
   {
    "duration": 4,
    "start_time": "2022-10-28T04:11:10.015Z"
   },
   {
    "duration": 21,
    "start_time": "2022-10-28T04:11:10.020Z"
   },
   {
    "duration": 11,
    "start_time": "2022-10-28T04:11:10.044Z"
   },
   {
    "duration": 34,
    "start_time": "2022-10-28T04:11:10.057Z"
   },
   {
    "duration": 9,
    "start_time": "2022-10-28T04:11:10.093Z"
   },
   {
    "duration": 5,
    "start_time": "2022-10-28T04:11:10.103Z"
   },
   {
    "duration": 32,
    "start_time": "2022-10-28T04:11:10.109Z"
   },
   {
    "duration": 19,
    "start_time": "2022-10-28T04:11:10.143Z"
   },
   {
    "duration": 17,
    "start_time": "2022-10-28T04:11:10.164Z"
   },
   {
    "duration": 3,
    "start_time": "2022-10-28T04:11:10.182Z"
   },
   {
    "duration": 12,
    "start_time": "2022-10-28T04:11:10.187Z"
   },
   {
    "duration": 7,
    "start_time": "2022-10-28T04:11:10.201Z"
   },
   {
    "duration": 4,
    "start_time": "2022-10-28T04:11:10.209Z"
   },
   {
    "duration": 30,
    "start_time": "2022-10-28T04:11:10.214Z"
   },
   {
    "duration": 13,
    "start_time": "2022-10-28T04:11:10.246Z"
   },
   {
    "duration": 2,
    "start_time": "2022-10-28T04:11:10.261Z"
   },
   {
    "duration": 7,
    "start_time": "2022-10-28T04:11:10.264Z"
   },
   {
    "duration": 6,
    "start_time": "2022-10-28T04:11:10.273Z"
   },
   {
    "duration": 66,
    "start_time": "2022-10-28T04:27:19.502Z"
   },
   {
    "duration": 14,
    "start_time": "2022-10-28T04:27:19.570Z"
   },
   {
    "duration": 17,
    "start_time": "2022-10-28T04:27:19.586Z"
   },
   {
    "duration": 10,
    "start_time": "2022-10-28T04:27:19.604Z"
   },
   {
    "duration": 33,
    "start_time": "2022-10-28T04:27:19.638Z"
   },
   {
    "duration": 4,
    "start_time": "2022-10-28T04:27:19.672Z"
   },
   {
    "duration": 10,
    "start_time": "2022-10-28T04:27:19.677Z"
   },
   {
    "duration": 5,
    "start_time": "2022-10-28T04:27:19.688Z"
   },
   {
    "duration": 7,
    "start_time": "2022-10-28T04:27:19.695Z"
   },
   {
    "duration": 42,
    "start_time": "2022-10-28T04:27:19.704Z"
   },
   {
    "duration": 34,
    "start_time": "2022-10-28T04:27:19.748Z"
   },
   {
    "duration": 9,
    "start_time": "2022-10-28T04:27:19.784Z"
   },
   {
    "duration": 5,
    "start_time": "2022-10-28T04:27:19.794Z"
   },
   {
    "duration": 13,
    "start_time": "2022-10-28T04:27:19.801Z"
   },
   {
    "duration": 34,
    "start_time": "2022-10-28T04:27:19.815Z"
   },
   {
    "duration": 18,
    "start_time": "2022-10-28T04:27:19.850Z"
   },
   {
    "duration": 3,
    "start_time": "2022-10-28T04:27:19.870Z"
   },
   {
    "duration": 12,
    "start_time": "2022-10-28T04:27:19.875Z"
   },
   {
    "duration": 9,
    "start_time": "2022-10-28T04:27:19.889Z"
   },
   {
    "duration": 4,
    "start_time": "2022-10-28T04:27:19.899Z"
   },
   {
    "duration": 38,
    "start_time": "2022-10-28T04:27:19.905Z"
   },
   {
    "duration": 55,
    "start_time": "2022-10-28T04:27:19.945Z"
   },
   {
    "duration": 0,
    "start_time": "2022-10-28T04:27:20.001Z"
   },
   {
    "duration": 0,
    "start_time": "2022-10-28T04:27:20.003Z"
   },
   {
    "duration": 0,
    "start_time": "2022-10-28T04:27:20.004Z"
   },
   {
    "duration": 1267,
    "start_time": "2022-10-29T10:00:53.885Z"
   },
   {
    "duration": 21,
    "start_time": "2022-10-29T10:00:55.155Z"
   },
   {
    "duration": 13,
    "start_time": "2022-10-29T10:00:55.177Z"
   },
   {
    "duration": 8,
    "start_time": "2022-10-29T10:00:55.192Z"
   },
   {
    "duration": 33,
    "start_time": "2022-10-29T10:00:55.201Z"
   },
   {
    "duration": 4,
    "start_time": "2022-10-29T10:00:55.235Z"
   },
   {
    "duration": 9,
    "start_time": "2022-10-29T10:00:55.240Z"
   },
   {
    "duration": 5,
    "start_time": "2022-10-29T10:00:55.251Z"
   },
   {
    "duration": 13,
    "start_time": "2022-10-29T10:00:55.257Z"
   },
   {
    "duration": 6,
    "start_time": "2022-10-29T10:00:55.273Z"
   },
   {
    "duration": 55,
    "start_time": "2022-10-29T10:00:55.281Z"
   },
   {
    "duration": 9,
    "start_time": "2022-10-29T10:00:55.337Z"
   },
   {
    "duration": 6,
    "start_time": "2022-10-29T10:00:55.347Z"
   },
   {
    "duration": 12,
    "start_time": "2022-10-29T10:00:55.354Z"
   },
   {
    "duration": 19,
    "start_time": "2022-10-29T10:00:55.367Z"
   },
   {
    "duration": 37,
    "start_time": "2022-10-29T10:00:55.387Z"
   },
   {
    "duration": 5,
    "start_time": "2022-10-29T10:00:55.425Z"
   },
   {
    "duration": 10,
    "start_time": "2022-10-29T10:00:55.432Z"
   },
   {
    "duration": 7,
    "start_time": "2022-10-29T10:00:55.444Z"
   },
   {
    "duration": 3,
    "start_time": "2022-10-29T10:00:55.452Z"
   },
   {
    "duration": 13,
    "start_time": "2022-10-29T10:00:55.457Z"
   },
   {
    "duration": 47,
    "start_time": "2022-10-29T10:00:55.472Z"
   },
   {
    "duration": 0,
    "start_time": "2022-10-29T10:00:55.521Z"
   },
   {
    "duration": 0,
    "start_time": "2022-10-29T10:00:55.523Z"
   },
   {
    "duration": 0,
    "start_time": "2022-10-29T10:00:55.524Z"
   },
   {
    "duration": 71,
    "start_time": "2022-10-29T10:01:02.207Z"
   },
   {
    "duration": 14,
    "start_time": "2022-10-29T10:01:02.280Z"
   },
   {
    "duration": 14,
    "start_time": "2022-10-29T10:01:02.296Z"
   },
   {
    "duration": 9,
    "start_time": "2022-10-29T10:01:02.312Z"
   },
   {
    "duration": 30,
    "start_time": "2022-10-29T10:01:02.323Z"
   },
   {
    "duration": 4,
    "start_time": "2022-10-29T10:01:02.354Z"
   },
   {
    "duration": 11,
    "start_time": "2022-10-29T10:01:02.359Z"
   },
   {
    "duration": 37,
    "start_time": "2022-10-29T10:01:02.372Z"
   },
   {
    "duration": 6,
    "start_time": "2022-10-29T10:01:02.410Z"
   },
   {
    "duration": 7,
    "start_time": "2022-10-29T10:01:02.418Z"
   },
   {
    "duration": 32,
    "start_time": "2022-10-29T10:01:02.427Z"
   },
   {
    "duration": 11,
    "start_time": "2022-10-29T10:01:02.461Z"
   },
   {
    "duration": 4,
    "start_time": "2022-10-29T10:01:02.473Z"
   },
   {
    "duration": 38,
    "start_time": "2022-10-29T10:01:02.478Z"
   },
   {
    "duration": 17,
    "start_time": "2022-10-29T10:01:02.517Z"
   },
   {
    "duration": 16,
    "start_time": "2022-10-29T10:01:02.535Z"
   },
   {
    "duration": 4,
    "start_time": "2022-10-29T10:01:02.552Z"
   },
   {
    "duration": 12,
    "start_time": "2022-10-29T10:01:02.557Z"
   },
   {
    "duration": 8,
    "start_time": "2022-10-29T10:01:02.571Z"
   },
   {
    "duration": 4,
    "start_time": "2022-10-29T10:01:02.609Z"
   },
   {
    "duration": 9,
    "start_time": "2022-10-29T10:01:02.615Z"
   },
   {
    "duration": 17,
    "start_time": "2022-10-29T10:01:02.625Z"
   },
   {
    "duration": 2,
    "start_time": "2022-10-29T10:01:02.643Z"
   },
   {
    "duration": 5,
    "start_time": "2022-10-29T10:01:02.647Z"
   },
   {
    "duration": 5,
    "start_time": "2022-10-29T10:01:02.653Z"
   },
   {
    "duration": 66,
    "start_time": "2022-10-29T10:05:23.788Z"
   },
   {
    "duration": 14,
    "start_time": "2022-10-29T10:05:23.856Z"
   },
   {
    "duration": 20,
    "start_time": "2022-10-29T10:05:23.872Z"
   },
   {
    "duration": 18,
    "start_time": "2022-10-29T10:05:23.894Z"
   },
   {
    "duration": 32,
    "start_time": "2022-10-29T10:05:23.914Z"
   },
   {
    "duration": 3,
    "start_time": "2022-10-29T10:05:23.948Z"
   },
   {
    "duration": 12,
    "start_time": "2022-10-29T10:05:23.952Z"
   },
   {
    "duration": 4,
    "start_time": "2022-10-29T10:05:23.966Z"
   },
   {
    "duration": 9,
    "start_time": "2022-10-29T10:05:23.971Z"
   },
   {
    "duration": 27,
    "start_time": "2022-10-29T10:05:23.982Z"
   },
   {
    "duration": 31,
    "start_time": "2022-10-29T10:05:24.011Z"
   },
   {
    "duration": 8,
    "start_time": "2022-10-29T10:05:24.044Z"
   },
   {
    "duration": 4,
    "start_time": "2022-10-29T10:05:24.054Z"
   },
   {
    "duration": 13,
    "start_time": "2022-10-29T10:05:24.060Z"
   },
   {
    "duration": 37,
    "start_time": "2022-10-29T10:05:24.074Z"
   },
   {
    "duration": 18,
    "start_time": "2022-10-29T10:05:24.113Z"
   },
   {
    "duration": 5,
    "start_time": "2022-10-29T10:05:24.132Z"
   },
   {
    "duration": 11,
    "start_time": "2022-10-29T10:05:24.138Z"
   },
   {
    "duration": 6,
    "start_time": "2022-10-29T10:05:24.151Z"
   },
   {
    "duration": 4,
    "start_time": "2022-10-29T10:05:24.159Z"
   },
   {
    "duration": 9,
    "start_time": "2022-10-29T10:05:24.165Z"
   },
   {
    "duration": 415,
    "start_time": "2022-10-29T10:05:24.210Z"
   },
   {
    "duration": 0,
    "start_time": "2022-10-29T10:05:24.627Z"
   },
   {
    "duration": 0,
    "start_time": "2022-10-29T10:05:24.628Z"
   },
   {
    "duration": 0,
    "start_time": "2022-10-29T10:05:24.629Z"
   },
   {
    "duration": 68,
    "start_time": "2022-10-29T10:07:56.036Z"
   },
   {
    "duration": 15,
    "start_time": "2022-10-29T10:07:56.106Z"
   },
   {
    "duration": 24,
    "start_time": "2022-10-29T10:07:56.123Z"
   },
   {
    "duration": 9,
    "start_time": "2022-10-29T10:07:56.149Z"
   },
   {
    "duration": 37,
    "start_time": "2022-10-29T10:07:56.159Z"
   },
   {
    "duration": 15,
    "start_time": "2022-10-29T10:07:56.198Z"
   },
   {
    "duration": 17,
    "start_time": "2022-10-29T10:07:56.215Z"
   },
   {
    "duration": 4,
    "start_time": "2022-10-29T10:07:56.234Z"
   },
   {
    "duration": 13,
    "start_time": "2022-10-29T10:07:56.240Z"
   },
   {
    "duration": 16,
    "start_time": "2022-10-29T10:07:56.255Z"
   },
   {
    "duration": 42,
    "start_time": "2022-10-29T10:07:56.272Z"
   },
   {
    "duration": 8,
    "start_time": "2022-10-29T10:07:56.316Z"
   },
   {
    "duration": 15,
    "start_time": "2022-10-29T10:07:56.326Z"
   },
   {
    "duration": 11,
    "start_time": "2022-10-29T10:07:56.343Z"
   },
   {
    "duration": 30,
    "start_time": "2022-10-29T10:07:56.355Z"
   },
   {
    "duration": 17,
    "start_time": "2022-10-29T10:07:56.387Z"
   },
   {
    "duration": 3,
    "start_time": "2022-10-29T10:07:56.405Z"
   },
   {
    "duration": 17,
    "start_time": "2022-10-29T10:07:56.410Z"
   },
   {
    "duration": 10,
    "start_time": "2022-10-29T10:07:56.428Z"
   },
   {
    "duration": 7,
    "start_time": "2022-10-29T10:07:56.440Z"
   },
   {
    "duration": 28,
    "start_time": "2022-10-29T10:07:56.448Z"
   },
   {
    "duration": 28,
    "start_time": "2022-10-29T10:07:56.478Z"
   },
   {
    "duration": 5,
    "start_time": "2022-10-29T10:07:56.508Z"
   },
   {
    "duration": 17,
    "start_time": "2022-10-29T10:07:56.515Z"
   },
   {
    "duration": 5,
    "start_time": "2022-10-29T10:07:56.534Z"
   },
   {
    "duration": 71,
    "start_time": "2022-10-29T10:09:15.359Z"
   },
   {
    "duration": 15,
    "start_time": "2022-10-29T10:09:15.432Z"
   },
   {
    "duration": 14,
    "start_time": "2022-10-29T10:09:15.449Z"
   },
   {
    "duration": 10,
    "start_time": "2022-10-29T10:09:15.465Z"
   },
   {
    "duration": 53,
    "start_time": "2022-10-29T10:09:15.478Z"
   },
   {
    "duration": 3,
    "start_time": "2022-10-29T10:09:15.532Z"
   },
   {
    "duration": 10,
    "start_time": "2022-10-29T10:09:15.536Z"
   },
   {
    "duration": 4,
    "start_time": "2022-10-29T10:09:15.547Z"
   },
   {
    "duration": 7,
    "start_time": "2022-10-29T10:09:15.552Z"
   },
   {
    "duration": 5,
    "start_time": "2022-10-29T10:09:15.560Z"
   },
   {
    "duration": 56,
    "start_time": "2022-10-29T10:09:15.567Z"
   },
   {
    "duration": 9,
    "start_time": "2022-10-29T10:09:15.625Z"
   },
   {
    "duration": 3,
    "start_time": "2022-10-29T10:09:15.636Z"
   },
   {
    "duration": 12,
    "start_time": "2022-10-29T10:09:15.641Z"
   },
   {
    "duration": 18,
    "start_time": "2022-10-29T10:09:15.654Z"
   },
   {
    "duration": 43,
    "start_time": "2022-10-29T10:09:15.674Z"
   },
   {
    "duration": 3,
    "start_time": "2022-10-29T10:09:15.719Z"
   },
   {
    "duration": 11,
    "start_time": "2022-10-29T10:09:15.724Z"
   },
   {
    "duration": 8,
    "start_time": "2022-10-29T10:09:15.736Z"
   },
   {
    "duration": 4,
    "start_time": "2022-10-29T10:09:15.745Z"
   },
   {
    "duration": 11,
    "start_time": "2022-10-29T10:09:15.750Z"
   },
   {
    "duration": 20,
    "start_time": "2022-10-29T10:09:15.763Z"
   },
   {
    "duration": 3,
    "start_time": "2022-10-29T10:09:15.808Z"
   },
   {
    "duration": 4,
    "start_time": "2022-10-29T10:09:15.812Z"
   },
   {
    "duration": 8,
    "start_time": "2022-10-29T10:09:15.817Z"
   },
   {
    "duration": 67,
    "start_time": "2022-10-29T10:15:23.133Z"
   },
   {
    "duration": 14,
    "start_time": "2022-10-29T10:15:23.202Z"
   },
   {
    "duration": 17,
    "start_time": "2022-10-29T10:15:23.218Z"
   },
   {
    "duration": 9,
    "start_time": "2022-10-29T10:15:23.237Z"
   },
   {
    "duration": 40,
    "start_time": "2022-10-29T10:15:23.247Z"
   },
   {
    "duration": 3,
    "start_time": "2022-10-29T10:15:23.308Z"
   },
   {
    "duration": 10,
    "start_time": "2022-10-29T10:15:23.313Z"
   },
   {
    "duration": 3,
    "start_time": "2022-10-29T10:15:23.325Z"
   },
   {
    "duration": 5,
    "start_time": "2022-10-29T10:15:23.330Z"
   },
   {
    "duration": 3,
    "start_time": "2022-10-29T10:15:23.338Z"
   },
   {
    "duration": 34,
    "start_time": "2022-10-29T10:15:23.343Z"
   },
   {
    "duration": 35,
    "start_time": "2022-10-29T10:15:23.379Z"
   },
   {
    "duration": 4,
    "start_time": "2022-10-29T10:15:23.415Z"
   },
   {
    "duration": 17,
    "start_time": "2022-10-29T10:15:23.420Z"
   },
   {
    "duration": 20,
    "start_time": "2022-10-29T10:15:23.439Z"
   },
   {
    "duration": 17,
    "start_time": "2022-10-29T10:15:23.461Z"
   },
   {
    "duration": 3,
    "start_time": "2022-10-29T10:15:23.480Z"
   },
   {
    "duration": 30,
    "start_time": "2022-10-29T10:15:23.485Z"
   },
   {
    "duration": 6,
    "start_time": "2022-10-29T10:15:23.516Z"
   },
   {
    "duration": 4,
    "start_time": "2022-10-29T10:15:23.524Z"
   },
   {
    "duration": 13,
    "start_time": "2022-10-29T10:15:23.529Z"
   },
   {
    "duration": 27,
    "start_time": "2022-10-29T10:15:23.544Z"
   },
   {
    "duration": 3,
    "start_time": "2022-10-29T10:15:23.572Z"
   },
   {
    "duration": 32,
    "start_time": "2022-10-29T10:15:23.577Z"
   },
   {
    "duration": 2,
    "start_time": "2022-10-29T10:15:23.611Z"
   },
   {
    "duration": 4,
    "start_time": "2022-10-29T10:15:23.615Z"
   },
   {
    "duration": 92,
    "start_time": "2022-10-29T10:17:02.980Z"
   },
   {
    "duration": 16,
    "start_time": "2022-10-29T10:17:03.074Z"
   },
   {
    "duration": 26,
    "start_time": "2022-10-29T10:17:03.091Z"
   },
   {
    "duration": 23,
    "start_time": "2022-10-29T10:17:03.120Z"
   },
   {
    "duration": 32,
    "start_time": "2022-10-29T10:17:03.144Z"
   },
   {
    "duration": 4,
    "start_time": "2022-10-29T10:17:03.177Z"
   },
   {
    "duration": 26,
    "start_time": "2022-10-29T10:17:03.184Z"
   },
   {
    "duration": 4,
    "start_time": "2022-10-29T10:17:03.212Z"
   },
   {
    "duration": 10,
    "start_time": "2022-10-29T10:17:03.217Z"
   },
   {
    "duration": 4,
    "start_time": "2022-10-29T10:17:03.230Z"
   },
   {
    "duration": 77,
    "start_time": "2022-10-29T10:17:03.236Z"
   },
   {
    "duration": 14,
    "start_time": "2022-10-29T10:17:03.315Z"
   },
   {
    "duration": 7,
    "start_time": "2022-10-29T10:17:03.331Z"
   },
   {
    "duration": 12,
    "start_time": "2022-10-29T10:17:03.341Z"
   },
   {
    "duration": 21,
    "start_time": "2022-10-29T10:17:03.354Z"
   },
   {
    "duration": 40,
    "start_time": "2022-10-29T10:17:03.376Z"
   },
   {
    "duration": 4,
    "start_time": "2022-10-29T10:17:03.419Z"
   },
   {
    "duration": 18,
    "start_time": "2022-10-29T10:17:03.425Z"
   },
   {
    "duration": 10,
    "start_time": "2022-10-29T10:17:03.445Z"
   },
   {
    "duration": 5,
    "start_time": "2022-10-29T10:17:03.457Z"
   },
   {
    "duration": 18,
    "start_time": "2022-10-29T10:17:03.464Z"
   },
   {
    "duration": 53,
    "start_time": "2022-10-29T10:17:03.484Z"
   },
   {
    "duration": 15,
    "start_time": "2022-10-29T10:17:03.539Z"
   },
   {
    "duration": 4,
    "start_time": "2022-10-29T10:17:03.556Z"
   },
   {
    "duration": 5,
    "start_time": "2022-10-29T10:17:03.561Z"
   },
   {
    "duration": 3,
    "start_time": "2022-10-29T10:17:03.568Z"
   },
   {
    "duration": 77,
    "start_time": "2022-10-29T10:21:43.251Z"
   },
   {
    "duration": 14,
    "start_time": "2022-10-29T10:21:43.329Z"
   },
   {
    "duration": 15,
    "start_time": "2022-10-29T10:21:43.344Z"
   },
   {
    "duration": 9,
    "start_time": "2022-10-29T10:21:43.361Z"
   },
   {
    "duration": 51,
    "start_time": "2022-10-29T10:21:43.371Z"
   },
   {
    "duration": 2,
    "start_time": "2022-10-29T10:21:43.424Z"
   },
   {
    "duration": 8,
    "start_time": "2022-10-29T10:21:43.428Z"
   },
   {
    "duration": 4,
    "start_time": "2022-10-29T10:21:43.438Z"
   },
   {
    "duration": 7,
    "start_time": "2022-10-29T10:21:43.444Z"
   },
   {
    "duration": 4,
    "start_time": "2022-10-29T10:21:43.454Z"
   },
   {
    "duration": 64,
    "start_time": "2022-10-29T10:21:43.459Z"
   },
   {
    "duration": 9,
    "start_time": "2022-10-29T10:21:43.524Z"
   },
   {
    "duration": 4,
    "start_time": "2022-10-29T10:21:43.535Z"
   },
   {
    "duration": 14,
    "start_time": "2022-10-29T10:21:43.541Z"
   },
   {
    "duration": 17,
    "start_time": "2022-10-29T10:21:43.556Z"
   },
   {
    "duration": 39,
    "start_time": "2022-10-29T10:21:43.574Z"
   },
   {
    "duration": 3,
    "start_time": "2022-10-29T10:21:43.615Z"
   },
   {
    "duration": 11,
    "start_time": "2022-10-29T10:21:43.619Z"
   },
   {
    "duration": 6,
    "start_time": "2022-10-29T10:21:43.632Z"
   },
   {
    "duration": 5,
    "start_time": "2022-10-29T10:21:43.640Z"
   },
   {
    "duration": 11,
    "start_time": "2022-10-29T10:21:43.646Z"
   },
   {
    "duration": 20,
    "start_time": "2022-10-29T10:21:43.658Z"
   },
   {
    "duration": 629,
    "start_time": "2022-10-29T10:21:43.680Z"
   },
   {
    "duration": 0,
    "start_time": "2022-10-29T10:21:44.310Z"
   },
   {
    "duration": 0,
    "start_time": "2022-10-29T10:21:44.312Z"
   },
   {
    "duration": 0,
    "start_time": "2022-10-29T10:21:44.313Z"
   },
   {
    "duration": 68,
    "start_time": "2022-10-29T10:22:16.020Z"
   },
   {
    "duration": 14,
    "start_time": "2022-10-29T10:22:16.089Z"
   },
   {
    "duration": 17,
    "start_time": "2022-10-29T10:22:16.105Z"
   },
   {
    "duration": 9,
    "start_time": "2022-10-29T10:22:16.123Z"
   },
   {
    "duration": 30,
    "start_time": "2022-10-29T10:22:16.134Z"
   },
   {
    "duration": 3,
    "start_time": "2022-10-29T10:22:16.166Z"
   },
   {
    "duration": 12,
    "start_time": "2022-10-29T10:22:16.170Z"
   },
   {
    "duration": 25,
    "start_time": "2022-10-29T10:22:16.184Z"
   },
   {
    "duration": 7,
    "start_time": "2022-10-29T10:22:16.211Z"
   },
   {
    "duration": 5,
    "start_time": "2022-10-29T10:22:16.219Z"
   },
   {
    "duration": 31,
    "start_time": "2022-10-29T10:22:16.226Z"
   },
   {
    "duration": 9,
    "start_time": "2022-10-29T10:22:16.259Z"
   },
   {
    "duration": 3,
    "start_time": "2022-10-29T10:22:16.270Z"
   },
   {
    "duration": 10,
    "start_time": "2022-10-29T10:22:16.308Z"
   },
   {
    "duration": 21,
    "start_time": "2022-10-29T10:22:16.320Z"
   },
   {
    "duration": 17,
    "start_time": "2022-10-29T10:22:16.342Z"
   },
   {
    "duration": 4,
    "start_time": "2022-10-29T10:22:16.361Z"
   },
   {
    "duration": 13,
    "start_time": "2022-10-29T10:22:16.366Z"
   },
   {
    "duration": 28,
    "start_time": "2022-10-29T10:22:16.381Z"
   },
   {
    "duration": 3,
    "start_time": "2022-10-29T10:22:16.410Z"
   },
   {
    "duration": 11,
    "start_time": "2022-10-29T10:22:16.415Z"
   },
   {
    "duration": 21,
    "start_time": "2022-10-29T10:22:16.427Z"
   },
   {
    "duration": 154,
    "start_time": "2022-10-29T10:22:16.449Z"
   },
   {
    "duration": 2,
    "start_time": "2022-10-29T10:22:16.609Z"
   },
   {
    "duration": 5,
    "start_time": "2022-10-29T10:22:16.612Z"
   },
   {
    "duration": 7,
    "start_time": "2022-10-29T10:22:16.618Z"
   },
   {
    "duration": 69,
    "start_time": "2022-10-29T10:24:37.944Z"
   },
   {
    "duration": 14,
    "start_time": "2022-10-29T10:24:38.015Z"
   },
   {
    "duration": 18,
    "start_time": "2022-10-29T10:24:38.030Z"
   },
   {
    "duration": 8,
    "start_time": "2022-10-29T10:24:38.050Z"
   },
   {
    "duration": 34,
    "start_time": "2022-10-29T10:24:38.060Z"
   },
   {
    "duration": 3,
    "start_time": "2022-10-29T10:24:38.109Z"
   },
   {
    "duration": 10,
    "start_time": "2022-10-29T10:24:38.113Z"
   },
   {
    "duration": 5,
    "start_time": "2022-10-29T10:24:38.124Z"
   },
   {
    "duration": 8,
    "start_time": "2022-10-29T10:24:38.130Z"
   },
   {
    "duration": 7,
    "start_time": "2022-10-29T10:24:38.141Z"
   },
   {
    "duration": 33,
    "start_time": "2022-10-29T10:24:38.150Z"
   },
   {
    "duration": 28,
    "start_time": "2022-10-29T10:24:38.185Z"
   },
   {
    "duration": 3,
    "start_time": "2022-10-29T10:24:38.215Z"
   },
   {
    "duration": 11,
    "start_time": "2022-10-29T10:24:38.220Z"
   },
   {
    "duration": 27,
    "start_time": "2022-10-29T10:24:38.234Z"
   },
   {
    "duration": 46,
    "start_time": "2022-10-29T10:24:38.263Z"
   },
   {
    "duration": 3,
    "start_time": "2022-10-29T10:24:38.311Z"
   },
   {
    "duration": 16,
    "start_time": "2022-10-29T10:24:38.316Z"
   },
   {
    "duration": 8,
    "start_time": "2022-10-29T10:24:38.333Z"
   },
   {
    "duration": 6,
    "start_time": "2022-10-29T10:24:38.342Z"
   },
   {
    "duration": 13,
    "start_time": "2022-10-29T10:24:38.349Z"
   },
   {
    "duration": 25,
    "start_time": "2022-10-29T10:24:38.364Z"
   },
   {
    "duration": 41,
    "start_time": "2022-10-29T10:24:38.391Z"
   },
   {
    "duration": 0,
    "start_time": "2022-10-29T10:24:38.434Z"
   },
   {
    "duration": 0,
    "start_time": "2022-10-29T10:24:38.436Z"
   },
   {
    "duration": 0,
    "start_time": "2022-10-29T10:24:38.437Z"
   },
   {
    "duration": 67,
    "start_time": "2022-10-29T10:24:54.633Z"
   },
   {
    "duration": 14,
    "start_time": "2022-10-29T10:24:54.702Z"
   },
   {
    "duration": 16,
    "start_time": "2022-10-29T10:24:54.717Z"
   },
   {
    "duration": 8,
    "start_time": "2022-10-29T10:24:54.734Z"
   },
   {
    "duration": 30,
    "start_time": "2022-10-29T10:24:54.744Z"
   },
   {
    "duration": 3,
    "start_time": "2022-10-29T10:24:54.776Z"
   },
   {
    "duration": 30,
    "start_time": "2022-10-29T10:24:54.780Z"
   },
   {
    "duration": 4,
    "start_time": "2022-10-29T10:24:54.811Z"
   },
   {
    "duration": 9,
    "start_time": "2022-10-29T10:24:54.816Z"
   },
   {
    "duration": 4,
    "start_time": "2022-10-29T10:24:54.826Z"
   },
   {
    "duration": 30,
    "start_time": "2022-10-29T10:24:54.832Z"
   },
   {
    "duration": 8,
    "start_time": "2022-10-29T10:24:54.864Z"
   },
   {
    "duration": 6,
    "start_time": "2022-10-29T10:24:54.874Z"
   },
   {
    "duration": 10,
    "start_time": "2022-10-29T10:24:54.910Z"
   },
   {
    "duration": 46,
    "start_time": "2022-10-29T10:24:54.922Z"
   },
   {
    "duration": 17,
    "start_time": "2022-10-29T10:24:54.970Z"
   },
   {
    "duration": 3,
    "start_time": "2022-10-29T10:24:54.989Z"
   },
   {
    "duration": 12,
    "start_time": "2022-10-29T10:24:55.009Z"
   },
   {
    "duration": 19,
    "start_time": "2022-10-29T10:24:55.023Z"
   },
   {
    "duration": 8,
    "start_time": "2022-10-29T10:24:55.043Z"
   },
   {
    "duration": 11,
    "start_time": "2022-10-29T10:24:55.053Z"
   },
   {
    "duration": 34,
    "start_time": "2022-10-29T10:24:55.065Z"
   },
   {
    "duration": 47,
    "start_time": "2022-10-29T10:24:55.101Z"
   },
   {
    "duration": 0,
    "start_time": "2022-10-29T10:24:55.149Z"
   },
   {
    "duration": 0,
    "start_time": "2022-10-29T10:24:55.150Z"
   },
   {
    "duration": 0,
    "start_time": "2022-10-29T10:24:55.152Z"
   },
   {
    "duration": 67,
    "start_time": "2022-10-29T10:25:06.733Z"
   },
   {
    "duration": 13,
    "start_time": "2022-10-29T10:25:06.802Z"
   },
   {
    "duration": 15,
    "start_time": "2022-10-29T10:25:06.817Z"
   },
   {
    "duration": 10,
    "start_time": "2022-10-29T10:25:06.834Z"
   },
   {
    "duration": 32,
    "start_time": "2022-10-29T10:25:06.846Z"
   },
   {
    "duration": 30,
    "start_time": "2022-10-29T10:25:06.879Z"
   },
   {
    "duration": 7,
    "start_time": "2022-10-29T10:25:06.911Z"
   },
   {
    "duration": 4,
    "start_time": "2022-10-29T10:25:06.920Z"
   },
   {
    "duration": 6,
    "start_time": "2022-10-29T10:25:06.925Z"
   },
   {
    "duration": 4,
    "start_time": "2022-10-29T10:25:06.934Z"
   },
   {
    "duration": 31,
    "start_time": "2022-10-29T10:25:06.939Z"
   },
   {
    "duration": 39,
    "start_time": "2022-10-29T10:25:06.972Z"
   },
   {
    "duration": 3,
    "start_time": "2022-10-29T10:25:07.012Z"
   },
   {
    "duration": 11,
    "start_time": "2022-10-29T10:25:07.017Z"
   },
   {
    "duration": 17,
    "start_time": "2022-10-29T10:25:07.030Z"
   },
   {
    "duration": 17,
    "start_time": "2022-10-29T10:25:07.049Z"
   },
   {
    "duration": 3,
    "start_time": "2022-10-29T10:25:07.067Z"
   },
   {
    "duration": 40,
    "start_time": "2022-10-29T10:25:07.072Z"
   },
   {
    "duration": 6,
    "start_time": "2022-10-29T10:25:07.114Z"
   },
   {
    "duration": 4,
    "start_time": "2022-10-29T10:25:07.121Z"
   },
   {
    "duration": 10,
    "start_time": "2022-10-29T10:25:07.126Z"
   },
   {
    "duration": 21,
    "start_time": "2022-10-29T10:25:07.137Z"
   },
   {
    "duration": 344,
    "start_time": "2022-10-29T10:25:07.160Z"
   },
   {
    "duration": 0,
    "start_time": "2022-10-29T10:25:07.506Z"
   },
   {
    "duration": 0,
    "start_time": "2022-10-29T10:25:07.507Z"
   },
   {
    "duration": 0,
    "start_time": "2022-10-29T10:25:07.509Z"
   },
   {
    "duration": 71,
    "start_time": "2022-10-29T10:27:20.904Z"
   },
   {
    "duration": 13,
    "start_time": "2022-10-29T10:27:20.977Z"
   },
   {
    "duration": 21,
    "start_time": "2022-10-29T10:27:20.992Z"
   },
   {
    "duration": 21,
    "start_time": "2022-10-29T10:27:21.015Z"
   },
   {
    "duration": 50,
    "start_time": "2022-10-29T10:27:21.037Z"
   },
   {
    "duration": 26,
    "start_time": "2022-10-29T10:27:21.089Z"
   },
   {
    "duration": 37,
    "start_time": "2022-10-29T10:27:21.117Z"
   },
   {
    "duration": 26,
    "start_time": "2022-10-29T10:27:21.156Z"
   },
   {
    "duration": 35,
    "start_time": "2022-10-29T10:27:21.184Z"
   },
   {
    "duration": 27,
    "start_time": "2022-10-29T10:27:21.222Z"
   },
   {
    "duration": 56,
    "start_time": "2022-10-29T10:27:21.250Z"
   },
   {
    "duration": 13,
    "start_time": "2022-10-29T10:27:21.308Z"
   },
   {
    "duration": 21,
    "start_time": "2022-10-29T10:27:21.323Z"
   },
   {
    "duration": 23,
    "start_time": "2022-10-29T10:27:21.346Z"
   },
   {
    "duration": 50,
    "start_time": "2022-10-29T10:27:21.370Z"
   },
   {
    "duration": 29,
    "start_time": "2022-10-29T10:27:21.422Z"
   },
   {
    "duration": 26,
    "start_time": "2022-10-29T10:27:21.453Z"
   },
   {
    "duration": 51,
    "start_time": "2022-10-29T10:27:21.481Z"
   },
   {
    "duration": 30,
    "start_time": "2022-10-29T10:27:21.533Z"
   },
   {
    "duration": 14,
    "start_time": "2022-10-29T10:27:21.565Z"
   },
   {
    "duration": 34,
    "start_time": "2022-10-29T10:27:21.581Z"
   },
   {
    "duration": 259,
    "start_time": "2022-10-29T10:27:21.617Z"
   },
   {
    "duration": 0,
    "start_time": "2022-10-29T10:27:21.878Z"
   },
   {
    "duration": 0,
    "start_time": "2022-10-29T10:27:21.880Z"
   },
   {
    "duration": 0,
    "start_time": "2022-10-29T10:27:21.881Z"
   },
   {
    "duration": 0,
    "start_time": "2022-10-29T10:27:21.882Z"
   },
   {
    "duration": 70,
    "start_time": "2022-10-29T10:28:07.173Z"
   },
   {
    "duration": 14,
    "start_time": "2022-10-29T10:28:07.245Z"
   },
   {
    "duration": 14,
    "start_time": "2022-10-29T10:28:07.261Z"
   },
   {
    "duration": 33,
    "start_time": "2022-10-29T10:28:07.278Z"
   },
   {
    "duration": 36,
    "start_time": "2022-10-29T10:28:07.313Z"
   },
   {
    "duration": 3,
    "start_time": "2022-10-29T10:28:07.351Z"
   },
   {
    "duration": 10,
    "start_time": "2022-10-29T10:28:07.355Z"
   },
   {
    "duration": 4,
    "start_time": "2022-10-29T10:28:07.367Z"
   },
   {
    "duration": 37,
    "start_time": "2022-10-29T10:28:07.372Z"
   },
   {
    "duration": 7,
    "start_time": "2022-10-29T10:28:07.412Z"
   },
   {
    "duration": 36,
    "start_time": "2022-10-29T10:28:07.420Z"
   },
   {
    "duration": 9,
    "start_time": "2022-10-29T10:28:07.457Z"
   },
   {
    "duration": 3,
    "start_time": "2022-10-29T10:28:07.468Z"
   },
   {
    "duration": 43,
    "start_time": "2022-10-29T10:28:07.473Z"
   },
   {
    "duration": 17,
    "start_time": "2022-10-29T10:28:07.518Z"
   },
   {
    "duration": 19,
    "start_time": "2022-10-29T10:28:07.537Z"
   },
   {
    "duration": 3,
    "start_time": "2022-10-29T10:28:07.558Z"
   },
   {
    "duration": 11,
    "start_time": "2022-10-29T10:28:07.562Z"
   },
   {
    "duration": 35,
    "start_time": "2022-10-29T10:28:07.574Z"
   },
   {
    "duration": 4,
    "start_time": "2022-10-29T10:28:07.611Z"
   },
   {
    "duration": 10,
    "start_time": "2022-10-29T10:28:07.616Z"
   },
   {
    "duration": 28,
    "start_time": "2022-10-29T10:28:07.627Z"
   },
   {
    "duration": 348,
    "start_time": "2022-10-29T10:28:07.657Z"
   },
   {
    "duration": 0,
    "start_time": "2022-10-29T10:28:08.007Z"
   },
   {
    "duration": 0,
    "start_time": "2022-10-29T10:28:08.008Z"
   },
   {
    "duration": 0,
    "start_time": "2022-10-29T10:28:08.009Z"
   },
   {
    "duration": 74,
    "start_time": "2022-10-29T10:31:01.475Z"
   },
   {
    "duration": 15,
    "start_time": "2022-10-29T10:31:01.551Z"
   },
   {
    "duration": 15,
    "start_time": "2022-10-29T10:31:01.568Z"
   },
   {
    "duration": 27,
    "start_time": "2022-10-29T10:31:01.585Z"
   },
   {
    "duration": 31,
    "start_time": "2022-10-29T10:31:01.615Z"
   },
   {
    "duration": 3,
    "start_time": "2022-10-29T10:31:01.648Z"
   },
   {
    "duration": 14,
    "start_time": "2022-10-29T10:31:01.653Z"
   },
   {
    "duration": 17,
    "start_time": "2022-10-29T10:31:01.669Z"
   },
   {
    "duration": 11,
    "start_time": "2022-10-29T10:31:01.687Z"
   },
   {
    "duration": 17,
    "start_time": "2022-10-29T10:31:01.699Z"
   },
   {
    "duration": 45,
    "start_time": "2022-10-29T10:31:01.718Z"
   },
   {
    "duration": 9,
    "start_time": "2022-10-29T10:31:01.765Z"
   },
   {
    "duration": 6,
    "start_time": "2022-10-29T10:31:01.775Z"
   },
   {
    "duration": 14,
    "start_time": "2022-10-29T10:31:01.784Z"
   },
   {
    "duration": 34,
    "start_time": "2022-10-29T10:31:01.799Z"
   },
   {
    "duration": 18,
    "start_time": "2022-10-29T10:31:01.835Z"
   },
   {
    "duration": 3,
    "start_time": "2022-10-29T10:31:01.855Z"
   },
   {
    "duration": 13,
    "start_time": "2022-10-29T10:31:01.860Z"
   },
   {
    "duration": 10,
    "start_time": "2022-10-29T10:31:01.875Z"
   },
   {
    "duration": 3,
    "start_time": "2022-10-29T10:31:01.887Z"
   },
   {
    "duration": 23,
    "start_time": "2022-10-29T10:31:01.892Z"
   },
   {
    "duration": 27,
    "start_time": "2022-10-29T10:31:01.916Z"
   },
   {
    "duration": 187,
    "start_time": "2022-10-29T10:31:01.944Z"
   },
   {
    "duration": 0,
    "start_time": "2022-10-29T10:31:02.133Z"
   },
   {
    "duration": 0,
    "start_time": "2022-10-29T10:31:02.134Z"
   },
   {
    "duration": 0,
    "start_time": "2022-10-29T10:31:02.134Z"
   },
   {
    "duration": 72,
    "start_time": "2022-10-29T10:32:40.454Z"
   },
   {
    "duration": 15,
    "start_time": "2022-10-29T10:32:40.528Z"
   },
   {
    "duration": 18,
    "start_time": "2022-10-29T10:32:40.545Z"
   },
   {
    "duration": 9,
    "start_time": "2022-10-29T10:32:40.564Z"
   },
   {
    "duration": 58,
    "start_time": "2022-10-29T10:32:40.575Z"
   },
   {
    "duration": 3,
    "start_time": "2022-10-29T10:32:40.635Z"
   },
   {
    "duration": 10,
    "start_time": "2022-10-29T10:32:40.639Z"
   },
   {
    "duration": 4,
    "start_time": "2022-10-29T10:32:40.651Z"
   },
   {
    "duration": 9,
    "start_time": "2022-10-29T10:32:40.656Z"
   },
   {
    "duration": 6,
    "start_time": "2022-10-29T10:32:40.667Z"
   },
   {
    "duration": 59,
    "start_time": "2022-10-29T10:32:40.675Z"
   },
   {
    "duration": 8,
    "start_time": "2022-10-29T10:32:40.736Z"
   },
   {
    "duration": 5,
    "start_time": "2022-10-29T10:32:40.746Z"
   },
   {
    "duration": 10,
    "start_time": "2022-10-29T10:32:40.753Z"
   },
   {
    "duration": 18,
    "start_time": "2022-10-29T10:32:40.765Z"
   },
   {
    "duration": 40,
    "start_time": "2022-10-29T10:32:40.784Z"
   },
   {
    "duration": 3,
    "start_time": "2022-10-29T10:32:40.826Z"
   },
   {
    "duration": 12,
    "start_time": "2022-10-29T10:32:40.830Z"
   },
   {
    "duration": 8,
    "start_time": "2022-10-29T10:32:40.844Z"
   },
   {
    "duration": 3,
    "start_time": "2022-10-29T10:32:40.853Z"
   },
   {
    "duration": 9,
    "start_time": "2022-10-29T10:32:40.858Z"
   },
   {
    "duration": 50,
    "start_time": "2022-10-29T10:32:40.868Z"
   },
   {
    "duration": 44,
    "start_time": "2022-10-29T10:32:40.920Z"
   },
   {
    "duration": 0,
    "start_time": "2022-10-29T10:32:40.966Z"
   },
   {
    "duration": 0,
    "start_time": "2022-10-29T10:32:40.967Z"
   },
   {
    "duration": 0,
    "start_time": "2022-10-29T10:32:40.968Z"
   },
   {
    "duration": 68,
    "start_time": "2022-10-29T10:33:28.022Z"
   },
   {
    "duration": 14,
    "start_time": "2022-10-29T10:33:28.092Z"
   },
   {
    "duration": 17,
    "start_time": "2022-10-29T10:33:28.107Z"
   },
   {
    "duration": 8,
    "start_time": "2022-10-29T10:33:28.126Z"
   },
   {
    "duration": 33,
    "start_time": "2022-10-29T10:33:28.136Z"
   },
   {
    "duration": 3,
    "start_time": "2022-10-29T10:33:28.170Z"
   },
   {
    "duration": 11,
    "start_time": "2022-10-29T10:33:28.175Z"
   },
   {
    "duration": 23,
    "start_time": "2022-10-29T10:33:28.187Z"
   },
   {
    "duration": 6,
    "start_time": "2022-10-29T10:33:28.213Z"
   },
   {
    "duration": 4,
    "start_time": "2022-10-29T10:33:28.222Z"
   },
   {
    "duration": 37,
    "start_time": "2022-10-29T10:33:28.228Z"
   },
   {
    "duration": 10,
    "start_time": "2022-10-29T10:33:28.267Z"
   },
   {
    "duration": 35,
    "start_time": "2022-10-29T10:33:28.278Z"
   },
   {
    "duration": 16,
    "start_time": "2022-10-29T10:33:28.315Z"
   },
   {
    "duration": 38,
    "start_time": "2022-10-29T10:33:28.334Z"
   },
   {
    "duration": 22,
    "start_time": "2022-10-29T10:33:28.374Z"
   },
   {
    "duration": 4,
    "start_time": "2022-10-29T10:33:28.398Z"
   },
   {
    "duration": 18,
    "start_time": "2022-10-29T10:33:28.409Z"
   },
   {
    "duration": 7,
    "start_time": "2022-10-29T10:33:28.429Z"
   },
   {
    "duration": 4,
    "start_time": "2022-10-29T10:33:28.438Z"
   },
   {
    "duration": 18,
    "start_time": "2022-10-29T10:33:28.444Z"
   },
   {
    "duration": 58,
    "start_time": "2022-10-29T10:33:28.464Z"
   },
   {
    "duration": 13,
    "start_time": "2022-10-29T10:33:28.524Z"
   },
   {
    "duration": 1,
    "start_time": "2022-10-29T10:33:28.538Z"
   },
   {
    "duration": 0,
    "start_time": "2022-10-29T10:33:28.540Z"
   },
   {
    "duration": 0,
    "start_time": "2022-10-29T10:33:28.541Z"
   },
   {
    "duration": 72,
    "start_time": "2022-10-29T10:34:02.577Z"
   },
   {
    "duration": 14,
    "start_time": "2022-10-29T10:34:02.651Z"
   },
   {
    "duration": 15,
    "start_time": "2022-10-29T10:34:02.667Z"
   },
   {
    "duration": 26,
    "start_time": "2022-10-29T10:34:02.684Z"
   },
   {
    "duration": 34,
    "start_time": "2022-10-29T10:34:02.711Z"
   },
   {
    "duration": 3,
    "start_time": "2022-10-29T10:34:02.746Z"
   },
   {
    "duration": 17,
    "start_time": "2022-10-29T10:34:02.750Z"
   },
   {
    "duration": 4,
    "start_time": "2022-10-29T10:34:02.768Z"
   },
   {
    "duration": 15,
    "start_time": "2022-10-29T10:34:02.773Z"
   },
   {
    "duration": 6,
    "start_time": "2022-10-29T10:34:02.790Z"
   },
   {
    "duration": 42,
    "start_time": "2022-10-29T10:34:02.797Z"
   },
   {
    "duration": 9,
    "start_time": "2022-10-29T10:34:02.840Z"
   },
   {
    "duration": 4,
    "start_time": "2022-10-29T10:34:02.851Z"
   },
   {
    "duration": 18,
    "start_time": "2022-10-29T10:34:02.856Z"
   },
   {
    "duration": 19,
    "start_time": "2022-10-29T10:34:02.876Z"
   },
   {
    "duration": 30,
    "start_time": "2022-10-29T10:34:02.897Z"
   },
   {
    "duration": 4,
    "start_time": "2022-10-29T10:34:02.929Z"
   },
   {
    "duration": 14,
    "start_time": "2022-10-29T10:34:02.935Z"
   },
   {
    "duration": 7,
    "start_time": "2022-10-29T10:34:02.951Z"
   },
   {
    "duration": 18,
    "start_time": "2022-10-29T10:34:02.959Z"
   },
   {
    "duration": 24,
    "start_time": "2022-10-29T10:34:02.978Z"
   },
   {
    "duration": 29,
    "start_time": "2022-10-29T10:34:03.004Z"
   },
   {
    "duration": 10,
    "start_time": "2022-10-29T10:34:03.035Z"
   },
   {
    "duration": 0,
    "start_time": "2022-10-29T10:34:03.046Z"
   },
   {
    "duration": 0,
    "start_time": "2022-10-29T10:34:03.048Z"
   },
   {
    "duration": 0,
    "start_time": "2022-10-29T10:34:03.049Z"
   },
   {
    "duration": 74,
    "start_time": "2022-10-29T10:35:05.767Z"
   },
   {
    "duration": 18,
    "start_time": "2022-10-29T10:35:05.843Z"
   },
   {
    "duration": 30,
    "start_time": "2022-10-29T10:35:05.863Z"
   },
   {
    "duration": 20,
    "start_time": "2022-10-29T10:35:05.896Z"
   },
   {
    "duration": 39,
    "start_time": "2022-10-29T10:35:05.918Z"
   },
   {
    "duration": 4,
    "start_time": "2022-10-29T10:35:05.958Z"
   },
   {
    "duration": 28,
    "start_time": "2022-10-29T10:35:05.964Z"
   },
   {
    "duration": 16,
    "start_time": "2022-10-29T10:35:05.994Z"
   },
   {
    "duration": 15,
    "start_time": "2022-10-29T10:35:06.012Z"
   },
   {
    "duration": 37,
    "start_time": "2022-10-29T10:35:06.030Z"
   },
   {
    "duration": 76,
    "start_time": "2022-10-29T10:35:06.069Z"
   },
   {
    "duration": 10,
    "start_time": "2022-10-29T10:35:06.147Z"
   },
   {
    "duration": 21,
    "start_time": "2022-10-29T10:35:06.159Z"
   },
   {
    "duration": 37,
    "start_time": "2022-10-29T10:35:06.182Z"
   },
   {
    "duration": 62,
    "start_time": "2022-10-29T10:35:06.221Z"
   },
   {
    "duration": 18,
    "start_time": "2022-10-29T10:35:06.286Z"
   },
   {
    "duration": 23,
    "start_time": "2022-10-29T10:35:06.306Z"
   },
   {
    "duration": 31,
    "start_time": "2022-10-29T10:35:06.331Z"
   },
   {
    "duration": 24,
    "start_time": "2022-10-29T10:35:06.364Z"
   },
   {
    "duration": 27,
    "start_time": "2022-10-29T10:35:06.390Z"
   },
   {
    "duration": 29,
    "start_time": "2022-10-29T10:35:06.418Z"
   },
   {
    "duration": 496,
    "start_time": "2022-10-29T10:35:06.449Z"
   },
   {
    "duration": 1,
    "start_time": "2022-10-29T10:35:06.947Z"
   },
   {
    "duration": 0,
    "start_time": "2022-10-29T10:35:06.949Z"
   },
   {
    "duration": 0,
    "start_time": "2022-10-29T10:35:06.950Z"
   },
   {
    "duration": 520,
    "start_time": "2022-10-29T10:45:52.596Z"
   },
   {
    "duration": 21,
    "start_time": "2022-10-29T10:45:53.118Z"
   },
   {
    "duration": 14,
    "start_time": "2022-10-29T10:45:53.141Z"
   },
   {
    "duration": 8,
    "start_time": "2022-10-29T10:45:53.157Z"
   },
   {
    "duration": 53,
    "start_time": "2022-10-29T10:45:53.167Z"
   },
   {
    "duration": 3,
    "start_time": "2022-10-29T10:45:53.222Z"
   },
   {
    "duration": 10,
    "start_time": "2022-10-29T10:45:53.226Z"
   },
   {
    "duration": 3,
    "start_time": "2022-10-29T10:45:53.237Z"
   },
   {
    "duration": 8,
    "start_time": "2022-10-29T10:45:53.241Z"
   },
   {
    "duration": 4,
    "start_time": "2022-10-29T10:45:53.252Z"
   },
   {
    "duration": 58,
    "start_time": "2022-10-29T10:45:53.257Z"
   },
   {
    "duration": 8,
    "start_time": "2022-10-29T10:45:53.317Z"
   },
   {
    "duration": 3,
    "start_time": "2022-10-29T10:45:53.327Z"
   },
   {
    "duration": 11,
    "start_time": "2022-10-29T10:45:53.331Z"
   },
   {
    "duration": 18,
    "start_time": "2022-10-29T10:45:53.344Z"
   },
   {
    "duration": 18,
    "start_time": "2022-10-29T10:45:53.363Z"
   },
   {
    "duration": 3,
    "start_time": "2022-10-29T10:45:53.409Z"
   },
   {
    "duration": 13,
    "start_time": "2022-10-29T10:45:53.414Z"
   },
   {
    "duration": 7,
    "start_time": "2022-10-29T10:45:53.428Z"
   },
   {
    "duration": 3,
    "start_time": "2022-10-29T10:45:53.437Z"
   },
   {
    "duration": 11,
    "start_time": "2022-10-29T10:45:53.442Z"
   },
   {
    "duration": 615,
    "start_time": "2022-10-29T10:45:53.454Z"
   },
   {
    "duration": 0,
    "start_time": "2022-10-29T10:45:54.071Z"
   },
   {
    "duration": 0,
    "start_time": "2022-10-29T10:45:54.073Z"
   },
   {
    "duration": 0,
    "start_time": "2022-10-29T10:45:54.074Z"
   },
   {
    "duration": 72,
    "start_time": "2022-10-29T10:57:23.435Z"
   },
   {
    "duration": 15,
    "start_time": "2022-10-29T10:57:23.509Z"
   },
   {
    "duration": 14,
    "start_time": "2022-10-29T10:57:23.526Z"
   },
   {
    "duration": 11,
    "start_time": "2022-10-29T10:57:23.541Z"
   },
   {
    "duration": 36,
    "start_time": "2022-10-29T10:57:23.554Z"
   },
   {
    "duration": 19,
    "start_time": "2022-10-29T10:57:23.591Z"
   },
   {
    "duration": 14,
    "start_time": "2022-10-29T10:57:23.612Z"
   },
   {
    "duration": 5,
    "start_time": "2022-10-29T10:57:23.628Z"
   },
   {
    "duration": 9,
    "start_time": "2022-10-29T10:57:23.635Z"
   },
   {
    "duration": 6,
    "start_time": "2022-10-29T10:57:23.646Z"
   },
   {
    "duration": 33,
    "start_time": "2022-10-29T10:57:23.653Z"
   },
   {
    "duration": 26,
    "start_time": "2022-10-29T10:57:23.688Z"
   },
   {
    "duration": 14,
    "start_time": "2022-10-29T10:57:23.716Z"
   },
   {
    "duration": 20,
    "start_time": "2022-10-29T10:57:23.733Z"
   },
   {
    "duration": 28,
    "start_time": "2022-10-29T10:57:23.754Z"
   },
   {
    "duration": 16,
    "start_time": "2022-10-29T10:57:23.784Z"
   },
   {
    "duration": 3,
    "start_time": "2022-10-29T10:57:23.802Z"
   },
   {
    "duration": 16,
    "start_time": "2022-10-29T10:57:23.808Z"
   },
   {
    "duration": 9,
    "start_time": "2022-10-29T10:57:23.825Z"
   },
   {
    "duration": 3,
    "start_time": "2022-10-29T10:57:23.835Z"
   },
   {
    "duration": 11,
    "start_time": "2022-10-29T10:57:23.840Z"
   },
   {
    "duration": 20,
    "start_time": "2022-10-29T10:57:23.852Z"
   },
   {
    "duration": 2,
    "start_time": "2022-10-29T10:57:23.873Z"
   },
   {
    "duration": 11,
    "start_time": "2022-10-29T10:57:23.876Z"
   },
   {
    "duration": 7,
    "start_time": "2022-10-29T10:57:23.888Z"
   },
   {
    "duration": 69,
    "start_time": "2022-10-29T10:57:59.290Z"
   },
   {
    "duration": 14,
    "start_time": "2022-10-29T10:57:59.362Z"
   },
   {
    "duration": 14,
    "start_time": "2022-10-29T10:57:59.378Z"
   },
   {
    "duration": 19,
    "start_time": "2022-10-29T10:57:59.394Z"
   },
   {
    "duration": 34,
    "start_time": "2022-10-29T10:57:59.414Z"
   },
   {
    "duration": 4,
    "start_time": "2022-10-29T10:57:59.450Z"
   },
   {
    "duration": 13,
    "start_time": "2022-10-29T10:57:59.455Z"
   },
   {
    "duration": 8,
    "start_time": "2022-10-29T10:57:59.469Z"
   },
   {
    "duration": 7,
    "start_time": "2022-10-29T10:57:59.479Z"
   },
   {
    "duration": 6,
    "start_time": "2022-10-29T10:57:59.508Z"
   },
   {
    "duration": 34,
    "start_time": "2022-10-29T10:57:59.516Z"
   },
   {
    "duration": 9,
    "start_time": "2022-10-29T10:57:59.552Z"
   },
   {
    "duration": 4,
    "start_time": "2022-10-29T10:57:59.562Z"
   },
   {
    "duration": 10,
    "start_time": "2022-10-29T10:57:59.567Z"
   },
   {
    "duration": 46,
    "start_time": "2022-10-29T10:57:59.578Z"
   },
   {
    "duration": 17,
    "start_time": "2022-10-29T10:57:59.625Z"
   },
   {
    "duration": 3,
    "start_time": "2022-10-29T10:57:59.644Z"
   },
   {
    "duration": 11,
    "start_time": "2022-10-29T10:57:59.648Z"
   },
   {
    "duration": 5,
    "start_time": "2022-10-29T10:57:59.660Z"
   },
   {
    "duration": 6,
    "start_time": "2022-10-29T10:57:59.667Z"
   },
   {
    "duration": 36,
    "start_time": "2022-10-29T10:57:59.675Z"
   },
   {
    "duration": 21,
    "start_time": "2022-10-29T10:57:59.713Z"
   },
   {
    "duration": 2,
    "start_time": "2022-10-29T10:57:59.736Z"
   },
   {
    "duration": 5,
    "start_time": "2022-10-29T10:57:59.739Z"
   },
   {
    "duration": 4,
    "start_time": "2022-10-29T10:57:59.745Z"
   },
   {
    "duration": 71,
    "start_time": "2022-10-29T10:59:17.261Z"
   },
   {
    "duration": 16,
    "start_time": "2022-10-29T10:59:17.335Z"
   },
   {
    "duration": 24,
    "start_time": "2022-10-29T10:59:17.353Z"
   },
   {
    "duration": 10,
    "start_time": "2022-10-29T10:59:17.378Z"
   },
   {
    "duration": 45,
    "start_time": "2022-10-29T10:59:17.390Z"
   },
   {
    "duration": 3,
    "start_time": "2022-10-29T10:59:17.437Z"
   },
   {
    "duration": 9,
    "start_time": "2022-10-29T10:59:17.442Z"
   },
   {
    "duration": 4,
    "start_time": "2022-10-29T10:59:17.453Z"
   },
   {
    "duration": 8,
    "start_time": "2022-10-29T10:59:17.458Z"
   },
   {
    "duration": 7,
    "start_time": "2022-10-29T10:59:17.467Z"
   },
   {
    "duration": 55,
    "start_time": "2022-10-29T10:59:17.476Z"
   },
   {
    "duration": 8,
    "start_time": "2022-10-29T10:59:17.532Z"
   },
   {
    "duration": 3,
    "start_time": "2022-10-29T10:59:17.542Z"
   },
   {
    "duration": 10,
    "start_time": "2022-10-29T10:59:17.547Z"
   },
   {
    "duration": 18,
    "start_time": "2022-10-29T10:59:17.559Z"
   },
   {
    "duration": 43,
    "start_time": "2022-10-29T10:59:17.578Z"
   },
   {
    "duration": 3,
    "start_time": "2022-10-29T10:59:17.622Z"
   },
   {
    "duration": 14,
    "start_time": "2022-10-29T10:59:17.626Z"
   },
   {
    "duration": 5,
    "start_time": "2022-10-29T10:59:17.641Z"
   },
   {
    "duration": 6,
    "start_time": "2022-10-29T10:59:17.648Z"
   },
   {
    "duration": 11,
    "start_time": "2022-10-29T10:59:17.655Z"
   },
   {
    "duration": 24,
    "start_time": "2022-10-29T10:59:17.668Z"
   },
   {
    "duration": 2,
    "start_time": "2022-10-29T10:59:17.708Z"
   },
   {
    "duration": 4,
    "start_time": "2022-10-29T10:59:17.712Z"
   },
   {
    "duration": 4,
    "start_time": "2022-10-29T10:59:17.717Z"
   },
   {
    "duration": 970,
    "start_time": "2022-10-29T11:02:22.408Z"
   },
   {
    "duration": 80,
    "start_time": "2022-10-29T11:02:25.377Z"
   },
   {
    "duration": 15,
    "start_time": "2022-10-29T11:02:25.459Z"
   },
   {
    "duration": 27,
    "start_time": "2022-10-29T11:02:25.475Z"
   },
   {
    "duration": 8,
    "start_time": "2022-10-29T11:02:25.508Z"
   },
   {
    "duration": 35,
    "start_time": "2022-10-29T11:02:25.519Z"
   },
   {
    "duration": 3,
    "start_time": "2022-10-29T11:02:25.555Z"
   },
   {
    "duration": 10,
    "start_time": "2022-10-29T11:02:25.560Z"
   },
   {
    "duration": 4,
    "start_time": "2022-10-29T11:02:25.571Z"
   },
   {
    "duration": 36,
    "start_time": "2022-10-29T11:02:25.577Z"
   },
   {
    "duration": 5,
    "start_time": "2022-10-29T11:02:25.614Z"
   },
   {
    "duration": 32,
    "start_time": "2022-10-29T11:02:25.620Z"
   },
   {
    "duration": 9,
    "start_time": "2022-10-29T11:02:25.654Z"
   },
   {
    "duration": 5,
    "start_time": "2022-10-29T11:02:25.664Z"
   },
   {
    "duration": 37,
    "start_time": "2022-10-29T11:02:25.672Z"
   },
   {
    "duration": 18,
    "start_time": "2022-10-29T11:02:25.711Z"
   },
   {
    "duration": 17,
    "start_time": "2022-10-29T11:02:25.731Z"
   },
   {
    "duration": 3,
    "start_time": "2022-10-29T11:02:25.750Z"
   },
   {
    "duration": 12,
    "start_time": "2022-10-29T11:02:25.754Z"
   },
   {
    "duration": 6,
    "start_time": "2022-10-29T11:02:25.768Z"
   },
   {
    "duration": 3,
    "start_time": "2022-10-29T11:02:25.775Z"
   },
   {
    "duration": 35,
    "start_time": "2022-10-29T11:02:25.780Z"
   },
   {
    "duration": 33,
    "start_time": "2022-10-29T11:02:25.817Z"
   },
   {
    "duration": 0,
    "start_time": "2022-10-29T11:02:25.852Z"
   },
   {
    "duration": 0,
    "start_time": "2022-10-29T11:02:25.853Z"
   },
   {
    "duration": 0,
    "start_time": "2022-10-29T11:02:25.854Z"
   },
   {
    "duration": 69,
    "start_time": "2022-10-29T11:02:52.197Z"
   },
   {
    "duration": 15,
    "start_time": "2022-10-29T11:02:52.268Z"
   },
   {
    "duration": 15,
    "start_time": "2022-10-29T11:02:52.284Z"
   },
   {
    "duration": 10,
    "start_time": "2022-10-29T11:02:52.310Z"
   },
   {
    "duration": 32,
    "start_time": "2022-10-29T11:02:52.321Z"
   },
   {
    "duration": 4,
    "start_time": "2022-10-29T11:02:52.354Z"
   },
   {
    "duration": 14,
    "start_time": "2022-10-29T11:02:52.360Z"
   },
   {
    "duration": 34,
    "start_time": "2022-10-29T11:02:52.376Z"
   },
   {
    "duration": 6,
    "start_time": "2022-10-29T11:02:52.412Z"
   },
   {
    "duration": 4,
    "start_time": "2022-10-29T11:02:52.421Z"
   },
   {
    "duration": 31,
    "start_time": "2022-10-29T11:02:52.427Z"
   },
   {
    "duration": 10,
    "start_time": "2022-10-29T11:02:52.460Z"
   },
   {
    "duration": 4,
    "start_time": "2022-10-29T11:02:52.472Z"
   },
   {
    "duration": 13,
    "start_time": "2022-10-29T11:02:52.509Z"
   },
   {
    "duration": 20,
    "start_time": "2022-10-29T11:02:52.523Z"
   },
   {
    "duration": 17,
    "start_time": "2022-10-29T11:02:52.545Z"
   },
   {
    "duration": 4,
    "start_time": "2022-10-29T11:02:52.563Z"
   },
   {
    "duration": 12,
    "start_time": "2022-10-29T11:02:52.568Z"
   },
   {
    "duration": 7,
    "start_time": "2022-10-29T11:02:52.582Z"
   },
   {
    "duration": 4,
    "start_time": "2022-10-29T11:02:52.609Z"
   },
   {
    "duration": 10,
    "start_time": "2022-10-29T11:02:52.614Z"
   },
   {
    "duration": 296,
    "start_time": "2022-10-29T11:02:52.625Z"
   },
   {
    "duration": 2,
    "start_time": "2022-10-29T11:02:52.923Z"
   },
   {
    "duration": 9,
    "start_time": "2022-10-29T11:02:52.926Z"
   },
   {
    "duration": 6,
    "start_time": "2022-10-29T11:02:52.936Z"
   },
   {
    "duration": 79,
    "start_time": "2022-10-29T11:03:24.450Z"
   },
   {
    "duration": 18,
    "start_time": "2022-10-29T11:03:24.532Z"
   },
   {
    "duration": 20,
    "start_time": "2022-10-29T11:03:24.552Z"
   },
   {
    "duration": 12,
    "start_time": "2022-10-29T11:03:24.575Z"
   },
   {
    "duration": 45,
    "start_time": "2022-10-29T11:03:24.589Z"
   },
   {
    "duration": 4,
    "start_time": "2022-10-29T11:03:24.635Z"
   },
   {
    "duration": 9,
    "start_time": "2022-10-29T11:03:24.640Z"
   },
   {
    "duration": 5,
    "start_time": "2022-10-29T11:03:24.651Z"
   },
   {
    "duration": 7,
    "start_time": "2022-10-29T11:03:24.657Z"
   },
   {
    "duration": 7,
    "start_time": "2022-10-29T11:03:24.666Z"
   },
   {
    "duration": 61,
    "start_time": "2022-10-29T11:03:24.675Z"
   },
   {
    "duration": 9,
    "start_time": "2022-10-29T11:03:24.738Z"
   },
   {
    "duration": 3,
    "start_time": "2022-10-29T11:03:24.748Z"
   },
   {
    "duration": 14,
    "start_time": "2022-10-29T11:03:24.753Z"
   },
   {
    "duration": 44,
    "start_time": "2022-10-29T11:03:24.768Z"
   },
   {
    "duration": 20,
    "start_time": "2022-10-29T11:03:24.813Z"
   },
   {
    "duration": 3,
    "start_time": "2022-10-29T11:03:24.835Z"
   },
   {
    "duration": 11,
    "start_time": "2022-10-29T11:03:24.840Z"
   },
   {
    "duration": 6,
    "start_time": "2022-10-29T11:03:24.853Z"
   },
   {
    "duration": 4,
    "start_time": "2022-10-29T11:03:24.861Z"
   },
   {
    "duration": 42,
    "start_time": "2022-10-29T11:03:24.867Z"
   },
   {
    "duration": 277,
    "start_time": "2022-10-29T11:03:24.911Z"
   },
   {
    "duration": 3,
    "start_time": "2022-10-29T11:03:25.190Z"
   },
   {
    "duration": 26,
    "start_time": "2022-10-29T11:03:25.194Z"
   },
   {
    "duration": 50,
    "start_time": "2022-10-29T11:03:25.222Z"
   },
   {
    "duration": 71,
    "start_time": "2022-10-29T11:03:38.123Z"
   },
   {
    "duration": 15,
    "start_time": "2022-10-29T11:03:38.195Z"
   },
   {
    "duration": 16,
    "start_time": "2022-10-29T11:03:38.211Z"
   },
   {
    "duration": 20,
    "start_time": "2022-10-29T11:03:38.229Z"
   },
   {
    "duration": 37,
    "start_time": "2022-10-29T11:03:38.252Z"
   },
   {
    "duration": 4,
    "start_time": "2022-10-29T11:03:38.290Z"
   },
   {
    "duration": 9,
    "start_time": "2022-10-29T11:03:38.308Z"
   },
   {
    "duration": 5,
    "start_time": "2022-10-29T11:03:38.319Z"
   },
   {
    "duration": 6,
    "start_time": "2022-10-29T11:03:38.326Z"
   },
   {
    "duration": 15,
    "start_time": "2022-10-29T11:03:38.334Z"
   },
   {
    "duration": 40,
    "start_time": "2022-10-29T11:03:38.350Z"
   },
   {
    "duration": 23,
    "start_time": "2022-10-29T11:03:38.392Z"
   },
   {
    "duration": 4,
    "start_time": "2022-10-29T11:03:38.416Z"
   },
   {
    "duration": 13,
    "start_time": "2022-10-29T11:03:38.421Z"
   },
   {
    "duration": 19,
    "start_time": "2022-10-29T11:03:38.436Z"
   },
   {
    "duration": 17,
    "start_time": "2022-10-29T11:03:38.457Z"
   },
   {
    "duration": 3,
    "start_time": "2022-10-29T11:03:38.475Z"
   },
   {
    "duration": 17,
    "start_time": "2022-10-29T11:03:38.508Z"
   },
   {
    "duration": 8,
    "start_time": "2022-10-29T11:03:38.527Z"
   },
   {
    "duration": 5,
    "start_time": "2022-10-29T11:03:38.537Z"
   },
   {
    "duration": 11,
    "start_time": "2022-10-29T11:03:38.543Z"
   },
   {
    "duration": 362,
    "start_time": "2022-10-29T11:03:38.556Z"
   },
   {
    "duration": 3,
    "start_time": "2022-10-29T11:03:38.919Z"
   },
   {
    "duration": 6,
    "start_time": "2022-10-29T11:03:38.923Z"
   },
   {
    "duration": 6,
    "start_time": "2022-10-29T11:03:38.931Z"
   },
   {
    "duration": 78,
    "start_time": "2022-10-29T11:04:01.107Z"
   },
   {
    "duration": 16,
    "start_time": "2022-10-29T11:04:01.187Z"
   },
   {
    "duration": 23,
    "start_time": "2022-10-29T11:04:01.205Z"
   },
   {
    "duration": 9,
    "start_time": "2022-10-29T11:04:01.230Z"
   },
   {
    "duration": 38,
    "start_time": "2022-10-29T11:04:01.241Z"
   },
   {
    "duration": 4,
    "start_time": "2022-10-29T11:04:01.281Z"
   },
   {
    "duration": 26,
    "start_time": "2022-10-29T11:04:01.287Z"
   },
   {
    "duration": 4,
    "start_time": "2022-10-29T11:04:01.315Z"
   },
   {
    "duration": 14,
    "start_time": "2022-10-29T11:04:01.320Z"
   },
   {
    "duration": 10,
    "start_time": "2022-10-29T11:04:01.335Z"
   },
   {
    "duration": 43,
    "start_time": "2022-10-29T11:04:01.346Z"
   },
   {
    "duration": 9,
    "start_time": "2022-10-29T11:04:01.390Z"
   },
   {
    "duration": 8,
    "start_time": "2022-10-29T11:04:01.401Z"
   },
   {
    "duration": 14,
    "start_time": "2022-10-29T11:04:01.411Z"
   },
   {
    "duration": 18,
    "start_time": "2022-10-29T11:04:01.426Z"
   },
   {
    "duration": 17,
    "start_time": "2022-10-29T11:04:01.446Z"
   },
   {
    "duration": 4,
    "start_time": "2022-10-29T11:04:01.465Z"
   },
   {
    "duration": 39,
    "start_time": "2022-10-29T11:04:01.470Z"
   },
   {
    "duration": 6,
    "start_time": "2022-10-29T11:04:01.510Z"
   },
   {
    "duration": 17,
    "start_time": "2022-10-29T11:04:01.517Z"
   },
   {
    "duration": 15,
    "start_time": "2022-10-29T11:04:01.536Z"
   },
   {
    "duration": 363,
    "start_time": "2022-10-29T11:04:01.552Z"
   },
   {
    "duration": 2,
    "start_time": "2022-10-29T11:04:01.917Z"
   },
   {
    "duration": 7,
    "start_time": "2022-10-29T11:04:01.920Z"
   },
   {
    "duration": 22,
    "start_time": "2022-10-29T11:04:01.928Z"
   },
   {
    "duration": 70,
    "start_time": "2022-10-29T11:04:28.751Z"
   },
   {
    "duration": 16,
    "start_time": "2022-10-29T11:04:28.823Z"
   },
   {
    "duration": 22,
    "start_time": "2022-10-29T11:04:28.841Z"
   },
   {
    "duration": 9,
    "start_time": "2022-10-29T11:04:28.865Z"
   },
   {
    "duration": 46,
    "start_time": "2022-10-29T11:04:28.876Z"
   },
   {
    "duration": 3,
    "start_time": "2022-10-29T11:04:28.923Z"
   },
   {
    "duration": 13,
    "start_time": "2022-10-29T11:04:28.928Z"
   },
   {
    "duration": 5,
    "start_time": "2022-10-29T11:04:28.942Z"
   },
   {
    "duration": 5,
    "start_time": "2022-10-29T11:04:28.949Z"
   },
   {
    "duration": 4,
    "start_time": "2022-10-29T11:04:28.956Z"
   },
   {
    "duration": 55,
    "start_time": "2022-10-29T11:04:28.962Z"
   },
   {
    "duration": 9,
    "start_time": "2022-10-29T11:04:29.018Z"
   },
   {
    "duration": 6,
    "start_time": "2022-10-29T11:04:29.029Z"
   },
   {
    "duration": 10,
    "start_time": "2022-10-29T11:04:29.037Z"
   },
   {
    "duration": 18,
    "start_time": "2022-10-29T11:04:29.048Z"
   },
   {
    "duration": 42,
    "start_time": "2022-10-29T11:04:29.067Z"
   },
   {
    "duration": 4,
    "start_time": "2022-10-29T11:04:29.110Z"
   },
   {
    "duration": 19,
    "start_time": "2022-10-29T11:04:29.115Z"
   },
   {
    "duration": 8,
    "start_time": "2022-10-29T11:04:29.136Z"
   },
   {
    "duration": 4,
    "start_time": "2022-10-29T11:04:29.145Z"
   },
   {
    "duration": 14,
    "start_time": "2022-10-29T11:04:29.150Z"
   },
   {
    "duration": 375,
    "start_time": "2022-10-29T11:04:29.166Z"
   },
   {
    "duration": 3,
    "start_time": "2022-10-29T11:04:29.542Z"
   },
   {
    "duration": 6,
    "start_time": "2022-10-29T11:04:29.546Z"
   },
   {
    "duration": 5,
    "start_time": "2022-10-29T11:04:29.554Z"
   },
   {
    "duration": 70,
    "start_time": "2022-10-29T11:04:45.500Z"
   },
   {
    "duration": 16,
    "start_time": "2022-10-29T11:04:45.572Z"
   },
   {
    "duration": 23,
    "start_time": "2022-10-29T11:04:45.589Z"
   },
   {
    "duration": 8,
    "start_time": "2022-10-29T11:04:45.614Z"
   },
   {
    "duration": 37,
    "start_time": "2022-10-29T11:04:45.624Z"
   },
   {
    "duration": 3,
    "start_time": "2022-10-29T11:04:45.662Z"
   },
   {
    "duration": 12,
    "start_time": "2022-10-29T11:04:45.667Z"
   },
   {
    "duration": 8,
    "start_time": "2022-10-29T11:04:45.680Z"
   },
   {
    "duration": 20,
    "start_time": "2022-10-29T11:04:45.689Z"
   },
   {
    "duration": 13,
    "start_time": "2022-10-29T11:04:45.712Z"
   },
   {
    "duration": 31,
    "start_time": "2022-10-29T11:04:45.726Z"
   },
   {
    "duration": 9,
    "start_time": "2022-10-29T11:04:45.759Z"
   },
   {
    "duration": 4,
    "start_time": "2022-10-29T11:04:45.769Z"
   },
   {
    "duration": 12,
    "start_time": "2022-10-29T11:04:45.774Z"
   },
   {
    "duration": 43,
    "start_time": "2022-10-29T11:04:45.787Z"
   },
   {
    "duration": 20,
    "start_time": "2022-10-29T11:04:45.832Z"
   },
   {
    "duration": 4,
    "start_time": "2022-10-29T11:04:45.853Z"
   },
   {
    "duration": 12,
    "start_time": "2022-10-29T11:04:45.858Z"
   },
   {
    "duration": 9,
    "start_time": "2022-10-29T11:04:45.871Z"
   },
   {
    "duration": 6,
    "start_time": "2022-10-29T11:04:45.881Z"
   },
   {
    "duration": 15,
    "start_time": "2022-10-29T11:04:45.909Z"
   },
   {
    "duration": 378,
    "start_time": "2022-10-29T11:04:45.926Z"
   },
   {
    "duration": 3,
    "start_time": "2022-10-29T11:04:46.309Z"
   },
   {
    "duration": 11,
    "start_time": "2022-10-29T11:04:46.313Z"
   },
   {
    "duration": 5,
    "start_time": "2022-10-29T11:04:46.325Z"
   },
   {
    "duration": 70,
    "start_time": "2022-10-29T11:17:30.307Z"
   },
   {
    "duration": 15,
    "start_time": "2022-10-29T11:17:30.379Z"
   },
   {
    "duration": 17,
    "start_time": "2022-10-29T11:17:30.396Z"
   },
   {
    "duration": 10,
    "start_time": "2022-10-29T11:17:30.415Z"
   },
   {
    "duration": 53,
    "start_time": "2022-10-29T11:17:30.427Z"
   },
   {
    "duration": 3,
    "start_time": "2022-10-29T11:17:30.482Z"
   },
   {
    "duration": 18,
    "start_time": "2022-10-29T11:17:30.487Z"
   },
   {
    "duration": 20,
    "start_time": "2022-10-29T11:17:30.506Z"
   },
   {
    "duration": 26,
    "start_time": "2022-10-29T11:17:30.528Z"
   },
   {
    "duration": 28,
    "start_time": "2022-10-29T11:17:30.556Z"
   },
   {
    "duration": 62,
    "start_time": "2022-10-29T11:17:30.585Z"
   },
   {
    "duration": 9,
    "start_time": "2022-10-29T11:17:30.648Z"
   },
   {
    "duration": 18,
    "start_time": "2022-10-29T11:17:30.658Z"
   },
   {
    "duration": 12,
    "start_time": "2022-10-29T11:17:30.679Z"
   },
   {
    "duration": 23,
    "start_time": "2022-10-29T11:17:30.692Z"
   },
   {
    "duration": 18,
    "start_time": "2022-10-29T11:17:30.717Z"
   },
   {
    "duration": 4,
    "start_time": "2022-10-29T11:17:30.736Z"
   },
   {
    "duration": 40,
    "start_time": "2022-10-29T11:17:30.741Z"
   },
   {
    "duration": 35,
    "start_time": "2022-10-29T11:17:30.782Z"
   },
   {
    "duration": 4,
    "start_time": "2022-10-29T11:17:30.818Z"
   },
   {
    "duration": 13,
    "start_time": "2022-10-29T11:17:30.824Z"
   },
   {
    "duration": 71,
    "start_time": "2022-10-29T11:17:33.112Z"
   },
   {
    "duration": 14,
    "start_time": "2022-10-29T11:17:33.185Z"
   },
   {
    "duration": 15,
    "start_time": "2022-10-29T11:17:33.200Z"
   },
   {
    "duration": 9,
    "start_time": "2022-10-29T11:17:33.217Z"
   },
   {
    "duration": 40,
    "start_time": "2022-10-29T11:17:33.228Z"
   },
   {
    "duration": 3,
    "start_time": "2022-10-29T11:17:33.270Z"
   },
   {
    "duration": 14,
    "start_time": "2022-10-29T11:17:33.274Z"
   },
   {
    "duration": 20,
    "start_time": "2022-10-29T11:17:33.290Z"
   },
   {
    "duration": 5,
    "start_time": "2022-10-29T11:17:33.311Z"
   },
   {
    "duration": 5,
    "start_time": "2022-10-29T11:17:33.318Z"
   },
   {
    "duration": 33,
    "start_time": "2022-10-29T11:17:33.324Z"
   },
   {
    "duration": 10,
    "start_time": "2022-10-29T11:17:33.358Z"
   },
   {
    "duration": 6,
    "start_time": "2022-10-29T11:17:33.369Z"
   },
   {
    "duration": 43,
    "start_time": "2022-10-29T11:17:33.377Z"
   },
   {
    "duration": 21,
    "start_time": "2022-10-29T11:17:33.422Z"
   },
   {
    "duration": 16,
    "start_time": "2022-10-29T11:17:33.445Z"
   },
   {
    "duration": 3,
    "start_time": "2022-10-29T11:17:33.463Z"
   },
   {
    "duration": 11,
    "start_time": "2022-10-29T11:17:33.468Z"
   },
   {
    "duration": 29,
    "start_time": "2022-10-29T11:17:33.480Z"
   },
   {
    "duration": 4,
    "start_time": "2022-10-29T11:17:33.510Z"
   },
   {
    "duration": 10,
    "start_time": "2022-10-29T11:17:33.515Z"
   },
   {
    "duration": 23,
    "start_time": "2022-10-29T11:17:33.527Z"
   },
   {
    "duration": 3,
    "start_time": "2022-10-29T11:17:33.551Z"
   },
   {
    "duration": 4,
    "start_time": "2022-10-29T11:17:33.555Z"
   },
   {
    "duration": 4,
    "start_time": "2022-10-29T11:17:33.560Z"
   },
   {
    "duration": 72,
    "start_time": "2022-10-29T11:20:40.745Z"
   },
   {
    "duration": 14,
    "start_time": "2022-10-29T11:20:40.820Z"
   },
   {
    "duration": 24,
    "start_time": "2022-10-29T11:20:40.836Z"
   },
   {
    "duration": 16,
    "start_time": "2022-10-29T11:20:40.862Z"
   },
   {
    "duration": 39,
    "start_time": "2022-10-29T11:20:40.879Z"
   },
   {
    "duration": 4,
    "start_time": "2022-10-29T11:20:40.919Z"
   },
   {
    "duration": 26,
    "start_time": "2022-10-29T11:20:40.924Z"
   },
   {
    "duration": 6,
    "start_time": "2022-10-29T11:20:40.951Z"
   },
   {
    "duration": 27,
    "start_time": "2022-10-29T11:20:40.958Z"
   },
   {
    "duration": 19,
    "start_time": "2022-10-29T11:20:40.988Z"
   },
   {
    "duration": 45,
    "start_time": "2022-10-29T11:20:41.009Z"
   },
   {
    "duration": 9,
    "start_time": "2022-10-29T11:20:41.055Z"
   },
   {
    "duration": 6,
    "start_time": "2022-10-29T11:20:41.065Z"
   },
   {
    "duration": 32,
    "start_time": "2022-10-29T11:20:41.072Z"
   },
   {
    "duration": 28,
    "start_time": "2022-10-29T11:20:41.106Z"
   },
   {
    "duration": 27,
    "start_time": "2022-10-29T11:20:41.135Z"
   },
   {
    "duration": 4,
    "start_time": "2022-10-29T11:20:41.163Z"
   },
   {
    "duration": 34,
    "start_time": "2022-10-29T11:20:41.168Z"
   },
   {
    "duration": 18,
    "start_time": "2022-10-29T11:20:41.203Z"
   },
   {
    "duration": 3,
    "start_time": "2022-10-29T11:20:41.222Z"
   },
   {
    "duration": 36,
    "start_time": "2022-10-29T11:20:41.227Z"
   },
   {
    "duration": 48,
    "start_time": "2022-10-29T11:20:41.265Z"
   },
   {
    "duration": 0,
    "start_time": "2022-10-29T11:20:41.314Z"
   },
   {
    "duration": 0,
    "start_time": "2022-10-29T11:20:41.315Z"
   },
   {
    "duration": 0,
    "start_time": "2022-10-29T11:20:41.316Z"
   },
   {
    "duration": 69,
    "start_time": "2022-10-29T11:20:52.985Z"
   },
   {
    "duration": 14,
    "start_time": "2022-10-29T11:20:53.057Z"
   },
   {
    "duration": 15,
    "start_time": "2022-10-29T11:20:53.072Z"
   },
   {
    "duration": 26,
    "start_time": "2022-10-29T11:20:53.089Z"
   },
   {
    "duration": 35,
    "start_time": "2022-10-29T11:20:53.117Z"
   },
   {
    "duration": 3,
    "start_time": "2022-10-29T11:20:53.154Z"
   },
   {
    "duration": 11,
    "start_time": "2022-10-29T11:20:53.158Z"
   },
   {
    "duration": 3,
    "start_time": "2022-10-29T11:20:53.171Z"
   },
   {
    "duration": 34,
    "start_time": "2022-10-29T11:20:53.175Z"
   },
   {
    "duration": 5,
    "start_time": "2022-10-29T11:20:53.211Z"
   },
   {
    "duration": 38,
    "start_time": "2022-10-29T11:20:53.217Z"
   },
   {
    "duration": 12,
    "start_time": "2022-10-29T11:20:53.257Z"
   },
   {
    "duration": 7,
    "start_time": "2022-10-29T11:20:53.270Z"
   },
   {
    "duration": 32,
    "start_time": "2022-10-29T11:20:53.278Z"
   },
   {
    "duration": 18,
    "start_time": "2022-10-29T11:20:53.312Z"
   },
   {
    "duration": 18,
    "start_time": "2022-10-29T11:20:53.332Z"
   },
   {
    "duration": 3,
    "start_time": "2022-10-29T11:20:53.352Z"
   },
   {
    "duration": 18,
    "start_time": "2022-10-29T11:20:53.357Z"
   },
   {
    "duration": 8,
    "start_time": "2022-10-29T11:20:53.376Z"
   },
   {
    "duration": 3,
    "start_time": "2022-10-29T11:20:53.385Z"
   },
   {
    "duration": 8,
    "start_time": "2022-10-29T11:20:53.409Z"
   },
   {
    "duration": 28,
    "start_time": "2022-10-29T11:20:53.419Z"
   },
   {
    "duration": 0,
    "start_time": "2022-10-29T11:20:53.448Z"
   },
   {
    "duration": 1,
    "start_time": "2022-10-29T11:20:53.449Z"
   },
   {
    "duration": 0,
    "start_time": "2022-10-29T11:20:53.451Z"
   },
   {
    "duration": 69,
    "start_time": "2022-10-29T11:29:52.876Z"
   },
   {
    "duration": 15,
    "start_time": "2022-10-29T11:29:52.946Z"
   },
   {
    "duration": 15,
    "start_time": "2022-10-29T11:29:52.963Z"
   },
   {
    "duration": 15,
    "start_time": "2022-10-29T11:29:52.980Z"
   },
   {
    "duration": 40,
    "start_time": "2022-10-29T11:29:53.010Z"
   },
   {
    "duration": 3,
    "start_time": "2022-10-29T11:29:53.051Z"
   },
   {
    "duration": 31,
    "start_time": "2022-10-29T11:29:53.056Z"
   },
   {
    "duration": 13,
    "start_time": "2022-10-29T11:29:53.088Z"
   },
   {
    "duration": 25,
    "start_time": "2022-10-29T11:29:53.102Z"
   },
   {
    "duration": 10,
    "start_time": "2022-10-29T11:29:53.129Z"
   },
   {
    "duration": 40,
    "start_time": "2022-10-29T11:29:53.141Z"
   },
   {
    "duration": 9,
    "start_time": "2022-10-29T11:29:53.183Z"
   },
   {
    "duration": 4,
    "start_time": "2022-10-29T11:29:53.193Z"
   },
   {
    "duration": 16,
    "start_time": "2022-10-29T11:29:53.199Z"
   },
   {
    "duration": 19,
    "start_time": "2022-10-29T11:29:53.216Z"
   },
   {
    "duration": 18,
    "start_time": "2022-10-29T11:29:53.237Z"
   },
   {
    "duration": 12,
    "start_time": "2022-10-29T11:29:53.256Z"
   },
   {
    "duration": 25,
    "start_time": "2022-10-29T11:29:53.270Z"
   },
   {
    "duration": 14,
    "start_time": "2022-10-29T11:29:53.297Z"
   },
   {
    "duration": 18,
    "start_time": "2022-10-29T11:29:53.312Z"
   },
   {
    "duration": 25,
    "start_time": "2022-10-29T11:29:53.332Z"
   },
   {
    "duration": 41,
    "start_time": "2022-10-29T11:29:53.359Z"
   },
   {
    "duration": 8,
    "start_time": "2022-10-29T11:29:53.402Z"
   },
   {
    "duration": 5,
    "start_time": "2022-10-29T11:29:53.411Z"
   },
   {
    "duration": 4,
    "start_time": "2022-10-29T11:29:53.417Z"
   },
   {
    "duration": 73,
    "start_time": "2022-10-29T11:30:09.650Z"
   },
   {
    "duration": 14,
    "start_time": "2022-10-29T11:30:09.726Z"
   },
   {
    "duration": 22,
    "start_time": "2022-10-29T11:30:09.742Z"
   },
   {
    "duration": 14,
    "start_time": "2022-10-29T11:30:09.766Z"
   },
   {
    "duration": 52,
    "start_time": "2022-10-29T11:30:09.782Z"
   },
   {
    "duration": 3,
    "start_time": "2022-10-29T11:30:09.836Z"
   },
   {
    "duration": 11,
    "start_time": "2022-10-29T11:30:09.840Z"
   },
   {
    "duration": 5,
    "start_time": "2022-10-29T11:30:09.852Z"
   },
   {
    "duration": 6,
    "start_time": "2022-10-29T11:30:09.858Z"
   },
   {
    "duration": 4,
    "start_time": "2022-10-29T11:30:09.866Z"
   },
   {
    "duration": 62,
    "start_time": "2022-10-29T11:30:09.872Z"
   },
   {
    "duration": 9,
    "start_time": "2022-10-29T11:30:09.936Z"
   },
   {
    "duration": 4,
    "start_time": "2022-10-29T11:30:09.946Z"
   },
   {
    "duration": 12,
    "start_time": "2022-10-29T11:30:09.952Z"
   },
   {
    "duration": 23,
    "start_time": "2022-10-29T11:30:09.966Z"
   },
   {
    "duration": 20,
    "start_time": "2022-10-29T11:30:10.009Z"
   },
   {
    "duration": 4,
    "start_time": "2022-10-29T11:30:10.031Z"
   },
   {
    "duration": 19,
    "start_time": "2022-10-29T11:30:10.036Z"
   },
   {
    "duration": 8,
    "start_time": "2022-10-29T11:30:10.057Z"
   },
   {
    "duration": 3,
    "start_time": "2022-10-29T11:30:10.067Z"
   },
   {
    "duration": 10,
    "start_time": "2022-10-29T11:30:10.072Z"
   },
   {
    "duration": 48,
    "start_time": "2022-10-29T11:30:10.084Z"
   },
   {
    "duration": 0,
    "start_time": "2022-10-29T11:30:10.133Z"
   },
   {
    "duration": 0,
    "start_time": "2022-10-29T11:30:10.135Z"
   },
   {
    "duration": 0,
    "start_time": "2022-10-29T11:30:10.136Z"
   },
   {
    "duration": 76,
    "start_time": "2022-10-29T11:31:18.186Z"
   },
   {
    "duration": 15,
    "start_time": "2022-10-29T11:31:18.263Z"
   },
   {
    "duration": 29,
    "start_time": "2022-10-29T11:31:18.280Z"
   },
   {
    "duration": 11,
    "start_time": "2022-10-29T11:31:18.312Z"
   },
   {
    "duration": 32,
    "start_time": "2022-10-29T11:31:18.324Z"
   },
   {
    "duration": 3,
    "start_time": "2022-10-29T11:31:18.358Z"
   },
   {
    "duration": 15,
    "start_time": "2022-10-29T11:31:18.362Z"
   },
   {
    "duration": 5,
    "start_time": "2022-10-29T11:31:18.379Z"
   },
   {
    "duration": 25,
    "start_time": "2022-10-29T11:31:18.386Z"
   },
   {
    "duration": 4,
    "start_time": "2022-10-29T11:31:18.414Z"
   },
   {
    "duration": 34,
    "start_time": "2022-10-29T11:31:18.419Z"
   },
   {
    "duration": 9,
    "start_time": "2022-10-29T11:31:18.455Z"
   },
   {
    "duration": 3,
    "start_time": "2022-10-29T11:31:18.465Z"
   },
   {
    "duration": 11,
    "start_time": "2022-10-29T11:31:18.470Z"
   },
   {
    "duration": 43,
    "start_time": "2022-10-29T11:31:18.482Z"
   },
   {
    "duration": 18,
    "start_time": "2022-10-29T11:31:18.527Z"
   },
   {
    "duration": 3,
    "start_time": "2022-10-29T11:31:18.546Z"
   },
   {
    "duration": 11,
    "start_time": "2022-10-29T11:31:18.551Z"
   },
   {
    "duration": 5,
    "start_time": "2022-10-29T11:31:18.563Z"
   },
   {
    "duration": 4,
    "start_time": "2022-10-29T11:31:18.569Z"
   },
   {
    "duration": 40,
    "start_time": "2022-10-29T11:31:18.574Z"
   },
   {
    "duration": 5,
    "start_time": "2022-10-29T11:31:18.616Z"
   },
   {
    "duration": 0,
    "start_time": "2022-10-29T11:31:18.622Z"
   },
   {
    "duration": 1,
    "start_time": "2022-10-29T11:31:18.623Z"
   },
   {
    "duration": 0,
    "start_time": "2022-10-29T11:31:18.624Z"
   },
   {
    "duration": 70,
    "start_time": "2022-10-29T11:31:27.566Z"
   },
   {
    "duration": 17,
    "start_time": "2022-10-29T11:31:27.637Z"
   },
   {
    "duration": 14,
    "start_time": "2022-10-29T11:31:27.656Z"
   },
   {
    "duration": 10,
    "start_time": "2022-10-29T11:31:27.673Z"
   },
   {
    "duration": 69,
    "start_time": "2022-10-29T11:31:27.684Z"
   },
   {
    "duration": 4,
    "start_time": "2022-10-29T11:31:27.755Z"
   },
   {
    "duration": 11,
    "start_time": "2022-10-29T11:31:27.761Z"
   },
   {
    "duration": 4,
    "start_time": "2022-10-29T11:31:27.774Z"
   },
   {
    "duration": 33,
    "start_time": "2022-10-29T11:31:27.780Z"
   },
   {
    "duration": 7,
    "start_time": "2022-10-29T11:31:27.816Z"
   },
   {
    "duration": 33,
    "start_time": "2022-10-29T11:31:27.824Z"
   },
   {
    "duration": 9,
    "start_time": "2022-10-29T11:31:27.858Z"
   },
   {
    "duration": 4,
    "start_time": "2022-10-29T11:31:27.869Z"
   },
   {
    "duration": 37,
    "start_time": "2022-10-29T11:31:27.874Z"
   },
   {
    "duration": 21,
    "start_time": "2022-10-29T11:31:27.912Z"
   },
   {
    "duration": 26,
    "start_time": "2022-10-29T11:31:27.935Z"
   },
   {
    "duration": 4,
    "start_time": "2022-10-29T11:31:27.962Z"
   },
   {
    "duration": 22,
    "start_time": "2022-10-29T11:31:27.968Z"
   },
   {
    "duration": 25,
    "start_time": "2022-10-29T11:31:27.993Z"
   },
   {
    "duration": 4,
    "start_time": "2022-10-29T11:31:28.020Z"
   },
   {
    "duration": 18,
    "start_time": "2022-10-29T11:31:28.026Z"
   },
   {
    "duration": 44,
    "start_time": "2022-10-29T11:31:28.046Z"
   },
   {
    "duration": 17,
    "start_time": "2022-10-29T11:31:28.092Z"
   },
   {
    "duration": 6,
    "start_time": "2022-10-29T11:31:28.111Z"
   },
   {
    "duration": 4,
    "start_time": "2022-10-29T11:31:28.119Z"
   },
   {
    "duration": 70,
    "start_time": "2022-10-29T11:32:31.297Z"
   },
   {
    "duration": 16,
    "start_time": "2022-10-29T11:32:31.369Z"
   },
   {
    "duration": 26,
    "start_time": "2022-10-29T11:32:31.386Z"
   },
   {
    "duration": 9,
    "start_time": "2022-10-29T11:32:31.414Z"
   },
   {
    "duration": 38,
    "start_time": "2022-10-29T11:32:31.424Z"
   },
   {
    "duration": 3,
    "start_time": "2022-10-29T11:32:31.464Z"
   },
   {
    "duration": 28,
    "start_time": "2022-10-29T11:32:31.468Z"
   },
   {
    "duration": 18,
    "start_time": "2022-10-29T11:32:31.498Z"
   },
   {
    "duration": 15,
    "start_time": "2022-10-29T11:32:31.517Z"
   },
   {
    "duration": 26,
    "start_time": "2022-10-29T11:32:31.534Z"
   },
   {
    "duration": 43,
    "start_time": "2022-10-29T11:32:31.562Z"
   },
   {
    "duration": 9,
    "start_time": "2022-10-29T11:32:31.607Z"
   },
   {
    "duration": 42,
    "start_time": "2022-10-29T11:32:31.618Z"
   },
   {
    "duration": 19,
    "start_time": "2022-10-29T11:32:31.662Z"
   },
   {
    "duration": 24,
    "start_time": "2022-10-29T11:32:31.683Z"
   },
   {
    "duration": 29,
    "start_time": "2022-10-29T11:32:31.709Z"
   },
   {
    "duration": 4,
    "start_time": "2022-10-29T11:32:31.739Z"
   },
   {
    "duration": 25,
    "start_time": "2022-10-29T11:32:31.744Z"
   },
   {
    "duration": 13,
    "start_time": "2022-10-29T11:32:31.770Z"
   },
   {
    "duration": 5,
    "start_time": "2022-10-29T11:32:31.785Z"
   },
   {
    "duration": 15,
    "start_time": "2022-10-29T11:32:31.791Z"
   },
   {
    "duration": 51,
    "start_time": "2022-10-29T11:32:31.808Z"
   },
   {
    "duration": 2,
    "start_time": "2022-10-29T11:32:31.861Z"
   },
   {
    "duration": 6,
    "start_time": "2022-10-29T11:32:31.865Z"
   },
   {
    "duration": 6,
    "start_time": "2022-10-29T11:32:31.872Z"
   },
   {
    "duration": 75,
    "start_time": "2022-10-29T11:34:46.243Z"
   },
   {
    "duration": 15,
    "start_time": "2022-10-29T11:34:46.320Z"
   },
   {
    "duration": 15,
    "start_time": "2022-10-29T11:34:46.337Z"
   },
   {
    "duration": 8,
    "start_time": "2022-10-29T11:34:46.353Z"
   },
   {
    "duration": 52,
    "start_time": "2022-10-29T11:34:46.363Z"
   },
   {
    "duration": 3,
    "start_time": "2022-10-29T11:34:46.417Z"
   },
   {
    "duration": 8,
    "start_time": "2022-10-29T11:34:46.422Z"
   },
   {
    "duration": 4,
    "start_time": "2022-10-29T11:34:46.432Z"
   },
   {
    "duration": 6,
    "start_time": "2022-10-29T11:34:46.437Z"
   },
   {
    "duration": 4,
    "start_time": "2022-10-29T11:34:46.444Z"
   },
   {
    "duration": 64,
    "start_time": "2022-10-29T11:34:46.449Z"
   },
   {
    "duration": 10,
    "start_time": "2022-10-29T11:34:46.514Z"
   },
   {
    "duration": 4,
    "start_time": "2022-10-29T11:34:46.525Z"
   },
   {
    "duration": 11,
    "start_time": "2022-10-29T11:34:46.532Z"
   },
   {
    "duration": 26,
    "start_time": "2022-10-29T11:34:46.545Z"
   },
   {
    "duration": 49,
    "start_time": "2022-10-29T11:34:46.572Z"
   },
   {
    "duration": 5,
    "start_time": "2022-10-29T11:34:46.623Z"
   },
   {
    "duration": 17,
    "start_time": "2022-10-29T11:34:46.630Z"
   },
   {
    "duration": 6,
    "start_time": "2022-10-29T11:34:46.648Z"
   },
   {
    "duration": 5,
    "start_time": "2022-10-29T11:34:46.655Z"
   },
   {
    "duration": 16,
    "start_time": "2022-10-29T11:34:46.662Z"
   },
   {
    "duration": 65,
    "start_time": "2022-10-29T11:34:46.680Z"
   },
   {
    "duration": 2,
    "start_time": "2022-10-29T11:34:46.747Z"
   },
   {
    "duration": 4,
    "start_time": "2022-10-29T11:34:46.750Z"
   },
   {
    "duration": 3,
    "start_time": "2022-10-29T11:34:46.756Z"
   },
   {
    "duration": 74,
    "start_time": "2022-10-29T11:35:17.218Z"
   },
   {
    "duration": 15,
    "start_time": "2022-10-29T11:35:17.295Z"
   },
   {
    "duration": 14,
    "start_time": "2022-10-29T11:35:17.312Z"
   },
   {
    "duration": 10,
    "start_time": "2022-10-29T11:35:17.327Z"
   },
   {
    "duration": 31,
    "start_time": "2022-10-29T11:35:17.338Z"
   },
   {
    "duration": 3,
    "start_time": "2022-10-29T11:35:17.371Z"
   },
   {
    "duration": 37,
    "start_time": "2022-10-29T11:35:17.375Z"
   },
   {
    "duration": 5,
    "start_time": "2022-10-29T11:35:17.414Z"
   },
   {
    "duration": 7,
    "start_time": "2022-10-29T11:35:17.420Z"
   },
   {
    "duration": 8,
    "start_time": "2022-10-29T11:35:17.429Z"
   },
   {
    "duration": 33,
    "start_time": "2022-10-29T11:35:17.439Z"
   },
   {
    "duration": 36,
    "start_time": "2022-10-29T11:35:17.474Z"
   },
   {
    "duration": 4,
    "start_time": "2022-10-29T11:35:17.512Z"
   },
   {
    "duration": 12,
    "start_time": "2022-10-29T11:35:17.517Z"
   },
   {
    "duration": 19,
    "start_time": "2022-10-29T11:35:17.531Z"
   },
   {
    "duration": 18,
    "start_time": "2022-10-29T11:35:17.552Z"
   },
   {
    "duration": 4,
    "start_time": "2022-10-29T11:35:17.571Z"
   },
   {
    "duration": 38,
    "start_time": "2022-10-29T11:35:17.577Z"
   },
   {
    "duration": 8,
    "start_time": "2022-10-29T11:35:17.616Z"
   },
   {
    "duration": 4,
    "start_time": "2022-10-29T11:35:17.626Z"
   },
   {
    "duration": 13,
    "start_time": "2022-10-29T11:35:17.632Z"
   },
   {
    "duration": 44,
    "start_time": "2022-10-29T11:35:17.646Z"
   },
   {
    "duration": 3,
    "start_time": "2022-10-29T11:35:17.709Z"
   },
   {
    "duration": 5,
    "start_time": "2022-10-29T11:35:17.714Z"
   },
   {
    "duration": 13,
    "start_time": "2022-10-29T11:35:17.720Z"
   },
   {
    "duration": 71,
    "start_time": "2022-10-29T11:36:55.472Z"
   },
   {
    "duration": 14,
    "start_time": "2022-10-29T11:36:55.545Z"
   },
   {
    "duration": 18,
    "start_time": "2022-10-29T11:36:55.560Z"
   },
   {
    "duration": 9,
    "start_time": "2022-10-29T11:36:55.580Z"
   },
   {
    "duration": 46,
    "start_time": "2022-10-29T11:36:55.591Z"
   },
   {
    "duration": 4,
    "start_time": "2022-10-29T11:36:55.639Z"
   },
   {
    "duration": 14,
    "start_time": "2022-10-29T11:36:55.645Z"
   },
   {
    "duration": 5,
    "start_time": "2022-10-29T11:36:55.661Z"
   },
   {
    "duration": 13,
    "start_time": "2022-10-29T11:36:55.667Z"
   },
   {
    "duration": 5,
    "start_time": "2022-10-29T11:36:55.683Z"
   },
   {
    "duration": 34,
    "start_time": "2022-10-29T11:36:55.708Z"
   },
   {
    "duration": 9,
    "start_time": "2022-10-29T11:36:55.743Z"
   },
   {
    "duration": 3,
    "start_time": "2022-10-29T11:36:55.754Z"
   },
   {
    "duration": 12,
    "start_time": "2022-10-29T11:36:55.758Z"
   },
   {
    "duration": 45,
    "start_time": "2022-10-29T11:36:55.772Z"
   },
   {
    "duration": 18,
    "start_time": "2022-10-29T11:36:55.818Z"
   },
   {
    "duration": 4,
    "start_time": "2022-10-29T11:36:55.838Z"
   },
   {
    "duration": 11,
    "start_time": "2022-10-29T11:36:55.843Z"
   },
   {
    "duration": 6,
    "start_time": "2022-10-29T11:36:55.856Z"
   },
   {
    "duration": 3,
    "start_time": "2022-10-29T11:36:55.863Z"
   },
   {
    "duration": 9,
    "start_time": "2022-10-29T11:36:55.867Z"
   },
   {
    "duration": 72,
    "start_time": "2022-10-29T11:36:55.878Z"
   },
   {
    "duration": 2,
    "start_time": "2022-10-29T11:36:55.951Z"
   },
   {
    "duration": 6,
    "start_time": "2022-10-29T11:36:55.955Z"
   },
   {
    "duration": 4,
    "start_time": "2022-10-29T11:36:55.962Z"
   },
   {
    "duration": 70,
    "start_time": "2022-10-29T11:38:15.720Z"
   },
   {
    "duration": 15,
    "start_time": "2022-10-29T11:38:15.792Z"
   },
   {
    "duration": 19,
    "start_time": "2022-10-29T11:38:15.808Z"
   },
   {
    "duration": 9,
    "start_time": "2022-10-29T11:38:15.829Z"
   },
   {
    "duration": 31,
    "start_time": "2022-10-29T11:38:15.839Z"
   },
   {
    "duration": 3,
    "start_time": "2022-10-29T11:38:15.872Z"
   },
   {
    "duration": 10,
    "start_time": "2022-10-29T11:38:15.877Z"
   },
   {
    "duration": 23,
    "start_time": "2022-10-29T11:38:15.888Z"
   },
   {
    "duration": 10,
    "start_time": "2022-10-29T11:38:15.913Z"
   },
   {
    "duration": 5,
    "start_time": "2022-10-29T11:38:15.926Z"
   },
   {
    "duration": 107,
    "start_time": "2022-10-29T11:38:15.932Z"
   },
   {
    "duration": 9,
    "start_time": "2022-10-29T11:38:16.040Z"
   },
   {
    "duration": 5,
    "start_time": "2022-10-29T11:38:16.051Z"
   },
   {
    "duration": 10,
    "start_time": "2022-10-29T11:38:16.058Z"
   },
   {
    "duration": 40,
    "start_time": "2022-10-29T11:38:16.070Z"
   },
   {
    "duration": 18,
    "start_time": "2022-10-29T11:38:16.111Z"
   },
   {
    "duration": 4,
    "start_time": "2022-10-29T11:38:16.130Z"
   },
   {
    "duration": 16,
    "start_time": "2022-10-29T11:38:16.135Z"
   },
   {
    "duration": 7,
    "start_time": "2022-10-29T11:38:16.153Z"
   },
   {
    "duration": 3,
    "start_time": "2022-10-29T11:38:16.162Z"
   },
   {
    "duration": 12,
    "start_time": "2022-10-29T11:38:16.167Z"
   },
   {
    "duration": 68,
    "start_time": "2022-10-29T11:38:16.180Z"
   },
   {
    "duration": 2,
    "start_time": "2022-10-29T11:38:16.250Z"
   },
   {
    "duration": 8,
    "start_time": "2022-10-29T11:38:16.254Z"
   },
   {
    "duration": 5,
    "start_time": "2022-10-29T11:38:16.264Z"
   },
   {
    "duration": 74,
    "start_time": "2022-10-29T11:38:29.385Z"
   },
   {
    "duration": 15,
    "start_time": "2022-10-29T11:38:29.460Z"
   },
   {
    "duration": 14,
    "start_time": "2022-10-29T11:38:29.476Z"
   },
   {
    "duration": 30,
    "start_time": "2022-10-29T11:38:29.492Z"
   },
   {
    "duration": 38,
    "start_time": "2022-10-29T11:38:29.524Z"
   },
   {
    "duration": 4,
    "start_time": "2022-10-29T11:38:29.564Z"
   },
   {
    "duration": 9,
    "start_time": "2022-10-29T11:38:29.570Z"
   },
   {
    "duration": 28,
    "start_time": "2022-10-29T11:38:29.581Z"
   },
   {
    "duration": 8,
    "start_time": "2022-10-29T11:38:29.611Z"
   },
   {
    "duration": 5,
    "start_time": "2022-10-29T11:38:29.622Z"
   },
   {
    "duration": 36,
    "start_time": "2022-10-29T11:38:29.629Z"
   },
   {
    "duration": 44,
    "start_time": "2022-10-29T11:38:29.667Z"
   },
   {
    "duration": 4,
    "start_time": "2022-10-29T11:38:29.713Z"
   },
   {
    "duration": 17,
    "start_time": "2022-10-29T11:38:29.719Z"
   },
   {
    "duration": 19,
    "start_time": "2022-10-29T11:38:29.738Z"
   },
   {
    "duration": 17,
    "start_time": "2022-10-29T11:38:29.759Z"
   },
   {
    "duration": 3,
    "start_time": "2022-10-29T11:38:29.777Z"
   },
   {
    "duration": 36,
    "start_time": "2022-10-29T11:38:29.782Z"
   },
   {
    "duration": 6,
    "start_time": "2022-10-29T11:38:29.819Z"
   },
   {
    "duration": 3,
    "start_time": "2022-10-29T11:38:29.826Z"
   },
   {
    "duration": 10,
    "start_time": "2022-10-29T11:38:29.831Z"
   },
   {
    "duration": 40,
    "start_time": "2022-10-29T11:38:29.843Z"
   },
   {
    "duration": 24,
    "start_time": "2022-10-29T11:38:29.885Z"
   },
   {
    "duration": 4,
    "start_time": "2022-10-29T11:38:29.911Z"
   },
   {
    "duration": 3,
    "start_time": "2022-10-29T11:38:29.917Z"
   },
   {
    "duration": 71,
    "start_time": "2022-10-29T11:38:41.815Z"
   },
   {
    "duration": 15,
    "start_time": "2022-10-29T11:38:41.888Z"
   },
   {
    "duration": 16,
    "start_time": "2022-10-29T11:38:41.905Z"
   },
   {
    "duration": 11,
    "start_time": "2022-10-29T11:38:41.923Z"
   },
   {
    "duration": 34,
    "start_time": "2022-10-29T11:38:41.936Z"
   },
   {
    "duration": 4,
    "start_time": "2022-10-29T11:38:41.971Z"
   },
   {
    "duration": 14,
    "start_time": "2022-10-29T11:38:41.976Z"
   },
   {
    "duration": 20,
    "start_time": "2022-10-29T11:38:41.992Z"
   },
   {
    "duration": 9,
    "start_time": "2022-10-29T11:38:42.014Z"
   },
   {
    "duration": 7,
    "start_time": "2022-10-29T11:38:42.027Z"
   },
   {
    "duration": 38,
    "start_time": "2022-10-29T11:38:42.036Z"
   },
   {
    "duration": 9,
    "start_time": "2022-10-29T11:38:42.076Z"
   },
   {
    "duration": 24,
    "start_time": "2022-10-29T11:38:42.086Z"
   },
   {
    "duration": 11,
    "start_time": "2022-10-29T11:38:42.112Z"
   },
   {
    "duration": 24,
    "start_time": "2022-10-29T11:38:42.124Z"
   },
   {
    "duration": 18,
    "start_time": "2022-10-29T11:38:42.149Z"
   },
   {
    "duration": 4,
    "start_time": "2022-10-29T11:38:42.168Z"
   },
   {
    "duration": 12,
    "start_time": "2022-10-29T11:38:42.173Z"
   },
   {
    "duration": 26,
    "start_time": "2022-10-29T11:38:42.186Z"
   },
   {
    "duration": 4,
    "start_time": "2022-10-29T11:38:42.213Z"
   },
   {
    "duration": 12,
    "start_time": "2022-10-29T11:38:42.218Z"
   },
   {
    "duration": 25,
    "start_time": "2022-10-29T11:38:42.231Z"
   },
   {
    "duration": 2,
    "start_time": "2022-10-29T11:38:42.258Z"
   },
   {
    "duration": 5,
    "start_time": "2022-10-29T11:38:42.261Z"
   },
   {
    "duration": 4,
    "start_time": "2022-10-29T11:38:42.267Z"
   },
   {
    "duration": 72,
    "start_time": "2022-10-29T11:38:55.361Z"
   },
   {
    "duration": 15,
    "start_time": "2022-10-29T11:38:55.435Z"
   },
   {
    "duration": 14,
    "start_time": "2022-10-29T11:38:55.452Z"
   },
   {
    "duration": 9,
    "start_time": "2022-10-29T11:38:55.468Z"
   },
   {
    "duration": 53,
    "start_time": "2022-10-29T11:38:55.479Z"
   },
   {
    "duration": 3,
    "start_time": "2022-10-29T11:38:55.534Z"
   },
   {
    "duration": 9,
    "start_time": "2022-10-29T11:38:55.539Z"
   },
   {
    "duration": 4,
    "start_time": "2022-10-29T11:38:55.549Z"
   },
   {
    "duration": 5,
    "start_time": "2022-10-29T11:38:55.555Z"
   },
   {
    "duration": 4,
    "start_time": "2022-10-29T11:38:55.563Z"
   },
   {
    "duration": 63,
    "start_time": "2022-10-29T11:38:55.568Z"
   },
   {
    "duration": 10,
    "start_time": "2022-10-29T11:38:55.632Z"
   },
   {
    "duration": 5,
    "start_time": "2022-10-29T11:38:55.644Z"
   },
   {
    "duration": 11,
    "start_time": "2022-10-29T11:38:55.650Z"
   },
   {
    "duration": 28,
    "start_time": "2022-10-29T11:38:55.662Z"
   },
   {
    "duration": 34,
    "start_time": "2022-10-29T11:38:55.692Z"
   },
   {
    "duration": 3,
    "start_time": "2022-10-29T11:38:55.728Z"
   },
   {
    "duration": 15,
    "start_time": "2022-10-29T11:38:55.733Z"
   },
   {
    "duration": 7,
    "start_time": "2022-10-29T11:38:55.750Z"
   },
   {
    "duration": 3,
    "start_time": "2022-10-29T11:38:55.759Z"
   },
   {
    "duration": 10,
    "start_time": "2022-10-29T11:38:55.764Z"
   },
   {
    "duration": 47,
    "start_time": "2022-10-29T11:38:55.775Z"
   },
   {
    "duration": 2,
    "start_time": "2022-10-29T11:38:55.824Z"
   },
   {
    "duration": 6,
    "start_time": "2022-10-29T11:38:55.828Z"
   },
   {
    "duration": 8,
    "start_time": "2022-10-29T11:38:55.835Z"
   },
   {
    "duration": 68,
    "start_time": "2022-10-29T11:39:21.577Z"
   },
   {
    "duration": 14,
    "start_time": "2022-10-29T11:39:21.648Z"
   },
   {
    "duration": 15,
    "start_time": "2022-10-29T11:39:21.663Z"
   },
   {
    "duration": 29,
    "start_time": "2022-10-29T11:39:21.680Z"
   },
   {
    "duration": 32,
    "start_time": "2022-10-29T11:39:21.710Z"
   },
   {
    "duration": 2,
    "start_time": "2022-10-29T11:39:21.744Z"
   },
   {
    "duration": 11,
    "start_time": "2022-10-29T11:39:21.748Z"
   },
   {
    "duration": 4,
    "start_time": "2022-10-29T11:39:21.760Z"
   },
   {
    "duration": 8,
    "start_time": "2022-10-29T11:39:21.765Z"
   },
   {
    "duration": 4,
    "start_time": "2022-10-29T11:39:21.775Z"
   },
   {
    "duration": 53,
    "start_time": "2022-10-29T11:39:21.780Z"
   },
   {
    "duration": 9,
    "start_time": "2022-10-29T11:39:21.835Z"
   },
   {
    "duration": 5,
    "start_time": "2022-10-29T11:39:21.846Z"
   },
   {
    "duration": 15,
    "start_time": "2022-10-29T11:39:21.853Z"
   },
   {
    "duration": 20,
    "start_time": "2022-10-29T11:39:21.869Z"
   },
   {
    "duration": 18,
    "start_time": "2022-10-29T11:39:21.908Z"
   },
   {
    "duration": 4,
    "start_time": "2022-10-29T11:39:21.927Z"
   },
   {
    "duration": 10,
    "start_time": "2022-10-29T11:39:21.933Z"
   },
   {
    "duration": 7,
    "start_time": "2022-10-29T11:39:21.944Z"
   },
   {
    "duration": 3,
    "start_time": "2022-10-29T11:39:21.953Z"
   },
   {
    "duration": 9,
    "start_time": "2022-10-29T11:39:21.958Z"
   },
   {
    "duration": 55,
    "start_time": "2022-10-29T11:39:21.969Z"
   },
   {
    "duration": 2,
    "start_time": "2022-10-29T11:39:22.026Z"
   },
   {
    "duration": 5,
    "start_time": "2022-10-29T11:39:22.029Z"
   },
   {
    "duration": 4,
    "start_time": "2022-10-29T11:39:22.036Z"
   },
   {
    "duration": 462,
    "start_time": "2022-10-29T17:38:19.255Z"
   },
   {
    "duration": 21,
    "start_time": "2022-10-29T17:38:19.719Z"
   },
   {
    "duration": 15,
    "start_time": "2022-10-29T17:38:19.741Z"
   },
   {
    "duration": 9,
    "start_time": "2022-10-29T17:38:19.757Z"
   },
   {
    "duration": 40,
    "start_time": "2022-10-29T17:38:19.767Z"
   },
   {
    "duration": 3,
    "start_time": "2022-10-29T17:38:19.808Z"
   },
   {
    "duration": 13,
    "start_time": "2022-10-29T17:38:19.813Z"
   },
   {
    "duration": 4,
    "start_time": "2022-10-29T17:38:19.827Z"
   },
   {
    "duration": 8,
    "start_time": "2022-10-29T17:38:19.833Z"
   },
   {
    "duration": 4,
    "start_time": "2022-10-29T17:38:19.843Z"
   },
   {
    "duration": 31,
    "start_time": "2022-10-29T17:38:19.849Z"
   },
   {
    "duration": 9,
    "start_time": "2022-10-29T17:38:19.905Z"
   },
   {
    "duration": 3,
    "start_time": "2022-10-29T17:38:19.915Z"
   },
   {
    "duration": 11,
    "start_time": "2022-10-29T17:38:19.919Z"
   },
   {
    "duration": 17,
    "start_time": "2022-10-29T17:38:19.931Z"
   },
   {
    "duration": 15,
    "start_time": "2022-10-29T17:38:19.949Z"
   },
   {
    "duration": 3,
    "start_time": "2022-10-29T17:38:19.966Z"
   },
   {
    "duration": 40,
    "start_time": "2022-10-29T17:38:19.971Z"
   },
   {
    "duration": 6,
    "start_time": "2022-10-29T17:38:20.012Z"
   },
   {
    "duration": 5,
    "start_time": "2022-10-29T17:38:20.019Z"
   },
   {
    "duration": 28,
    "start_time": "2022-10-29T17:38:20.025Z"
   },
   {
    "duration": 73,
    "start_time": "2022-10-29T17:38:20.055Z"
   },
   {
    "duration": 0,
    "start_time": "2022-10-29T17:38:20.129Z"
   },
   {
    "duration": 0,
    "start_time": "2022-10-29T17:38:20.131Z"
   },
   {
    "duration": 0,
    "start_time": "2022-10-29T17:38:20.131Z"
   },
   {
    "duration": 88,
    "start_time": "2022-10-29T17:38:49.677Z"
   },
   {
    "duration": 15,
    "start_time": "2022-10-29T17:38:49.767Z"
   },
   {
    "duration": 16,
    "start_time": "2022-10-29T17:38:49.783Z"
   },
   {
    "duration": 8,
    "start_time": "2022-10-29T17:38:49.801Z"
   },
   {
    "duration": 32,
    "start_time": "2022-10-29T17:38:49.811Z"
   },
   {
    "duration": 3,
    "start_time": "2022-10-29T17:38:49.845Z"
   },
   {
    "duration": 15,
    "start_time": "2022-10-29T17:38:49.850Z"
   },
   {
    "duration": 6,
    "start_time": "2022-10-29T17:38:49.866Z"
   },
   {
    "duration": 8,
    "start_time": "2022-10-29T17:38:49.873Z"
   },
   {
    "duration": 5,
    "start_time": "2022-10-29T17:38:49.905Z"
   },
   {
    "duration": 32,
    "start_time": "2022-10-29T17:38:49.911Z"
   },
   {
    "duration": 9,
    "start_time": "2022-10-29T17:38:49.944Z"
   },
   {
    "duration": 5,
    "start_time": "2022-10-29T17:38:49.955Z"
   },
   {
    "duration": 25,
    "start_time": "2022-10-29T17:38:49.961Z"
   },
   {
    "duration": 28,
    "start_time": "2022-10-29T17:38:49.988Z"
   },
   {
    "duration": 19,
    "start_time": "2022-10-29T17:38:50.018Z"
   },
   {
    "duration": 4,
    "start_time": "2022-10-29T17:38:50.038Z"
   },
   {
    "duration": 11,
    "start_time": "2022-10-29T17:38:50.044Z"
   },
   {
    "duration": 8,
    "start_time": "2022-10-29T17:38:50.056Z"
   },
   {
    "duration": 4,
    "start_time": "2022-10-29T17:38:50.065Z"
   },
   {
    "duration": 40,
    "start_time": "2022-10-29T17:38:50.071Z"
   },
   {
    "duration": 25,
    "start_time": "2022-10-29T17:38:50.113Z"
   },
   {
    "duration": 2,
    "start_time": "2022-10-29T17:38:50.140Z"
   },
   {
    "duration": 7,
    "start_time": "2022-10-29T17:38:50.143Z"
   },
   {
    "duration": 7,
    "start_time": "2022-10-29T17:38:50.151Z"
   },
   {
    "duration": 72,
    "start_time": "2022-10-29T17:39:08.382Z"
   },
   {
    "duration": 14,
    "start_time": "2022-10-29T17:39:08.456Z"
   },
   {
    "duration": 15,
    "start_time": "2022-10-29T17:39:08.471Z"
   },
   {
    "duration": 18,
    "start_time": "2022-10-29T17:39:08.488Z"
   },
   {
    "duration": 29,
    "start_time": "2022-10-29T17:39:08.507Z"
   },
   {
    "duration": 3,
    "start_time": "2022-10-29T17:39:08.537Z"
   },
   {
    "duration": 10,
    "start_time": "2022-10-29T17:39:08.542Z"
   },
   {
    "duration": 4,
    "start_time": "2022-10-29T17:39:08.553Z"
   },
   {
    "duration": 5,
    "start_time": "2022-10-29T17:39:08.559Z"
   },
   {
    "duration": 5,
    "start_time": "2022-10-29T17:39:08.567Z"
   },
   {
    "duration": 66,
    "start_time": "2022-10-29T17:39:08.573Z"
   },
   {
    "duration": 8,
    "start_time": "2022-10-29T17:39:08.641Z"
   },
   {
    "duration": 5,
    "start_time": "2022-10-29T17:39:08.650Z"
   },
   {
    "duration": 11,
    "start_time": "2022-10-29T17:39:08.656Z"
   },
   {
    "duration": 18,
    "start_time": "2022-10-29T17:39:08.668Z"
   },
   {
    "duration": 32,
    "start_time": "2022-10-29T17:39:08.687Z"
   },
   {
    "duration": 4,
    "start_time": "2022-10-29T17:39:08.720Z"
   },
   {
    "duration": 12,
    "start_time": "2022-10-29T17:39:08.725Z"
   },
   {
    "duration": 6,
    "start_time": "2022-10-29T17:39:08.738Z"
   },
   {
    "duration": 3,
    "start_time": "2022-10-29T17:39:08.746Z"
   },
   {
    "duration": 10,
    "start_time": "2022-10-29T17:39:08.751Z"
   },
   {
    "duration": 106,
    "start_time": "2022-10-29T17:39:08.763Z"
   },
   {
    "duration": 0,
    "start_time": "2022-10-29T17:39:08.871Z"
   },
   {
    "duration": 0,
    "start_time": "2022-10-29T17:39:08.873Z"
   },
   {
    "duration": 0,
    "start_time": "2022-10-29T17:39:08.874Z"
   },
   {
    "duration": 64,
    "start_time": "2022-10-29T17:40:13.068Z"
   },
   {
    "duration": 16,
    "start_time": "2022-10-29T17:40:13.134Z"
   },
   {
    "duration": 14,
    "start_time": "2022-10-29T17:40:13.151Z"
   },
   {
    "duration": 8,
    "start_time": "2022-10-29T17:40:13.167Z"
   },
   {
    "duration": 51,
    "start_time": "2022-10-29T17:40:13.176Z"
   },
   {
    "duration": 3,
    "start_time": "2022-10-29T17:40:13.229Z"
   },
   {
    "duration": 11,
    "start_time": "2022-10-29T17:40:13.233Z"
   },
   {
    "duration": 4,
    "start_time": "2022-10-29T17:40:13.245Z"
   },
   {
    "duration": 7,
    "start_time": "2022-10-29T17:40:13.251Z"
   },
   {
    "duration": 16,
    "start_time": "2022-10-29T17:40:13.260Z"
   },
   {
    "duration": 49,
    "start_time": "2022-10-29T17:40:13.277Z"
   },
   {
    "duration": 9,
    "start_time": "2022-10-29T17:40:13.327Z"
   },
   {
    "duration": 3,
    "start_time": "2022-10-29T17:40:13.338Z"
   },
   {
    "duration": 15,
    "start_time": "2022-10-29T17:40:13.343Z"
   },
   {
    "duration": 17,
    "start_time": "2022-10-29T17:40:13.360Z"
   },
   {
    "duration": 40,
    "start_time": "2022-10-29T17:40:13.378Z"
   },
   {
    "duration": 4,
    "start_time": "2022-10-29T17:40:13.420Z"
   },
   {
    "duration": 11,
    "start_time": "2022-10-29T17:40:13.426Z"
   },
   {
    "duration": 5,
    "start_time": "2022-10-29T17:40:13.438Z"
   },
   {
    "duration": 6,
    "start_time": "2022-10-29T17:40:13.445Z"
   },
   {
    "duration": 12,
    "start_time": "2022-10-29T17:40:13.452Z"
   },
   {
    "duration": 44,
    "start_time": "2022-10-29T17:40:13.465Z"
   },
   {
    "duration": 2,
    "start_time": "2022-10-29T17:40:13.511Z"
   },
   {
    "duration": 6,
    "start_time": "2022-10-29T17:40:13.514Z"
   },
   {
    "duration": 4,
    "start_time": "2022-10-29T17:40:13.521Z"
   },
   {
    "duration": 66,
    "start_time": "2022-10-29T17:40:21.920Z"
   },
   {
    "duration": 15,
    "start_time": "2022-10-29T17:40:21.988Z"
   },
   {
    "duration": 15,
    "start_time": "2022-10-29T17:40:22.005Z"
   },
   {
    "duration": 8,
    "start_time": "2022-10-29T17:40:22.022Z"
   },
   {
    "duration": 30,
    "start_time": "2022-10-29T17:40:22.032Z"
   },
   {
    "duration": 3,
    "start_time": "2022-10-29T17:40:22.064Z"
   },
   {
    "duration": 10,
    "start_time": "2022-10-29T17:40:22.068Z"
   },
   {
    "duration": 28,
    "start_time": "2022-10-29T17:40:22.079Z"
   },
   {
    "duration": 8,
    "start_time": "2022-10-29T17:40:22.108Z"
   },
   {
    "duration": 4,
    "start_time": "2022-10-29T17:40:22.118Z"
   },
   {
    "duration": 33,
    "start_time": "2022-10-29T17:40:22.123Z"
   },
   {
    "duration": 9,
    "start_time": "2022-10-29T17:40:22.158Z"
   },
   {
    "duration": 6,
    "start_time": "2022-10-29T17:40:22.169Z"
   },
   {
    "duration": 35,
    "start_time": "2022-10-29T17:40:22.177Z"
   },
   {
    "duration": 17,
    "start_time": "2022-10-29T17:40:22.214Z"
   },
   {
    "duration": 18,
    "start_time": "2022-10-29T17:40:22.232Z"
   },
   {
    "duration": 4,
    "start_time": "2022-10-29T17:40:22.251Z"
   },
   {
    "duration": 18,
    "start_time": "2022-10-29T17:40:22.257Z"
   },
   {
    "duration": 28,
    "start_time": "2022-10-29T17:40:22.277Z"
   },
   {
    "duration": 11,
    "start_time": "2022-10-29T17:40:22.307Z"
   },
   {
    "duration": 12,
    "start_time": "2022-10-29T17:40:22.320Z"
   },
   {
    "duration": 24,
    "start_time": "2022-10-29T17:40:22.334Z"
   },
   {
    "duration": 0,
    "start_time": "2022-10-29T17:40:22.359Z"
   },
   {
    "duration": 0,
    "start_time": "2022-10-29T17:40:22.361Z"
   },
   {
    "duration": 0,
    "start_time": "2022-10-29T17:40:22.362Z"
   },
   {
    "duration": 67,
    "start_time": "2022-10-29T17:40:30.500Z"
   },
   {
    "duration": 14,
    "start_time": "2022-10-29T17:40:30.569Z"
   },
   {
    "duration": 18,
    "start_time": "2022-10-29T17:40:30.584Z"
   },
   {
    "duration": 15,
    "start_time": "2022-10-29T17:40:30.604Z"
   },
   {
    "duration": 30,
    "start_time": "2022-10-29T17:40:30.621Z"
   },
   {
    "duration": 3,
    "start_time": "2022-10-29T17:40:30.653Z"
   },
   {
    "duration": 18,
    "start_time": "2022-10-29T17:40:30.657Z"
   },
   {
    "duration": 10,
    "start_time": "2022-10-29T17:40:30.677Z"
   },
   {
    "duration": 10,
    "start_time": "2022-10-29T17:40:30.689Z"
   },
   {
    "duration": 9,
    "start_time": "2022-10-29T17:40:30.702Z"
   },
   {
    "duration": 40,
    "start_time": "2022-10-29T17:40:30.712Z"
   },
   {
    "duration": 9,
    "start_time": "2022-10-29T17:40:30.753Z"
   },
   {
    "duration": 14,
    "start_time": "2022-10-29T17:40:30.763Z"
   },
   {
    "duration": 13,
    "start_time": "2022-10-29T17:40:30.779Z"
   },
   {
    "duration": 25,
    "start_time": "2022-10-29T17:40:30.794Z"
   },
   {
    "duration": 23,
    "start_time": "2022-10-29T17:40:30.821Z"
   },
   {
    "duration": 6,
    "start_time": "2022-10-29T17:40:30.846Z"
   },
   {
    "duration": 16,
    "start_time": "2022-10-29T17:40:30.853Z"
   },
   {
    "duration": 16,
    "start_time": "2022-10-29T17:40:30.870Z"
   },
   {
    "duration": 12,
    "start_time": "2022-10-29T17:40:30.888Z"
   },
   {
    "duration": 20,
    "start_time": "2022-10-29T17:40:30.902Z"
   },
   {
    "duration": 29,
    "start_time": "2022-10-29T17:40:30.924Z"
   },
   {
    "duration": 6,
    "start_time": "2022-10-29T17:40:30.955Z"
   },
   {
    "duration": 13,
    "start_time": "2022-10-29T17:40:30.963Z"
   },
   {
    "duration": 11,
    "start_time": "2022-10-29T17:40:30.977Z"
   },
   {
    "duration": 69,
    "start_time": "2022-10-29T17:40:45.428Z"
   },
   {
    "duration": 15,
    "start_time": "2022-10-29T17:40:45.499Z"
   },
   {
    "duration": 32,
    "start_time": "2022-10-29T17:40:45.515Z"
   },
   {
    "duration": 17,
    "start_time": "2022-10-29T17:40:45.549Z"
   },
   {
    "duration": 35,
    "start_time": "2022-10-29T17:40:45.568Z"
   },
   {
    "duration": 4,
    "start_time": "2022-10-29T17:40:45.605Z"
   },
   {
    "duration": 10,
    "start_time": "2022-10-29T17:40:45.610Z"
   },
   {
    "duration": 5,
    "start_time": "2022-10-29T17:40:45.622Z"
   },
   {
    "duration": 6,
    "start_time": "2022-10-29T17:40:45.628Z"
   },
   {
    "duration": 4,
    "start_time": "2022-10-29T17:40:45.637Z"
   },
   {
    "duration": 71,
    "start_time": "2022-10-29T17:40:45.643Z"
   },
   {
    "duration": 9,
    "start_time": "2022-10-29T17:40:45.716Z"
   },
   {
    "duration": 4,
    "start_time": "2022-10-29T17:40:45.727Z"
   },
   {
    "duration": 16,
    "start_time": "2022-10-29T17:40:45.733Z"
   },
   {
    "duration": 20,
    "start_time": "2022-10-29T17:40:45.751Z"
   },
   {
    "duration": 40,
    "start_time": "2022-10-29T17:40:45.772Z"
   },
   {
    "duration": 4,
    "start_time": "2022-10-29T17:40:45.813Z"
   },
   {
    "duration": 13,
    "start_time": "2022-10-29T17:40:45.818Z"
   },
   {
    "duration": 9,
    "start_time": "2022-10-29T17:40:45.833Z"
   },
   {
    "duration": 4,
    "start_time": "2022-10-29T17:40:45.843Z"
   },
   {
    "duration": 12,
    "start_time": "2022-10-29T17:40:45.848Z"
   },
   {
    "duration": 19,
    "start_time": "2022-10-29T17:40:45.862Z"
   },
   {
    "duration": 2,
    "start_time": "2022-10-29T17:40:45.905Z"
   },
   {
    "duration": 6,
    "start_time": "2022-10-29T17:40:45.908Z"
   },
   {
    "duration": 5,
    "start_time": "2022-10-29T17:40:45.915Z"
   },
   {
    "duration": 63,
    "start_time": "2022-10-29T17:44:11.882Z"
   },
   {
    "duration": 13,
    "start_time": "2022-10-29T17:44:11.947Z"
   },
   {
    "duration": 16,
    "start_time": "2022-10-29T17:44:11.962Z"
   },
   {
    "duration": 26,
    "start_time": "2022-10-29T17:44:11.980Z"
   },
   {
    "duration": 30,
    "start_time": "2022-10-29T17:44:12.007Z"
   },
   {
    "duration": 3,
    "start_time": "2022-10-29T17:44:12.039Z"
   },
   {
    "duration": 15,
    "start_time": "2022-10-29T17:44:12.043Z"
   },
   {
    "duration": 4,
    "start_time": "2022-10-29T17:44:12.060Z"
   },
   {
    "duration": 7,
    "start_time": "2022-10-29T17:44:12.065Z"
   },
   {
    "duration": 5,
    "start_time": "2022-10-29T17:44:12.074Z"
   },
   {
    "duration": 34,
    "start_time": "2022-10-29T17:44:12.104Z"
   },
   {
    "duration": 8,
    "start_time": "2022-10-29T17:44:12.140Z"
   },
   {
    "duration": 4,
    "start_time": "2022-10-29T17:44:12.149Z"
   },
   {
    "duration": 11,
    "start_time": "2022-10-29T17:44:12.155Z"
   },
   {
    "duration": 39,
    "start_time": "2022-10-29T17:44:12.167Z"
   },
   {
    "duration": 18,
    "start_time": "2022-10-29T17:44:12.208Z"
   },
   {
    "duration": 4,
    "start_time": "2022-10-29T17:44:12.227Z"
   },
   {
    "duration": 13,
    "start_time": "2022-10-29T17:44:12.233Z"
   },
   {
    "duration": 10,
    "start_time": "2022-10-29T17:44:12.247Z"
   },
   {
    "duration": 4,
    "start_time": "2022-10-29T17:44:12.259Z"
   },
   {
    "duration": 21,
    "start_time": "2022-10-29T17:44:12.265Z"
   },
   {
    "duration": 1105,
    "start_time": "2022-10-29T17:44:12.287Z"
   },
   {
    "duration": 0,
    "start_time": "2022-10-29T17:44:13.393Z"
   },
   {
    "duration": 0,
    "start_time": "2022-10-29T17:44:13.395Z"
   },
   {
    "duration": 0,
    "start_time": "2022-10-29T17:44:13.396Z"
   },
   {
    "duration": 11,
    "start_time": "2022-10-29T17:44:40.771Z"
   },
   {
    "duration": 74,
    "start_time": "2022-10-29T17:44:42.948Z"
   },
   {
    "duration": 14,
    "start_time": "2022-10-29T17:44:43.024Z"
   },
   {
    "duration": 19,
    "start_time": "2022-10-29T17:44:43.039Z"
   },
   {
    "duration": 9,
    "start_time": "2022-10-29T17:44:43.060Z"
   },
   {
    "duration": 56,
    "start_time": "2022-10-29T17:44:43.071Z"
   },
   {
    "duration": 3,
    "start_time": "2022-10-29T17:44:43.128Z"
   },
   {
    "duration": 13,
    "start_time": "2022-10-29T17:44:43.133Z"
   },
   {
    "duration": 4,
    "start_time": "2022-10-29T17:44:43.148Z"
   },
   {
    "duration": 8,
    "start_time": "2022-10-29T17:44:43.154Z"
   },
   {
    "duration": 6,
    "start_time": "2022-10-29T17:44:43.164Z"
   },
   {
    "duration": 53,
    "start_time": "2022-10-29T17:44:43.172Z"
   },
   {
    "duration": 9,
    "start_time": "2022-10-29T17:44:43.227Z"
   },
   {
    "duration": 4,
    "start_time": "2022-10-29T17:44:43.237Z"
   },
   {
    "duration": 12,
    "start_time": "2022-10-29T17:44:43.242Z"
   },
   {
    "duration": 22,
    "start_time": "2022-10-29T17:44:43.256Z"
   },
   {
    "duration": 35,
    "start_time": "2022-10-29T17:44:43.280Z"
   },
   {
    "duration": 4,
    "start_time": "2022-10-29T17:44:43.316Z"
   },
   {
    "duration": 11,
    "start_time": "2022-10-29T17:44:43.321Z"
   },
   {
    "duration": 8,
    "start_time": "2022-10-29T17:44:43.333Z"
   },
   {
    "duration": 3,
    "start_time": "2022-10-29T17:44:43.343Z"
   },
   {
    "duration": 11,
    "start_time": "2022-10-29T17:44:43.347Z"
   },
   {
    "duration": 9,
    "start_time": "2022-10-29T17:44:43.360Z"
   },
   {
    "duration": 0,
    "start_time": "2022-10-29T17:44:43.371Z"
   },
   {
    "duration": 0,
    "start_time": "2022-10-29T17:44:43.372Z"
   },
   {
    "duration": 0,
    "start_time": "2022-10-29T17:44:43.373Z"
   },
   {
    "duration": 72,
    "start_time": "2022-10-29T17:45:01.251Z"
   },
   {
    "duration": 13,
    "start_time": "2022-10-29T17:45:01.325Z"
   },
   {
    "duration": 25,
    "start_time": "2022-10-29T17:45:01.340Z"
   },
   {
    "duration": 10,
    "start_time": "2022-10-29T17:45:01.368Z"
   },
   {
    "duration": 47,
    "start_time": "2022-10-29T17:45:01.379Z"
   },
   {
    "duration": 3,
    "start_time": "2022-10-29T17:45:01.428Z"
   },
   {
    "duration": 18,
    "start_time": "2022-10-29T17:45:01.432Z"
   },
   {
    "duration": 8,
    "start_time": "2022-10-29T17:45:01.452Z"
   },
   {
    "duration": 12,
    "start_time": "2022-10-29T17:45:01.462Z"
   },
   {
    "duration": 8,
    "start_time": "2022-10-29T17:45:01.477Z"
   },
   {
    "duration": 37,
    "start_time": "2022-10-29T17:45:01.487Z"
   },
   {
    "duration": 8,
    "start_time": "2022-10-29T17:45:01.525Z"
   },
   {
    "duration": 4,
    "start_time": "2022-10-29T17:45:01.535Z"
   },
   {
    "duration": 23,
    "start_time": "2022-10-29T17:45:01.540Z"
   },
   {
    "duration": 35,
    "start_time": "2022-10-29T17:45:01.565Z"
   },
   {
    "duration": 32,
    "start_time": "2022-10-29T17:45:01.601Z"
   },
   {
    "duration": 3,
    "start_time": "2022-10-29T17:45:01.634Z"
   },
   {
    "duration": 30,
    "start_time": "2022-10-29T17:45:01.639Z"
   },
   {
    "duration": 8,
    "start_time": "2022-10-29T17:45:01.671Z"
   },
   {
    "duration": 12,
    "start_time": "2022-10-29T17:45:01.680Z"
   },
   {
    "duration": 21,
    "start_time": "2022-10-29T17:45:01.693Z"
   },
   {
    "duration": 1540,
    "start_time": "2022-10-29T17:45:01.715Z"
   },
   {
    "duration": 0,
    "start_time": "2022-10-29T17:45:03.257Z"
   },
   {
    "duration": 0,
    "start_time": "2022-10-29T17:45:03.259Z"
   },
   {
    "duration": 0,
    "start_time": "2022-10-29T17:45:03.261Z"
   },
   {
    "duration": 66,
    "start_time": "2022-10-29T17:45:14.980Z"
   },
   {
    "duration": 14,
    "start_time": "2022-10-29T17:45:15.048Z"
   },
   {
    "duration": 20,
    "start_time": "2022-10-29T17:45:15.064Z"
   },
   {
    "duration": 9,
    "start_time": "2022-10-29T17:45:15.105Z"
   },
   {
    "duration": 30,
    "start_time": "2022-10-29T17:45:15.115Z"
   },
   {
    "duration": 3,
    "start_time": "2022-10-29T17:45:15.147Z"
   },
   {
    "duration": 10,
    "start_time": "2022-10-29T17:45:15.151Z"
   },
   {
    "duration": 4,
    "start_time": "2022-10-29T17:45:15.162Z"
   },
   {
    "duration": 7,
    "start_time": "2022-10-29T17:45:15.168Z"
   },
   {
    "duration": 29,
    "start_time": "2022-10-29T17:45:15.178Z"
   },
   {
    "duration": 40,
    "start_time": "2022-10-29T17:45:15.209Z"
   },
   {
    "duration": 9,
    "start_time": "2022-10-29T17:45:15.251Z"
   },
   {
    "duration": 4,
    "start_time": "2022-10-29T17:45:15.262Z"
   },
   {
    "duration": 40,
    "start_time": "2022-10-29T17:45:15.268Z"
   },
   {
    "duration": 23,
    "start_time": "2022-10-29T17:45:15.310Z"
   },
   {
    "duration": 22,
    "start_time": "2022-10-29T17:45:15.335Z"
   },
   {
    "duration": 4,
    "start_time": "2022-10-29T17:45:15.359Z"
   },
   {
    "duration": 11,
    "start_time": "2022-10-29T17:45:15.365Z"
   },
   {
    "duration": 29,
    "start_time": "2022-10-29T17:45:15.378Z"
   },
   {
    "duration": 3,
    "start_time": "2022-10-29T17:45:15.409Z"
   },
   {
    "duration": 11,
    "start_time": "2022-10-29T17:45:15.413Z"
   },
   {
    "duration": 821,
    "start_time": "2022-10-29T17:45:15.425Z"
   },
   {
    "duration": 0,
    "start_time": "2022-10-29T17:45:16.247Z"
   },
   {
    "duration": 0,
    "start_time": "2022-10-29T17:45:16.248Z"
   },
   {
    "duration": 0,
    "start_time": "2022-10-29T17:45:16.249Z"
   },
   {
    "duration": 67,
    "start_time": "2022-10-29T17:45:22.337Z"
   },
   {
    "duration": 22,
    "start_time": "2022-10-29T17:45:22.406Z"
   },
   {
    "duration": 13,
    "start_time": "2022-10-29T17:45:22.430Z"
   },
   {
    "duration": 9,
    "start_time": "2022-10-29T17:45:22.446Z"
   },
   {
    "duration": 52,
    "start_time": "2022-10-29T17:45:22.457Z"
   },
   {
    "duration": 4,
    "start_time": "2022-10-29T17:45:22.511Z"
   },
   {
    "duration": 17,
    "start_time": "2022-10-29T17:45:22.517Z"
   },
   {
    "duration": 17,
    "start_time": "2022-10-29T17:45:22.535Z"
   },
   {
    "duration": 17,
    "start_time": "2022-10-29T17:45:22.553Z"
   },
   {
    "duration": 5,
    "start_time": "2022-10-29T17:45:22.572Z"
   },
   {
    "duration": 46,
    "start_time": "2022-10-29T17:45:22.579Z"
   },
   {
    "duration": 12,
    "start_time": "2022-10-29T17:45:22.626Z"
   },
   {
    "duration": 5,
    "start_time": "2022-10-29T17:45:22.640Z"
   },
   {
    "duration": 11,
    "start_time": "2022-10-29T17:45:22.647Z"
   },
   {
    "duration": 18,
    "start_time": "2022-10-29T17:45:22.660Z"
   },
   {
    "duration": 36,
    "start_time": "2022-10-29T17:45:22.680Z"
   },
   {
    "duration": 4,
    "start_time": "2022-10-29T17:45:22.717Z"
   },
   {
    "duration": 12,
    "start_time": "2022-10-29T17:45:22.723Z"
   },
   {
    "duration": 7,
    "start_time": "2022-10-29T17:45:22.737Z"
   },
   {
    "duration": 4,
    "start_time": "2022-10-29T17:45:22.746Z"
   },
   {
    "duration": 14,
    "start_time": "2022-10-29T17:45:22.752Z"
   },
   {
    "duration": 840,
    "start_time": "2022-10-29T17:45:22.767Z"
   },
   {
    "duration": 0,
    "start_time": "2022-10-29T17:45:23.608Z"
   },
   {
    "duration": 0,
    "start_time": "2022-10-29T17:45:23.610Z"
   },
   {
    "duration": 0,
    "start_time": "2022-10-29T17:45:23.611Z"
   },
   {
    "duration": 70,
    "start_time": "2022-10-29T17:45:31.162Z"
   },
   {
    "duration": 14,
    "start_time": "2022-10-29T17:45:31.233Z"
   },
   {
    "duration": 19,
    "start_time": "2022-10-29T17:45:31.249Z"
   },
   {
    "duration": 16,
    "start_time": "2022-10-29T17:45:31.269Z"
   },
   {
    "duration": 48,
    "start_time": "2022-10-29T17:45:31.287Z"
   },
   {
    "duration": 3,
    "start_time": "2022-10-29T17:45:31.337Z"
   },
   {
    "duration": 32,
    "start_time": "2022-10-29T17:45:31.341Z"
   },
   {
    "duration": 19,
    "start_time": "2022-10-29T17:45:31.374Z"
   },
   {
    "duration": 7,
    "start_time": "2022-10-29T17:45:31.394Z"
   },
   {
    "duration": 10,
    "start_time": "2022-10-29T17:45:31.403Z"
   },
   {
    "duration": 69,
    "start_time": "2022-10-29T17:45:31.414Z"
   },
   {
    "duration": 9,
    "start_time": "2022-10-29T17:45:31.484Z"
   },
   {
    "duration": 12,
    "start_time": "2022-10-29T17:45:31.494Z"
   },
   {
    "duration": 11,
    "start_time": "2022-10-29T17:45:31.508Z"
   },
   {
    "duration": 16,
    "start_time": "2022-10-29T17:45:31.520Z"
   },
   {
    "duration": 16,
    "start_time": "2022-10-29T17:45:31.537Z"
   },
   {
    "duration": 3,
    "start_time": "2022-10-29T17:45:31.554Z"
   },
   {
    "duration": 12,
    "start_time": "2022-10-29T17:45:31.559Z"
   },
   {
    "duration": 34,
    "start_time": "2022-10-29T17:45:31.572Z"
   },
   {
    "duration": 4,
    "start_time": "2022-10-29T17:45:31.607Z"
   },
   {
    "duration": 10,
    "start_time": "2022-10-29T17:45:31.612Z"
   },
   {
    "duration": 1065,
    "start_time": "2022-10-29T17:45:31.624Z"
   },
   {
    "duration": 0,
    "start_time": "2022-10-29T17:45:32.691Z"
   },
   {
    "duration": 0,
    "start_time": "2022-10-29T17:45:32.692Z"
   },
   {
    "duration": 0,
    "start_time": "2022-10-29T17:45:32.693Z"
   },
   {
    "duration": 429,
    "start_time": "2022-10-29T17:45:50.551Z"
   },
   {
    "duration": 24,
    "start_time": "2022-10-29T17:45:50.982Z"
   },
   {
    "duration": 19,
    "start_time": "2022-10-29T17:45:51.009Z"
   },
   {
    "duration": 10,
    "start_time": "2022-10-29T17:45:51.030Z"
   },
   {
    "duration": 42,
    "start_time": "2022-10-29T17:45:51.042Z"
   },
   {
    "duration": 21,
    "start_time": "2022-10-29T17:45:51.086Z"
   },
   {
    "duration": 11,
    "start_time": "2022-10-29T17:45:51.108Z"
   },
   {
    "duration": 5,
    "start_time": "2022-10-29T17:45:51.121Z"
   },
   {
    "duration": 11,
    "start_time": "2022-10-29T17:45:51.127Z"
   },
   {
    "duration": 5,
    "start_time": "2022-10-29T17:45:51.140Z"
   },
   {
    "duration": 32,
    "start_time": "2022-10-29T17:45:51.146Z"
   },
   {
    "duration": 36,
    "start_time": "2022-10-29T17:45:51.179Z"
   },
   {
    "duration": 8,
    "start_time": "2022-10-29T17:45:51.216Z"
   },
   {
    "duration": 13,
    "start_time": "2022-10-29T17:45:51.226Z"
   },
   {
    "duration": 18,
    "start_time": "2022-10-29T17:45:51.241Z"
   },
   {
    "duration": 17,
    "start_time": "2022-10-29T17:45:51.261Z"
   },
   {
    "duration": 25,
    "start_time": "2022-10-29T17:45:51.280Z"
   },
   {
    "duration": 11,
    "start_time": "2022-10-29T17:45:51.307Z"
   },
   {
    "duration": 9,
    "start_time": "2022-10-29T17:45:51.320Z"
   },
   {
    "duration": 5,
    "start_time": "2022-10-29T17:45:51.330Z"
   },
   {
    "duration": 12,
    "start_time": "2022-10-29T17:45:51.336Z"
   },
   {
    "duration": 1264,
    "start_time": "2022-10-29T17:45:51.350Z"
   },
   {
    "duration": 0,
    "start_time": "2022-10-29T17:45:52.616Z"
   },
   {
    "duration": 0,
    "start_time": "2022-10-29T17:45:52.617Z"
   },
   {
    "duration": 0,
    "start_time": "2022-10-29T17:45:52.619Z"
   },
   {
    "duration": 476,
    "start_time": "2022-10-29T17:46:27.717Z"
   },
   {
    "duration": 23,
    "start_time": "2022-10-29T17:46:28.194Z"
   },
   {
    "duration": 33,
    "start_time": "2022-10-29T17:46:28.219Z"
   },
   {
    "duration": 10,
    "start_time": "2022-10-29T17:46:28.260Z"
   },
   {
    "duration": 42,
    "start_time": "2022-10-29T17:46:28.272Z"
   },
   {
    "duration": 4,
    "start_time": "2022-10-29T17:46:28.316Z"
   },
   {
    "duration": 21,
    "start_time": "2022-10-29T17:46:28.321Z"
   },
   {
    "duration": 6,
    "start_time": "2022-10-29T17:46:28.344Z"
   },
   {
    "duration": 10,
    "start_time": "2022-10-29T17:46:28.351Z"
   },
   {
    "duration": 8,
    "start_time": "2022-10-29T17:46:28.364Z"
   },
   {
    "duration": 67,
    "start_time": "2022-10-29T17:46:28.374Z"
   },
   {
    "duration": 12,
    "start_time": "2022-10-29T17:46:28.444Z"
   },
   {
    "duration": 4,
    "start_time": "2022-10-29T17:46:28.457Z"
   },
   {
    "duration": 11,
    "start_time": "2022-10-29T17:46:28.463Z"
   },
   {
    "duration": 36,
    "start_time": "2022-10-29T17:46:28.477Z"
   },
   {
    "duration": 24,
    "start_time": "2022-10-29T17:46:28.515Z"
   },
   {
    "duration": 7,
    "start_time": "2022-10-29T17:46:28.541Z"
   },
   {
    "duration": 12,
    "start_time": "2022-10-29T17:46:28.550Z"
   },
   {
    "duration": 9,
    "start_time": "2022-10-29T17:46:28.564Z"
   },
   {
    "duration": 5,
    "start_time": "2022-10-29T17:46:28.575Z"
   },
   {
    "duration": 36,
    "start_time": "2022-10-29T17:46:28.581Z"
   },
   {
    "duration": 28,
    "start_time": "2022-10-29T17:46:28.619Z"
   },
   {
    "duration": 19,
    "start_time": "2022-10-29T17:46:28.663Z"
   },
   {
    "duration": 6,
    "start_time": "2022-10-29T17:46:28.685Z"
   },
   {
    "duration": 5,
    "start_time": "2022-10-29T17:46:28.692Z"
   },
   {
    "duration": 67,
    "start_time": "2022-10-29T17:48:15.339Z"
   },
   {
    "duration": 14,
    "start_time": "2022-10-29T17:48:15.407Z"
   },
   {
    "duration": 17,
    "start_time": "2022-10-29T17:48:15.423Z"
   },
   {
    "duration": 7,
    "start_time": "2022-10-29T17:48:15.442Z"
   },
   {
    "duration": 32,
    "start_time": "2022-10-29T17:48:15.451Z"
   },
   {
    "duration": 22,
    "start_time": "2022-10-29T17:48:15.485Z"
   },
   {
    "duration": 16,
    "start_time": "2022-10-29T17:48:15.508Z"
   },
   {
    "duration": 4,
    "start_time": "2022-10-29T17:48:15.526Z"
   },
   {
    "duration": 6,
    "start_time": "2022-10-29T17:48:15.531Z"
   },
   {
    "duration": 4,
    "start_time": "2022-10-29T17:48:15.539Z"
   },
   {
    "duration": 30,
    "start_time": "2022-10-29T17:48:15.544Z"
   },
   {
    "duration": 30,
    "start_time": "2022-10-29T17:48:15.576Z"
   },
   {
    "duration": 4,
    "start_time": "2022-10-29T17:48:15.607Z"
   },
   {
    "duration": 16,
    "start_time": "2022-10-29T17:48:15.612Z"
   },
   {
    "duration": 24,
    "start_time": "2022-10-29T17:48:15.629Z"
   },
   {
    "duration": 22,
    "start_time": "2022-10-29T17:48:15.655Z"
   },
   {
    "duration": 4,
    "start_time": "2022-10-29T17:48:15.678Z"
   },
   {
    "duration": 10,
    "start_time": "2022-10-29T17:48:15.705Z"
   },
   {
    "duration": 8,
    "start_time": "2022-10-29T17:48:15.717Z"
   },
   {
    "duration": 3,
    "start_time": "2022-10-29T17:48:15.727Z"
   },
   {
    "duration": 11,
    "start_time": "2022-10-29T17:48:15.732Z"
   },
   {
    "duration": 1635,
    "start_time": "2022-10-29T17:48:15.744Z"
   },
   {
    "duration": 0,
    "start_time": "2022-10-29T17:48:17.381Z"
   },
   {
    "duration": 0,
    "start_time": "2022-10-29T17:48:17.382Z"
   },
   {
    "duration": 0,
    "start_time": "2022-10-29T17:48:17.383Z"
   },
   {
    "duration": 70,
    "start_time": "2022-10-29T17:48:56.939Z"
   },
   {
    "duration": 15,
    "start_time": "2022-10-29T17:48:57.011Z"
   },
   {
    "duration": 14,
    "start_time": "2022-10-29T17:48:57.028Z"
   },
   {
    "duration": 8,
    "start_time": "2022-10-29T17:48:57.044Z"
   },
   {
    "duration": 58,
    "start_time": "2022-10-29T17:48:57.053Z"
   },
   {
    "duration": 3,
    "start_time": "2022-10-29T17:48:57.112Z"
   },
   {
    "duration": 11,
    "start_time": "2022-10-29T17:48:57.117Z"
   },
   {
    "duration": 4,
    "start_time": "2022-10-29T17:48:57.130Z"
   },
   {
    "duration": 7,
    "start_time": "2022-10-29T17:48:57.135Z"
   },
   {
    "duration": 4,
    "start_time": "2022-10-29T17:48:57.144Z"
   },
   {
    "duration": 33,
    "start_time": "2022-10-29T17:48:57.149Z"
   },
   {
    "duration": 27,
    "start_time": "2022-10-29T17:48:57.184Z"
   },
   {
    "duration": 4,
    "start_time": "2022-10-29T17:48:57.213Z"
   },
   {
    "duration": 14,
    "start_time": "2022-10-29T17:48:57.218Z"
   },
   {
    "duration": 18,
    "start_time": "2022-10-29T17:48:57.234Z"
   },
   {
    "duration": 17,
    "start_time": "2022-10-29T17:48:57.253Z"
   },
   {
    "duration": 4,
    "start_time": "2022-10-29T17:48:57.271Z"
   },
   {
    "duration": 31,
    "start_time": "2022-10-29T17:48:57.277Z"
   },
   {
    "duration": 9,
    "start_time": "2022-10-29T17:48:57.310Z"
   },
   {
    "duration": 4,
    "start_time": "2022-10-29T17:48:57.320Z"
   },
   {
    "duration": 14,
    "start_time": "2022-10-29T17:48:57.325Z"
   },
   {
    "duration": 20,
    "start_time": "2022-10-29T17:48:57.341Z"
   },
   {
    "duration": 7,
    "start_time": "2022-10-29T17:48:57.363Z"
   },
   {
    "duration": 3,
    "start_time": "2022-10-29T17:48:57.374Z"
   },
   {
    "duration": 26,
    "start_time": "2022-10-29T17:48:57.379Z"
   },
   {
    "duration": 64,
    "start_time": "2022-10-29T17:49:23.103Z"
   },
   {
    "duration": 13,
    "start_time": "2022-10-29T17:49:23.169Z"
   },
   {
    "duration": 14,
    "start_time": "2022-10-29T17:49:23.184Z"
   },
   {
    "duration": 10,
    "start_time": "2022-10-29T17:49:23.200Z"
   },
   {
    "duration": 28,
    "start_time": "2022-10-29T17:49:23.212Z"
   },
   {
    "duration": 3,
    "start_time": "2022-10-29T17:49:23.242Z"
   },
   {
    "duration": 10,
    "start_time": "2022-10-29T17:49:23.246Z"
   },
   {
    "duration": 5,
    "start_time": "2022-10-29T17:49:23.258Z"
   },
   {
    "duration": 7,
    "start_time": "2022-10-29T17:49:23.265Z"
   },
   {
    "duration": 3,
    "start_time": "2022-10-29T17:49:23.275Z"
   },
   {
    "duration": 49,
    "start_time": "2022-10-29T17:49:23.280Z"
   },
   {
    "duration": 8,
    "start_time": "2022-10-29T17:49:23.331Z"
   },
   {
    "duration": 4,
    "start_time": "2022-10-29T17:49:23.341Z"
   },
   {
    "duration": 12,
    "start_time": "2022-10-29T17:49:23.347Z"
   },
   {
    "duration": 17,
    "start_time": "2022-10-29T17:49:23.361Z"
   },
   {
    "duration": 40,
    "start_time": "2022-10-29T17:49:23.379Z"
   },
   {
    "duration": 4,
    "start_time": "2022-10-29T17:49:23.420Z"
   },
   {
    "duration": 12,
    "start_time": "2022-10-29T17:49:23.426Z"
   },
   {
    "duration": 6,
    "start_time": "2022-10-29T17:49:23.440Z"
   },
   {
    "duration": 4,
    "start_time": "2022-10-29T17:49:23.447Z"
   },
   {
    "duration": 11,
    "start_time": "2022-10-29T17:49:23.453Z"
   },
   {
    "duration": 42,
    "start_time": "2022-10-29T17:49:23.466Z"
   },
   {
    "duration": 5,
    "start_time": "2022-10-29T17:49:23.509Z"
   },
   {
    "duration": 7,
    "start_time": "2022-10-29T17:49:23.515Z"
   },
   {
    "duration": 7,
    "start_time": "2022-10-29T17:49:23.523Z"
   },
   {
    "duration": 73,
    "start_time": "2022-10-29T17:55:18.981Z"
   },
   {
    "duration": 16,
    "start_time": "2022-10-29T17:55:19.056Z"
   },
   {
    "duration": 32,
    "start_time": "2022-10-29T17:55:19.074Z"
   },
   {
    "duration": 9,
    "start_time": "2022-10-29T17:55:19.108Z"
   },
   {
    "duration": 31,
    "start_time": "2022-10-29T17:55:19.119Z"
   },
   {
    "duration": 3,
    "start_time": "2022-10-29T17:55:19.152Z"
   },
   {
    "duration": 11,
    "start_time": "2022-10-29T17:55:19.157Z"
   },
   {
    "duration": 37,
    "start_time": "2022-10-29T17:55:19.169Z"
   },
   {
    "duration": 7,
    "start_time": "2022-10-29T17:55:19.209Z"
   },
   {
    "duration": 5,
    "start_time": "2022-10-29T17:55:19.219Z"
   },
   {
    "duration": 31,
    "start_time": "2022-10-29T17:55:19.226Z"
   },
   {
    "duration": 10,
    "start_time": "2022-10-29T17:55:19.259Z"
   },
   {
    "duration": 34,
    "start_time": "2022-10-29T17:55:19.271Z"
   },
   {
    "duration": 14,
    "start_time": "2022-10-29T17:55:19.308Z"
   },
   {
    "duration": 20,
    "start_time": "2022-10-29T17:55:19.324Z"
   },
   {
    "duration": 17,
    "start_time": "2022-10-29T17:55:19.346Z"
   },
   {
    "duration": 4,
    "start_time": "2022-10-29T17:55:19.364Z"
   },
   {
    "duration": 42,
    "start_time": "2022-10-29T17:55:19.370Z"
   },
   {
    "duration": 6,
    "start_time": "2022-10-29T17:55:19.414Z"
   },
   {
    "duration": 7,
    "start_time": "2022-10-29T17:55:19.422Z"
   },
   {
    "duration": 11,
    "start_time": "2022-10-29T17:55:19.430Z"
   },
   {
    "duration": 13,
    "start_time": "2022-10-29T17:55:19.443Z"
   },
   {
    "duration": 0,
    "start_time": "2022-10-29T17:55:19.457Z"
   },
   {
    "duration": 0,
    "start_time": "2022-10-29T17:55:19.458Z"
   },
   {
    "duration": 0,
    "start_time": "2022-10-29T17:55:19.459Z"
   },
   {
    "duration": 66,
    "start_time": "2022-10-29T17:57:56.169Z"
   },
   {
    "duration": 21,
    "start_time": "2022-10-29T17:57:56.237Z"
   },
   {
    "duration": 19,
    "start_time": "2022-10-29T17:57:56.259Z"
   },
   {
    "duration": 28,
    "start_time": "2022-10-29T17:57:56.280Z"
   },
   {
    "duration": 31,
    "start_time": "2022-10-29T17:57:56.310Z"
   },
   {
    "duration": 3,
    "start_time": "2022-10-29T17:57:56.342Z"
   },
   {
    "duration": 9,
    "start_time": "2022-10-29T17:57:56.347Z"
   },
   {
    "duration": 4,
    "start_time": "2022-10-29T17:57:56.357Z"
   },
   {
    "duration": 6,
    "start_time": "2022-10-29T17:57:56.362Z"
   },
   {
    "duration": 37,
    "start_time": "2022-10-29T17:57:56.369Z"
   },
   {
    "duration": 29,
    "start_time": "2022-10-29T17:57:56.407Z"
   },
   {
    "duration": 9,
    "start_time": "2022-10-29T17:57:56.437Z"
   },
   {
    "duration": 3,
    "start_time": "2022-10-29T17:57:56.447Z"
   },
   {
    "duration": 11,
    "start_time": "2022-10-29T17:57:56.452Z"
   },
   {
    "duration": 45,
    "start_time": "2022-10-29T17:57:56.464Z"
   },
   {
    "duration": 17,
    "start_time": "2022-10-29T17:57:56.510Z"
   },
   {
    "duration": 4,
    "start_time": "2022-10-29T17:57:56.528Z"
   },
   {
    "duration": 16,
    "start_time": "2022-10-29T17:57:56.533Z"
   },
   {
    "duration": 5,
    "start_time": "2022-10-29T17:57:56.551Z"
   },
   {
    "duration": 2,
    "start_time": "2022-10-29T17:57:56.558Z"
   },
   {
    "duration": 11,
    "start_time": "2022-10-29T17:57:56.561Z"
   },
   {
    "duration": 37,
    "start_time": "2022-10-29T17:57:56.573Z"
   },
   {
    "duration": 2,
    "start_time": "2022-10-29T17:57:56.612Z"
   },
   {
    "duration": 5,
    "start_time": "2022-10-29T17:57:56.615Z"
   },
   {
    "duration": 5,
    "start_time": "2022-10-29T17:57:56.621Z"
   },
   {
    "duration": 79,
    "start_time": "2022-10-29T17:58:28.880Z"
   },
   {
    "duration": 14,
    "start_time": "2022-10-29T17:58:28.960Z"
   },
   {
    "duration": 13,
    "start_time": "2022-10-29T17:58:28.976Z"
   },
   {
    "duration": 15,
    "start_time": "2022-10-29T17:58:28.990Z"
   },
   {
    "duration": 30,
    "start_time": "2022-10-29T17:58:29.007Z"
   },
   {
    "duration": 4,
    "start_time": "2022-10-29T17:58:29.038Z"
   },
   {
    "duration": 12,
    "start_time": "2022-10-29T17:58:29.045Z"
   },
   {
    "duration": 5,
    "start_time": "2022-10-29T17:58:29.059Z"
   },
   {
    "duration": 6,
    "start_time": "2022-10-29T17:58:29.065Z"
   },
   {
    "duration": 5,
    "start_time": "2022-10-29T17:58:29.073Z"
   },
   {
    "duration": 49,
    "start_time": "2022-10-29T17:58:29.079Z"
   },
   {
    "duration": 8,
    "start_time": "2022-10-29T17:58:29.130Z"
   },
   {
    "duration": 3,
    "start_time": "2022-10-29T17:58:29.140Z"
   },
   {
    "duration": 8,
    "start_time": "2022-10-29T17:58:29.145Z"
   },
   {
    "duration": 15,
    "start_time": "2022-10-29T17:58:29.155Z"
   },
   {
    "duration": 43,
    "start_time": "2022-10-29T17:58:29.171Z"
   },
   {
    "duration": 3,
    "start_time": "2022-10-29T17:58:29.215Z"
   },
   {
    "duration": 11,
    "start_time": "2022-10-29T17:58:29.219Z"
   },
   {
    "duration": 6,
    "start_time": "2022-10-29T17:58:29.231Z"
   },
   {
    "duration": 3,
    "start_time": "2022-10-29T17:58:29.238Z"
   },
   {
    "duration": 9,
    "start_time": "2022-10-29T17:58:29.243Z"
   },
   {
    "duration": 10,
    "start_time": "2022-10-29T17:58:29.253Z"
   },
   {
    "duration": 2,
    "start_time": "2022-10-29T17:58:29.265Z"
   },
   {
    "duration": 6,
    "start_time": "2022-10-29T17:58:29.268Z"
   },
   {
    "duration": 30,
    "start_time": "2022-10-29T17:58:29.276Z"
   },
   {
    "duration": 71,
    "start_time": "2022-10-29T17:58:43.255Z"
   },
   {
    "duration": 15,
    "start_time": "2022-10-29T17:58:43.328Z"
   },
   {
    "duration": 17,
    "start_time": "2022-10-29T17:58:43.344Z"
   },
   {
    "duration": 9,
    "start_time": "2022-10-29T17:58:43.363Z"
   },
   {
    "duration": 45,
    "start_time": "2022-10-29T17:58:43.374Z"
   },
   {
    "duration": 3,
    "start_time": "2022-10-29T17:58:43.421Z"
   },
   {
    "duration": 11,
    "start_time": "2022-10-29T17:58:43.426Z"
   },
   {
    "duration": 5,
    "start_time": "2022-10-29T17:58:43.439Z"
   },
   {
    "duration": 8,
    "start_time": "2022-10-29T17:58:43.446Z"
   },
   {
    "duration": 5,
    "start_time": "2022-10-29T17:58:43.455Z"
   },
   {
    "duration": 54,
    "start_time": "2022-10-29T17:58:43.461Z"
   },
   {
    "duration": 9,
    "start_time": "2022-10-29T17:58:43.516Z"
   },
   {
    "duration": 3,
    "start_time": "2022-10-29T17:58:43.527Z"
   },
   {
    "duration": 10,
    "start_time": "2022-10-29T17:58:43.532Z"
   },
   {
    "duration": 16,
    "start_time": "2022-10-29T17:58:43.544Z"
   },
   {
    "duration": 15,
    "start_time": "2022-10-29T17:58:43.562Z"
   },
   {
    "duration": 26,
    "start_time": "2022-10-29T17:58:43.579Z"
   },
   {
    "duration": 10,
    "start_time": "2022-10-29T17:58:43.607Z"
   },
   {
    "duration": 5,
    "start_time": "2022-10-29T17:58:43.619Z"
   },
   {
    "duration": 3,
    "start_time": "2022-10-29T17:58:43.626Z"
   },
   {
    "duration": 12,
    "start_time": "2022-10-29T17:58:43.630Z"
   },
   {
    "duration": 11,
    "start_time": "2022-10-29T17:58:43.643Z"
   },
   {
    "duration": 2,
    "start_time": "2022-10-29T17:58:43.655Z"
   },
   {
    "duration": 5,
    "start_time": "2022-10-29T17:58:43.659Z"
   },
   {
    "duration": 7,
    "start_time": "2022-10-29T17:58:43.665Z"
   },
   {
    "duration": 67,
    "start_time": "2022-10-29T18:05:15.268Z"
   },
   {
    "duration": 14,
    "start_time": "2022-10-29T18:05:15.337Z"
   },
   {
    "duration": 15,
    "start_time": "2022-10-29T18:05:15.352Z"
   },
   {
    "duration": 8,
    "start_time": "2022-10-29T18:05:15.369Z"
   },
   {
    "duration": 49,
    "start_time": "2022-10-29T18:05:15.379Z"
   },
   {
    "duration": 3,
    "start_time": "2022-10-29T18:05:15.429Z"
   },
   {
    "duration": 15,
    "start_time": "2022-10-29T18:05:15.433Z"
   },
   {
    "duration": 8,
    "start_time": "2022-10-29T18:05:15.449Z"
   },
   {
    "duration": 8,
    "start_time": "2022-10-29T18:05:15.459Z"
   },
   {
    "duration": 10,
    "start_time": "2022-10-29T18:05:15.469Z"
   },
   {
    "duration": 44,
    "start_time": "2022-10-29T18:05:15.481Z"
   },
   {
    "duration": 8,
    "start_time": "2022-10-29T18:05:15.527Z"
   },
   {
    "duration": 4,
    "start_time": "2022-10-29T18:05:15.536Z"
   },
   {
    "duration": 22,
    "start_time": "2022-10-29T18:05:15.541Z"
   },
   {
    "duration": 22,
    "start_time": "2022-10-29T18:05:15.565Z"
   },
   {
    "duration": 19,
    "start_time": "2022-10-29T18:05:15.588Z"
   },
   {
    "duration": 5,
    "start_time": "2022-10-29T18:05:15.608Z"
   },
   {
    "duration": 24,
    "start_time": "2022-10-29T18:05:15.614Z"
   },
   {
    "duration": 7,
    "start_time": "2022-10-29T18:05:15.640Z"
   },
   {
    "duration": 7,
    "start_time": "2022-10-29T18:05:15.649Z"
   },
   {
    "duration": 18,
    "start_time": "2022-10-29T18:05:15.658Z"
   },
   {
    "duration": 26,
    "start_time": "2022-10-29T18:05:15.678Z"
   },
   {
    "duration": 0,
    "start_time": "2022-10-29T18:05:15.705Z"
   },
   {
    "duration": 0,
    "start_time": "2022-10-29T18:05:15.707Z"
   },
   {
    "duration": 0,
    "start_time": "2022-10-29T18:05:15.708Z"
   },
   {
    "duration": 70,
    "start_time": "2022-10-29T18:05:41.808Z"
   },
   {
    "duration": 15,
    "start_time": "2022-10-29T18:05:41.881Z"
   },
   {
    "duration": 20,
    "start_time": "2022-10-29T18:05:41.898Z"
   },
   {
    "duration": 9,
    "start_time": "2022-10-29T18:05:41.920Z"
   },
   {
    "duration": 34,
    "start_time": "2022-10-29T18:05:41.931Z"
   },
   {
    "duration": 4,
    "start_time": "2022-10-29T18:05:41.966Z"
   },
   {
    "duration": 33,
    "start_time": "2022-10-29T18:05:41.972Z"
   },
   {
    "duration": 5,
    "start_time": "2022-10-29T18:05:42.007Z"
   },
   {
    "duration": 14,
    "start_time": "2022-10-29T18:05:42.014Z"
   },
   {
    "duration": 5,
    "start_time": "2022-10-29T18:05:42.031Z"
   },
   {
    "duration": 38,
    "start_time": "2022-10-29T18:05:42.038Z"
   },
   {
    "duration": 9,
    "start_time": "2022-10-29T18:05:42.077Z"
   },
   {
    "duration": 20,
    "start_time": "2022-10-29T18:05:42.087Z"
   },
   {
    "duration": 11,
    "start_time": "2022-10-29T18:05:42.109Z"
   },
   {
    "duration": 20,
    "start_time": "2022-10-29T18:05:42.121Z"
   },
   {
    "duration": 18,
    "start_time": "2022-10-29T18:05:42.143Z"
   },
   {
    "duration": 3,
    "start_time": "2022-10-29T18:05:42.163Z"
   },
   {
    "duration": 37,
    "start_time": "2022-10-29T18:05:42.168Z"
   },
   {
    "duration": 6,
    "start_time": "2022-10-29T18:05:42.207Z"
   },
   {
    "duration": 5,
    "start_time": "2022-10-29T18:05:42.215Z"
   },
   {
    "duration": 12,
    "start_time": "2022-10-29T18:05:42.221Z"
   },
   {
    "duration": 12,
    "start_time": "2022-10-29T18:05:42.235Z"
   },
   {
    "duration": 2,
    "start_time": "2022-10-29T18:05:42.249Z"
   },
   {
    "duration": 9,
    "start_time": "2022-10-29T18:05:42.252Z"
   },
   {
    "duration": 6,
    "start_time": "2022-10-29T18:05:42.263Z"
   },
   {
    "duration": 66,
    "start_time": "2022-10-29T18:10:26.007Z"
   },
   {
    "duration": 17,
    "start_time": "2022-10-29T18:10:26.075Z"
   },
   {
    "duration": 18,
    "start_time": "2022-10-29T18:10:26.093Z"
   },
   {
    "duration": 9,
    "start_time": "2022-10-29T18:10:26.113Z"
   },
   {
    "duration": 31,
    "start_time": "2022-10-29T18:10:26.123Z"
   },
   {
    "duration": 3,
    "start_time": "2022-10-29T18:10:26.156Z"
   },
   {
    "duration": 11,
    "start_time": "2022-10-29T18:10:26.160Z"
   },
   {
    "duration": 5,
    "start_time": "2022-10-29T18:10:26.172Z"
   },
   {
    "duration": 27,
    "start_time": "2022-10-29T18:10:26.178Z"
   },
   {
    "duration": 4,
    "start_time": "2022-10-29T18:10:26.208Z"
   },
   {
    "duration": 32,
    "start_time": "2022-10-29T18:10:26.213Z"
   },
   {
    "duration": 9,
    "start_time": "2022-10-29T18:10:26.247Z"
   },
   {
    "duration": 6,
    "start_time": "2022-10-29T18:10:26.258Z"
   },
   {
    "duration": 40,
    "start_time": "2022-10-29T18:10:26.266Z"
   },
   {
    "duration": 18,
    "start_time": "2022-10-29T18:10:26.308Z"
   },
   {
    "duration": 17,
    "start_time": "2022-10-29T18:10:26.328Z"
   },
   {
    "duration": 3,
    "start_time": "2022-10-29T18:10:26.347Z"
   },
   {
    "duration": 18,
    "start_time": "2022-10-29T18:10:26.352Z"
   },
   {
    "duration": 12,
    "start_time": "2022-10-29T18:10:26.371Z"
   },
   {
    "duration": 6,
    "start_time": "2022-10-29T18:10:26.384Z"
   },
   {
    "duration": 16,
    "start_time": "2022-10-29T18:10:26.406Z"
   },
   {
    "duration": 73,
    "start_time": "2022-10-29T18:10:26.424Z"
   },
   {
    "duration": 0,
    "start_time": "2022-10-29T18:10:26.499Z"
   },
   {
    "duration": 0,
    "start_time": "2022-10-29T18:10:26.500Z"
   },
   {
    "duration": 0,
    "start_time": "2022-10-29T18:10:26.500Z"
   },
   {
    "duration": 64,
    "start_time": "2022-10-29T18:10:47.703Z"
   },
   {
    "duration": 15,
    "start_time": "2022-10-29T18:10:47.768Z"
   },
   {
    "duration": 17,
    "start_time": "2022-10-29T18:10:47.784Z"
   },
   {
    "duration": 10,
    "start_time": "2022-10-29T18:10:47.802Z"
   },
   {
    "duration": 30,
    "start_time": "2022-10-29T18:10:47.813Z"
   },
   {
    "duration": 3,
    "start_time": "2022-10-29T18:10:47.845Z"
   },
   {
    "duration": 9,
    "start_time": "2022-10-29T18:10:47.850Z"
   },
   {
    "duration": 4,
    "start_time": "2022-10-29T18:10:47.860Z"
   },
   {
    "duration": 7,
    "start_time": "2022-10-29T18:10:47.865Z"
   },
   {
    "duration": 31,
    "start_time": "2022-10-29T18:10:47.875Z"
   },
   {
    "duration": 47,
    "start_time": "2022-10-29T18:10:47.908Z"
   },
   {
    "duration": 10,
    "start_time": "2022-10-29T18:10:47.957Z"
   },
   {
    "duration": 8,
    "start_time": "2022-10-29T18:10:47.968Z"
   },
   {
    "duration": 28,
    "start_time": "2022-10-29T18:10:47.977Z"
   },
   {
    "duration": 23,
    "start_time": "2022-10-29T18:10:48.007Z"
   },
   {
    "duration": 17,
    "start_time": "2022-10-29T18:10:48.031Z"
   },
   {
    "duration": 4,
    "start_time": "2022-10-29T18:10:48.050Z"
   },
   {
    "duration": 23,
    "start_time": "2022-10-29T18:10:48.055Z"
   },
   {
    "duration": 6,
    "start_time": "2022-10-29T18:10:48.080Z"
   },
   {
    "duration": 4,
    "start_time": "2022-10-29T18:10:48.105Z"
   },
   {
    "duration": 11,
    "start_time": "2022-10-29T18:10:48.110Z"
   },
   {
    "duration": 66,
    "start_time": "2022-10-29T18:10:48.123Z"
   },
   {
    "duration": 0,
    "start_time": "2022-10-29T18:10:48.191Z"
   },
   {
    "duration": 1,
    "start_time": "2022-10-29T18:10:48.192Z"
   },
   {
    "duration": 0,
    "start_time": "2022-10-29T18:10:48.194Z"
   },
   {
    "duration": 68,
    "start_time": "2022-10-29T18:10:58.506Z"
   },
   {
    "duration": 14,
    "start_time": "2022-10-29T18:10:58.576Z"
   },
   {
    "duration": 18,
    "start_time": "2022-10-29T18:10:58.591Z"
   },
   {
    "duration": 8,
    "start_time": "2022-10-29T18:10:58.611Z"
   },
   {
    "duration": 28,
    "start_time": "2022-10-29T18:10:58.620Z"
   },
   {
    "duration": 3,
    "start_time": "2022-10-29T18:10:58.650Z"
   },
   {
    "duration": 9,
    "start_time": "2022-10-29T18:10:58.654Z"
   },
   {
    "duration": 3,
    "start_time": "2022-10-29T18:10:58.664Z"
   },
   {
    "duration": 5,
    "start_time": "2022-10-29T18:10:58.669Z"
   },
   {
    "duration": 30,
    "start_time": "2022-10-29T18:10:58.676Z"
   },
   {
    "duration": 63,
    "start_time": "2022-10-29T18:10:58.708Z"
   },
   {
    "duration": 9,
    "start_time": "2022-10-29T18:10:58.772Z"
   },
   {
    "duration": 3,
    "start_time": "2022-10-29T18:10:58.783Z"
   },
   {
    "duration": 9,
    "start_time": "2022-10-29T18:10:58.806Z"
   },
   {
    "duration": 18,
    "start_time": "2022-10-29T18:10:58.816Z"
   },
   {
    "duration": 17,
    "start_time": "2022-10-29T18:10:58.836Z"
   },
   {
    "duration": 4,
    "start_time": "2022-10-29T18:10:58.854Z"
   },
   {
    "duration": 10,
    "start_time": "2022-10-29T18:10:58.860Z"
   },
   {
    "duration": 5,
    "start_time": "2022-10-29T18:10:58.872Z"
   },
   {
    "duration": 28,
    "start_time": "2022-10-29T18:10:58.879Z"
   },
   {
    "duration": 10,
    "start_time": "2022-10-29T18:10:58.908Z"
   },
   {
    "duration": 16,
    "start_time": "2022-10-29T18:10:58.920Z"
   },
   {
    "duration": 2,
    "start_time": "2022-10-29T18:10:58.938Z"
   },
   {
    "duration": 4,
    "start_time": "2022-10-29T18:10:58.941Z"
   },
   {
    "duration": 4,
    "start_time": "2022-10-29T18:10:58.947Z"
   },
   {
    "duration": 67,
    "start_time": "2022-10-29T18:11:09.643Z"
   },
   {
    "duration": 15,
    "start_time": "2022-10-29T18:11:09.711Z"
   },
   {
    "duration": 15,
    "start_time": "2022-10-29T18:11:09.727Z"
   },
   {
    "duration": 8,
    "start_time": "2022-10-29T18:11:09.744Z"
   },
   {
    "duration": 29,
    "start_time": "2022-10-29T18:11:09.753Z"
   },
   {
    "duration": 23,
    "start_time": "2022-10-29T18:11:09.783Z"
   },
   {
    "duration": 8,
    "start_time": "2022-10-29T18:11:09.808Z"
   },
   {
    "duration": 4,
    "start_time": "2022-10-29T18:11:09.818Z"
   },
   {
    "duration": 6,
    "start_time": "2022-10-29T18:11:09.824Z"
   },
   {
    "duration": 4,
    "start_time": "2022-10-29T18:11:09.833Z"
   },
   {
    "duration": 34,
    "start_time": "2022-10-29T18:11:09.839Z"
   },
   {
    "duration": 37,
    "start_time": "2022-10-29T18:11:09.875Z"
   },
   {
    "duration": 4,
    "start_time": "2022-10-29T18:11:09.913Z"
   },
   {
    "duration": 11,
    "start_time": "2022-10-29T18:11:09.918Z"
   },
   {
    "duration": 17,
    "start_time": "2022-10-29T18:11:09.930Z"
   },
   {
    "duration": 16,
    "start_time": "2022-10-29T18:11:09.949Z"
   },
   {
    "duration": 3,
    "start_time": "2022-10-29T18:11:09.966Z"
   },
   {
    "duration": 37,
    "start_time": "2022-10-29T18:11:09.971Z"
   },
   {
    "duration": 9,
    "start_time": "2022-10-29T18:11:10.009Z"
   },
   {
    "duration": 3,
    "start_time": "2022-10-29T18:11:10.020Z"
   },
   {
    "duration": 15,
    "start_time": "2022-10-29T18:11:10.024Z"
   },
   {
    "duration": 24,
    "start_time": "2022-10-29T18:11:10.041Z"
   },
   {
    "duration": 0,
    "start_time": "2022-10-29T18:11:10.067Z"
   },
   {
    "duration": 0,
    "start_time": "2022-10-29T18:11:10.068Z"
   },
   {
    "duration": 0,
    "start_time": "2022-10-29T18:11:10.069Z"
   },
   {
    "duration": 66,
    "start_time": "2022-10-29T18:11:20.295Z"
   },
   {
    "duration": 14,
    "start_time": "2022-10-29T18:11:20.363Z"
   },
   {
    "duration": 14,
    "start_time": "2022-10-29T18:11:20.379Z"
   },
   {
    "duration": 15,
    "start_time": "2022-10-29T18:11:20.395Z"
   },
   {
    "duration": 28,
    "start_time": "2022-10-29T18:11:20.412Z"
   },
   {
    "duration": 3,
    "start_time": "2022-10-29T18:11:20.442Z"
   },
   {
    "duration": 10,
    "start_time": "2022-10-29T18:11:20.446Z"
   },
   {
    "duration": 4,
    "start_time": "2022-10-29T18:11:20.457Z"
   },
   {
    "duration": 8,
    "start_time": "2022-10-29T18:11:20.462Z"
   },
   {
    "duration": 4,
    "start_time": "2022-10-29T18:11:20.472Z"
   },
   {
    "duration": 56,
    "start_time": "2022-10-29T18:11:20.478Z"
   },
   {
    "duration": 8,
    "start_time": "2022-10-29T18:11:20.535Z"
   },
   {
    "duration": 4,
    "start_time": "2022-10-29T18:11:20.545Z"
   },
   {
    "duration": 13,
    "start_time": "2022-10-29T18:11:20.551Z"
   },
   {
    "duration": 17,
    "start_time": "2022-10-29T18:11:20.565Z"
   },
   {
    "duration": 37,
    "start_time": "2022-10-29T18:11:20.583Z"
   },
   {
    "duration": 3,
    "start_time": "2022-10-29T18:11:20.622Z"
   },
   {
    "duration": 13,
    "start_time": "2022-10-29T18:11:20.626Z"
   },
   {
    "duration": 5,
    "start_time": "2022-10-29T18:11:20.640Z"
   },
   {
    "duration": 4,
    "start_time": "2022-10-29T18:11:20.646Z"
   },
   {
    "duration": 11,
    "start_time": "2022-10-29T18:11:20.651Z"
   },
   {
    "duration": 43,
    "start_time": "2022-10-29T18:11:20.663Z"
   },
   {
    "duration": 2,
    "start_time": "2022-10-29T18:11:20.707Z"
   },
   {
    "duration": 4,
    "start_time": "2022-10-29T18:11:20.711Z"
   },
   {
    "duration": 4,
    "start_time": "2022-10-29T18:11:20.716Z"
   },
   {
    "duration": 68,
    "start_time": "2022-10-29T18:12:15.284Z"
   },
   {
    "duration": 15,
    "start_time": "2022-10-29T18:12:15.354Z"
   },
   {
    "duration": 14,
    "start_time": "2022-10-29T18:12:15.371Z"
   },
   {
    "duration": 10,
    "start_time": "2022-10-29T18:12:15.406Z"
   },
   {
    "duration": 29,
    "start_time": "2022-10-29T18:12:15.418Z"
   },
   {
    "duration": 3,
    "start_time": "2022-10-29T18:12:15.448Z"
   },
   {
    "duration": 22,
    "start_time": "2022-10-29T18:12:15.453Z"
   },
   {
    "duration": 5,
    "start_time": "2022-10-29T18:12:15.476Z"
   },
   {
    "duration": 26,
    "start_time": "2022-10-29T18:12:15.483Z"
   },
   {
    "duration": 7,
    "start_time": "2022-10-29T18:12:15.511Z"
   },
   {
    "duration": 31,
    "start_time": "2022-10-29T18:12:15.519Z"
   },
   {
    "duration": 8,
    "start_time": "2022-10-29T18:12:15.551Z"
   },
   {
    "duration": 7,
    "start_time": "2022-10-29T18:12:15.561Z"
   },
   {
    "duration": 12,
    "start_time": "2022-10-29T18:12:15.569Z"
   },
   {
    "duration": 38,
    "start_time": "2022-10-29T18:12:15.583Z"
   },
   {
    "duration": 15,
    "start_time": "2022-10-29T18:12:15.622Z"
   },
   {
    "duration": 3,
    "start_time": "2022-10-29T18:12:15.639Z"
   },
   {
    "duration": 10,
    "start_time": "2022-10-29T18:12:15.644Z"
   },
   {
    "duration": 11,
    "start_time": "2022-10-29T18:12:15.656Z"
   },
   {
    "duration": 8,
    "start_time": "2022-10-29T18:12:15.669Z"
   },
   {
    "duration": 36,
    "start_time": "2022-10-29T18:12:15.679Z"
   },
   {
    "duration": 1070,
    "start_time": "2022-10-29T18:12:15.716Z"
   },
   {
    "duration": 0,
    "start_time": "2022-10-29T18:12:16.788Z"
   },
   {
    "duration": 0,
    "start_time": "2022-10-29T18:12:16.789Z"
   },
   {
    "duration": 0,
    "start_time": "2022-10-29T18:12:16.791Z"
   },
   {
    "duration": 66,
    "start_time": "2022-10-29T18:12:29.294Z"
   },
   {
    "duration": 16,
    "start_time": "2022-10-29T18:12:29.362Z"
   },
   {
    "duration": 14,
    "start_time": "2022-10-29T18:12:29.380Z"
   },
   {
    "duration": 11,
    "start_time": "2022-10-29T18:12:29.404Z"
   },
   {
    "duration": 29,
    "start_time": "2022-10-29T18:12:29.416Z"
   },
   {
    "duration": 3,
    "start_time": "2022-10-29T18:12:29.446Z"
   },
   {
    "duration": 12,
    "start_time": "2022-10-29T18:12:29.450Z"
   },
   {
    "duration": 7,
    "start_time": "2022-10-29T18:12:29.463Z"
   },
   {
    "duration": 6,
    "start_time": "2022-10-29T18:12:29.472Z"
   },
   {
    "duration": 27,
    "start_time": "2022-10-29T18:12:29.481Z"
   },
   {
    "duration": 31,
    "start_time": "2022-10-29T18:12:29.510Z"
   },
   {
    "duration": 8,
    "start_time": "2022-10-29T18:12:29.543Z"
   },
   {
    "duration": 3,
    "start_time": "2022-10-29T18:12:29.553Z"
   },
   {
    "duration": 12,
    "start_time": "2022-10-29T18:12:29.558Z"
   },
   {
    "duration": 39,
    "start_time": "2022-10-29T18:12:29.571Z"
   },
   {
    "duration": 17,
    "start_time": "2022-10-29T18:12:29.612Z"
   },
   {
    "duration": 4,
    "start_time": "2022-10-29T18:12:29.630Z"
   },
   {
    "duration": 11,
    "start_time": "2022-10-29T18:12:29.635Z"
   },
   {
    "duration": 8,
    "start_time": "2022-10-29T18:12:29.648Z"
   },
   {
    "duration": 3,
    "start_time": "2022-10-29T18:12:29.657Z"
   },
   {
    "duration": 11,
    "start_time": "2022-10-29T18:12:29.662Z"
   },
   {
    "duration": 42,
    "start_time": "2022-10-29T18:12:29.674Z"
   },
   {
    "duration": 3,
    "start_time": "2022-10-29T18:12:29.717Z"
   },
   {
    "duration": 4,
    "start_time": "2022-10-29T18:12:29.721Z"
   },
   {
    "duration": 4,
    "start_time": "2022-10-29T18:12:29.727Z"
   },
   {
    "duration": 68,
    "start_time": "2022-10-29T18:13:13.262Z"
   },
   {
    "duration": 15,
    "start_time": "2022-10-29T18:13:13.332Z"
   },
   {
    "duration": 18,
    "start_time": "2022-10-29T18:13:13.348Z"
   },
   {
    "duration": 9,
    "start_time": "2022-10-29T18:13:13.369Z"
   },
   {
    "duration": 51,
    "start_time": "2022-10-29T18:13:13.380Z"
   },
   {
    "duration": 3,
    "start_time": "2022-10-29T18:13:13.433Z"
   },
   {
    "duration": 9,
    "start_time": "2022-10-29T18:13:13.438Z"
   },
   {
    "duration": 4,
    "start_time": "2022-10-29T18:13:13.448Z"
   },
   {
    "duration": 7,
    "start_time": "2022-10-29T18:13:13.454Z"
   },
   {
    "duration": 5,
    "start_time": "2022-10-29T18:13:13.463Z"
   },
   {
    "duration": 62,
    "start_time": "2022-10-29T18:13:13.469Z"
   },
   {
    "duration": 10,
    "start_time": "2022-10-29T18:13:13.533Z"
   },
   {
    "duration": 5,
    "start_time": "2022-10-29T18:13:13.545Z"
   },
   {
    "duration": 13,
    "start_time": "2022-10-29T18:13:13.551Z"
   },
   {
    "duration": 40,
    "start_time": "2022-10-29T18:13:13.566Z"
   },
   {
    "duration": 17,
    "start_time": "2022-10-29T18:13:13.608Z"
   },
   {
    "duration": 4,
    "start_time": "2022-10-29T18:13:13.626Z"
   },
   {
    "duration": 13,
    "start_time": "2022-10-29T18:13:13.632Z"
   },
   {
    "duration": 8,
    "start_time": "2022-10-29T18:13:13.647Z"
   },
   {
    "duration": 3,
    "start_time": "2022-10-29T18:13:13.656Z"
   },
   {
    "duration": 9,
    "start_time": "2022-10-29T18:13:13.661Z"
   },
   {
    "duration": 51,
    "start_time": "2022-10-29T18:13:13.671Z"
   },
   {
    "duration": 2,
    "start_time": "2022-10-29T18:13:13.724Z"
   },
   {
    "duration": 3,
    "start_time": "2022-10-29T18:13:13.728Z"
   },
   {
    "duration": 4,
    "start_time": "2022-10-29T18:13:13.733Z"
   },
   {
    "duration": 69,
    "start_time": "2022-10-29T18:13:55.379Z"
   },
   {
    "duration": 15,
    "start_time": "2022-10-29T18:13:55.450Z"
   },
   {
    "duration": 39,
    "start_time": "2022-10-29T18:13:55.467Z"
   },
   {
    "duration": 9,
    "start_time": "2022-10-29T18:13:55.509Z"
   },
   {
    "duration": 30,
    "start_time": "2022-10-29T18:13:55.520Z"
   },
   {
    "duration": 4,
    "start_time": "2022-10-29T18:13:55.552Z"
   },
   {
    "duration": 13,
    "start_time": "2022-10-29T18:13:55.557Z"
   },
   {
    "duration": 5,
    "start_time": "2022-10-29T18:13:55.572Z"
   },
   {
    "duration": 30,
    "start_time": "2022-10-29T18:13:55.578Z"
   },
   {
    "duration": 7,
    "start_time": "2022-10-29T18:13:55.611Z"
   },
   {
    "duration": 34,
    "start_time": "2022-10-29T18:13:55.619Z"
   },
   {
    "duration": 8,
    "start_time": "2022-10-29T18:13:55.655Z"
   },
   {
    "duration": 4,
    "start_time": "2022-10-29T18:13:55.665Z"
   },
   {
    "duration": 35,
    "start_time": "2022-10-29T18:13:55.670Z"
   },
   {
    "duration": 18,
    "start_time": "2022-10-29T18:13:55.707Z"
   },
   {
    "duration": 16,
    "start_time": "2022-10-29T18:13:55.727Z"
   },
   {
    "duration": 3,
    "start_time": "2022-10-29T18:13:55.744Z"
   },
   {
    "duration": 12,
    "start_time": "2022-10-29T18:13:55.749Z"
   },
   {
    "duration": 16,
    "start_time": "2022-10-29T18:13:55.763Z"
   },
   {
    "duration": 4,
    "start_time": "2022-10-29T18:13:55.780Z"
   },
   {
    "duration": 15,
    "start_time": "2022-10-29T18:13:55.806Z"
   },
   {
    "duration": 1150,
    "start_time": "2022-10-29T18:13:55.822Z"
   },
   {
    "duration": 3,
    "start_time": "2022-10-29T18:13:56.974Z"
   },
   {
    "duration": 5,
    "start_time": "2022-10-29T18:13:56.978Z"
   },
   {
    "duration": 4,
    "start_time": "2022-10-29T18:13:56.985Z"
   },
   {
    "duration": 77,
    "start_time": "2022-10-29T18:14:22.446Z"
   },
   {
    "duration": 15,
    "start_time": "2022-10-29T18:14:22.525Z"
   },
   {
    "duration": 16,
    "start_time": "2022-10-29T18:14:22.541Z"
   },
   {
    "duration": 8,
    "start_time": "2022-10-29T18:14:22.560Z"
   },
   {
    "duration": 56,
    "start_time": "2022-10-29T18:14:22.570Z"
   },
   {
    "duration": 3,
    "start_time": "2022-10-29T18:14:22.628Z"
   },
   {
    "duration": 9,
    "start_time": "2022-10-29T18:14:22.633Z"
   },
   {
    "duration": 5,
    "start_time": "2022-10-29T18:14:22.644Z"
   },
   {
    "duration": 9,
    "start_time": "2022-10-29T18:14:22.650Z"
   },
   {
    "duration": 4,
    "start_time": "2022-10-29T18:14:22.663Z"
   },
   {
    "duration": 65,
    "start_time": "2022-10-29T18:14:22.669Z"
   },
   {
    "duration": 10,
    "start_time": "2022-10-29T18:14:22.736Z"
   },
   {
    "duration": 11,
    "start_time": "2022-10-29T18:14:22.748Z"
   },
   {
    "duration": 36,
    "start_time": "2022-10-29T18:14:22.760Z"
   },
   {
    "duration": 18,
    "start_time": "2022-10-29T18:14:22.797Z"
   },
   {
    "duration": 17,
    "start_time": "2022-10-29T18:14:22.817Z"
   },
   {
    "duration": 4,
    "start_time": "2022-10-29T18:14:22.835Z"
   },
   {
    "duration": 11,
    "start_time": "2022-10-29T18:14:22.840Z"
   },
   {
    "duration": 8,
    "start_time": "2022-10-29T18:14:22.853Z"
   },
   {
    "duration": 4,
    "start_time": "2022-10-29T18:14:22.862Z"
   },
   {
    "duration": 13,
    "start_time": "2022-10-29T18:14:22.868Z"
   },
   {
    "duration": 282,
    "start_time": "2022-10-29T18:14:22.883Z"
   },
   {
    "duration": 3,
    "start_time": "2022-10-29T18:14:23.166Z"
   },
   {
    "duration": 6,
    "start_time": "2022-10-29T18:14:23.170Z"
   },
   {
    "duration": 7,
    "start_time": "2022-10-29T18:14:23.177Z"
   },
   {
    "duration": 71,
    "start_time": "2022-10-29T18:15:06.765Z"
   },
   {
    "duration": 17,
    "start_time": "2022-10-29T18:15:06.838Z"
   },
   {
    "duration": 28,
    "start_time": "2022-10-29T18:15:06.857Z"
   },
   {
    "duration": 12,
    "start_time": "2022-10-29T18:15:06.887Z"
   },
   {
    "duration": 46,
    "start_time": "2022-10-29T18:15:06.901Z"
   },
   {
    "duration": 2,
    "start_time": "2022-10-29T18:15:06.949Z"
   },
   {
    "duration": 83,
    "start_time": "2022-10-29T18:15:06.953Z"
   },
   {
    "duration": 23,
    "start_time": "2022-10-29T18:15:07.038Z"
   },
   {
    "duration": 12,
    "start_time": "2022-10-29T18:15:07.063Z"
   },
   {
    "duration": 17,
    "start_time": "2022-10-29T18:15:07.077Z"
   },
   {
    "duration": 66,
    "start_time": "2022-10-29T18:15:07.095Z"
   },
   {
    "duration": 13,
    "start_time": "2022-10-29T18:15:07.163Z"
   },
   {
    "duration": 22,
    "start_time": "2022-10-29T18:15:07.178Z"
   },
   {
    "duration": 33,
    "start_time": "2022-10-29T18:15:07.203Z"
   },
   {
    "duration": 38,
    "start_time": "2022-10-29T18:15:07.238Z"
   },
   {
    "duration": 35,
    "start_time": "2022-10-29T18:15:07.278Z"
   },
   {
    "duration": 19,
    "start_time": "2022-10-29T18:15:07.315Z"
   },
   {
    "duration": 24,
    "start_time": "2022-10-29T18:15:07.337Z"
   },
   {
    "duration": 14,
    "start_time": "2022-10-29T18:15:07.364Z"
   },
   {
    "duration": 7,
    "start_time": "2022-10-29T18:15:07.381Z"
   },
   {
    "duration": 39,
    "start_time": "2022-10-29T18:15:07.390Z"
   },
   {
    "duration": 120,
    "start_time": "2022-10-29T18:15:07.431Z"
   },
   {
    "duration": 0,
    "start_time": "2022-10-29T18:15:07.553Z"
   },
   {
    "duration": 0,
    "start_time": "2022-10-29T18:15:07.554Z"
   },
   {
    "duration": 0,
    "start_time": "2022-10-29T18:15:07.556Z"
   },
   {
    "duration": 88,
    "start_time": "2022-10-29T18:15:51.092Z"
   },
   {
    "duration": 23,
    "start_time": "2022-10-29T18:15:51.182Z"
   },
   {
    "duration": 25,
    "start_time": "2022-10-29T18:15:51.208Z"
   },
   {
    "duration": 13,
    "start_time": "2022-10-29T18:15:51.235Z"
   },
   {
    "duration": 67,
    "start_time": "2022-10-29T18:15:51.251Z"
   },
   {
    "duration": 4,
    "start_time": "2022-10-29T18:15:51.320Z"
   },
   {
    "duration": 24,
    "start_time": "2022-10-29T18:15:51.326Z"
   },
   {
    "duration": 7,
    "start_time": "2022-10-29T18:15:51.352Z"
   },
   {
    "duration": 24,
    "start_time": "2022-10-29T18:15:51.361Z"
   },
   {
    "duration": 13,
    "start_time": "2022-10-29T18:15:51.388Z"
   },
   {
    "duration": 54,
    "start_time": "2022-10-29T18:15:51.404Z"
   },
   {
    "duration": 10,
    "start_time": "2022-10-29T18:15:51.460Z"
   },
   {
    "duration": 9,
    "start_time": "2022-10-29T18:15:51.472Z"
   },
   {
    "duration": 20,
    "start_time": "2022-10-29T18:15:51.483Z"
   },
   {
    "duration": 23,
    "start_time": "2022-10-29T18:15:51.505Z"
   },
   {
    "duration": 22,
    "start_time": "2022-10-29T18:15:51.529Z"
   },
   {
    "duration": 4,
    "start_time": "2022-10-29T18:15:51.553Z"
   },
   {
    "duration": 43,
    "start_time": "2022-10-29T18:15:51.559Z"
   },
   {
    "duration": 24,
    "start_time": "2022-10-29T18:15:51.603Z"
   },
   {
    "duration": 16,
    "start_time": "2022-10-29T18:15:51.628Z"
   },
   {
    "duration": 29,
    "start_time": "2022-10-29T18:15:51.645Z"
   },
   {
    "duration": 62,
    "start_time": "2022-10-29T18:15:51.677Z"
   },
   {
    "duration": 0,
    "start_time": "2022-10-29T18:15:51.741Z"
   },
   {
    "duration": 0,
    "start_time": "2022-10-29T18:15:51.742Z"
   },
   {
    "duration": 0,
    "start_time": "2022-10-29T18:15:51.744Z"
   },
   {
    "duration": 68,
    "start_time": "2022-10-29T18:16:00.834Z"
   },
   {
    "duration": 15,
    "start_time": "2022-10-29T18:16:00.904Z"
   },
   {
    "duration": 26,
    "start_time": "2022-10-29T18:16:00.921Z"
   },
   {
    "duration": 10,
    "start_time": "2022-10-29T18:16:00.949Z"
   },
   {
    "duration": 48,
    "start_time": "2022-10-29T18:16:00.961Z"
   },
   {
    "duration": 4,
    "start_time": "2022-10-29T18:16:01.011Z"
   },
   {
    "duration": 18,
    "start_time": "2022-10-29T18:16:01.017Z"
   },
   {
    "duration": 35,
    "start_time": "2022-10-29T18:16:01.036Z"
   },
   {
    "duration": 15,
    "start_time": "2022-10-29T18:16:01.073Z"
   },
   {
    "duration": 20,
    "start_time": "2022-10-29T18:16:01.091Z"
   },
   {
    "duration": 42,
    "start_time": "2022-10-29T18:16:01.113Z"
   },
   {
    "duration": 9,
    "start_time": "2022-10-29T18:16:01.157Z"
   },
   {
    "duration": 6,
    "start_time": "2022-10-29T18:16:01.167Z"
   },
   {
    "duration": 30,
    "start_time": "2022-10-29T18:16:01.175Z"
   },
   {
    "duration": 37,
    "start_time": "2022-10-29T18:16:01.207Z"
   },
   {
    "duration": 22,
    "start_time": "2022-10-29T18:16:01.246Z"
   },
   {
    "duration": 5,
    "start_time": "2022-10-29T18:16:01.270Z"
   },
   {
    "duration": 29,
    "start_time": "2022-10-29T18:16:01.276Z"
   },
   {
    "duration": 16,
    "start_time": "2022-10-29T18:16:01.307Z"
   },
   {
    "duration": 12,
    "start_time": "2022-10-29T18:16:01.325Z"
   },
   {
    "duration": 15,
    "start_time": "2022-10-29T18:16:01.339Z"
   },
   {
    "duration": 54,
    "start_time": "2022-10-29T18:16:01.358Z"
   },
   {
    "duration": 3,
    "start_time": "2022-10-29T18:16:01.414Z"
   },
   {
    "duration": 11,
    "start_time": "2022-10-29T18:16:01.419Z"
   },
   {
    "duration": 16,
    "start_time": "2022-10-29T18:16:01.432Z"
   },
   {
    "duration": 68,
    "start_time": "2022-10-29T18:16:22.002Z"
   },
   {
    "duration": 15,
    "start_time": "2022-10-29T18:16:22.071Z"
   },
   {
    "duration": 17,
    "start_time": "2022-10-29T18:16:22.088Z"
   },
   {
    "duration": 9,
    "start_time": "2022-10-29T18:16:22.107Z"
   },
   {
    "duration": 29,
    "start_time": "2022-10-29T18:16:22.118Z"
   },
   {
    "duration": 3,
    "start_time": "2022-10-29T18:16:22.149Z"
   },
   {
    "duration": 10,
    "start_time": "2022-10-29T18:16:22.154Z"
   },
   {
    "duration": 4,
    "start_time": "2022-10-29T18:16:22.166Z"
   },
   {
    "duration": 6,
    "start_time": "2022-10-29T18:16:22.205Z"
   },
   {
    "duration": 5,
    "start_time": "2022-10-29T18:16:22.213Z"
   },
   {
    "duration": 44,
    "start_time": "2022-10-29T18:16:22.220Z"
   },
   {
    "duration": 12,
    "start_time": "2022-10-29T18:16:22.266Z"
   },
   {
    "duration": 29,
    "start_time": "2022-10-29T18:16:22.279Z"
   },
   {
    "duration": 12,
    "start_time": "2022-10-29T18:16:22.309Z"
   },
   {
    "duration": 22,
    "start_time": "2022-10-29T18:16:22.322Z"
   },
   {
    "duration": 16,
    "start_time": "2022-10-29T18:16:22.346Z"
   },
   {
    "duration": 4,
    "start_time": "2022-10-29T18:16:22.364Z"
   },
   {
    "duration": 35,
    "start_time": "2022-10-29T18:16:22.370Z"
   },
   {
    "duration": 7,
    "start_time": "2022-10-29T18:16:22.407Z"
   },
   {
    "duration": 4,
    "start_time": "2022-10-29T18:16:22.416Z"
   },
   {
    "duration": 13,
    "start_time": "2022-10-29T18:16:22.421Z"
   },
   {
    "duration": 33,
    "start_time": "2022-10-29T18:16:22.436Z"
   },
   {
    "duration": 3,
    "start_time": "2022-10-29T18:16:22.471Z"
   },
   {
    "duration": 2,
    "start_time": "2022-10-29T18:16:22.506Z"
   },
   {
    "duration": 5,
    "start_time": "2022-10-29T18:16:22.510Z"
   },
   {
    "duration": 65,
    "start_time": "2022-10-29T18:16:42.280Z"
   },
   {
    "duration": 15,
    "start_time": "2022-10-29T18:16:42.347Z"
   },
   {
    "duration": 42,
    "start_time": "2022-10-29T18:16:42.364Z"
   },
   {
    "duration": 13,
    "start_time": "2022-10-29T18:16:42.409Z"
   },
   {
    "duration": 47,
    "start_time": "2022-10-29T18:16:42.424Z"
   },
   {
    "duration": 4,
    "start_time": "2022-10-29T18:16:42.473Z"
   },
   {
    "duration": 19,
    "start_time": "2022-10-29T18:16:42.478Z"
   },
   {
    "duration": 8,
    "start_time": "2022-10-29T18:16:42.499Z"
   },
   {
    "duration": 17,
    "start_time": "2022-10-29T18:16:42.508Z"
   },
   {
    "duration": 25,
    "start_time": "2022-10-29T18:16:42.527Z"
   },
   {
    "duration": 51,
    "start_time": "2022-10-29T18:16:42.554Z"
   },
   {
    "duration": 9,
    "start_time": "2022-10-29T18:16:42.607Z"
   },
   {
    "duration": 17,
    "start_time": "2022-10-29T18:16:42.618Z"
   },
   {
    "duration": 28,
    "start_time": "2022-10-29T18:16:42.637Z"
   },
   {
    "duration": 26,
    "start_time": "2022-10-29T18:16:42.667Z"
   },
   {
    "duration": 19,
    "start_time": "2022-10-29T18:16:42.695Z"
   },
   {
    "duration": 4,
    "start_time": "2022-10-29T18:16:42.716Z"
   },
   {
    "duration": 23,
    "start_time": "2022-10-29T18:16:42.722Z"
   },
   {
    "duration": 10,
    "start_time": "2022-10-29T18:16:42.747Z"
   },
   {
    "duration": 15,
    "start_time": "2022-10-29T18:16:42.759Z"
   },
   {
    "duration": 25,
    "start_time": "2022-10-29T18:16:42.776Z"
   },
   {
    "duration": 372,
    "start_time": "2022-10-29T18:16:42.803Z"
   },
   {
    "duration": 3,
    "start_time": "2022-10-29T18:16:43.177Z"
   },
   {
    "duration": 11,
    "start_time": "2022-10-29T18:16:43.181Z"
   },
   {
    "duration": 11,
    "start_time": "2022-10-29T18:16:43.194Z"
   },
   {
    "duration": 67,
    "start_time": "2022-10-29T18:20:00.110Z"
   },
   {
    "duration": 13,
    "start_time": "2022-10-29T18:20:00.179Z"
   },
   {
    "duration": 18,
    "start_time": "2022-10-29T18:20:00.194Z"
   },
   {
    "duration": 10,
    "start_time": "2022-10-29T18:20:00.214Z"
   },
   {
    "duration": 38,
    "start_time": "2022-10-29T18:20:00.225Z"
   },
   {
    "duration": 3,
    "start_time": "2022-10-29T18:20:00.265Z"
   },
   {
    "duration": 15,
    "start_time": "2022-10-29T18:20:00.270Z"
   },
   {
    "duration": 20,
    "start_time": "2022-10-29T18:20:00.287Z"
   },
   {
    "duration": 9,
    "start_time": "2022-10-29T18:20:00.308Z"
   },
   {
    "duration": 7,
    "start_time": "2022-10-29T18:20:00.319Z"
   },
   {
    "duration": 32,
    "start_time": "2022-10-29T18:20:00.327Z"
   },
   {
    "duration": 9,
    "start_time": "2022-10-29T18:20:00.361Z"
   },
   {
    "duration": 4,
    "start_time": "2022-10-29T18:20:00.372Z"
   },
   {
    "duration": 10,
    "start_time": "2022-10-29T18:20:00.406Z"
   },
   {
    "duration": 21,
    "start_time": "2022-10-29T18:20:00.418Z"
   },
   {
    "duration": 18,
    "start_time": "2022-10-29T18:20:00.441Z"
   },
   {
    "duration": 4,
    "start_time": "2022-10-29T18:20:00.460Z"
   },
   {
    "duration": 30,
    "start_time": "2022-10-29T18:20:00.465Z"
   },
   {
    "duration": 29,
    "start_time": "2022-10-29T18:20:00.497Z"
   },
   {
    "duration": 20,
    "start_time": "2022-10-29T18:20:00.528Z"
   },
   {
    "duration": 39,
    "start_time": "2022-10-29T18:20:00.549Z"
   },
   {
    "duration": 274,
    "start_time": "2022-10-29T18:20:00.589Z"
   },
   {
    "duration": 3,
    "start_time": "2022-10-29T18:20:00.864Z"
   },
   {
    "duration": 21,
    "start_time": "2022-10-29T18:20:00.869Z"
   },
   {
    "duration": 18,
    "start_time": "2022-10-29T18:20:00.892Z"
   },
   {
    "duration": 67,
    "start_time": "2022-10-29T18:20:45.189Z"
   },
   {
    "duration": 14,
    "start_time": "2022-10-29T18:20:45.257Z"
   },
   {
    "duration": 16,
    "start_time": "2022-10-29T18:20:45.273Z"
   },
   {
    "duration": 20,
    "start_time": "2022-10-29T18:20:45.291Z"
   },
   {
    "duration": 30,
    "start_time": "2022-10-29T18:20:45.312Z"
   },
   {
    "duration": 2,
    "start_time": "2022-10-29T18:20:45.344Z"
   },
   {
    "duration": 9,
    "start_time": "2022-10-29T18:20:45.348Z"
   },
   {
    "duration": 4,
    "start_time": "2022-10-29T18:20:45.358Z"
   },
   {
    "duration": 6,
    "start_time": "2022-10-29T18:20:45.363Z"
   },
   {
    "duration": 4,
    "start_time": "2022-10-29T18:20:45.371Z"
   },
   {
    "duration": 57,
    "start_time": "2022-10-29T18:20:45.376Z"
   },
   {
    "duration": 9,
    "start_time": "2022-10-29T18:20:45.434Z"
   },
   {
    "duration": 4,
    "start_time": "2022-10-29T18:20:45.444Z"
   },
   {
    "duration": 14,
    "start_time": "2022-10-29T18:20:45.449Z"
   },
   {
    "duration": 20,
    "start_time": "2022-10-29T18:20:45.464Z"
   },
   {
    "duration": 35,
    "start_time": "2022-10-29T18:20:45.486Z"
   },
   {
    "duration": 3,
    "start_time": "2022-10-29T18:20:45.522Z"
   },
   {
    "duration": 11,
    "start_time": "2022-10-29T18:20:45.526Z"
   },
   {
    "duration": 7,
    "start_time": "2022-10-29T18:20:45.538Z"
   },
   {
    "duration": 14,
    "start_time": "2022-10-29T18:20:45.546Z"
   },
   {
    "duration": 18,
    "start_time": "2022-10-29T18:20:45.562Z"
   },
   {
    "duration": 48,
    "start_time": "2022-10-29T18:20:45.581Z"
   },
   {
    "duration": 0,
    "start_time": "2022-10-29T18:20:45.630Z"
   },
   {
    "duration": 0,
    "start_time": "2022-10-29T18:20:45.631Z"
   },
   {
    "duration": 0,
    "start_time": "2022-10-29T18:20:45.632Z"
   },
   {
    "duration": 67,
    "start_time": "2022-10-29T18:20:58.141Z"
   },
   {
    "duration": 14,
    "start_time": "2022-10-29T18:20:58.210Z"
   },
   {
    "duration": 24,
    "start_time": "2022-10-29T18:20:58.226Z"
   },
   {
    "duration": 20,
    "start_time": "2022-10-29T18:20:58.253Z"
   },
   {
    "duration": 35,
    "start_time": "2022-10-29T18:20:58.274Z"
   },
   {
    "duration": 4,
    "start_time": "2022-10-29T18:20:58.310Z"
   },
   {
    "duration": 10,
    "start_time": "2022-10-29T18:20:58.315Z"
   },
   {
    "duration": 4,
    "start_time": "2022-10-29T18:20:58.326Z"
   },
   {
    "duration": 8,
    "start_time": "2022-10-29T18:20:58.332Z"
   },
   {
    "duration": 5,
    "start_time": "2022-10-29T18:20:58.343Z"
   },
   {
    "duration": 35,
    "start_time": "2022-10-29T18:20:58.349Z"
   },
   {
    "duration": 13,
    "start_time": "2022-10-29T18:20:58.404Z"
   },
   {
    "duration": 4,
    "start_time": "2022-10-29T18:20:58.419Z"
   },
   {
    "duration": 12,
    "start_time": "2022-10-29T18:20:58.425Z"
   },
   {
    "duration": 20,
    "start_time": "2022-10-29T18:20:58.439Z"
   },
   {
    "duration": 17,
    "start_time": "2022-10-29T18:20:58.461Z"
   },
   {
    "duration": 26,
    "start_time": "2022-10-29T18:20:58.479Z"
   },
   {
    "duration": 10,
    "start_time": "2022-10-29T18:20:58.507Z"
   },
   {
    "duration": 8,
    "start_time": "2022-10-29T18:20:58.518Z"
   },
   {
    "duration": 3,
    "start_time": "2022-10-29T18:20:58.528Z"
   },
   {
    "duration": 12,
    "start_time": "2022-10-29T18:20:58.532Z"
   },
   {
    "duration": 63,
    "start_time": "2022-10-29T18:20:58.546Z"
   },
   {
    "duration": 0,
    "start_time": "2022-10-29T18:20:58.611Z"
   },
   {
    "duration": 0,
    "start_time": "2022-10-29T18:20:58.612Z"
   },
   {
    "duration": 0,
    "start_time": "2022-10-29T18:20:58.613Z"
   },
   {
    "duration": 65,
    "start_time": "2022-10-29T18:21:09.449Z"
   },
   {
    "duration": 14,
    "start_time": "2022-10-29T18:21:09.516Z"
   },
   {
    "duration": 16,
    "start_time": "2022-10-29T18:21:09.531Z"
   },
   {
    "duration": 8,
    "start_time": "2022-10-29T18:21:09.549Z"
   },
   {
    "duration": 54,
    "start_time": "2022-10-29T18:21:09.559Z"
   },
   {
    "duration": 3,
    "start_time": "2022-10-29T18:21:09.614Z"
   },
   {
    "duration": 19,
    "start_time": "2022-10-29T18:21:09.619Z"
   },
   {
    "duration": 5,
    "start_time": "2022-10-29T18:21:09.639Z"
   },
   {
    "duration": 11,
    "start_time": "2022-10-29T18:21:09.645Z"
   },
   {
    "duration": 4,
    "start_time": "2022-10-29T18:21:09.658Z"
   },
   {
    "duration": 41,
    "start_time": "2022-10-29T18:21:09.664Z"
   },
   {
    "duration": 9,
    "start_time": "2022-10-29T18:21:09.707Z"
   },
   {
    "duration": 4,
    "start_time": "2022-10-29T18:21:09.717Z"
   },
   {
    "duration": 12,
    "start_time": "2022-10-29T18:21:09.722Z"
   },
   {
    "duration": 20,
    "start_time": "2022-10-29T18:21:09.736Z"
   },
   {
    "duration": 19,
    "start_time": "2022-10-29T18:21:09.758Z"
   },
   {
    "duration": 4,
    "start_time": "2022-10-29T18:21:09.804Z"
   },
   {
    "duration": 11,
    "start_time": "2022-10-29T18:21:09.810Z"
   },
   {
    "duration": 5,
    "start_time": "2022-10-29T18:21:09.823Z"
   },
   {
    "duration": 4,
    "start_time": "2022-10-29T18:21:09.830Z"
   },
   {
    "duration": 11,
    "start_time": "2022-10-29T18:21:09.835Z"
   },
   {
    "duration": 68,
    "start_time": "2022-10-29T18:21:11.253Z"
   },
   {
    "duration": 16,
    "start_time": "2022-10-29T18:21:11.323Z"
   },
   {
    "duration": 19,
    "start_time": "2022-10-29T18:21:11.340Z"
   },
   {
    "duration": 9,
    "start_time": "2022-10-29T18:21:11.361Z"
   },
   {
    "duration": 51,
    "start_time": "2022-10-29T18:21:11.371Z"
   },
   {
    "duration": 3,
    "start_time": "2022-10-29T18:21:11.424Z"
   },
   {
    "duration": 10,
    "start_time": "2022-10-29T18:21:11.428Z"
   },
   {
    "duration": 4,
    "start_time": "2022-10-29T18:21:11.439Z"
   },
   {
    "duration": 7,
    "start_time": "2022-10-29T18:21:11.445Z"
   },
   {
    "duration": 4,
    "start_time": "2022-10-29T18:21:11.454Z"
   },
   {
    "duration": 61,
    "start_time": "2022-10-29T18:21:11.460Z"
   },
   {
    "duration": 10,
    "start_time": "2022-10-29T18:21:11.522Z"
   },
   {
    "duration": 7,
    "start_time": "2022-10-29T18:21:11.534Z"
   },
   {
    "duration": 14,
    "start_time": "2022-10-29T18:21:11.543Z"
   },
   {
    "duration": 20,
    "start_time": "2022-10-29T18:21:11.559Z"
   },
   {
    "duration": 41,
    "start_time": "2022-10-29T18:21:11.580Z"
   },
   {
    "duration": 4,
    "start_time": "2022-10-29T18:21:11.623Z"
   },
   {
    "duration": 15,
    "start_time": "2022-10-29T18:21:11.628Z"
   },
   {
    "duration": 6,
    "start_time": "2022-10-29T18:21:11.645Z"
   },
   {
    "duration": 6,
    "start_time": "2022-10-29T18:21:11.652Z"
   },
   {
    "duration": 11,
    "start_time": "2022-10-29T18:21:11.660Z"
   },
   {
    "duration": 72,
    "start_time": "2022-10-29T18:21:11.673Z"
   },
   {
    "duration": 0,
    "start_time": "2022-10-29T18:21:11.747Z"
   },
   {
    "duration": 0,
    "start_time": "2022-10-29T18:21:11.748Z"
   },
   {
    "duration": 0,
    "start_time": "2022-10-29T18:21:11.749Z"
   },
   {
    "duration": 75,
    "start_time": "2022-10-29T18:21:34.045Z"
   },
   {
    "duration": 14,
    "start_time": "2022-10-29T18:21:34.122Z"
   },
   {
    "duration": 14,
    "start_time": "2022-10-29T18:21:34.138Z"
   },
   {
    "duration": 8,
    "start_time": "2022-10-29T18:21:34.154Z"
   },
   {
    "duration": 53,
    "start_time": "2022-10-29T18:21:34.164Z"
   },
   {
    "duration": 4,
    "start_time": "2022-10-29T18:21:34.218Z"
   },
   {
    "duration": 13,
    "start_time": "2022-10-29T18:21:34.223Z"
   },
   {
    "duration": 4,
    "start_time": "2022-10-29T18:21:34.238Z"
   },
   {
    "duration": 9,
    "start_time": "2022-10-29T18:21:34.244Z"
   },
   {
    "duration": 19,
    "start_time": "2022-10-29T18:21:34.256Z"
   },
   {
    "duration": 44,
    "start_time": "2022-10-29T18:21:34.276Z"
   },
   {
    "duration": 8,
    "start_time": "2022-10-29T18:21:34.322Z"
   },
   {
    "duration": 5,
    "start_time": "2022-10-29T18:21:34.331Z"
   },
   {
    "duration": 13,
    "start_time": "2022-10-29T18:21:34.337Z"
   },
   {
    "duration": 19,
    "start_time": "2022-10-29T18:21:34.351Z"
   },
   {
    "duration": 41,
    "start_time": "2022-10-29T18:21:34.372Z"
   },
   {
    "duration": 4,
    "start_time": "2022-10-29T18:21:34.414Z"
   },
   {
    "duration": 16,
    "start_time": "2022-10-29T18:21:34.419Z"
   },
   {
    "duration": 12,
    "start_time": "2022-10-29T18:21:34.436Z"
   },
   {
    "duration": 7,
    "start_time": "2022-10-29T18:21:34.450Z"
   },
   {
    "duration": 10,
    "start_time": "2022-10-29T18:21:34.459Z"
   },
   {
    "duration": 67,
    "start_time": "2022-10-29T18:21:35.857Z"
   },
   {
    "duration": 14,
    "start_time": "2022-10-29T18:21:35.926Z"
   },
   {
    "duration": 15,
    "start_time": "2022-10-29T18:21:35.942Z"
   },
   {
    "duration": 9,
    "start_time": "2022-10-29T18:21:35.959Z"
   },
   {
    "duration": 57,
    "start_time": "2022-10-29T18:21:35.969Z"
   },
   {
    "duration": 3,
    "start_time": "2022-10-29T18:21:36.028Z"
   },
   {
    "duration": 19,
    "start_time": "2022-10-29T18:21:36.033Z"
   },
   {
    "duration": 4,
    "start_time": "2022-10-29T18:21:36.054Z"
   },
   {
    "duration": 7,
    "start_time": "2022-10-29T18:21:36.060Z"
   },
   {
    "duration": 5,
    "start_time": "2022-10-29T18:21:36.070Z"
   },
   {
    "duration": 49,
    "start_time": "2022-10-29T18:21:36.076Z"
   },
   {
    "duration": 9,
    "start_time": "2022-10-29T18:21:36.126Z"
   },
   {
    "duration": 5,
    "start_time": "2022-10-29T18:21:36.136Z"
   },
   {
    "duration": 12,
    "start_time": "2022-10-29T18:21:36.143Z"
   },
   {
    "duration": 20,
    "start_time": "2022-10-29T18:21:36.156Z"
   },
   {
    "duration": 39,
    "start_time": "2022-10-29T18:21:36.177Z"
   },
   {
    "duration": 3,
    "start_time": "2022-10-29T18:21:36.218Z"
   },
   {
    "duration": 13,
    "start_time": "2022-10-29T18:21:36.223Z"
   },
   {
    "duration": 5,
    "start_time": "2022-10-29T18:21:36.238Z"
   },
   {
    "duration": 5,
    "start_time": "2022-10-29T18:21:36.245Z"
   },
   {
    "duration": 13,
    "start_time": "2022-10-29T18:21:36.251Z"
   },
   {
    "duration": 277,
    "start_time": "2022-10-29T18:21:36.266Z"
   },
   {
    "duration": 2,
    "start_time": "2022-10-29T18:21:36.545Z"
   },
   {
    "duration": 5,
    "start_time": "2022-10-29T18:21:36.549Z"
   },
   {
    "duration": 6,
    "start_time": "2022-10-29T18:21:36.555Z"
   },
   {
    "duration": 65,
    "start_time": "2022-10-29T18:56:39.174Z"
   },
   {
    "duration": 14,
    "start_time": "2022-10-29T18:56:39.241Z"
   },
   {
    "duration": 14,
    "start_time": "2022-10-29T18:56:39.256Z"
   },
   {
    "duration": 8,
    "start_time": "2022-10-29T18:56:39.271Z"
   },
   {
    "duration": 49,
    "start_time": "2022-10-29T18:56:39.280Z"
   },
   {
    "duration": 4,
    "start_time": "2022-10-29T18:56:39.330Z"
   },
   {
    "duration": 11,
    "start_time": "2022-10-29T18:56:39.335Z"
   },
   {
    "duration": 6,
    "start_time": "2022-10-29T18:56:39.347Z"
   },
   {
    "duration": 6,
    "start_time": "2022-10-29T18:56:39.354Z"
   },
   {
    "duration": 6,
    "start_time": "2022-10-29T18:56:39.362Z"
   },
   {
    "duration": 49,
    "start_time": "2022-10-29T18:56:39.369Z"
   },
   {
    "duration": 8,
    "start_time": "2022-10-29T18:56:39.420Z"
   },
   {
    "duration": 78,
    "start_time": "2022-10-29T18:56:39.429Z"
   },
   {
    "duration": 13,
    "start_time": "2022-10-29T18:56:39.508Z"
   },
   {
    "duration": 16,
    "start_time": "2022-10-29T18:56:39.523Z"
   },
   {
    "duration": 20,
    "start_time": "2022-10-29T18:56:39.540Z"
   },
   {
    "duration": 4,
    "start_time": "2022-10-29T18:56:39.561Z"
   },
   {
    "duration": 10,
    "start_time": "2022-10-29T18:56:39.566Z"
   },
   {
    "duration": 6,
    "start_time": "2022-10-29T18:56:39.578Z"
   },
   {
    "duration": 3,
    "start_time": "2022-10-29T18:56:39.606Z"
   },
   {
    "duration": 13,
    "start_time": "2022-10-29T18:56:39.611Z"
   },
   {
    "duration": 37,
    "start_time": "2022-10-29T18:56:39.625Z"
   },
   {
    "duration": 3,
    "start_time": "2022-10-29T18:56:39.663Z"
   },
   {
    "duration": 4,
    "start_time": "2022-10-29T18:56:39.668Z"
   },
   {
    "duration": 5,
    "start_time": "2022-10-29T18:56:39.674Z"
   },
   {
    "duration": 67,
    "start_time": "2022-10-29T18:57:04.524Z"
   },
   {
    "duration": 14,
    "start_time": "2022-10-29T18:57:04.592Z"
   },
   {
    "duration": 16,
    "start_time": "2022-10-29T18:57:04.608Z"
   },
   {
    "duration": 10,
    "start_time": "2022-10-29T18:57:04.626Z"
   },
   {
    "duration": 31,
    "start_time": "2022-10-29T18:57:04.638Z"
   },
   {
    "duration": 2,
    "start_time": "2022-10-29T18:57:04.671Z"
   },
   {
    "duration": 32,
    "start_time": "2022-10-29T18:57:04.675Z"
   },
   {
    "duration": 5,
    "start_time": "2022-10-29T18:57:04.709Z"
   },
   {
    "duration": 7,
    "start_time": "2022-10-29T18:57:04.715Z"
   },
   {
    "duration": 8,
    "start_time": "2022-10-29T18:57:04.724Z"
   },
   {
    "duration": 31,
    "start_time": "2022-10-29T18:57:04.733Z"
   },
   {
    "duration": 10,
    "start_time": "2022-10-29T18:57:04.765Z"
   },
   {
    "duration": 28,
    "start_time": "2022-10-29T18:57:04.777Z"
   },
   {
    "duration": 10,
    "start_time": "2022-10-29T18:57:04.807Z"
   },
   {
    "duration": 19,
    "start_time": "2022-10-29T18:57:04.819Z"
   },
   {
    "duration": 18,
    "start_time": "2022-10-29T18:57:04.840Z"
   },
   {
    "duration": 4,
    "start_time": "2022-10-29T18:57:04.859Z"
   },
   {
    "duration": 10,
    "start_time": "2022-10-29T18:57:04.864Z"
   },
   {
    "duration": 4,
    "start_time": "2022-10-29T18:57:04.876Z"
   },
   {
    "duration": 28,
    "start_time": "2022-10-29T18:57:04.881Z"
   },
   {
    "duration": 17,
    "start_time": "2022-10-29T18:57:04.911Z"
   },
   {
    "duration": 32,
    "start_time": "2022-10-29T18:57:04.930Z"
   },
   {
    "duration": 2,
    "start_time": "2022-10-29T18:57:04.964Z"
   },
   {
    "duration": 7,
    "start_time": "2022-10-29T18:57:04.969Z"
   },
   {
    "duration": 9,
    "start_time": "2022-10-29T18:57:04.977Z"
   },
   {
    "duration": 80,
    "start_time": "2022-10-29T18:58:01.051Z"
   },
   {
    "duration": 13,
    "start_time": "2022-10-29T18:58:01.133Z"
   },
   {
    "duration": 16,
    "start_time": "2022-10-29T18:58:01.147Z"
   },
   {
    "duration": 8,
    "start_time": "2022-10-29T18:58:01.165Z"
   },
   {
    "duration": 46,
    "start_time": "2022-10-29T18:58:01.175Z"
   },
   {
    "duration": 3,
    "start_time": "2022-10-29T18:58:01.222Z"
   },
   {
    "duration": 15,
    "start_time": "2022-10-29T18:58:01.227Z"
   },
   {
    "duration": 5,
    "start_time": "2022-10-29T18:58:01.244Z"
   },
   {
    "duration": 14,
    "start_time": "2022-10-29T18:58:01.251Z"
   },
   {
    "duration": 10,
    "start_time": "2022-10-29T18:58:01.267Z"
   },
   {
    "duration": 39,
    "start_time": "2022-10-29T18:58:01.278Z"
   },
   {
    "duration": 9,
    "start_time": "2022-10-29T18:58:01.319Z"
   },
   {
    "duration": 8,
    "start_time": "2022-10-29T18:58:01.330Z"
   },
   {
    "duration": 14,
    "start_time": "2022-10-29T18:58:01.340Z"
   },
   {
    "duration": 32,
    "start_time": "2022-10-29T18:58:01.356Z"
   },
   {
    "duration": 37,
    "start_time": "2022-10-29T18:58:01.390Z"
   },
   {
    "duration": 5,
    "start_time": "2022-10-29T18:58:01.428Z"
   },
   {
    "duration": 21,
    "start_time": "2022-10-29T18:58:01.435Z"
   },
   {
    "duration": 8,
    "start_time": "2022-10-29T18:58:01.458Z"
   },
   {
    "duration": 12,
    "start_time": "2022-10-29T18:58:01.468Z"
   },
   {
    "duration": 23,
    "start_time": "2022-10-29T18:58:01.482Z"
   },
   {
    "duration": 45,
    "start_time": "2022-10-29T18:58:01.507Z"
   },
   {
    "duration": 0,
    "start_time": "2022-10-29T18:58:01.553Z"
   },
   {
    "duration": 0,
    "start_time": "2022-10-29T18:58:01.555Z"
   },
   {
    "duration": 0,
    "start_time": "2022-10-29T18:58:01.556Z"
   },
   {
    "duration": 69,
    "start_time": "2022-10-29T18:58:10.273Z"
   },
   {
    "duration": 14,
    "start_time": "2022-10-29T18:58:10.343Z"
   },
   {
    "duration": 15,
    "start_time": "2022-10-29T18:58:10.359Z"
   },
   {
    "duration": 33,
    "start_time": "2022-10-29T18:58:10.375Z"
   },
   {
    "duration": 30,
    "start_time": "2022-10-29T18:58:10.410Z"
   },
   {
    "duration": 4,
    "start_time": "2022-10-29T18:58:10.442Z"
   },
   {
    "duration": 9,
    "start_time": "2022-10-29T18:58:10.447Z"
   },
   {
    "duration": 12,
    "start_time": "2022-10-29T18:58:10.457Z"
   },
   {
    "duration": 12,
    "start_time": "2022-10-29T18:58:10.471Z"
   },
   {
    "duration": 20,
    "start_time": "2022-10-29T18:58:10.487Z"
   },
   {
    "duration": 32,
    "start_time": "2022-10-29T18:58:10.509Z"
   },
   {
    "duration": 9,
    "start_time": "2022-10-29T18:58:10.542Z"
   },
   {
    "duration": 7,
    "start_time": "2022-10-29T18:58:10.552Z"
   },
   {
    "duration": 12,
    "start_time": "2022-10-29T18:58:10.560Z"
   },
   {
    "duration": 45,
    "start_time": "2022-10-29T18:58:10.573Z"
   },
   {
    "duration": 17,
    "start_time": "2022-10-29T18:58:10.620Z"
   },
   {
    "duration": 4,
    "start_time": "2022-10-29T18:58:10.639Z"
   },
   {
    "duration": 12,
    "start_time": "2022-10-29T18:58:10.644Z"
   },
   {
    "duration": 5,
    "start_time": "2022-10-29T18:58:10.658Z"
   },
   {
    "duration": 6,
    "start_time": "2022-10-29T18:58:10.664Z"
   },
   {
    "duration": 13,
    "start_time": "2022-10-29T18:58:10.671Z"
   },
   {
    "duration": 207,
    "start_time": "2022-10-29T18:58:10.686Z"
   },
   {
    "duration": 2,
    "start_time": "2022-10-29T18:58:10.895Z"
   },
   {
    "duration": 8,
    "start_time": "2022-10-29T18:58:10.898Z"
   },
   {
    "duration": 6,
    "start_time": "2022-10-29T18:58:10.907Z"
   },
   {
    "duration": 68,
    "start_time": "2022-10-29T18:58:29.082Z"
   },
   {
    "duration": 15,
    "start_time": "2022-10-29T18:58:29.152Z"
   },
   {
    "duration": 38,
    "start_time": "2022-10-29T18:58:29.168Z"
   },
   {
    "duration": 9,
    "start_time": "2022-10-29T18:58:29.208Z"
   },
   {
    "duration": 31,
    "start_time": "2022-10-29T18:58:29.218Z"
   },
   {
    "duration": 3,
    "start_time": "2022-10-29T18:58:29.250Z"
   },
   {
    "duration": 11,
    "start_time": "2022-10-29T18:58:29.255Z"
   },
   {
    "duration": 4,
    "start_time": "2022-10-29T18:58:29.267Z"
   },
   {
    "duration": 9,
    "start_time": "2022-10-29T18:58:29.272Z"
   },
   {
    "duration": 29,
    "start_time": "2022-10-29T18:58:29.283Z"
   },
   {
    "duration": 31,
    "start_time": "2022-10-29T18:58:29.314Z"
   },
   {
    "duration": 8,
    "start_time": "2022-10-29T18:58:29.347Z"
   },
   {
    "duration": 3,
    "start_time": "2022-10-29T18:58:29.356Z"
   },
   {
    "duration": 18,
    "start_time": "2022-10-29T18:58:29.361Z"
   },
   {
    "duration": 35,
    "start_time": "2022-10-29T18:58:29.381Z"
   },
   {
    "duration": 16,
    "start_time": "2022-10-29T18:58:29.417Z"
   },
   {
    "duration": 4,
    "start_time": "2022-10-29T18:58:29.434Z"
   },
   {
    "duration": 10,
    "start_time": "2022-10-29T18:58:29.439Z"
   },
   {
    "duration": 5,
    "start_time": "2022-10-29T18:58:29.451Z"
   },
   {
    "duration": 4,
    "start_time": "2022-10-29T18:58:29.457Z"
   },
   {
    "duration": 9,
    "start_time": "2022-10-29T18:58:29.462Z"
   },
   {
    "duration": 188,
    "start_time": "2022-10-29T18:58:29.472Z"
   },
   {
    "duration": 3,
    "start_time": "2022-10-29T18:58:29.661Z"
   },
   {
    "duration": 5,
    "start_time": "2022-10-29T18:58:29.665Z"
   },
   {
    "duration": 6,
    "start_time": "2022-10-29T18:58:29.672Z"
   },
   {
    "duration": 82,
    "start_time": "2022-10-29T18:59:45.385Z"
   },
   {
    "duration": 13,
    "start_time": "2022-10-29T18:59:45.469Z"
   },
   {
    "duration": 16,
    "start_time": "2022-10-29T18:59:45.484Z"
   },
   {
    "duration": 10,
    "start_time": "2022-10-29T18:59:45.502Z"
   },
   {
    "duration": 29,
    "start_time": "2022-10-29T18:59:45.514Z"
   },
   {
    "duration": 3,
    "start_time": "2022-10-29T18:59:45.544Z"
   },
   {
    "duration": 10,
    "start_time": "2022-10-29T18:59:45.549Z"
   },
   {
    "duration": 3,
    "start_time": "2022-10-29T18:59:45.560Z"
   },
   {
    "duration": 12,
    "start_time": "2022-10-29T18:59:45.565Z"
   },
   {
    "duration": 7,
    "start_time": "2022-10-29T18:59:45.579Z"
   },
   {
    "duration": 43,
    "start_time": "2022-10-29T18:59:45.587Z"
   },
   {
    "duration": 8,
    "start_time": "2022-10-29T18:59:45.631Z"
   },
   {
    "duration": 6,
    "start_time": "2022-10-29T18:59:45.641Z"
   },
   {
    "duration": 14,
    "start_time": "2022-10-29T18:59:45.648Z"
   },
   {
    "duration": 17,
    "start_time": "2022-10-29T18:59:45.663Z"
   },
   {
    "duration": 28,
    "start_time": "2022-10-29T18:59:45.682Z"
   },
   {
    "duration": 3,
    "start_time": "2022-10-29T18:59:45.712Z"
   },
   {
    "duration": 10,
    "start_time": "2022-10-29T18:59:45.716Z"
   },
   {
    "duration": 5,
    "start_time": "2022-10-29T18:59:45.727Z"
   },
   {
    "duration": 3,
    "start_time": "2022-10-29T18:59:45.733Z"
   },
   {
    "duration": 12,
    "start_time": "2022-10-29T18:59:45.737Z"
   },
   {
    "duration": 159,
    "start_time": "2022-10-29T18:59:45.750Z"
   },
   {
    "duration": 2,
    "start_time": "2022-10-29T18:59:45.910Z"
   },
   {
    "duration": 7,
    "start_time": "2022-10-29T18:59:45.914Z"
   },
   {
    "duration": 6,
    "start_time": "2022-10-29T18:59:45.922Z"
   },
   {
    "duration": 66,
    "start_time": "2022-10-29T19:02:36.109Z"
   },
   {
    "duration": 14,
    "start_time": "2022-10-29T19:02:36.177Z"
   },
   {
    "duration": 18,
    "start_time": "2022-10-29T19:02:36.193Z"
   },
   {
    "duration": 8,
    "start_time": "2022-10-29T19:02:36.213Z"
   },
   {
    "duration": 29,
    "start_time": "2022-10-29T19:02:36.222Z"
   },
   {
    "duration": 3,
    "start_time": "2022-10-29T19:02:36.253Z"
   },
   {
    "duration": 16,
    "start_time": "2022-10-29T19:02:36.258Z"
   },
   {
    "duration": 5,
    "start_time": "2022-10-29T19:02:36.276Z"
   },
   {
    "duration": 29,
    "start_time": "2022-10-29T19:02:36.282Z"
   },
   {
    "duration": 5,
    "start_time": "2022-10-29T19:02:36.314Z"
   },
   {
    "duration": 35,
    "start_time": "2022-10-29T19:02:36.320Z"
   },
   {
    "duration": 10,
    "start_time": "2022-10-29T19:02:36.357Z"
   },
   {
    "duration": 4,
    "start_time": "2022-10-29T19:02:36.368Z"
   },
   {
    "duration": 36,
    "start_time": "2022-10-29T19:02:36.373Z"
   },
   {
    "duration": 17,
    "start_time": "2022-10-29T19:02:36.410Z"
   },
   {
    "duration": 16,
    "start_time": "2022-10-29T19:02:36.428Z"
   },
   {
    "duration": 3,
    "start_time": "2022-10-29T19:02:36.446Z"
   },
   {
    "duration": 9,
    "start_time": "2022-10-29T19:02:36.451Z"
   },
   {
    "duration": 5,
    "start_time": "2022-10-29T19:02:36.462Z"
   },
   {
    "duration": 3,
    "start_time": "2022-10-29T19:02:36.469Z"
   },
   {
    "duration": 38,
    "start_time": "2022-10-29T19:02:36.473Z"
   },
   {
    "duration": 279,
    "start_time": "2022-10-29T19:02:36.513Z"
   },
   {
    "duration": 2,
    "start_time": "2022-10-29T19:02:36.794Z"
   },
   {
    "duration": 11,
    "start_time": "2022-10-29T19:02:36.797Z"
   },
   {
    "duration": 4,
    "start_time": "2022-10-29T19:02:36.810Z"
   },
   {
    "duration": 66,
    "start_time": "2022-10-29T19:02:58.886Z"
   },
   {
    "duration": 14,
    "start_time": "2022-10-29T19:02:58.954Z"
   },
   {
    "duration": 15,
    "start_time": "2022-10-29T19:02:58.969Z"
   },
   {
    "duration": 20,
    "start_time": "2022-10-29T19:02:58.986Z"
   },
   {
    "duration": 39,
    "start_time": "2022-10-29T19:02:59.007Z"
   },
   {
    "duration": 3,
    "start_time": "2022-10-29T19:02:59.047Z"
   },
   {
    "duration": 9,
    "start_time": "2022-10-29T19:02:59.052Z"
   },
   {
    "duration": 3,
    "start_time": "2022-10-29T19:02:59.063Z"
   },
   {
    "duration": 6,
    "start_time": "2022-10-29T19:02:59.067Z"
   },
   {
    "duration": 5,
    "start_time": "2022-10-29T19:02:59.075Z"
   },
   {
    "duration": 51,
    "start_time": "2022-10-29T19:02:59.081Z"
   },
   {
    "duration": 9,
    "start_time": "2022-10-29T19:02:59.133Z"
   },
   {
    "duration": 5,
    "start_time": "2022-10-29T19:02:59.143Z"
   },
   {
    "duration": 11,
    "start_time": "2022-10-29T19:02:59.150Z"
   },
   {
    "duration": 17,
    "start_time": "2022-10-29T19:02:59.163Z"
   },
   {
    "duration": 32,
    "start_time": "2022-10-29T19:02:59.182Z"
   },
   {
    "duration": 3,
    "start_time": "2022-10-29T19:02:59.215Z"
   },
   {
    "duration": 12,
    "start_time": "2022-10-29T19:02:59.220Z"
   },
   {
    "duration": 6,
    "start_time": "2022-10-29T19:02:59.233Z"
   },
   {
    "duration": 3,
    "start_time": "2022-10-29T19:02:59.240Z"
   },
   {
    "duration": 15,
    "start_time": "2022-10-29T19:02:59.244Z"
   },
   {
    "duration": 310,
    "start_time": "2022-10-29T19:02:59.260Z"
   },
   {
    "duration": 2,
    "start_time": "2022-10-29T19:02:59.571Z"
   },
   {
    "duration": 9,
    "start_time": "2022-10-29T19:02:59.575Z"
   },
   {
    "duration": 8,
    "start_time": "2022-10-29T19:02:59.585Z"
   },
   {
    "duration": 72,
    "start_time": "2022-10-29T19:03:31.919Z"
   },
   {
    "duration": 14,
    "start_time": "2022-10-29T19:03:31.993Z"
   },
   {
    "duration": 15,
    "start_time": "2022-10-29T19:03:32.009Z"
   },
   {
    "duration": 8,
    "start_time": "2022-10-29T19:03:32.025Z"
   },
   {
    "duration": 30,
    "start_time": "2022-10-29T19:03:32.034Z"
   },
   {
    "duration": 3,
    "start_time": "2022-10-29T19:03:32.065Z"
   },
   {
    "duration": 12,
    "start_time": "2022-10-29T19:03:32.070Z"
   },
   {
    "duration": 6,
    "start_time": "2022-10-29T19:03:32.105Z"
   },
   {
    "duration": 6,
    "start_time": "2022-10-29T19:03:32.112Z"
   },
   {
    "duration": 5,
    "start_time": "2022-10-29T19:03:32.121Z"
   },
   {
    "duration": 30,
    "start_time": "2022-10-29T19:03:32.128Z"
   },
   {
    "duration": 10,
    "start_time": "2022-10-29T19:03:32.159Z"
   },
   {
    "duration": 3,
    "start_time": "2022-10-29T19:03:32.171Z"
   },
   {
    "duration": 11,
    "start_time": "2022-10-29T19:03:32.205Z"
   },
   {
    "duration": 23,
    "start_time": "2022-10-29T19:03:32.218Z"
   },
   {
    "duration": 18,
    "start_time": "2022-10-29T19:03:32.242Z"
   },
   {
    "duration": 3,
    "start_time": "2022-10-29T19:03:32.261Z"
   },
   {
    "duration": 11,
    "start_time": "2022-10-29T19:03:32.266Z"
   },
   {
    "duration": 28,
    "start_time": "2022-10-29T19:03:32.278Z"
   },
   {
    "duration": 3,
    "start_time": "2022-10-29T19:03:32.308Z"
   },
   {
    "duration": 12,
    "start_time": "2022-10-29T19:03:32.312Z"
   },
   {
    "duration": 293,
    "start_time": "2022-10-29T19:03:32.326Z"
   },
   {
    "duration": 2,
    "start_time": "2022-10-29T19:03:32.620Z"
   },
   {
    "duration": 6,
    "start_time": "2022-10-29T19:03:32.623Z"
   },
   {
    "duration": 8,
    "start_time": "2022-10-29T19:03:32.630Z"
   },
   {
    "duration": 67,
    "start_time": "2022-10-29T19:05:19.547Z"
   },
   {
    "duration": 14,
    "start_time": "2022-10-29T19:05:19.616Z"
   },
   {
    "duration": 17,
    "start_time": "2022-10-29T19:05:19.631Z"
   },
   {
    "duration": 9,
    "start_time": "2022-10-29T19:05:19.650Z"
   },
   {
    "duration": 32,
    "start_time": "2022-10-29T19:05:19.661Z"
   },
   {
    "duration": 3,
    "start_time": "2022-10-29T19:05:19.705Z"
   },
   {
    "duration": 17,
    "start_time": "2022-10-29T19:05:19.709Z"
   },
   {
    "duration": 5,
    "start_time": "2022-10-29T19:05:19.728Z"
   },
   {
    "duration": 9,
    "start_time": "2022-10-29T19:05:19.734Z"
   },
   {
    "duration": 5,
    "start_time": "2022-10-29T19:05:19.746Z"
   },
   {
    "duration": 31,
    "start_time": "2022-10-29T19:05:19.752Z"
   },
   {
    "duration": 21,
    "start_time": "2022-10-29T19:05:19.785Z"
   },
   {
    "duration": 4,
    "start_time": "2022-10-29T19:05:19.807Z"
   },
   {
    "duration": 13,
    "start_time": "2022-10-29T19:05:19.812Z"
   },
   {
    "duration": 23,
    "start_time": "2022-10-29T19:05:19.827Z"
   },
   {
    "duration": 16,
    "start_time": "2022-10-29T19:05:19.852Z"
   },
   {
    "duration": 4,
    "start_time": "2022-10-29T19:05:19.869Z"
   },
   {
    "duration": 32,
    "start_time": "2022-10-29T19:05:19.874Z"
   },
   {
    "duration": 6,
    "start_time": "2022-10-29T19:05:19.907Z"
   },
   {
    "duration": 6,
    "start_time": "2022-10-29T19:05:19.914Z"
   },
   {
    "duration": 13,
    "start_time": "2022-10-29T19:05:19.922Z"
   },
   {
    "duration": 279,
    "start_time": "2022-10-29T19:05:19.936Z"
   },
   {
    "duration": 3,
    "start_time": "2022-10-29T19:05:20.217Z"
   },
   {
    "duration": 9,
    "start_time": "2022-10-29T19:05:20.221Z"
   },
   {
    "duration": 8,
    "start_time": "2022-10-29T19:05:20.231Z"
   },
   {
    "duration": 66,
    "start_time": "2022-10-29T19:05:46.771Z"
   },
   {
    "duration": 15,
    "start_time": "2022-10-29T19:05:46.839Z"
   },
   {
    "duration": 18,
    "start_time": "2022-10-29T19:05:46.856Z"
   },
   {
    "duration": 8,
    "start_time": "2022-10-29T19:05:46.876Z"
   },
   {
    "duration": 43,
    "start_time": "2022-10-29T19:05:46.886Z"
   },
   {
    "duration": 3,
    "start_time": "2022-10-29T19:05:46.931Z"
   },
   {
    "duration": 9,
    "start_time": "2022-10-29T19:05:46.935Z"
   },
   {
    "duration": 5,
    "start_time": "2022-10-29T19:05:46.945Z"
   },
   {
    "duration": 6,
    "start_time": "2022-10-29T19:05:46.951Z"
   },
   {
    "duration": 5,
    "start_time": "2022-10-29T19:05:46.958Z"
   },
   {
    "duration": 55,
    "start_time": "2022-10-29T19:05:46.964Z"
   },
   {
    "duration": 12,
    "start_time": "2022-10-29T19:05:47.021Z"
   },
   {
    "duration": 10,
    "start_time": "2022-10-29T19:05:47.034Z"
   },
   {
    "duration": 11,
    "start_time": "2022-10-29T19:05:47.047Z"
   },
   {
    "duration": 118,
    "start_time": "2022-10-29T19:05:47.060Z"
   },
   {
    "duration": 25,
    "start_time": "2022-10-29T19:05:47.180Z"
   },
   {
    "duration": 3,
    "start_time": "2022-10-29T19:05:47.207Z"
   },
   {
    "duration": 12,
    "start_time": "2022-10-29T19:05:47.211Z"
   },
   {
    "duration": 15,
    "start_time": "2022-10-29T19:05:47.224Z"
   },
   {
    "duration": 3,
    "start_time": "2022-10-29T19:05:47.241Z"
   },
   {
    "duration": 21,
    "start_time": "2022-10-29T19:05:47.245Z"
   },
   {
    "duration": 330,
    "start_time": "2022-10-29T19:05:47.267Z"
   },
   {
    "duration": 6,
    "start_time": "2022-10-29T19:05:47.599Z"
   },
   {
    "duration": 5,
    "start_time": "2022-10-29T19:05:47.607Z"
   },
   {
    "duration": 5,
    "start_time": "2022-10-29T19:05:47.613Z"
   },
   {
    "duration": 66,
    "start_time": "2022-10-29T19:11:22.128Z"
   },
   {
    "duration": 13,
    "start_time": "2022-10-29T19:11:22.196Z"
   },
   {
    "duration": 15,
    "start_time": "2022-10-29T19:11:22.211Z"
   },
   {
    "duration": 8,
    "start_time": "2022-10-29T19:11:22.228Z"
   },
   {
    "duration": 31,
    "start_time": "2022-10-29T19:11:22.237Z"
   },
   {
    "duration": 4,
    "start_time": "2022-10-29T19:11:22.269Z"
   },
   {
    "duration": 34,
    "start_time": "2022-10-29T19:11:22.275Z"
   },
   {
    "duration": 4,
    "start_time": "2022-10-29T19:11:22.311Z"
   },
   {
    "duration": 6,
    "start_time": "2022-10-29T19:11:22.317Z"
   },
   {
    "duration": 4,
    "start_time": "2022-10-29T19:11:22.325Z"
   },
   {
    "duration": 32,
    "start_time": "2022-10-29T19:11:22.330Z"
   },
   {
    "duration": 8,
    "start_time": "2022-10-29T19:11:22.363Z"
   },
   {
    "duration": 4,
    "start_time": "2022-10-29T19:11:22.372Z"
   },
   {
    "duration": 36,
    "start_time": "2022-10-29T19:11:22.377Z"
   },
   {
    "duration": 19,
    "start_time": "2022-10-29T19:11:22.415Z"
   },
   {
    "duration": 16,
    "start_time": "2022-10-29T19:11:22.435Z"
   },
   {
    "duration": 4,
    "start_time": "2022-10-29T19:11:22.452Z"
   },
   {
    "duration": 11,
    "start_time": "2022-10-29T19:11:22.457Z"
   },
   {
    "duration": 5,
    "start_time": "2022-10-29T19:11:22.469Z"
   },
   {
    "duration": 4,
    "start_time": "2022-10-29T19:11:22.476Z"
   },
   {
    "duration": 7,
    "start_time": "2022-10-29T19:11:22.506Z"
   },
   {
    "duration": 67,
    "start_time": "2022-10-29T19:11:22.515Z"
   },
   {
    "duration": 0,
    "start_time": "2022-10-29T19:11:22.583Z"
   },
   {
    "duration": 0,
    "start_time": "2022-10-29T19:11:22.585Z"
   },
   {
    "duration": 0,
    "start_time": "2022-10-29T19:11:22.586Z"
   },
   {
    "duration": 66,
    "start_time": "2022-10-29T19:13:50.695Z"
   },
   {
    "duration": 13,
    "start_time": "2022-10-29T19:13:50.763Z"
   },
   {
    "duration": 18,
    "start_time": "2022-10-29T19:13:50.778Z"
   },
   {
    "duration": 10,
    "start_time": "2022-10-29T19:13:50.798Z"
   },
   {
    "duration": 37,
    "start_time": "2022-10-29T19:13:50.809Z"
   },
   {
    "duration": 3,
    "start_time": "2022-10-29T19:13:50.847Z"
   },
   {
    "duration": 19,
    "start_time": "2022-10-29T19:13:50.851Z"
   },
   {
    "duration": 8,
    "start_time": "2022-10-29T19:13:50.872Z"
   },
   {
    "duration": 11,
    "start_time": "2022-10-29T19:13:50.882Z"
   },
   {
    "duration": 9,
    "start_time": "2022-10-29T19:13:50.895Z"
   },
   {
    "duration": 55,
    "start_time": "2022-10-29T19:13:50.905Z"
   },
   {
    "duration": 9,
    "start_time": "2022-10-29T19:13:50.961Z"
   },
   {
    "duration": 10,
    "start_time": "2022-10-29T19:13:50.971Z"
   },
   {
    "duration": 19,
    "start_time": "2022-10-29T19:13:50.983Z"
   },
   {
    "duration": 51,
    "start_time": "2022-10-29T19:13:51.003Z"
   },
   {
    "duration": 16,
    "start_time": "2022-10-29T19:13:51.056Z"
   },
   {
    "duration": 3,
    "start_time": "2022-10-29T19:13:51.074Z"
   },
   {
    "duration": 20,
    "start_time": "2022-10-29T19:13:51.079Z"
   },
   {
    "duration": 17,
    "start_time": "2022-10-29T19:13:51.101Z"
   },
   {
    "duration": 16,
    "start_time": "2022-10-29T19:13:51.120Z"
   },
   {
    "duration": 14,
    "start_time": "2022-10-29T19:13:51.137Z"
   },
   {
    "duration": 70,
    "start_time": "2022-10-29T19:13:51.153Z"
   },
   {
    "duration": 0,
    "start_time": "2022-10-29T19:13:51.225Z"
   },
   {
    "duration": 0,
    "start_time": "2022-10-29T19:13:51.226Z"
   },
   {
    "duration": 0,
    "start_time": "2022-10-29T19:13:51.227Z"
   },
   {
    "duration": 64,
    "start_time": "2022-10-29T19:14:10.386Z"
   },
   {
    "duration": 13,
    "start_time": "2022-10-29T19:14:10.452Z"
   },
   {
    "duration": 14,
    "start_time": "2022-10-29T19:14:10.467Z"
   },
   {
    "duration": 22,
    "start_time": "2022-10-29T19:14:10.484Z"
   },
   {
    "duration": 30,
    "start_time": "2022-10-29T19:14:10.507Z"
   },
   {
    "duration": 3,
    "start_time": "2022-10-29T19:14:10.538Z"
   },
   {
    "duration": 9,
    "start_time": "2022-10-29T19:14:10.543Z"
   },
   {
    "duration": 4,
    "start_time": "2022-10-29T19:14:10.554Z"
   },
   {
    "duration": 7,
    "start_time": "2022-10-29T19:14:10.559Z"
   },
   {
    "duration": 4,
    "start_time": "2022-10-29T19:14:10.568Z"
   },
   {
    "duration": 62,
    "start_time": "2022-10-29T19:14:10.574Z"
   },
   {
    "duration": 9,
    "start_time": "2022-10-29T19:14:10.637Z"
   },
   {
    "duration": 3,
    "start_time": "2022-10-29T19:14:10.648Z"
   },
   {
    "duration": 11,
    "start_time": "2022-10-29T19:14:10.653Z"
   },
   {
    "duration": 40,
    "start_time": "2022-10-29T19:14:10.666Z"
   },
   {
    "duration": 17,
    "start_time": "2022-10-29T19:14:10.708Z"
   },
   {
    "duration": 3,
    "start_time": "2022-10-29T19:14:10.726Z"
   },
   {
    "duration": 10,
    "start_time": "2022-10-29T19:14:10.731Z"
   },
   {
    "duration": 7,
    "start_time": "2022-10-29T19:14:10.742Z"
   },
   {
    "duration": 3,
    "start_time": "2022-10-29T19:14:10.750Z"
   },
   {
    "duration": 9,
    "start_time": "2022-10-29T19:14:10.755Z"
   },
   {
    "duration": 317,
    "start_time": "2022-10-29T19:14:10.765Z"
   },
   {
    "duration": 2,
    "start_time": "2022-10-29T19:14:11.083Z"
   },
   {
    "duration": 5,
    "start_time": "2022-10-29T19:14:11.087Z"
   },
   {
    "duration": 12,
    "start_time": "2022-10-29T19:14:11.093Z"
   },
   {
    "duration": 281,
    "start_time": "2022-10-29T19:20:29.414Z"
   },
   {
    "duration": 305,
    "start_time": "2022-10-29T19:27:12.765Z"
   },
   {
    "duration": 67,
    "start_time": "2022-10-29T19:51:52.231Z"
   },
   {
    "duration": 14,
    "start_time": "2022-10-29T19:51:52.300Z"
   },
   {
    "duration": 14,
    "start_time": "2022-10-29T19:51:52.316Z"
   },
   {
    "duration": 9,
    "start_time": "2022-10-29T19:51:52.332Z"
   },
   {
    "duration": 31,
    "start_time": "2022-10-29T19:51:52.342Z"
   },
   {
    "duration": 4,
    "start_time": "2022-10-29T19:51:52.374Z"
   },
   {
    "duration": 7,
    "start_time": "2022-10-29T19:51:52.406Z"
   },
   {
    "duration": 8,
    "start_time": "2022-10-29T19:51:52.414Z"
   },
   {
    "duration": 10,
    "start_time": "2022-10-29T19:51:52.423Z"
   },
   {
    "duration": 9,
    "start_time": "2022-10-29T19:51:52.436Z"
   },
   {
    "duration": 33,
    "start_time": "2022-10-29T19:51:52.447Z"
   },
   {
    "duration": 26,
    "start_time": "2022-10-29T19:51:52.482Z"
   },
   {
    "duration": 3,
    "start_time": "2022-10-29T19:51:52.510Z"
   },
   {
    "duration": 13,
    "start_time": "2022-10-29T19:51:52.514Z"
   },
   {
    "duration": 18,
    "start_time": "2022-10-29T19:51:52.529Z"
   },
   {
    "duration": 16,
    "start_time": "2022-10-29T19:51:52.548Z"
   },
   {
    "duration": 4,
    "start_time": "2022-10-29T19:51:52.565Z"
   },
   {
    "duration": 39,
    "start_time": "2022-10-29T19:51:52.570Z"
   },
   {
    "duration": 7,
    "start_time": "2022-10-29T19:51:52.611Z"
   },
   {
    "duration": 3,
    "start_time": "2022-10-29T19:51:52.620Z"
   },
   {
    "duration": 14,
    "start_time": "2022-10-29T19:51:52.624Z"
   },
   {
    "duration": 295,
    "start_time": "2022-10-29T19:51:52.639Z"
   },
   {
    "duration": 2,
    "start_time": "2022-10-29T19:51:52.936Z"
   },
   {
    "duration": 8,
    "start_time": "2022-10-29T19:51:52.939Z"
   },
   {
    "duration": 4,
    "start_time": "2022-10-29T19:51:52.949Z"
   },
   {
    "duration": 68,
    "start_time": "2022-10-29T20:04:50.693Z"
   },
   {
    "duration": 16,
    "start_time": "2022-10-29T20:04:50.763Z"
   },
   {
    "duration": 17,
    "start_time": "2022-10-29T20:04:50.781Z"
   },
   {
    "duration": 9,
    "start_time": "2022-10-29T20:04:50.805Z"
   },
   {
    "duration": 75,
    "start_time": "2022-10-29T20:04:50.815Z"
   },
   {
    "duration": 3,
    "start_time": "2022-10-29T20:04:50.892Z"
   },
   {
    "duration": 12,
    "start_time": "2022-10-29T20:04:50.897Z"
   },
   {
    "duration": 5,
    "start_time": "2022-10-29T20:04:50.911Z"
   },
   {
    "duration": 9,
    "start_time": "2022-10-29T20:04:50.918Z"
   },
   {
    "duration": 8,
    "start_time": "2022-10-29T20:04:50.929Z"
   },
   {
    "duration": 29,
    "start_time": "2022-10-29T20:04:50.939Z"
   },
   {
    "duration": 8,
    "start_time": "2022-10-29T20:04:50.969Z"
   },
   {
    "duration": 4,
    "start_time": "2022-10-29T20:04:50.979Z"
   },
   {
    "duration": 28,
    "start_time": "2022-10-29T20:04:50.984Z"
   },
   {
    "duration": 16,
    "start_time": "2022-10-29T20:04:51.014Z"
   },
   {
    "duration": 17,
    "start_time": "2022-10-29T20:04:51.032Z"
   },
   {
    "duration": 3,
    "start_time": "2022-10-29T20:04:51.050Z"
   },
   {
    "duration": 14,
    "start_time": "2022-10-29T20:04:51.055Z"
   },
   {
    "duration": 8,
    "start_time": "2022-10-29T20:04:51.070Z"
   },
   {
    "duration": 3,
    "start_time": "2022-10-29T20:04:51.079Z"
   },
   {
    "duration": 8,
    "start_time": "2022-10-29T20:04:51.106Z"
   },
   {
    "duration": 311,
    "start_time": "2022-10-29T20:04:51.115Z"
   },
   {
    "duration": 3,
    "start_time": "2022-10-29T20:04:51.427Z"
   },
   {
    "duration": 8,
    "start_time": "2022-10-29T20:04:51.431Z"
   },
   {
    "duration": 4,
    "start_time": "2022-10-29T20:04:51.441Z"
   },
   {
    "duration": 69,
    "start_time": "2022-10-29T20:05:00.863Z"
   },
   {
    "duration": 14,
    "start_time": "2022-10-29T20:05:00.934Z"
   },
   {
    "duration": 35,
    "start_time": "2022-10-29T20:05:00.950Z"
   },
   {
    "duration": 12,
    "start_time": "2022-10-29T20:05:00.987Z"
   },
   {
    "duration": 30,
    "start_time": "2022-10-29T20:05:01.005Z"
   },
   {
    "duration": 4,
    "start_time": "2022-10-29T20:05:01.036Z"
   },
   {
    "duration": 10,
    "start_time": "2022-10-29T20:05:01.041Z"
   },
   {
    "duration": 4,
    "start_time": "2022-10-29T20:05:01.053Z"
   },
   {
    "duration": 18,
    "start_time": "2022-10-29T20:05:01.059Z"
   },
   {
    "duration": 18,
    "start_time": "2022-10-29T20:05:01.079Z"
   },
   {
    "duration": 43,
    "start_time": "2022-10-29T20:05:01.098Z"
   },
   {
    "duration": 9,
    "start_time": "2022-10-29T20:05:01.142Z"
   },
   {
    "duration": 3,
    "start_time": "2022-10-29T20:05:01.153Z"
   },
   {
    "duration": 25,
    "start_time": "2022-10-29T20:05:01.157Z"
   },
   {
    "duration": 30,
    "start_time": "2022-10-29T20:05:01.184Z"
   },
   {
    "duration": 19,
    "start_time": "2022-10-29T20:05:01.215Z"
   },
   {
    "duration": 3,
    "start_time": "2022-10-29T20:05:01.235Z"
   },
   {
    "duration": 24,
    "start_time": "2022-10-29T20:05:01.239Z"
   },
   {
    "duration": 5,
    "start_time": "2022-10-29T20:05:01.264Z"
   },
   {
    "duration": 6,
    "start_time": "2022-10-29T20:05:01.270Z"
   },
   {
    "duration": 20,
    "start_time": "2022-10-29T20:05:01.277Z"
   },
   {
    "duration": 273,
    "start_time": "2022-10-29T20:05:01.298Z"
   },
   {
    "duration": 3,
    "start_time": "2022-10-29T20:05:01.572Z"
   },
   {
    "duration": 15,
    "start_time": "2022-10-29T20:05:01.576Z"
   },
   {
    "duration": 14,
    "start_time": "2022-10-29T20:05:01.592Z"
   },
   {
    "duration": 69,
    "start_time": "2022-10-29T20:07:45.564Z"
   },
   {
    "duration": 14,
    "start_time": "2022-10-29T20:07:45.635Z"
   },
   {
    "duration": 14,
    "start_time": "2022-10-29T20:07:45.650Z"
   },
   {
    "duration": 8,
    "start_time": "2022-10-29T20:07:45.666Z"
   },
   {
    "duration": 48,
    "start_time": "2022-10-29T20:07:45.675Z"
   },
   {
    "duration": 3,
    "start_time": "2022-10-29T20:07:45.725Z"
   },
   {
    "duration": 14,
    "start_time": "2022-10-29T20:07:45.729Z"
   },
   {
    "duration": 4,
    "start_time": "2022-10-29T20:07:45.745Z"
   },
   {
    "duration": 7,
    "start_time": "2022-10-29T20:07:45.750Z"
   },
   {
    "duration": 4,
    "start_time": "2022-10-29T20:07:45.759Z"
   },
   {
    "duration": 132,
    "start_time": "2022-10-29T20:07:45.764Z"
   },
   {
    "duration": 14,
    "start_time": "2022-10-29T20:07:45.897Z"
   },
   {
    "duration": 3,
    "start_time": "2022-10-29T20:07:45.913Z"
   },
   {
    "duration": 11,
    "start_time": "2022-10-29T20:07:45.917Z"
   },
   {
    "duration": 17,
    "start_time": "2022-10-29T20:07:45.929Z"
   },
   {
    "duration": 16,
    "start_time": "2022-10-29T20:07:45.947Z"
   },
   {
    "duration": 3,
    "start_time": "2022-10-29T20:07:45.965Z"
   },
   {
    "duration": 11,
    "start_time": "2022-10-29T20:07:45.969Z"
   },
   {
    "duration": 5,
    "start_time": "2022-10-29T20:07:46.005Z"
   },
   {
    "duration": 3,
    "start_time": "2022-10-29T20:07:46.012Z"
   },
   {
    "duration": 11,
    "start_time": "2022-10-29T20:07:46.017Z"
   },
   {
    "duration": 37,
    "start_time": "2022-10-29T20:07:46.030Z"
   },
   {
    "duration": 0,
    "start_time": "2022-10-29T20:07:46.068Z"
   },
   {
    "duration": 0,
    "start_time": "2022-10-29T20:07:46.069Z"
   },
   {
    "duration": 0,
    "start_time": "2022-10-29T20:07:46.070Z"
   },
   {
    "duration": 68,
    "start_time": "2022-10-29T20:08:43.612Z"
   },
   {
    "duration": 15,
    "start_time": "2022-10-29T20:08:43.682Z"
   },
   {
    "duration": 16,
    "start_time": "2022-10-29T20:08:43.698Z"
   },
   {
    "duration": 8,
    "start_time": "2022-10-29T20:08:43.716Z"
   },
   {
    "duration": 29,
    "start_time": "2022-10-29T20:08:43.726Z"
   },
   {
    "duration": 2,
    "start_time": "2022-10-29T20:08:43.757Z"
   },
   {
    "duration": 9,
    "start_time": "2022-10-29T20:08:43.761Z"
   },
   {
    "duration": 5,
    "start_time": "2022-10-29T20:08:43.771Z"
   },
   {
    "duration": 28,
    "start_time": "2022-10-29T20:08:43.777Z"
   },
   {
    "duration": 3,
    "start_time": "2022-10-29T20:08:43.807Z"
   },
   {
    "duration": 30,
    "start_time": "2022-10-29T20:08:43.812Z"
   },
   {
    "duration": 7,
    "start_time": "2022-10-29T20:08:43.844Z"
   },
   {
    "duration": 3,
    "start_time": "2022-10-29T20:08:43.853Z"
   },
   {
    "duration": 9,
    "start_time": "2022-10-29T20:08:43.859Z"
   },
   {
    "duration": 39,
    "start_time": "2022-10-29T20:08:43.869Z"
   },
   {
    "duration": 15,
    "start_time": "2022-10-29T20:08:43.910Z"
   },
   {
    "duration": 3,
    "start_time": "2022-10-29T20:08:43.927Z"
   },
   {
    "duration": 12,
    "start_time": "2022-10-29T20:08:43.931Z"
   },
   {
    "duration": 5,
    "start_time": "2022-10-29T20:08:43.944Z"
   },
   {
    "duration": 2,
    "start_time": "2022-10-29T20:08:43.951Z"
   },
   {
    "duration": 10,
    "start_time": "2022-10-29T20:08:43.954Z"
   },
   {
    "duration": 1104,
    "start_time": "2022-10-29T20:08:43.965Z"
   },
   {
    "duration": 0,
    "start_time": "2022-10-29T20:08:45.071Z"
   },
   {
    "duration": 0,
    "start_time": "2022-10-29T20:08:45.072Z"
   },
   {
    "duration": 0,
    "start_time": "2022-10-29T20:08:45.073Z"
   },
   {
    "duration": 71,
    "start_time": "2022-10-29T20:10:24.039Z"
   },
   {
    "duration": 15,
    "start_time": "2022-10-29T20:10:24.112Z"
   },
   {
    "duration": 15,
    "start_time": "2022-10-29T20:10:24.128Z"
   },
   {
    "duration": 8,
    "start_time": "2022-10-29T20:10:24.144Z"
   },
   {
    "duration": 51,
    "start_time": "2022-10-29T20:10:24.154Z"
   },
   {
    "duration": 3,
    "start_time": "2022-10-29T20:10:24.207Z"
   },
   {
    "duration": 12,
    "start_time": "2022-10-29T20:10:24.211Z"
   },
   {
    "duration": 4,
    "start_time": "2022-10-29T20:10:24.224Z"
   },
   {
    "duration": 6,
    "start_time": "2022-10-29T20:10:24.230Z"
   },
   {
    "duration": 4,
    "start_time": "2022-10-29T20:10:24.239Z"
   },
   {
    "duration": 34,
    "start_time": "2022-10-29T20:10:24.245Z"
   },
   {
    "duration": 32,
    "start_time": "2022-10-29T20:10:24.281Z"
   },
   {
    "duration": 3,
    "start_time": "2022-10-29T20:10:24.315Z"
   },
   {
    "duration": 11,
    "start_time": "2022-10-29T20:10:24.320Z"
   },
   {
    "duration": 16,
    "start_time": "2022-10-29T20:10:24.332Z"
   },
   {
    "duration": 19,
    "start_time": "2022-10-29T20:10:24.349Z"
   },
   {
    "duration": 3,
    "start_time": "2022-10-29T20:10:24.369Z"
   },
   {
    "duration": 37,
    "start_time": "2022-10-29T20:10:24.374Z"
   },
   {
    "duration": 5,
    "start_time": "2022-10-29T20:10:24.413Z"
   },
   {
    "duration": 5,
    "start_time": "2022-10-29T20:10:24.420Z"
   },
   {
    "duration": 9,
    "start_time": "2022-10-29T20:10:24.427Z"
   },
   {
    "duration": 1184,
    "start_time": "2022-10-29T20:10:24.437Z"
   },
   {
    "duration": 0,
    "start_time": "2022-10-29T20:10:25.623Z"
   },
   {
    "duration": 0,
    "start_time": "2022-10-29T20:10:25.624Z"
   },
   {
    "duration": 0,
    "start_time": "2022-10-29T20:10:25.625Z"
   },
   {
    "duration": 69,
    "start_time": "2022-10-29T20:11:22.698Z"
   },
   {
    "duration": 14,
    "start_time": "2022-10-29T20:11:22.769Z"
   },
   {
    "duration": 14,
    "start_time": "2022-10-29T20:11:22.785Z"
   },
   {
    "duration": 9,
    "start_time": "2022-10-29T20:11:22.805Z"
   },
   {
    "duration": 29,
    "start_time": "2022-10-29T20:11:22.815Z"
   },
   {
    "duration": 3,
    "start_time": "2022-10-29T20:11:22.846Z"
   },
   {
    "duration": 11,
    "start_time": "2022-10-29T20:11:22.851Z"
   },
   {
    "duration": 6,
    "start_time": "2022-10-29T20:11:22.864Z"
   },
   {
    "duration": 7,
    "start_time": "2022-10-29T20:11:22.871Z"
   },
   {
    "duration": 28,
    "start_time": "2022-10-29T20:11:22.880Z"
   },
   {
    "duration": 34,
    "start_time": "2022-10-29T20:11:22.909Z"
   },
   {
    "duration": 10,
    "start_time": "2022-10-29T20:11:22.945Z"
   },
   {
    "duration": 3,
    "start_time": "2022-10-29T20:11:22.957Z"
   },
   {
    "duration": 11,
    "start_time": "2022-10-29T20:11:22.962Z"
   },
   {
    "duration": 45,
    "start_time": "2022-10-29T20:11:22.975Z"
   },
   {
    "duration": 18,
    "start_time": "2022-10-29T20:11:23.022Z"
   },
   {
    "duration": 4,
    "start_time": "2022-10-29T20:11:23.041Z"
   },
   {
    "duration": 11,
    "start_time": "2022-10-29T20:11:23.047Z"
   },
   {
    "duration": 6,
    "start_time": "2022-10-29T20:11:23.060Z"
   },
   {
    "duration": 4,
    "start_time": "2022-10-29T20:11:23.068Z"
   },
   {
    "duration": 42,
    "start_time": "2022-10-29T20:11:23.073Z"
   },
   {
    "duration": 1132,
    "start_time": "2022-10-29T20:11:23.117Z"
   },
   {
    "duration": 0,
    "start_time": "2022-10-29T20:11:24.251Z"
   },
   {
    "duration": 0,
    "start_time": "2022-10-29T20:11:24.252Z"
   },
   {
    "duration": 0,
    "start_time": "2022-10-29T20:11:24.253Z"
   },
   {
    "duration": 566,
    "start_time": "2022-10-30T05:31:36.653Z"
   },
   {
    "duration": 24,
    "start_time": "2022-10-30T05:31:37.221Z"
   },
   {
    "duration": 16,
    "start_time": "2022-10-30T05:31:37.247Z"
   },
   {
    "duration": 11,
    "start_time": "2022-10-30T05:31:37.266Z"
   },
   {
    "duration": 42,
    "start_time": "2022-10-30T05:31:37.278Z"
   },
   {
    "duration": 4,
    "start_time": "2022-10-30T05:31:37.321Z"
   },
   {
    "duration": 12,
    "start_time": "2022-10-30T05:31:37.327Z"
   },
   {
    "duration": 5,
    "start_time": "2022-10-30T05:31:37.340Z"
   },
   {
    "duration": 9,
    "start_time": "2022-10-30T05:31:37.347Z"
   },
   {
    "duration": 5,
    "start_time": "2022-10-30T05:31:37.390Z"
   },
   {
    "duration": 32,
    "start_time": "2022-10-30T05:31:37.397Z"
   },
   {
    "duration": 10,
    "start_time": "2022-10-30T05:31:37.431Z"
   },
   {
    "duration": 6,
    "start_time": "2022-10-30T05:31:37.443Z"
   },
   {
    "duration": 11,
    "start_time": "2022-10-30T05:31:37.450Z"
   },
   {
    "duration": 49,
    "start_time": "2022-10-30T05:31:37.463Z"
   },
   {
    "duration": 17,
    "start_time": "2022-10-30T05:31:37.514Z"
   },
   {
    "duration": 4,
    "start_time": "2022-10-30T05:31:37.533Z"
   },
   {
    "duration": 11,
    "start_time": "2022-10-30T05:31:37.538Z"
   },
   {
    "duration": 7,
    "start_time": "2022-10-30T05:31:37.551Z"
   },
   {
    "duration": 4,
    "start_time": "2022-10-30T05:31:37.590Z"
   },
   {
    "duration": 13,
    "start_time": "2022-10-30T05:31:37.595Z"
   },
   {
    "duration": 1243,
    "start_time": "2022-10-30T05:31:37.609Z"
   },
   {
    "duration": 0,
    "start_time": "2022-10-30T05:31:38.854Z"
   },
   {
    "duration": 0,
    "start_time": "2022-10-30T05:31:38.855Z"
   },
   {
    "duration": 0,
    "start_time": "2022-10-30T05:31:38.856Z"
   },
   {
    "duration": 70,
    "start_time": "2022-10-30T05:31:53.428Z"
   },
   {
    "duration": 20,
    "start_time": "2022-10-30T05:31:53.499Z"
   },
   {
    "duration": 18,
    "start_time": "2022-10-30T05:31:53.520Z"
   },
   {
    "duration": 14,
    "start_time": "2022-10-30T05:31:53.542Z"
   },
   {
    "duration": 71,
    "start_time": "2022-10-30T05:31:53.559Z"
   },
   {
    "duration": 4,
    "start_time": "2022-10-30T05:31:53.633Z"
   },
   {
    "duration": 10,
    "start_time": "2022-10-30T05:31:53.640Z"
   },
   {
    "duration": 5,
    "start_time": "2022-10-30T05:31:53.652Z"
   },
   {
    "duration": 35,
    "start_time": "2022-10-30T05:31:53.659Z"
   },
   {
    "duration": 5,
    "start_time": "2022-10-30T05:31:53.697Z"
   },
   {
    "duration": 35,
    "start_time": "2022-10-30T05:31:53.703Z"
   },
   {
    "duration": 10,
    "start_time": "2022-10-30T05:31:53.739Z"
   },
   {
    "duration": 4,
    "start_time": "2022-10-30T05:31:53.751Z"
   },
   {
    "duration": 11,
    "start_time": "2022-10-30T05:31:53.791Z"
   },
   {
    "duration": 19,
    "start_time": "2022-10-30T05:31:53.805Z"
   },
   {
    "duration": 25,
    "start_time": "2022-10-30T05:31:53.826Z"
   },
   {
    "duration": 5,
    "start_time": "2022-10-30T05:31:53.853Z"
   },
   {
    "duration": 46,
    "start_time": "2022-10-30T05:31:53.860Z"
   },
   {
    "duration": 8,
    "start_time": "2022-10-30T05:31:53.908Z"
   },
   {
    "duration": 4,
    "start_time": "2022-10-30T05:31:53.918Z"
   },
   {
    "duration": 16,
    "start_time": "2022-10-30T05:31:53.924Z"
   },
   {
    "duration": 806,
    "start_time": "2022-10-30T05:31:53.942Z"
   },
   {
    "duration": 5,
    "start_time": "2022-10-30T05:31:54.751Z"
   },
   {
    "duration": 5,
    "start_time": "2022-10-30T05:31:54.757Z"
   },
   {
    "duration": 5,
    "start_time": "2022-10-30T05:31:54.764Z"
   },
   {
    "duration": 91,
    "start_time": "2022-10-30T05:34:44.083Z"
   },
   {
    "duration": 35,
    "start_time": "2022-10-30T05:34:44.179Z"
   },
   {
    "duration": 21,
    "start_time": "2022-10-30T05:34:44.216Z"
   },
   {
    "duration": 10,
    "start_time": "2022-10-30T05:34:44.239Z"
   },
   {
    "duration": 54,
    "start_time": "2022-10-30T05:34:44.251Z"
   },
   {
    "duration": 4,
    "start_time": "2022-10-30T05:34:44.307Z"
   },
   {
    "duration": 18,
    "start_time": "2022-10-30T05:34:44.313Z"
   },
   {
    "duration": 7,
    "start_time": "2022-10-30T05:34:44.333Z"
   },
   {
    "duration": 9,
    "start_time": "2022-10-30T05:34:44.342Z"
   },
   {
    "duration": 35,
    "start_time": "2022-10-30T05:34:44.356Z"
   },
   {
    "duration": 57,
    "start_time": "2022-10-30T05:34:44.394Z"
   },
   {
    "duration": 16,
    "start_time": "2022-10-30T05:34:44.454Z"
   },
   {
    "duration": 19,
    "start_time": "2022-10-30T05:34:44.472Z"
   },
   {
    "duration": 13,
    "start_time": "2022-10-30T05:34:44.494Z"
   },
   {
    "duration": 24,
    "start_time": "2022-10-30T05:34:44.509Z"
   },
   {
    "duration": 24,
    "start_time": "2022-10-30T05:34:44.534Z"
   },
   {
    "duration": 5,
    "start_time": "2022-10-30T05:34:44.560Z"
   },
   {
    "duration": 11,
    "start_time": "2022-10-30T05:34:44.591Z"
   },
   {
    "duration": 16,
    "start_time": "2022-10-30T05:34:44.604Z"
   },
   {
    "duration": 4,
    "start_time": "2022-10-30T05:34:44.622Z"
   },
   {
    "duration": 13,
    "start_time": "2022-10-30T05:34:44.628Z"
   },
   {
    "duration": 450,
    "start_time": "2022-10-30T05:34:44.643Z"
   },
   {
    "duration": 69,
    "start_time": "2022-10-30T05:34:45.095Z"
   },
   {
    "duration": 0,
    "start_time": "2022-10-30T05:34:45.166Z"
   },
   {
    "duration": 0,
    "start_time": "2022-10-30T05:34:45.167Z"
   },
   {
    "duration": 70,
    "start_time": "2022-10-30T05:36:47.568Z"
   },
   {
    "duration": 18,
    "start_time": "2022-10-30T05:36:47.640Z"
   },
   {
    "duration": 34,
    "start_time": "2022-10-30T05:36:47.660Z"
   },
   {
    "duration": 12,
    "start_time": "2022-10-30T05:36:47.696Z"
   },
   {
    "duration": 34,
    "start_time": "2022-10-30T05:36:47.710Z"
   },
   {
    "duration": 4,
    "start_time": "2022-10-30T05:36:47.745Z"
   },
   {
    "duration": 10,
    "start_time": "2022-10-30T05:36:47.751Z"
   },
   {
    "duration": 32,
    "start_time": "2022-10-30T05:36:47.763Z"
   },
   {
    "duration": 6,
    "start_time": "2022-10-30T05:36:47.797Z"
   },
   {
    "duration": 5,
    "start_time": "2022-10-30T05:36:47.805Z"
   },
   {
    "duration": 121,
    "start_time": "2022-10-30T05:36:47.812Z"
   },
   {
    "duration": 10,
    "start_time": "2022-10-30T05:36:47.935Z"
   },
   {
    "duration": 7,
    "start_time": "2022-10-30T05:36:47.946Z"
   },
   {
    "duration": 37,
    "start_time": "2022-10-30T05:36:47.955Z"
   },
   {
    "duration": 19,
    "start_time": "2022-10-30T05:36:47.994Z"
   },
   {
    "duration": 17,
    "start_time": "2022-10-30T05:36:48.014Z"
   },
   {
    "duration": 4,
    "start_time": "2022-10-30T05:36:48.032Z"
   },
   {
    "duration": 11,
    "start_time": "2022-10-30T05:36:48.038Z"
   },
   {
    "duration": 9,
    "start_time": "2022-10-30T05:36:48.051Z"
   },
   {
    "duration": 4,
    "start_time": "2022-10-30T05:36:48.092Z"
   },
   {
    "duration": 11,
    "start_time": "2022-10-30T05:36:48.098Z"
   },
   {
    "duration": 343,
    "start_time": "2022-10-30T05:36:48.111Z"
   },
   {
    "duration": 36,
    "start_time": "2022-10-30T05:36:48.456Z"
   },
   {
    "duration": 3,
    "start_time": "2022-10-30T05:36:48.494Z"
   },
   {
    "duration": 6,
    "start_time": "2022-10-30T05:36:48.498Z"
   },
   {
    "duration": 80,
    "start_time": "2022-10-30T05:38:07.213Z"
   },
   {
    "duration": 27,
    "start_time": "2022-10-30T05:38:07.296Z"
   },
   {
    "duration": 14,
    "start_time": "2022-10-30T05:38:07.325Z"
   },
   {
    "duration": 9,
    "start_time": "2022-10-30T05:38:07.341Z"
   },
   {
    "duration": 59,
    "start_time": "2022-10-30T05:38:07.351Z"
   },
   {
    "duration": 3,
    "start_time": "2022-10-30T05:38:07.412Z"
   },
   {
    "duration": 15,
    "start_time": "2022-10-30T05:38:07.417Z"
   },
   {
    "duration": 5,
    "start_time": "2022-10-30T05:38:07.433Z"
   },
   {
    "duration": 5,
    "start_time": "2022-10-30T05:38:07.439Z"
   },
   {
    "duration": 4,
    "start_time": "2022-10-30T05:38:07.447Z"
   },
   {
    "duration": 74,
    "start_time": "2022-10-30T05:38:07.453Z"
   },
   {
    "duration": 8,
    "start_time": "2022-10-30T05:38:07.529Z"
   },
   {
    "duration": 4,
    "start_time": "2022-10-30T05:38:07.539Z"
   },
   {
    "duration": 10,
    "start_time": "2022-10-30T05:38:07.544Z"
   },
   {
    "duration": 46,
    "start_time": "2022-10-30T05:38:07.556Z"
   },
   {
    "duration": 18,
    "start_time": "2022-10-30T05:38:07.604Z"
   },
   {
    "duration": 4,
    "start_time": "2022-10-30T05:38:07.624Z"
   },
   {
    "duration": 11,
    "start_time": "2022-10-30T05:38:07.630Z"
   },
   {
    "duration": 7,
    "start_time": "2022-10-30T05:38:07.643Z"
   },
   {
    "duration": 4,
    "start_time": "2022-10-30T05:38:07.652Z"
   },
   {
    "duration": 41,
    "start_time": "2022-10-30T05:38:07.657Z"
   },
   {
    "duration": 327,
    "start_time": "2022-10-30T05:38:07.700Z"
   },
   {
    "duration": 25,
    "start_time": "2022-10-30T05:38:08.029Z"
   },
   {
    "duration": 0,
    "start_time": "2022-10-30T05:38:08.055Z"
   },
   {
    "duration": 0,
    "start_time": "2022-10-30T05:38:08.056Z"
   },
   {
    "duration": 67,
    "start_time": "2022-10-30T05:38:32.795Z"
   },
   {
    "duration": 18,
    "start_time": "2022-10-30T05:38:32.864Z"
   },
   {
    "duration": 15,
    "start_time": "2022-10-30T05:38:32.883Z"
   },
   {
    "duration": 9,
    "start_time": "2022-10-30T05:38:32.900Z"
   },
   {
    "duration": 45,
    "start_time": "2022-10-30T05:38:32.910Z"
   },
   {
    "duration": 4,
    "start_time": "2022-10-30T05:38:32.957Z"
   },
   {
    "duration": 37,
    "start_time": "2022-10-30T05:38:32.963Z"
   },
   {
    "duration": 6,
    "start_time": "2022-10-30T05:38:33.003Z"
   },
   {
    "duration": 6,
    "start_time": "2022-10-30T05:38:33.011Z"
   },
   {
    "duration": 7,
    "start_time": "2022-10-30T05:38:33.019Z"
   },
   {
    "duration": 36,
    "start_time": "2022-10-30T05:38:33.028Z"
   },
   {
    "duration": 27,
    "start_time": "2022-10-30T05:38:33.065Z"
   },
   {
    "duration": 4,
    "start_time": "2022-10-30T05:38:33.093Z"
   },
   {
    "duration": 20,
    "start_time": "2022-10-30T05:38:33.098Z"
   },
   {
    "duration": 41,
    "start_time": "2022-10-30T05:38:33.119Z"
   },
   {
    "duration": 32,
    "start_time": "2022-10-30T05:38:33.162Z"
   },
   {
    "duration": 4,
    "start_time": "2022-10-30T05:38:33.195Z"
   },
   {
    "duration": 30,
    "start_time": "2022-10-30T05:38:33.201Z"
   },
   {
    "duration": 7,
    "start_time": "2022-10-30T05:38:33.233Z"
   },
   {
    "duration": 4,
    "start_time": "2022-10-30T05:38:33.243Z"
   },
   {
    "duration": 46,
    "start_time": "2022-10-30T05:38:33.249Z"
   },
   {
    "duration": 346,
    "start_time": "2022-10-30T05:38:33.297Z"
   },
   {
    "duration": 37,
    "start_time": "2022-10-30T05:38:33.645Z"
   },
   {
    "duration": 0,
    "start_time": "2022-10-30T05:38:33.691Z"
   },
   {
    "duration": 0,
    "start_time": "2022-10-30T05:38:33.692Z"
   },
   {
    "duration": 70,
    "start_time": "2022-10-30T05:39:34.137Z"
   },
   {
    "duration": 19,
    "start_time": "2022-10-30T05:39:34.210Z"
   },
   {
    "duration": 25,
    "start_time": "2022-10-30T05:39:34.230Z"
   },
   {
    "duration": 10,
    "start_time": "2022-10-30T05:39:34.258Z"
   },
   {
    "duration": 54,
    "start_time": "2022-10-30T05:39:34.269Z"
   },
   {
    "duration": 3,
    "start_time": "2022-10-30T05:39:34.325Z"
   },
   {
    "duration": 10,
    "start_time": "2022-10-30T05:39:34.330Z"
   },
   {
    "duration": 5,
    "start_time": "2022-10-30T05:39:34.341Z"
   },
   {
    "duration": 12,
    "start_time": "2022-10-30T05:39:34.348Z"
   },
   {
    "duration": 31,
    "start_time": "2022-10-30T05:39:34.363Z"
   },
   {
    "duration": 43,
    "start_time": "2022-10-30T05:39:34.395Z"
   },
   {
    "duration": 15,
    "start_time": "2022-10-30T05:39:34.439Z"
   },
   {
    "duration": 6,
    "start_time": "2022-10-30T05:39:34.456Z"
   },
   {
    "duration": 37,
    "start_time": "2022-10-30T05:39:34.464Z"
   },
   {
    "duration": 20,
    "start_time": "2022-10-30T05:39:34.503Z"
   },
   {
    "duration": 18,
    "start_time": "2022-10-30T05:39:34.525Z"
   },
   {
    "duration": 3,
    "start_time": "2022-10-30T05:39:34.545Z"
   },
   {
    "duration": 13,
    "start_time": "2022-10-30T05:39:34.550Z"
   },
   {
    "duration": 31,
    "start_time": "2022-10-30T05:39:34.564Z"
   },
   {
    "duration": 3,
    "start_time": "2022-10-30T05:39:34.597Z"
   },
   {
    "duration": 14,
    "start_time": "2022-10-30T05:39:34.602Z"
   },
   {
    "duration": 328,
    "start_time": "2022-10-30T05:39:34.617Z"
   },
   {
    "duration": 23,
    "start_time": "2022-10-30T05:39:34.947Z"
   },
   {
    "duration": 0,
    "start_time": "2022-10-30T05:39:34.972Z"
   },
   {
    "duration": 0,
    "start_time": "2022-10-30T05:39:34.973Z"
   },
   {
    "duration": 68,
    "start_time": "2022-10-30T05:39:56.200Z"
   },
   {
    "duration": 19,
    "start_time": "2022-10-30T05:39:56.270Z"
   },
   {
    "duration": 15,
    "start_time": "2022-10-30T05:39:56.291Z"
   },
   {
    "duration": 9,
    "start_time": "2022-10-30T05:39:56.308Z"
   },
   {
    "duration": 31,
    "start_time": "2022-10-30T05:39:56.318Z"
   },
   {
    "duration": 3,
    "start_time": "2022-10-30T05:39:56.351Z"
   },
   {
    "duration": 42,
    "start_time": "2022-10-30T05:39:56.355Z"
   },
   {
    "duration": 4,
    "start_time": "2022-10-30T05:39:56.399Z"
   },
   {
    "duration": 6,
    "start_time": "2022-10-30T05:39:56.405Z"
   },
   {
    "duration": 5,
    "start_time": "2022-10-30T05:39:56.413Z"
   },
   {
    "duration": 37,
    "start_time": "2022-10-30T05:39:56.420Z"
   },
   {
    "duration": 40,
    "start_time": "2022-10-30T05:39:56.459Z"
   },
   {
    "duration": 6,
    "start_time": "2022-10-30T05:39:56.502Z"
   },
   {
    "duration": 23,
    "start_time": "2022-10-30T05:39:56.510Z"
   },
   {
    "duration": 27,
    "start_time": "2022-10-30T05:39:56.535Z"
   },
   {
    "duration": 50,
    "start_time": "2022-10-30T05:39:56.565Z"
   },
   {
    "duration": 11,
    "start_time": "2022-10-30T05:39:56.617Z"
   },
   {
    "duration": 16,
    "start_time": "2022-10-30T05:39:56.630Z"
   },
   {
    "duration": 9,
    "start_time": "2022-10-30T05:39:56.648Z"
   },
   {
    "duration": 5,
    "start_time": "2022-10-30T05:39:56.659Z"
   },
   {
    "duration": 36,
    "start_time": "2022-10-30T05:39:56.666Z"
   },
   {
    "duration": 345,
    "start_time": "2022-10-30T05:39:56.704Z"
   },
   {
    "duration": 27,
    "start_time": "2022-10-30T05:39:57.051Z"
   },
   {
    "duration": 0,
    "start_time": "2022-10-30T05:39:57.080Z"
   },
   {
    "duration": 0,
    "start_time": "2022-10-30T05:39:57.091Z"
   },
   {
    "duration": 72,
    "start_time": "2022-10-30T05:40:02.868Z"
   },
   {
    "duration": 20,
    "start_time": "2022-10-30T05:40:02.942Z"
   },
   {
    "duration": 38,
    "start_time": "2022-10-30T05:40:02.964Z"
   },
   {
    "duration": 10,
    "start_time": "2022-10-30T05:40:03.005Z"
   },
   {
    "duration": 37,
    "start_time": "2022-10-30T05:40:03.017Z"
   },
   {
    "duration": 5,
    "start_time": "2022-10-30T05:40:03.056Z"
   },
   {
    "duration": 33,
    "start_time": "2022-10-30T05:40:03.063Z"
   },
   {
    "duration": 6,
    "start_time": "2022-10-30T05:40:03.098Z"
   },
   {
    "duration": 7,
    "start_time": "2022-10-30T05:40:03.105Z"
   },
   {
    "duration": 7,
    "start_time": "2022-10-30T05:40:03.115Z"
   },
   {
    "duration": 36,
    "start_time": "2022-10-30T05:40:03.124Z"
   },
   {
    "duration": 37,
    "start_time": "2022-10-30T05:40:03.162Z"
   },
   {
    "duration": 4,
    "start_time": "2022-10-30T05:40:03.202Z"
   },
   {
    "duration": 11,
    "start_time": "2022-10-30T05:40:03.208Z"
   },
   {
    "duration": 37,
    "start_time": "2022-10-30T05:40:03.221Z"
   },
   {
    "duration": 55,
    "start_time": "2022-10-30T05:40:03.260Z"
   },
   {
    "duration": 5,
    "start_time": "2022-10-30T05:40:03.317Z"
   },
   {
    "duration": 14,
    "start_time": "2022-10-30T05:40:03.324Z"
   },
   {
    "duration": 8,
    "start_time": "2022-10-30T05:40:03.341Z"
   },
   {
    "duration": 4,
    "start_time": "2022-10-30T05:40:03.352Z"
   },
   {
    "duration": 38,
    "start_time": "2022-10-30T05:40:03.359Z"
   },
   {
    "duration": 422,
    "start_time": "2022-10-30T05:40:03.399Z"
   },
   {
    "duration": 74,
    "start_time": "2022-10-30T05:40:03.823Z"
   },
   {
    "duration": 0,
    "start_time": "2022-10-30T05:40:03.899Z"
   },
   {
    "duration": 0,
    "start_time": "2022-10-30T05:40:03.901Z"
   },
   {
    "duration": 67,
    "start_time": "2022-10-30T05:40:57.771Z"
   },
   {
    "duration": 18,
    "start_time": "2022-10-30T05:40:57.840Z"
   },
   {
    "duration": 32,
    "start_time": "2022-10-30T05:40:57.859Z"
   },
   {
    "duration": 10,
    "start_time": "2022-10-30T05:40:57.893Z"
   },
   {
    "duration": 33,
    "start_time": "2022-10-30T05:40:57.905Z"
   },
   {
    "duration": 4,
    "start_time": "2022-10-30T05:40:57.940Z"
   },
   {
    "duration": 11,
    "start_time": "2022-10-30T05:40:57.946Z"
   },
   {
    "duration": 33,
    "start_time": "2022-10-30T05:40:57.958Z"
   },
   {
    "duration": 6,
    "start_time": "2022-10-30T05:40:57.993Z"
   },
   {
    "duration": 5,
    "start_time": "2022-10-30T05:40:58.001Z"
   },
   {
    "duration": 35,
    "start_time": "2022-10-30T05:40:58.008Z"
   },
   {
    "duration": 9,
    "start_time": "2022-10-30T05:40:58.045Z"
   },
   {
    "duration": 42,
    "start_time": "2022-10-30T05:40:58.056Z"
   },
   {
    "duration": 13,
    "start_time": "2022-10-30T05:40:58.100Z"
   },
   {
    "duration": 22,
    "start_time": "2022-10-30T05:40:58.114Z"
   },
   {
    "duration": 21,
    "start_time": "2022-10-30T05:40:58.137Z"
   },
   {
    "duration": 31,
    "start_time": "2022-10-30T05:40:58.160Z"
   },
   {
    "duration": 12,
    "start_time": "2022-10-30T05:40:58.193Z"
   },
   {
    "duration": 6,
    "start_time": "2022-10-30T05:40:58.207Z"
   },
   {
    "duration": 4,
    "start_time": "2022-10-30T05:40:58.214Z"
   },
   {
    "duration": 13,
    "start_time": "2022-10-30T05:40:58.219Z"
   },
   {
    "duration": 368,
    "start_time": "2022-10-30T05:40:58.233Z"
   },
   {
    "duration": 25,
    "start_time": "2022-10-30T05:40:58.603Z"
   },
   {
    "duration": 0,
    "start_time": "2022-10-30T05:40:58.630Z"
   },
   {
    "duration": 0,
    "start_time": "2022-10-30T05:40:58.631Z"
   },
   {
    "duration": 67,
    "start_time": "2022-10-30T05:41:46.761Z"
   },
   {
    "duration": 18,
    "start_time": "2022-10-30T05:41:46.830Z"
   },
   {
    "duration": 15,
    "start_time": "2022-10-30T05:41:46.849Z"
   },
   {
    "duration": 30,
    "start_time": "2022-10-30T05:41:46.866Z"
   },
   {
    "duration": 30,
    "start_time": "2022-10-30T05:41:46.897Z"
   },
   {
    "duration": 4,
    "start_time": "2022-10-30T05:41:46.928Z"
   },
   {
    "duration": 10,
    "start_time": "2022-10-30T05:41:46.933Z"
   },
   {
    "duration": 5,
    "start_time": "2022-10-30T05:41:46.945Z"
   },
   {
    "duration": 6,
    "start_time": "2022-10-30T05:41:46.951Z"
   },
   {
    "duration": 34,
    "start_time": "2022-10-30T05:41:46.960Z"
   },
   {
    "duration": 34,
    "start_time": "2022-10-30T05:41:46.995Z"
   },
   {
    "duration": 9,
    "start_time": "2022-10-30T05:41:47.031Z"
   },
   {
    "duration": 4,
    "start_time": "2022-10-30T05:41:47.041Z"
   },
   {
    "duration": 12,
    "start_time": "2022-10-30T05:41:47.047Z"
   },
   {
    "duration": 44,
    "start_time": "2022-10-30T05:41:47.061Z"
   },
   {
    "duration": 17,
    "start_time": "2022-10-30T05:41:47.107Z"
   },
   {
    "duration": 3,
    "start_time": "2022-10-30T05:41:47.126Z"
   },
   {
    "duration": 17,
    "start_time": "2022-10-30T05:41:47.131Z"
   },
   {
    "duration": 8,
    "start_time": "2022-10-30T05:41:47.151Z"
   },
   {
    "duration": 5,
    "start_time": "2022-10-30T05:41:47.161Z"
   },
   {
    "duration": 12,
    "start_time": "2022-10-30T05:41:47.191Z"
   },
   {
    "duration": 349,
    "start_time": "2022-10-30T05:41:47.205Z"
   },
   {
    "duration": 35,
    "start_time": "2022-10-30T05:41:47.556Z"
   },
   {
    "duration": 0,
    "start_time": "2022-10-30T05:41:47.593Z"
   },
   {
    "duration": 0,
    "start_time": "2022-10-30T05:41:47.595Z"
   },
   {
    "duration": 68,
    "start_time": "2022-10-30T05:42:08.857Z"
   },
   {
    "duration": 20,
    "start_time": "2022-10-30T05:42:08.927Z"
   },
   {
    "duration": 18,
    "start_time": "2022-10-30T05:42:08.948Z"
   },
   {
    "duration": 14,
    "start_time": "2022-10-30T05:42:08.992Z"
   },
   {
    "duration": 44,
    "start_time": "2022-10-30T05:42:09.008Z"
   },
   {
    "duration": 4,
    "start_time": "2022-10-30T05:42:09.054Z"
   },
   {
    "duration": 36,
    "start_time": "2022-10-30T05:42:09.061Z"
   },
   {
    "duration": 7,
    "start_time": "2022-10-30T05:42:09.100Z"
   },
   {
    "duration": 13,
    "start_time": "2022-10-30T05:42:09.109Z"
   },
   {
    "duration": 13,
    "start_time": "2022-10-30T05:42:09.125Z"
   },
   {
    "duration": 55,
    "start_time": "2022-10-30T05:42:09.140Z"
   },
   {
    "duration": 14,
    "start_time": "2022-10-30T05:42:09.197Z"
   },
   {
    "duration": 4,
    "start_time": "2022-10-30T05:42:09.213Z"
   },
   {
    "duration": 17,
    "start_time": "2022-10-30T05:42:09.219Z"
   },
   {
    "duration": 21,
    "start_time": "2022-10-30T05:42:09.238Z"
   },
   {
    "duration": 45,
    "start_time": "2022-10-30T05:42:09.264Z"
   },
   {
    "duration": 4,
    "start_time": "2022-10-30T05:42:09.311Z"
   },
   {
    "duration": 16,
    "start_time": "2022-10-30T05:42:09.317Z"
   },
   {
    "duration": 9,
    "start_time": "2022-10-30T05:42:09.335Z"
   },
   {
    "duration": 4,
    "start_time": "2022-10-30T05:42:09.346Z"
   },
   {
    "duration": 45,
    "start_time": "2022-10-30T05:42:09.352Z"
   },
   {
    "duration": 380,
    "start_time": "2022-10-30T05:42:09.399Z"
   },
   {
    "duration": 34,
    "start_time": "2022-10-30T05:42:09.781Z"
   },
   {
    "duration": 0,
    "start_time": "2022-10-30T05:42:09.816Z"
   },
   {
    "duration": 0,
    "start_time": "2022-10-30T05:42:09.817Z"
   },
   {
    "duration": 80,
    "start_time": "2022-10-30T05:42:56.335Z"
   },
   {
    "duration": 19,
    "start_time": "2022-10-30T05:42:56.417Z"
   },
   {
    "duration": 14,
    "start_time": "2022-10-30T05:42:56.438Z"
   },
   {
    "duration": 11,
    "start_time": "2022-10-30T05:42:56.453Z"
   },
   {
    "duration": 54,
    "start_time": "2022-10-30T05:42:56.493Z"
   },
   {
    "duration": 5,
    "start_time": "2022-10-30T05:42:56.550Z"
   },
   {
    "duration": 13,
    "start_time": "2022-10-30T05:42:56.557Z"
   },
   {
    "duration": 6,
    "start_time": "2022-10-30T05:42:56.592Z"
   },
   {
    "duration": 10,
    "start_time": "2022-10-30T05:42:56.601Z"
   },
   {
    "duration": 5,
    "start_time": "2022-10-30T05:42:56.613Z"
   },
   {
    "duration": 71,
    "start_time": "2022-10-30T05:42:56.620Z"
   },
   {
    "duration": 12,
    "start_time": "2022-10-30T05:42:56.694Z"
   },
   {
    "duration": 5,
    "start_time": "2022-10-30T05:42:56.709Z"
   },
   {
    "duration": 15,
    "start_time": "2022-10-30T05:42:56.717Z"
   },
   {
    "duration": 22,
    "start_time": "2022-10-30T05:42:56.735Z"
   },
   {
    "duration": 48,
    "start_time": "2022-10-30T05:42:56.759Z"
   },
   {
    "duration": 4,
    "start_time": "2022-10-30T05:42:56.809Z"
   },
   {
    "duration": 16,
    "start_time": "2022-10-30T05:42:56.815Z"
   },
   {
    "duration": 16,
    "start_time": "2022-10-30T05:42:56.833Z"
   },
   {
    "duration": 3,
    "start_time": "2022-10-30T05:42:56.851Z"
   },
   {
    "duration": 22,
    "start_time": "2022-10-30T05:42:56.856Z"
   },
   {
    "duration": 306,
    "start_time": "2022-10-30T05:42:56.880Z"
   },
   {
    "duration": 91,
    "start_time": "2022-10-30T05:42:59.801Z"
   },
   {
    "duration": 19,
    "start_time": "2022-10-30T05:42:59.894Z"
   },
   {
    "duration": 15,
    "start_time": "2022-10-30T05:42:59.914Z"
   },
   {
    "duration": 9,
    "start_time": "2022-10-30T05:42:59.931Z"
   },
   {
    "duration": 49,
    "start_time": "2022-10-30T05:42:59.942Z"
   },
   {
    "duration": 3,
    "start_time": "2022-10-30T05:42:59.993Z"
   },
   {
    "duration": 13,
    "start_time": "2022-10-30T05:42:59.998Z"
   },
   {
    "duration": 19,
    "start_time": "2022-10-30T05:43:00.013Z"
   },
   {
    "duration": 24,
    "start_time": "2022-10-30T05:43:00.034Z"
   },
   {
    "duration": 18,
    "start_time": "2022-10-30T05:43:00.060Z"
   },
   {
    "duration": 45,
    "start_time": "2022-10-30T05:43:00.080Z"
   },
   {
    "duration": 9,
    "start_time": "2022-10-30T05:43:00.126Z"
   },
   {
    "duration": 8,
    "start_time": "2022-10-30T05:43:00.137Z"
   },
   {
    "duration": 30,
    "start_time": "2022-10-30T05:43:00.148Z"
   },
   {
    "duration": 32,
    "start_time": "2022-10-30T05:43:00.180Z"
   },
   {
    "duration": 19,
    "start_time": "2022-10-30T05:43:00.215Z"
   },
   {
    "duration": 4,
    "start_time": "2022-10-30T05:43:00.236Z"
   },
   {
    "duration": 24,
    "start_time": "2022-10-30T05:43:00.242Z"
   },
   {
    "duration": 38,
    "start_time": "2022-10-30T05:43:00.268Z"
   },
   {
    "duration": 16,
    "start_time": "2022-10-30T05:43:00.309Z"
   },
   {
    "duration": 18,
    "start_time": "2022-10-30T05:43:00.327Z"
   },
   {
    "duration": 378,
    "start_time": "2022-10-30T05:43:00.347Z"
   },
   {
    "duration": 29,
    "start_time": "2022-10-30T05:43:00.727Z"
   },
   {
    "duration": 0,
    "start_time": "2022-10-30T05:43:00.757Z"
   },
   {
    "duration": 0,
    "start_time": "2022-10-30T05:43:00.759Z"
   },
   {
    "duration": 435,
    "start_time": "2022-10-30T05:44:02.112Z"
   },
   {
    "duration": 25,
    "start_time": "2022-10-30T05:44:02.549Z"
   },
   {
    "duration": 14,
    "start_time": "2022-10-30T05:44:02.576Z"
   },
   {
    "duration": 8,
    "start_time": "2022-10-30T05:44:02.592Z"
   },
   {
    "duration": 29,
    "start_time": "2022-10-30T05:44:02.602Z"
   },
   {
    "duration": 4,
    "start_time": "2022-10-30T05:44:02.632Z"
   },
   {
    "duration": 11,
    "start_time": "2022-10-30T05:44:02.637Z"
   },
   {
    "duration": 6,
    "start_time": "2022-10-30T05:44:02.650Z"
   },
   {
    "duration": 36,
    "start_time": "2022-10-30T05:44:02.657Z"
   },
   {
    "duration": 4,
    "start_time": "2022-10-30T05:44:02.696Z"
   },
   {
    "duration": 45,
    "start_time": "2022-10-30T05:44:02.701Z"
   },
   {
    "duration": 9,
    "start_time": "2022-10-30T05:44:02.747Z"
   },
   {
    "duration": 7,
    "start_time": "2022-10-30T05:44:02.758Z"
   },
   {
    "duration": 27,
    "start_time": "2022-10-30T05:44:02.767Z"
   },
   {
    "duration": 24,
    "start_time": "2022-10-30T05:44:02.796Z"
   },
   {
    "duration": 18,
    "start_time": "2022-10-30T05:44:02.822Z"
   },
   {
    "duration": 5,
    "start_time": "2022-10-30T05:44:02.842Z"
   },
   {
    "duration": 11,
    "start_time": "2022-10-30T05:44:02.848Z"
   },
   {
    "duration": 5,
    "start_time": "2022-10-30T05:44:02.861Z"
   },
   {
    "duration": 4,
    "start_time": "2022-10-30T05:44:02.891Z"
   },
   {
    "duration": 10,
    "start_time": "2022-10-30T05:44:02.897Z"
   },
   {
    "duration": 551,
    "start_time": "2022-10-30T05:44:02.909Z"
   },
   {
    "duration": 102,
    "start_time": "2022-10-30T05:44:03.462Z"
   },
   {
    "duration": 0,
    "start_time": "2022-10-30T05:44:03.566Z"
   },
   {
    "duration": 0,
    "start_time": "2022-10-30T05:44:03.567Z"
   },
   {
    "duration": 74,
    "start_time": "2022-10-30T05:47:00.917Z"
   },
   {
    "duration": 19,
    "start_time": "2022-10-30T05:47:00.993Z"
   },
   {
    "duration": 27,
    "start_time": "2022-10-30T05:47:01.014Z"
   },
   {
    "duration": 12,
    "start_time": "2022-10-30T05:47:01.044Z"
   },
   {
    "duration": 54,
    "start_time": "2022-10-30T05:47:01.058Z"
   },
   {
    "duration": 3,
    "start_time": "2022-10-30T05:47:01.114Z"
   },
   {
    "duration": 20,
    "start_time": "2022-10-30T05:47:01.118Z"
   },
   {
    "duration": 4,
    "start_time": "2022-10-30T05:47:01.140Z"
   },
   {
    "duration": 12,
    "start_time": "2022-10-30T05:47:01.146Z"
   },
   {
    "duration": 8,
    "start_time": "2022-10-30T05:47:01.161Z"
   },
   {
    "duration": 33,
    "start_time": "2022-10-30T05:47:01.191Z"
   },
   {
    "duration": 10,
    "start_time": "2022-10-30T05:47:01.225Z"
   },
   {
    "duration": 12,
    "start_time": "2022-10-30T05:47:01.237Z"
   },
   {
    "duration": 11,
    "start_time": "2022-10-30T05:47:01.251Z"
   },
   {
    "duration": 42,
    "start_time": "2022-10-30T05:47:01.264Z"
   },
   {
    "duration": 19,
    "start_time": "2022-10-30T05:47:01.307Z"
   },
   {
    "duration": 4,
    "start_time": "2022-10-30T05:47:01.328Z"
   },
   {
    "duration": 22,
    "start_time": "2022-10-30T05:47:01.333Z"
   },
   {
    "duration": 11,
    "start_time": "2022-10-30T05:47:01.357Z"
   },
   {
    "duration": 21,
    "start_time": "2022-10-30T05:47:01.370Z"
   },
   {
    "duration": 16,
    "start_time": "2022-10-30T05:47:01.393Z"
   },
   {
    "duration": 321,
    "start_time": "2022-10-30T05:47:01.411Z"
   },
   {
    "duration": 89,
    "start_time": "2022-10-30T05:47:01.734Z"
   },
   {
    "duration": 0,
    "start_time": "2022-10-30T05:47:01.824Z"
   },
   {
    "duration": 0,
    "start_time": "2022-10-30T05:47:01.825Z"
   },
   {
    "duration": 67,
    "start_time": "2022-10-30T05:47:29.409Z"
   },
   {
    "duration": 17,
    "start_time": "2022-10-30T05:47:29.478Z"
   },
   {
    "duration": 14,
    "start_time": "2022-10-30T05:47:29.497Z"
   },
   {
    "duration": 9,
    "start_time": "2022-10-30T05:47:29.513Z"
   },
   {
    "duration": 32,
    "start_time": "2022-10-30T05:47:29.523Z"
   },
   {
    "duration": 3,
    "start_time": "2022-10-30T05:47:29.557Z"
   },
   {
    "duration": 35,
    "start_time": "2022-10-30T05:47:29.562Z"
   },
   {
    "duration": 5,
    "start_time": "2022-10-30T05:47:29.599Z"
   },
   {
    "duration": 7,
    "start_time": "2022-10-30T05:47:29.606Z"
   },
   {
    "duration": 5,
    "start_time": "2022-10-30T05:47:29.616Z"
   },
   {
    "duration": 70,
    "start_time": "2022-10-30T05:47:29.623Z"
   },
   {
    "duration": 13,
    "start_time": "2022-10-30T05:47:29.695Z"
   },
   {
    "duration": 4,
    "start_time": "2022-10-30T05:47:29.710Z"
   },
   {
    "duration": 10,
    "start_time": "2022-10-30T05:47:29.716Z"
   },
   {
    "duration": 24,
    "start_time": "2022-10-30T05:47:29.727Z"
   },
   {
    "duration": 38,
    "start_time": "2022-10-30T05:47:29.753Z"
   },
   {
    "duration": 3,
    "start_time": "2022-10-30T05:47:29.793Z"
   },
   {
    "duration": 12,
    "start_time": "2022-10-30T05:47:29.798Z"
   },
   {
    "duration": 5,
    "start_time": "2022-10-30T05:47:29.812Z"
   },
   {
    "duration": 3,
    "start_time": "2022-10-30T05:47:29.819Z"
   },
   {
    "duration": 11,
    "start_time": "2022-10-30T05:47:29.824Z"
   },
   {
    "duration": 380,
    "start_time": "2022-10-30T05:47:29.836Z"
   },
   {
    "duration": 19,
    "start_time": "2022-10-30T05:47:30.217Z"
   },
   {
    "duration": 14,
    "start_time": "2022-10-30T05:47:30.237Z"
   },
   {
    "duration": 31,
    "start_time": "2022-10-30T05:47:30.252Z"
   },
   {
    "duration": 68,
    "start_time": "2022-10-30T05:48:15.660Z"
   },
   {
    "duration": 19,
    "start_time": "2022-10-30T05:48:15.730Z"
   },
   {
    "duration": 16,
    "start_time": "2022-10-30T05:48:15.751Z"
   },
   {
    "duration": 11,
    "start_time": "2022-10-30T05:48:15.791Z"
   },
   {
    "duration": 32,
    "start_time": "2022-10-30T05:48:15.804Z"
   },
   {
    "duration": 3,
    "start_time": "2022-10-30T05:48:15.838Z"
   },
   {
    "duration": 12,
    "start_time": "2022-10-30T05:48:15.843Z"
   },
   {
    "duration": 6,
    "start_time": "2022-10-30T05:48:15.857Z"
   },
   {
    "duration": 5,
    "start_time": "2022-10-30T05:48:15.892Z"
   },
   {
    "duration": 6,
    "start_time": "2022-10-30T05:48:15.900Z"
   },
   {
    "duration": 32,
    "start_time": "2022-10-30T05:48:15.907Z"
   },
   {
    "duration": 9,
    "start_time": "2022-10-30T05:48:15.941Z"
   },
   {
    "duration": 3,
    "start_time": "2022-10-30T05:48:15.952Z"
   },
   {
    "duration": 36,
    "start_time": "2022-10-30T05:48:15.957Z"
   },
   {
    "duration": 19,
    "start_time": "2022-10-30T05:48:15.995Z"
   },
   {
    "duration": 18,
    "start_time": "2022-10-30T05:48:16.016Z"
   },
   {
    "duration": 4,
    "start_time": "2022-10-30T05:48:16.036Z"
   },
   {
    "duration": 18,
    "start_time": "2022-10-30T05:48:16.042Z"
   },
   {
    "duration": 31,
    "start_time": "2022-10-30T05:48:16.062Z"
   },
   {
    "duration": 3,
    "start_time": "2022-10-30T05:48:16.095Z"
   },
   {
    "duration": 10,
    "start_time": "2022-10-30T05:48:16.100Z"
   },
   {
    "duration": 345,
    "start_time": "2022-10-30T05:48:16.112Z"
   },
   {
    "duration": 77,
    "start_time": "2022-10-30T05:48:16.459Z"
   },
   {
    "duration": 0,
    "start_time": "2022-10-30T05:48:16.539Z"
   },
   {
    "duration": 0,
    "start_time": "2022-10-30T05:48:16.541Z"
   },
   {
    "duration": 69,
    "start_time": "2022-10-30T05:49:03.967Z"
   },
   {
    "duration": 19,
    "start_time": "2022-10-30T05:49:04.038Z"
   },
   {
    "duration": 56,
    "start_time": "2022-10-30T05:49:04.059Z"
   },
   {
    "duration": 10,
    "start_time": "2022-10-30T05:49:04.117Z"
   },
   {
    "duration": 36,
    "start_time": "2022-10-30T05:49:04.129Z"
   },
   {
    "duration": 4,
    "start_time": "2022-10-30T05:49:04.167Z"
   },
   {
    "duration": 19,
    "start_time": "2022-10-30T05:49:04.173Z"
   },
   {
    "duration": 4,
    "start_time": "2022-10-30T05:49:04.194Z"
   },
   {
    "duration": 6,
    "start_time": "2022-10-30T05:49:04.200Z"
   },
   {
    "duration": 5,
    "start_time": "2022-10-30T05:49:04.209Z"
   },
   {
    "duration": 87,
    "start_time": "2022-10-30T05:49:04.216Z"
   },
   {
    "duration": 10,
    "start_time": "2022-10-30T05:49:04.305Z"
   },
   {
    "duration": 6,
    "start_time": "2022-10-30T05:49:04.316Z"
   },
   {
    "duration": 16,
    "start_time": "2022-10-30T05:49:04.324Z"
   },
   {
    "duration": 25,
    "start_time": "2022-10-30T05:49:04.342Z"
   },
   {
    "duration": 35,
    "start_time": "2022-10-30T05:49:04.368Z"
   },
   {
    "duration": 4,
    "start_time": "2022-10-30T05:49:04.404Z"
   },
   {
    "duration": 16,
    "start_time": "2022-10-30T05:49:04.409Z"
   },
   {
    "duration": 9,
    "start_time": "2022-10-30T05:49:04.428Z"
   },
   {
    "duration": 5,
    "start_time": "2022-10-30T05:49:04.439Z"
   },
   {
    "duration": 48,
    "start_time": "2022-10-30T05:49:04.446Z"
   },
   {
    "duration": 319,
    "start_time": "2022-10-30T05:49:04.496Z"
   },
   {
    "duration": 73,
    "start_time": "2022-10-30T05:49:04.817Z"
   },
   {
    "duration": 0,
    "start_time": "2022-10-30T05:49:04.892Z"
   },
   {
    "duration": 0,
    "start_time": "2022-10-30T05:49:04.893Z"
   },
   {
    "duration": 68,
    "start_time": "2022-10-30T05:49:17.986Z"
   },
   {
    "duration": 21,
    "start_time": "2022-10-30T05:49:18.056Z"
   },
   {
    "duration": 18,
    "start_time": "2022-10-30T05:49:18.078Z"
   },
   {
    "duration": 8,
    "start_time": "2022-10-30T05:49:18.098Z"
   },
   {
    "duration": 33,
    "start_time": "2022-10-30T05:49:18.107Z"
   },
   {
    "duration": 4,
    "start_time": "2022-10-30T05:49:18.142Z"
   },
   {
    "duration": 14,
    "start_time": "2022-10-30T05:49:18.147Z"
   },
   {
    "duration": 5,
    "start_time": "2022-10-30T05:49:18.162Z"
   },
   {
    "duration": 7,
    "start_time": "2022-10-30T05:49:18.191Z"
   },
   {
    "duration": 5,
    "start_time": "2022-10-30T05:49:18.200Z"
   },
   {
    "duration": 38,
    "start_time": "2022-10-30T05:49:18.206Z"
   },
   {
    "duration": 10,
    "start_time": "2022-10-30T05:49:18.246Z"
   },
   {
    "duration": 5,
    "start_time": "2022-10-30T05:49:18.257Z"
   },
   {
    "duration": 11,
    "start_time": "2022-10-30T05:49:18.290Z"
   },
   {
    "duration": 20,
    "start_time": "2022-10-30T05:49:18.303Z"
   },
   {
    "duration": 19,
    "start_time": "2022-10-30T05:49:18.325Z"
   },
   {
    "duration": 3,
    "start_time": "2022-10-30T05:49:18.346Z"
   },
   {
    "duration": 13,
    "start_time": "2022-10-30T05:49:18.351Z"
   },
   {
    "duration": 8,
    "start_time": "2022-10-30T05:49:18.390Z"
   },
   {
    "duration": 4,
    "start_time": "2022-10-30T05:49:18.400Z"
   },
   {
    "duration": 17,
    "start_time": "2022-10-30T05:49:18.406Z"
   },
   {
    "duration": 346,
    "start_time": "2022-10-30T05:49:18.428Z"
   },
   {
    "duration": 70,
    "start_time": "2022-10-30T05:49:18.775Z"
   },
   {
    "duration": 0,
    "start_time": "2022-10-30T05:49:18.847Z"
   },
   {
    "duration": 0,
    "start_time": "2022-10-30T05:49:18.848Z"
   },
   {
    "duration": 70,
    "start_time": "2022-10-30T05:51:49.607Z"
   },
   {
    "duration": 19,
    "start_time": "2022-10-30T05:51:49.679Z"
   },
   {
    "duration": 15,
    "start_time": "2022-10-30T05:51:49.699Z"
   },
   {
    "duration": 9,
    "start_time": "2022-10-30T05:51:49.715Z"
   },
   {
    "duration": 32,
    "start_time": "2022-10-30T05:51:49.726Z"
   },
   {
    "duration": 3,
    "start_time": "2022-10-30T05:51:49.760Z"
   },
   {
    "duration": 12,
    "start_time": "2022-10-30T05:51:49.790Z"
   },
   {
    "duration": 5,
    "start_time": "2022-10-30T05:51:49.804Z"
   },
   {
    "duration": 7,
    "start_time": "2022-10-30T05:51:49.812Z"
   },
   {
    "duration": 6,
    "start_time": "2022-10-30T05:51:49.822Z"
   },
   {
    "duration": 32,
    "start_time": "2022-10-30T05:51:49.830Z"
   },
   {
    "duration": 35,
    "start_time": "2022-10-30T05:51:49.864Z"
   },
   {
    "duration": 4,
    "start_time": "2022-10-30T05:51:49.901Z"
   },
   {
    "duration": 25,
    "start_time": "2022-10-30T05:51:49.906Z"
   },
   {
    "duration": 27,
    "start_time": "2022-10-30T05:51:49.932Z"
   },
   {
    "duration": 31,
    "start_time": "2022-10-30T05:51:49.961Z"
   },
   {
    "duration": 3,
    "start_time": "2022-10-30T05:51:49.994Z"
   },
   {
    "duration": 28,
    "start_time": "2022-10-30T05:51:49.998Z"
   },
   {
    "duration": 15,
    "start_time": "2022-10-30T05:51:50.028Z"
   },
   {
    "duration": 3,
    "start_time": "2022-10-30T05:51:50.045Z"
   },
   {
    "duration": 11,
    "start_time": "2022-10-30T05:51:50.050Z"
   },
   {
    "duration": 318,
    "start_time": "2022-10-30T05:51:50.063Z"
   },
   {
    "duration": 74,
    "start_time": "2022-10-30T05:51:50.382Z"
   },
   {
    "duration": 0,
    "start_time": "2022-10-30T05:51:50.459Z"
   },
   {
    "duration": 0,
    "start_time": "2022-10-30T05:51:50.460Z"
   },
   {
    "duration": 65,
    "start_time": "2022-10-30T05:51:59.280Z"
   },
   {
    "duration": 16,
    "start_time": "2022-10-30T05:51:59.347Z"
   },
   {
    "duration": 30,
    "start_time": "2022-10-30T05:51:59.365Z"
   },
   {
    "duration": 11,
    "start_time": "2022-10-30T05:51:59.397Z"
   },
   {
    "duration": 40,
    "start_time": "2022-10-30T05:51:59.409Z"
   },
   {
    "duration": 4,
    "start_time": "2022-10-30T05:51:59.451Z"
   },
   {
    "duration": 22,
    "start_time": "2022-10-30T05:51:59.456Z"
   },
   {
    "duration": 5,
    "start_time": "2022-10-30T05:51:59.491Z"
   },
   {
    "duration": 17,
    "start_time": "2022-10-30T05:51:59.498Z"
   },
   {
    "duration": 6,
    "start_time": "2022-10-30T05:51:59.518Z"
   },
   {
    "duration": 47,
    "start_time": "2022-10-30T05:51:59.526Z"
   },
   {
    "duration": 23,
    "start_time": "2022-10-30T05:51:59.575Z"
   },
   {
    "duration": 5,
    "start_time": "2022-10-30T05:51:59.600Z"
   },
   {
    "duration": 17,
    "start_time": "2022-10-30T05:51:59.607Z"
   },
   {
    "duration": 28,
    "start_time": "2022-10-30T05:51:59.626Z"
   },
   {
    "duration": 39,
    "start_time": "2022-10-30T05:51:59.656Z"
   },
   {
    "duration": 5,
    "start_time": "2022-10-30T05:51:59.697Z"
   },
   {
    "duration": 20,
    "start_time": "2022-10-30T05:51:59.705Z"
   },
   {
    "duration": 21,
    "start_time": "2022-10-30T05:51:59.727Z"
   },
   {
    "duration": 4,
    "start_time": "2022-10-30T05:51:59.750Z"
   },
   {
    "duration": 24,
    "start_time": "2022-10-30T05:51:59.755Z"
   },
   {
    "duration": 318,
    "start_time": "2022-10-30T05:51:59.780Z"
   },
   {
    "duration": 74,
    "start_time": "2022-10-30T05:52:00.100Z"
   },
   {
    "duration": 0,
    "start_time": "2022-10-30T05:52:00.176Z"
   },
   {
    "duration": 0,
    "start_time": "2022-10-30T05:52:00.177Z"
   },
   {
    "duration": 66,
    "start_time": "2022-10-30T05:52:12.322Z"
   },
   {
    "duration": 17,
    "start_time": "2022-10-30T05:52:12.390Z"
   },
   {
    "duration": 15,
    "start_time": "2022-10-30T05:52:12.409Z"
   },
   {
    "duration": 10,
    "start_time": "2022-10-30T05:52:12.427Z"
   },
   {
    "duration": 65,
    "start_time": "2022-10-30T05:52:12.439Z"
   },
   {
    "duration": 3,
    "start_time": "2022-10-30T05:52:12.506Z"
   },
   {
    "duration": 12,
    "start_time": "2022-10-30T05:52:12.511Z"
   },
   {
    "duration": 12,
    "start_time": "2022-10-30T05:52:12.526Z"
   },
   {
    "duration": 6,
    "start_time": "2022-10-30T05:52:12.540Z"
   },
   {
    "duration": 4,
    "start_time": "2022-10-30T05:52:12.548Z"
   },
   {
    "duration": 59,
    "start_time": "2022-10-30T05:52:12.554Z"
   },
   {
    "duration": 15,
    "start_time": "2022-10-30T05:52:12.615Z"
   },
   {
    "duration": 78,
    "start_time": "2022-10-30T05:52:12.632Z"
   },
   {
    "duration": 10,
    "start_time": "2022-10-30T05:52:12.712Z"
   },
   {
    "duration": 16,
    "start_time": "2022-10-30T05:52:12.724Z"
   },
   {
    "duration": 20,
    "start_time": "2022-10-30T05:52:12.742Z"
   },
   {
    "duration": 3,
    "start_time": "2022-10-30T05:52:12.763Z"
   },
   {
    "duration": 10,
    "start_time": "2022-10-30T05:52:12.790Z"
   },
   {
    "duration": 9,
    "start_time": "2022-10-30T05:52:12.801Z"
   },
   {
    "duration": 4,
    "start_time": "2022-10-30T05:52:12.811Z"
   },
   {
    "duration": 9,
    "start_time": "2022-10-30T05:52:12.816Z"
   },
   {
    "duration": 324,
    "start_time": "2022-10-30T05:52:12.827Z"
   },
   {
    "duration": 73,
    "start_time": "2022-10-30T05:52:13.153Z"
   },
   {
    "duration": 0,
    "start_time": "2022-10-30T05:52:13.229Z"
   },
   {
    "duration": 0,
    "start_time": "2022-10-30T05:52:13.231Z"
   },
   {
    "duration": 63,
    "start_time": "2022-10-30T05:52:49.482Z"
   },
   {
    "duration": 16,
    "start_time": "2022-10-30T05:52:49.547Z"
   },
   {
    "duration": 14,
    "start_time": "2022-10-30T05:52:49.564Z"
   },
   {
    "duration": 16,
    "start_time": "2022-10-30T05:52:49.580Z"
   },
   {
    "duration": 37,
    "start_time": "2022-10-30T05:52:49.598Z"
   },
   {
    "duration": 5,
    "start_time": "2022-10-30T05:52:49.636Z"
   },
   {
    "duration": 10,
    "start_time": "2022-10-30T05:52:49.643Z"
   },
   {
    "duration": 4,
    "start_time": "2022-10-30T05:52:49.655Z"
   },
   {
    "duration": 34,
    "start_time": "2022-10-30T05:52:49.661Z"
   },
   {
    "duration": 14,
    "start_time": "2022-10-30T05:52:49.699Z"
   },
   {
    "duration": 36,
    "start_time": "2022-10-30T05:52:49.715Z"
   },
   {
    "duration": 39,
    "start_time": "2022-10-30T05:52:49.753Z"
   },
   {
    "duration": 4,
    "start_time": "2022-10-30T05:52:49.795Z"
   },
   {
    "duration": 10,
    "start_time": "2022-10-30T05:52:49.801Z"
   },
   {
    "duration": 18,
    "start_time": "2022-10-30T05:52:49.813Z"
   },
   {
    "duration": 17,
    "start_time": "2022-10-30T05:52:49.833Z"
   },
   {
    "duration": 4,
    "start_time": "2022-10-30T05:52:49.852Z"
   },
   {
    "duration": 42,
    "start_time": "2022-10-30T05:52:49.858Z"
   },
   {
    "duration": 8,
    "start_time": "2022-10-30T05:52:49.902Z"
   },
   {
    "duration": 3,
    "start_time": "2022-10-30T05:52:49.912Z"
   },
   {
    "duration": 10,
    "start_time": "2022-10-30T05:52:49.917Z"
   },
   {
    "duration": 331,
    "start_time": "2022-10-30T05:52:49.929Z"
   },
   {
    "duration": 75,
    "start_time": "2022-10-30T05:52:50.261Z"
   },
   {
    "duration": 0,
    "start_time": "2022-10-30T05:52:50.337Z"
   },
   {
    "duration": 0,
    "start_time": "2022-10-30T05:52:50.339Z"
   },
   {
    "duration": 688,
    "start_time": "2022-10-31T19:04:44.225Z"
   },
   {
    "duration": 23,
    "start_time": "2022-10-31T19:04:44.915Z"
   },
   {
    "duration": 14,
    "start_time": "2022-10-31T19:04:44.940Z"
   },
   {
    "duration": 10,
    "start_time": "2022-10-31T19:04:44.956Z"
   },
   {
    "duration": 34,
    "start_time": "2022-10-31T19:04:44.967Z"
   },
   {
    "duration": 3,
    "start_time": "2022-10-31T19:04:45.002Z"
   },
   {
    "duration": 31,
    "start_time": "2022-10-31T19:04:45.007Z"
   },
   {
    "duration": 4,
    "start_time": "2022-10-31T19:04:45.040Z"
   },
   {
    "duration": 11,
    "start_time": "2022-10-31T19:04:45.046Z"
   },
   {
    "duration": 3,
    "start_time": "2022-10-31T19:04:45.060Z"
   },
   {
    "duration": 42,
    "start_time": "2022-10-31T19:04:45.065Z"
   },
   {
    "duration": 10,
    "start_time": "2022-10-31T19:04:45.108Z"
   },
   {
    "duration": 4,
    "start_time": "2022-10-31T19:04:45.133Z"
   },
   {
    "duration": 15,
    "start_time": "2022-10-31T19:04:45.139Z"
   },
   {
    "duration": 19,
    "start_time": "2022-10-31T19:04:45.155Z"
   },
   {
    "duration": 16,
    "start_time": "2022-10-31T19:04:45.175Z"
   },
   {
    "duration": 3,
    "start_time": "2022-10-31T19:04:45.193Z"
   },
   {
    "duration": 13,
    "start_time": "2022-10-31T19:04:45.198Z"
   },
   {
    "duration": 6,
    "start_time": "2022-10-31T19:04:45.234Z"
   },
   {
    "duration": 4,
    "start_time": "2022-10-31T19:04:45.242Z"
   },
   {
    "duration": 18,
    "start_time": "2022-10-31T19:04:45.247Z"
   },
   {
    "duration": 764,
    "start_time": "2022-10-31T19:04:45.266Z"
   },
   {
    "duration": 27,
    "start_time": "2022-10-31T19:04:46.033Z"
   },
   {
    "duration": 2,
    "start_time": "2022-10-31T19:04:46.062Z"
   },
   {
    "duration": 12,
    "start_time": "2022-10-31T19:04:46.066Z"
   },
   {
    "duration": 73,
    "start_time": "2022-10-31T19:05:59.583Z"
   },
   {
    "duration": 19,
    "start_time": "2022-10-31T19:05:59.658Z"
   },
   {
    "duration": 25,
    "start_time": "2022-10-31T19:05:59.679Z"
   },
   {
    "duration": 27,
    "start_time": "2022-10-31T19:05:59.706Z"
   },
   {
    "duration": 46,
    "start_time": "2022-10-31T19:05:59.735Z"
   },
   {
    "duration": 4,
    "start_time": "2022-10-31T19:05:59.783Z"
   },
   {
    "duration": 12,
    "start_time": "2022-10-31T19:05:59.789Z"
   },
   {
    "duration": 3,
    "start_time": "2022-10-31T19:05:59.803Z"
   },
   {
    "duration": 29,
    "start_time": "2022-10-31T19:05:59.808Z"
   },
   {
    "duration": 5,
    "start_time": "2022-10-31T19:05:59.840Z"
   },
   {
    "duration": 61,
    "start_time": "2022-10-31T19:05:59.847Z"
   },
   {
    "duration": 10,
    "start_time": "2022-10-31T19:05:59.910Z"
   },
   {
    "duration": 3,
    "start_time": "2022-10-31T19:05:59.922Z"
   },
   {
    "duration": 11,
    "start_time": "2022-10-31T19:05:59.932Z"
   },
   {
    "duration": 21,
    "start_time": "2022-10-31T19:05:59.945Z"
   },
   {
    "duration": 18,
    "start_time": "2022-10-31T19:05:59.968Z"
   },
   {
    "duration": 4,
    "start_time": "2022-10-31T19:05:59.988Z"
   },
   {
    "duration": 16,
    "start_time": "2022-10-31T19:05:59.994Z"
   },
   {
    "duration": 6,
    "start_time": "2022-10-31T19:06:00.033Z"
   },
   {
    "duration": 4,
    "start_time": "2022-10-31T19:06:00.040Z"
   },
   {
    "duration": 21,
    "start_time": "2022-10-31T19:06:00.045Z"
   },
   {
    "duration": 319,
    "start_time": "2022-10-31T19:06:00.067Z"
   },
   {
    "duration": 408,
    "start_time": "2022-10-31T19:06:00.388Z"
   },
   {
    "duration": 3,
    "start_time": "2022-10-31T19:06:00.797Z"
   },
   {
    "duration": 23,
    "start_time": "2022-10-31T19:06:00.802Z"
   },
   {
    "duration": 70,
    "start_time": "2022-10-31T19:06:36.594Z"
   },
   {
    "duration": 17,
    "start_time": "2022-10-31T19:06:36.666Z"
   },
   {
    "duration": 17,
    "start_time": "2022-10-31T19:06:36.685Z"
   },
   {
    "duration": 30,
    "start_time": "2022-10-31T19:06:36.704Z"
   },
   {
    "duration": 35,
    "start_time": "2022-10-31T19:06:36.736Z"
   },
   {
    "duration": 4,
    "start_time": "2022-10-31T19:06:36.772Z"
   },
   {
    "duration": 20,
    "start_time": "2022-10-31T19:06:36.778Z"
   },
   {
    "duration": 4,
    "start_time": "2022-10-31T19:06:36.799Z"
   },
   {
    "duration": 11,
    "start_time": "2022-10-31T19:06:36.804Z"
   },
   {
    "duration": 19,
    "start_time": "2022-10-31T19:06:36.817Z"
   },
   {
    "duration": 36,
    "start_time": "2022-10-31T19:06:36.838Z"
   },
   {
    "duration": 10,
    "start_time": "2022-10-31T19:06:36.875Z"
   },
   {
    "duration": 4,
    "start_time": "2022-10-31T19:06:36.886Z"
   },
   {
    "duration": 12,
    "start_time": "2022-10-31T19:06:36.891Z"
   },
   {
    "duration": 40,
    "start_time": "2022-10-31T19:06:36.905Z"
   },
   {
    "duration": 18,
    "start_time": "2022-10-31T19:06:36.947Z"
   },
   {
    "duration": 3,
    "start_time": "2022-10-31T19:06:36.967Z"
   },
   {
    "duration": 16,
    "start_time": "2022-10-31T19:06:36.971Z"
   },
   {
    "duration": 7,
    "start_time": "2022-10-31T19:06:36.989Z"
   },
   {
    "duration": 3,
    "start_time": "2022-10-31T19:06:36.998Z"
   },
   {
    "duration": 32,
    "start_time": "2022-10-31T19:06:37.003Z"
   },
   {
    "duration": 323,
    "start_time": "2022-10-31T19:06:37.037Z"
   },
   {
    "duration": 179,
    "start_time": "2022-10-31T19:06:37.362Z"
   },
   {
    "duration": 2,
    "start_time": "2022-10-31T19:06:37.543Z"
   },
   {
    "duration": 8,
    "start_time": "2022-10-31T19:06:37.547Z"
   },
   {
    "duration": 782,
    "start_time": "2022-11-01T19:07:23.141Z"
   },
   {
    "duration": 28,
    "start_time": "2022-11-01T19:07:23.925Z"
   },
   {
    "duration": 20,
    "start_time": "2022-11-01T19:07:23.955Z"
   },
   {
    "duration": 15,
    "start_time": "2022-11-01T19:07:23.977Z"
   },
   {
    "duration": 65,
    "start_time": "2022-11-01T19:07:23.994Z"
   },
   {
    "duration": 4,
    "start_time": "2022-11-01T19:07:24.061Z"
   },
   {
    "duration": 20,
    "start_time": "2022-11-01T19:07:24.067Z"
   },
   {
    "duration": 8,
    "start_time": "2022-11-01T19:07:24.089Z"
   },
   {
    "duration": 10,
    "start_time": "2022-11-01T19:07:24.099Z"
   },
   {
    "duration": 6,
    "start_time": "2022-11-01T19:07:24.113Z"
   },
   {
    "duration": 62,
    "start_time": "2022-11-01T19:07:24.121Z"
   },
   {
    "duration": 12,
    "start_time": "2022-11-01T19:07:24.185Z"
   },
   {
    "duration": 9,
    "start_time": "2022-11-01T19:07:24.198Z"
   },
   {
    "duration": 22,
    "start_time": "2022-11-01T19:07:24.209Z"
   },
   {
    "duration": 38,
    "start_time": "2022-11-01T19:07:24.233Z"
   },
   {
    "duration": 28,
    "start_time": "2022-11-01T19:07:24.273Z"
   },
   {
    "duration": 10,
    "start_time": "2022-11-01T19:07:24.303Z"
   },
   {
    "duration": 16,
    "start_time": "2022-11-01T19:07:24.315Z"
   },
   {
    "duration": 12,
    "start_time": "2022-11-01T19:07:24.333Z"
   },
   {
    "duration": 13,
    "start_time": "2022-11-01T19:07:24.347Z"
   },
   {
    "duration": 20,
    "start_time": "2022-11-01T19:07:24.362Z"
   },
   {
    "duration": 813,
    "start_time": "2022-11-01T19:07:24.384Z"
   },
   {
    "duration": 3,
    "start_time": "2022-11-01T19:07:25.199Z"
   },
   {
    "duration": 10,
    "start_time": "2022-11-01T19:07:25.204Z"
   },
   {
    "duration": 495,
    "start_time": "2022-11-01T19:07:44.875Z"
   },
   {
    "duration": 31,
    "start_time": "2022-11-01T19:07:45.372Z"
   },
   {
    "duration": 25,
    "start_time": "2022-11-01T19:07:45.405Z"
   },
   {
    "duration": 30,
    "start_time": "2022-11-01T19:07:45.432Z"
   },
   {
    "duration": 43,
    "start_time": "2022-11-01T19:07:45.465Z"
   },
   {
    "duration": 5,
    "start_time": "2022-11-01T19:07:45.510Z"
   },
   {
    "duration": 17,
    "start_time": "2022-11-01T19:07:45.516Z"
   },
   {
    "duration": 22,
    "start_time": "2022-11-01T19:07:45.534Z"
   },
   {
    "duration": 34,
    "start_time": "2022-11-01T19:07:45.559Z"
   },
   {
    "duration": 29,
    "start_time": "2022-11-01T19:07:45.595Z"
   },
   {
    "duration": 43,
    "start_time": "2022-11-01T19:07:45.626Z"
   },
   {
    "duration": 16,
    "start_time": "2022-11-01T19:07:45.672Z"
   },
   {
    "duration": 13,
    "start_time": "2022-11-01T19:07:45.690Z"
   },
   {
    "duration": 32,
    "start_time": "2022-11-01T19:07:45.706Z"
   },
   {
    "duration": 43,
    "start_time": "2022-11-01T19:07:45.740Z"
   },
   {
    "duration": 20,
    "start_time": "2022-11-01T19:07:45.786Z"
   },
   {
    "duration": 21,
    "start_time": "2022-11-01T19:07:45.808Z"
   },
   {
    "duration": 41,
    "start_time": "2022-11-01T19:07:45.831Z"
   },
   {
    "duration": 16,
    "start_time": "2022-11-01T19:07:45.875Z"
   },
   {
    "duration": 21,
    "start_time": "2022-11-01T19:07:45.893Z"
   },
   {
    "duration": 31,
    "start_time": "2022-11-01T19:07:45.916Z"
   },
   {
    "duration": 709,
    "start_time": "2022-11-01T19:07:45.949Z"
   },
   {
    "duration": 3,
    "start_time": "2022-11-01T19:07:46.660Z"
   },
   {
    "duration": 43,
    "start_time": "2022-11-01T19:07:46.665Z"
   },
   {
    "duration": 87,
    "start_time": "2022-11-01T19:08:25.399Z"
   },
   {
    "duration": 22,
    "start_time": "2022-11-01T19:08:25.489Z"
   },
   {
    "duration": 26,
    "start_time": "2022-11-01T19:08:25.513Z"
   },
   {
    "duration": 24,
    "start_time": "2022-11-01T19:08:25.541Z"
   },
   {
    "duration": 50,
    "start_time": "2022-11-01T19:08:25.567Z"
   },
   {
    "duration": 4,
    "start_time": "2022-11-01T19:08:25.618Z"
   },
   {
    "duration": 14,
    "start_time": "2022-11-01T19:08:25.624Z"
   },
   {
    "duration": 5,
    "start_time": "2022-11-01T19:08:25.655Z"
   },
   {
    "duration": 16,
    "start_time": "2022-11-01T19:08:25.662Z"
   },
   {
    "duration": 9,
    "start_time": "2022-11-01T19:08:25.681Z"
   },
   {
    "duration": 40,
    "start_time": "2022-11-01T19:08:25.692Z"
   },
   {
    "duration": 39,
    "start_time": "2022-11-01T19:08:25.734Z"
   },
   {
    "duration": 5,
    "start_time": "2022-11-01T19:08:25.778Z"
   },
   {
    "duration": 25,
    "start_time": "2022-11-01T19:08:25.785Z"
   },
   {
    "duration": 36,
    "start_time": "2022-11-01T19:08:25.812Z"
   },
   {
    "duration": 24,
    "start_time": "2022-11-01T19:08:25.849Z"
   },
   {
    "duration": 4,
    "start_time": "2022-11-01T19:08:25.875Z"
   },
   {
    "duration": 20,
    "start_time": "2022-11-01T19:08:25.881Z"
   },
   {
    "duration": 14,
    "start_time": "2022-11-01T19:08:25.903Z"
   },
   {
    "duration": 6,
    "start_time": "2022-11-01T19:08:25.920Z"
   },
   {
    "duration": 29,
    "start_time": "2022-11-01T19:08:25.928Z"
   },
   {
    "duration": 409,
    "start_time": "2022-11-01T19:08:25.959Z"
   },
   {
    "duration": 3,
    "start_time": "2022-11-01T19:08:26.370Z"
   },
   {
    "duration": 14,
    "start_time": "2022-11-01T19:08:26.376Z"
   },
   {
    "duration": 475,
    "start_time": "2022-11-01T19:09:29.310Z"
   },
   {
    "duration": 26,
    "start_time": "2022-11-01T19:09:29.788Z"
   },
   {
    "duration": 17,
    "start_time": "2022-11-01T19:09:29.817Z"
   },
   {
    "duration": 34,
    "start_time": "2022-11-01T19:09:29.836Z"
   },
   {
    "duration": 49,
    "start_time": "2022-11-01T19:09:29.873Z"
   },
   {
    "duration": 4,
    "start_time": "2022-11-01T19:09:29.924Z"
   },
   {
    "duration": 16,
    "start_time": "2022-11-01T19:09:29.930Z"
   },
   {
    "duration": 13,
    "start_time": "2022-11-01T19:09:29.948Z"
   },
   {
    "duration": 12,
    "start_time": "2022-11-01T19:09:29.963Z"
   },
   {
    "duration": 5,
    "start_time": "2022-11-01T19:09:29.977Z"
   },
   {
    "duration": 40,
    "start_time": "2022-11-01T19:09:29.984Z"
   },
   {
    "duration": 48,
    "start_time": "2022-11-01T19:09:30.026Z"
   },
   {
    "duration": 23,
    "start_time": "2022-11-01T19:09:30.077Z"
   },
   {
    "duration": 52,
    "start_time": "2022-11-01T19:09:30.103Z"
   },
   {
    "duration": 60,
    "start_time": "2022-11-01T19:09:30.157Z"
   },
   {
    "duration": 24,
    "start_time": "2022-11-01T19:09:30.219Z"
   },
   {
    "duration": 4,
    "start_time": "2022-11-01T19:09:30.245Z"
   },
   {
    "duration": 61,
    "start_time": "2022-11-01T19:09:30.250Z"
   },
   {
    "duration": 73,
    "start_time": "2022-11-01T19:09:30.313Z"
   },
   {
    "duration": 45,
    "start_time": "2022-11-01T19:09:30.388Z"
   },
   {
    "duration": 46,
    "start_time": "2022-11-01T19:09:30.435Z"
   },
   {
    "duration": 733,
    "start_time": "2022-11-01T19:09:30.483Z"
   },
   {
    "duration": 3,
    "start_time": "2022-11-01T19:09:31.218Z"
   },
   {
    "duration": 19,
    "start_time": "2022-11-01T19:09:31.223Z"
   },
   {
    "duration": 77,
    "start_time": "2022-11-01T19:10:32.429Z"
   },
   {
    "duration": 18,
    "start_time": "2022-11-01T19:10:32.508Z"
   },
   {
    "duration": 35,
    "start_time": "2022-11-01T19:10:32.528Z"
   },
   {
    "duration": 15,
    "start_time": "2022-11-01T19:10:32.565Z"
   },
   {
    "duration": 37,
    "start_time": "2022-11-01T19:10:32.582Z"
   },
   {
    "duration": 5,
    "start_time": "2022-11-01T19:10:32.621Z"
   },
   {
    "duration": 31,
    "start_time": "2022-11-01T19:10:32.628Z"
   },
   {
    "duration": 16,
    "start_time": "2022-11-01T19:10:32.661Z"
   },
   {
    "duration": 8,
    "start_time": "2022-11-01T19:10:32.679Z"
   },
   {
    "duration": 4,
    "start_time": "2022-11-01T19:10:32.690Z"
   },
   {
    "duration": 36,
    "start_time": "2022-11-01T19:10:32.696Z"
   },
   {
    "duration": 24,
    "start_time": "2022-11-01T19:10:32.734Z"
   },
   {
    "duration": 8,
    "start_time": "2022-11-01T19:10:32.760Z"
   },
   {
    "duration": 18,
    "start_time": "2022-11-01T19:10:32.770Z"
   },
   {
    "duration": 25,
    "start_time": "2022-11-01T19:10:32.790Z"
   },
   {
    "duration": 18,
    "start_time": "2022-11-01T19:10:32.816Z"
   },
   {
    "duration": 18,
    "start_time": "2022-11-01T19:10:32.836Z"
   },
   {
    "duration": 20,
    "start_time": "2022-11-01T19:10:32.856Z"
   },
   {
    "duration": 10,
    "start_time": "2022-11-01T19:10:32.878Z"
   },
   {
    "duration": 4,
    "start_time": "2022-11-01T19:10:32.889Z"
   },
   {
    "duration": 11,
    "start_time": "2022-11-01T19:10:32.894Z"
   },
   {
    "duration": 353,
    "start_time": "2022-11-01T19:10:32.907Z"
   },
   {
    "duration": 194,
    "start_time": "2022-11-01T19:10:33.261Z"
   },
   {
    "duration": 2,
    "start_time": "2022-11-01T19:10:33.457Z"
   },
   {
    "duration": 22,
    "start_time": "2022-11-01T19:10:33.461Z"
   },
   {
    "duration": 74,
    "start_time": "2022-11-01T19:25:37.304Z"
   },
   {
    "duration": 19,
    "start_time": "2022-11-01T19:25:37.380Z"
   },
   {
    "duration": 22,
    "start_time": "2022-11-01T19:25:37.401Z"
   },
   {
    "duration": 27,
    "start_time": "2022-11-01T19:25:37.427Z"
   },
   {
    "duration": 34,
    "start_time": "2022-11-01T19:25:37.455Z"
   },
   {
    "duration": 4,
    "start_time": "2022-11-01T19:25:37.491Z"
   },
   {
    "duration": 12,
    "start_time": "2022-11-01T19:25:37.497Z"
   },
   {
    "duration": 12,
    "start_time": "2022-11-01T19:25:37.511Z"
   },
   {
    "duration": 9,
    "start_time": "2022-11-01T19:25:37.525Z"
   },
   {
    "duration": 18,
    "start_time": "2022-11-01T19:25:37.537Z"
   },
   {
    "duration": 109,
    "start_time": "2022-11-01T19:25:37.556Z"
   },
   {
    "duration": 9,
    "start_time": "2022-11-01T19:25:37.667Z"
   },
   {
    "duration": 10,
    "start_time": "2022-11-01T19:25:37.678Z"
   },
   {
    "duration": 12,
    "start_time": "2022-11-01T19:25:37.689Z"
   },
   {
    "duration": 22,
    "start_time": "2022-11-01T19:25:37.702Z"
   },
   {
    "duration": 38,
    "start_time": "2022-11-01T19:25:37.726Z"
   },
   {
    "duration": 3,
    "start_time": "2022-11-01T19:25:37.766Z"
   },
   {
    "duration": 25,
    "start_time": "2022-11-01T19:25:37.771Z"
   },
   {
    "duration": 9,
    "start_time": "2022-11-01T19:25:37.798Z"
   },
   {
    "duration": 5,
    "start_time": "2022-11-01T19:25:37.809Z"
   },
   {
    "duration": 38,
    "start_time": "2022-11-01T19:25:37.816Z"
   },
   {
    "duration": 320,
    "start_time": "2022-11-01T19:25:37.857Z"
   },
   {
    "duration": 450,
    "start_time": "2022-11-01T19:25:57.314Z"
   },
   {
    "duration": 27,
    "start_time": "2022-11-01T19:25:57.766Z"
   },
   {
    "duration": 16,
    "start_time": "2022-11-01T19:25:57.794Z"
   },
   {
    "duration": 10,
    "start_time": "2022-11-01T19:25:57.812Z"
   },
   {
    "duration": 59,
    "start_time": "2022-11-01T19:25:57.825Z"
   },
   {
    "duration": 3,
    "start_time": "2022-11-01T19:25:57.886Z"
   },
   {
    "duration": 11,
    "start_time": "2022-11-01T19:25:57.891Z"
   },
   {
    "duration": 4,
    "start_time": "2022-11-01T19:25:57.904Z"
   },
   {
    "duration": 9,
    "start_time": "2022-11-01T19:25:57.910Z"
   },
   {
    "duration": 6,
    "start_time": "2022-11-01T19:25:57.921Z"
   },
   {
    "duration": 57,
    "start_time": "2022-11-01T19:25:57.928Z"
   },
   {
    "duration": 10,
    "start_time": "2022-11-01T19:25:57.987Z"
   },
   {
    "duration": 10,
    "start_time": "2022-11-01T19:25:57.998Z"
   },
   {
    "duration": 19,
    "start_time": "2022-11-01T19:25:58.010Z"
   },
   {
    "duration": 31,
    "start_time": "2022-11-01T19:25:58.030Z"
   },
   {
    "duration": 18,
    "start_time": "2022-11-01T19:25:58.062Z"
   },
   {
    "duration": 4,
    "start_time": "2022-11-01T19:25:58.081Z"
   },
   {
    "duration": 12,
    "start_time": "2022-11-01T19:25:58.087Z"
   },
   {
    "duration": 21,
    "start_time": "2022-11-01T19:25:58.101Z"
   },
   {
    "duration": 5,
    "start_time": "2022-11-01T19:25:58.124Z"
   },
   {
    "duration": 25,
    "start_time": "2022-11-01T19:25:58.131Z"
   },
   {
    "duration": 597,
    "start_time": "2022-11-01T19:25:58.158Z"
   },
   {
    "duration": 102,
    "start_time": "2022-11-01T19:25:58.757Z"
   },
   {
    "duration": 0,
    "start_time": "2022-11-01T19:25:58.861Z"
   },
   {
    "duration": 0,
    "start_time": "2022-11-01T19:25:58.863Z"
   },
   {
    "duration": 73,
    "start_time": "2022-11-01T19:26:42.790Z"
   },
   {
    "duration": 18,
    "start_time": "2022-11-01T19:26:42.865Z"
   },
   {
    "duration": 23,
    "start_time": "2022-11-01T19:26:42.885Z"
   },
   {
    "duration": 9,
    "start_time": "2022-11-01T19:26:42.910Z"
   },
   {
    "duration": 48,
    "start_time": "2022-11-01T19:26:42.921Z"
   },
   {
    "duration": 3,
    "start_time": "2022-11-01T19:26:42.971Z"
   },
   {
    "duration": 15,
    "start_time": "2022-11-01T19:26:42.976Z"
   },
   {
    "duration": 4,
    "start_time": "2022-11-01T19:26:42.993Z"
   },
   {
    "duration": 12,
    "start_time": "2022-11-01T19:26:42.998Z"
   },
   {
    "duration": 9,
    "start_time": "2022-11-01T19:26:43.013Z"
   },
   {
    "duration": 44,
    "start_time": "2022-11-01T19:26:43.024Z"
   },
   {
    "duration": 9,
    "start_time": "2022-11-01T19:26:43.069Z"
   },
   {
    "duration": 8,
    "start_time": "2022-11-01T19:26:43.080Z"
   },
   {
    "duration": 13,
    "start_time": "2022-11-01T19:26:43.089Z"
   },
   {
    "duration": 27,
    "start_time": "2022-11-01T19:26:43.104Z"
   },
   {
    "duration": 32,
    "start_time": "2022-11-01T19:26:43.133Z"
   },
   {
    "duration": 4,
    "start_time": "2022-11-01T19:26:43.166Z"
   },
   {
    "duration": 15,
    "start_time": "2022-11-01T19:26:43.172Z"
   },
   {
    "duration": 8,
    "start_time": "2022-11-01T19:26:43.188Z"
   },
   {
    "duration": 4,
    "start_time": "2022-11-01T19:26:43.197Z"
   },
   {
    "duration": 10,
    "start_time": "2022-11-01T19:26:43.203Z"
   },
   {
    "duration": 335,
    "start_time": "2022-11-01T19:26:43.214Z"
   },
   {
    "duration": 174,
    "start_time": "2022-11-01T19:26:43.553Z"
   },
   {
    "duration": 249,
    "start_time": "2022-11-01T19:26:43.728Z"
   },
   {
    "duration": 2,
    "start_time": "2022-11-01T19:26:43.979Z"
   },
   {
    "duration": 78,
    "start_time": "2022-11-01T19:26:58.949Z"
   },
   {
    "duration": 20,
    "start_time": "2022-11-01T19:26:59.030Z"
   },
   {
    "duration": 40,
    "start_time": "2022-11-01T19:26:59.054Z"
   },
   {
    "duration": 18,
    "start_time": "2022-11-01T19:26:59.097Z"
   },
   {
    "duration": 46,
    "start_time": "2022-11-01T19:26:59.117Z"
   },
   {
    "duration": 4,
    "start_time": "2022-11-01T19:26:59.165Z"
   },
   {
    "duration": 25,
    "start_time": "2022-11-01T19:26:59.171Z"
   },
   {
    "duration": 9,
    "start_time": "2022-11-01T19:26:59.198Z"
   },
   {
    "duration": 40,
    "start_time": "2022-11-01T19:26:59.209Z"
   },
   {
    "duration": 30,
    "start_time": "2022-11-01T19:26:59.254Z"
   },
   {
    "duration": 61,
    "start_time": "2022-11-01T19:26:59.286Z"
   },
   {
    "duration": 11,
    "start_time": "2022-11-01T19:26:59.349Z"
   },
   {
    "duration": 21,
    "start_time": "2022-11-01T19:26:59.362Z"
   },
   {
    "duration": 23,
    "start_time": "2022-11-01T19:26:59.384Z"
   },
   {
    "duration": 33,
    "start_time": "2022-11-01T19:26:59.409Z"
   },
   {
    "duration": 19,
    "start_time": "2022-11-01T19:26:59.443Z"
   },
   {
    "duration": 4,
    "start_time": "2022-11-01T19:26:59.464Z"
   },
   {
    "duration": 22,
    "start_time": "2022-11-01T19:26:59.469Z"
   },
   {
    "duration": 32,
    "start_time": "2022-11-01T19:26:59.493Z"
   },
   {
    "duration": 6,
    "start_time": "2022-11-01T19:26:59.527Z"
   },
   {
    "duration": 33,
    "start_time": "2022-11-01T19:26:59.535Z"
   },
   {
    "duration": 336,
    "start_time": "2022-11-01T19:26:59.570Z"
   },
   {
    "duration": 192,
    "start_time": "2022-11-01T19:26:59.907Z"
   },
   {
    "duration": 260376,
    "start_time": "2022-11-01T19:27:00.100Z"
   },
   {
    "duration": 3,
    "start_time": "2022-11-01T19:31:20.478Z"
   },
   {
    "duration": 76,
    "start_time": "2022-11-01T19:32:24.584Z"
   },
   {
    "duration": 19,
    "start_time": "2022-11-01T19:32:24.663Z"
   },
   {
    "duration": 26,
    "start_time": "2022-11-01T19:32:24.684Z"
   },
   {
    "duration": 12,
    "start_time": "2022-11-01T19:32:24.713Z"
   },
   {
    "duration": 42,
    "start_time": "2022-11-01T19:32:24.727Z"
   },
   {
    "duration": 3,
    "start_time": "2022-11-01T19:32:24.771Z"
   },
   {
    "duration": 22,
    "start_time": "2022-11-01T19:32:24.776Z"
   },
   {
    "duration": 31,
    "start_time": "2022-11-01T19:32:24.800Z"
   },
   {
    "duration": 29,
    "start_time": "2022-11-01T19:32:24.832Z"
   },
   {
    "duration": 25,
    "start_time": "2022-11-01T19:32:24.864Z"
   },
   {
    "duration": 50,
    "start_time": "2022-11-01T19:32:24.891Z"
   },
   {
    "duration": 12,
    "start_time": "2022-11-01T19:32:24.943Z"
   },
   {
    "duration": 12,
    "start_time": "2022-11-01T19:32:24.956Z"
   },
   {
    "duration": 25,
    "start_time": "2022-11-01T19:32:24.970Z"
   },
   {
    "duration": 41,
    "start_time": "2022-11-01T19:32:24.997Z"
   },
   {
    "duration": 25,
    "start_time": "2022-11-01T19:32:25.040Z"
   },
   {
    "duration": 4,
    "start_time": "2022-11-01T19:32:25.067Z"
   },
   {
    "duration": 23,
    "start_time": "2022-11-01T19:32:25.073Z"
   },
   {
    "duration": 24,
    "start_time": "2022-11-01T19:32:25.098Z"
   },
   {
    "duration": 10,
    "start_time": "2022-11-01T19:32:25.124Z"
   },
   {
    "duration": 30,
    "start_time": "2022-11-01T19:32:25.135Z"
   },
   {
    "duration": 343,
    "start_time": "2022-11-01T19:32:25.167Z"
   },
   {
    "duration": 210,
    "start_time": "2022-11-01T19:32:25.512Z"
   },
   {
    "duration": 473,
    "start_time": "2022-11-01T19:34:16.065Z"
   },
   {
    "duration": 26,
    "start_time": "2022-11-01T19:34:16.540Z"
   },
   {
    "duration": 15,
    "start_time": "2022-11-01T19:34:16.567Z"
   },
   {
    "duration": 9,
    "start_time": "2022-11-01T19:34:16.585Z"
   },
   {
    "duration": 36,
    "start_time": "2022-11-01T19:34:16.596Z"
   },
   {
    "duration": 22,
    "start_time": "2022-11-01T19:34:16.634Z"
   },
   {
    "duration": 24,
    "start_time": "2022-11-01T19:34:16.658Z"
   },
   {
    "duration": 5,
    "start_time": "2022-11-01T19:34:16.685Z"
   },
   {
    "duration": 15,
    "start_time": "2022-11-01T19:34:16.692Z"
   },
   {
    "duration": 18,
    "start_time": "2022-11-01T19:34:16.711Z"
   },
   {
    "duration": 39,
    "start_time": "2022-11-01T19:34:16.731Z"
   },
   {
    "duration": 10,
    "start_time": "2022-11-01T19:34:16.771Z"
   },
   {
    "duration": 4,
    "start_time": "2022-11-01T19:34:16.783Z"
   },
   {
    "duration": 13,
    "start_time": "2022-11-01T19:34:16.788Z"
   },
   {
    "duration": 24,
    "start_time": "2022-11-01T19:34:16.803Z"
   },
   {
    "duration": 38,
    "start_time": "2022-11-01T19:34:16.828Z"
   },
   {
    "duration": 4,
    "start_time": "2022-11-01T19:34:16.868Z"
   },
   {
    "duration": 16,
    "start_time": "2022-11-01T19:34:16.874Z"
   },
   {
    "duration": 13,
    "start_time": "2022-11-01T19:34:16.892Z"
   },
   {
    "duration": 4,
    "start_time": "2022-11-01T19:34:16.907Z"
   },
   {
    "duration": 15,
    "start_time": "2022-11-01T19:34:16.912Z"
   },
   {
    "duration": 576,
    "start_time": "2022-11-01T19:34:16.929Z"
   },
   {
    "duration": 189,
    "start_time": "2022-11-01T19:34:17.507Z"
   },
   {
    "duration": 191,
    "start_time": "2022-11-01T19:34:17.698Z"
   },
   {
    "duration": 3,
    "start_time": "2022-11-01T19:34:17.890Z"
   },
   {
    "duration": 74,
    "start_time": "2022-11-01T19:40:34.537Z"
   },
   {
    "duration": 16,
    "start_time": "2022-11-01T19:40:34.613Z"
   },
   {
    "duration": 25,
    "start_time": "2022-11-01T19:40:34.630Z"
   },
   {
    "duration": 10,
    "start_time": "2022-11-01T19:40:34.657Z"
   },
   {
    "duration": 33,
    "start_time": "2022-11-01T19:40:34.670Z"
   },
   {
    "duration": 4,
    "start_time": "2022-11-01T19:40:34.705Z"
   },
   {
    "duration": 10,
    "start_time": "2022-11-01T19:40:34.710Z"
   },
   {
    "duration": 4,
    "start_time": "2022-11-01T19:40:34.722Z"
   },
   {
    "duration": 7,
    "start_time": "2022-11-01T19:40:34.754Z"
   },
   {
    "duration": 12,
    "start_time": "2022-11-01T19:40:34.762Z"
   },
   {
    "duration": 35,
    "start_time": "2022-11-01T19:40:34.776Z"
   },
   {
    "duration": 9,
    "start_time": "2022-11-01T19:40:34.813Z"
   },
   {
    "duration": 8,
    "start_time": "2022-11-01T19:40:34.823Z"
   },
   {
    "duration": 29,
    "start_time": "2022-11-01T19:40:34.833Z"
   },
   {
    "duration": 20,
    "start_time": "2022-11-01T19:40:34.864Z"
   },
   {
    "duration": 17,
    "start_time": "2022-11-01T19:40:34.886Z"
   },
   {
    "duration": 4,
    "start_time": "2022-11-01T19:40:34.905Z"
   },
   {
    "duration": 20,
    "start_time": "2022-11-01T19:40:34.910Z"
   },
   {
    "duration": 24,
    "start_time": "2022-11-01T19:40:34.932Z"
   },
   {
    "duration": 7,
    "start_time": "2022-11-01T19:40:34.958Z"
   },
   {
    "duration": 11,
    "start_time": "2022-11-01T19:40:34.966Z"
   },
   {
    "duration": 403,
    "start_time": "2022-11-01T19:40:34.979Z"
   },
   {
    "duration": 218,
    "start_time": "2022-11-01T19:40:35.384Z"
   },
   {
    "duration": 183,
    "start_time": "2022-11-01T19:40:35.605Z"
   },
   {
    "duration": 468,
    "start_time": "2022-11-01T19:40:35.790Z"
   },
   {
    "duration": 73,
    "start_time": "2022-11-01T19:41:47.491Z"
   },
   {
    "duration": 18,
    "start_time": "2022-11-01T19:41:47.566Z"
   },
   {
    "duration": 34,
    "start_time": "2022-11-01T19:41:47.586Z"
   },
   {
    "duration": 30,
    "start_time": "2022-11-01T19:41:47.623Z"
   },
   {
    "duration": 99,
    "start_time": "2022-11-01T19:41:47.654Z"
   },
   {
    "duration": 10,
    "start_time": "2022-11-01T19:41:47.754Z"
   },
   {
    "duration": 76,
    "start_time": "2022-11-01T19:41:47.766Z"
   },
   {
    "duration": 40,
    "start_time": "2022-11-01T19:41:47.844Z"
   },
   {
    "duration": 39,
    "start_time": "2022-11-01T19:41:47.885Z"
   },
   {
    "duration": 40,
    "start_time": "2022-11-01T19:41:47.927Z"
   },
   {
    "duration": 67,
    "start_time": "2022-11-01T19:41:47.969Z"
   },
   {
    "duration": 14,
    "start_time": "2022-11-01T19:41:48.038Z"
   },
   {
    "duration": 41,
    "start_time": "2022-11-01T19:41:48.056Z"
   },
   {
    "duration": 66,
    "start_time": "2022-11-01T19:41:48.098Z"
   },
   {
    "duration": 62,
    "start_time": "2022-11-01T19:41:48.166Z"
   },
   {
    "duration": 39,
    "start_time": "2022-11-01T19:41:48.230Z"
   },
   {
    "duration": 31,
    "start_time": "2022-11-01T19:41:48.272Z"
   },
   {
    "duration": 36,
    "start_time": "2022-11-01T19:41:48.305Z"
   },
   {
    "duration": 72,
    "start_time": "2022-11-01T19:41:48.344Z"
   },
   {
    "duration": 58,
    "start_time": "2022-11-01T19:41:48.419Z"
   },
   {
    "duration": 44,
    "start_time": "2022-11-01T19:41:48.479Z"
   },
   {
    "duration": 339,
    "start_time": "2022-11-01T19:41:48.524Z"
   },
   {
    "duration": 185,
    "start_time": "2022-11-01T19:41:48.865Z"
   },
   {
    "duration": 182,
    "start_time": "2022-11-01T19:41:49.054Z"
   },
   {
    "duration": 176,
    "start_time": "2022-11-01T19:41:49.238Z"
   },
   {
    "duration": 508,
    "start_time": "2022-11-01T20:18:57.457Z"
   },
   {
    "duration": 26,
    "start_time": "2022-11-01T20:18:57.968Z"
   },
   {
    "duration": 16,
    "start_time": "2022-11-01T20:18:57.996Z"
   },
   {
    "duration": 10,
    "start_time": "2022-11-01T20:18:58.014Z"
   },
   {
    "duration": 57,
    "start_time": "2022-11-01T20:18:58.025Z"
   },
   {
    "duration": 4,
    "start_time": "2022-11-01T20:18:58.084Z"
   },
   {
    "duration": 19,
    "start_time": "2022-11-01T20:18:58.090Z"
   },
   {
    "duration": 17,
    "start_time": "2022-11-01T20:18:58.110Z"
   },
   {
    "duration": 13,
    "start_time": "2022-11-01T20:18:58.128Z"
   },
   {
    "duration": 10,
    "start_time": "2022-11-01T20:18:58.143Z"
   },
   {
    "duration": 39,
    "start_time": "2022-11-01T20:18:58.155Z"
   },
   {
    "duration": 10,
    "start_time": "2022-11-01T20:18:58.195Z"
   },
   {
    "duration": 14,
    "start_time": "2022-11-01T20:18:58.207Z"
   },
   {
    "duration": 25,
    "start_time": "2022-11-01T20:18:58.222Z"
   },
   {
    "duration": 29,
    "start_time": "2022-11-01T20:18:58.249Z"
   },
   {
    "duration": 20,
    "start_time": "2022-11-01T20:18:58.280Z"
   },
   {
    "duration": 4,
    "start_time": "2022-11-01T20:18:58.302Z"
   },
   {
    "duration": 27,
    "start_time": "2022-11-01T20:18:58.308Z"
   },
   {
    "duration": 12,
    "start_time": "2022-11-01T20:18:58.337Z"
   },
   {
    "duration": 5,
    "start_time": "2022-11-01T20:18:58.361Z"
   },
   {
    "duration": 26,
    "start_time": "2022-11-01T20:18:58.369Z"
   },
   {
    "duration": 584,
    "start_time": "2022-11-01T20:18:58.397Z"
   },
   {
    "duration": 188,
    "start_time": "2022-11-01T20:18:58.982Z"
   },
   {
    "duration": 200,
    "start_time": "2022-11-01T20:18:59.172Z"
   },
   {
    "duration": 201,
    "start_time": "2022-11-01T20:18:59.374Z"
   },
   {
    "duration": 444,
    "start_time": "2022-11-01T20:32:48.529Z"
   },
   {
    "duration": 23,
    "start_time": "2022-11-01T20:32:48.974Z"
   },
   {
    "duration": 15,
    "start_time": "2022-11-01T20:32:48.999Z"
   },
   {
    "duration": 10,
    "start_time": "2022-11-01T20:32:49.016Z"
   },
   {
    "duration": 33,
    "start_time": "2022-11-01T20:32:49.028Z"
   },
   {
    "duration": 3,
    "start_time": "2022-11-01T20:32:49.063Z"
   },
   {
    "duration": 19,
    "start_time": "2022-11-01T20:32:49.068Z"
   },
   {
    "duration": 6,
    "start_time": "2022-11-01T20:32:49.089Z"
   },
   {
    "duration": 7,
    "start_time": "2022-11-01T20:32:49.097Z"
   },
   {
    "duration": 5,
    "start_time": "2022-11-01T20:32:49.122Z"
   },
   {
    "duration": 32,
    "start_time": "2022-11-01T20:32:49.128Z"
   },
   {
    "duration": 9,
    "start_time": "2022-11-01T20:32:49.162Z"
   },
   {
    "duration": 3,
    "start_time": "2022-11-01T20:32:49.173Z"
   },
   {
    "duration": 11,
    "start_time": "2022-11-01T20:32:49.178Z"
   },
   {
    "duration": 49,
    "start_time": "2022-11-01T20:32:49.190Z"
   },
   {
    "duration": 15,
    "start_time": "2022-11-01T20:32:49.240Z"
   },
   {
    "duration": 3,
    "start_time": "2022-11-01T20:32:49.257Z"
   },
   {
    "duration": 13,
    "start_time": "2022-11-01T20:32:49.261Z"
   },
   {
    "duration": 5,
    "start_time": "2022-11-01T20:32:49.275Z"
   },
   {
    "duration": 4,
    "start_time": "2022-11-01T20:32:49.281Z"
   },
   {
    "duration": 36,
    "start_time": "2022-11-01T20:32:49.286Z"
   },
   {
    "duration": 656,
    "start_time": "2022-11-01T20:32:49.323Z"
   },
   {
    "duration": 156,
    "start_time": "2022-11-01T20:32:49.980Z"
   },
   {
    "duration": 167,
    "start_time": "2022-11-01T20:32:50.137Z"
   },
   {
    "duration": 198,
    "start_time": "2022-11-01T20:32:50.306Z"
   },
   {
    "duration": 537,
    "start_time": "2022-11-03T14:19:51.987Z"
   },
   {
    "duration": 33,
    "start_time": "2022-11-03T14:19:52.527Z"
   },
   {
    "duration": 17,
    "start_time": "2022-11-03T14:19:52.562Z"
   },
   {
    "duration": 9,
    "start_time": "2022-11-03T14:19:52.581Z"
   },
   {
    "duration": 72,
    "start_time": "2022-11-03T14:19:52.592Z"
   },
   {
    "duration": 3,
    "start_time": "2022-11-03T14:19:52.666Z"
   },
   {
    "duration": 11,
    "start_time": "2022-11-03T14:19:52.671Z"
   },
   {
    "duration": 5,
    "start_time": "2022-11-03T14:19:52.683Z"
   },
   {
    "duration": 8,
    "start_time": "2022-11-03T14:19:52.690Z"
   },
   {
    "duration": 31,
    "start_time": "2022-11-03T14:19:52.700Z"
   },
   {
    "duration": 40,
    "start_time": "2022-11-03T14:19:52.733Z"
   },
   {
    "duration": 9,
    "start_time": "2022-11-03T14:19:52.775Z"
   },
   {
    "duration": 5,
    "start_time": "2022-11-03T14:19:52.785Z"
   },
   {
    "duration": 29,
    "start_time": "2022-11-03T14:19:52.791Z"
   },
   {
    "duration": 21,
    "start_time": "2022-11-03T14:19:52.831Z"
   },
   {
    "duration": 18,
    "start_time": "2022-11-03T14:19:52.854Z"
   },
   {
    "duration": 4,
    "start_time": "2022-11-03T14:19:52.874Z"
   },
   {
    "duration": 14,
    "start_time": "2022-11-03T14:19:52.880Z"
   },
   {
    "duration": 19,
    "start_time": "2022-11-03T14:19:52.895Z"
   },
   {
    "duration": 4,
    "start_time": "2022-11-03T14:19:52.932Z"
   },
   {
    "duration": 24,
    "start_time": "2022-11-03T14:19:52.938Z"
   },
   {
    "duration": 922,
    "start_time": "2022-11-03T14:19:52.965Z"
   },
   {
    "duration": 0,
    "start_time": "2022-11-03T14:19:53.890Z"
   },
   {
    "duration": 0,
    "start_time": "2022-11-03T14:19:53.891Z"
   },
   {
    "duration": 0,
    "start_time": "2022-11-03T14:19:53.893Z"
   },
   {
    "duration": 0,
    "start_time": "2022-11-03T14:19:53.894Z"
   },
   {
    "duration": 99,
    "start_time": "2022-11-03T14:20:15.514Z"
   },
   {
    "duration": 22,
    "start_time": "2022-11-03T14:20:15.615Z"
   },
   {
    "duration": 33,
    "start_time": "2022-11-03T14:20:15.639Z"
   },
   {
    "duration": 30,
    "start_time": "2022-11-03T14:20:15.675Z"
   },
   {
    "duration": 36,
    "start_time": "2022-11-03T14:20:15.706Z"
   },
   {
    "duration": 4,
    "start_time": "2022-11-03T14:20:15.743Z"
   },
   {
    "duration": 46,
    "start_time": "2022-11-03T14:20:15.749Z"
   },
   {
    "duration": 27,
    "start_time": "2022-11-03T14:20:15.797Z"
   },
   {
    "duration": 24,
    "start_time": "2022-11-03T14:20:15.825Z"
   },
   {
    "duration": 13,
    "start_time": "2022-11-03T14:20:15.853Z"
   },
   {
    "duration": 52,
    "start_time": "2022-11-03T14:20:15.869Z"
   },
   {
    "duration": 11,
    "start_time": "2022-11-03T14:20:15.923Z"
   },
   {
    "duration": 10,
    "start_time": "2022-11-03T14:20:15.935Z"
   },
   {
    "duration": 30,
    "start_time": "2022-11-03T14:20:15.947Z"
   },
   {
    "duration": 35,
    "start_time": "2022-11-03T14:20:15.979Z"
   },
   {
    "duration": 23,
    "start_time": "2022-11-03T14:20:16.016Z"
   },
   {
    "duration": 10,
    "start_time": "2022-11-03T14:20:16.042Z"
   },
   {
    "duration": 24,
    "start_time": "2022-11-03T14:20:16.054Z"
   },
   {
    "duration": 27,
    "start_time": "2022-11-03T14:20:16.080Z"
   },
   {
    "duration": 17,
    "start_time": "2022-11-03T14:20:16.109Z"
   },
   {
    "duration": 18,
    "start_time": "2022-11-03T14:20:16.128Z"
   },
   {
    "duration": 398,
    "start_time": "2022-11-03T14:20:16.148Z"
   },
   {
    "duration": 0,
    "start_time": "2022-11-03T14:20:16.548Z"
   },
   {
    "duration": 0,
    "start_time": "2022-11-03T14:20:16.549Z"
   },
   {
    "duration": 0,
    "start_time": "2022-11-03T14:20:16.550Z"
   },
   {
    "duration": 0,
    "start_time": "2022-11-03T14:20:16.553Z"
   },
   {
    "duration": 474,
    "start_time": "2022-11-03T14:22:23.370Z"
   },
   {
    "duration": 28,
    "start_time": "2022-11-03T14:22:23.846Z"
   },
   {
    "duration": 21,
    "start_time": "2022-11-03T14:22:23.875Z"
   },
   {
    "duration": 11,
    "start_time": "2022-11-03T14:22:23.898Z"
   },
   {
    "duration": 36,
    "start_time": "2022-11-03T14:22:23.931Z"
   },
   {
    "duration": 4,
    "start_time": "2022-11-03T14:22:23.969Z"
   },
   {
    "duration": 17,
    "start_time": "2022-11-03T14:22:23.974Z"
   },
   {
    "duration": 5,
    "start_time": "2022-11-03T14:22:23.993Z"
   },
   {
    "duration": 32,
    "start_time": "2022-11-03T14:22:24.000Z"
   },
   {
    "duration": 5,
    "start_time": "2022-11-03T14:22:24.034Z"
   },
   {
    "duration": 43,
    "start_time": "2022-11-03T14:22:24.041Z"
   },
   {
    "duration": 10,
    "start_time": "2022-11-03T14:22:24.086Z"
   },
   {
    "duration": 7,
    "start_time": "2022-11-03T14:22:24.098Z"
   },
   {
    "duration": 35,
    "start_time": "2022-11-03T14:22:24.107Z"
   },
   {
    "duration": 23,
    "start_time": "2022-11-03T14:22:24.144Z"
   },
   {
    "duration": 22,
    "start_time": "2022-11-03T14:22:24.169Z"
   },
   {
    "duration": 5,
    "start_time": "2022-11-03T14:22:24.193Z"
   },
   {
    "duration": 37,
    "start_time": "2022-11-03T14:22:24.201Z"
   },
   {
    "duration": 12,
    "start_time": "2022-11-03T14:22:24.239Z"
   },
   {
    "duration": 3,
    "start_time": "2022-11-03T14:22:24.253Z"
   },
   {
    "duration": 13,
    "start_time": "2022-11-03T14:22:24.258Z"
   },
   {
    "duration": 748,
    "start_time": "2022-11-03T14:22:24.273Z"
   },
   {
    "duration": 0,
    "start_time": "2022-11-03T14:22:25.023Z"
   },
   {
    "duration": 0,
    "start_time": "2022-11-03T14:22:25.032Z"
   },
   {
    "duration": 0,
    "start_time": "2022-11-03T14:22:25.034Z"
   },
   {
    "duration": 0,
    "start_time": "2022-11-03T14:22:25.035Z"
   },
   {
    "duration": 239,
    "start_time": "2022-11-03T14:22:47.721Z"
   },
   {
    "duration": 409,
    "start_time": "2022-11-03T14:23:02.760Z"
   },
   {
    "duration": 350,
    "start_time": "2022-11-03T14:23:50.759Z"
   },
   {
    "duration": 442,
    "start_time": "2022-11-03T14:24:01.964Z"
   },
   {
    "duration": 410,
    "start_time": "2022-11-03T14:26:20.681Z"
   },
   {
    "duration": 436,
    "start_time": "2022-11-03T14:26:28.805Z"
   },
   {
    "duration": 76,
    "start_time": "2022-11-03T14:35:29.724Z"
   },
   {
    "duration": 19,
    "start_time": "2022-11-03T14:35:29.802Z"
   },
   {
    "duration": 22,
    "start_time": "2022-11-03T14:35:29.823Z"
   },
   {
    "duration": 10,
    "start_time": "2022-11-03T14:35:29.847Z"
   },
   {
    "duration": 34,
    "start_time": "2022-11-03T14:35:29.859Z"
   },
   {
    "duration": 4,
    "start_time": "2022-11-03T14:35:29.895Z"
   },
   {
    "duration": 38,
    "start_time": "2022-11-03T14:35:29.900Z"
   },
   {
    "duration": 5,
    "start_time": "2022-11-03T14:35:29.940Z"
   },
   {
    "duration": 6,
    "start_time": "2022-11-03T14:35:29.947Z"
   },
   {
    "duration": 4,
    "start_time": "2022-11-03T14:35:29.956Z"
   },
   {
    "duration": 36,
    "start_time": "2022-11-03T14:35:29.962Z"
   },
   {
    "duration": 38,
    "start_time": "2022-11-03T14:35:30.000Z"
   },
   {
    "duration": 5,
    "start_time": "2022-11-03T14:35:30.041Z"
   },
   {
    "duration": 16,
    "start_time": "2022-11-03T14:35:30.048Z"
   },
   {
    "duration": 24,
    "start_time": "2022-11-03T14:35:30.066Z"
   },
   {
    "duration": 55,
    "start_time": "2022-11-03T14:35:30.092Z"
   },
   {
    "duration": 5,
    "start_time": "2022-11-03T14:35:30.149Z"
   },
   {
    "duration": 28,
    "start_time": "2022-11-03T14:35:30.156Z"
   },
   {
    "duration": 12,
    "start_time": "2022-11-03T14:35:30.186Z"
   },
   {
    "duration": 30,
    "start_time": "2022-11-03T14:35:30.200Z"
   },
   {
    "duration": 20,
    "start_time": "2022-11-03T14:35:30.232Z"
   },
   {
    "duration": 388,
    "start_time": "2022-11-03T14:35:30.254Z"
   },
   {
    "duration": 0,
    "start_time": "2022-11-03T14:35:30.643Z"
   },
   {
    "duration": 0,
    "start_time": "2022-11-03T14:35:30.644Z"
   },
   {
    "duration": 0,
    "start_time": "2022-11-03T14:35:30.646Z"
   },
   {
    "duration": 0,
    "start_time": "2022-11-03T14:35:30.647Z"
   },
   {
    "duration": 424,
    "start_time": "2022-11-03T14:36:44.316Z"
   },
   {
    "duration": 360,
    "start_time": "2022-11-03T14:37:02.859Z"
   },
   {
    "duration": 351,
    "start_time": "2022-11-03T14:37:10.780Z"
   },
   {
    "duration": 497,
    "start_time": "2022-11-03T14:38:46.073Z"
   },
   {
    "duration": 76,
    "start_time": "2022-11-03T14:39:01.037Z"
   },
   {
    "duration": 30,
    "start_time": "2022-11-03T14:39:01.116Z"
   },
   {
    "duration": 46,
    "start_time": "2022-11-03T14:39:01.149Z"
   },
   {
    "duration": 38,
    "start_time": "2022-11-03T14:39:01.199Z"
   },
   {
    "duration": 57,
    "start_time": "2022-11-03T14:39:01.240Z"
   },
   {
    "duration": 5,
    "start_time": "2022-11-03T14:39:01.298Z"
   },
   {
    "duration": 39,
    "start_time": "2022-11-03T14:39:01.305Z"
   },
   {
    "duration": 29,
    "start_time": "2022-11-03T14:39:01.346Z"
   },
   {
    "duration": 26,
    "start_time": "2022-11-03T14:39:01.378Z"
   },
   {
    "duration": 33,
    "start_time": "2022-11-03T14:39:01.408Z"
   },
   {
    "duration": 166,
    "start_time": "2022-11-03T14:39:01.443Z"
   },
   {
    "duration": 18,
    "start_time": "2022-11-03T14:39:01.612Z"
   },
   {
    "duration": 15,
    "start_time": "2022-11-03T14:39:01.633Z"
   },
   {
    "duration": 36,
    "start_time": "2022-11-03T14:39:01.652Z"
   },
   {
    "duration": 47,
    "start_time": "2022-11-03T14:39:01.690Z"
   },
   {
    "duration": 26,
    "start_time": "2022-11-03T14:39:01.740Z"
   },
   {
    "duration": 5,
    "start_time": "2022-11-03T14:39:01.768Z"
   },
   {
    "duration": 36,
    "start_time": "2022-11-03T14:39:01.774Z"
   },
   {
    "duration": 10,
    "start_time": "2022-11-03T14:39:01.812Z"
   },
   {
    "duration": 12,
    "start_time": "2022-11-03T14:39:01.831Z"
   },
   {
    "duration": 38,
    "start_time": "2022-11-03T14:39:01.846Z"
   },
   {
    "duration": 429,
    "start_time": "2022-11-03T14:39:01.886Z"
   },
   {
    "duration": 225,
    "start_time": "2022-11-03T14:39:02.318Z"
   },
   {
    "duration": 267,
    "start_time": "2022-11-03T14:39:02.545Z"
   },
   {
    "duration": 198,
    "start_time": "2022-11-03T14:39:02.814Z"
   },
   {
    "duration": 74,
    "start_time": "2022-11-03T14:39:03.014Z"
   },
   {
    "duration": 324,
    "start_time": "2022-11-03T14:39:28.725Z"
   },
   {
    "duration": 339,
    "start_time": "2022-11-03T14:46:57.137Z"
   },
   {
    "duration": 351,
    "start_time": "2022-11-03T14:47:27.285Z"
   },
   {
    "duration": 454,
    "start_time": "2022-11-03T14:47:56.731Z"
   },
   {
    "duration": 358,
    "start_time": "2022-11-03T14:48:13.947Z"
   },
   {
    "duration": 371,
    "start_time": "2022-11-03T14:48:46.010Z"
   },
   {
    "duration": 362,
    "start_time": "2022-11-03T14:48:54.070Z"
   },
   {
    "duration": 346,
    "start_time": "2022-11-03T14:49:08.499Z"
   },
   {
    "duration": 387,
    "start_time": "2022-11-03T14:50:36.498Z"
   },
   {
    "duration": 342,
    "start_time": "2022-11-03T14:50:54.442Z"
   },
   {
    "duration": 15,
    "start_time": "2022-11-03T15:05:19.408Z"
   },
   {
    "duration": 22,
    "start_time": "2022-11-03T15:05:59.333Z"
   },
   {
    "duration": 17,
    "start_time": "2022-11-03T15:06:17.132Z"
   },
   {
    "duration": 13,
    "start_time": "2022-11-03T15:06:28.298Z"
   },
   {
    "duration": 45,
    "start_time": "2022-11-03T15:06:53.708Z"
   },
   {
    "duration": 40,
    "start_time": "2022-11-03T15:06:55.023Z"
   },
   {
    "duration": 6,
    "start_time": "2022-11-03T15:06:57.992Z"
   },
   {
    "duration": 8,
    "start_time": "2022-11-03T15:07:00.056Z"
   },
   {
    "duration": 6,
    "start_time": "2022-11-03T15:07:05.008Z"
   },
   {
    "duration": 69,
    "start_time": "2022-11-03T15:07:18.056Z"
   },
   {
    "duration": 20,
    "start_time": "2022-11-03T15:07:18.127Z"
   },
   {
    "duration": 15,
    "start_time": "2022-11-03T15:07:18.149Z"
   },
   {
    "duration": 11,
    "start_time": "2022-11-03T15:07:18.167Z"
   },
   {
    "duration": 359,
    "start_time": "2022-11-03T15:08:31.685Z"
   },
   {
    "duration": 359,
    "start_time": "2022-11-03T15:08:45.953Z"
   },
   {
    "duration": 72,
    "start_time": "2022-11-03T15:08:52.380Z"
   },
   {
    "duration": 18,
    "start_time": "2022-11-03T15:08:52.454Z"
   },
   {
    "duration": 15,
    "start_time": "2022-11-03T15:08:52.474Z"
   },
   {
    "duration": 10,
    "start_time": "2022-11-03T15:08:52.492Z"
   },
   {
    "duration": 63,
    "start_time": "2022-11-03T15:08:52.504Z"
   },
   {
    "duration": 3,
    "start_time": "2022-11-03T15:08:52.569Z"
   },
   {
    "duration": 20,
    "start_time": "2022-11-03T15:08:52.574Z"
   },
   {
    "duration": 5,
    "start_time": "2022-11-03T15:08:52.595Z"
   },
   {
    "duration": 30,
    "start_time": "2022-11-03T15:08:52.602Z"
   },
   {
    "duration": 5,
    "start_time": "2022-11-03T15:08:52.635Z"
   },
   {
    "duration": 44,
    "start_time": "2022-11-03T15:08:52.641Z"
   },
   {
    "duration": 13,
    "start_time": "2022-11-03T15:08:52.687Z"
   },
   {
    "duration": 30,
    "start_time": "2022-11-03T15:08:52.702Z"
   },
   {
    "duration": 14,
    "start_time": "2022-11-03T15:08:52.733Z"
   },
   {
    "duration": 29,
    "start_time": "2022-11-03T15:08:52.749Z"
   },
   {
    "duration": 20,
    "start_time": "2022-11-03T15:08:52.780Z"
   },
   {
    "duration": 5,
    "start_time": "2022-11-03T15:08:52.802Z"
   },
   {
    "duration": 11,
    "start_time": "2022-11-03T15:08:52.831Z"
   },
   {
    "duration": 10,
    "start_time": "2022-11-03T15:08:52.844Z"
   },
   {
    "duration": 3,
    "start_time": "2022-11-03T15:08:52.856Z"
   },
   {
    "duration": 10,
    "start_time": "2022-11-03T15:08:52.861Z"
   },
   {
    "duration": 379,
    "start_time": "2022-11-03T15:08:52.873Z"
   },
   {
    "duration": 291,
    "start_time": "2022-11-03T15:08:53.254Z"
   },
   {
    "duration": 216,
    "start_time": "2022-11-03T15:08:53.547Z"
   },
   {
    "duration": 209,
    "start_time": "2022-11-03T15:08:53.765Z"
   },
   {
    "duration": 13,
    "start_time": "2022-11-03T15:08:53.977Z"
   },
   {
    "duration": 73,
    "start_time": "2022-11-03T15:08:53.992Z"
   },
   {
    "duration": 98,
    "start_time": "2022-11-03T15:10:10.520Z"
   },
   {
    "duration": 27,
    "start_time": "2022-11-03T15:10:10.620Z"
   },
   {
    "duration": 17,
    "start_time": "2022-11-03T15:10:10.649Z"
   },
   {
    "duration": 9,
    "start_time": "2022-11-03T15:10:10.668Z"
   },
   {
    "duration": 61,
    "start_time": "2022-11-03T15:10:10.679Z"
   },
   {
    "duration": 4,
    "start_time": "2022-11-03T15:10:10.741Z"
   },
   {
    "duration": 17,
    "start_time": "2022-11-03T15:10:10.746Z"
   },
   {
    "duration": 5,
    "start_time": "2022-11-03T15:10:10.764Z"
   },
   {
    "duration": 12,
    "start_time": "2022-11-03T15:10:10.771Z"
   },
   {
    "duration": 6,
    "start_time": "2022-11-03T15:10:10.786Z"
   },
   {
    "duration": 57,
    "start_time": "2022-11-03T15:10:10.793Z"
   },
   {
    "duration": 95,
    "start_time": "2022-11-03T15:10:14.901Z"
   },
   {
    "duration": 20,
    "start_time": "2022-11-03T15:10:14.998Z"
   },
   {
    "duration": 47,
    "start_time": "2022-11-03T15:10:15.020Z"
   },
   {
    "duration": 16,
    "start_time": "2022-11-03T15:10:15.069Z"
   },
   {
    "duration": 61,
    "start_time": "2022-11-03T15:10:15.087Z"
   },
   {
    "duration": 4,
    "start_time": "2022-11-03T15:10:15.150Z"
   },
   {
    "duration": 28,
    "start_time": "2022-11-03T15:10:15.155Z"
   },
   {
    "duration": 18,
    "start_time": "2022-11-03T15:10:15.185Z"
   },
   {
    "duration": 19,
    "start_time": "2022-11-03T15:10:15.205Z"
   },
   {
    "duration": 17,
    "start_time": "2022-11-03T15:10:15.227Z"
   },
   {
    "duration": 46,
    "start_time": "2022-11-03T15:10:15.245Z"
   },
   {
    "duration": 10,
    "start_time": "2022-11-03T15:10:15.293Z"
   },
   {
    "duration": 74,
    "start_time": "2022-11-03T15:12:47.097Z"
   },
   {
    "duration": 18,
    "start_time": "2022-11-03T15:12:47.174Z"
   },
   {
    "duration": 6,
    "start_time": "2022-11-03T15:30:44.404Z"
   },
   {
    "duration": 7,
    "start_time": "2022-11-03T15:30:52.620Z"
   },
   {
    "duration": 70,
    "start_time": "2022-11-03T15:31:07.411Z"
   },
   {
    "duration": 18,
    "start_time": "2022-11-03T15:31:07.483Z"
   },
   {
    "duration": 12,
    "start_time": "2022-11-03T15:31:07.504Z"
   },
   {
    "duration": 5,
    "start_time": "2022-11-03T15:31:24.164Z"
   },
   {
    "duration": 6,
    "start_time": "2022-11-03T15:31:34.622Z"
   },
   {
    "duration": 8,
    "start_time": "2022-11-03T15:32:02.489Z"
   },
   {
    "duration": 8,
    "start_time": "2022-11-03T15:32:09.833Z"
   },
   {
    "duration": 268,
    "start_time": "2022-11-03T15:33:38.769Z"
   },
   {
    "duration": 167,
    "start_time": "2022-11-03T15:34:57.626Z"
   },
   {
    "duration": 134,
    "start_time": "2022-11-03T15:35:10.998Z"
   },
   {
    "duration": 13,
    "start_time": "2022-11-03T15:35:58.923Z"
   },
   {
    "duration": 10,
    "start_time": "2022-11-03T15:36:04.064Z"
   },
   {
    "duration": 10,
    "start_time": "2022-11-03T15:36:08.990Z"
   },
   {
    "duration": 77,
    "start_time": "2022-11-03T15:36:17.867Z"
   },
   {
    "duration": 129,
    "start_time": "2022-11-03T15:36:33.609Z"
   },
   {
    "duration": 924,
    "start_time": "2022-11-03T15:36:42.360Z"
   },
   {
    "duration": 38,
    "start_time": "2022-11-03T15:46:18.004Z"
   },
   {
    "duration": 31,
    "start_time": "2022-11-03T15:46:32.523Z"
   },
   {
    "duration": 51,
    "start_time": "2022-11-04T01:46:27.557Z"
   },
   {
    "duration": 749,
    "start_time": "2022-11-04T01:46:31.077Z"
   },
   {
    "duration": 24,
    "start_time": "2022-11-04T01:46:31.828Z"
   },
   {
    "duration": 38,
    "start_time": "2022-11-04T01:46:31.853Z"
   },
   {
    "duration": 0,
    "start_time": "2022-11-04T01:46:31.894Z"
   },
   {
    "duration": 0,
    "start_time": "2022-11-04T01:46:31.895Z"
   },
   {
    "duration": 0,
    "start_time": "2022-11-04T01:46:31.896Z"
   },
   {
    "duration": 0,
    "start_time": "2022-11-04T01:46:31.897Z"
   },
   {
    "duration": 0,
    "start_time": "2022-11-04T01:46:31.898Z"
   },
   {
    "duration": 0,
    "start_time": "2022-11-04T01:46:31.899Z"
   },
   {
    "duration": 0,
    "start_time": "2022-11-04T01:46:31.900Z"
   },
   {
    "duration": 0,
    "start_time": "2022-11-04T01:46:31.901Z"
   },
   {
    "duration": 0,
    "start_time": "2022-11-04T01:46:31.903Z"
   },
   {
    "duration": 0,
    "start_time": "2022-11-04T01:46:31.903Z"
   },
   {
    "duration": 0,
    "start_time": "2022-11-04T01:46:31.904Z"
   },
   {
    "duration": 0,
    "start_time": "2022-11-04T01:46:31.906Z"
   },
   {
    "duration": 0,
    "start_time": "2022-11-04T01:46:31.906Z"
   },
   {
    "duration": 0,
    "start_time": "2022-11-04T01:46:31.908Z"
   },
   {
    "duration": 0,
    "start_time": "2022-11-04T01:46:31.908Z"
   },
   {
    "duration": 0,
    "start_time": "2022-11-04T01:46:31.909Z"
   },
   {
    "duration": 0,
    "start_time": "2022-11-04T01:46:31.910Z"
   },
   {
    "duration": 0,
    "start_time": "2022-11-04T01:46:31.912Z"
   },
   {
    "duration": 0,
    "start_time": "2022-11-04T01:46:31.912Z"
   },
   {
    "duration": 0,
    "start_time": "2022-11-04T01:46:31.914Z"
   },
   {
    "duration": 1,
    "start_time": "2022-11-04T01:46:31.914Z"
   },
   {
    "duration": 0,
    "start_time": "2022-11-04T01:46:31.915Z"
   },
   {
    "duration": 1,
    "start_time": "2022-11-04T01:46:31.916Z"
   },
   {
    "duration": 0,
    "start_time": "2022-11-04T01:46:31.917Z"
   },
   {
    "duration": 0,
    "start_time": "2022-11-04T01:46:31.918Z"
   },
   {
    "duration": 66,
    "start_time": "2022-11-04T01:46:38.801Z"
   },
   {
    "duration": 25,
    "start_time": "2022-11-04T01:46:38.869Z"
   },
   {
    "duration": 11,
    "start_time": "2022-11-04T01:46:38.895Z"
   },
   {
    "duration": 0,
    "start_time": "2022-11-04T01:46:38.908Z"
   },
   {
    "duration": 0,
    "start_time": "2022-11-04T01:46:38.909Z"
   },
   {
    "duration": 0,
    "start_time": "2022-11-04T01:46:38.910Z"
   },
   {
    "duration": 0,
    "start_time": "2022-11-04T01:46:38.911Z"
   },
   {
    "duration": 0,
    "start_time": "2022-11-04T01:46:38.912Z"
   },
   {
    "duration": 0,
    "start_time": "2022-11-04T01:46:38.913Z"
   },
   {
    "duration": 0,
    "start_time": "2022-11-04T01:46:38.914Z"
   },
   {
    "duration": 0,
    "start_time": "2022-11-04T01:46:38.915Z"
   },
   {
    "duration": 0,
    "start_time": "2022-11-04T01:46:38.917Z"
   },
   {
    "duration": 0,
    "start_time": "2022-11-04T01:46:38.918Z"
   },
   {
    "duration": 0,
    "start_time": "2022-11-04T01:46:38.921Z"
   },
   {
    "duration": 0,
    "start_time": "2022-11-04T01:46:38.922Z"
   },
   {
    "duration": 0,
    "start_time": "2022-11-04T01:46:38.923Z"
   },
   {
    "duration": 0,
    "start_time": "2022-11-04T01:46:38.924Z"
   },
   {
    "duration": 0,
    "start_time": "2022-11-04T01:46:38.925Z"
   },
   {
    "duration": 0,
    "start_time": "2022-11-04T01:46:38.926Z"
   },
   {
    "duration": 0,
    "start_time": "2022-11-04T01:46:38.927Z"
   },
   {
    "duration": 0,
    "start_time": "2022-11-04T01:46:38.928Z"
   },
   {
    "duration": 0,
    "start_time": "2022-11-04T01:46:38.929Z"
   },
   {
    "duration": 0,
    "start_time": "2022-11-04T01:46:38.931Z"
   },
   {
    "duration": 0,
    "start_time": "2022-11-04T01:46:38.932Z"
   },
   {
    "duration": 0,
    "start_time": "2022-11-04T01:46:38.933Z"
   },
   {
    "duration": 0,
    "start_time": "2022-11-04T01:46:38.934Z"
   },
   {
    "duration": 0,
    "start_time": "2022-11-04T01:46:38.935Z"
   },
   {
    "duration": 0,
    "start_time": "2022-11-04T01:46:38.936Z"
   },
   {
    "duration": 436,
    "start_time": "2022-11-04T01:48:39.995Z"
   },
   {
    "duration": 23,
    "start_time": "2022-11-04T01:48:40.433Z"
   },
   {
    "duration": 77,
    "start_time": "2022-11-04T01:48:40.458Z"
   },
   {
    "duration": 0,
    "start_time": "2022-11-04T01:48:40.538Z"
   },
   {
    "duration": 0,
    "start_time": "2022-11-04T01:48:40.539Z"
   },
   {
    "duration": 0,
    "start_time": "2022-11-04T01:48:40.540Z"
   },
   {
    "duration": 0,
    "start_time": "2022-11-04T01:48:40.541Z"
   },
   {
    "duration": 0,
    "start_time": "2022-11-04T01:48:40.543Z"
   },
   {
    "duration": 0,
    "start_time": "2022-11-04T01:48:40.544Z"
   },
   {
    "duration": 0,
    "start_time": "2022-11-04T01:48:40.545Z"
   },
   {
    "duration": 0,
    "start_time": "2022-11-04T01:48:40.547Z"
   },
   {
    "duration": 0,
    "start_time": "2022-11-04T01:48:40.547Z"
   },
   {
    "duration": 0,
    "start_time": "2022-11-04T01:48:40.549Z"
   },
   {
    "duration": 0,
    "start_time": "2022-11-04T01:48:40.550Z"
   },
   {
    "duration": 0,
    "start_time": "2022-11-04T01:48:40.579Z"
   },
   {
    "duration": 0,
    "start_time": "2022-11-04T01:48:40.580Z"
   },
   {
    "duration": 0,
    "start_time": "2022-11-04T01:48:40.583Z"
   },
   {
    "duration": 0,
    "start_time": "2022-11-04T01:48:40.584Z"
   },
   {
    "duration": 0,
    "start_time": "2022-11-04T01:48:40.585Z"
   },
   {
    "duration": 0,
    "start_time": "2022-11-04T01:48:40.586Z"
   },
   {
    "duration": 0,
    "start_time": "2022-11-04T01:48:40.587Z"
   },
   {
    "duration": 0,
    "start_time": "2022-11-04T01:48:40.590Z"
   },
   {
    "duration": 0,
    "start_time": "2022-11-04T01:48:40.591Z"
   },
   {
    "duration": 0,
    "start_time": "2022-11-04T01:48:40.592Z"
   },
   {
    "duration": 0,
    "start_time": "2022-11-04T01:48:40.592Z"
   },
   {
    "duration": 0,
    "start_time": "2022-11-04T01:48:40.593Z"
   },
   {
    "duration": 0,
    "start_time": "2022-11-04T01:48:40.593Z"
   },
   {
    "duration": 18,
    "start_time": "2022-11-04T01:48:45.089Z"
   },
   {
    "duration": 14,
    "start_time": "2022-11-04T01:48:58.766Z"
   },
   {
    "duration": 8,
    "start_time": "2022-11-04T01:49:02.238Z"
   },
   {
    "duration": 8,
    "start_time": "2022-11-04T01:50:01.829Z"
   },
   {
    "duration": 70,
    "start_time": "2022-11-04T01:56:42.996Z"
   },
   {
    "duration": 17,
    "start_time": "2022-11-04T01:56:43.069Z"
   },
   {
    "duration": 12,
    "start_time": "2022-11-04T01:56:43.089Z"
   },
   {
    "duration": 0,
    "start_time": "2022-11-04T01:56:43.104Z"
   },
   {
    "duration": 0,
    "start_time": "2022-11-04T01:56:43.106Z"
   },
   {
    "duration": 0,
    "start_time": "2022-11-04T01:56:43.108Z"
   },
   {
    "duration": 0,
    "start_time": "2022-11-04T01:56:43.109Z"
   },
   {
    "duration": 0,
    "start_time": "2022-11-04T01:56:43.111Z"
   },
   {
    "duration": 0,
    "start_time": "2022-11-04T01:56:43.112Z"
   },
   {
    "duration": 0,
    "start_time": "2022-11-04T01:56:43.114Z"
   },
   {
    "duration": 0,
    "start_time": "2022-11-04T01:56:43.116Z"
   },
   {
    "duration": 0,
    "start_time": "2022-11-04T01:56:43.117Z"
   },
   {
    "duration": 0,
    "start_time": "2022-11-04T01:56:43.118Z"
   },
   {
    "duration": 0,
    "start_time": "2022-11-04T01:56:43.120Z"
   },
   {
    "duration": 0,
    "start_time": "2022-11-04T01:56:43.121Z"
   },
   {
    "duration": 0,
    "start_time": "2022-11-04T01:56:43.122Z"
   },
   {
    "duration": 0,
    "start_time": "2022-11-04T01:56:43.123Z"
   },
   {
    "duration": 0,
    "start_time": "2022-11-04T01:56:43.124Z"
   },
   {
    "duration": 0,
    "start_time": "2022-11-04T01:56:43.125Z"
   },
   {
    "duration": 0,
    "start_time": "2022-11-04T01:56:43.126Z"
   },
   {
    "duration": 0,
    "start_time": "2022-11-04T01:56:43.127Z"
   },
   {
    "duration": 0,
    "start_time": "2022-11-04T01:56:43.128Z"
   },
   {
    "duration": 0,
    "start_time": "2022-11-04T01:56:43.130Z"
   },
   {
    "duration": 0,
    "start_time": "2022-11-04T01:56:43.131Z"
   },
   {
    "duration": 0,
    "start_time": "2022-11-04T01:56:43.132Z"
   },
   {
    "duration": 0,
    "start_time": "2022-11-04T01:56:43.176Z"
   },
   {
    "duration": 0,
    "start_time": "2022-11-04T01:56:43.178Z"
   },
   {
    "duration": 76,
    "start_time": "2022-11-04T01:57:05.607Z"
   },
   {
    "duration": 17,
    "start_time": "2022-11-04T01:57:05.685Z"
   },
   {
    "duration": 23,
    "start_time": "2022-11-04T01:57:05.705Z"
   },
   {
    "duration": 10,
    "start_time": "2022-11-04T01:57:05.731Z"
   },
   {
    "duration": 47,
    "start_time": "2022-11-04T01:57:05.743Z"
   },
   {
    "duration": 3,
    "start_time": "2022-11-04T01:57:05.792Z"
   },
   {
    "duration": 16,
    "start_time": "2022-11-04T01:57:05.797Z"
   },
   {
    "duration": 7,
    "start_time": "2022-11-04T01:57:05.815Z"
   },
   {
    "duration": 12,
    "start_time": "2022-11-04T01:57:05.824Z"
   },
   {
    "duration": 5,
    "start_time": "2022-11-04T01:57:05.838Z"
   },
   {
    "duration": 52,
    "start_time": "2022-11-04T01:57:05.845Z"
   },
   {
    "duration": 10,
    "start_time": "2022-11-04T01:57:05.898Z"
   },
   {
    "duration": 9,
    "start_time": "2022-11-04T01:57:05.909Z"
   },
   {
    "duration": 14,
    "start_time": "2022-11-04T01:57:05.920Z"
   },
   {
    "duration": 26,
    "start_time": "2022-11-04T01:57:05.936Z"
   },
   {
    "duration": 27,
    "start_time": "2022-11-04T01:57:05.964Z"
   },
   {
    "duration": 4,
    "start_time": "2022-11-04T01:57:05.992Z"
   },
   {
    "duration": 15,
    "start_time": "2022-11-04T01:57:05.997Z"
   },
   {
    "duration": 11,
    "start_time": "2022-11-04T01:57:06.013Z"
   },
   {
    "duration": 7,
    "start_time": "2022-11-04T01:57:06.026Z"
   },
   {
    "duration": 15,
    "start_time": "2022-11-04T01:57:06.035Z"
   },
   {
    "duration": 721,
    "start_time": "2022-11-04T01:57:06.051Z"
   },
   {
    "duration": 186,
    "start_time": "2022-11-04T01:57:06.777Z"
   },
   {
    "duration": 200,
    "start_time": "2022-11-04T01:57:06.965Z"
   },
   {
    "duration": 266,
    "start_time": "2022-11-04T01:57:07.168Z"
   },
   {
    "duration": 15,
    "start_time": "2022-11-04T01:57:07.436Z"
   }
  ],
  "colab": {
   "name": "dpp_template_part2.ipynb",
   "provenance": []
  },
  "kernelspec": {
   "display_name": "Python 3 (ipykernel)",
   "language": "python",
   "name": "python3"
  },
  "language_info": {
   "codemirror_mode": {
    "name": "ipython",
    "version": 3
   },
   "file_extension": ".py",
   "mimetype": "text/x-python",
   "name": "python",
   "nbconvert_exporter": "python",
   "pygments_lexer": "ipython3",
   "version": "3.9.5"
  },
  "toc": {
   "base_numbering": 1,
   "nav_menu": {},
   "number_sections": true,
   "sideBar": true,
   "skip_h1_title": true,
   "title_cell": "Table of Contents",
   "title_sidebar": "Contents",
   "toc_cell": false,
   "toc_position": {
    "height": "calc(100% - 180px)",
    "left": "10px",
    "top": "150px",
    "width": "266.188px"
   },
   "toc_section_display": true,
   "toc_window_display": true
  }
 },
 "nbformat": 4,
 "nbformat_minor": 5
}
