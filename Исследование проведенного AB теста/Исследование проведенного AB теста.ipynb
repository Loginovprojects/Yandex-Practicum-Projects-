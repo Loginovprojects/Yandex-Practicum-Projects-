{
 "cells": [
  {
   "cell_type": "markdown",
   "metadata": {},
   "source": [
    "_____\n",
    "# Предобработка данных"
   ]
  },
  {
   "cell_type": "code",
   "execution_count": 1,
   "metadata": {},
   "outputs": [],
   "source": [
    "#импортируем необходимые библиотеки\n",
    "import pandas as pd\n",
    "import scipy.stats as stats\n",
    "import datetime as dt\n",
    "import numpy as np\n",
    "import matplotlib.pyplot as plt\n",
    "from pandas.plotting import register_matplotlib_converters\n",
    "import warnings\n",
    "warnings.filterwarnings('ignore')"
   ]
  },
  {
   "cell_type": "code",
   "execution_count": 2,
   "metadata": {},
   "outputs": [],
   "source": [
    "data = pd.read_csv('/datasets/hypothesis.csv')\n",
    "orders = pd.read_csv('/datasets/orders.csv')\n",
    "visitors = pd.read_csv('/datasets/visitors.csv')"
   ]
  },
  {
   "cell_type": "code",
   "execution_count": 3,
   "metadata": {},
   "outputs": [],
   "source": [
    "# функция для подсчета дубликатов и получения общих сведений о датасете\n",
    "def get_info(data):\n",
    "    display(data.head())\n",
    "    print()\n",
    "    print('Число дубликатов:', data.duplicated().sum())\n",
    "    print()\n",
    "    data.info()"
   ]
  },
  {
   "cell_type": "code",
   "execution_count": 4,
   "metadata": {},
   "outputs": [
    {
     "data": {
      "text/html": [
       "<div>\n",
       "<style scoped>\n",
       "    .dataframe tbody tr th:only-of-type {\n",
       "        vertical-align: middle;\n",
       "    }\n",
       "\n",
       "    .dataframe tbody tr th {\n",
       "        vertical-align: top;\n",
       "    }\n",
       "\n",
       "    .dataframe thead th {\n",
       "        text-align: right;\n",
       "    }\n",
       "</style>\n",
       "<table border=\"1\" class=\"dataframe\">\n",
       "  <thead>\n",
       "    <tr style=\"text-align: right;\">\n",
       "      <th></th>\n",
       "      <th>Hypothesis</th>\n",
       "      <th>Reach</th>\n",
       "      <th>Impact</th>\n",
       "      <th>Confidence</th>\n",
       "      <th>Efforts</th>\n",
       "    </tr>\n",
       "  </thead>\n",
       "  <tbody>\n",
       "    <tr>\n",
       "      <th>0</th>\n",
       "      <td>Добавить два новых канала привлечения трафика,...</td>\n",
       "      <td>3</td>\n",
       "      <td>10</td>\n",
       "      <td>8</td>\n",
       "      <td>6</td>\n",
       "    </tr>\n",
       "    <tr>\n",
       "      <th>1</th>\n",
       "      <td>Запустить собственную службу доставки, что сок...</td>\n",
       "      <td>2</td>\n",
       "      <td>5</td>\n",
       "      <td>4</td>\n",
       "      <td>10</td>\n",
       "    </tr>\n",
       "    <tr>\n",
       "      <th>2</th>\n",
       "      <td>Добавить блоки рекомендаций товаров на сайт ин...</td>\n",
       "      <td>8</td>\n",
       "      <td>3</td>\n",
       "      <td>7</td>\n",
       "      <td>3</td>\n",
       "    </tr>\n",
       "    <tr>\n",
       "      <th>3</th>\n",
       "      <td>Изменить структура категорий, что увеличит кон...</td>\n",
       "      <td>8</td>\n",
       "      <td>3</td>\n",
       "      <td>3</td>\n",
       "      <td>8</td>\n",
       "    </tr>\n",
       "    <tr>\n",
       "      <th>4</th>\n",
       "      <td>Изменить цвет фона главной страницы, чтобы уве...</td>\n",
       "      <td>3</td>\n",
       "      <td>1</td>\n",
       "      <td>1</td>\n",
       "      <td>1</td>\n",
       "    </tr>\n",
       "  </tbody>\n",
       "</table>\n",
       "</div>"
      ],
      "text/plain": [
       "                                          Hypothesis  Reach  Impact  \\\n",
       "0  Добавить два новых канала привлечения трафика,...      3      10   \n",
       "1  Запустить собственную службу доставки, что сок...      2       5   \n",
       "2  Добавить блоки рекомендаций товаров на сайт ин...      8       3   \n",
       "3  Изменить структура категорий, что увеличит кон...      8       3   \n",
       "4  Изменить цвет фона главной страницы, чтобы уве...      3       1   \n",
       "\n",
       "   Confidence  Efforts  \n",
       "0           8        6  \n",
       "1           4       10  \n",
       "2           7        3  \n",
       "3           3        8  \n",
       "4           1        1  "
      ]
     },
     "metadata": {},
     "output_type": "display_data"
    },
    {
     "name": "stdout",
     "output_type": "stream",
     "text": [
      "\n",
      "Число дубликатов: 0\n",
      "\n",
      "<class 'pandas.core.frame.DataFrame'>\n",
      "RangeIndex: 9 entries, 0 to 8\n",
      "Data columns (total 5 columns):\n",
      " #   Column      Non-Null Count  Dtype \n",
      "---  ------      --------------  ----- \n",
      " 0   Hypothesis  9 non-null      object\n",
      " 1   Reach       9 non-null      int64 \n",
      " 2   Impact      9 non-null      int64 \n",
      " 3   Confidence  9 non-null      int64 \n",
      " 4   Efforts     9 non-null      int64 \n",
      "dtypes: int64(4), object(1)\n",
      "memory usage: 488.0+ bytes\n"
     ]
    }
   ],
   "source": [
    "#выведем данные датасета data на экран\n",
    "get_info(data)"
   ]
  },
  {
   "cell_type": "code",
   "execution_count": 5,
   "metadata": {},
   "outputs": [
    {
     "data": {
      "text/html": [
       "<div>\n",
       "<style scoped>\n",
       "    .dataframe tbody tr th:only-of-type {\n",
       "        vertical-align: middle;\n",
       "    }\n",
       "\n",
       "    .dataframe tbody tr th {\n",
       "        vertical-align: top;\n",
       "    }\n",
       "\n",
       "    .dataframe thead th {\n",
       "        text-align: right;\n",
       "    }\n",
       "</style>\n",
       "<table border=\"1\" class=\"dataframe\">\n",
       "  <thead>\n",
       "    <tr style=\"text-align: right;\">\n",
       "      <th></th>\n",
       "      <th>transactionId</th>\n",
       "      <th>visitorId</th>\n",
       "      <th>date</th>\n",
       "      <th>revenue</th>\n",
       "      <th>group</th>\n",
       "    </tr>\n",
       "  </thead>\n",
       "  <tbody>\n",
       "    <tr>\n",
       "      <th>0</th>\n",
       "      <td>3667963787</td>\n",
       "      <td>3312258926</td>\n",
       "      <td>2019-08-15</td>\n",
       "      <td>1650</td>\n",
       "      <td>B</td>\n",
       "    </tr>\n",
       "    <tr>\n",
       "      <th>1</th>\n",
       "      <td>2804400009</td>\n",
       "      <td>3642806036</td>\n",
       "      <td>2019-08-15</td>\n",
       "      <td>730</td>\n",
       "      <td>B</td>\n",
       "    </tr>\n",
       "    <tr>\n",
       "      <th>2</th>\n",
       "      <td>2961555356</td>\n",
       "      <td>4069496402</td>\n",
       "      <td>2019-08-15</td>\n",
       "      <td>400</td>\n",
       "      <td>A</td>\n",
       "    </tr>\n",
       "    <tr>\n",
       "      <th>3</th>\n",
       "      <td>3797467345</td>\n",
       "      <td>1196621759</td>\n",
       "      <td>2019-08-15</td>\n",
       "      <td>9759</td>\n",
       "      <td>B</td>\n",
       "    </tr>\n",
       "    <tr>\n",
       "      <th>4</th>\n",
       "      <td>2282983706</td>\n",
       "      <td>2322279887</td>\n",
       "      <td>2019-08-15</td>\n",
       "      <td>2308</td>\n",
       "      <td>B</td>\n",
       "    </tr>\n",
       "  </tbody>\n",
       "</table>\n",
       "</div>"
      ],
      "text/plain": [
       "   transactionId   visitorId        date  revenue group\n",
       "0     3667963787  3312258926  2019-08-15     1650     B\n",
       "1     2804400009  3642806036  2019-08-15      730     B\n",
       "2     2961555356  4069496402  2019-08-15      400     A\n",
       "3     3797467345  1196621759  2019-08-15     9759     B\n",
       "4     2282983706  2322279887  2019-08-15     2308     B"
      ]
     },
     "metadata": {},
     "output_type": "display_data"
    },
    {
     "name": "stdout",
     "output_type": "stream",
     "text": [
      "\n",
      "Число дубликатов: 0\n",
      "\n",
      "<class 'pandas.core.frame.DataFrame'>\n",
      "RangeIndex: 1197 entries, 0 to 1196\n",
      "Data columns (total 5 columns):\n",
      " #   Column         Non-Null Count  Dtype \n",
      "---  ------         --------------  ----- \n",
      " 0   transactionId  1197 non-null   int64 \n",
      " 1   visitorId      1197 non-null   int64 \n",
      " 2   date           1197 non-null   object\n",
      " 3   revenue        1197 non-null   int64 \n",
      " 4   group          1197 non-null   object\n",
      "dtypes: int64(3), object(2)\n",
      "memory usage: 46.9+ KB\n"
     ]
    }
   ],
   "source": [
    "#выведем данные датасета orders на экран\n",
    "get_info(orders)"
   ]
  },
  {
   "cell_type": "code",
   "execution_count": 6,
   "metadata": {},
   "outputs": [
    {
     "data": {
      "text/html": [
       "<div>\n",
       "<style scoped>\n",
       "    .dataframe tbody tr th:only-of-type {\n",
       "        vertical-align: middle;\n",
       "    }\n",
       "\n",
       "    .dataframe tbody tr th {\n",
       "        vertical-align: top;\n",
       "    }\n",
       "\n",
       "    .dataframe thead th {\n",
       "        text-align: right;\n",
       "    }\n",
       "</style>\n",
       "<table border=\"1\" class=\"dataframe\">\n",
       "  <thead>\n",
       "    <tr style=\"text-align: right;\">\n",
       "      <th></th>\n",
       "      <th>date</th>\n",
       "      <th>group</th>\n",
       "      <th>visitors</th>\n",
       "    </tr>\n",
       "  </thead>\n",
       "  <tbody>\n",
       "    <tr>\n",
       "      <th>0</th>\n",
       "      <td>2019-08-01</td>\n",
       "      <td>A</td>\n",
       "      <td>719</td>\n",
       "    </tr>\n",
       "    <tr>\n",
       "      <th>1</th>\n",
       "      <td>2019-08-02</td>\n",
       "      <td>A</td>\n",
       "      <td>619</td>\n",
       "    </tr>\n",
       "    <tr>\n",
       "      <th>2</th>\n",
       "      <td>2019-08-03</td>\n",
       "      <td>A</td>\n",
       "      <td>507</td>\n",
       "    </tr>\n",
       "    <tr>\n",
       "      <th>3</th>\n",
       "      <td>2019-08-04</td>\n",
       "      <td>A</td>\n",
       "      <td>717</td>\n",
       "    </tr>\n",
       "    <tr>\n",
       "      <th>4</th>\n",
       "      <td>2019-08-05</td>\n",
       "      <td>A</td>\n",
       "      <td>756</td>\n",
       "    </tr>\n",
       "  </tbody>\n",
       "</table>\n",
       "</div>"
      ],
      "text/plain": [
       "         date group  visitors\n",
       "0  2019-08-01     A       719\n",
       "1  2019-08-02     A       619\n",
       "2  2019-08-03     A       507\n",
       "3  2019-08-04     A       717\n",
       "4  2019-08-05     A       756"
      ]
     },
     "metadata": {},
     "output_type": "display_data"
    },
    {
     "name": "stdout",
     "output_type": "stream",
     "text": [
      "\n",
      "Число дубликатов: 0\n",
      "\n",
      "<class 'pandas.core.frame.DataFrame'>\n",
      "RangeIndex: 62 entries, 0 to 61\n",
      "Data columns (total 3 columns):\n",
      " #   Column    Non-Null Count  Dtype \n",
      "---  ------    --------------  ----- \n",
      " 0   date      62 non-null     object\n",
      " 1   group     62 non-null     object\n",
      " 2   visitors  62 non-null     int64 \n",
      "dtypes: int64(1), object(2)\n",
      "memory usage: 1.6+ KB\n"
     ]
    }
   ],
   "source": [
    "#выведем данные датасета visitors на экран\n",
    "get_info(visitors)"
   ]
  },
  {
   "cell_type": "markdown",
   "metadata": {},
   "source": [
    "Исходя из данных следует провести следующую обработку: \n",
    "\n",
    "- в датафреймах data и orders привести названия колонок к нижнему регистру\n",
    "- в датафреймах orders и visitors привести колонку 'date' к типу date "
   ]
  },
  {
   "cell_type": "code",
   "execution_count": 7,
   "metadata": {
    "scrolled": true
   },
   "outputs": [
    {
     "data": {
      "text/html": [
       "<div>\n",
       "<style scoped>\n",
       "    .dataframe tbody tr th:only-of-type {\n",
       "        vertical-align: middle;\n",
       "    }\n",
       "\n",
       "    .dataframe tbody tr th {\n",
       "        vertical-align: top;\n",
       "    }\n",
       "\n",
       "    .dataframe thead th {\n",
       "        text-align: right;\n",
       "    }\n",
       "</style>\n",
       "<table border=\"1\" class=\"dataframe\">\n",
       "  <thead>\n",
       "    <tr style=\"text-align: right;\">\n",
       "      <th></th>\n",
       "      <th>hypothesis</th>\n",
       "      <th>reach</th>\n",
       "      <th>impact</th>\n",
       "      <th>confidence</th>\n",
       "      <th>efforts</th>\n",
       "    </tr>\n",
       "  </thead>\n",
       "  <tbody>\n",
       "    <tr>\n",
       "      <th>0</th>\n",
       "      <td>Добавить два новых канала привлечения трафика,...</td>\n",
       "      <td>3</td>\n",
       "      <td>10</td>\n",
       "      <td>8</td>\n",
       "      <td>6</td>\n",
       "    </tr>\n",
       "    <tr>\n",
       "      <th>1</th>\n",
       "      <td>Запустить собственную службу доставки, что сок...</td>\n",
       "      <td>2</td>\n",
       "      <td>5</td>\n",
       "      <td>4</td>\n",
       "      <td>10</td>\n",
       "    </tr>\n",
       "    <tr>\n",
       "      <th>2</th>\n",
       "      <td>Добавить блоки рекомендаций товаров на сайт ин...</td>\n",
       "      <td>8</td>\n",
       "      <td>3</td>\n",
       "      <td>7</td>\n",
       "      <td>3</td>\n",
       "    </tr>\n",
       "    <tr>\n",
       "      <th>3</th>\n",
       "      <td>Изменить структура категорий, что увеличит кон...</td>\n",
       "      <td>8</td>\n",
       "      <td>3</td>\n",
       "      <td>3</td>\n",
       "      <td>8</td>\n",
       "    </tr>\n",
       "    <tr>\n",
       "      <th>4</th>\n",
       "      <td>Изменить цвет фона главной страницы, чтобы уве...</td>\n",
       "      <td>3</td>\n",
       "      <td>1</td>\n",
       "      <td>1</td>\n",
       "      <td>1</td>\n",
       "    </tr>\n",
       "  </tbody>\n",
       "</table>\n",
       "</div>"
      ],
      "text/plain": [
       "                                          hypothesis  reach  impact  \\\n",
       "0  Добавить два новых канала привлечения трафика,...      3      10   \n",
       "1  Запустить собственную службу доставки, что сок...      2       5   \n",
       "2  Добавить блоки рекомендаций товаров на сайт ин...      8       3   \n",
       "3  Изменить структура категорий, что увеличит кон...      8       3   \n",
       "4  Изменить цвет фона главной страницы, чтобы уве...      3       1   \n",
       "\n",
       "   confidence  efforts  \n",
       "0           8        6  \n",
       "1           4       10  \n",
       "2           7        3  \n",
       "3           3        8  \n",
       "4           1        1  "
      ]
     },
     "execution_count": 7,
     "metadata": {},
     "output_type": "execute_result"
    }
   ],
   "source": [
    "#приведем названия колонок к нижнему регистру \n",
    "data.columns = [x.lower() for x in data.columns]\n",
    "data.head()"
   ]
  },
  {
   "cell_type": "code",
   "execution_count": 8,
   "metadata": {},
   "outputs": [
    {
     "data": {
      "text/html": [
       "<div>\n",
       "<style scoped>\n",
       "    .dataframe tbody tr th:only-of-type {\n",
       "        vertical-align: middle;\n",
       "    }\n",
       "\n",
       "    .dataframe tbody tr th {\n",
       "        vertical-align: top;\n",
       "    }\n",
       "\n",
       "    .dataframe thead th {\n",
       "        text-align: right;\n",
       "    }\n",
       "</style>\n",
       "<table border=\"1\" class=\"dataframe\">\n",
       "  <thead>\n",
       "    <tr style=\"text-align: right;\">\n",
       "      <th></th>\n",
       "      <th>transactionid</th>\n",
       "      <th>visitorid</th>\n",
       "      <th>date</th>\n",
       "      <th>revenue</th>\n",
       "      <th>group</th>\n",
       "    </tr>\n",
       "  </thead>\n",
       "  <tbody>\n",
       "    <tr>\n",
       "      <th>0</th>\n",
       "      <td>3667963787</td>\n",
       "      <td>3312258926</td>\n",
       "      <td>2019-08-15</td>\n",
       "      <td>1650</td>\n",
       "      <td>B</td>\n",
       "    </tr>\n",
       "    <tr>\n",
       "      <th>1</th>\n",
       "      <td>2804400009</td>\n",
       "      <td>3642806036</td>\n",
       "      <td>2019-08-15</td>\n",
       "      <td>730</td>\n",
       "      <td>B</td>\n",
       "    </tr>\n",
       "    <tr>\n",
       "      <th>2</th>\n",
       "      <td>2961555356</td>\n",
       "      <td>4069496402</td>\n",
       "      <td>2019-08-15</td>\n",
       "      <td>400</td>\n",
       "      <td>A</td>\n",
       "    </tr>\n",
       "    <tr>\n",
       "      <th>3</th>\n",
       "      <td>3797467345</td>\n",
       "      <td>1196621759</td>\n",
       "      <td>2019-08-15</td>\n",
       "      <td>9759</td>\n",
       "      <td>B</td>\n",
       "    </tr>\n",
       "    <tr>\n",
       "      <th>4</th>\n",
       "      <td>2282983706</td>\n",
       "      <td>2322279887</td>\n",
       "      <td>2019-08-15</td>\n",
       "      <td>2308</td>\n",
       "      <td>B</td>\n",
       "    </tr>\n",
       "  </tbody>\n",
       "</table>\n",
       "</div>"
      ],
      "text/plain": [
       "   transactionid   visitorid        date  revenue group\n",
       "0     3667963787  3312258926  2019-08-15     1650     B\n",
       "1     2804400009  3642806036  2019-08-15      730     B\n",
       "2     2961555356  4069496402  2019-08-15      400     A\n",
       "3     3797467345  1196621759  2019-08-15     9759     B\n",
       "4     2282983706  2322279887  2019-08-15     2308     B"
      ]
     },
     "execution_count": 8,
     "metadata": {},
     "output_type": "execute_result"
    }
   ],
   "source": [
    "#приведем названия колонок к нижнему регистру \n",
    "orders.columns = [x.lower() for x in orders.columns]\n",
    "orders.head()"
   ]
  },
  {
   "cell_type": "code",
   "execution_count": 9,
   "metadata": {
    "scrolled": true
   },
   "outputs": [
    {
     "name": "stdout",
     "output_type": "stream",
     "text": [
      "<class 'pandas.core.frame.DataFrame'>\n",
      "RangeIndex: 1197 entries, 0 to 1196\n",
      "Data columns (total 5 columns):\n",
      " #   Column         Non-Null Count  Dtype         \n",
      "---  ------         --------------  -----         \n",
      " 0   transactionid  1197 non-null   int64         \n",
      " 1   visitorid      1197 non-null   int64         \n",
      " 2   date           1197 non-null   datetime64[ns]\n",
      " 3   revenue        1197 non-null   int64         \n",
      " 4   group          1197 non-null   object        \n",
      "dtypes: datetime64[ns](1), int64(3), object(1)\n",
      "memory usage: 46.9+ KB\n",
      "__________\n",
      "<class 'pandas.core.frame.DataFrame'>\n",
      "RangeIndex: 62 entries, 0 to 61\n",
      "Data columns (total 3 columns):\n",
      " #   Column    Non-Null Count  Dtype         \n",
      "---  ------    --------------  -----         \n",
      " 0   date      62 non-null     datetime64[ns]\n",
      " 1   group     62 non-null     object        \n",
      " 2   visitors  62 non-null     int64         \n",
      "dtypes: datetime64[ns](1), int64(1), object(1)\n",
      "memory usage: 1.6+ KB\n"
     ]
    }
   ],
   "source": [
    "#изменим тип данных колонок 'date'\n",
    "orders['date'] = pd.to_datetime(orders['date'])\n",
    "visitors['date'] = pd.to_datetime(visitors['date'])\n",
    "\n",
    "orders.info()\n",
    "print('__________')\n",
    "visitors.info()"
   ]
  },
  {
   "cell_type": "code",
   "execution_count": 10,
   "metadata": {},
   "outputs": [
    {
     "name": "stdout",
     "output_type": "stream",
     "text": [
      "Размер групп A и В: \n",
      " B    671\n",
      "A    588\n",
      "Name: group, dtype: int64\n"
     ]
    }
   ],
   "source": [
    "#посмотрим размер групп в A/B тесте\n",
    "print('Размер групп A и В: \\n', orders['group'].value_counts() + visitors['group'].value_counts())"
   ]
  },
  {
   "cell_type": "code",
   "execution_count": 11,
   "metadata": {},
   "outputs": [
    {
     "data": {
      "text/plain": [
       "58"
      ]
     },
     "execution_count": 11,
     "metadata": {},
     "output_type": "execute_result"
    }
   ],
   "source": [
    "#посмотрим попадают ли какие либо пользователи в обе группы одновременно\n",
    "duplicated_orders = orders['visitorid'].loc[orders['group'] == 'A']\n",
    "orders['visitorid'].loc[(orders['group'] == 'B') & (orders['visitorid'].isin(duplicated_orders))].nunique()"
   ]
  },
  {
   "cell_type": "code",
   "execution_count": 12,
   "metadata": {
    "scrolled": true
   },
   "outputs": [
    {
     "name": "stdout",
     "output_type": "stream",
     "text": [
      "Дата окончания теста: 2019-08-31\n",
      "Дата начала теста: 2019-08-01\n"
     ]
    }
   ],
   "source": [
    "print('Дата окончания теста:', pd.to_datetime(orders['date']).dt.date.max())\n",
    "print('Дата начала теста:', pd.to_datetime(orders['date']).dt.date.min())"
   ]
  },
  {
   "cell_type": "markdown",
   "metadata": {},
   "source": [
    "#### Конец раздела  \n",
    "Предобработка данных завершена \n",
    "\n",
    "____\n"
   ]
  },
  {
   "cell_type": "markdown",
   "metadata": {},
   "source": [
    "# Часть 1. Приоритизация гипотез"
   ]
  },
  {
   "cell_type": "code",
   "execution_count": 14,
   "metadata": {},
   "outputs": [
    {
     "data": {
      "image/png": "[encoded data removed]",
      "text/plain": [
       "<Figure size 720x720 with 1 Axes>"
      ]
     },
     "metadata": {
      "needs_background": "light"
     },
     "output_type": "display_data"
    }
   ],
   "source": [
    "#для наглядного отображения построим график ICE \n",
    "ice_plot = data[['hypothesis', 'ICE']].set_index('hypothesis').sort_values(by='ICE', ascending=True).plot(kind='barh', figsize=(10,10), grid=True)\n",
    "ice_plot.set_xlabel('Приоритет')\n",
    "ice_plot.set_ylabel('Гипотеза')\n",
    "ice_plot.set_title('ICE')\n",
    "plt.show()"
   ]
  },
  {
   "cell_type": "markdown",
   "metadata": {},
   "source": [
    "Промежуточный вывод по ICE: \n",
    "\n",
    "Приоритетнее всего является задача 8: Запустить акцию дающую скидку на товар\"  \n",
    "Наименнее приоритетная задача - 4: \"Изменить цвет фона главной страницы\""
   ]
  },
  {
   "cell_type": "code",
   "execution_count": 15,
   "metadata": {},
   "outputs": [
    {
     "data": {
      "text/html": [
       "<div>\n",
       "<style scoped>\n",
       "    .dataframe tbody tr th:only-of-type {\n",
       "        vertical-align: middle;\n",
       "    }\n",
       "\n",
       "    .dataframe tbody tr th {\n",
       "        vertical-align: top;\n",
       "    }\n",
       "\n",
       "    .dataframe thead th {\n",
       "        text-align: right;\n",
       "    }\n",
       "</style>\n",
       "<table border=\"1\" class=\"dataframe\">\n",
       "  <thead>\n",
       "    <tr style=\"text-align: right;\">\n",
       "      <th></th>\n",
       "      <th>hypothesis</th>\n",
       "      <th>RICE</th>\n",
       "    </tr>\n",
       "  </thead>\n",
       "  <tbody>\n",
       "    <tr>\n",
       "      <th>7</th>\n",
       "      <td>Добавить форму подписки на все основные страницы, чтобы собрать базу клиентов для email-рассылок</td>\n",
       "      <td>112.0</td>\n",
       "    </tr>\n",
       "    <tr>\n",
       "      <th>2</th>\n",
       "      <td>Добавить блоки рекомендаций товаров на сайт интернет магазина, чтобы повысить конверсию и средний чек заказа</td>\n",
       "      <td>56.0</td>\n",
       "    </tr>\n",
       "    <tr>\n",
       "      <th>0</th>\n",
       "      <td>Добавить два новых канала привлечения трафика, что позволит привлекать на 30% больше пользователей</td>\n",
       "      <td>40.0</td>\n",
       "    </tr>\n",
       "    <tr>\n",
       "      <th>6</th>\n",
       "      <td>Показать на главной странице баннеры с актуальными акциями и распродажами, чтобы увеличить конверсию</td>\n",
       "      <td>40.0</td>\n",
       "    </tr>\n",
       "    <tr>\n",
       "      <th>8</th>\n",
       "      <td>Запустить акцию, дающую скидку на товар в день рождения</td>\n",
       "      <td>16.2</td>\n",
       "    </tr>\n",
       "    <tr>\n",
       "      <th>3</th>\n",
       "      <td>Изменить структура категорий, что увеличит конверсию, т.к. пользователи быстрее найдут нужный товар</td>\n",
       "      <td>9.0</td>\n",
       "    </tr>\n",
       "    <tr>\n",
       "      <th>1</th>\n",
       "      <td>Запустить собственную службу доставки, что сократит срок доставки заказов</td>\n",
       "      <td>4.0</td>\n",
       "    </tr>\n",
       "    <tr>\n",
       "      <th>5</th>\n",
       "      <td>Добавить страницу отзывов клиентов о магазине, что позволит увеличить количество заказов</td>\n",
       "      <td>4.0</td>\n",
       "    </tr>\n",
       "    <tr>\n",
       "      <th>4</th>\n",
       "      <td>Изменить цвет фона главной страницы, чтобы увеличить вовлеченность пользователей</td>\n",
       "      <td>3.0</td>\n",
       "    </tr>\n",
       "  </tbody>\n",
       "</table>\n",
       "</div>"
      ],
      "text/plain": [
       "                                                                                                     hypothesis  \\\n",
       "7  Добавить форму подписки на все основные страницы, чтобы собрать базу клиентов для email-рассылок               \n",
       "2  Добавить блоки рекомендаций товаров на сайт интернет магазина, чтобы повысить конверсию и средний чек заказа   \n",
       "0  Добавить два новых канала привлечения трафика, что позволит привлекать на 30% больше пользователей             \n",
       "6  Показать на главной странице баннеры с актуальными акциями и распродажами, чтобы увеличить конверсию           \n",
       "8  Запустить акцию, дающую скидку на товар в день рождения                                                        \n",
       "3  Изменить структура категорий, что увеличит конверсию, т.к. пользователи быстрее найдут нужный товар            \n",
       "1  Запустить собственную службу доставки, что сократит срок доставки заказов                                      \n",
       "5  Добавить страницу отзывов клиентов о магазине, что позволит увеличить количество заказов                       \n",
       "4  Изменить цвет фона главной страницы, чтобы увеличить вовлеченность пользователей                               \n",
       "\n",
       "    RICE  \n",
       "7  112.0  \n",
       "2  56.0   \n",
       "0  40.0   \n",
       "6  40.0   \n",
       "8  16.2   \n",
       "3  9.0    \n",
       "1  4.0    \n",
       "5  4.0    \n",
       "4  3.0    "
      ]
     },
     "metadata": {},
     "output_type": "display_data"
    }
   ],
   "source": [
    "#применим фреймворк RICE и выведем его на экран\n",
    "data['RICE'] = (data['reach'] * data['impact'] * data['confidence']) / data['efforts']\n",
    "\n",
    "display(data[['hypothesis', 'RICE']].sort_values(by='RICE', ascending=False))"
   ]
  },
  {
   "cell_type": "code",
   "execution_count": 16,
   "metadata": {},
   "outputs": [
    {
     "data": {
      "image/png": "[encoded data removed]",
      "text/plain": [
       "<Figure size 720x720 with 1 Axes>"
      ]
     },
     "metadata": {
      "needs_background": "light"
     },
     "output_type": "display_data"
    }
   ],
   "source": [
    "#для наглядного отображения построим график RICE \n",
    "rice_plot = data[['hypothesis', 'RICE']].set_index('hypothesis').sort_values(by='RICE', ascending=True).plot(kind='barh', figsize=(10,10), grid=True)\n",
    "rice_plot.set_xlabel('Приоритет')\n",
    "rice_plot.set_ylabel('Гипотеза')\n",
    "rice_plot.set_title('RICE')\n",
    "plt.show()"
   ]
  },
  {
   "cell_type": "markdown",
   "metadata": {},
   "source": [
    "Промежуточный вывод по RICE:\n",
    "\n",
    "Приоритетнее всего является задача 7: \"Добавить форму подписки на все основные страницы\"   \n",
    "Наименнее приоритетная задача, по прежнему - 4: \"Изменить цвет фона главной страницы\""
   ]
  },
  {
   "cell_type": "markdown",
   "metadata": {},
   "source": [
    "\n",
    "### Выводы Части 1:\n",
    "\n",
    "По фреймворку ICE наибольшую оценку имели гпиотезы 8,0 и 7. После применения фреймворка RICE приоритеты изменились на гпиотезы 7,2 и 0. Это объясняется тем, что в случае фреймворка ICE, в отличие от RICE, мы не учитывали охват изменений, тогда как это важная составляющая оценки гипотез.\n",
    "\n",
    "В нашем случае наиболее приоритетными гипотезами будут 7, 2, 0.\n",
    "____\n"
   ]
  },
  {
   "cell_type": "markdown",
   "metadata": {},
   "source": [
    "# Часть 2. Анализ A/B-теста"
   ]
  },
  {
   "cell_type": "markdown",
   "metadata": {},
   "source": [
    "Выведем данные второй части проекта"
   ]
  },
  {
   "cell_type": "code",
   "execution_count": 17,
   "metadata": {
    "scrolled": false
   },
   "outputs": [
    {
     "data": {
      "text/html": [
       "<div>\n",
       "<style scoped>\n",
       "    .dataframe tbody tr th:only-of-type {\n",
       "        vertical-align: middle;\n",
       "    }\n",
       "\n",
       "    .dataframe tbody tr th {\n",
       "        vertical-align: top;\n",
       "    }\n",
       "\n",
       "    .dataframe thead th {\n",
       "        text-align: right;\n",
       "    }\n",
       "</style>\n",
       "<table border=\"1\" class=\"dataframe\">\n",
       "  <thead>\n",
       "    <tr style=\"text-align: right;\">\n",
       "      <th></th>\n",
       "      <th>transactionid</th>\n",
       "      <th>visitorid</th>\n",
       "      <th>date</th>\n",
       "      <th>revenue</th>\n",
       "      <th>group</th>\n",
       "    </tr>\n",
       "  </thead>\n",
       "  <tbody>\n",
       "    <tr>\n",
       "      <th>0</th>\n",
       "      <td>3667963787</td>\n",
       "      <td>3312258926</td>\n",
       "      <td>2019-08-15</td>\n",
       "      <td>1650</td>\n",
       "      <td>B</td>\n",
       "    </tr>\n",
       "    <tr>\n",
       "      <th>1</th>\n",
       "      <td>2804400009</td>\n",
       "      <td>3642806036</td>\n",
       "      <td>2019-08-15</td>\n",
       "      <td>730</td>\n",
       "      <td>B</td>\n",
       "    </tr>\n",
       "    <tr>\n",
       "      <th>2</th>\n",
       "      <td>2961555356</td>\n",
       "      <td>4069496402</td>\n",
       "      <td>2019-08-15</td>\n",
       "      <td>400</td>\n",
       "      <td>A</td>\n",
       "    </tr>\n",
       "    <tr>\n",
       "      <th>3</th>\n",
       "      <td>3797467345</td>\n",
       "      <td>1196621759</td>\n",
       "      <td>2019-08-15</td>\n",
       "      <td>9759</td>\n",
       "      <td>B</td>\n",
       "    </tr>\n",
       "    <tr>\n",
       "      <th>4</th>\n",
       "      <td>2282983706</td>\n",
       "      <td>2322279887</td>\n",
       "      <td>2019-08-15</td>\n",
       "      <td>2308</td>\n",
       "      <td>B</td>\n",
       "    </tr>\n",
       "  </tbody>\n",
       "</table>\n",
       "</div>"
      ],
      "text/plain": [
       "   transactionid   visitorid       date  revenue group\n",
       "0  3667963787     3312258926 2019-08-15  1650     B   \n",
       "1  2804400009     3642806036 2019-08-15  730      B   \n",
       "2  2961555356     4069496402 2019-08-15  400      A   \n",
       "3  3797467345     1196621759 2019-08-15  9759     B   \n",
       "4  2282983706     2322279887 2019-08-15  2308     B   "
      ]
     },
     "execution_count": 17,
     "metadata": {},
     "output_type": "execute_result"
    }
   ],
   "source": [
    "orders.head()"
   ]
  },
  {
   "cell_type": "code",
   "execution_count": 18,
   "metadata": {},
   "outputs": [
    {
     "data": {
      "text/html": [
       "<div>\n",
       "<style scoped>\n",
       "    .dataframe tbody tr th:only-of-type {\n",
       "        vertical-align: middle;\n",
       "    }\n",
       "\n",
       "    .dataframe tbody tr th {\n",
       "        vertical-align: top;\n",
       "    }\n",
       "\n",
       "    .dataframe thead th {\n",
       "        text-align: right;\n",
       "    }\n",
       "</style>\n",
       "<table border=\"1\" class=\"dataframe\">\n",
       "  <thead>\n",
       "    <tr style=\"text-align: right;\">\n",
       "      <th></th>\n",
       "      <th>date</th>\n",
       "      <th>group</th>\n",
       "      <th>visitors</th>\n",
       "    </tr>\n",
       "  </thead>\n",
       "  <tbody>\n",
       "    <tr>\n",
       "      <th>0</th>\n",
       "      <td>2019-08-01</td>\n",
       "      <td>A</td>\n",
       "      <td>719</td>\n",
       "    </tr>\n",
       "    <tr>\n",
       "      <th>1</th>\n",
       "      <td>2019-08-02</td>\n",
       "      <td>A</td>\n",
       "      <td>619</td>\n",
       "    </tr>\n",
       "    <tr>\n",
       "      <th>2</th>\n",
       "      <td>2019-08-03</td>\n",
       "      <td>A</td>\n",
       "      <td>507</td>\n",
       "    </tr>\n",
       "    <tr>\n",
       "      <th>3</th>\n",
       "      <td>2019-08-04</td>\n",
       "      <td>A</td>\n",
       "      <td>717</td>\n",
       "    </tr>\n",
       "    <tr>\n",
       "      <th>4</th>\n",
       "      <td>2019-08-05</td>\n",
       "      <td>A</td>\n",
       "      <td>756</td>\n",
       "    </tr>\n",
       "  </tbody>\n",
       "</table>\n",
       "</div>"
      ],
      "text/plain": [
       "        date group  visitors\n",
       "0 2019-08-01  A     719     \n",
       "1 2019-08-02  A     619     \n",
       "2 2019-08-03  A     507     \n",
       "3 2019-08-04  A     717     \n",
       "4 2019-08-05  A     756     "
      ]
     },
     "execution_count": 18,
     "metadata": {},
     "output_type": "execute_result"
    }
   ],
   "source": [
    "visitors.head()"
   ]
  },
  {
   "cell_type": "markdown",
   "metadata": {},
   "source": [
    "### Подготовка данных к анализу\n"
   ]
  },
  {
   "cell_type": "markdown",
   "metadata": {},
   "source": [
    "_____\n",
    "Подготовим данные для дальнейшей работы и расчетов\n",
    "____\n"
   ]
  },
  {
   "cell_type": "code",
   "execution_count": 19,
   "metadata": {},
   "outputs": [],
   "source": [
    "# создаем массив уникальных пар значений дат и групп теста\n",
    "datesGroups = orders[['date','group']].drop_duplicates()"
   ]
  },
  {
   "cell_type": "code",
   "execution_count": 20,
   "metadata": {},
   "outputs": [],
   "source": [
    "# получаем агрегированные кумулятивные по дням данные о заказах \n",
    "ordersAggregated = datesGroups.apply(\n",
    "    lambda x: orders[np.logical_and(orders['date'] <= x['date'], orders['group'] == x['group'])].agg(\n",
    "        {'date' : 'max',\n",
    "         'group' : 'max',\n",
    "         'transactionid' : 'nunique',\n",
    "         'visitorid' : 'nunique',\n",
    "         'revenue' : 'sum'}), axis=1).sort_values(by=['date','group'])\n",
    "\n"
   ]
  },
  {
   "cell_type": "code",
   "execution_count": 21,
   "metadata": {},
   "outputs": [
    {
     "data": {
      "text/html": [
       "<div>\n",
       "<style scoped>\n",
       "    .dataframe tbody tr th:only-of-type {\n",
       "        vertical-align: middle;\n",
       "    }\n",
       "\n",
       "    .dataframe tbody tr th {\n",
       "        vertical-align: top;\n",
       "    }\n",
       "\n",
       "    .dataframe thead th {\n",
       "        text-align: right;\n",
       "    }\n",
       "</style>\n",
       "<table border=\"1\" class=\"dataframe\">\n",
       "  <thead>\n",
       "    <tr style=\"text-align: right;\">\n",
       "      <th></th>\n",
       "      <th>date</th>\n",
       "      <th>group</th>\n",
       "      <th>transactionid</th>\n",
       "      <th>visitorid</th>\n",
       "      <th>revenue</th>\n",
       "    </tr>\n",
       "  </thead>\n",
       "  <tbody>\n",
       "    <tr>\n",
       "      <th>55</th>\n",
       "      <td>2019-08-01</td>\n",
       "      <td>A</td>\n",
       "      <td>24</td>\n",
       "      <td>20</td>\n",
       "      <td>148579</td>\n",
       "    </tr>\n",
       "    <tr>\n",
       "      <th>66</th>\n",
       "      <td>2019-08-01</td>\n",
       "      <td>B</td>\n",
       "      <td>21</td>\n",
       "      <td>20</td>\n",
       "      <td>101217</td>\n",
       "    </tr>\n",
       "    <tr>\n",
       "      <th>175</th>\n",
       "      <td>2019-08-02</td>\n",
       "      <td>A</td>\n",
       "      <td>44</td>\n",
       "      <td>38</td>\n",
       "      <td>242401</td>\n",
       "    </tr>\n",
       "    <tr>\n",
       "      <th>173</th>\n",
       "      <td>2019-08-02</td>\n",
       "      <td>B</td>\n",
       "      <td>45</td>\n",
       "      <td>43</td>\n",
       "      <td>266748</td>\n",
       "    </tr>\n",
       "    <tr>\n",
       "      <th>291</th>\n",
       "      <td>2019-08-03</td>\n",
       "      <td>A</td>\n",
       "      <td>68</td>\n",
       "      <td>62</td>\n",
       "      <td>354874</td>\n",
       "    </tr>\n",
       "  </tbody>\n",
       "</table>\n",
       "</div>"
      ],
      "text/plain": [
       "          date group  transactionid  visitorid  revenue\n",
       "55  2019-08-01  A     24             20         148579 \n",
       "66  2019-08-01  B     21             20         101217 \n",
       "175 2019-08-02  A     44             38         242401 \n",
       "173 2019-08-02  B     45             43         266748 \n",
       "291 2019-08-03  A     68             62         354874 "
      ]
     },
     "execution_count": 21,
     "metadata": {},
     "output_type": "execute_result"
    }
   ],
   "source": [
    "ordersAggregated.head()"
   ]
  },
  {
   "cell_type": "code",
   "execution_count": 22,
   "metadata": {},
   "outputs": [],
   "source": [
    "# получаем агрегированные кумулятивные по дням данные о посетителях интернет-магазина \n",
    "visitorsAggregated = datesGroups.apply(\n",
    "    lambda x: visitors[np.logical_and(visitors['date'] <= x['date'], visitors['group'] == x['group'])].agg(\n",
    "        {'date' : 'max',\n",
    "          'group' : 'max',\n",
    "          'visitors' : 'sum'}), axis=1).sort_values(by=['date','group'])\n"
   ]
  },
  {
   "cell_type": "code",
   "execution_count": 23,
   "metadata": {},
   "outputs": [
    {
     "data": {
      "text/html": [
       "<div>\n",
       "<style scoped>\n",
       "    .dataframe tbody tr th:only-of-type {\n",
       "        vertical-align: middle;\n",
       "    }\n",
       "\n",
       "    .dataframe tbody tr th {\n",
       "        vertical-align: top;\n",
       "    }\n",
       "\n",
       "    .dataframe thead th {\n",
       "        text-align: right;\n",
       "    }\n",
       "</style>\n",
       "<table border=\"1\" class=\"dataframe\">\n",
       "  <thead>\n",
       "    <tr style=\"text-align: right;\">\n",
       "      <th></th>\n",
       "      <th>date</th>\n",
       "      <th>group</th>\n",
       "      <th>visitors</th>\n",
       "    </tr>\n",
       "  </thead>\n",
       "  <tbody>\n",
       "    <tr>\n",
       "      <th>55</th>\n",
       "      <td>2019-08-01</td>\n",
       "      <td>A</td>\n",
       "      <td>719</td>\n",
       "    </tr>\n",
       "    <tr>\n",
       "      <th>66</th>\n",
       "      <td>2019-08-01</td>\n",
       "      <td>B</td>\n",
       "      <td>713</td>\n",
       "    </tr>\n",
       "    <tr>\n",
       "      <th>175</th>\n",
       "      <td>2019-08-02</td>\n",
       "      <td>A</td>\n",
       "      <td>1338</td>\n",
       "    </tr>\n",
       "    <tr>\n",
       "      <th>173</th>\n",
       "      <td>2019-08-02</td>\n",
       "      <td>B</td>\n",
       "      <td>1294</td>\n",
       "    </tr>\n",
       "    <tr>\n",
       "      <th>291</th>\n",
       "      <td>2019-08-03</td>\n",
       "      <td>A</td>\n",
       "      <td>1845</td>\n",
       "    </tr>\n",
       "  </tbody>\n",
       "</table>\n",
       "</div>"
      ],
      "text/plain": [
       "          date group  visitors\n",
       "55  2019-08-01  A     719     \n",
       "66  2019-08-01  B     713     \n",
       "175 2019-08-02  A     1338    \n",
       "173 2019-08-02  B     1294    \n",
       "291 2019-08-03  A     1845    "
      ]
     },
     "execution_count": 23,
     "metadata": {},
     "output_type": "execute_result"
    }
   ],
   "source": [
    "visitorsAggregated.head()"
   ]
  },
  {
   "cell_type": "code",
   "execution_count": 24,
   "metadata": {
    "scrolled": true
   },
   "outputs": [
    {
     "data": {
      "text/html": [
       "<div>\n",
       "<style scoped>\n",
       "    .dataframe tbody tr th:only-of-type {\n",
       "        vertical-align: middle;\n",
       "    }\n",
       "\n",
       "    .dataframe tbody tr th {\n",
       "        vertical-align: top;\n",
       "    }\n",
       "\n",
       "    .dataframe thead th {\n",
       "        text-align: right;\n",
       "    }\n",
       "</style>\n",
       "<table border=\"1\" class=\"dataframe\">\n",
       "  <thead>\n",
       "    <tr style=\"text-align: right;\">\n",
       "      <th></th>\n",
       "      <th>date</th>\n",
       "      <th>group</th>\n",
       "      <th>orders</th>\n",
       "      <th>buyers</th>\n",
       "      <th>revenue</th>\n",
       "      <th>visitors</th>\n",
       "    </tr>\n",
       "  </thead>\n",
       "  <tbody>\n",
       "    <tr>\n",
       "      <th>0</th>\n",
       "      <td>2019-08-01</td>\n",
       "      <td>A</td>\n",
       "      <td>24</td>\n",
       "      <td>20</td>\n",
       "      <td>148579</td>\n",
       "      <td>719</td>\n",
       "    </tr>\n",
       "    <tr>\n",
       "      <th>1</th>\n",
       "      <td>2019-08-01</td>\n",
       "      <td>B</td>\n",
       "      <td>21</td>\n",
       "      <td>20</td>\n",
       "      <td>101217</td>\n",
       "      <td>713</td>\n",
       "    </tr>\n",
       "    <tr>\n",
       "      <th>2</th>\n",
       "      <td>2019-08-02</td>\n",
       "      <td>A</td>\n",
       "      <td>44</td>\n",
       "      <td>38</td>\n",
       "      <td>242401</td>\n",
       "      <td>1338</td>\n",
       "    </tr>\n",
       "    <tr>\n",
       "      <th>3</th>\n",
       "      <td>2019-08-02</td>\n",
       "      <td>B</td>\n",
       "      <td>45</td>\n",
       "      <td>43</td>\n",
       "      <td>266748</td>\n",
       "      <td>1294</td>\n",
       "    </tr>\n",
       "    <tr>\n",
       "      <th>4</th>\n",
       "      <td>2019-08-03</td>\n",
       "      <td>A</td>\n",
       "      <td>68</td>\n",
       "      <td>62</td>\n",
       "      <td>354874</td>\n",
       "      <td>1845</td>\n",
       "    </tr>\n",
       "  </tbody>\n",
       "</table>\n",
       "</div>"
      ],
      "text/plain": [
       "        date group  orders  buyers  revenue  visitors\n",
       "0 2019-08-01  A     24      20      148579   719     \n",
       "1 2019-08-01  B     21      20      101217   713     \n",
       "2 2019-08-02  A     44      38      242401   1338    \n",
       "3 2019-08-02  B     45      43      266748   1294    \n",
       "4 2019-08-03  A     68      62      354874   1845    "
      ]
     },
     "execution_count": 24,
     "metadata": {},
     "output_type": "execute_result"
    }
   ],
   "source": [
    "# объединяем кумулятивные данные в одной таблице и присваиваем ее столбцам понятные названия\n",
    "cumulativeData = ordersAggregated.merge(visitorsAggregated, left_on=['date', 'group'], right_on=['date', 'group'])\n",
    "cumulativeData.columns = ['date', 'group', 'orders', 'buyers', 'revenue', 'visitors']\n",
    "\n",
    "cumulativeData.head(5)"
   ]
  },
  {
   "cell_type": "markdown",
   "metadata": {},
   "source": [
    "____"
   ]
  },
  {
   "cell_type": "markdown",
   "metadata": {},
   "source": [
    "### Задача 1 \n",
    "\n",
    "Расчет кумулятивной выручки по группам.\n",
    "\n"
   ]
  },
  {
   "cell_type": "code",
   "execution_count": 25,
   "metadata": {},
   "outputs": [],
   "source": [
    "# датафрейм с кумулятивным количеством заказов и кумулятивной выручкой по дням в группе А\n",
    "cumulativeRevenueA = cumulativeData[cumulativeData['group']=='A'][['date','revenue', 'orders']]"
   ]
  },
  {
   "cell_type": "code",
   "execution_count": 26,
   "metadata": {},
   "outputs": [
    {
     "data": {
      "text/html": [
       "<div>\n",
       "<style scoped>\n",
       "    .dataframe tbody tr th:only-of-type {\n",
       "        vertical-align: middle;\n",
       "    }\n",
       "\n",
       "    .dataframe tbody tr th {\n",
       "        vertical-align: top;\n",
       "    }\n",
       "\n",
       "    .dataframe thead th {\n",
       "        text-align: right;\n",
       "    }\n",
       "</style>\n",
       "<table border=\"1\" class=\"dataframe\">\n",
       "  <thead>\n",
       "    <tr style=\"text-align: right;\">\n",
       "      <th></th>\n",
       "      <th>date</th>\n",
       "      <th>revenue</th>\n",
       "      <th>orders</th>\n",
       "    </tr>\n",
       "  </thead>\n",
       "  <tbody>\n",
       "    <tr>\n",
       "      <th>0</th>\n",
       "      <td>2019-08-01</td>\n",
       "      <td>148579</td>\n",
       "      <td>24</td>\n",
       "    </tr>\n",
       "    <tr>\n",
       "      <th>2</th>\n",
       "      <td>2019-08-02</td>\n",
       "      <td>242401</td>\n",
       "      <td>44</td>\n",
       "    </tr>\n",
       "    <tr>\n",
       "      <th>4</th>\n",
       "      <td>2019-08-03</td>\n",
       "      <td>354874</td>\n",
       "      <td>68</td>\n",
       "    </tr>\n",
       "    <tr>\n",
       "      <th>6</th>\n",
       "      <td>2019-08-04</td>\n",
       "      <td>425699</td>\n",
       "      <td>84</td>\n",
       "    </tr>\n",
       "    <tr>\n",
       "      <th>8</th>\n",
       "      <td>2019-08-05</td>\n",
       "      <td>549917</td>\n",
       "      <td>109</td>\n",
       "    </tr>\n",
       "  </tbody>\n",
       "</table>\n",
       "</div>"
      ],
      "text/plain": [
       "        date  revenue  orders\n",
       "0 2019-08-01  148579   24    \n",
       "2 2019-08-02  242401   44    \n",
       "4 2019-08-03  354874   68    \n",
       "6 2019-08-04  425699   84    \n",
       "8 2019-08-05  549917   109   "
      ]
     },
     "execution_count": 26,
     "metadata": {},
     "output_type": "execute_result"
    }
   ],
   "source": [
    "cumulativeRevenueA.head()"
   ]
  },
  {
   "cell_type": "code",
   "execution_count": 27,
   "metadata": {},
   "outputs": [],
   "source": [
    "# датафрейм с кумулятивным количеством заказов и кумулятивной выручкой по дням в группе B\n",
    "cumulativeRevenueB = cumulativeData[cumulativeData['group']=='B'][['date','revenue', 'orders']]"
   ]
  },
  {
   "cell_type": "code",
   "execution_count": 28,
   "metadata": {},
   "outputs": [
    {
     "data": {
      "text/html": [
       "<div>\n",
       "<style scoped>\n",
       "    .dataframe tbody tr th:only-of-type {\n",
       "        vertical-align: middle;\n",
       "    }\n",
       "\n",
       "    .dataframe tbody tr th {\n",
       "        vertical-align: top;\n",
       "    }\n",
       "\n",
       "    .dataframe thead th {\n",
       "        text-align: right;\n",
       "    }\n",
       "</style>\n",
       "<table border=\"1\" class=\"dataframe\">\n",
       "  <thead>\n",
       "    <tr style=\"text-align: right;\">\n",
       "      <th></th>\n",
       "      <th>date</th>\n",
       "      <th>revenue</th>\n",
       "      <th>orders</th>\n",
       "    </tr>\n",
       "  </thead>\n",
       "  <tbody>\n",
       "    <tr>\n",
       "      <th>1</th>\n",
       "      <td>2019-08-01</td>\n",
       "      <td>101217</td>\n",
       "      <td>21</td>\n",
       "    </tr>\n",
       "    <tr>\n",
       "      <th>3</th>\n",
       "      <td>2019-08-02</td>\n",
       "      <td>266748</td>\n",
       "      <td>45</td>\n",
       "    </tr>\n",
       "    <tr>\n",
       "      <th>5</th>\n",
       "      <td>2019-08-03</td>\n",
       "      <td>380996</td>\n",
       "      <td>61</td>\n",
       "    </tr>\n",
       "    <tr>\n",
       "      <th>7</th>\n",
       "      <td>2019-08-04</td>\n",
       "      <td>489567</td>\n",
       "      <td>78</td>\n",
       "    </tr>\n",
       "    <tr>\n",
       "      <th>9</th>\n",
       "      <td>2019-08-05</td>\n",
       "      <td>581995</td>\n",
       "      <td>101</td>\n",
       "    </tr>\n",
       "  </tbody>\n",
       "</table>\n",
       "</div>"
      ],
      "text/plain": [
       "        date  revenue  orders\n",
       "1 2019-08-01  101217   21    \n",
       "3 2019-08-02  266748   45    \n",
       "5 2019-08-03  380996   61    \n",
       "7 2019-08-04  489567   78    \n",
       "9 2019-08-05  581995   101   "
      ]
     },
     "execution_count": 28,
     "metadata": {},
     "output_type": "execute_result"
    }
   ],
   "source": [
    "cumulativeRevenueB.head()"
   ]
  },
  {
   "cell_type": "code",
   "execution_count": 29,
   "metadata": {},
   "outputs": [
    {
     "data": {
      "text/plain": [
       "<matplotlib.legend.Legend at 0x7f9e2d678df0>"
      ]
     },
     "execution_count": 29,
     "metadata": {},
     "output_type": "execute_result"
    },
    {
     "data": {
      "image/png": "[encoded data removed]",
      "text/plain": [
       "<Figure size 720x576 with 1 Axes>"
      ]
     },
     "metadata": {
      "needs_background": "light"
     },
     "output_type": "display_data"
    }
   ],
   "source": [
    "#задаем параметры графика\n",
    "plt.figure(figsize=(10, 8))\n",
    "plt.grid(color='blue', linestyle='-', linewidth=0.2)\n",
    "plt.title('Кумулятивная выручка по группам')\n",
    "plt.xlabel('Дата')\n",
    "plt.ylabel('Выручка')\n",
    "\n",
    "\n",
    "\n",
    "# Строим график выручки группы А\n",
    "plt.plot(cumulativeRevenueA['date'], cumulativeRevenueA['revenue'], label='A')\n",
    "# Строим график выручки группы B\n",
    "plt.plot(cumulativeRevenueB['date'], cumulativeRevenueB['revenue'], label='B')\n",
    "\n",
    "plt.legend()\n",
    "#plt.show()"
   ]
  },
  {
   "cell_type": "markdown",
   "metadata": {},
   "source": [
    "#### Вывод по Задаче 1\n",
    "\n",
    "Выручка планомерно растет, как группе А, так и в группе В, но только до 17 августа, после чего в группе В происходит резкий всплеск, который может быть обусловлен резким ростом числа заказов или появлением аномально дорогих заказов.\n",
    "\n",
    "___\n"
   ]
  },
  {
   "cell_type": "markdown",
   "metadata": {},
   "source": [
    "### Задача 2. \n",
    "\n",
    "Расчет кумулятивного среднего чека по группам."
   ]
  },
  {
   "cell_type": "code",
   "execution_count": 30,
   "metadata": {},
   "outputs": [
    {
     "data": {
      "text/plain": [
       "<matplotlib.legend.Legend at 0x7f9e2d5f9790>"
      ]
     },
     "execution_count": 30,
     "metadata": {},
     "output_type": "execute_result"
    },
    {
     "data": {
      "image/png": "[encoded data removed]",
      "text/plain": [
       "<Figure size 720x576 with 1 Axes>"
      ]
     },
     "metadata": {
      "needs_background": "light"
     },
     "output_type": "display_data"
    }
   ],
   "source": [
    "#задаем параметры графика\n",
    "plt.figure(figsize=(10, 8))\n",
    "plt.grid(color='blue', linestyle='-', linewidth=0.2)\n",
    "plt.title('Средний чек по группам')\n",
    "plt.xlabel('Дата')\n",
    "plt.ylabel('Средний чек')\n",
    "\n",
    "#Построим графики среднего чека по группам — разделим кумулятивную выручку на кумулятивное число заказов\n",
    "plt.plot(cumulativeRevenueA['date'], cumulativeRevenueA['revenue']/cumulativeRevenueA['orders'], label='A')\n",
    "plt.plot(cumulativeRevenueB['date'], cumulativeRevenueB['revenue']/cumulativeRevenueB['orders'], label='B')\n",
    "plt.legend() "
   ]
  },
  {
   "cell_type": "markdown",
   "metadata": {},
   "source": [
    "#### Вывод по Задаче 2\n",
    "\n",
    "Происходит подобный всплеск в группе B, волатильность групп А и В просматривается на всем графике до 17 августа, после чего группа А выходит на стабильный средний чек около 7000, а в группе В наблюдается резкий всплеск на графике, что может быть обсуловлено попаданием в выборку крупных заказов. Требуется дополнительный анализ выбросов в группах.\n",
    "____"
   ]
  },
  {
   "cell_type": "markdown",
   "metadata": {},
   "source": [
    "### Задача 3. \n",
    "\n",
    "Расчет относительного изменения кумулятивного среднего чека группы B к группе A. "
   ]
  },
  {
   "cell_type": "code",
   "execution_count": 31,
   "metadata": {},
   "outputs": [],
   "source": [
    "# собираем данные в одном датафрейме\n",
    "mergedCumulativeRevenue = cumulativeRevenueA.merge(cumulativeRevenueB, left_on='date', right_on='date', how='left', suffixes=['A', 'B'])"
   ]
  },
  {
   "cell_type": "code",
   "execution_count": 32,
   "metadata": {},
   "outputs": [
    {
     "data": {
      "text/plain": [
       "<matplotlib.lines.Line2D at 0x7f9e2cf56be0>"
      ]
     },
     "execution_count": 32,
     "metadata": {},
     "output_type": "execute_result"
    },
    {
     "data": {
      "image/png": "[encoded data removed]",
      "text/plain": [
       "<Figure size 720x432 with 1 Axes>"
      ]
     },
     "metadata": {
      "needs_background": "light"
     },
     "output_type": "display_data"
    }
   ],
   "source": [
    "#задаем параметры графика\n",
    "plt.figure(figsize=(10, 6))\n",
    "plt.grid(color='blue', linestyle='-', linewidth=0.2)\n",
    "plt.title('Относительное изменение кумулятивного среднего чека')\n",
    "plt.xlabel('Дата')\n",
    "plt.ylabel('Изменение')\n",
    "\n",
    "# cтроим отношение средних чеков\n",
    "plt.plot(mergedCumulativeRevenue['date'], (mergedCumulativeRevenue['revenueB']/mergedCumulativeRevenue['ordersB'])/(mergedCumulativeRevenue['revenueA']/mergedCumulativeRevenue['ordersA'])-1)\n",
    "# добавляем ось X\n",
    "plt.axhline(y=0, color='red', linestyle='--') "
   ]
  },
  {
   "cell_type": "markdown",
   "metadata": {},
   "source": [
    "#### Вывод по Задаче 3\n",
    "\n",
    "В нескольких точках график различия между сегментами резко «скачет». Налицо наличие выбросов и аномальных значений, необходимо дополнительное исследование и обработка данных для их определения.\n",
    "___"
   ]
  },
  {
   "cell_type": "markdown",
   "metadata": {},
   "source": [
    "### Задача 4. \n",
    "\n",
    "Расчет кумулятивного среднего количества заказов на посетителя по группам."
   ]
  },
  {
   "cell_type": "code",
   "execution_count": 33,
   "metadata": {},
   "outputs": [],
   "source": [
    "# считаем кумулятивную конверсию\n",
    "cumulativeData['conversion'] = cumulativeData['orders']/cumulativeData['visitors']"
   ]
  },
  {
   "cell_type": "code",
   "execution_count": 34,
   "metadata": {},
   "outputs": [],
   "source": [
    "# отделяем данные по группе A\n",
    "cumulativeDataA = cumulativeData[cumulativeData['group']=='A']\n",
    "# отделяем данные по группе B\n",
    "cumulativeDataB = cumulativeData[cumulativeData['group']=='B']"
   ]
  },
  {
   "cell_type": "code",
   "execution_count": 35,
   "metadata": {},
   "outputs": [
    {
     "data": {
      "text/plain": [
       "<matplotlib.legend.Legend at 0x7f9e2ce5e2b0>"
      ]
     },
     "execution_count": 35,
     "metadata": {},
     "output_type": "execute_result"
    },
    {
     "data": {
      "image/png": "[encoded data removed]",
      "text/plain": [
       "<Figure size 720x432 with 1 Axes>"
      ]
     },
     "metadata": {
      "needs_background": "light"
     },
     "output_type": "display_data"
    }
   ],
   "source": [
    "#задаем параметры графика\n",
    "plt.figure(figsize=(10, 6))\n",
    "plt.grid(color='blue', linestyle='-', linewidth=0.2)\n",
    "plt.title('Кумулятивная конверсия')\n",
    "plt.xlabel('Дата')\n",
    "plt.ylabel('Количество заказов')\n",
    "\n",
    "# строим графики\n",
    "plt.plot(cumulativeDataA['date'], cumulativeDataA['conversion'], label='A')\n",
    "plt.plot(cumulativeDataB['date'], cumulativeDataB['conversion'], label='B')\n",
    "plt.legend()"
   ]
  },
  {
   "cell_type": "markdown",
   "metadata": {},
   "source": [
    "#### Вывод по Задаче 4\n",
    "\n",
    "График кумулятивной конверсии стабилизировался к 17 августа и показывает, что Конверсия группы В стабильно выше, конверсии группы А.\n",
    "___"
   ]
  },
  {
   "cell_type": "markdown",
   "metadata": {},
   "source": [
    "### Задача 5. \n",
    "\n",
    "Расчет относительного изменения кумулятивного среднего количества заказов на посетителя группы B к группе A. "
   ]
  },
  {
   "cell_type": "code",
   "execution_count": 36,
   "metadata": {},
   "outputs": [],
   "source": [
    "mergedCumulativeConversions = cumulativeDataA[['date','conversion']].merge(cumulativeDataB[['date','conversion']], left_on='date', right_on='date', how='left', suffixes=['A', 'B'])"
   ]
  },
  {
   "cell_type": "code",
   "execution_count": 37,
   "metadata": {},
   "outputs": [
    {
     "data": {
      "text/plain": [
       "<matplotlib.lines.Line2D at 0x7f9e2cde28e0>"
      ]
     },
     "execution_count": 37,
     "metadata": {},
     "output_type": "execute_result"
    },
    {
     "data": {
      "image/png": "[encoded data removed]",
      "text/plain": [
       "<Figure size 720x432 with 1 Axes>"
      ]
     },
     "metadata": {
      "needs_background": "light"
     },
     "output_type": "display_data"
    }
   ],
   "source": [
    "#задаем параметры графика\n",
    "plt.figure(figsize=(10, 6))\n",
    "plt.grid(color='blue', linestyle='-', linewidth=0.2)\n",
    "plt.title('Относительное изменение кумулятивной конверсии')\n",
    "plt.xlabel('Дата')\n",
    "plt.ylabel('Изменение')\n",
    "\n",
    "# строим графики\n",
    "plt.plot(mergedCumulativeConversions['date'], mergedCumulativeConversions['conversionB']/mergedCumulativeConversions['conversionA']-1, label=\"Относительный прирост конверсии группы B относительно группы A\")\n",
    "plt.legend()\n",
    "\n",
    "plt.axhline(y=0, color='black', linestyle='--')\n",
    "plt.axhline(y=-0.1, color='red', linestyle='--')\n"
   ]
  },
  {
   "cell_type": "markdown",
   "metadata": {},
   "source": [
    "#### Вывод по Задаче 5\n",
    "\n",
    "\n",
    "В начале теста группа B была значительно ниже группы A, затем разница между группами резко увеличилась в сторону группы B.  \n",
    "На данный момент нет основания для каких либо выводов, сперва стоит проанализировать аномалии.\n",
    "___"
   ]
  },
  {
   "cell_type": "markdown",
   "metadata": {},
   "source": [
    "## Проверка аномальных значений"
   ]
  },
  {
   "cell_type": "markdown",
   "metadata": {},
   "source": [
    "### Задача 6. \n",
    "\n",
    "Построение точечного графика количества заказов по пользователям. "
   ]
  },
  {
   "cell_type": "code",
   "execution_count": 38,
   "metadata": {
    "scrolled": true
   },
   "outputs": [
    {
     "data": {
      "text/html": [
       "<div>\n",
       "<style scoped>\n",
       "    .dataframe tbody tr th:only-of-type {\n",
       "        vertical-align: middle;\n",
       "    }\n",
       "\n",
       "    .dataframe tbody tr th {\n",
       "        vertical-align: top;\n",
       "    }\n",
       "\n",
       "    .dataframe thead th {\n",
       "        text-align: right;\n",
       "    }\n",
       "</style>\n",
       "<table border=\"1\" class=\"dataframe\">\n",
       "  <thead>\n",
       "    <tr style=\"text-align: right;\">\n",
       "      <th></th>\n",
       "      <th>visitorid</th>\n",
       "      <th>orders</th>\n",
       "    </tr>\n",
       "  </thead>\n",
       "  <tbody>\n",
       "    <tr>\n",
       "      <th>1023</th>\n",
       "      <td>4256040402</td>\n",
       "      <td>11</td>\n",
       "    </tr>\n",
       "    <tr>\n",
       "      <th>591</th>\n",
       "      <td>2458001652</td>\n",
       "      <td>11</td>\n",
       "    </tr>\n",
       "    <tr>\n",
       "      <th>569</th>\n",
       "      <td>2378935119</td>\n",
       "      <td>9</td>\n",
       "    </tr>\n",
       "    <tr>\n",
       "      <th>487</th>\n",
       "      <td>2038680547</td>\n",
       "      <td>8</td>\n",
       "    </tr>\n",
       "    <tr>\n",
       "      <th>44</th>\n",
       "      <td>199603092</td>\n",
       "      <td>5</td>\n",
       "    </tr>\n",
       "    <tr>\n",
       "      <th>744</th>\n",
       "      <td>3062433592</td>\n",
       "      <td>5</td>\n",
       "    </tr>\n",
       "    <tr>\n",
       "      <th>55</th>\n",
       "      <td>237748145</td>\n",
       "      <td>5</td>\n",
       "    </tr>\n",
       "    <tr>\n",
       "      <th>917</th>\n",
       "      <td>3803269165</td>\n",
       "      <td>5</td>\n",
       "    </tr>\n",
       "    <tr>\n",
       "      <th>299</th>\n",
       "      <td>1230306981</td>\n",
       "      <td>5</td>\n",
       "    </tr>\n",
       "    <tr>\n",
       "      <th>897</th>\n",
       "      <td>3717692402</td>\n",
       "      <td>5</td>\n",
       "    </tr>\n",
       "  </tbody>\n",
       "</table>\n",
       "</div>"
      ],
      "text/plain": [
       "       visitorid  orders\n",
       "1023  4256040402  11    \n",
       "591   2458001652  11    \n",
       "569   2378935119  9     \n",
       "487   2038680547  8     \n",
       "44    199603092   5     \n",
       "744   3062433592  5     \n",
       "55    237748145   5     \n",
       "917   3803269165  5     \n",
       "299   1230306981  5     \n",
       "897   3717692402  5     "
      ]
     },
     "metadata": {},
     "output_type": "display_data"
    }
   ],
   "source": [
    "#создадим группу \n",
    "ordersByUsers = (\n",
    "    orders.groupby('visitorid', as_index=False)\n",
    "    .agg({'transactionid': 'nunique'})\n",
    ")\n",
    "#переименуем названия колонок и обо\n",
    "ordersByUsers.columns = ['visitorid', 'orders']\n",
    "\n",
    "display(ordersByUsers.sort_values(by='orders', ascending=False).head(10)) "
   ]
  },
  {
   "cell_type": "markdown",
   "metadata": {},
   "source": [
    "____\n",
    "Есть пользователи, которые совершали 5, 8, 9 и 11 заказов.\n",
    "____"
   ]
  },
  {
   "cell_type": "code",
   "execution_count": 39,
   "metadata": {},
   "outputs": [
    {
     "data": {
      "text/plain": [
       "Text(0, 0.5, 'Количество заказов')"
      ]
     },
     "execution_count": 39,
     "metadata": {},
     "output_type": "execute_result"
    },
    {
     "data": {
      "image/png": "[encoded data removed]",
      "text/plain": [
       "<Figure size 720x504 with 1 Axes>"
      ]
     },
     "metadata": {
      "needs_background": "light"
     },
     "output_type": "display_data"
    }
   ],
   "source": [
    "plt.figure(figsize=(10, 7))\n",
    "x_values = pd.Series(range(0,len(ordersByUsers)))\n",
    "\n",
    "plt.scatter(x_values, ordersByUsers['orders']) \n",
    "plt.title('Точечный график количества заказов по пользователям')\n",
    "plt.xlabel('Количество пользователей')\n",
    "plt.ylabel('Количество заказов')"
   ]
  },
  {
   "cell_type": "markdown",
   "metadata": {},
   "source": [
    "#### Вывод по Задаче 6\n",
    "\n",
    "Судя по полученным данным в основном пользователи размещали один заказ, есть более значительное количество двух и трех заказов пользователей, но также есть такие пользователи, кто делал три, четыре, пять, и, даже одинадцать заказов.\n",
    "___"
   ]
  },
  {
   "cell_type": "markdown",
   "metadata": {},
   "source": [
    "### Задача 7. \n",
    "\n",
    "Подсчет 95-й и 99-й перцентилей количества заказов на пользователя."
   ]
  },
  {
   "cell_type": "code",
   "execution_count": 40,
   "metadata": {},
   "outputs": [
    {
     "data": {
      "text/plain": [
       "array([2., 3., 4.])"
      ]
     },
     "metadata": {},
     "output_type": "display_data"
    }
   ],
   "source": [
    "#посчитаем 95, 98 и 99 перцентиль методом np.percentile\n",
    "display(np.percentile(ordersByUsers['orders'], [95, 98, 99])) "
   ]
  },
  {
   "cell_type": "markdown",
   "metadata": {},
   "source": [
    "#### Вывод по Задаче 7\n",
    "\n",
    "Как показал результат проверки на долю элементов выборки, 2 заказа встречается в выборке не более чем у 5% пользователей, 4 заказа не более чем у 1% пользователей \n",
    "\n",
    "Определим 3 заказа пользователя (98-й перцентиль) как нижнюю границу числа заказов и отсеем аномальных пользователей по ней.\n",
    "___\n"
   ]
  },
  {
   "cell_type": "markdown",
   "metadata": {},
   "source": [
    "### Задача 8. \n",
    "\n",
    "\n",
    "Построение точечного графика стоимостей заказов."
   ]
  },
  {
   "cell_type": "markdown",
   "metadata": {},
   "source": []
  },
  {
   "cell_type": "code",
   "execution_count": 41,
   "metadata": {},
   "outputs": [
    {
     "data": {
      "text/plain": [
       "<matplotlib.collections.PathCollection at 0x7f9e2cd31160>"
      ]
     },
     "execution_count": 41,
     "metadata": {},
     "output_type": "execute_result"
    },
    {
     "data": {
      "image/png": "[encoded data removed]",
      "text/plain": [
       "<Figure size 720x432 with 1 Axes>"
      ]
     },
     "metadata": {
      "needs_background": "light"
     },
     "output_type": "display_data"
    }
   ],
   "source": [
    "#задаем параметры графика\n",
    "plt.figure(figsize=(10, 6))\n",
    "plt.grid(color='blue', linestyle='-', linewidth=0.2)\n",
    "plt.title('Точечный график стоимостей заказов')\n",
    "plt.xlabel('Количество заказов')\n",
    "plt.ylabel('Выручка')\n",
    "\n",
    "# построим точечную диаграмму стоимостей заказов\n",
    "x_values = pd.Series(range(0,len(orders['revenue'])))\n",
    "plt.scatter(x_values, orders['revenue']) "
   ]
  },
  {
   "cell_type": "markdown",
   "metadata": {},
   "source": [
    "#### Вывод по Задаче 8\n",
    "\n",
    "На графике мы можем наблюдать аномальные выбросы в районе 200.000 и 1.300.000 рублей.\n",
    "___\n"
   ]
  },
  {
   "cell_type": "markdown",
   "metadata": {},
   "source": [
    "### Задача 9. \n",
    "\n",
    "Подсчет 95-й и 99-й перцентилей количества заказов на пользователя."
   ]
  },
  {
   "cell_type": "code",
   "execution_count": 42,
   "metadata": {
    "scrolled": true
   },
   "outputs": [
    {
     "data": {
      "text/plain": [
       "array([28000. , 58233.2])"
      ]
     },
     "metadata": {},
     "output_type": "display_data"
    }
   ],
   "source": [
    "#посчитаем 95 и 99 перцентиль методом np.percentile\n",
    "display(np.percentile(orders['revenue'], [95, 99])) "
   ]
  },
  {
   "cell_type": "markdown",
   "metadata": {},
   "source": [
    "#### Вывод по Задаче 9\n",
    "\n",
    "Не более 5% заказов дороже 28 000 рублей и не более 1% заказов дороже 58 233 рублей.\n",
    "\n",
    "99% заказов меньше суммы 58233.2, установим этот порог в качестве границы для аномалий.\n",
    "\n",
    "___"
   ]
  },
  {
   "cell_type": "markdown",
   "metadata": {},
   "source": [
    "### Задача 10.\n",
    "\n",
    "Подсчет статистической значимости различий в среднем количестве заказов на посетителя между группами по «сырым» данным. "
   ]
  },
  {
   "cell_type": "code",
   "execution_count": 43,
   "metadata": {
    "scrolled": true
   },
   "outputs": [
    {
     "data": {
      "text/html": [
       "<div>\n",
       "<style scoped>\n",
       "    .dataframe tbody tr th:only-of-type {\n",
       "        vertical-align: middle;\n",
       "    }\n",
       "\n",
       "    .dataframe tbody tr th {\n",
       "        vertical-align: top;\n",
       "    }\n",
       "\n",
       "    .dataframe thead th {\n",
       "        text-align: right;\n",
       "    }\n",
       "</style>\n",
       "<table border=\"1\" class=\"dataframe\">\n",
       "  <thead>\n",
       "    <tr style=\"text-align: right;\">\n",
       "      <th></th>\n",
       "      <th>date</th>\n",
       "      <th>ordersPerDateA</th>\n",
       "      <th>revenuePerDateA</th>\n",
       "      <th>ordersPerDateB</th>\n",
       "      <th>revenuePerDateB</th>\n",
       "      <th>ordersCummulativeA</th>\n",
       "      <th>revenueCummulativeA</th>\n",
       "      <th>ordersCummulativeB</th>\n",
       "      <th>revenueCummulativeB</th>\n",
       "      <th>visitorsPerDateA</th>\n",
       "      <th>visitorsPerDateB</th>\n",
       "      <th>visitorsCummulativeA</th>\n",
       "      <th>visitorsCummulativeB</th>\n",
       "    </tr>\n",
       "  </thead>\n",
       "  <tbody>\n",
       "    <tr>\n",
       "      <th>0</th>\n",
       "      <td>2019-08-01</td>\n",
       "      <td>24</td>\n",
       "      <td>148579</td>\n",
       "      <td>21</td>\n",
       "      <td>101217</td>\n",
       "      <td>24</td>\n",
       "      <td>148579</td>\n",
       "      <td>21</td>\n",
       "      <td>101217</td>\n",
       "      <td>719</td>\n",
       "      <td>713</td>\n",
       "      <td>719</td>\n",
       "      <td>713</td>\n",
       "    </tr>\n",
       "    <tr>\n",
       "      <th>1</th>\n",
       "      <td>2019-08-02</td>\n",
       "      <td>20</td>\n",
       "      <td>93822</td>\n",
       "      <td>24</td>\n",
       "      <td>165531</td>\n",
       "      <td>44</td>\n",
       "      <td>242401</td>\n",
       "      <td>45</td>\n",
       "      <td>266748</td>\n",
       "      <td>619</td>\n",
       "      <td>581</td>\n",
       "      <td>1338</td>\n",
       "      <td>1294</td>\n",
       "    </tr>\n",
       "    <tr>\n",
       "      <th>2</th>\n",
       "      <td>2019-08-03</td>\n",
       "      <td>24</td>\n",
       "      <td>112473</td>\n",
       "      <td>16</td>\n",
       "      <td>114248</td>\n",
       "      <td>68</td>\n",
       "      <td>354874</td>\n",
       "      <td>61</td>\n",
       "      <td>380996</td>\n",
       "      <td>507</td>\n",
       "      <td>509</td>\n",
       "      <td>1845</td>\n",
       "      <td>1803</td>\n",
       "    </tr>\n",
       "    <tr>\n",
       "      <th>3</th>\n",
       "      <td>2019-08-04</td>\n",
       "      <td>16</td>\n",
       "      <td>70825</td>\n",
       "      <td>17</td>\n",
       "      <td>108571</td>\n",
       "      <td>84</td>\n",
       "      <td>425699</td>\n",
       "      <td>78</td>\n",
       "      <td>489567</td>\n",
       "      <td>717</td>\n",
       "      <td>770</td>\n",
       "      <td>2562</td>\n",
       "      <td>2573</td>\n",
       "    </tr>\n",
       "    <tr>\n",
       "      <th>4</th>\n",
       "      <td>2019-08-05</td>\n",
       "      <td>25</td>\n",
       "      <td>124218</td>\n",
       "      <td>23</td>\n",
       "      <td>92428</td>\n",
       "      <td>109</td>\n",
       "      <td>549917</td>\n",
       "      <td>101</td>\n",
       "      <td>581995</td>\n",
       "      <td>756</td>\n",
       "      <td>707</td>\n",
       "      <td>3318</td>\n",
       "      <td>3280</td>\n",
       "    </tr>\n",
       "  </tbody>\n",
       "</table>\n",
       "</div>"
      ],
      "text/plain": [
       "        date  ordersPerDateA  revenuePerDateA  ordersPerDateB  \\\n",
       "0 2019-08-01  24              148579           21               \n",
       "1 2019-08-02  20              93822            24               \n",
       "2 2019-08-03  24              112473           16               \n",
       "3 2019-08-04  16              70825            17               \n",
       "4 2019-08-05  25              124218           23               \n",
       "\n",
       "   revenuePerDateB  ordersCummulativeA  revenueCummulativeA  \\\n",
       "0  101217           24                  148579                \n",
       "1  165531           44                  242401                \n",
       "2  114248           68                  354874                \n",
       "3  108571           84                  425699                \n",
       "4  92428            109                 549917                \n",
       "\n",
       "   ordersCummulativeB  revenueCummulativeB  visitorsPerDateA  \\\n",
       "0  21                  101217               719                \n",
       "1  45                  266748               619                \n",
       "2  61                  380996               507                \n",
       "3  78                  489567               717                \n",
       "4  101                 581995               756                \n",
       "\n",
       "   visitorsPerDateB  visitorsCummulativeA  visitorsCummulativeB  \n",
       "0  713               719                   713                   \n",
       "1  581               1338                  1294                  \n",
       "2  509               1845                  1803                  \n",
       "3  770               2562                  2573                  \n",
       "4  707               3318                  3280                  "
      ]
     },
     "metadata": {},
     "output_type": "display_data"
    }
   ],
   "source": [
    "#выполним подготовку данных\n",
    "\n",
    "visitorsADaily = visitors[visitors['group'] == 'A'][['date', 'visitors']]\n",
    "visitorsADaily.columns = ['date', 'visitorsPerDateA']\n",
    "\n",
    "visitorsACummulative = visitorsADaily.apply(\n",
    "    lambda x: visitorsADaily[visitorsADaily['date'] <= x['date']].agg(\n",
    "        {'date': 'max', 'visitorsPerDateA': 'sum'}\n",
    "    ),\n",
    "    axis=1,\n",
    ")\n",
    "visitorsACummulative.columns = ['date', 'visitorsCummulativeA']\n",
    "\n",
    "visitorsBDaily = visitors[visitors['group'] == 'B'][['date', 'visitors']]\n",
    "visitorsBDaily.columns = ['date', 'visitorsPerDateB']\n",
    "\n",
    "visitorsBCummulative = visitorsBDaily.apply(\n",
    "    lambda x: visitorsBDaily[visitorsBDaily['date'] <= x['date']].agg(\n",
    "        {'date': 'max', 'visitorsPerDateB': 'sum'}\n",
    "    ),\n",
    "    axis=1,\n",
    ")\n",
    "visitorsBCummulative.columns = ['date', 'visitorsCummulativeB']\n",
    "\n",
    "ordersADaily = (\n",
    "    orders[orders['group'] == 'A'][['date', 'transactionid', 'visitorid', 'revenue']]\n",
    "    .groupby('date', as_index=False)\n",
    "    .agg({'transactionid': pd.Series.nunique, 'revenue': 'sum'})\n",
    ")\n",
    "ordersADaily.columns = ['date', 'ordersPerDateA', 'revenuePerDateA']\n",
    "\n",
    "ordersACummulative = ordersADaily.apply(\n",
    "    lambda x: ordersADaily[ordersADaily['date'] <= x['date']].agg(\n",
    "        {'date': 'max', 'ordersPerDateA': 'sum', 'revenuePerDateA': 'sum'}\n",
    "    ),\n",
    "    axis=1,\n",
    ").sort_values(by=['date'])\n",
    "ordersACummulative.columns = [\n",
    "    'date',\n",
    "    'ordersCummulativeA',\n",
    "    'revenueCummulativeA',\n",
    "]\n",
    "\n",
    "ordersBDaily = (\n",
    "    orders[orders['group'] == 'B'][['date', 'transactionid', 'visitorid', 'revenue']]\n",
    "    .groupby('date', as_index=False)\n",
    "    .agg({'transactionid': pd.Series.nunique, 'revenue': 'sum'})\n",
    ")\n",
    "ordersBDaily.columns = ['date', 'ordersPerDateB', 'revenuePerDateB']\n",
    "\n",
    "ordersBCummulative = ordersBDaily.apply(\n",
    "    lambda x: ordersBDaily[ordersBDaily['date'] <= x['date']].agg(\n",
    "        {'date': 'max', 'ordersPerDateB': 'sum', 'revenuePerDateB': 'sum'}\n",
    "    ),\n",
    "    axis=1,\n",
    ").sort_values(by=['date'])\n",
    "ordersBCummulative.columns = [\n",
    "    'date',\n",
    "    'ordersCummulativeB',\n",
    "    'revenueCummulativeB',\n",
    "]\n",
    "\n",
    "data = (\n",
    "    ordersADaily.merge(\n",
    "        ordersBDaily, left_on='date', right_on='date', how='left'\n",
    "    )\n",
    "    .merge(ordersACummulative, left_on='date', right_on='date', how='left')\n",
    "    .merge(ordersBCummulative, left_on='date', right_on='date', how='left')\n",
    "    .merge(visitorsADaily, left_on='date', right_on='date', how='left')\n",
    "    .merge(visitorsBDaily, left_on='date', right_on='date', how='left')\n",
    "    .merge(visitorsACummulative, left_on='date', right_on='date', how='left')\n",
    "    .merge(visitorsBCummulative, left_on='date', right_on='date', how='left')\n",
    ")\n",
    "\n",
    "display(data.head(5)) \n",
    "\n",
    "\n"
   ]
  },
  {
   "cell_type": "code",
   "execution_count": 44,
   "metadata": {},
   "outputs": [],
   "source": [
    "#Создадим переменные ordersByUsersA и ordersByUsersB\n",
    "\n",
    "ordersByUsersA = (\n",
    "    orders[orders['group'] == 'A']\n",
    "    .groupby('visitorid', as_index=False)\n",
    "    .agg({'transactionid': pd.Series.nunique})\n",
    ")\n",
    "ordersByUsersA.columns = ['userid', 'orders']\n",
    "\n",
    "ordersByUsersB = (\n",
    "    orders[orders['group'] == 'B']\n",
    "    .groupby('visitorid', as_index=False)\n",
    "    .agg({'transactionid': pd.Series.nunique})\n",
    ")\n",
    "ordersByUsersB.columns = ['userid', 'orders']"
   ]
  },
  {
   "cell_type": "code",
   "execution_count": 45,
   "metadata": {},
   "outputs": [],
   "source": [
    "#Объявим переменные sampleA и sampleB\n",
    "sampleA = pd.concat([ordersByUsersA['orders'],pd.Series(0, index=np.arange(data['visitorsPerDateA'].sum() - len(ordersByUsersA['orders'])), name='orders')],axis=0)\n",
    "sampleB = pd.concat([ordersByUsersB['orders'],pd.Series(0, index=np.arange(data['visitorsPerDateB'].sum() - len(ordersByUsersB['orders'])), name='orders')],axis=0)"
   ]
  },
  {
   "cell_type": "markdown",
   "metadata": {},
   "source": [
    "Сформулируем гипотезы:\n",
    "\n",
    "Нулевая гипотеза Н0 - статистически значимых различий в среднем чеке между группами нет.\n",
    "\n",
    "Альтернативная гипотеза Н1 - статистически значимые различия в среднем чеке между группами есть.\n",
    "\n",
    "Зададим уровень значимости alpha = 5% "
   ]
  },
  {
   "cell_type": "markdown",
   "metadata": {},
   "source": [
    "Выведем относительный прирост конверсии группы B: конверсия группы B / конверсия группы A - 1. Округлим до трёх знаков после запятой."
   ]
  },
  {
   "cell_type": "code",
   "execution_count": 46,
   "metadata": {},
   "outputs": [
    {
     "name": "stdout",
     "output_type": "stream",
     "text": [
      "alpha = 0.05\n",
      "p-value = 0.017\n",
      "Относительный показатель 'B' и 'A' = 0.138\n"
     ]
    }
   ],
   "source": [
    "print('alpha =',0.05)\n",
    "print('p-value = {0:.3f}'.format(stats.mannwhitneyu(sampleA, sampleB)[1]))\n",
    "print(\"Относительный показатель 'B' и 'A' = {0:.3f}\".format(sampleB.mean() / sampleA.mean()-1)) "
   ]
  },
  {
   "cell_type": "markdown",
   "metadata": {},
   "source": [
    "#### Вывод по Задаче 10\n",
    "\n",
    "P-value меньше alpha, поэтому нулевую гипотезу о том, что статистически значимых различий в конверсии между группами нет - отвергаем. По «сырым» данным различия в конверсии групп A и B есть. Относительная разница группы А и B = 13.8%\n",
    "\n",
    "___"
   ]
  },
  {
   "cell_type": "markdown",
   "metadata": {},
   "source": [
    "### Задача 11.\n",
    "\n",
    "Посчитаем статистическую значимость различий в среднем чеке заказа между группами по «сырым» данным"
   ]
  },
  {
   "cell_type": "markdown",
   "metadata": {},
   "source": [
    "Нулевая гипотеза Н0 - статистически значимых различий в среднем чеке между группами нет.\n",
    "\n",
    "Альтернативная гипотеза Н1 - статистически значимые различия в среднем чеке между группами есть.\n",
    "\n",
    "Чтобы рассчитать статистическую значимость различий в среднем чеке, передадим критерию mannwhitneyu() данные о выручке с заказов. Также найдём относительные различия в среднем чеке между группами:"
   ]
  },
  {
   "cell_type": "code",
   "execution_count": 47,
   "metadata": {},
   "outputs": [
    {
     "name": "stdout",
     "output_type": "stream",
     "text": [
      "alpha = 0.05\n",
      "p-value = 0.729\n",
      "Относительный показатель 'B' и 'A' = 0.259\n"
     ]
    }
   ],
   "source": [
    "print('alpha =',0.05)\n",
    "print('p-value = {0:.3f}'.format(stats.mannwhitneyu(orders[orders['group']=='A']['revenue'], orders[orders['group']=='B']['revenue'])[1]))\n",
    "print(\"Относительный показатель 'B' и 'A' = {0:.3f}\".format(orders[orders['group']=='B']['revenue'].mean()/orders[orders['group']=='A']['revenue'].mean()-1))"
   ]
  },
  {
   "cell_type": "markdown",
   "metadata": {},
   "source": [
    "#### Вывод по Задаче 11\n",
    "\n",
    "P-value гораздо больше alpha, поэтому поэтому нулевую гипотезу о том, что статистически значимых различий в конверсии между группами принимаем. С другой стороны относительная разница группы А и B довольно велика и равна 25%. Налицо ошибка второго рода и ложнонегативный результат. Наблюдаемое различие не значимо и получено случайно из-за единичных выбросов.\n",
    "____\n"
   ]
  },
  {
   "cell_type": "markdown",
   "metadata": {},
   "source": [
    "### Задача 12.\n",
    "\n",
    "Посчет статистической значимости различий в среднем количестве заказов на посетителя между группами по «очищенным» данным."
   ]
  },
  {
   "cell_type": "markdown",
   "metadata": {},
   "source": [
    "Аномальные пользователи, исходя из анализа точечных графиков количества заказов и выручки по пользователям - те кто совершил от 3 заказов или совершил заказ дороже 58233.2 рублей. Сделаем срезы пользователей с числом заказов больше 3 — usersWithManyOrders и пользователей, совершивших заказы дороже 58000 рублей — usersWithExpensiveOrders. \n",
    "\n",
    "Объединим их в таблице abnormalUsers. "
   ]
  },
  {
   "cell_type": "code",
   "execution_count": 48,
   "metadata": {},
   "outputs": [],
   "source": [
    "#узнаем, сколько всего аномальных пользователей атрибутом shape\n",
    "\n",
    "usersWithManyOrders = pd.concat(\n",
    "    [\n",
    "        ordersByUsersA[ordersByUsersA['orders'] > 3]['userid'],\n",
    "        ordersByUsersB[ordersByUsersB['orders'] > 3]['userid'],\n",
    "    ],\n",
    "    axis=0,\n",
    ")\n",
    "usersWithExpensiveOrders = orders[orders['revenue'] > 58000]['visitorid']\n",
    "abnormalUsers = (\n",
    "    pd.concat([usersWithManyOrders, usersWithExpensiveOrders], axis=0)\n",
    "    .drop_duplicates()\n",
    "    .sort_values()\n",
    ")"
   ]
  },
  {
   "cell_type": "code",
   "execution_count": 49,
   "metadata": {},
   "outputs": [
    {
     "name": "stdout",
     "output_type": "stream",
     "text": [
      "Всего аномальных пользователей: 20\n"
     ]
    }
   ],
   "source": [
    "print('Всего аномальных пользователей:', abnormalUsers.shape[0]) "
   ]
  },
  {
   "cell_type": "markdown",
   "metadata": {},
   "source": [
    "Узнаем, как их действия повлияли на результаты теста. Посчитаем статистическую значимость различий в среднем количестве заказов между группами теста по очищенным данным."
   ]
  },
  {
   "cell_type": "markdown",
   "metadata": {},
   "source": [
    "Нулевая гипотеза Н0 - статистически значимых различий в среднем чеке между группами нет.\n",
    "\n",
    "Альтернативная гипотеза Н1 - статистически значимые различия в среднем чеке между группами есть."
   ]
  },
  {
   "cell_type": "code",
   "execution_count": 50,
   "metadata": {},
   "outputs": [],
   "source": [
    "#подготовим выборки количества заказов по пользователям по группам теста\n",
    "sampleAFiltered = pd.concat(\n",
    "    [\n",
    "        ordersByUsersA[\n",
    "            np.logical_not(ordersByUsersA['userid'].isin(abnormalUsers))\n",
    "        ]['orders'],\n",
    "        pd.Series(\n",
    "            0,\n",
    "            index=np.arange(\n",
    "                data['visitorsPerDateA'].sum() - len(ordersByUsersA['orders'])\n",
    "            ),\n",
    "            name='orders',\n",
    "        ),\n",
    "    ],\n",
    "    axis=0,\n",
    ")\n",
    "\n",
    "sampleBFiltered = pd.concat(\n",
    "    [\n",
    "        ordersByUsersB[\n",
    "            np.logical_not(ordersByUsersB['userid'].isin(abnormalUsers))\n",
    "        ]['orders'],\n",
    "        pd.Series(\n",
    "            0,\n",
    "            index=np.arange(\n",
    "                data['visitorsPerDateB'].sum() - len(ordersByUsersB['orders'])\n",
    "            ),\n",
    "            name='orders',\n",
    "        ),\n",
    "    ],\n",
    "    axis=0,\n",
    ") "
   ]
  },
  {
   "cell_type": "code",
   "execution_count": 51,
   "metadata": {},
   "outputs": [
    {
     "name": "stdout",
     "output_type": "stream",
     "text": [
      "alpha = 0.05\n",
      "p-value = 0.014\n",
      "Относительный показатель 'B' и 'A' = 0.151\n"
     ]
    }
   ],
   "source": [
    "#применим статистический критерий Манна-Уитни к полученным выборкам\n",
    "print('alpha =',0.05)\n",
    "print('p-value = {0:.3f}'.format(stats.mannwhitneyu(sampleAFiltered, sampleBFiltered)[1]))\n",
    "print(\"Относительный показатель 'B' и 'A' = {0:.3f}\".format(sampleBFiltered.mean() / sampleAFiltered.mean()-1))"
   ]
  },
  {
   "cell_type": "markdown",
   "metadata": {},
   "source": [
    "#### Вывод по Задаче 12\n",
    "\n",
    "P-value меньше alpha, поэтому нулевую гипотезу о том, что статистически значимых различий в конверсии между группами нет - отвергаем. По «очищенным» данным различия в конверсии групп A и B есть. Относительная разница группы А и B = 15.1%"
   ]
  },
  {
   "cell_type": "markdown",
   "metadata": {},
   "source": [
    "### Задача 13.\n",
    "\n",
    "Посчет статистической значимости различий в среднем чеке заказа между группами по «очищенным» данным."
   ]
  },
  {
   "cell_type": "markdown",
   "metadata": {},
   "source": [
    "Нулевая гипотеза Н0 - статистически значимых различий в среднем чеке между группами нет.\n",
    "\n",
    "Альтернативная гипотеза Н1 - статистически значимые различия в среднем чеке между группами есть."
   ]
  },
  {
   "cell_type": "code",
   "execution_count": 52,
   "metadata": {},
   "outputs": [
    {
     "name": "stdout",
     "output_type": "stream",
     "text": [
      "alpha = 0.05\n",
      "p-value = 0.959\n",
      "Относительный показатель 'B' и 'A' = -0.014\n"
     ]
    }
   ],
   "source": [
    "#проверим произошло ли изменение по среднему чеку\n",
    "print('alpha =', 0.05)\n",
    "\n",
    "print('p-value =',\n",
    "    '{0:.3f}'.format(\n",
    "        stats.mannwhitneyu(\n",
    "            orders[\n",
    "                np.logical_and(\n",
    "                    orders['group'] == 'A',\n",
    "                    np.logical_not(orders['visitorid'].isin(abnormalUsers)),\n",
    "                )\n",
    "            ]['revenue'],\n",
    "            orders[\n",
    "                np.logical_and(\n",
    "                    orders['group'] == 'B',\n",
    "                    np.logical_not(orders['visitorid'].isin(abnormalUsers)),\n",
    "                )\n",
    "            ]['revenue'],\n",
    "        )[1]\n",
    "    )\n",
    ")\n",
    "\n",
    "print(\"Относительный показатель 'B' и 'A' = {0:.3f}\".format(\n",
    "        orders[\n",
    "            np.logical_and(\n",
    "                orders['group'] == 'B',\n",
    "                np.logical_not(orders['visitorid'].isin(abnormalUsers)),\n",
    "            )\n",
    "        ]['revenue'].mean()\n",
    "        / orders[\n",
    "            np.logical_and(\n",
    "                orders['group'] == 'A',\n",
    "                np.logical_not(orders['visitorid'].isin(abnormalUsers)),\n",
    "            )\n",
    "        ]['revenue'].mean()\n",
    "        - 1\n",
    "    )\n",
    ") "
   ]
  },
  {
   "cell_type": "markdown",
   "metadata": {},
   "source": [
    "#### Вывод по Задаче 13\n",
    "\n",
    "P-value гораздо больше alpha, поэтому поэтому нулевую гипотезу о том, что статистически значимых различий в конверсии между группами принимаем. Средний чек группы B оказался на 1.4% ниже среднего чека группы A, в то время как по \"сырым\" данным он был больше на 25% - на разницу повлияли аномально большие заказы.\n",
    "___"
   ]
  },
  {
   "cell_type": "markdown",
   "metadata": {},
   "source": [
    "# Общий вывод "
   ]
  },
  {
   "cell_type": "markdown",
   "metadata": {},
   "source": [
    "В результате проведенного анализа можно заключить, что:\n",
    "\n",
    "- Есть статистически значимое различие по среднему количеству заказов между группами по «сырым» и по данным после фильтрации аномалий;\n",
    "- Различие по среднему чеку между группами по «сырым» данным не является статистически значимым и вызвано аномальными значениями, по данным после фильтрации аномалий статистически значимого различия по среднему чеку нет;\n",
    "- Относительная разница в конверсии группы B к группе А по «сырым» данным 13.8 %.\n",
    "- Относительная разница в конверсии группы B к группе А по «очищенным» данным 17,4 %.\n",
    "- Средний чек по \"сырым\" данным средний чек группы B значительно выше среднего чека группы A и составляет 25%, что обусловлено аномальными значениями в группе. Средний чек по \"очищенным\" данным показал, что средний чек группы B ниже среднего чека группы А на 1.4%. \n",
    "\n",
    "Заключение:  \n",
    "Несмотря на то, что после обработки аномальных значений средний чек группы В оказался незначительно ниже группы А, конверсия же группы В как по \"сырым\" так и по \"очищенным\" данным значительно выше конверсии группы А, иходя из чего можно принять решение остановить тест и признать его успешным - группа В показала себя лучше группы А.  \n",
    "В дальнейшем рекомендуется провести мероприятия по повышению среднего чека группы В. "
   ]
  },
  {
   "cell_type": "markdown",
   "metadata": {},
   "source": [
    "# Чек-лист готовности проекта\n",
    "\n",
    "## Предобработка данных \n",
    "\n",
    "- [x]  открыт файл\n",
    "- [x]  файлы изучены\n",
    "- [x]  определены пропущенные значения\n",
    "- [x]  заполнены пропущенные значения там, где это возможно\n",
    "- [x]  изменены типы данных\n",
    "- [x]  есть пояснение, в каких столбцах изменены типы и почему\n",
    "\n",
    "\n",
    "\n",
    "## Исследование \n",
    "\n",
    "### Часть 1\n",
    "\n",
    "- [x]  Примените фреймворк ICE для приоритизации гипотез. Отсортируйте их по убыванию приоритета.\n",
    "- [x]  Примените фреймворк RICE для приоритизации гипотез. Отсортируйте их по убыванию приоритета.\n",
    "- [x]  Укажите, как изменилась приоритизация гипотез при применении RICE вместо ICE. Объясните, почему так произошло.\n",
    "\n",
    "\n",
    "### Часть 2 \n",
    "\n",
    "- [x] Постройте график кумулятивной выручки по группам. Сделайте выводы и предположения.\n",
    "- [x] Постройте график кумулятивного среднего чека по группам. Сделайте выводы и предположения.\n",
    "- [x]  Постройте график относительного изменения кумулятивного среднего чека группы B к группе A. Сделайте выводы и предположения.\n",
    "- [x]  Постройте график кумулятивного среднего количества заказов на посетителя по группам. Сделайте выводы и предположения.\n",
    "- [x]  Постройте график относительного изменения кумулятивного среднего количества заказов на посетителя группы B к группе A. Сделайте выводы и предположения.\n",
    "- [x]  Постройте точечный график количества заказов по пользователям. Сделайте выводы и предположения.\n",
    "- [x]  Посчитайте 95-й и 99-й перцентили количества заказов на пользователя. Выберите границу для определения аномальных пользователей.\n",
    "- [x]  Постройте точечный график стоимостей заказов. Сделайте выводы и предположения.\n",
    "- [x]  Посчитайте 95-й и 99-й перцентили стоимости заказов. Выберите границу для определения аномальных заказов.\n",
    "- [x]  Посчитайте статистическую значимость различий в среднем количестве заказов на посетителя между группами по «сырым» данным. Сделайте выводы и предположения.\n",
    "- [x]  Посчитайте статистическую значимость различий в среднем чеке заказа между группами по «сырым» данным. Сделайте выводы и предположения.\n",
    "- [x]  Посчитайте статистическую значимость различий в среднем количестве заказов на посетителя между группами по «очищенным» данным. Сделайте выводы и предположения.\n",
    "- [x]  Посчитайте статистическую значимость различий в среднем чеке заказа между группами по «очищенным» данным. Сделайте выводы и предположения.\n",
    "\n",
    "## Выводы\n",
    "\n",
    "- [x]  Все исследования сформированы и объединены в общем выводе"
   ]
  },
  {
   "cell_type": "code",
   "execution_count": null,
   "metadata": {},
   "outputs": [],
   "source": []
  }
 ],
 "metadata": {
  "ExecuteTimeLog": [
   {
    "duration": 106,
    "start_time": "2023-03-05T21:17:01.685Z"
   },
   {
    "duration": 3,
    "start_time": "2023-03-05T21:47:54.381Z"
   },
   {
    "duration": 3,
    "start_time": "2023-03-05T21:48:38.166Z"
   },
   {
    "duration": 2,
    "start_time": "2023-03-05T21:49:16.775Z"
   },
   {
    "duration": 40,
    "start_time": "2023-03-05T21:50:20.775Z"
   },
   {
    "duration": 1297,
    "start_time": "2023-03-05T21:50:27.768Z"
   },
   {
    "duration": 76,
    "start_time": "2023-03-05T21:50:29.072Z"
   },
   {
    "duration": 52,
    "start_time": "2023-03-05T21:50:38.727Z"
   },
   {
    "duration": 44,
    "start_time": "2023-03-05T21:50:46.411Z"
   },
   {
    "duration": 166,
    "start_time": "2023-03-05T21:51:31.354Z"
   },
   {
    "duration": 79,
    "start_time": "2023-03-05T21:52:29.965Z"
   },
   {
    "duration": 47,
    "start_time": "2023-03-06T15:18:50.469Z"
   },
   {
    "duration": 1002,
    "start_time": "2023-03-06T15:18:59.460Z"
   },
   {
    "duration": 248,
    "start_time": "2023-03-06T15:19:00.477Z"
   },
   {
    "duration": 3,
    "start_time": "2023-03-06T15:19:00.727Z"
   },
   {
    "duration": 59,
    "start_time": "2023-03-06T15:19:00.732Z"
   },
   {
    "duration": 30,
    "start_time": "2023-03-06T15:19:00.793Z"
   },
   {
    "duration": 47,
    "start_time": "2023-03-06T15:19:00.826Z"
   },
   {
    "duration": 24,
    "start_time": "2023-03-06T15:19:19.184Z"
   },
   {
    "duration": 28,
    "start_time": "2023-03-06T15:19:50.559Z"
   },
   {
    "duration": 25,
    "start_time": "2023-03-06T15:20:05.541Z"
   },
   {
    "duration": 67,
    "start_time": "2023-03-06T15:45:54.042Z"
   },
   {
    "duration": 990,
    "start_time": "2023-03-06T15:45:56.705Z"
   },
   {
    "duration": 131,
    "start_time": "2023-03-06T15:45:57.698Z"
   },
   {
    "duration": 4,
    "start_time": "2023-03-06T15:45:57.831Z"
   },
   {
    "duration": 35,
    "start_time": "2023-03-06T15:45:57.838Z"
   },
   {
    "duration": 31,
    "start_time": "2023-03-06T15:45:57.880Z"
   },
   {
    "duration": 59,
    "start_time": "2023-03-06T15:45:57.914Z"
   },
   {
    "duration": 3,
    "start_time": "2023-03-06T15:45:57.974Z"
   },
   {
    "duration": 11,
    "start_time": "2023-03-06T15:46:30.082Z"
   },
   {
    "duration": 12,
    "start_time": "2023-03-06T15:49:08.040Z"
   },
   {
    "duration": 43,
    "start_time": "2023-03-06T15:49:23.746Z"
   },
   {
    "duration": 8,
    "start_time": "2023-03-06T15:49:53.778Z"
   },
   {
    "duration": 19,
    "start_time": "2023-03-06T15:50:04.004Z"
   },
   {
    "duration": 27,
    "start_time": "2023-03-06T15:50:54.596Z"
   },
   {
    "duration": 41,
    "start_time": "2023-03-06T15:50:59.323Z"
   },
   {
    "duration": 35,
    "start_time": "2023-03-06T15:51:05.325Z"
   },
   {
    "duration": 25,
    "start_time": "2023-03-06T15:51:10.383Z"
   },
   {
    "duration": 31,
    "start_time": "2023-03-06T15:51:15.478Z"
   },
   {
    "duration": 36,
    "start_time": "2023-03-06T15:52:17.120Z"
   },
   {
    "duration": 28,
    "start_time": "2023-03-06T15:52:24.184Z"
   },
   {
    "duration": 6,
    "start_time": "2023-03-06T15:57:47.260Z"
   },
   {
    "duration": 11,
    "start_time": "2023-03-06T15:58:05.151Z"
   },
   {
    "duration": 13,
    "start_time": "2023-03-06T15:59:24.860Z"
   },
   {
    "duration": 11,
    "start_time": "2023-03-06T16:03:15.726Z"
   },
   {
    "duration": 1193,
    "start_time": "2023-03-06T16:21:21.807Z"
   },
   {
    "duration": 184,
    "start_time": "2023-03-06T16:21:32.820Z"
   },
   {
    "duration": 244,
    "start_time": "2023-03-06T16:22:08.235Z"
   },
   {
    "duration": 3,
    "start_time": "2023-03-06T16:22:46.469Z"
   },
   {
    "duration": 1087,
    "start_time": "2023-03-06T16:22:52.337Z"
   },
   {
    "duration": 263,
    "start_time": "2023-03-06T16:22:53.426Z"
   },
   {
    "duration": 3,
    "start_time": "2023-03-06T16:22:53.691Z"
   },
   {
    "duration": 32,
    "start_time": "2023-03-06T16:22:53.696Z"
   },
   {
    "duration": 21,
    "start_time": "2023-03-06T16:22:53.730Z"
   },
   {
    "duration": 18,
    "start_time": "2023-03-06T16:22:53.753Z"
   },
   {
    "duration": 9,
    "start_time": "2023-03-06T16:22:53.773Z"
   },
   {
    "duration": 20,
    "start_time": "2023-03-06T16:22:54.120Z"
   },
   {
    "duration": 15,
    "start_time": "2023-03-06T16:22:54.146Z"
   },
   {
    "duration": 4,
    "start_time": "2023-03-06T16:22:54.163Z"
   },
   {
    "duration": 21,
    "start_time": "2023-03-06T16:22:54.168Z"
   },
   {
    "duration": 21,
    "start_time": "2023-03-06T16:22:54.191Z"
   },
   {
    "duration": 43,
    "start_time": "2023-03-06T16:22:54.215Z"
   },
   {
    "duration": 8,
    "start_time": "2023-03-06T16:22:54.261Z"
   },
   {
    "duration": 20,
    "start_time": "2023-03-06T16:22:54.271Z"
   },
   {
    "duration": 12,
    "start_time": "2023-03-06T16:22:54.293Z"
   },
   {
    "duration": 229,
    "start_time": "2023-03-06T16:22:54.308Z"
   },
   {
    "duration": 26,
    "start_time": "2023-03-06T16:22:54.539Z"
   },
   {
    "duration": 330,
    "start_time": "2023-03-06T16:23:18.692Z"
   },
   {
    "duration": 311,
    "start_time": "2023-03-06T16:23:34.218Z"
   },
   {
    "duration": 175,
    "start_time": "2023-03-06T16:24:25.059Z"
   },
   {
    "duration": 469,
    "start_time": "2023-03-06T16:24:27.172Z"
   },
   {
    "duration": 321,
    "start_time": "2023-03-06T16:24:31.098Z"
   },
   {
    "duration": 351,
    "start_time": "2023-03-06T16:25:18.935Z"
   },
   {
    "duration": 312,
    "start_time": "2023-03-06T16:25:30.382Z"
   },
   {
    "duration": 310,
    "start_time": "2023-03-06T16:28:16.158Z"
   },
   {
    "duration": 1400,
    "start_time": "2023-03-06T19:48:28.608Z"
   },
   {
    "duration": 106,
    "start_time": "2023-03-06T19:53:33.030Z"
   },
   {
    "duration": 3,
    "start_time": "2023-03-06T19:53:35.927Z"
   },
   {
    "duration": 350,
    "start_time": "2023-03-06T19:53:35.933Z"
   },
   {
    "duration": 3,
    "start_time": "2023-03-06T19:53:36.285Z"
   },
   {
    "duration": 23,
    "start_time": "2023-03-06T19:53:36.290Z"
   },
   {
    "duration": 36,
    "start_time": "2023-03-06T19:53:36.316Z"
   },
   {
    "duration": 29,
    "start_time": "2023-03-06T19:53:36.354Z"
   },
   {
    "duration": 11,
    "start_time": "2023-03-06T19:53:36.385Z"
   },
   {
    "duration": 40,
    "start_time": "2023-03-06T19:53:36.398Z"
   },
   {
    "duration": 22,
    "start_time": "2023-03-06T19:53:36.440Z"
   },
   {
    "duration": 347,
    "start_time": "2023-03-06T19:53:36.466Z"
   },
   {
    "duration": 12,
    "start_time": "2023-03-06T19:53:36.814Z"
   },
   {
    "duration": 346,
    "start_time": "2023-03-06T19:53:36.827Z"
   },
   {
    "duration": 9,
    "start_time": "2023-03-06T19:53:37.176Z"
   },
   {
    "duration": 9,
    "start_time": "2023-03-06T19:53:47.679Z"
   },
   {
    "duration": 9,
    "start_time": "2023-03-06T19:55:07.710Z"
   },
   {
    "duration": 12,
    "start_time": "2023-03-06T19:55:29.309Z"
   },
   {
    "duration": 7,
    "start_time": "2023-03-06T20:00:11.967Z"
   },
   {
    "duration": 35,
    "start_time": "2023-03-06T20:07:52.078Z"
   },
   {
    "duration": 48,
    "start_time": "2023-03-06T20:08:18.872Z"
   },
   {
    "duration": 344,
    "start_time": "2023-03-06T20:09:21.503Z"
   },
   {
    "duration": 15,
    "start_time": "2023-03-06T20:11:56.507Z"
   },
   {
    "duration": 14,
    "start_time": "2023-03-06T20:12:01.879Z"
   },
   {
    "duration": 143,
    "start_time": "2023-03-06T20:15:49.659Z"
   },
   {
    "duration": 12,
    "start_time": "2023-03-06T20:16:09.907Z"
   },
   {
    "duration": 11,
    "start_time": "2023-03-06T20:16:15.608Z"
   },
   {
    "duration": 12,
    "start_time": "2023-03-06T20:16:27.255Z"
   },
   {
    "duration": 9,
    "start_time": "2023-03-06T20:16:34.318Z"
   },
   {
    "duration": 19,
    "start_time": "2023-03-06T20:16:42.275Z"
   },
   {
    "duration": 10,
    "start_time": "2023-03-06T20:27:24.118Z"
   },
   {
    "duration": 6,
    "start_time": "2023-03-06T20:27:36.429Z"
   },
   {
    "duration": 5,
    "start_time": "2023-03-06T20:27:37.851Z"
   },
   {
    "duration": 278,
    "start_time": "2023-03-06T20:27:39.086Z"
   },
   {
    "duration": 4,
    "start_time": "2023-03-06T20:28:57.923Z"
   },
   {
    "duration": 216,
    "start_time": "2023-03-06T20:29:07.970Z"
   },
   {
    "duration": 239,
    "start_time": "2023-03-06T20:29:10.754Z"
   },
   {
    "duration": 1132,
    "start_time": "2023-03-06T20:29:19.125Z"
   },
   {
    "duration": 157,
    "start_time": "2023-03-06T20:29:20.259Z"
   },
   {
    "duration": 4,
    "start_time": "2023-03-06T20:29:20.418Z"
   },
   {
    "duration": 31,
    "start_time": "2023-03-06T20:29:20.424Z"
   },
   {
    "duration": 38,
    "start_time": "2023-03-06T20:29:20.458Z"
   },
   {
    "duration": 28,
    "start_time": "2023-03-06T20:29:20.498Z"
   },
   {
    "duration": 17,
    "start_time": "2023-03-06T20:29:20.528Z"
   },
   {
    "duration": 40,
    "start_time": "2023-03-06T20:29:20.547Z"
   },
   {
    "duration": 28,
    "start_time": "2023-03-06T20:29:20.589Z"
   },
   {
    "duration": 20,
    "start_time": "2023-03-06T20:29:20.619Z"
   },
   {
    "duration": 384,
    "start_time": "2023-03-06T20:29:20.642Z"
   },
   {
    "duration": 21,
    "start_time": "2023-03-06T20:29:21.028Z"
   },
   {
    "duration": 365,
    "start_time": "2023-03-06T20:29:21.051Z"
   },
   {
    "duration": 16,
    "start_time": "2023-03-06T20:29:21.420Z"
   },
   {
    "duration": 52,
    "start_time": "2023-03-06T20:29:21.438Z"
   },
   {
    "duration": 12,
    "start_time": "2023-03-06T20:29:21.492Z"
   },
   {
    "duration": 197,
    "start_time": "2023-03-06T20:29:21.506Z"
   },
   {
    "duration": 9,
    "start_time": "2023-03-06T20:29:21.705Z"
   },
   {
    "duration": 140,
    "start_time": "2023-03-06T20:29:21.715Z"
   },
   {
    "duration": 10,
    "start_time": "2023-03-06T20:29:21.858Z"
   },
   {
    "duration": 29,
    "start_time": "2023-03-06T20:29:21.870Z"
   },
   {
    "duration": 12,
    "start_time": "2023-03-06T20:29:21.901Z"
   },
   {
    "duration": 11,
    "start_time": "2023-03-06T20:29:21.915Z"
   },
   {
    "duration": 299,
    "start_time": "2023-03-06T20:29:21.928Z"
   },
   {
    "duration": 291,
    "start_time": "2023-03-06T20:29:51.632Z"
   },
   {
    "duration": 194,
    "start_time": "2023-03-06T20:30:06.403Z"
   },
   {
    "duration": 214,
    "start_time": "2023-03-06T20:30:14.558Z"
   },
   {
    "duration": 20,
    "start_time": "2023-03-06T20:35:39.007Z"
   },
   {
    "duration": 19,
    "start_time": "2023-03-06T20:35:42.912Z"
   },
   {
    "duration": 15,
    "start_time": "2023-03-06T20:35:46.010Z"
   },
   {
    "duration": 24,
    "start_time": "2023-03-06T20:35:50.930Z"
   },
   {
    "duration": 19,
    "start_time": "2023-03-06T20:36:01.923Z"
   },
   {
    "duration": 18,
    "start_time": "2023-03-06T20:36:03.608Z"
   },
   {
    "duration": 233,
    "start_time": "2023-03-06T20:36:14.158Z"
   },
   {
    "duration": 270,
    "start_time": "2023-03-06T20:36:25.872Z"
   },
   {
    "duration": 269,
    "start_time": "2023-03-06T20:36:57.718Z"
   },
   {
    "duration": 333,
    "start_time": "2023-03-06T20:37:12.730Z"
   },
   {
    "duration": 247,
    "start_time": "2023-03-06T20:38:30.447Z"
   },
   {
    "duration": 214,
    "start_time": "2023-03-06T20:38:40.511Z"
   },
   {
    "duration": 233,
    "start_time": "2023-03-06T20:38:42.902Z"
   },
   {
    "duration": 72,
    "start_time": "2023-03-06T20:38:46.109Z"
   },
   {
    "duration": 242,
    "start_time": "2023-03-06T20:38:52.006Z"
   },
   {
    "duration": 347,
    "start_time": "2023-03-06T20:38:55.954Z"
   },
   {
    "duration": 261,
    "start_time": "2023-03-06T20:39:13.710Z"
   },
   {
    "duration": 261,
    "start_time": "2023-03-06T20:40:03.954Z"
   },
   {
    "duration": 208,
    "start_time": "2023-03-06T20:40:07.304Z"
   },
   {
    "duration": 243,
    "start_time": "2023-03-06T20:40:14.911Z"
   },
   {
    "duration": 213,
    "start_time": "2023-03-06T20:40:30.324Z"
   },
   {
    "duration": 332,
    "start_time": "2023-03-06T20:40:38.287Z"
   },
   {
    "duration": 144,
    "start_time": "2023-03-06T20:40:45.366Z"
   },
   {
    "duration": 233,
    "start_time": "2023-03-06T20:40:55.373Z"
   },
   {
    "duration": 10,
    "start_time": "2023-03-06T20:41:19.808Z"
   },
   {
    "duration": 9,
    "start_time": "2023-03-06T20:41:23.889Z"
   },
   {
    "duration": 9,
    "start_time": "2023-03-06T20:41:29.100Z"
   },
   {
    "duration": 247,
    "start_time": "2023-03-06T20:42:18.656Z"
   },
   {
    "duration": 260,
    "start_time": "2023-03-06T20:42:24.103Z"
   },
   {
    "duration": 163,
    "start_time": "2023-03-06T20:42:58.126Z"
   },
   {
    "duration": 141,
    "start_time": "2023-03-06T20:43:03.950Z"
   },
   {
    "duration": 142,
    "start_time": "2023-03-06T20:43:09.159Z"
   },
   {
    "duration": 241,
    "start_time": "2023-03-06T20:44:03.067Z"
   },
   {
    "duration": 248,
    "start_time": "2023-03-06T20:44:24.553Z"
   },
   {
    "duration": 282,
    "start_time": "2023-03-06T20:44:32.111Z"
   },
   {
    "duration": 12,
    "start_time": "2023-03-06T20:50:09.760Z"
   },
   {
    "duration": 187,
    "start_time": "2023-03-06T20:52:19.128Z"
   },
   {
    "duration": 213,
    "start_time": "2023-03-06T20:52:29.107Z"
   },
   {
    "duration": 4,
    "start_time": "2023-03-06T20:53:27.186Z"
   },
   {
    "duration": 1132,
    "start_time": "2023-03-06T20:53:35.359Z"
   },
   {
    "duration": 170,
    "start_time": "2023-03-06T20:53:36.493Z"
   },
   {
    "duration": 4,
    "start_time": "2023-03-06T20:53:36.665Z"
   },
   {
    "duration": 24,
    "start_time": "2023-03-06T20:53:36.670Z"
   },
   {
    "duration": 15,
    "start_time": "2023-03-06T20:53:36.696Z"
   },
   {
    "duration": 13,
    "start_time": "2023-03-06T20:53:36.713Z"
   },
   {
    "duration": 14,
    "start_time": "2023-03-06T20:53:36.727Z"
   },
   {
    "duration": 42,
    "start_time": "2023-03-06T20:53:36.742Z"
   },
   {
    "duration": 30,
    "start_time": "2023-03-06T20:53:36.786Z"
   },
   {
    "duration": 50,
    "start_time": "2023-03-06T20:53:36.817Z"
   },
   {
    "duration": 337,
    "start_time": "2023-03-06T20:53:36.869Z"
   },
   {
    "duration": 13,
    "start_time": "2023-03-06T20:53:37.208Z"
   },
   {
    "duration": 316,
    "start_time": "2023-03-06T20:53:37.230Z"
   },
   {
    "duration": 13,
    "start_time": "2023-03-06T20:53:37.549Z"
   },
   {
    "duration": 18,
    "start_time": "2023-03-06T20:53:37.566Z"
   },
   {
    "duration": 13,
    "start_time": "2023-03-06T20:53:37.586Z"
   },
   {
    "duration": 183,
    "start_time": "2023-03-06T20:53:37.601Z"
   },
   {
    "duration": 10,
    "start_time": "2023-03-06T20:53:37.786Z"
   },
   {
    "duration": 138,
    "start_time": "2023-03-06T20:53:37.798Z"
   },
   {
    "duration": 16,
    "start_time": "2023-03-06T20:53:37.941Z"
   },
   {
    "duration": 20,
    "start_time": "2023-03-06T20:53:37.961Z"
   },
   {
    "duration": 6,
    "start_time": "2023-03-06T20:53:37.982Z"
   },
   {
    "duration": 9,
    "start_time": "2023-03-06T20:53:37.989Z"
   },
   {
    "duration": 9,
    "start_time": "2023-03-06T20:53:38.000Z"
   },
   {
    "duration": 15,
    "start_time": "2023-03-06T20:53:38.011Z"
   },
   {
    "duration": 326,
    "start_time": "2023-03-06T20:53:38.028Z"
   },
   {
    "duration": 211,
    "start_time": "2023-03-06T20:53:38.357Z"
   },
   {
    "duration": 214,
    "start_time": "2023-03-06T20:54:02.705Z"
   },
   {
    "duration": 275,
    "start_time": "2023-03-06T20:54:34.301Z"
   },
   {
    "duration": 246,
    "start_time": "2023-03-06T20:55:33.572Z"
   },
   {
    "duration": 240,
    "start_time": "2023-03-06T20:55:42.256Z"
   },
   {
    "duration": 49,
    "start_time": "2023-03-07T07:52:12.886Z"
   },
   {
    "duration": 1237,
    "start_time": "2023-03-07T07:52:16.001Z"
   },
   {
    "duration": 262,
    "start_time": "2023-03-07T07:52:17.240Z"
   },
   {
    "duration": 3,
    "start_time": "2023-03-07T07:52:17.504Z"
   },
   {
    "duration": 31,
    "start_time": "2023-03-07T07:52:17.509Z"
   },
   {
    "duration": 16,
    "start_time": "2023-03-07T07:52:17.541Z"
   },
   {
    "duration": 16,
    "start_time": "2023-03-07T07:52:17.558Z"
   },
   {
    "duration": 9,
    "start_time": "2023-03-07T07:52:17.575Z"
   },
   {
    "duration": 17,
    "start_time": "2023-03-07T07:52:17.585Z"
   },
   {
    "duration": 24,
    "start_time": "2023-03-07T07:52:17.604Z"
   },
   {
    "duration": 29,
    "start_time": "2023-03-07T07:52:17.630Z"
   },
   {
    "duration": 326,
    "start_time": "2023-03-07T07:52:17.661Z"
   },
   {
    "duration": 11,
    "start_time": "2023-03-07T07:52:17.988Z"
   },
   {
    "duration": 296,
    "start_time": "2023-03-07T07:52:18.001Z"
   },
   {
    "duration": 8,
    "start_time": "2023-03-07T07:52:18.299Z"
   },
   {
    "duration": 32,
    "start_time": "2023-03-07T07:52:18.308Z"
   },
   {
    "duration": 40,
    "start_time": "2023-03-07T07:52:18.342Z"
   },
   {
    "duration": 179,
    "start_time": "2023-03-07T07:52:18.384Z"
   },
   {
    "duration": 8,
    "start_time": "2023-03-07T07:52:18.564Z"
   },
   {
    "duration": 128,
    "start_time": "2023-03-07T07:52:18.574Z"
   },
   {
    "duration": 12,
    "start_time": "2023-03-07T07:52:18.704Z"
   },
   {
    "duration": 26,
    "start_time": "2023-03-07T07:52:18.718Z"
   },
   {
    "duration": 31,
    "start_time": "2023-03-07T07:52:18.746Z"
   },
   {
    "duration": 29,
    "start_time": "2023-03-07T07:52:18.779Z"
   },
   {
    "duration": 23,
    "start_time": "2023-03-07T07:52:18.810Z"
   },
   {
    "duration": 25,
    "start_time": "2023-03-07T07:52:18.834Z"
   },
   {
    "duration": 294,
    "start_time": "2023-03-07T07:52:18.860Z"
   },
   {
    "duration": 222,
    "start_time": "2023-03-07T07:52:19.156Z"
   },
   {
    "duration": 212,
    "start_time": "2023-03-07T07:52:26.519Z"
   },
   {
    "duration": 220,
    "start_time": "2023-03-07T07:52:30.190Z"
   },
   {
    "duration": 215,
    "start_time": "2023-03-07T07:52:35.721Z"
   },
   {
    "duration": 64,
    "start_time": "2023-03-07T09:24:39.329Z"
   },
   {
    "duration": 8,
    "start_time": "2023-03-07T09:24:43.524Z"
   },
   {
    "duration": 365,
    "start_time": "2023-03-07T09:24:44.954Z"
   },
   {
    "duration": 300,
    "start_time": "2023-03-07T09:25:40.396Z"
   },
   {
    "duration": 417,
    "start_time": "2023-03-07T09:25:50.857Z"
   },
   {
    "duration": 11,
    "start_time": "2023-03-07T11:45:15.557Z"
   },
   {
    "duration": 4,
    "start_time": "2023-03-07T11:45:18.248Z"
   },
   {
    "duration": 82,
    "start_time": "2023-03-07T11:45:18.254Z"
   },
   {
    "duration": 3,
    "start_time": "2023-03-07T11:45:18.338Z"
   },
   {
    "duration": 19,
    "start_time": "2023-03-07T11:45:18.342Z"
   },
   {
    "duration": 16,
    "start_time": "2023-03-07T11:45:18.363Z"
   },
   {
    "duration": 13,
    "start_time": "2023-03-07T11:45:18.381Z"
   },
   {
    "duration": 8,
    "start_time": "2023-03-07T11:45:18.396Z"
   },
   {
    "duration": 10,
    "start_time": "2023-03-07T11:45:18.405Z"
   },
   {
    "duration": 53,
    "start_time": "2023-03-07T11:45:18.417Z"
   },
   {
    "duration": 11,
    "start_time": "2023-03-07T11:45:18.472Z"
   },
   {
    "duration": 319,
    "start_time": "2023-03-07T11:45:18.485Z"
   },
   {
    "duration": 12,
    "start_time": "2023-03-07T11:45:18.806Z"
   },
   {
    "duration": 314,
    "start_time": "2023-03-07T11:45:18.820Z"
   },
   {
    "duration": 7,
    "start_time": "2023-03-07T11:45:19.136Z"
   },
   {
    "duration": 13,
    "start_time": "2023-03-07T11:45:19.145Z"
   },
   {
    "duration": 14,
    "start_time": "2023-03-07T11:45:19.159Z"
   },
   {
    "duration": 173,
    "start_time": "2023-03-07T11:45:19.175Z"
   },
   {
    "duration": 11,
    "start_time": "2023-03-07T11:45:19.350Z"
   },
   {
    "duration": 127,
    "start_time": "2023-03-07T11:45:19.362Z"
   },
   {
    "duration": 7,
    "start_time": "2023-03-07T11:45:19.491Z"
   },
   {
    "duration": 17,
    "start_time": "2023-03-07T11:45:19.500Z"
   },
   {
    "duration": 11,
    "start_time": "2023-03-07T11:45:19.518Z"
   },
   {
    "duration": 10,
    "start_time": "2023-03-07T11:45:19.531Z"
   },
   {
    "duration": 18,
    "start_time": "2023-03-07T11:45:19.543Z"
   },
   {
    "duration": 17,
    "start_time": "2023-03-07T11:45:19.562Z"
   },
   {
    "duration": 209,
    "start_time": "2023-03-07T11:45:19.580Z"
   },
   {
    "duration": 221,
    "start_time": "2023-03-07T11:45:19.791Z"
   },
   {
    "duration": 7,
    "start_time": "2023-03-07T11:45:20.014Z"
   },
   {
    "duration": 356,
    "start_time": "2023-03-07T11:45:20.025Z"
   },
   {
    "duration": 4,
    "start_time": "2023-03-07T11:45:20.383Z"
   },
   {
    "duration": 8,
    "start_time": "2023-03-07T11:45:20.388Z"
   },
   {
    "duration": 192,
    "start_time": "2023-03-07T11:45:20.397Z"
   },
   {
    "duration": 227,
    "start_time": "2023-03-07T11:45:53.968Z"
   },
   {
    "duration": 237,
    "start_time": "2023-03-07T11:46:10.478Z"
   },
   {
    "duration": 245,
    "start_time": "2023-03-07T12:37:34.432Z"
   },
   {
    "duration": 232,
    "start_time": "2023-03-07T12:38:23.040Z"
   },
   {
    "duration": 9,
    "start_time": "2023-03-07T12:55:19.103Z"
   },
   {
    "duration": 369,
    "start_time": "2023-03-07T12:58:07.320Z"
   },
   {
    "duration": 268,
    "start_time": "2023-03-07T12:58:17.009Z"
   },
   {
    "duration": 336,
    "start_time": "2023-03-07T12:58:51.728Z"
   },
   {
    "duration": 342,
    "start_time": "2023-03-07T12:59:03.025Z"
   },
   {
    "duration": 333,
    "start_time": "2023-03-07T12:59:32.819Z"
   },
   {
    "duration": 379,
    "start_time": "2023-03-07T12:59:57.051Z"
   },
   {
    "duration": 350,
    "start_time": "2023-03-07T13:00:13.327Z"
   },
   {
    "duration": 1501,
    "start_time": "2023-03-07T13:10:10.488Z"
   },
   {
    "duration": 133,
    "start_time": "2023-03-07T13:10:25.776Z"
   },
   {
    "duration": 134,
    "start_time": "2023-03-07T13:11:15.275Z"
   },
   {
    "duration": 14,
    "start_time": "2023-03-07T13:40:18.701Z"
   },
   {
    "duration": 16,
    "start_time": "2023-03-07T13:40:23.357Z"
   },
   {
    "duration": 4,
    "start_time": "2023-03-07T13:40:33.108Z"
   },
   {
    "duration": 97,
    "start_time": "2023-03-07T13:40:33.114Z"
   },
   {
    "duration": 3,
    "start_time": "2023-03-07T13:40:33.213Z"
   },
   {
    "duration": 22,
    "start_time": "2023-03-07T13:40:33.218Z"
   },
   {
    "duration": 15,
    "start_time": "2023-03-07T13:40:33.241Z"
   },
   {
    "duration": 23,
    "start_time": "2023-03-07T13:40:33.258Z"
   },
   {
    "duration": 10,
    "start_time": "2023-03-07T13:40:33.283Z"
   },
   {
    "duration": 17,
    "start_time": "2023-03-07T13:40:33.295Z"
   },
   {
    "duration": 23,
    "start_time": "2023-03-07T13:40:33.315Z"
   },
   {
    "duration": 10,
    "start_time": "2023-03-07T13:40:33.357Z"
   },
   {
    "duration": 331,
    "start_time": "2023-03-07T13:40:33.368Z"
   },
   {
    "duration": 12,
    "start_time": "2023-03-07T13:40:33.702Z"
   },
   {
    "duration": 311,
    "start_time": "2023-03-07T13:40:33.716Z"
   },
   {
    "duration": 9,
    "start_time": "2023-03-07T13:40:34.028Z"
   },
   {
    "duration": 20,
    "start_time": "2023-03-07T13:40:34.039Z"
   },
   {
    "duration": 9,
    "start_time": "2023-03-07T13:40:34.061Z"
   },
   {
    "duration": 201,
    "start_time": "2023-03-07T13:40:34.071Z"
   },
   {
    "duration": 8,
    "start_time": "2023-03-07T13:40:34.274Z"
   },
   {
    "duration": 142,
    "start_time": "2023-03-07T13:40:34.285Z"
   },
   {
    "duration": 28,
    "start_time": "2023-03-07T13:40:34.429Z"
   },
   {
    "duration": 19,
    "start_time": "2023-03-07T13:40:34.458Z"
   },
   {
    "duration": 6,
    "start_time": "2023-03-07T13:40:34.479Z"
   },
   {
    "duration": 9,
    "start_time": "2023-03-07T13:40:34.486Z"
   },
   {
    "duration": 15,
    "start_time": "2023-03-07T13:40:34.497Z"
   },
   {
    "duration": 29,
    "start_time": "2023-03-07T13:40:34.513Z"
   },
   {
    "duration": 230,
    "start_time": "2023-03-07T13:40:34.544Z"
   },
   {
    "duration": 238,
    "start_time": "2023-03-07T13:40:34.775Z"
   },
   {
    "duration": 6,
    "start_time": "2023-03-07T13:40:35.016Z"
   },
   {
    "duration": 405,
    "start_time": "2023-03-07T13:40:35.023Z"
   },
   {
    "duration": 5,
    "start_time": "2023-03-07T13:40:35.430Z"
   },
   {
    "duration": 33,
    "start_time": "2023-03-07T13:40:35.437Z"
   },
   {
    "duration": 366,
    "start_time": "2023-03-07T13:40:35.474Z"
   },
   {
    "duration": 16,
    "start_time": "2023-03-07T13:40:35.842Z"
   },
   {
    "duration": 345,
    "start_time": "2023-03-07T13:40:35.860Z"
   },
   {
    "duration": 12,
    "start_time": "2023-03-07T13:40:36.206Z"
   },
   {
    "duration": 12,
    "start_time": "2023-03-07T13:40:43.437Z"
   },
   {
    "duration": 13,
    "start_time": "2023-03-07T13:41:47.181Z"
   },
   {
    "duration": 13,
    "start_time": "2023-03-07T13:41:55.709Z"
   },
   {
    "duration": 13,
    "start_time": "2023-03-07T13:42:00.637Z"
   },
   {
    "duration": 13,
    "start_time": "2023-03-07T13:51:13.684Z"
   },
   {
    "duration": 18,
    "start_time": "2023-03-07T13:59:07.290Z"
   },
   {
    "duration": 17,
    "start_time": "2023-03-07T14:00:03.491Z"
   },
   {
    "duration": 16,
    "start_time": "2023-03-07T14:00:10.625Z"
   },
   {
    "duration": 15,
    "start_time": "2023-03-07T14:00:18.923Z"
   },
   {
    "duration": 160,
    "start_time": "2023-03-07T14:00:45.081Z"
   },
   {
    "duration": 70,
    "start_time": "2023-03-07T15:40:24.679Z"
   },
   {
    "duration": 1312,
    "start_time": "2023-03-07T15:40:33.389Z"
   },
   {
    "duration": 264,
    "start_time": "2023-03-07T15:40:34.703Z"
   },
   {
    "duration": 4,
    "start_time": "2023-03-07T15:40:34.969Z"
   },
   {
    "duration": 29,
    "start_time": "2023-03-07T15:40:34.975Z"
   },
   {
    "duration": 15,
    "start_time": "2023-03-07T15:40:35.006Z"
   },
   {
    "duration": 25,
    "start_time": "2023-03-07T15:40:35.023Z"
   },
   {
    "duration": 12,
    "start_time": "2023-03-07T15:40:35.050Z"
   },
   {
    "duration": 28,
    "start_time": "2023-03-07T15:40:35.064Z"
   },
   {
    "duration": 37,
    "start_time": "2023-03-07T15:40:35.094Z"
   },
   {
    "duration": 11,
    "start_time": "2023-03-07T15:40:35.133Z"
   },
   {
    "duration": 341,
    "start_time": "2023-03-07T15:40:35.146Z"
   },
   {
    "duration": 11,
    "start_time": "2023-03-07T15:40:35.489Z"
   },
   {
    "duration": 329,
    "start_time": "2023-03-07T15:40:35.502Z"
   },
   {
    "duration": 11,
    "start_time": "2023-03-07T15:40:35.832Z"
   },
   {
    "duration": 20,
    "start_time": "2023-03-07T15:40:35.845Z"
   },
   {
    "duration": 8,
    "start_time": "2023-03-07T15:40:35.866Z"
   },
   {
    "duration": 179,
    "start_time": "2023-03-07T15:40:35.875Z"
   },
   {
    "duration": 11,
    "start_time": "2023-03-07T15:40:36.056Z"
   },
   {
    "duration": 173,
    "start_time": "2023-03-07T15:40:36.069Z"
   },
   {
    "duration": 11,
    "start_time": "2023-03-07T15:40:36.244Z"
   },
   {
    "duration": 31,
    "start_time": "2023-03-07T15:40:36.258Z"
   },
   {
    "duration": 10,
    "start_time": "2023-03-07T15:40:36.292Z"
   },
   {
    "duration": 19,
    "start_time": "2023-03-07T15:40:36.305Z"
   },
   {
    "duration": 13,
    "start_time": "2023-03-07T15:40:36.326Z"
   },
   {
    "duration": 19,
    "start_time": "2023-03-07T15:40:36.341Z"
   },
   {
    "duration": 368,
    "start_time": "2023-03-07T15:40:36.361Z"
   },
   {
    "duration": 228,
    "start_time": "2023-03-07T15:40:36.731Z"
   },
   {
    "duration": 6,
    "start_time": "2023-03-07T15:40:36.962Z"
   },
   {
    "duration": 372,
    "start_time": "2023-03-07T15:40:36.970Z"
   },
   {
    "duration": 4,
    "start_time": "2023-03-07T15:40:37.344Z"
   },
   {
    "duration": 14,
    "start_time": "2023-03-07T15:40:37.350Z"
   },
   {
    "duration": 250,
    "start_time": "2023-03-07T15:40:37.365Z"
   },
   {
    "duration": 8,
    "start_time": "2023-03-07T15:40:37.617Z"
   },
   {
    "duration": 320,
    "start_time": "2023-03-07T15:40:37.627Z"
   },
   {
    "duration": 160,
    "start_time": "2023-03-07T15:40:37.949Z"
   },
   {
    "duration": 154,
    "start_time": "2023-03-07T15:41:54.669Z"
   },
   {
    "duration": 229,
    "start_time": "2023-03-07T15:42:05.948Z"
   },
   {
    "duration": 145,
    "start_time": "2023-03-07T15:44:29.937Z"
   },
   {
    "duration": 12,
    "start_time": "2023-03-07T15:44:34.155Z"
   },
   {
    "duration": 13,
    "start_time": "2023-03-07T15:44:40.734Z"
   },
   {
    "duration": 1353,
    "start_time": "2023-03-07T17:46:14.788Z"
   },
   {
    "duration": 6,
    "start_time": "2023-03-07T17:46:36.105Z"
   },
   {
    "duration": 5,
    "start_time": "2023-03-07T17:47:14.235Z"
   },
   {
    "duration": 6,
    "start_time": "2023-03-07T17:48:20.508Z"
   },
   {
    "duration": 10,
    "start_time": "2023-03-07T17:49:56.934Z"
   },
   {
    "duration": 11,
    "start_time": "2023-03-07T17:50:01.952Z"
   },
   {
    "duration": 10,
    "start_time": "2023-03-07T17:50:05.894Z"
   },
   {
    "duration": 12,
    "start_time": "2023-03-07T17:50:51.318Z"
   },
   {
    "duration": 138,
    "start_time": "2023-03-07T17:50:55.358Z"
   },
   {
    "duration": 145,
    "start_time": "2023-03-07T17:51:14.924Z"
   },
   {
    "duration": 138,
    "start_time": "2023-03-07T17:51:20.197Z"
   },
   {
    "duration": 11,
    "start_time": "2023-03-07T18:03:59.609Z"
   },
   {
    "duration": 18,
    "start_time": "2023-03-07T18:05:24.840Z"
   },
   {
    "duration": 142,
    "start_time": "2023-03-07T18:05:47.297Z"
   },
   {
    "duration": 5,
    "start_time": "2023-03-07T18:05:54.849Z"
   },
   {
    "duration": 1233,
    "start_time": "2023-03-07T18:27:03.706Z"
   },
   {
    "duration": 1156,
    "start_time": "2023-03-07T18:27:09.567Z"
   },
   {
    "duration": 125,
    "start_time": "2023-03-07T18:28:03.838Z"
   },
   {
    "duration": 153,
    "start_time": "2023-03-07T18:29:04.949Z"
   },
   {
    "duration": 246,
    "start_time": "2023-03-07T18:29:40.119Z"
   },
   {
    "duration": 161,
    "start_time": "2023-03-07T18:29:51.573Z"
   },
   {
    "duration": 160,
    "start_time": "2023-03-07T18:29:58.740Z"
   },
   {
    "duration": 159,
    "start_time": "2023-03-07T18:30:42.783Z"
   },
   {
    "duration": 167,
    "start_time": "2023-03-07T18:31:23.426Z"
   },
   {
    "duration": 4,
    "start_time": "2023-03-07T18:33:08.508Z"
   },
   {
    "duration": 83,
    "start_time": "2023-03-07T18:33:08.514Z"
   },
   {
    "duration": 4,
    "start_time": "2023-03-07T18:33:08.598Z"
   },
   {
    "duration": 20,
    "start_time": "2023-03-07T18:33:08.604Z"
   },
   {
    "duration": 16,
    "start_time": "2023-03-07T18:33:08.627Z"
   },
   {
    "duration": 15,
    "start_time": "2023-03-07T18:33:08.645Z"
   },
   {
    "duration": 10,
    "start_time": "2023-03-07T18:33:08.691Z"
   },
   {
    "duration": 15,
    "start_time": "2023-03-07T18:33:08.702Z"
   },
   {
    "duration": 22,
    "start_time": "2023-03-07T18:33:08.719Z"
   },
   {
    "duration": 10,
    "start_time": "2023-03-07T18:33:08.743Z"
   },
   {
    "duration": 340,
    "start_time": "2023-03-07T18:33:08.755Z"
   },
   {
    "duration": 12,
    "start_time": "2023-03-07T18:33:09.097Z"
   },
   {
    "duration": 398,
    "start_time": "2023-03-07T18:33:09.113Z"
   },
   {
    "duration": 9,
    "start_time": "2023-03-07T18:33:09.513Z"
   },
   {
    "duration": 10,
    "start_time": "2023-03-07T18:33:09.524Z"
   },
   {
    "duration": 7,
    "start_time": "2023-03-07T18:33:09.537Z"
   },
   {
    "duration": 183,
    "start_time": "2023-03-07T18:33:09.545Z"
   },
   {
    "duration": 10,
    "start_time": "2023-03-07T18:33:09.729Z"
   },
   {
    "duration": 134,
    "start_time": "2023-03-07T18:33:09.741Z"
   },
   {
    "duration": 17,
    "start_time": "2023-03-07T18:33:09.877Z"
   },
   {
    "duration": 16,
    "start_time": "2023-03-07T18:33:09.896Z"
   },
   {
    "duration": 8,
    "start_time": "2023-03-07T18:33:09.913Z"
   },
   {
    "duration": 12,
    "start_time": "2023-03-07T18:33:09.923Z"
   },
   {
    "duration": 6,
    "start_time": "2023-03-07T18:33:09.936Z"
   },
   {
    "duration": 11,
    "start_time": "2023-03-07T18:33:09.943Z"
   },
   {
    "duration": 234,
    "start_time": "2023-03-07T18:33:09.956Z"
   },
   {
    "duration": 245,
    "start_time": "2023-03-07T18:33:10.191Z"
   },
   {
    "duration": 8,
    "start_time": "2023-03-07T18:33:10.438Z"
   },
   {
    "duration": 375,
    "start_time": "2023-03-07T18:33:10.448Z"
   },
   {
    "duration": 4,
    "start_time": "2023-03-07T18:33:10.825Z"
   },
   {
    "duration": 9,
    "start_time": "2023-03-07T18:33:10.831Z"
   },
   {
    "duration": 233,
    "start_time": "2023-03-07T18:33:10.842Z"
   },
   {
    "duration": 17,
    "start_time": "2023-03-07T18:33:11.077Z"
   },
   {
    "duration": 341,
    "start_time": "2023-03-07T18:33:11.095Z"
   },
   {
    "duration": 12,
    "start_time": "2023-03-07T18:33:11.439Z"
   },
   {
    "duration": 180,
    "start_time": "2023-03-07T18:33:11.454Z"
   },
   {
    "duration": 5,
    "start_time": "2023-03-07T18:33:11.637Z"
   },
   {
    "duration": 184,
    "start_time": "2023-03-07T18:33:11.644Z"
   },
   {
    "duration": 4,
    "start_time": "2023-03-07T18:33:11.830Z"
   },
   {
    "duration": 107,
    "start_time": "2023-03-07T19:02:54.539Z"
   },
   {
    "duration": 225,
    "start_time": "2023-03-07T19:11:45.749Z"
   },
   {
    "duration": 215,
    "start_time": "2023-03-07T19:11:50.690Z"
   },
   {
    "duration": 9,
    "start_time": "2023-03-07T19:57:39.042Z"
   },
   {
    "duration": 143,
    "start_time": "2023-03-07T19:59:53.837Z"
   },
   {
    "duration": 6,
    "start_time": "2023-03-07T19:59:55.338Z"
   },
   {
    "duration": 25,
    "start_time": "2023-03-07T20:00:28.690Z"
   },
   {
    "duration": 25,
    "start_time": "2023-03-07T20:00:34.667Z"
   },
   {
    "duration": 24,
    "start_time": "2023-03-07T20:00:37.776Z"
   },
   {
    "duration": 23,
    "start_time": "2023-03-07T20:04:46.117Z"
   },
   {
    "duration": 23,
    "start_time": "2023-03-07T20:05:07.741Z"
   },
   {
    "duration": 49,
    "start_time": "2023-03-08T05:16:24.127Z"
   },
   {
    "duration": 1141,
    "start_time": "2023-03-08T05:16:32.384Z"
   },
   {
    "duration": 272,
    "start_time": "2023-03-08T05:16:33.527Z"
   },
   {
    "duration": 4,
    "start_time": "2023-03-08T05:16:33.801Z"
   },
   {
    "duration": 33,
    "start_time": "2023-03-08T05:16:33.807Z"
   },
   {
    "duration": 28,
    "start_time": "2023-03-08T05:16:33.841Z"
   },
   {
    "duration": 16,
    "start_time": "2023-03-08T05:16:33.871Z"
   },
   {
    "duration": 18,
    "start_time": "2023-03-08T05:16:33.889Z"
   },
   {
    "duration": 22,
    "start_time": "2023-03-08T05:16:33.909Z"
   },
   {
    "duration": 21,
    "start_time": "2023-03-08T05:16:33.933Z"
   },
   {
    "duration": 41,
    "start_time": "2023-03-08T05:16:33.957Z"
   },
   {
    "duration": 298,
    "start_time": "2023-03-08T05:16:33.999Z"
   },
   {
    "duration": 13,
    "start_time": "2023-03-08T05:16:34.299Z"
   },
   {
    "duration": 328,
    "start_time": "2023-03-08T05:16:34.313Z"
   },
   {
    "duration": 8,
    "start_time": "2023-03-08T05:16:34.643Z"
   },
   {
    "duration": 13,
    "start_time": "2023-03-08T05:16:34.653Z"
   },
   {
    "duration": 10,
    "start_time": "2023-03-08T05:16:34.668Z"
   },
   {
    "duration": 168,
    "start_time": "2023-03-08T05:16:34.680Z"
   },
   {
    "duration": 8,
    "start_time": "2023-03-08T05:16:34.850Z"
   },
   {
    "duration": 130,
    "start_time": "2023-03-08T05:16:34.860Z"
   },
   {
    "duration": 8,
    "start_time": "2023-03-08T05:16:34.992Z"
   },
   {
    "duration": 46,
    "start_time": "2023-03-08T05:16:35.001Z"
   },
   {
    "duration": 24,
    "start_time": "2023-03-08T05:16:35.049Z"
   },
   {
    "duration": 23,
    "start_time": "2023-03-08T05:16:35.075Z"
   },
   {
    "duration": 6,
    "start_time": "2023-03-08T05:16:35.100Z"
   },
   {
    "duration": 9,
    "start_time": "2023-03-08T05:16:35.108Z"
   },
   {
    "duration": 267,
    "start_time": "2023-03-08T05:16:35.118Z"
   },
   {
    "duration": 205,
    "start_time": "2023-03-08T05:16:35.388Z"
   },
   {
    "duration": 6,
    "start_time": "2023-03-08T05:16:35.596Z"
   },
   {
    "duration": 366,
    "start_time": "2023-03-08T05:16:35.604Z"
   },
   {
    "duration": 3,
    "start_time": "2023-03-08T05:16:35.972Z"
   },
   {
    "duration": 11,
    "start_time": "2023-03-08T05:16:35.976Z"
   },
   {
    "duration": 226,
    "start_time": "2023-03-08T05:16:35.988Z"
   },
   {
    "duration": 16,
    "start_time": "2023-03-08T05:16:36.215Z"
   },
   {
    "duration": 326,
    "start_time": "2023-03-08T05:16:36.232Z"
   },
   {
    "duration": 10,
    "start_time": "2023-03-08T05:16:36.560Z"
   },
   {
    "duration": 151,
    "start_time": "2023-03-08T05:16:36.571Z"
   },
   {
    "duration": 11,
    "start_time": "2023-03-08T05:16:36.723Z"
   },
   {
    "duration": 155,
    "start_time": "2023-03-08T05:16:36.735Z"
   },
   {
    "duration": 5,
    "start_time": "2023-03-08T05:16:36.892Z"
   },
   {
    "duration": 312,
    "start_time": "2023-03-08T05:16:36.899Z"
   },
   {
    "duration": 119,
    "start_time": "2023-03-08T05:16:37.212Z"
   },
   {
    "duration": 6,
    "start_time": "2023-03-08T05:16:37.332Z"
   },
   {
    "duration": 27,
    "start_time": "2023-03-08T05:16:37.339Z"
   },
   {
    "duration": 9,
    "start_time": "2023-03-08T05:16:37.368Z"
   },
   {
    "duration": 11,
    "start_time": "2023-03-08T05:16:57.998Z"
   },
   {
    "duration": 15,
    "start_time": "2023-03-08T05:17:47.479Z"
   },
   {
    "duration": 12,
    "start_time": "2023-03-08T05:17:53.185Z"
   },
   {
    "duration": 1252,
    "start_time": "2023-03-08T05:45:16.239Z"
   },
   {
    "duration": 1211,
    "start_time": "2023-03-08T05:45:52.774Z"
   },
   {
    "duration": 10,
    "start_time": "2023-03-08T05:46:16.416Z"
   },
   {
    "duration": 11,
    "start_time": "2023-03-08T05:46:27.725Z"
   },
   {
    "duration": 8,
    "start_time": "2023-03-08T05:46:33.383Z"
   },
   {
    "duration": 9,
    "start_time": "2023-03-08T05:47:57.360Z"
   },
   {
    "duration": 4,
    "start_time": "2023-03-08T05:48:25.669Z"
   },
   {
    "duration": 8,
    "start_time": "2023-03-08T05:49:19.328Z"
   },
   {
    "duration": 9,
    "start_time": "2023-03-08T05:50:25.224Z"
   },
   {
    "duration": 20,
    "start_time": "2023-03-08T05:50:48.301Z"
   },
   {
    "duration": 21,
    "start_time": "2023-03-08T05:51:44.387Z"
   },
   {
    "duration": 11,
    "start_time": "2023-03-08T05:52:26.276Z"
   },
   {
    "duration": 3,
    "start_time": "2023-03-08T05:57:07.271Z"
   },
   {
    "duration": 82,
    "start_time": "2023-03-08T05:57:07.276Z"
   },
   {
    "duration": 3,
    "start_time": "2023-03-08T05:57:07.360Z"
   },
   {
    "duration": 24,
    "start_time": "2023-03-08T05:57:07.365Z"
   },
   {
    "duration": 17,
    "start_time": "2023-03-08T05:57:07.390Z"
   },
   {
    "duration": 15,
    "start_time": "2023-03-08T05:57:07.408Z"
   },
   {
    "duration": 8,
    "start_time": "2023-03-08T05:57:07.430Z"
   },
   {
    "duration": 9,
    "start_time": "2023-03-08T05:57:07.440Z"
   },
   {
    "duration": 20,
    "start_time": "2023-03-08T05:57:07.452Z"
   },
   {
    "duration": 10,
    "start_time": "2023-03-08T05:57:07.473Z"
   },
   {
    "duration": 326,
    "start_time": "2023-03-08T05:57:07.485Z"
   },
   {
    "duration": 23,
    "start_time": "2023-03-08T05:57:07.813Z"
   },
   {
    "duration": 285,
    "start_time": "2023-03-08T05:57:07.838Z"
   },
   {
    "duration": 8,
    "start_time": "2023-03-08T05:57:08.130Z"
   },
   {
    "duration": 11,
    "start_time": "2023-03-08T05:57:08.140Z"
   },
   {
    "duration": 8,
    "start_time": "2023-03-08T05:57:08.152Z"
   },
   {
    "duration": 154,
    "start_time": "2023-03-08T05:57:08.161Z"
   },
   {
    "duration": 7,
    "start_time": "2023-03-08T05:57:08.317Z"
   },
   {
    "duration": 117,
    "start_time": "2023-03-08T05:57:08.331Z"
   },
   {
    "duration": 8,
    "start_time": "2023-03-08T05:57:08.449Z"
   },
   {
    "duration": 17,
    "start_time": "2023-03-08T05:57:08.459Z"
   },
   {
    "duration": 16,
    "start_time": "2023-03-08T05:57:08.477Z"
   },
   {
    "duration": 19,
    "start_time": "2023-03-08T05:57:08.495Z"
   },
   {
    "duration": 5,
    "start_time": "2023-03-08T05:57:08.518Z"
   },
   {
    "duration": 9,
    "start_time": "2023-03-08T05:57:08.530Z"
   },
   {
    "duration": 221,
    "start_time": "2023-03-08T05:57:08.541Z"
   },
   {
    "duration": 223,
    "start_time": "2023-03-08T05:57:08.764Z"
   },
   {
    "duration": 6,
    "start_time": "2023-03-08T05:57:08.989Z"
   },
   {
    "duration": 336,
    "start_time": "2023-03-08T05:57:08.997Z"
   },
   {
    "duration": 5,
    "start_time": "2023-03-08T05:57:09.334Z"
   },
   {
    "duration": 9,
    "start_time": "2023-03-08T05:57:09.340Z"
   },
   {
    "duration": 224,
    "start_time": "2023-03-08T05:57:09.350Z"
   },
   {
    "duration": 8,
    "start_time": "2023-03-08T05:57:09.576Z"
   },
   {
    "duration": 315,
    "start_time": "2023-03-08T05:57:09.585Z"
   },
   {
    "duration": 10,
    "start_time": "2023-03-08T05:57:09.902Z"
   },
   {
    "duration": 162,
    "start_time": "2023-03-08T05:57:09.914Z"
   },
   {
    "duration": 4,
    "start_time": "2023-03-08T05:57:10.078Z"
   },
   {
    "duration": 161,
    "start_time": "2023-03-08T05:57:10.083Z"
   },
   {
    "duration": 4,
    "start_time": "2023-03-08T05:57:10.245Z"
   },
   {
    "duration": 232,
    "start_time": "2023-03-08T05:57:10.251Z"
   },
   {
    "duration": 132,
    "start_time": "2023-03-08T05:57:10.485Z"
   },
   {
    "duration": 14,
    "start_time": "2023-03-08T05:57:10.618Z"
   },
   {
    "duration": 29,
    "start_time": "2023-03-08T05:57:10.633Z"
   },
   {
    "duration": 19,
    "start_time": "2023-03-08T05:57:10.664Z"
   },
   {
    "duration": 30,
    "start_time": "2023-03-08T05:57:10.685Z"
   },
   {
    "duration": 10,
    "start_time": "2023-03-08T05:57:10.717Z"
   },
   {
    "duration": 42,
    "start_time": "2023-03-08T05:57:10.729Z"
   },
   {
    "duration": 62,
    "start_time": "2023-03-08T05:57:10.772Z"
   },
   {
    "duration": 1269,
    "start_time": "2023-03-08T06:05:47.746Z"
   },
   {
    "duration": 15,
    "start_time": "2023-03-08T06:06:21.359Z"
   },
   {
    "duration": 12,
    "start_time": "2023-03-08T06:06:28.549Z"
   },
   {
    "duration": 129,
    "start_time": "2023-03-08T06:06:37.843Z"
   },
   {
    "duration": 73,
    "start_time": "2023-03-08T06:06:44.788Z"
   },
   {
    "duration": 90,
    "start_time": "2023-03-08T06:06:47.718Z"
   },
   {
    "duration": 14,
    "start_time": "2023-03-08T06:06:58.693Z"
   },
   {
    "duration": 14,
    "start_time": "2023-03-08T06:07:28.868Z"
   },
   {
    "duration": 19,
    "start_time": "2023-03-08T06:07:56.230Z"
   },
   {
    "duration": 1258,
    "start_time": "2023-03-08T07:01:20.391Z"
   },
   {
    "duration": 143,
    "start_time": "2023-03-08T07:01:21.651Z"
   },
   {
    "duration": 3,
    "start_time": "2023-03-08T07:01:21.797Z"
   },
   {
    "duration": 49,
    "start_time": "2023-03-08T07:01:21.802Z"
   },
   {
    "duration": 24,
    "start_time": "2023-03-08T07:01:21.853Z"
   },
   {
    "duration": 39,
    "start_time": "2023-03-08T07:01:21.879Z"
   },
   {
    "duration": 47,
    "start_time": "2023-03-08T07:01:21.920Z"
   },
   {
    "duration": 37,
    "start_time": "2023-03-08T07:01:21.969Z"
   },
   {
    "duration": 49,
    "start_time": "2023-03-08T07:01:22.008Z"
   },
   {
    "duration": 37,
    "start_time": "2023-03-08T07:01:22.059Z"
   },
   {
    "duration": 402,
    "start_time": "2023-03-08T07:01:22.099Z"
   },
   {
    "duration": 16,
    "start_time": "2023-03-08T07:01:22.504Z"
   },
   {
    "duration": 385,
    "start_time": "2023-03-08T07:01:22.522Z"
   },
   {
    "duration": 9,
    "start_time": "2023-03-08T07:01:22.910Z"
   },
   {
    "duration": 36,
    "start_time": "2023-03-08T07:01:22.921Z"
   },
   {
    "duration": 18,
    "start_time": "2023-03-08T07:01:22.958Z"
   },
   {
    "duration": 202,
    "start_time": "2023-03-08T07:01:22.979Z"
   },
   {
    "duration": 14,
    "start_time": "2023-03-08T07:01:23.184Z"
   },
   {
    "duration": 161,
    "start_time": "2023-03-08T07:01:23.200Z"
   },
   {
    "duration": 21,
    "start_time": "2023-03-08T07:01:23.362Z"
   },
   {
    "duration": 30,
    "start_time": "2023-03-08T07:01:23.384Z"
   },
   {
    "duration": 18,
    "start_time": "2023-03-08T07:01:23.416Z"
   },
   {
    "duration": 28,
    "start_time": "2023-03-08T07:01:23.435Z"
   },
   {
    "duration": 20,
    "start_time": "2023-03-08T07:01:23.465Z"
   },
   {
    "duration": 23,
    "start_time": "2023-03-08T07:01:23.487Z"
   },
   {
    "duration": 338,
    "start_time": "2023-03-08T07:01:23.512Z"
   },
   {
    "duration": 280,
    "start_time": "2023-03-08T07:01:23.852Z"
   },
   {
    "duration": 6,
    "start_time": "2023-03-08T07:01:24.134Z"
   },
   {
    "duration": 490,
    "start_time": "2023-03-08T07:01:24.142Z"
   },
   {
    "duration": 4,
    "start_time": "2023-03-08T07:01:24.634Z"
   },
   {
    "duration": 37,
    "start_time": "2023-03-08T07:01:24.639Z"
   },
   {
    "duration": 292,
    "start_time": "2023-03-08T07:01:24.678Z"
   },
   {
    "duration": 13,
    "start_time": "2023-03-08T07:01:24.972Z"
   },
   {
    "duration": 347,
    "start_time": "2023-03-08T07:01:24.988Z"
   },
   {
    "duration": 12,
    "start_time": "2023-03-08T07:01:25.337Z"
   },
   {
    "duration": 205,
    "start_time": "2023-03-08T07:01:25.351Z"
   },
   {
    "duration": 6,
    "start_time": "2023-03-08T07:01:25.558Z"
   },
   {
    "duration": 207,
    "start_time": "2023-03-08T07:01:25.566Z"
   },
   {
    "duration": 10,
    "start_time": "2023-03-08T07:01:25.775Z"
   },
   {
    "duration": 361,
    "start_time": "2023-03-08T07:01:25.788Z"
   },
   {
    "duration": 177,
    "start_time": "2023-03-08T07:01:26.153Z"
   },
   {
    "duration": 6,
    "start_time": "2023-03-08T07:01:26.332Z"
   },
   {
    "duration": 40,
    "start_time": "2023-03-08T07:01:26.340Z"
   },
   {
    "duration": 20,
    "start_time": "2023-03-08T07:01:26.383Z"
   },
   {
    "duration": 20,
    "start_time": "2023-03-08T07:01:26.404Z"
   },
   {
    "duration": 14,
    "start_time": "2023-03-08T07:01:26.426Z"
   },
   {
    "duration": 19,
    "start_time": "2023-03-08T07:01:26.442Z"
   },
   {
    "duration": 51,
    "start_time": "2023-03-08T07:01:26.463Z"
   },
   {
    "duration": 15,
    "start_time": "2023-03-08T07:01:26.516Z"
   },
   {
    "duration": 55,
    "start_time": "2023-03-08T16:55:09.903Z"
   },
   {
    "duration": 1175,
    "start_time": "2023-03-08T16:55:13.098Z"
   },
   {
    "duration": 264,
    "start_time": "2023-03-08T16:55:14.275Z"
   },
   {
    "duration": 6,
    "start_time": "2023-03-08T16:55:14.540Z"
   },
   {
    "duration": 34,
    "start_time": "2023-03-08T16:55:14.547Z"
   },
   {
    "duration": 16,
    "start_time": "2023-03-08T16:55:14.583Z"
   },
   {
    "duration": 16,
    "start_time": "2023-03-08T16:55:14.601Z"
   },
   {
    "duration": 32,
    "start_time": "2023-03-08T16:55:14.619Z"
   },
   {
    "duration": 7,
    "start_time": "2023-03-08T16:55:14.658Z"
   },
   {
    "duration": 23,
    "start_time": "2023-03-08T16:55:14.666Z"
   },
   {
    "duration": 10,
    "start_time": "2023-03-08T16:55:14.691Z"
   },
   {
    "duration": 324,
    "start_time": "2023-03-08T16:55:14.702Z"
   },
   {
    "duration": 18,
    "start_time": "2023-03-08T16:55:15.027Z"
   },
   {
    "duration": 334,
    "start_time": "2023-03-08T16:55:15.049Z"
   },
   {
    "duration": 8,
    "start_time": "2023-03-08T16:55:15.386Z"
   },
   {
    "duration": 13,
    "start_time": "2023-03-08T16:55:15.396Z"
   },
   {
    "duration": 6,
    "start_time": "2023-03-08T16:55:15.411Z"
   },
   {
    "duration": 197,
    "start_time": "2023-03-08T16:55:15.418Z"
   },
   {
    "duration": 8,
    "start_time": "2023-03-08T16:55:15.616Z"
   },
   {
    "duration": 135,
    "start_time": "2023-03-08T16:55:15.625Z"
   },
   {
    "duration": 8,
    "start_time": "2023-03-08T16:55:15.762Z"
   },
   {
    "duration": 18,
    "start_time": "2023-03-08T16:55:15.772Z"
   },
   {
    "duration": 8,
    "start_time": "2023-03-08T16:55:15.792Z"
   },
   {
    "duration": 9,
    "start_time": "2023-03-08T16:55:15.801Z"
   },
   {
    "duration": 12,
    "start_time": "2023-03-08T16:55:15.812Z"
   },
   {
    "duration": 41,
    "start_time": "2023-03-08T16:55:15.825Z"
   },
   {
    "duration": 302,
    "start_time": "2023-03-08T16:55:15.868Z"
   },
   {
    "duration": 237,
    "start_time": "2023-03-08T16:55:16.172Z"
   },
   {
    "duration": 6,
    "start_time": "2023-03-08T16:55:16.410Z"
   },
   {
    "duration": 378,
    "start_time": "2023-03-08T16:55:16.418Z"
   },
   {
    "duration": 4,
    "start_time": "2023-03-08T16:55:16.798Z"
   },
   {
    "duration": 7,
    "start_time": "2023-03-08T16:55:16.803Z"
   },
   {
    "duration": 237,
    "start_time": "2023-03-08T16:55:16.812Z"
   },
   {
    "duration": 7,
    "start_time": "2023-03-08T16:55:17.051Z"
   },
   {
    "duration": 334,
    "start_time": "2023-03-08T16:55:17.060Z"
   },
   {
    "duration": 11,
    "start_time": "2023-03-08T16:55:17.395Z"
   },
   {
    "duration": 169,
    "start_time": "2023-03-08T16:55:17.407Z"
   },
   {
    "duration": 5,
    "start_time": "2023-03-08T16:55:17.578Z"
   },
   {
    "duration": 182,
    "start_time": "2023-03-08T16:55:17.584Z"
   },
   {
    "duration": 5,
    "start_time": "2023-03-08T16:55:17.768Z"
   },
   {
    "duration": 295,
    "start_time": "2023-03-08T16:55:17.774Z"
   },
   {
    "duration": 138,
    "start_time": "2023-03-08T16:55:18.074Z"
   },
   {
    "duration": 6,
    "start_time": "2023-03-08T16:55:18.214Z"
   },
   {
    "duration": 40,
    "start_time": "2023-03-08T16:55:18.222Z"
   },
   {
    "duration": 10,
    "start_time": "2023-03-08T16:55:18.264Z"
   },
   {
    "duration": 11,
    "start_time": "2023-03-08T16:55:18.275Z"
   },
   {
    "duration": 5,
    "start_time": "2023-03-08T16:55:18.287Z"
   },
   {
    "duration": 10,
    "start_time": "2023-03-08T16:55:18.293Z"
   },
   {
    "duration": 49,
    "start_time": "2023-03-08T16:55:18.304Z"
   },
   {
    "duration": 15,
    "start_time": "2023-03-08T16:55:18.356Z"
   },
   {
    "duration": 83,
    "start_time": "2023-03-08T17:06:49.584Z"
   },
   {
    "duration": 6,
    "start_time": "2023-03-08T17:07:05.705Z"
   },
   {
    "duration": 8,
    "start_time": "2023-03-08T17:07:17.477Z"
   },
   {
    "duration": 3,
    "start_time": "2023-03-08T17:08:04.882Z"
   },
   {
    "duration": 6,
    "start_time": "2023-03-08T17:28:32.435Z"
   },
   {
    "duration": 5,
    "start_time": "2023-03-08T17:29:15.102Z"
   },
   {
    "duration": 6,
    "start_time": "2023-03-08T17:29:38.802Z"
   },
   {
    "duration": 5,
    "start_time": "2023-03-08T17:29:55.141Z"
   },
   {
    "duration": 49,
    "start_time": "2023-03-08T17:30:06.358Z"
   },
   {
    "duration": 66,
    "start_time": "2023-03-08T17:30:12.308Z"
   },
   {
    "duration": 49,
    "start_time": "2023-03-08T17:30:22.961Z"
   },
   {
    "duration": 21,
    "start_time": "2023-03-08T17:31:05.737Z"
   },
   {
    "duration": 6,
    "start_time": "2023-03-08T17:32:02.854Z"
   },
   {
    "duration": 55,
    "start_time": "2023-03-08T17:32:05.612Z"
   },
   {
    "duration": 4,
    "start_time": "2023-03-08T17:32:11.504Z"
   },
   {
    "duration": 4,
    "start_time": "2023-03-08T17:32:45.359Z"
   },
   {
    "duration": 3,
    "start_time": "2023-03-08T17:32:52.304Z"
   },
   {
    "duration": 42,
    "start_time": "2023-03-08T17:33:02.053Z"
   },
   {
    "duration": 13,
    "start_time": "2023-03-08T17:33:06.834Z"
   },
   {
    "duration": 4,
    "start_time": "2023-03-08T17:33:21.030Z"
   },
   {
    "duration": 8,
    "start_time": "2023-03-08T17:33:33.419Z"
   },
   {
    "duration": 5,
    "start_time": "2023-03-08T17:33:51.425Z"
   },
   {
    "duration": 4,
    "start_time": "2023-03-08T17:34:14.907Z"
   },
   {
    "duration": 5,
    "start_time": "2023-03-08T17:34:16.719Z"
   },
   {
    "duration": 5,
    "start_time": "2023-03-08T17:34:56.311Z"
   },
   {
    "duration": 5,
    "start_time": "2023-03-08T17:35:11.752Z"
   },
   {
    "duration": 6,
    "start_time": "2023-03-08T17:36:00.420Z"
   },
   {
    "duration": 64,
    "start_time": "2023-03-08T17:37:08.312Z"
   },
   {
    "duration": 6,
    "start_time": "2023-03-08T17:37:10.872Z"
   },
   {
    "duration": 67,
    "start_time": "2023-03-08T17:37:19.840Z"
   },
   {
    "duration": 7,
    "start_time": "2023-03-08T17:37:23.521Z"
   },
   {
    "duration": 53,
    "start_time": "2023-03-08T17:37:32.955Z"
   },
   {
    "duration": 70,
    "start_time": "2023-03-08T17:37:49.240Z"
   },
   {
    "duration": 6,
    "start_time": "2023-03-08T17:37:55.703Z"
   },
   {
    "duration": 65,
    "start_time": "2023-03-08T17:38:07.121Z"
   },
   {
    "duration": 42,
    "start_time": "2023-03-08T17:38:48.176Z"
   },
   {
    "duration": 60,
    "start_time": "2023-03-08T17:38:50.206Z"
   },
   {
    "duration": 64,
    "start_time": "2023-03-08T17:38:54.228Z"
   },
   {
    "duration": 15,
    "start_time": "2023-03-08T17:39:23.638Z"
   },
   {
    "duration": 6,
    "start_time": "2023-03-08T17:39:30.916Z"
   },
   {
    "duration": 6,
    "start_time": "2023-03-08T17:39:41.185Z"
   },
   {
    "duration": 6,
    "start_time": "2023-03-08T17:39:49.828Z"
   },
   {
    "duration": 8,
    "start_time": "2023-03-08T17:40:06.509Z"
   },
   {
    "duration": 43,
    "start_time": "2023-03-08T20:41:10.821Z"
   },
   {
    "duration": 1126,
    "start_time": "2023-03-08T20:41:14.852Z"
   },
   {
    "duration": 249,
    "start_time": "2023-03-08T20:41:15.980Z"
   },
   {
    "duration": 4,
    "start_time": "2023-03-08T20:41:16.230Z"
   },
   {
    "duration": 24,
    "start_time": "2023-03-08T20:41:16.235Z"
   },
   {
    "duration": 15,
    "start_time": "2023-03-08T20:41:16.261Z"
   },
   {
    "duration": 13,
    "start_time": "2023-03-08T20:41:16.277Z"
   },
   {
    "duration": 8,
    "start_time": "2023-03-08T20:41:16.291Z"
   },
   {
    "duration": 9,
    "start_time": "2023-03-08T20:41:16.300Z"
   },
   {
    "duration": 42,
    "start_time": "2023-03-08T20:41:16.311Z"
   },
   {
    "duration": 6,
    "start_time": "2023-03-08T20:41:16.355Z"
   },
   {
    "duration": 15,
    "start_time": "2023-03-08T20:41:16.362Z"
   },
   {
    "duration": 337,
    "start_time": "2023-03-08T20:41:16.378Z"
   },
   {
    "duration": 11,
    "start_time": "2023-03-08T20:41:16.716Z"
   },
   {
    "duration": 279,
    "start_time": "2023-03-08T20:41:16.739Z"
   },
   {
    "duration": 8,
    "start_time": "2023-03-08T20:41:17.019Z"
   },
   {
    "duration": 16,
    "start_time": "2023-03-08T20:41:17.028Z"
   },
   {
    "duration": 13,
    "start_time": "2023-03-08T20:41:17.046Z"
   },
   {
    "duration": 152,
    "start_time": "2023-03-08T20:41:17.060Z"
   },
   {
    "duration": 12,
    "start_time": "2023-03-08T20:41:17.214Z"
   },
   {
    "duration": 143,
    "start_time": "2023-03-08T20:41:17.228Z"
   },
   {
    "duration": 7,
    "start_time": "2023-03-08T20:41:17.373Z"
   },
   {
    "duration": 20,
    "start_time": "2023-03-08T20:41:17.381Z"
   },
   {
    "duration": 9,
    "start_time": "2023-03-08T20:41:17.402Z"
   },
   {
    "duration": 13,
    "start_time": "2023-03-08T20:41:17.412Z"
   },
   {
    "duration": 14,
    "start_time": "2023-03-08T20:41:17.427Z"
   },
   {
    "duration": 15,
    "start_time": "2023-03-08T20:41:17.442Z"
   },
   {
    "duration": 287,
    "start_time": "2023-03-08T20:41:17.459Z"
   },
   {
    "duration": 221,
    "start_time": "2023-03-08T20:41:17.747Z"
   },
   {
    "duration": 5,
    "start_time": "2023-03-08T20:41:17.970Z"
   },
   {
    "duration": 310,
    "start_time": "2023-03-08T20:41:17.976Z"
   },
   {
    "duration": 4,
    "start_time": "2023-03-08T20:41:18.287Z"
   },
   {
    "duration": 7,
    "start_time": "2023-03-08T20:41:18.292Z"
   },
   {
    "duration": 209,
    "start_time": "2023-03-08T20:41:18.300Z"
   },
   {
    "duration": 7,
    "start_time": "2023-03-08T20:41:18.510Z"
   },
   {
    "duration": 329,
    "start_time": "2023-03-08T20:41:18.519Z"
   },
   {
    "duration": 10,
    "start_time": "2023-03-08T20:41:18.850Z"
   },
   {
    "duration": 147,
    "start_time": "2023-03-08T20:41:18.861Z"
   },
   {
    "duration": 5,
    "start_time": "2023-03-08T20:41:19.009Z"
   },
   {
    "duration": 166,
    "start_time": "2023-03-08T20:41:19.015Z"
   },
   {
    "duration": 5,
    "start_time": "2023-03-08T20:41:19.182Z"
   },
   {
    "duration": 293,
    "start_time": "2023-03-08T20:41:19.190Z"
   },
   {
    "duration": 135,
    "start_time": "2023-03-08T20:41:19.485Z"
   },
   {
    "duration": 7,
    "start_time": "2023-03-08T20:41:19.622Z"
   },
   {
    "duration": 29,
    "start_time": "2023-03-08T20:41:19.631Z"
   },
   {
    "duration": 11,
    "start_time": "2023-03-08T20:41:19.661Z"
   },
   {
    "duration": 8,
    "start_time": "2023-03-08T20:41:19.674Z"
   },
   {
    "duration": 5,
    "start_time": "2023-03-08T20:41:19.683Z"
   },
   {
    "duration": 10,
    "start_time": "2023-03-08T20:41:19.689Z"
   },
   {
    "duration": 47,
    "start_time": "2023-03-08T20:41:19.701Z"
   },
   {
    "duration": 12,
    "start_time": "2023-03-08T20:41:19.750Z"
   },
   {
    "duration": 697,
    "start_time": "2023-03-08T20:46:02.537Z"
   },
   {
    "duration": 655,
    "start_time": "2023-03-08T20:46:18.984Z"
   },
   {
    "duration": 716,
    "start_time": "2023-03-08T20:46:26.734Z"
   },
   {
    "duration": 3,
    "start_time": "2023-03-08T20:46:34.218Z"
   },
   {
    "duration": 78,
    "start_time": "2023-03-08T20:46:34.223Z"
   },
   {
    "duration": 4,
    "start_time": "2023-03-08T20:46:34.302Z"
   },
   {
    "duration": 20,
    "start_time": "2023-03-08T20:46:34.308Z"
   },
   {
    "duration": 16,
    "start_time": "2023-03-08T20:46:34.330Z"
   },
   {
    "duration": 12,
    "start_time": "2023-03-08T20:46:34.348Z"
   },
   {
    "duration": 7,
    "start_time": "2023-03-08T20:46:34.361Z"
   },
   {
    "duration": 22,
    "start_time": "2023-03-08T20:46:34.369Z"
   },
   {
    "duration": 29,
    "start_time": "2023-03-08T20:46:34.393Z"
   },
   {
    "duration": 6,
    "start_time": "2023-03-08T20:46:34.423Z"
   },
   {
    "duration": 19,
    "start_time": "2023-03-08T20:46:34.430Z"
   },
   {
    "duration": 276,
    "start_time": "2023-03-08T20:46:34.450Z"
   },
   {
    "duration": 14,
    "start_time": "2023-03-08T20:46:34.727Z"
   },
   {
    "duration": 273,
    "start_time": "2023-03-08T20:46:34.744Z"
   },
   {
    "duration": 12,
    "start_time": "2023-03-08T20:46:35.019Z"
   },
   {
    "duration": 22,
    "start_time": "2023-03-08T20:46:35.033Z"
   },
   {
    "duration": 26,
    "start_time": "2023-03-08T20:46:35.057Z"
   },
   {
    "duration": 167,
    "start_time": "2023-03-08T20:46:35.084Z"
   },
   {
    "duration": 8,
    "start_time": "2023-03-08T20:46:35.252Z"
   },
   {
    "duration": 118,
    "start_time": "2023-03-08T20:46:35.262Z"
   },
   {
    "duration": 6,
    "start_time": "2023-03-08T20:46:35.382Z"
   },
   {
    "duration": 12,
    "start_time": "2023-03-08T20:46:35.390Z"
   },
   {
    "duration": 5,
    "start_time": "2023-03-08T20:46:35.404Z"
   },
   {
    "duration": 10,
    "start_time": "2023-03-08T20:46:35.410Z"
   },
   {
    "duration": 19,
    "start_time": "2023-03-08T20:46:35.421Z"
   },
   {
    "duration": 8,
    "start_time": "2023-03-08T20:46:35.442Z"
   },
   {
    "duration": 203,
    "start_time": "2023-03-08T20:46:35.451Z"
   },
   {
    "duration": 205,
    "start_time": "2023-03-08T20:46:35.655Z"
   },
   {
    "duration": 5,
    "start_time": "2023-03-08T20:46:35.862Z"
   },
   {
    "duration": 282,
    "start_time": "2023-03-08T20:46:35.869Z"
   },
   {
    "duration": 4,
    "start_time": "2023-03-08T20:46:36.152Z"
   },
   {
    "duration": 9,
    "start_time": "2023-03-08T20:46:36.157Z"
   },
   {
    "duration": 213,
    "start_time": "2023-03-08T20:46:36.167Z"
   },
   {
    "duration": 7,
    "start_time": "2023-03-08T20:46:36.382Z"
   },
   {
    "duration": 310,
    "start_time": "2023-03-08T20:46:36.390Z"
   },
   {
    "duration": 11,
    "start_time": "2023-03-08T20:46:36.701Z"
   },
   {
    "duration": 149,
    "start_time": "2023-03-08T20:46:36.713Z"
   },
   {
    "duration": 5,
    "start_time": "2023-03-08T20:46:36.864Z"
   },
   {
    "duration": 168,
    "start_time": "2023-03-08T20:46:36.870Z"
   },
   {
    "duration": 5,
    "start_time": "2023-03-08T20:46:37.040Z"
   },
   {
    "duration": 244,
    "start_time": "2023-03-08T20:46:37.050Z"
   },
   {
    "duration": 145,
    "start_time": "2023-03-08T20:46:37.295Z"
   },
   {
    "duration": 6,
    "start_time": "2023-03-08T20:46:37.442Z"
   },
   {
    "duration": 26,
    "start_time": "2023-03-08T20:46:37.450Z"
   },
   {
    "duration": 9,
    "start_time": "2023-03-08T20:46:37.478Z"
   },
   {
    "duration": 7,
    "start_time": "2023-03-08T20:46:37.488Z"
   },
   {
    "duration": 6,
    "start_time": "2023-03-08T20:46:37.496Z"
   },
   {
    "duration": 7,
    "start_time": "2023-03-08T20:46:37.504Z"
   },
   {
    "duration": 31,
    "start_time": "2023-03-08T20:46:37.512Z"
   },
   {
    "duration": 13,
    "start_time": "2023-03-08T20:46:37.544Z"
   },
   {
    "duration": 697,
    "start_time": "2023-03-08T20:47:08.835Z"
   },
   {
    "duration": 6,
    "start_time": "2023-03-08T20:47:14.591Z"
   },
   {
    "duration": 671,
    "start_time": "2023-03-08T20:47:17.006Z"
   },
   {
    "duration": 933,
    "start_time": "2023-03-08T20:47:39.680Z"
   },
   {
    "duration": 124,
    "start_time": "2023-03-08T20:47:40.615Z"
   },
   {
    "duration": 2,
    "start_time": "2023-03-08T20:47:40.741Z"
   },
   {
    "duration": 21,
    "start_time": "2023-03-08T20:47:40.745Z"
   },
   {
    "duration": 15,
    "start_time": "2023-03-08T20:47:40.767Z"
   },
   {
    "duration": 14,
    "start_time": "2023-03-08T20:47:40.783Z"
   },
   {
    "duration": 7,
    "start_time": "2023-03-08T20:47:40.798Z"
   },
   {
    "duration": 10,
    "start_time": "2023-03-08T20:47:40.840Z"
   },
   {
    "duration": 21,
    "start_time": "2023-03-08T20:47:40.852Z"
   },
   {
    "duration": 7,
    "start_time": "2023-03-08T20:47:40.874Z"
   },
   {
    "duration": 11,
    "start_time": "2023-03-08T20:47:40.882Z"
   },
   {
    "duration": 322,
    "start_time": "2023-03-08T20:47:40.895Z"
   },
   {
    "duration": 11,
    "start_time": "2023-03-08T20:47:41.219Z"
   },
   {
    "duration": 278,
    "start_time": "2023-03-08T20:47:41.241Z"
   },
   {
    "duration": 8,
    "start_time": "2023-03-08T20:47:41.520Z"
   },
   {
    "duration": 17,
    "start_time": "2023-03-08T20:47:41.529Z"
   },
   {
    "duration": 6,
    "start_time": "2023-03-08T20:47:41.547Z"
   },
   {
    "duration": 159,
    "start_time": "2023-03-08T20:47:41.554Z"
   },
   {
    "duration": 7,
    "start_time": "2023-03-08T20:47:41.715Z"
   },
   {
    "duration": 127,
    "start_time": "2023-03-08T20:47:41.723Z"
   },
   {
    "duration": 7,
    "start_time": "2023-03-08T20:47:41.852Z"
   },
   {
    "duration": 14,
    "start_time": "2023-03-08T20:47:41.861Z"
   },
   {
    "duration": 10,
    "start_time": "2023-03-08T20:47:41.876Z"
   },
   {
    "duration": 7,
    "start_time": "2023-03-08T20:47:41.889Z"
   },
   {
    "duration": 6,
    "start_time": "2023-03-08T20:47:41.897Z"
   },
   {
    "duration": 8,
    "start_time": "2023-03-08T20:47:41.904Z"
   },
   {
    "duration": 276,
    "start_time": "2023-03-08T20:47:41.913Z"
   },
   {
    "duration": 218,
    "start_time": "2023-03-08T20:47:42.191Z"
   },
   {
    "duration": 6,
    "start_time": "2023-03-08T20:47:42.411Z"
   },
   {
    "duration": 332,
    "start_time": "2023-03-08T20:47:42.419Z"
   },
   {
    "duration": 4,
    "start_time": "2023-03-08T20:47:42.753Z"
   },
   {
    "duration": 7,
    "start_time": "2023-03-08T20:47:42.759Z"
   },
   {
    "duration": 257,
    "start_time": "2023-03-08T20:47:42.767Z"
   },
   {
    "duration": 8,
    "start_time": "2023-03-08T20:47:43.026Z"
   },
   {
    "duration": 345,
    "start_time": "2023-03-08T20:47:43.040Z"
   },
   {
    "duration": 12,
    "start_time": "2023-03-08T20:47:43.386Z"
   },
   {
    "duration": 172,
    "start_time": "2023-03-08T20:47:43.400Z"
   },
   {
    "duration": 5,
    "start_time": "2023-03-08T20:47:43.574Z"
   },
   {
    "duration": 188,
    "start_time": "2023-03-08T20:47:43.581Z"
   },
   {
    "duration": 5,
    "start_time": "2023-03-08T20:47:43.772Z"
   },
   {
    "duration": 298,
    "start_time": "2023-03-08T20:47:43.781Z"
   },
   {
    "duration": 168,
    "start_time": "2023-03-08T20:47:44.081Z"
   },
   {
    "duration": 6,
    "start_time": "2023-03-08T20:47:44.251Z"
   },
   {
    "duration": 25,
    "start_time": "2023-03-08T20:47:44.258Z"
   },
   {
    "duration": 12,
    "start_time": "2023-03-08T20:47:44.285Z"
   },
   {
    "duration": 9,
    "start_time": "2023-03-08T20:47:44.299Z"
   },
   {
    "duration": 30,
    "start_time": "2023-03-08T20:47:44.310Z"
   },
   {
    "duration": 9,
    "start_time": "2023-03-08T20:47:44.342Z"
   },
   {
    "duration": 28,
    "start_time": "2023-03-08T20:47:44.353Z"
   },
   {
    "duration": 13,
    "start_time": "2023-03-08T20:47:44.382Z"
   },
   {
    "duration": 3,
    "start_time": "2023-03-08T20:47:53.732Z"
   },
   {
    "duration": 82,
    "start_time": "2023-03-08T20:47:53.737Z"
   },
   {
    "duration": 4,
    "start_time": "2023-03-08T20:47:53.821Z"
   },
   {
    "duration": 25,
    "start_time": "2023-03-08T20:47:53.827Z"
   },
   {
    "duration": 17,
    "start_time": "2023-03-08T20:47:53.854Z"
   },
   {
    "duration": 15,
    "start_time": "2023-03-08T20:47:53.872Z"
   },
   {
    "duration": 8,
    "start_time": "2023-03-08T20:47:53.888Z"
   },
   {
    "duration": 11,
    "start_time": "2023-03-08T20:47:53.897Z"
   },
   {
    "duration": 20,
    "start_time": "2023-03-08T20:47:53.941Z"
   },
   {
    "duration": 9,
    "start_time": "2023-03-08T20:47:53.962Z"
   },
   {
    "duration": 13,
    "start_time": "2023-03-08T20:47:53.973Z"
   },
   {
    "duration": 333,
    "start_time": "2023-03-08T20:47:53.987Z"
   },
   {
    "duration": 19,
    "start_time": "2023-03-08T20:47:54.322Z"
   },
   {
    "duration": 265,
    "start_time": "2023-03-08T20:47:54.343Z"
   },
   {
    "duration": 8,
    "start_time": "2023-03-08T20:47:54.609Z"
   },
   {
    "duration": 22,
    "start_time": "2023-03-08T20:47:54.618Z"
   },
   {
    "duration": 5,
    "start_time": "2023-03-08T20:47:54.641Z"
   },
   {
    "duration": 157,
    "start_time": "2023-03-08T20:47:54.647Z"
   },
   {
    "duration": 7,
    "start_time": "2023-03-08T20:47:54.805Z"
   },
   {
    "duration": 116,
    "start_time": "2023-03-08T20:47:54.814Z"
   },
   {
    "duration": 9,
    "start_time": "2023-03-08T20:47:54.932Z"
   },
   {
    "duration": 12,
    "start_time": "2023-03-08T20:47:54.942Z"
   },
   {
    "duration": 7,
    "start_time": "2023-03-08T20:47:54.956Z"
   },
   {
    "duration": 10,
    "start_time": "2023-03-08T20:47:54.965Z"
   },
   {
    "duration": 7,
    "start_time": "2023-03-08T20:47:54.977Z"
   },
   {
    "duration": 9,
    "start_time": "2023-03-08T20:47:54.986Z"
   },
   {
    "duration": 249,
    "start_time": "2023-03-08T20:47:54.997Z"
   },
   {
    "duration": 212,
    "start_time": "2023-03-08T20:47:55.248Z"
   },
   {
    "duration": 6,
    "start_time": "2023-03-08T20:47:55.463Z"
   },
   {
    "duration": 285,
    "start_time": "2023-03-08T20:47:55.470Z"
   },
   {
    "duration": 4,
    "start_time": "2023-03-08T20:47:55.757Z"
   },
   {
    "duration": 9,
    "start_time": "2023-03-08T20:47:55.762Z"
   },
   {
    "duration": 216,
    "start_time": "2023-03-08T20:47:55.773Z"
   },
   {
    "duration": 7,
    "start_time": "2023-03-08T20:47:55.991Z"
   },
   {
    "duration": 320,
    "start_time": "2023-03-08T20:47:56.000Z"
   },
   {
    "duration": 20,
    "start_time": "2023-03-08T20:47:56.321Z"
   },
   {
    "duration": 147,
    "start_time": "2023-03-08T20:47:56.342Z"
   },
   {
    "duration": 5,
    "start_time": "2023-03-08T20:47:56.492Z"
   },
   {
    "duration": 173,
    "start_time": "2023-03-08T20:47:56.498Z"
   },
   {
    "duration": 5,
    "start_time": "2023-03-08T20:47:56.673Z"
   },
   {
    "duration": 222,
    "start_time": "2023-03-08T20:47:56.680Z"
   },
   {
    "duration": 159,
    "start_time": "2023-03-08T20:47:56.903Z"
   },
   {
    "duration": 6,
    "start_time": "2023-03-08T20:47:57.064Z"
   },
   {
    "duration": 24,
    "start_time": "2023-03-08T20:47:57.072Z"
   },
   {
    "duration": 10,
    "start_time": "2023-03-08T20:47:57.098Z"
   },
   {
    "duration": 7,
    "start_time": "2023-03-08T20:47:57.110Z"
   },
   {
    "duration": 3,
    "start_time": "2023-03-08T20:47:57.139Z"
   },
   {
    "duration": 7,
    "start_time": "2023-03-08T20:47:57.144Z"
   },
   {
    "duration": 19,
    "start_time": "2023-03-08T20:47:57.153Z"
   },
   {
    "duration": 12,
    "start_time": "2023-03-08T20:47:57.174Z"
   },
   {
    "duration": 738,
    "start_time": "2023-03-08T20:48:08.178Z"
   },
   {
    "duration": 668,
    "start_time": "2023-03-08T20:48:11.410Z"
   },
   {
    "duration": 4,
    "start_time": "2023-03-08T20:48:13.279Z"
   },
   {
    "duration": 76,
    "start_time": "2023-03-08T20:48:13.285Z"
   },
   {
    "duration": 5,
    "start_time": "2023-03-08T20:48:13.363Z"
   },
   {
    "duration": 21,
    "start_time": "2023-03-08T20:48:13.369Z"
   },
   {
    "duration": 16,
    "start_time": "2023-03-08T20:48:13.392Z"
   },
   {
    "duration": 15,
    "start_time": "2023-03-08T20:48:13.409Z"
   },
   {
    "duration": 7,
    "start_time": "2023-03-08T20:48:13.440Z"
   },
   {
    "duration": 8,
    "start_time": "2023-03-08T20:48:13.449Z"
   },
   {
    "duration": 20,
    "start_time": "2023-03-08T20:48:13.458Z"
   },
   {
    "duration": 5,
    "start_time": "2023-03-08T20:48:13.480Z"
   },
   {
    "duration": 11,
    "start_time": "2023-03-08T20:48:13.487Z"
   },
   {
    "duration": 319,
    "start_time": "2023-03-08T20:48:13.500Z"
   },
   {
    "duration": 20,
    "start_time": "2023-03-08T20:48:13.821Z"
   },
   {
    "duration": 270,
    "start_time": "2023-03-08T20:48:13.842Z"
   },
   {
    "duration": 7,
    "start_time": "2023-03-08T20:48:14.114Z"
   },
   {
    "duration": 18,
    "start_time": "2023-03-08T20:48:14.122Z"
   },
   {
    "duration": 6,
    "start_time": "2023-03-08T20:48:14.141Z"
   },
   {
    "duration": 244,
    "start_time": "2023-03-08T20:48:14.149Z"
   },
   {
    "duration": 8,
    "start_time": "2023-03-08T20:48:14.395Z"
   },
   {
    "duration": 120,
    "start_time": "2023-03-08T20:48:14.405Z"
   },
   {
    "duration": 7,
    "start_time": "2023-03-08T20:48:14.526Z"
   },
   {
    "duration": 12,
    "start_time": "2023-03-08T20:48:14.540Z"
   },
   {
    "duration": 6,
    "start_time": "2023-03-08T20:48:14.553Z"
   },
   {
    "duration": 8,
    "start_time": "2023-03-08T20:48:14.561Z"
   },
   {
    "duration": 7,
    "start_time": "2023-03-08T20:48:14.570Z"
   },
   {
    "duration": 13,
    "start_time": "2023-03-08T20:48:14.578Z"
   },
   {
    "duration": 228,
    "start_time": "2023-03-08T20:48:14.592Z"
   },
   {
    "duration": 222,
    "start_time": "2023-03-08T20:48:14.821Z"
   },
   {
    "duration": 6,
    "start_time": "2023-03-08T20:48:15.048Z"
   },
   {
    "duration": 308,
    "start_time": "2023-03-08T20:48:15.056Z"
   },
   {
    "duration": 4,
    "start_time": "2023-03-08T20:48:15.366Z"
   },
   {
    "duration": 7,
    "start_time": "2023-03-08T20:48:15.371Z"
   },
   {
    "duration": 230,
    "start_time": "2023-03-08T20:48:15.379Z"
   },
   {
    "duration": 8,
    "start_time": "2023-03-08T20:48:15.610Z"
   },
   {
    "duration": 355,
    "start_time": "2023-03-08T20:48:15.620Z"
   },
   {
    "duration": 10,
    "start_time": "2023-03-08T20:48:15.977Z"
   },
   {
    "duration": 152,
    "start_time": "2023-03-08T20:48:15.988Z"
   },
   {
    "duration": 5,
    "start_time": "2023-03-08T20:48:16.142Z"
   },
   {
    "duration": 161,
    "start_time": "2023-03-08T20:48:16.149Z"
   },
   {
    "duration": 4,
    "start_time": "2023-03-08T20:48:16.312Z"
   },
   {
    "duration": 224,
    "start_time": "2023-03-08T20:48:16.318Z"
   },
   {
    "duration": 157,
    "start_time": "2023-03-08T20:48:16.543Z"
   },
   {
    "duration": 5,
    "start_time": "2023-03-08T20:48:16.702Z"
   },
   {
    "duration": 32,
    "start_time": "2023-03-08T20:48:16.709Z"
   },
   {
    "duration": 10,
    "start_time": "2023-03-08T20:48:16.742Z"
   },
   {
    "duration": 7,
    "start_time": "2023-03-08T20:48:16.753Z"
   },
   {
    "duration": 3,
    "start_time": "2023-03-08T20:48:16.762Z"
   },
   {
    "duration": 8,
    "start_time": "2023-03-08T20:48:16.766Z"
   },
   {
    "duration": 21,
    "start_time": "2023-03-08T20:48:16.775Z"
   },
   {
    "duration": 13,
    "start_time": "2023-03-08T20:48:16.798Z"
   },
   {
    "duration": 6,
    "start_time": "2023-03-08T20:50:32.243Z"
   },
   {
    "duration": 20,
    "start_time": "2023-03-08T20:54:12.698Z"
   },
   {
    "duration": 7,
    "start_time": "2023-03-08T20:54:15.379Z"
   },
   {
    "duration": 6,
    "start_time": "2023-03-08T20:54:21.674Z"
   },
   {
    "duration": 6,
    "start_time": "2023-03-08T20:54:32.020Z"
   },
   {
    "duration": 4,
    "start_time": "2023-03-08T20:55:41.939Z"
   },
   {
    "duration": 5,
    "start_time": "2023-03-08T20:56:11.770Z"
   },
   {
    "duration": 190,
    "start_time": "2023-03-08T20:59:18.022Z"
   },
   {
    "duration": 4,
    "start_time": "2023-03-08T20:59:35.066Z"
   },
   {
    "duration": 10,
    "start_time": "2023-03-08T21:00:57.787Z"
   },
   {
    "duration": 5,
    "start_time": "2023-03-08T21:01:02.175Z"
   },
   {
    "duration": 5,
    "start_time": "2023-03-08T21:01:24.016Z"
   },
   {
    "duration": 6,
    "start_time": "2023-03-08T21:02:55.999Z"
   },
   {
    "duration": 5,
    "start_time": "2023-03-08T21:03:00.644Z"
   },
   {
    "duration": 6,
    "start_time": "2023-03-08T21:03:13.977Z"
   },
   {
    "duration": 38,
    "start_time": "2023-03-08T21:03:57.207Z"
   },
   {
    "duration": 6,
    "start_time": "2023-03-08T21:04:04.784Z"
   },
   {
    "duration": 6,
    "start_time": "2023-03-08T21:04:13.669Z"
   },
   {
    "duration": 10,
    "start_time": "2023-03-08T21:09:06.867Z"
   },
   {
    "duration": 9,
    "start_time": "2023-03-08T21:09:44.238Z"
   },
   {
    "duration": 6,
    "start_time": "2023-03-08T21:09:56.623Z"
   },
   {
    "duration": 7,
    "start_time": "2023-03-08T21:13:47.170Z"
   },
   {
    "duration": 41,
    "start_time": "2023-03-08T21:23:02.402Z"
   },
   {
    "duration": 6,
    "start_time": "2023-03-08T21:29:05.337Z"
   },
   {
    "duration": 6,
    "start_time": "2023-03-08T21:29:21.398Z"
   },
   {
    "duration": 6,
    "start_time": "2023-03-08T21:29:26.967Z"
   },
   {
    "duration": 7,
    "start_time": "2023-03-08T21:29:36.933Z"
   },
   {
    "duration": 8,
    "start_time": "2023-03-08T21:29:49.295Z"
   },
   {
    "duration": 7,
    "start_time": "2023-03-08T21:29:59.880Z"
   },
   {
    "duration": 12,
    "start_time": "2023-03-08T21:37:46.725Z"
   },
   {
    "duration": 12,
    "start_time": "2023-03-08T21:37:56.305Z"
   },
   {
    "duration": 12,
    "start_time": "2023-03-08T21:38:02.014Z"
   },
   {
    "duration": 12,
    "start_time": "2023-03-08T21:38:07.427Z"
   },
   {
    "duration": 7,
    "start_time": "2023-03-08T21:38:10.104Z"
   },
   {
    "duration": 14,
    "start_time": "2023-03-08T21:39:00.146Z"
   },
   {
    "duration": 7,
    "start_time": "2023-03-08T21:39:33.399Z"
   },
   {
    "duration": 6,
    "start_time": "2023-03-08T21:39:37.453Z"
   },
   {
    "duration": 6,
    "start_time": "2023-03-08T21:41:13.956Z"
   },
   {
    "duration": 68,
    "start_time": "2023-03-08T21:43:49.456Z"
   },
   {
    "duration": 47,
    "start_time": "2023-03-08T21:43:53.902Z"
   },
   {
    "duration": 9,
    "start_time": "2023-03-08T21:43:57.097Z"
   },
   {
    "duration": 3,
    "start_time": "2023-03-08T21:44:08.418Z"
   },
   {
    "duration": 3,
    "start_time": "2023-03-08T21:44:11.393Z"
   },
   {
    "duration": 12,
    "start_time": "2023-03-08T21:49:21.629Z"
   },
   {
    "duration": 9,
    "start_time": "2023-03-08T21:49:28.198Z"
   },
   {
    "duration": 12,
    "start_time": "2023-03-08T21:49:37.891Z"
   },
   {
    "duration": 3,
    "start_time": "2023-03-08T21:50:19.215Z"
   },
   {
    "duration": 5,
    "start_time": "2023-03-08T21:50:27.610Z"
   },
   {
    "duration": 4,
    "start_time": "2023-03-08T21:50:33.527Z"
   },
   {
    "duration": 9,
    "start_time": "2023-03-08T21:50:41.831Z"
   },
   {
    "duration": 3,
    "start_time": "2023-03-08T21:50:46.390Z"
   },
   {
    "duration": 5,
    "start_time": "2023-03-08T21:50:49.664Z"
   },
   {
    "duration": 3,
    "start_time": "2023-03-08T21:51:03.451Z"
   },
   {
    "duration": 10,
    "start_time": "2023-03-08T21:55:47.852Z"
   },
   {
    "duration": 72,
    "start_time": "2023-03-08T21:55:55.623Z"
   },
   {
    "duration": 4,
    "start_time": "2023-03-08T21:55:59.232Z"
   },
   {
    "duration": 5,
    "start_time": "2023-03-08T22:31:27.446Z"
   },
   {
    "duration": 686,
    "start_time": "2023-03-08T22:31:31.240Z"
   },
   {
    "duration": 9,
    "start_time": "2023-03-08T22:31:35.846Z"
   },
   {
    "duration": 10,
    "start_time": "2023-03-08T22:32:19.707Z"
   },
   {
    "duration": 7,
    "start_time": "2023-03-08T22:32:26.888Z"
   },
   {
    "duration": 6,
    "start_time": "2023-03-08T22:36:28.745Z"
   },
   {
    "duration": 5,
    "start_time": "2023-03-08T22:36:30.945Z"
   },
   {
    "duration": 5,
    "start_time": "2023-03-08T22:37:03.270Z"
   },
   {
    "duration": 5,
    "start_time": "2023-03-08T22:42:59.615Z"
   },
   {
    "duration": 5,
    "start_time": "2023-03-08T22:43:11.070Z"
   },
   {
    "duration": 4,
    "start_time": "2023-03-08T22:43:13.740Z"
   },
   {
    "duration": 48,
    "start_time": "2023-03-08T22:50:15.239Z"
   },
   {
    "duration": 46,
    "start_time": "2023-03-08T22:50:20.453Z"
   },
   {
    "duration": 53,
    "start_time": "2023-03-08T22:57:42.170Z"
   },
   {
    "duration": 4,
    "start_time": "2023-03-08T22:59:28.750Z"
   },
   {
    "duration": 1153,
    "start_time": "2023-03-09T07:34:39.344Z"
   },
   {
    "duration": 150,
    "start_time": "2023-03-09T07:34:40.499Z"
   },
   {
    "duration": 4,
    "start_time": "2023-03-09T07:34:40.650Z"
   },
   {
    "duration": 28,
    "start_time": "2023-03-09T07:34:40.656Z"
   },
   {
    "duration": 19,
    "start_time": "2023-03-09T07:34:40.687Z"
   },
   {
    "duration": 40,
    "start_time": "2023-03-09T07:34:40.708Z"
   },
   {
    "duration": 10,
    "start_time": "2023-03-09T07:34:40.750Z"
   },
   {
    "duration": 15,
    "start_time": "2023-03-09T07:34:40.761Z"
   },
   {
    "duration": 31,
    "start_time": "2023-03-09T07:34:40.778Z"
   },
   {
    "duration": 38,
    "start_time": "2023-03-09T07:34:40.811Z"
   },
   {
    "duration": 14,
    "start_time": "2023-03-09T07:34:40.851Z"
   },
   {
    "duration": 17,
    "start_time": "2023-03-09T07:34:40.867Z"
   },
   {
    "duration": 29,
    "start_time": "2023-03-09T07:34:40.887Z"
   },
   {
    "duration": 410,
    "start_time": "2023-03-09T07:34:40.935Z"
   },
   {
    "duration": 15,
    "start_time": "2023-03-09T07:34:41.346Z"
   },
   {
    "duration": 352,
    "start_time": "2023-03-09T07:34:41.363Z"
   },
   {
    "duration": 22,
    "start_time": "2023-03-09T07:34:41.717Z"
   },
   {
    "duration": 23,
    "start_time": "2023-03-09T07:34:41.741Z"
   },
   {
    "duration": 20,
    "start_time": "2023-03-09T07:34:41.765Z"
   },
   {
    "duration": 227,
    "start_time": "2023-03-09T07:34:41.788Z"
   },
   {
    "duration": 9,
    "start_time": "2023-03-09T07:34:42.017Z"
   },
   {
    "duration": 180,
    "start_time": "2023-03-09T07:34:42.035Z"
   },
   {
    "duration": 39,
    "start_time": "2023-03-09T07:34:42.217Z"
   },
   {
    "duration": 50,
    "start_time": "2023-03-09T07:34:42.258Z"
   },
   {
    "duration": 58,
    "start_time": "2023-03-09T07:34:42.310Z"
   },
   {
    "duration": 28,
    "start_time": "2023-03-09T07:34:42.370Z"
   },
   {
    "duration": 7,
    "start_time": "2023-03-09T07:34:42.400Z"
   },
   {
    "duration": 14,
    "start_time": "2023-03-09T07:34:42.409Z"
   },
   {
    "duration": 348,
    "start_time": "2023-03-09T07:34:42.426Z"
   },
   {
    "duration": 283,
    "start_time": "2023-03-09T07:34:42.776Z"
   },
   {
    "duration": 8,
    "start_time": "2023-03-09T07:34:43.062Z"
   },
   {
    "duration": 347,
    "start_time": "2023-03-09T07:34:43.073Z"
   },
   {
    "duration": 24,
    "start_time": "2023-03-09T07:34:43.422Z"
   },
   {
    "duration": 8,
    "start_time": "2023-03-09T07:34:43.449Z"
   },
   {
    "duration": 294,
    "start_time": "2023-03-09T07:34:43.459Z"
   },
   {
    "duration": 10,
    "start_time": "2023-03-09T07:34:43.755Z"
   },
   {
    "duration": 350,
    "start_time": "2023-03-09T07:34:43.767Z"
   },
   {
    "duration": 30,
    "start_time": "2023-03-09T07:34:44.119Z"
   },
   {
    "duration": 201,
    "start_time": "2023-03-09T07:34:44.152Z"
   },
   {
    "duration": 7,
    "start_time": "2023-03-09T07:34:44.356Z"
   },
   {
    "duration": 219,
    "start_time": "2023-03-09T07:34:44.369Z"
   },
   {
    "duration": 5,
    "start_time": "2023-03-09T07:34:44.590Z"
   },
   {
    "duration": 378,
    "start_time": "2023-03-09T07:34:44.597Z"
   },
   {
    "duration": 200,
    "start_time": "2023-03-09T07:34:44.977Z"
   },
   {
    "duration": 8,
    "start_time": "2023-03-09T07:34:45.179Z"
   },
   {
    "duration": 35,
    "start_time": "2023-03-09T07:34:45.189Z"
   },
   {
    "duration": 18,
    "start_time": "2023-03-09T07:34:45.232Z"
   },
   {
    "duration": 27,
    "start_time": "2023-03-09T07:34:45.252Z"
   },
   {
    "duration": 23,
    "start_time": "2023-03-09T07:34:45.281Z"
   },
   {
    "duration": 11,
    "start_time": "2023-03-09T07:34:45.306Z"
   },
   {
    "duration": 32,
    "start_time": "2023-03-09T07:34:45.319Z"
   },
   {
    "duration": 21,
    "start_time": "2023-03-09T07:34:45.353Z"
   },
   {
    "duration": 53,
    "start_time": "2023-03-13T13:52:43.136Z"
   }
  ],
  "kernelspec": {
   "display_name": "Python 3 (ipykernel)",
   "language": "python",
   "name": "python3"
  },
  "language_info": {
   "codemirror_mode": {
    "name": "ipython",
    "version": 3
   },
   "file_extension": ".py",
   "mimetype": "text/x-python",
   "name": "python",
   "nbconvert_exporter": "python",
   "pygments_lexer": "ipython3",
   "version": "3.9.13"
  },
  "toc": {
   "base_numbering": 1,
   "nav_menu": {},
   "number_sections": true,
   "sideBar": true,
   "skip_h1_title": true,
   "title_cell": "Table of Contents",
   "title_sidebar": "Contents",
   "toc_cell": false,
   "toc_position": {},
   "toc_section_display": true,
   "toc_window_display": false
  }
 },
 "nbformat": 4,
 "nbformat_minor": 2
}
